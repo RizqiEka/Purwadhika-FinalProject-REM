{
 "metadata": {
  "language_info": {
   "codemirror_mode": {
    "name": "ipython",
    "version": 3
   },
   "file_extension": ".py",
   "mimetype": "text/x-python",
   "name": "python",
   "nbconvert_exporter": "python",
   "pygments_lexer": "ipython3",
   "version": "3.7.6-final"
  },
  "orig_nbformat": 2,
  "kernelspec": {
   "name": "python3",
   "display_name": "Python 3"
  }
 },
 "nbformat": 4,
 "nbformat_minor": 2,
 "cells": [
  {
   "cell_type": "code",
   "execution_count": 1,
   "metadata": {
    "tags": []
   },
   "outputs": [],
   "source": [
    "#Import - Basic Library\n",
    "\n",
    "import pandas as pd\n",
    "import numpy as np\n",
    "import seaborn as sns\n",
    "import matplotlib.pyplot as plt"
   ]
  },
  {
   "cell_type": "code",
   "execution_count": 2,
   "metadata": {},
   "outputs": [],
   "source": [
    "# Import & Check - DataFrame that we will need and do basic check"
   ]
  },
  {
   "cell_type": "code",
   "execution_count": 3,
   "metadata": {},
   "outputs": [],
   "source": [
    "rdf = pd.read_csv('Zomato Restaurant DataFrame - LatLong Correct.csv', index_col=False)"
   ]
  },
  {
   "cell_type": "code",
   "execution_count": 4,
   "metadata": {},
   "outputs": [
    {
     "output_type": "execute_result",
     "data": {
      "text/plain": "     Restaurant Name Restaurant Type              Cuisine Type  \\\n0        Holy Smokes   Casual Dining  ['Grill House', 'Steak']   \n1     Pempek Megaria     Quick Bites             ['Palembang']   \n2      Tjikinii Lima   Casual Dining    ['Barat', 'Indonesia']   \n3  Gado-Gado Bon-Bin     Quick Bites                  ['Jawa']   \n4      Koffie Fictie            Kafe                  ['Kopi']   \n\n  Restaurant Area Restaurant Rating       Review Counts  Latitude   Longitude  \\\n0        Senopati               4.4        1,437 Ulasan -6.239143  106.807954   \n1          Cikini               4.3          461 Ulasan -6.199900  106.843739   \n2          Cikini               4.0          391 Ulasan -6.189802  106.837150   \n3          Cikini               4.0          177 Ulasan -6.192959  106.838377   \n4  Bekasi Selatan     Not Rated Yet  TIdak cukup Ulasan -6.272059  106.970932   \n\n                                             Website  \\\n0  https://www.zomato.com/id/jakarta/holy-smokes-...   \n1  https://www.zomato.com/id/jakarta/pempek-megar...   \n2  https://www.zomato.com/id/jakarta/tjikinii-lim...   \n3  https://www.zomato.com/id/jakarta/gado-gado-bo...   \n4  https://www.zomato.com/id/jakarta/koffie-ficti...   \n\n                                  Restaurant Address  \\\n0    Jl. Wolter Monginsidi No. 27, Senopati, Jakarta   \n1  Metropole 21, Jl. Pegangsaan Timur No. 21, Cik...   \n2          Jl. Cikini I No. 5, Cikini, Jakarta 10330   \n3                Jl. Cikini 4 No. 5, Cikini, Jakarta   \n4  Grand Galaxy Park, Ruko RSOD No. 026, Jl. Lotu...   \n\n                                        Price for 2  \\\n0  Rp500.000 untuk 2 orang (perkiraan)Tanpa alkohol   \n1                Rp70.000 untuk 2 orang (perkiraan)   \n2               Rp300.000 untuk 2 orang (perkiraan)   \n3                Rp90.000 untuk 2 orang (perkiraan)   \n4               Rp100.000 untuk 2 orang (perkiraan)   \n\n                                     Additional Info  \n0  ['Hanya Wine dan Bir', 'Di dalam ruangan', 'Wi...  \n1       ['Bawa Pulang Tersedia', 'Di dalam ruangan']  \n2  ['Bawa Pulang Tersedia', 'Area Merokok', 'Temp...  \n3       ['Bawa Pulang Tersedia', 'Di dalam ruangan']  \n4       ['Bawa Pulang Tersedia', 'Di dalam ruangan']  ",
      "text/html": "<div>\n<style scoped>\n    .dataframe tbody tr th:only-of-type {\n        vertical-align: middle;\n    }\n\n    .dataframe tbody tr th {\n        vertical-align: top;\n    }\n\n    .dataframe thead th {\n        text-align: right;\n    }\n</style>\n<table border=\"1\" class=\"dataframe\">\n  <thead>\n    <tr style=\"text-align: right;\">\n      <th></th>\n      <th>Restaurant Name</th>\n      <th>Restaurant Type</th>\n      <th>Cuisine Type</th>\n      <th>Restaurant Area</th>\n      <th>Restaurant Rating</th>\n      <th>Review Counts</th>\n      <th>Latitude</th>\n      <th>Longitude</th>\n      <th>Website</th>\n      <th>Restaurant Address</th>\n      <th>Price for 2</th>\n      <th>Additional Info</th>\n    </tr>\n  </thead>\n  <tbody>\n    <tr>\n      <th>0</th>\n      <td>Holy Smokes</td>\n      <td>Casual Dining</td>\n      <td>['Grill House', 'Steak']</td>\n      <td>Senopati</td>\n      <td>4.4</td>\n      <td>1,437 Ulasan</td>\n      <td>-6.239143</td>\n      <td>106.807954</td>\n      <td>https://www.zomato.com/id/jakarta/holy-smokes-...</td>\n      <td>Jl. Wolter Monginsidi No. 27, Senopati, Jakarta</td>\n      <td>Rp500.000 untuk 2 orang (perkiraan)Tanpa alkohol</td>\n      <td>['Hanya Wine dan Bir', 'Di dalam ruangan', 'Wi...</td>\n    </tr>\n    <tr>\n      <th>1</th>\n      <td>Pempek Megaria</td>\n      <td>Quick Bites</td>\n      <td>['Palembang']</td>\n      <td>Cikini</td>\n      <td>4.3</td>\n      <td>461 Ulasan</td>\n      <td>-6.199900</td>\n      <td>106.843739</td>\n      <td>https://www.zomato.com/id/jakarta/pempek-megar...</td>\n      <td>Metropole 21, Jl. Pegangsaan Timur No. 21, Cik...</td>\n      <td>Rp70.000 untuk 2 orang (perkiraan)</td>\n      <td>['Bawa Pulang Tersedia', 'Di dalam ruangan']</td>\n    </tr>\n    <tr>\n      <th>2</th>\n      <td>Tjikinii Lima</td>\n      <td>Casual Dining</td>\n      <td>['Barat', 'Indonesia']</td>\n      <td>Cikini</td>\n      <td>4.0</td>\n      <td>391 Ulasan</td>\n      <td>-6.189802</td>\n      <td>106.837150</td>\n      <td>https://www.zomato.com/id/jakarta/tjikinii-lim...</td>\n      <td>Jl. Cikini I No. 5, Cikini, Jakarta 10330</td>\n      <td>Rp300.000 untuk 2 orang (perkiraan)</td>\n      <td>['Bawa Pulang Tersedia', 'Area Merokok', 'Temp...</td>\n    </tr>\n    <tr>\n      <th>3</th>\n      <td>Gado-Gado Bon-Bin</td>\n      <td>Quick Bites</td>\n      <td>['Jawa']</td>\n      <td>Cikini</td>\n      <td>4.0</td>\n      <td>177 Ulasan</td>\n      <td>-6.192959</td>\n      <td>106.838377</td>\n      <td>https://www.zomato.com/id/jakarta/gado-gado-bo...</td>\n      <td>Jl. Cikini 4 No. 5, Cikini, Jakarta</td>\n      <td>Rp90.000 untuk 2 orang (perkiraan)</td>\n      <td>['Bawa Pulang Tersedia', 'Di dalam ruangan']</td>\n    </tr>\n    <tr>\n      <th>4</th>\n      <td>Koffie Fictie</td>\n      <td>Kafe</td>\n      <td>['Kopi']</td>\n      <td>Bekasi Selatan</td>\n      <td>Not Rated Yet</td>\n      <td>TIdak cukup Ulasan</td>\n      <td>-6.272059</td>\n      <td>106.970932</td>\n      <td>https://www.zomato.com/id/jakarta/koffie-ficti...</td>\n      <td>Grand Galaxy Park, Ruko RSOD No. 026, Jl. Lotu...</td>\n      <td>Rp100.000 untuk 2 orang (perkiraan)</td>\n      <td>['Bawa Pulang Tersedia', 'Di dalam ruangan']</td>\n    </tr>\n  </tbody>\n</table>\n</div>"
     },
     "metadata": {},
     "execution_count": 4
    }
   ],
   "source": [
    "rdf.head()"
   ]
  },
  {
   "cell_type": "code",
   "execution_count": 5,
   "metadata": {},
   "outputs": [
    {
     "output_type": "execute_result",
     "data": {
      "text/plain": "(11267, 12)"
     },
     "metadata": {},
     "execution_count": 5
    }
   ],
   "source": [
    "rdf.shape"
   ]
  },
  {
   "cell_type": "code",
   "execution_count": 6,
   "metadata": {},
   "outputs": [],
   "source": [
    "gdf = pd.read_csv('Zomato Restaurant DataFrame - Reverse Geocoding 2.csv', index_col=False)"
   ]
  },
  {
   "cell_type": "code",
   "execution_count": 7,
   "metadata": {},
   "outputs": [
    {
     "output_type": "execute_result",
     "data": {
      "text/plain": "     Restaurant Name Restaurant Area  \\\n0        Holy Smokes        Senopati   \n1     Pempek Megaria          Cikini   \n2      Tjikinii Lima          Cikini   \n3  Gado-Gado Bon-Bin          Cikini   \n4      Koffie Fictie  Bekasi Selatan   \n\n                                  Restaurant Address  Latitude   Longitude  \\\n0    Jl. Wolter Monginsidi No. 27, Senopati, Jakarta -6.239143  106.807954   \n1  Metropole 21, Jl. Pegangsaan Timur No. 21, Cik... -6.199900  106.843739   \n2          Jl. Cikini I No. 5, Cikini, Jakarta 10330 -6.189802  106.837150   \n3                Jl. Cikini 4 No. 5, Cikini, Jakarta -6.192959  106.838377   \n4  Grand Galaxy Park, Ruko RSOD No. 026, Jl. Lotu... -6.272059  106.970932   \n\n      Province             City District/Kecamatan  \n0  DKI Jakarta  Jakarta Selatan     Kebayoran Baru  \n1  DKI Jakarta    Jakarta Pusat            Menteng  \n2  DKI Jakarta    Jakarta Pusat            Menteng  \n3  DKI Jakarta    Jakarta Pusat            Menteng  \n4   Jawa Barat      Bekasi Kota     Bekasi Selatan  ",
      "text/html": "<div>\n<style scoped>\n    .dataframe tbody tr th:only-of-type {\n        vertical-align: middle;\n    }\n\n    .dataframe tbody tr th {\n        vertical-align: top;\n    }\n\n    .dataframe thead th {\n        text-align: right;\n    }\n</style>\n<table border=\"1\" class=\"dataframe\">\n  <thead>\n    <tr style=\"text-align: right;\">\n      <th></th>\n      <th>Restaurant Name</th>\n      <th>Restaurant Area</th>\n      <th>Restaurant Address</th>\n      <th>Latitude</th>\n      <th>Longitude</th>\n      <th>Province</th>\n      <th>City</th>\n      <th>District/Kecamatan</th>\n    </tr>\n  </thead>\n  <tbody>\n    <tr>\n      <th>0</th>\n      <td>Holy Smokes</td>\n      <td>Senopati</td>\n      <td>Jl. Wolter Monginsidi No. 27, Senopati, Jakarta</td>\n      <td>-6.239143</td>\n      <td>106.807954</td>\n      <td>DKI Jakarta</td>\n      <td>Jakarta Selatan</td>\n      <td>Kebayoran Baru</td>\n    </tr>\n    <tr>\n      <th>1</th>\n      <td>Pempek Megaria</td>\n      <td>Cikini</td>\n      <td>Metropole 21, Jl. Pegangsaan Timur No. 21, Cik...</td>\n      <td>-6.199900</td>\n      <td>106.843739</td>\n      <td>DKI Jakarta</td>\n      <td>Jakarta Pusat</td>\n      <td>Menteng</td>\n    </tr>\n    <tr>\n      <th>2</th>\n      <td>Tjikinii Lima</td>\n      <td>Cikini</td>\n      <td>Jl. Cikini I No. 5, Cikini, Jakarta 10330</td>\n      <td>-6.189802</td>\n      <td>106.837150</td>\n      <td>DKI Jakarta</td>\n      <td>Jakarta Pusat</td>\n      <td>Menteng</td>\n    </tr>\n    <tr>\n      <th>3</th>\n      <td>Gado-Gado Bon-Bin</td>\n      <td>Cikini</td>\n      <td>Jl. Cikini 4 No. 5, Cikini, Jakarta</td>\n      <td>-6.192959</td>\n      <td>106.838377</td>\n      <td>DKI Jakarta</td>\n      <td>Jakarta Pusat</td>\n      <td>Menteng</td>\n    </tr>\n    <tr>\n      <th>4</th>\n      <td>Koffie Fictie</td>\n      <td>Bekasi Selatan</td>\n      <td>Grand Galaxy Park, Ruko RSOD No. 026, Jl. Lotu...</td>\n      <td>-6.272059</td>\n      <td>106.970932</td>\n      <td>Jawa Barat</td>\n      <td>Bekasi Kota</td>\n      <td>Bekasi Selatan</td>\n    </tr>\n  </tbody>\n</table>\n</div>"
     },
     "metadata": {},
     "execution_count": 7
    }
   ],
   "source": [
    "gdf.head()"
   ]
  },
  {
   "cell_type": "code",
   "execution_count": 8,
   "metadata": {},
   "outputs": [
    {
     "output_type": "execute_result",
     "data": {
      "text/plain": "(11267, 8)"
     },
     "metadata": {},
     "execution_count": 8
    }
   ],
   "source": [
    "gdf.shape"
   ]
  },
  {
   "source": [
    "# 1. COMBINE RESTAURANT DATAFRAME WITH REVERSE GECODING DATAFRAME"
   ],
   "cell_type": "markdown",
   "metadata": {}
  },
  {
   "cell_type": "code",
   "execution_count": 9,
   "metadata": {},
   "outputs": [],
   "source": [
    "# Before we combine RDF and GDF, let's delete unnecessary data from GDF (since we're combining index-basis)\n",
    "gdf.drop(['Latitude','Longitude','Restaurant Name', 'Restaurant Area', 'Restaurant Address'],axis=1, inplace=True)"
   ]
  },
  {
   "cell_type": "code",
   "execution_count": 10,
   "metadata": {},
   "outputs": [],
   "source": [
    "#Combine DataFrame\n",
    "rdf = rdf.join(gdf)"
   ]
  },
  {
   "cell_type": "code",
   "execution_count": 11,
   "metadata": {},
   "outputs": [
    {
     "output_type": "execute_result",
     "data": {
      "text/plain": "     Restaurant Name Restaurant Type              Cuisine Type  \\\n0        Holy Smokes   Casual Dining  ['Grill House', 'Steak']   \n1     Pempek Megaria     Quick Bites             ['Palembang']   \n2      Tjikinii Lima   Casual Dining    ['Barat', 'Indonesia']   \n3  Gado-Gado Bon-Bin     Quick Bites                  ['Jawa']   \n4      Koffie Fictie            Kafe                  ['Kopi']   \n\n  Restaurant Area Restaurant Rating       Review Counts  Latitude   Longitude  \\\n0        Senopati               4.4        1,437 Ulasan -6.239143  106.807954   \n1          Cikini               4.3          461 Ulasan -6.199900  106.843739   \n2          Cikini               4.0          391 Ulasan -6.189802  106.837150   \n3          Cikini               4.0          177 Ulasan -6.192959  106.838377   \n4  Bekasi Selatan     Not Rated Yet  TIdak cukup Ulasan -6.272059  106.970932   \n\n                                             Website  \\\n0  https://www.zomato.com/id/jakarta/holy-smokes-...   \n1  https://www.zomato.com/id/jakarta/pempek-megar...   \n2  https://www.zomato.com/id/jakarta/tjikinii-lim...   \n3  https://www.zomato.com/id/jakarta/gado-gado-bo...   \n4  https://www.zomato.com/id/jakarta/koffie-ficti...   \n\n                                  Restaurant Address  \\\n0    Jl. Wolter Monginsidi No. 27, Senopati, Jakarta   \n1  Metropole 21, Jl. Pegangsaan Timur No. 21, Cik...   \n2          Jl. Cikini I No. 5, Cikini, Jakarta 10330   \n3                Jl. Cikini 4 No. 5, Cikini, Jakarta   \n4  Grand Galaxy Park, Ruko RSOD No. 026, Jl. Lotu...   \n\n                                        Price for 2  \\\n0  Rp500.000 untuk 2 orang (perkiraan)Tanpa alkohol   \n1                Rp70.000 untuk 2 orang (perkiraan)   \n2               Rp300.000 untuk 2 orang (perkiraan)   \n3                Rp90.000 untuk 2 orang (perkiraan)   \n4               Rp100.000 untuk 2 orang (perkiraan)   \n\n                                     Additional Info     Province  \\\n0  ['Hanya Wine dan Bir', 'Di dalam ruangan', 'Wi...  DKI Jakarta   \n1       ['Bawa Pulang Tersedia', 'Di dalam ruangan']  DKI Jakarta   \n2  ['Bawa Pulang Tersedia', 'Area Merokok', 'Temp...  DKI Jakarta   \n3       ['Bawa Pulang Tersedia', 'Di dalam ruangan']  DKI Jakarta   \n4       ['Bawa Pulang Tersedia', 'Di dalam ruangan']   Jawa Barat   \n\n              City District/Kecamatan  \n0  Jakarta Selatan     Kebayoran Baru  \n1    Jakarta Pusat            Menteng  \n2    Jakarta Pusat            Menteng  \n3    Jakarta Pusat            Menteng  \n4      Bekasi Kota     Bekasi Selatan  ",
      "text/html": "<div>\n<style scoped>\n    .dataframe tbody tr th:only-of-type {\n        vertical-align: middle;\n    }\n\n    .dataframe tbody tr th {\n        vertical-align: top;\n    }\n\n    .dataframe thead th {\n        text-align: right;\n    }\n</style>\n<table border=\"1\" class=\"dataframe\">\n  <thead>\n    <tr style=\"text-align: right;\">\n      <th></th>\n      <th>Restaurant Name</th>\n      <th>Restaurant Type</th>\n      <th>Cuisine Type</th>\n      <th>Restaurant Area</th>\n      <th>Restaurant Rating</th>\n      <th>Review Counts</th>\n      <th>Latitude</th>\n      <th>Longitude</th>\n      <th>Website</th>\n      <th>Restaurant Address</th>\n      <th>Price for 2</th>\n      <th>Additional Info</th>\n      <th>Province</th>\n      <th>City</th>\n      <th>District/Kecamatan</th>\n    </tr>\n  </thead>\n  <tbody>\n    <tr>\n      <th>0</th>\n      <td>Holy Smokes</td>\n      <td>Casual Dining</td>\n      <td>['Grill House', 'Steak']</td>\n      <td>Senopati</td>\n      <td>4.4</td>\n      <td>1,437 Ulasan</td>\n      <td>-6.239143</td>\n      <td>106.807954</td>\n      <td>https://www.zomato.com/id/jakarta/holy-smokes-...</td>\n      <td>Jl. Wolter Monginsidi No. 27, Senopati, Jakarta</td>\n      <td>Rp500.000 untuk 2 orang (perkiraan)Tanpa alkohol</td>\n      <td>['Hanya Wine dan Bir', 'Di dalam ruangan', 'Wi...</td>\n      <td>DKI Jakarta</td>\n      <td>Jakarta Selatan</td>\n      <td>Kebayoran Baru</td>\n    </tr>\n    <tr>\n      <th>1</th>\n      <td>Pempek Megaria</td>\n      <td>Quick Bites</td>\n      <td>['Palembang']</td>\n      <td>Cikini</td>\n      <td>4.3</td>\n      <td>461 Ulasan</td>\n      <td>-6.199900</td>\n      <td>106.843739</td>\n      <td>https://www.zomato.com/id/jakarta/pempek-megar...</td>\n      <td>Metropole 21, Jl. Pegangsaan Timur No. 21, Cik...</td>\n      <td>Rp70.000 untuk 2 orang (perkiraan)</td>\n      <td>['Bawa Pulang Tersedia', 'Di dalam ruangan']</td>\n      <td>DKI Jakarta</td>\n      <td>Jakarta Pusat</td>\n      <td>Menteng</td>\n    </tr>\n    <tr>\n      <th>2</th>\n      <td>Tjikinii Lima</td>\n      <td>Casual Dining</td>\n      <td>['Barat', 'Indonesia']</td>\n      <td>Cikini</td>\n      <td>4.0</td>\n      <td>391 Ulasan</td>\n      <td>-6.189802</td>\n      <td>106.837150</td>\n      <td>https://www.zomato.com/id/jakarta/tjikinii-lim...</td>\n      <td>Jl. Cikini I No. 5, Cikini, Jakarta 10330</td>\n      <td>Rp300.000 untuk 2 orang (perkiraan)</td>\n      <td>['Bawa Pulang Tersedia', 'Area Merokok', 'Temp...</td>\n      <td>DKI Jakarta</td>\n      <td>Jakarta Pusat</td>\n      <td>Menteng</td>\n    </tr>\n    <tr>\n      <th>3</th>\n      <td>Gado-Gado Bon-Bin</td>\n      <td>Quick Bites</td>\n      <td>['Jawa']</td>\n      <td>Cikini</td>\n      <td>4.0</td>\n      <td>177 Ulasan</td>\n      <td>-6.192959</td>\n      <td>106.838377</td>\n      <td>https://www.zomato.com/id/jakarta/gado-gado-bo...</td>\n      <td>Jl. Cikini 4 No. 5, Cikini, Jakarta</td>\n      <td>Rp90.000 untuk 2 orang (perkiraan)</td>\n      <td>['Bawa Pulang Tersedia', 'Di dalam ruangan']</td>\n      <td>DKI Jakarta</td>\n      <td>Jakarta Pusat</td>\n      <td>Menteng</td>\n    </tr>\n    <tr>\n      <th>4</th>\n      <td>Koffie Fictie</td>\n      <td>Kafe</td>\n      <td>['Kopi']</td>\n      <td>Bekasi Selatan</td>\n      <td>Not Rated Yet</td>\n      <td>TIdak cukup Ulasan</td>\n      <td>-6.272059</td>\n      <td>106.970932</td>\n      <td>https://www.zomato.com/id/jakarta/koffie-ficti...</td>\n      <td>Grand Galaxy Park, Ruko RSOD No. 026, Jl. Lotu...</td>\n      <td>Rp100.000 untuk 2 orang (perkiraan)</td>\n      <td>['Bawa Pulang Tersedia', 'Di dalam ruangan']</td>\n      <td>Jawa Barat</td>\n      <td>Bekasi Kota</td>\n      <td>Bekasi Selatan</td>\n    </tr>\n  </tbody>\n</table>\n</div>"
     },
     "metadata": {},
     "execution_count": 11
    }
   ],
   "source": [
    "rdf.head()"
   ]
  },
  {
   "cell_type": "code",
   "execution_count": null,
   "metadata": {},
   "outputs": [],
   "source": []
  },
  {
   "cell_type": "markdown",
   "metadata": {},
   "source": [
    "# 2. EXPLORE RESTAURANT TYPE and CUISINE TYPE"
   ]
  },
  {
   "cell_type": "code",
   "execution_count": 12,
   "metadata": {
    "tags": []
   },
   "outputs": [
    {
     "output_type": "execute_result",
     "data": {
      "text/plain": "array(['Casual Dining', 'Quick Bites', 'Kafe', 'Kios', 'Food Court',\n       'Lounge', 'Toko Minuman', 'Kaki Lima', 'Toko Kue & Roti',\n       'Dessert Parlor', 'Bar', 'Juice Bar', 'Fine Dining', 'Kue & Roti',\n       'Bar Wine', 'Pub', 'Klub'], dtype=object)"
     },
     "metadata": {},
     "execution_count": 12
    }
   ],
   "source": [
    "#Check - Unique Values of Restaurant Type\n",
    "\n",
    "rdf['Restaurant Type'].unique()"
   ]
  },
  {
   "cell_type": "code",
   "execution_count": 13,
   "metadata": {},
   "outputs": [
    {
     "output_type": "execute_result",
     "data": {
      "text/plain": "17"
     },
     "metadata": {},
     "execution_count": 13
    }
   ],
   "source": [
    "#Check - Number of Unique Values of Restaurant Type\n",
    "\n",
    "rdf['Restaurant Type'].nunique()"
   ]
  },
  {
   "source": [
    "#Check - Number of Unique Values of Cuisine Types\n",
    "\n",
    "rdf['Cuisine Type'].nunique()\n",
    "\n",
    "#Looks like we can't use this method to check number of unique values"
   ],
   "cell_type": "code",
   "metadata": {},
   "execution_count": 14,
   "outputs": [
    {
     "output_type": "execute_result",
     "data": {
      "text/plain": "1834"
     },
     "metadata": {},
     "execution_count": 14
    }
   ]
  },
  {
   "cell_type": "code",
   "execution_count": 15,
   "metadata": {},
   "outputs": [],
   "source": [
    "#Let's make a function to convert a given string with \",\" to a list contains those splitted string\n",
    "\n",
    "def convert_str_list(string): \n",
    "    l_strip = string.strip(\"[]\")\n",
    "    l_split = list(l_strip.split(\", \")) \n",
    "    l_final = [letter.strip(\"'\") for letter in l_split]\n",
    "    return l_final"
   ]
  },
  {
   "cell_type": "code",
   "execution_count": 16,
   "metadata": {},
   "outputs": [],
   "source": [
    "#Let's calculate the amount of restaurant (places + cuisines) types by looping through RDF\n",
    "\n",
    "rest_type = []\n",
    "\n",
    "for index, row in rdf.iterrows():\n",
    "    cse_string = row['Cuisine Type']\n",
    "    cse_list = convert_str_list(cse_string)\n",
    "    rest_string = row['Restaurant Type']\n",
    "    cse_list = [rest_string] + cse_list\n",
    "    rest_type.extend(cse_list)\n",
    "\n",
    "rest_type = list(set(rest_type))"
   ]
  },
  {
   "cell_type": "code",
   "execution_count": 17,
   "metadata": {},
   "outputs": [
    {
     "output_type": "execute_result",
     "data": {
      "text/plain": "104"
     },
     "metadata": {},
     "execution_count": 17
    }
   ],
   "source": [
    "len(rest_type)"
   ]
  },
  {
   "source": [
    "### From Observing Zomato Website more thorougly with a lot of websites, we realized that we've made a mistake in scraping the data.\n",
    "\n",
    "\n",
    "### Before,\n",
    "\n",
    "We Get Restaurant Type by scraping the First Entry of Restaurant Category Information Line\n",
    "\n",
    "We Get Cuisine Types by scraping the Second, Third, nth Entry of Restaurant Category Information Line\n",
    "\n",
    "\n",
    "\n",
    "### In Reality,\n",
    "\n",
    "Restaurant Type can be more than 1 for each restaurant\n",
    "\n",
    "\n",
    "So let's first combine the Restaurant Type and Cuisine Types to a single Features, then we separates it again by Categories given by Zomato"
   ],
   "cell_type": "markdown",
   "metadata": {}
  },
  {
   "cell_type": "code",
   "execution_count": 18,
   "metadata": {},
   "outputs": [],
   "source": [
    "def combine_type(row): \n",
    "    l_strip = row['Cuisine Type'].strip(\"[]\")\n",
    "    l_split = list(l_strip.split(\", \"))\n",
    "    l_first = row['Restaurant Type']\n",
    "    l_final = [letter.strip(\"'\") for letter in l_split]\n",
    "    l_final = [l_first] + l_final\n",
    "    return l_final"
   ]
  },
  {
   "cell_type": "code",
   "execution_count": 19,
   "metadata": {},
   "outputs": [],
   "source": [
    "rdf['Types'] = rdf.apply(lambda row: combine_type(row), axis=1)"
   ]
  },
  {
   "cell_type": "code",
   "execution_count": 20,
   "metadata": {},
   "outputs": [],
   "source": [
    "rdf.drop(['Restaurant Type', 'Cuisine Type'], axis=1, inplace=True)"
   ]
  },
  {
   "cell_type": "code",
   "execution_count": 21,
   "metadata": {},
   "outputs": [
    {
     "output_type": "execute_result",
     "data": {
      "text/plain": "     Restaurant Name Restaurant Area Restaurant Rating       Review Counts  \\\n0        Holy Smokes        Senopati               4.4        1,437 Ulasan   \n1     Pempek Megaria          Cikini               4.3          461 Ulasan   \n2      Tjikinii Lima          Cikini               4.0          391 Ulasan   \n3  Gado-Gado Bon-Bin          Cikini               4.0          177 Ulasan   \n4      Koffie Fictie  Bekasi Selatan     Not Rated Yet  TIdak cukup Ulasan   \n\n   Latitude   Longitude                                            Website  \\\n0 -6.239143  106.807954  https://www.zomato.com/id/jakarta/holy-smokes-...   \n1 -6.199900  106.843739  https://www.zomato.com/id/jakarta/pempek-megar...   \n2 -6.189802  106.837150  https://www.zomato.com/id/jakarta/tjikinii-lim...   \n3 -6.192959  106.838377  https://www.zomato.com/id/jakarta/gado-gado-bo...   \n4 -6.272059  106.970932  https://www.zomato.com/id/jakarta/koffie-ficti...   \n\n                                  Restaurant Address  \\\n0    Jl. Wolter Monginsidi No. 27, Senopati, Jakarta   \n1  Metropole 21, Jl. Pegangsaan Timur No. 21, Cik...   \n2          Jl. Cikini I No. 5, Cikini, Jakarta 10330   \n3                Jl. Cikini 4 No. 5, Cikini, Jakarta   \n4  Grand Galaxy Park, Ruko RSOD No. 026, Jl. Lotu...   \n\n                                        Price for 2  \\\n0  Rp500.000 untuk 2 orang (perkiraan)Tanpa alkohol   \n1                Rp70.000 untuk 2 orang (perkiraan)   \n2               Rp300.000 untuk 2 orang (perkiraan)   \n3                Rp90.000 untuk 2 orang (perkiraan)   \n4               Rp100.000 untuk 2 orang (perkiraan)   \n\n                                     Additional Info     Province  \\\n0  ['Hanya Wine dan Bir', 'Di dalam ruangan', 'Wi...  DKI Jakarta   \n1       ['Bawa Pulang Tersedia', 'Di dalam ruangan']  DKI Jakarta   \n2  ['Bawa Pulang Tersedia', 'Area Merokok', 'Temp...  DKI Jakarta   \n3       ['Bawa Pulang Tersedia', 'Di dalam ruangan']  DKI Jakarta   \n4       ['Bawa Pulang Tersedia', 'Di dalam ruangan']   Jawa Barat   \n\n              City District/Kecamatan                                Types  \n0  Jakarta Selatan     Kebayoran Baru  [Casual Dining, Grill House, Steak]  \n1    Jakarta Pusat            Menteng             [Quick Bites, Palembang]  \n2    Jakarta Pusat            Menteng    [Casual Dining, Barat, Indonesia]  \n3    Jakarta Pusat            Menteng                  [Quick Bites, Jawa]  \n4      Bekasi Kota     Bekasi Selatan                         [Kafe, Kopi]  ",
      "text/html": "<div>\n<style scoped>\n    .dataframe tbody tr th:only-of-type {\n        vertical-align: middle;\n    }\n\n    .dataframe tbody tr th {\n        vertical-align: top;\n    }\n\n    .dataframe thead th {\n        text-align: right;\n    }\n</style>\n<table border=\"1\" class=\"dataframe\">\n  <thead>\n    <tr style=\"text-align: right;\">\n      <th></th>\n      <th>Restaurant Name</th>\n      <th>Restaurant Area</th>\n      <th>Restaurant Rating</th>\n      <th>Review Counts</th>\n      <th>Latitude</th>\n      <th>Longitude</th>\n      <th>Website</th>\n      <th>Restaurant Address</th>\n      <th>Price for 2</th>\n      <th>Additional Info</th>\n      <th>Province</th>\n      <th>City</th>\n      <th>District/Kecamatan</th>\n      <th>Types</th>\n    </tr>\n  </thead>\n  <tbody>\n    <tr>\n      <th>0</th>\n      <td>Holy Smokes</td>\n      <td>Senopati</td>\n      <td>4.4</td>\n      <td>1,437 Ulasan</td>\n      <td>-6.239143</td>\n      <td>106.807954</td>\n      <td>https://www.zomato.com/id/jakarta/holy-smokes-...</td>\n      <td>Jl. Wolter Monginsidi No. 27, Senopati, Jakarta</td>\n      <td>Rp500.000 untuk 2 orang (perkiraan)Tanpa alkohol</td>\n      <td>['Hanya Wine dan Bir', 'Di dalam ruangan', 'Wi...</td>\n      <td>DKI Jakarta</td>\n      <td>Jakarta Selatan</td>\n      <td>Kebayoran Baru</td>\n      <td>[Casual Dining, Grill House, Steak]</td>\n    </tr>\n    <tr>\n      <th>1</th>\n      <td>Pempek Megaria</td>\n      <td>Cikini</td>\n      <td>4.3</td>\n      <td>461 Ulasan</td>\n      <td>-6.199900</td>\n      <td>106.843739</td>\n      <td>https://www.zomato.com/id/jakarta/pempek-megar...</td>\n      <td>Metropole 21, Jl. Pegangsaan Timur No. 21, Cik...</td>\n      <td>Rp70.000 untuk 2 orang (perkiraan)</td>\n      <td>['Bawa Pulang Tersedia', 'Di dalam ruangan']</td>\n      <td>DKI Jakarta</td>\n      <td>Jakarta Pusat</td>\n      <td>Menteng</td>\n      <td>[Quick Bites, Palembang]</td>\n    </tr>\n    <tr>\n      <th>2</th>\n      <td>Tjikinii Lima</td>\n      <td>Cikini</td>\n      <td>4.0</td>\n      <td>391 Ulasan</td>\n      <td>-6.189802</td>\n      <td>106.837150</td>\n      <td>https://www.zomato.com/id/jakarta/tjikinii-lim...</td>\n      <td>Jl. Cikini I No. 5, Cikini, Jakarta 10330</td>\n      <td>Rp300.000 untuk 2 orang (perkiraan)</td>\n      <td>['Bawa Pulang Tersedia', 'Area Merokok', 'Temp...</td>\n      <td>DKI Jakarta</td>\n      <td>Jakarta Pusat</td>\n      <td>Menteng</td>\n      <td>[Casual Dining, Barat, Indonesia]</td>\n    </tr>\n    <tr>\n      <th>3</th>\n      <td>Gado-Gado Bon-Bin</td>\n      <td>Cikini</td>\n      <td>4.0</td>\n      <td>177 Ulasan</td>\n      <td>-6.192959</td>\n      <td>106.838377</td>\n      <td>https://www.zomato.com/id/jakarta/gado-gado-bo...</td>\n      <td>Jl. Cikini 4 No. 5, Cikini, Jakarta</td>\n      <td>Rp90.000 untuk 2 orang (perkiraan)</td>\n      <td>['Bawa Pulang Tersedia', 'Di dalam ruangan']</td>\n      <td>DKI Jakarta</td>\n      <td>Jakarta Pusat</td>\n      <td>Menteng</td>\n      <td>[Quick Bites, Jawa]</td>\n    </tr>\n    <tr>\n      <th>4</th>\n      <td>Koffie Fictie</td>\n      <td>Bekasi Selatan</td>\n      <td>Not Rated Yet</td>\n      <td>TIdak cukup Ulasan</td>\n      <td>-6.272059</td>\n      <td>106.970932</td>\n      <td>https://www.zomato.com/id/jakarta/koffie-ficti...</td>\n      <td>Grand Galaxy Park, Ruko RSOD No. 026, Jl. Lotu...</td>\n      <td>Rp100.000 untuk 2 orang (perkiraan)</td>\n      <td>['Bawa Pulang Tersedia', 'Di dalam ruangan']</td>\n      <td>Jawa Barat</td>\n      <td>Bekasi Kota</td>\n      <td>Bekasi Selatan</td>\n      <td>[Kafe, Kopi]</td>\n    </tr>\n  </tbody>\n</table>\n</div>"
     },
     "metadata": {},
     "execution_count": 21
    }
   ],
   "source": [
    "rdf.head()"
   ]
  },
  {
   "source": [
    "# 2.1. REARRANGING RESTAURANT & CUISINES TYPE"
   ],
   "cell_type": "markdown",
   "metadata": {}
  },
  {
   "source": [
    "## 2.1.1 RESTAURANT PLACES TYPE"
   ],
   "cell_type": "markdown",
   "metadata": {}
  },
  {
   "source": [
    "Let's look at the Zomato Official Website and Observe Which Restaurant Place Types are not included:\n",
    "\n",
    "1. Bar Cocktail\n",
    "\n",
    "2. Bar Wine\n",
    "\n",
    "3. Pub\n",
    "\n",
    "4. Klub\n",
    "\n",
    "5. Lounge\n",
    "\n",
    "6. Juice Bar\n",
    "\n",
    "7. Fine Dining\n",
    "\n",
    "8. Beer Garden"
   ],
   "cell_type": "markdown",
   "metadata": {}
  },
  {
   "cell_type": "code",
   "execution_count": 22,
   "metadata": {},
   "outputs": [],
   "source": [
    "unlisted_places = ['Bar Cocktail', 'Bar Wine', 'Pub', 'Klub', 'Lounge', 'Juice Bar', 'Fine Dining', 'Beer Garden']"
   ]
  },
  {
   "cell_type": "code",
   "execution_count": 23,
   "metadata": {},
   "outputs": [],
   "source": [
    "# For All These Restaurant Places Types, let's see which types has the least amount of restaurant in Jakarta\n",
    "\n",
    "count_lst = []\n",
    "prc_lst = []\n",
    "\n",
    "for i in unlisted_places:\n",
    "    count = rdf[rdf['Types'].apply(lambda x: i in x)].shape[0]\n",
    "    prc = round((rdf[rdf['Types'].apply(lambda x: i in x)].shape[0])*100/rdf.shape[0],2)\n",
    "    count_lst.append(count)\n",
    "    prc_lst.append(prc)\n",
    "\n",
    "count_rdf = pd.DataFrame({'Rest Type': unlisted_places,'Count': count_lst, 'Perc%': prc_lst})\n",
    "count_rdf.sort_values('Count',ascending=True, inplace=True)"
   ]
  },
  {
   "cell_type": "code",
   "execution_count": 24,
   "metadata": {},
   "outputs": [
    {
     "output_type": "execute_result",
     "data": {
      "text/plain": "      Rest Type  Count  Perc%\n0  Bar Cocktail      1   0.01\n7   Beer Garden      1   0.01\n2           Pub      2   0.02\n1      Bar Wine      3   0.03\n5     Juice Bar      4   0.04\n3          Klub      9   0.08\n6   Fine Dining     55   0.49\n4        Lounge    101   0.90",
      "text/html": "<div>\n<style scoped>\n    .dataframe tbody tr th:only-of-type {\n        vertical-align: middle;\n    }\n\n    .dataframe tbody tr th {\n        vertical-align: top;\n    }\n\n    .dataframe thead th {\n        text-align: right;\n    }\n</style>\n<table border=\"1\" class=\"dataframe\">\n  <thead>\n    <tr style=\"text-align: right;\">\n      <th></th>\n      <th>Rest Type</th>\n      <th>Count</th>\n      <th>Perc%</th>\n    </tr>\n  </thead>\n  <tbody>\n    <tr>\n      <th>0</th>\n      <td>Bar Cocktail</td>\n      <td>1</td>\n      <td>0.01</td>\n    </tr>\n    <tr>\n      <th>7</th>\n      <td>Beer Garden</td>\n      <td>1</td>\n      <td>0.01</td>\n    </tr>\n    <tr>\n      <th>2</th>\n      <td>Pub</td>\n      <td>2</td>\n      <td>0.02</td>\n    </tr>\n    <tr>\n      <th>1</th>\n      <td>Bar Wine</td>\n      <td>3</td>\n      <td>0.03</td>\n    </tr>\n    <tr>\n      <th>5</th>\n      <td>Juice Bar</td>\n      <td>4</td>\n      <td>0.04</td>\n    </tr>\n    <tr>\n      <th>3</th>\n      <td>Klub</td>\n      <td>9</td>\n      <td>0.08</td>\n    </tr>\n    <tr>\n      <th>6</th>\n      <td>Fine Dining</td>\n      <td>55</td>\n      <td>0.49</td>\n    </tr>\n    <tr>\n      <th>4</th>\n      <td>Lounge</td>\n      <td>101</td>\n      <td>0.90</td>\n    </tr>\n  </tbody>\n</table>\n</div>"
     },
     "metadata": {},
     "execution_count": 24
    }
   ],
   "source": [
    "count_rdf"
   ]
  },
  {
   "source": [
    "From Previous Table, we can summarize that:\n",
    "\n",
    "1. Fine Dining & Lounge - we can make them as new Restaurant Places Type since the value counts is quite significant, and also quite different with others\n",
    "\n",
    "2. Bar Cocktail, Pub, Bar Wine, Klub - we can lump them with 'Bar' Places Type since the value counts is very small, and also quite similar with 'Bar'          ==> We'll mention this with CONDITION 1\n",
    "\n",
    "3. Beer Garden and Bar Juice Bar we need to check further"
   ],
   "cell_type": "markdown",
   "metadata": {}
  },
  {
   "cell_type": "code",
   "execution_count": 25,
   "metadata": {},
   "outputs": [
    {
     "output_type": "execute_result",
     "data": {
      "text/plain": "     Restaurant Name Restaurant Area Restaurant Rating Review Counts  \\\n6615       Reno Reno   Tanjung Duren               3.2     13 Ulasan   \n\n      Latitude   Longitude                                            Website  \\\n6615 -6.174491  106.783711  https://www.zomato.com/id/jakarta/reno-reno-ta...   \n\n                                     Restaurant Address  \\\n6615  Warung Jajan Bu Nanik, Jl. Tanjung Duren Raya ...   \n\n                             Price for 2  \\\n6615  Rp50.000 untuk 2 orang (perkiraan)   \n\n                                   Additional Info     Province  \\\n6615  ['Bawa Pulang Tersedia', 'Di dalam ruangan']  DKI Jakarta   \n\n               City District/Kecamatan                               Types  \n6615  Jakarta Barat  Grogol Petamburan  [Food Court, Beer Garden, Minuman]  ",
      "text/html": "<div>\n<style scoped>\n    .dataframe tbody tr th:only-of-type {\n        vertical-align: middle;\n    }\n\n    .dataframe tbody tr th {\n        vertical-align: top;\n    }\n\n    .dataframe thead th {\n        text-align: right;\n    }\n</style>\n<table border=\"1\" class=\"dataframe\">\n  <thead>\n    <tr style=\"text-align: right;\">\n      <th></th>\n      <th>Restaurant Name</th>\n      <th>Restaurant Area</th>\n      <th>Restaurant Rating</th>\n      <th>Review Counts</th>\n      <th>Latitude</th>\n      <th>Longitude</th>\n      <th>Website</th>\n      <th>Restaurant Address</th>\n      <th>Price for 2</th>\n      <th>Additional Info</th>\n      <th>Province</th>\n      <th>City</th>\n      <th>District/Kecamatan</th>\n      <th>Types</th>\n    </tr>\n  </thead>\n  <tbody>\n    <tr>\n      <th>6615</th>\n      <td>Reno Reno</td>\n      <td>Tanjung Duren</td>\n      <td>3.2</td>\n      <td>13 Ulasan</td>\n      <td>-6.174491</td>\n      <td>106.783711</td>\n      <td>https://www.zomato.com/id/jakarta/reno-reno-ta...</td>\n      <td>Warung Jajan Bu Nanik, Jl. Tanjung Duren Raya ...</td>\n      <td>Rp50.000 untuk 2 orang (perkiraan)</td>\n      <td>['Bawa Pulang Tersedia', 'Di dalam ruangan']</td>\n      <td>DKI Jakarta</td>\n      <td>Jakarta Barat</td>\n      <td>Grogol Petamburan</td>\n      <td>[Food Court, Beer Garden, Minuman]</td>\n    </tr>\n  </tbody>\n</table>\n</div>"
     },
     "metadata": {},
     "execution_count": 25
    }
   ],
   "source": [
    "# Check Beer Garden\n",
    "\n",
    "rdf[rdf['Types'].apply(lambda x: 'Beer Garden' in x)]"
   ]
  },
  {
   "source": [
    "From above result, if we check Reno Reno in Google, it's nowhere near 'Bar'\n",
    "\n",
    "It's located in Warung Jajan Bu Nanik.\n",
    "\n",
    "Since it also has another category, 'Food Court', it's safe for us to just delete this specific category ('Beer Garden')\n",
    "\n",
    "==> We'll mention this with CONDITION 2 for further code"
   ],
   "cell_type": "markdown",
   "metadata": {}
  },
  {
   "cell_type": "code",
   "execution_count": 26,
   "metadata": {},
   "outputs": [
    {
     "output_type": "execute_result",
     "data": {
      "text/plain": "       Restaurant Name Restaurant Area Restaurant Rating       Review Counts  \\\n1145        Juice Shop      Mangga Dua     Not Rated Yet  TIdak cukup Ulasan   \n1892       Happy Juice            Beji     Not Rated Yet  TIdak cukup Ulasan   \n4734  Healthy Juice ID        Kuningan     Not Rated Yet  TIdak cukup Ulasan   \n5100    Kaaramel Juice   Kelapa Gading     Not Rated Yet  TIdak cukup Ulasan   \n\n      Latitude   Longitude                                            Website  \\\n1145 -6.138094  106.831405  https://www.zomato.com/id/jakarta/juice-shop-1...   \n1892 -6.369875  106.833584  https://www.zomato.com/id/jakarta/happy-juice-...   \n4734 -6.223963  106.825956  https://www.zomato.com/id/jakarta/healthy-juic...   \n5100 -6.145941  106.892514  https://www.zomato.com/id/jakarta/kaaramel-jui...   \n\n                                     Restaurant Address  \\\n1145  Mangga Dua Square, Lantai 3, Food City, Jl. Gu...   \n1892             Jl. Margonda Raya No. 147, Beji, Depok   \n4734  ITC Kuningan, Lantai 2, Jl. Prof. Dr. Satrio, ...   \n5100  Mall Artha Gading, Lantai 1, Jl. Boulevard Art...   \n\n                             Price for 2  \\\n1145  Rp50.000 untuk 2 orang (perkiraan)   \n1892  Rp30.000 untuk 2 orang (perkiraan)   \n4734  Rp50.000 untuk 2 orang (perkiraan)   \n5100  Rp60.000 untuk 2 orang (perkiraan)   \n\n                                        Additional Info     Province  \\\n1145       ['Bawa Pulang Tersedia', 'Di dalam ruangan']  DKI Jakarta   \n1892       ['Bawa Pulang Tersedia', 'Di dalam ruangan']   Jawa Barat   \n4734  ['Pesan Antar', 'Bawa Pulang Tersedia', 'Di da...  DKI Jakarta   \n5100                              ['Hanya Bawa Pulang']  DKI Jakarta   \n\n                 City District/Kecamatan                         Types  \n1145    Jakarta Utara         Pademangan  [Food Court, Juice Bar, Jus]  \n1892            Depok               Beji              [Juice Bar, Jus]  \n4734  Jakarta Selatan          Setiabudi     [Juice Bar, Jus, Minuman]  \n5100    Jakarta Utara      Kelapa Gading     [Juice Bar, Minuman, Jus]  ",
      "text/html": "<div>\n<style scoped>\n    .dataframe tbody tr th:only-of-type {\n        vertical-align: middle;\n    }\n\n    .dataframe tbody tr th {\n        vertical-align: top;\n    }\n\n    .dataframe thead th {\n        text-align: right;\n    }\n</style>\n<table border=\"1\" class=\"dataframe\">\n  <thead>\n    <tr style=\"text-align: right;\">\n      <th></th>\n      <th>Restaurant Name</th>\n      <th>Restaurant Area</th>\n      <th>Restaurant Rating</th>\n      <th>Review Counts</th>\n      <th>Latitude</th>\n      <th>Longitude</th>\n      <th>Website</th>\n      <th>Restaurant Address</th>\n      <th>Price for 2</th>\n      <th>Additional Info</th>\n      <th>Province</th>\n      <th>City</th>\n      <th>District/Kecamatan</th>\n      <th>Types</th>\n    </tr>\n  </thead>\n  <tbody>\n    <tr>\n      <th>1145</th>\n      <td>Juice Shop</td>\n      <td>Mangga Dua</td>\n      <td>Not Rated Yet</td>\n      <td>TIdak cukup Ulasan</td>\n      <td>-6.138094</td>\n      <td>106.831405</td>\n      <td>https://www.zomato.com/id/jakarta/juice-shop-1...</td>\n      <td>Mangga Dua Square, Lantai 3, Food City, Jl. Gu...</td>\n      <td>Rp50.000 untuk 2 orang (perkiraan)</td>\n      <td>['Bawa Pulang Tersedia', 'Di dalam ruangan']</td>\n      <td>DKI Jakarta</td>\n      <td>Jakarta Utara</td>\n      <td>Pademangan</td>\n      <td>[Food Court, Juice Bar, Jus]</td>\n    </tr>\n    <tr>\n      <th>1892</th>\n      <td>Happy Juice</td>\n      <td>Beji</td>\n      <td>Not Rated Yet</td>\n      <td>TIdak cukup Ulasan</td>\n      <td>-6.369875</td>\n      <td>106.833584</td>\n      <td>https://www.zomato.com/id/jakarta/happy-juice-...</td>\n      <td>Jl. Margonda Raya No. 147, Beji, Depok</td>\n      <td>Rp30.000 untuk 2 orang (perkiraan)</td>\n      <td>['Bawa Pulang Tersedia', 'Di dalam ruangan']</td>\n      <td>Jawa Barat</td>\n      <td>Depok</td>\n      <td>Beji</td>\n      <td>[Juice Bar, Jus]</td>\n    </tr>\n    <tr>\n      <th>4734</th>\n      <td>Healthy Juice ID</td>\n      <td>Kuningan</td>\n      <td>Not Rated Yet</td>\n      <td>TIdak cukup Ulasan</td>\n      <td>-6.223963</td>\n      <td>106.825956</td>\n      <td>https://www.zomato.com/id/jakarta/healthy-juic...</td>\n      <td>ITC Kuningan, Lantai 2, Jl. Prof. Dr. Satrio, ...</td>\n      <td>Rp50.000 untuk 2 orang (perkiraan)</td>\n      <td>['Pesan Antar', 'Bawa Pulang Tersedia', 'Di da...</td>\n      <td>DKI Jakarta</td>\n      <td>Jakarta Selatan</td>\n      <td>Setiabudi</td>\n      <td>[Juice Bar, Jus, Minuman]</td>\n    </tr>\n    <tr>\n      <th>5100</th>\n      <td>Kaaramel Juice</td>\n      <td>Kelapa Gading</td>\n      <td>Not Rated Yet</td>\n      <td>TIdak cukup Ulasan</td>\n      <td>-6.145941</td>\n      <td>106.892514</td>\n      <td>https://www.zomato.com/id/jakarta/kaaramel-jui...</td>\n      <td>Mall Artha Gading, Lantai 1, Jl. Boulevard Art...</td>\n      <td>Rp60.000 untuk 2 orang (perkiraan)</td>\n      <td>['Hanya Bawa Pulang']</td>\n      <td>DKI Jakarta</td>\n      <td>Jakarta Utara</td>\n      <td>Kelapa Gading</td>\n      <td>[Juice Bar, Minuman, Jus]</td>\n    </tr>\n  </tbody>\n</table>\n</div>"
     },
     "metadata": {},
     "execution_count": 26
    }
   ],
   "source": [
    "# Check Beer Garden\n",
    "rdf[rdf['Types'].apply(lambda x: 'Juice Bar' in x)]"
   ]
  },
  {
   "source": [
    "From above result, we see that those places are not similar to 'Bar'\n",
    "\n",
    "Because it sell non-alcoholic drinks, let's categorize them as 'Toko Minuman'\n",
    "\n",
    "==> We'll mention this with CONDITION 3 for further code"
   ],
   "cell_type": "markdown",
   "metadata": {}
  },
  {
   "source": [
    "## 2.1.2 RESTAURANT CUISINE TYPE"
   ],
   "cell_type": "markdown",
   "metadata": {}
  },
  {
   "source": [
    "Let's look at the Zomato Official Website and Observe Which Restaurant Cuisine Types are not included:\n",
    "\n",
    "1. Makanan Cepat Saji"
   ],
   "cell_type": "markdown",
   "metadata": {}
  },
  {
   "cell_type": "code",
   "execution_count": 27,
   "metadata": {},
   "outputs": [],
   "source": [
    "unlisted_csne = ['Makanan Cepat Saji']"
   ]
  },
  {
   "cell_type": "code",
   "execution_count": 28,
   "metadata": {},
   "outputs": [],
   "source": [
    "count_lst = []\n",
    "prc_lst = []\n",
    "\n",
    "count = rdf[rdf['Types'].apply(lambda x: 'Makanan Cepat Saji' in x)].shape[0]\n",
    "prc = round((rdf[rdf['Types'].apply(lambda x: 'Makanan Cepat Saji' in x)].shape[0])*100/rdf.shape[0],2)\n",
    "count_lst.append(count)\n",
    "prc_lst.append(prc)\n",
    "\n",
    "count_rdf = pd.DataFrame({'Cuisine Type': unlisted_csne,'Count': count_lst, 'Perc%': prc_lst})"
   ]
  },
  {
   "cell_type": "code",
   "execution_count": 29,
   "metadata": {},
   "outputs": [
    {
     "output_type": "execute_result",
     "data": {
      "text/plain": "         Cuisine Type  Count  Perc%\n0  Makanan Cepat Saji    119   1.06",
      "text/html": "<div>\n<style scoped>\n    .dataframe tbody tr th:only-of-type {\n        vertical-align: middle;\n    }\n\n    .dataframe tbody tr th {\n        vertical-align: top;\n    }\n\n    .dataframe thead th {\n        text-align: right;\n    }\n</style>\n<table border=\"1\" class=\"dataframe\">\n  <thead>\n    <tr style=\"text-align: right;\">\n      <th></th>\n      <th>Cuisine Type</th>\n      <th>Count</th>\n      <th>Perc%</th>\n    </tr>\n  </thead>\n  <tbody>\n    <tr>\n      <th>0</th>\n      <td>Makanan Cepat Saji</td>\n      <td>119</td>\n      <td>1.06</td>\n    </tr>\n  </tbody>\n</table>\n</div>"
     },
     "metadata": {},
     "execution_count": 29
    }
   ],
   "source": [
    "count_rdf"
   ]
  },
  {
   "source": [
    "From Previous Table, we can summarize that:\n",
    "\n",
    "1. Makanan Cepat Saji - is quite a lot in Jakarta, so we'll make that as New Cuisine Type"
   ],
   "cell_type": "markdown",
   "metadata": {}
  },
  {
   "source": [
    "Let's look again at the Zomato Official Website and Observe a strikingly similar Cuisine Types:\n",
    "\n",
    "1. 'Cemilan' and 'Snacks'\n",
    "\n",
    "\n",
    "Those are basically the same, so we'll directly combine it\n",
    "\n",
    "==> We'll mention this with CONDITION 4 for further code"
   ],
   "cell_type": "markdown",
   "metadata": {}
  },
  {
   "cell_type": "code",
   "execution_count": 30,
   "metadata": {},
   "outputs": [],
   "source": [
    "#Make Function to Recategorize & Delete Certain Types\n",
    "\n",
    "def recategorize_type(row):\n",
    "    a = row['Types']\n",
    "    b = []\n",
    "\n",
    "    for i in a:\n",
    "        #Condition 1\n",
    "        if (i == 'Bar Cocktail') or (i == 'Bar Wine') or (i == 'Pub') or (i == 'Klub'):\n",
    "            i = 'Bar'\n",
    "\n",
    "        #Condition 3\n",
    "        if (i == 'Juice Bar'):\n",
    "            i = 'Toko Minuman'\n",
    "\n",
    "        #Condition 4\n",
    "        if i == 'Cemilan':\n",
    "            i = 'Snacks'  \n",
    "        else:\n",
    "            i = i\n",
    "        b.append(i)\n",
    "    \n",
    "    #Condition 2\n",
    "    if 'Beer Garden' in b:\n",
    "        b.remove('Beer Garden') \n",
    "\n",
    "    b = set(b)\n",
    "    return list(b)"
   ]
  },
  {
   "cell_type": "code",
   "execution_count": 31,
   "metadata": {},
   "outputs": [],
   "source": [
    "#Let's apply that function!\n",
    "\n",
    "rdf['Types'] = rdf.apply(lambda row: recategorize_type(row), axis=1)"
   ]
  },
  {
   "cell_type": "code",
   "execution_count": 32,
   "metadata": {},
   "outputs": [],
   "source": [
    "#Let's check DataFrame, whether we still have previous entry or not\n",
    "\n",
    "unlisted = unlisted_places + unlisted_csne"
   ]
  },
  {
   "cell_type": "code",
   "execution_count": 33,
   "metadata": {},
   "outputs": [],
   "source": [
    "count_lst = []\n",
    "prc_lst = []\n",
    "\n",
    "for i in unlisted:\n",
    "    count = rdf[rdf['Types'].apply(lambda x: i in x)].shape[0]\n",
    "    prc = round((rdf[rdf['Types'].apply(lambda x: i in x)].shape[0])*100/rdf.shape[0],2)\n",
    "    count_lst.append(count)\n",
    "    prc_lst.append(prc)\n",
    "\n",
    "count_rdf = pd.DataFrame({'Rest Type': unlisted,'Count': count_lst, 'Perc%': prc_lst})\n",
    "count_rdf.sort_values('Count',ascending=True, inplace=True)"
   ]
  },
  {
   "cell_type": "code",
   "execution_count": 34,
   "metadata": {},
   "outputs": [
    {
     "output_type": "execute_result",
     "data": {
      "text/plain": "            Rest Type  Count  Perc%\n0        Bar Cocktail      0   0.00\n1            Bar Wine      0   0.00\n2                 Pub      0   0.00\n3                Klub      0   0.00\n5           Juice Bar      0   0.00\n7         Beer Garden      0   0.00\n6         Fine Dining     55   0.49\n4              Lounge    101   0.90\n8  Makanan Cepat Saji    119   1.06",
      "text/html": "<div>\n<style scoped>\n    .dataframe tbody tr th:only-of-type {\n        vertical-align: middle;\n    }\n\n    .dataframe tbody tr th {\n        vertical-align: top;\n    }\n\n    .dataframe thead th {\n        text-align: right;\n    }\n</style>\n<table border=\"1\" class=\"dataframe\">\n  <thead>\n    <tr style=\"text-align: right;\">\n      <th></th>\n      <th>Rest Type</th>\n      <th>Count</th>\n      <th>Perc%</th>\n    </tr>\n  </thead>\n  <tbody>\n    <tr>\n      <th>0</th>\n      <td>Bar Cocktail</td>\n      <td>0</td>\n      <td>0.00</td>\n    </tr>\n    <tr>\n      <th>1</th>\n      <td>Bar Wine</td>\n      <td>0</td>\n      <td>0.00</td>\n    </tr>\n    <tr>\n      <th>2</th>\n      <td>Pub</td>\n      <td>0</td>\n      <td>0.00</td>\n    </tr>\n    <tr>\n      <th>3</th>\n      <td>Klub</td>\n      <td>0</td>\n      <td>0.00</td>\n    </tr>\n    <tr>\n      <th>5</th>\n      <td>Juice Bar</td>\n      <td>0</td>\n      <td>0.00</td>\n    </tr>\n    <tr>\n      <th>7</th>\n      <td>Beer Garden</td>\n      <td>0</td>\n      <td>0.00</td>\n    </tr>\n    <tr>\n      <th>6</th>\n      <td>Fine Dining</td>\n      <td>55</td>\n      <td>0.49</td>\n    </tr>\n    <tr>\n      <th>4</th>\n      <td>Lounge</td>\n      <td>101</td>\n      <td>0.90</td>\n    </tr>\n    <tr>\n      <th>8</th>\n      <td>Makanan Cepat Saji</td>\n      <td>119</td>\n      <td>1.06</td>\n    </tr>\n  </tbody>\n</table>\n</div>"
     },
     "metadata": {},
     "execution_count": 34
    }
   ],
   "source": [
    "count_rdf"
   ]
  },
  {
   "source": [
    "As shown above, only Fine Dining, Lounge, and Makanan Cepat Saji remains"
   ],
   "cell_type": "markdown",
   "metadata": {}
  },
  {
   "source": [
    "# 2.2. THE GREAT SEPARATION"
   ],
   "cell_type": "markdown",
   "metadata": {}
  },
  {
   "source": [
    "Now that we have tidy up the category, let's split it up.\n",
    "\n",
    "Zomato actually only has 2 type of Categories : Places Types and Cuisine Types\n",
    "\n",
    "But we actually see that in Cuisine Types, we can divide it with higher detail level : Cuisine Types and Cuisine Regionality\n",
    "\n",
    "So let's divide 'TYPES' feature into 3: Place Types, Cuisines, and Cuisine Regionality"
   ],
   "cell_type": "markdown",
   "metadata": {}
  },
  {
   "cell_type": "code",
   "execution_count": 35,
   "metadata": {},
   "outputs": [],
   "source": [
    "place_type = ['Quick Bites', 'Casual Dining', 'Kafe', 'Toko Minuman', 'Food Court', 'Toko Kue & Roti', 'Dessert Parlor', 'Kios', 'Kaki Lima', 'Bar', 'Lounge', 'Fine Dining']\n",
    "\n",
    "cuisine_type = ['Bakmi', 'Bakso', 'Barbekyu', 'Bubble Tea', 'Burger', 'Desserts', 'Dimsum', 'Hanya Minuman', 'Ice Cream', 'Jus', 'Kebab', 'Kopi', 'Kue & Roti', 'Martabak', 'Minuman', 'Pizza', 'Ramen', 'Satay', 'Seafood', 'Snacks', 'Soto', 'Steak', 'Sushi', 'Tea', 'Makanan Jalanan', 'Makanan Sehat', 'Grill House', 'Deli', 'Makanan Cepat Saji']\n",
    "\n",
    "cuisine_regional_type = ['Aceh', 'Amerika', 'Amerika Latin', 'Arab', 'Asia', 'Australian', 'Bali', 'Bangka', 'Barat', 'Batak', 'Belanda', 'Betawi', 'Chinese', 'Eropa', 'Fusion', 'India',\n",
    "'India Selatan', 'India Utara', 'Indonesia', 'Inggris', 'Itali', 'Jawa', 'Jepang', 'Jerman', 'Kalimantan', 'Kontinental', 'Korea', 'Libanon', 'Lombok', 'Makassar', 'Malaysia', 'Manado', 'Maroko', 'Medan','Mediterania', 'Meksiko', 'Mongolia', 'Padang', 'Pakistan', 'Palembang', 'Peranakan', 'Perancis', 'Peruvian', 'Singapura', 'Spanyol', 'Sulawesi', 'Sumatera', 'Sunda', 'Taiwanese', 'Thai', 'Timur Tengah', 'Turki','Vietnam', 'Yogyakarta', 'Yunani']"
   ]
  },
  {
   "cell_type": "code",
   "execution_count": 36,
   "metadata": {
    "tags": []
   },
   "outputs": [
    {
     "output_type": "stream",
     "name": "stdout",
     "text": "12\n29\n55\n"
    }
   ],
   "source": [
    " print(len(place_type))\n",
    " print(len(cuisine_type))\n",
    " print(len(cuisine_regional_type))"
   ]
  },
  {
   "source": [
    "### Let's make a function to separated 'TYPES' features into 3 different features "
   ],
   "cell_type": "markdown",
   "metadata": {}
  },
  {
   "source": [
    "## 2.2.1. PLACE TYPE"
   ],
   "cell_type": "markdown",
   "metadata": {}
  },
  {
   "cell_type": "code",
   "execution_count": 37,
   "metadata": {},
   "outputs": [],
   "source": [
    "def separate_place(row):\n",
    "    a = row['Types']\n",
    "    b = []\n",
    "\n",
    "    for i in a:\n",
    "        if i in place_type:\n",
    "            b.append(i)\n",
    "        else:\n",
    "            pass\n",
    "    \n",
    "    return list(set(b))"
   ]
  },
  {
   "cell_type": "code",
   "execution_count": 38,
   "metadata": {},
   "outputs": [],
   "source": [
    "# Apply Function\n",
    "rdf['Place Type'] = rdf.apply(lambda row: separate_place(row), axis=1)"
   ]
  },
  {
   "cell_type": "code",
   "execution_count": 39,
   "metadata": {},
   "outputs": [
    {
     "output_type": "execute_result",
     "data": {
      "text/plain": "     Restaurant Name Restaurant Area Restaurant Rating     Review Counts  \\\n3703    Don Bakeshop        Kuningan     Not Rated Yet  Not Reviewed Yet   \n\n      Latitude   Longitude                                            Website  \\\n3703 -6.223426  106.825948  https://www.zomato.com/id/jakarta/don-bakeshop...   \n\n                                     Restaurant Address  \\\n3703  ITC Kuningan Lantai 4, Blok B12 No.1, Jl. Prof...   \n\n                         Price for 2                          Additional Info  \\\n3703  Rp50 untuk 2 orang (perkiraan)  ['Pesan Antar', 'Bawa Pulang Tersedia']   \n\n         Province             City District/Kecamatan           Types  \\\n3703  DKI Jakarta  Jakarta Selatan          Setiabudi  [, Kue & Roti]   \n\n     Place Type  \n3703         []  ",
      "text/html": "<div>\n<style scoped>\n    .dataframe tbody tr th:only-of-type {\n        vertical-align: middle;\n    }\n\n    .dataframe tbody tr th {\n        vertical-align: top;\n    }\n\n    .dataframe thead th {\n        text-align: right;\n    }\n</style>\n<table border=\"1\" class=\"dataframe\">\n  <thead>\n    <tr style=\"text-align: right;\">\n      <th></th>\n      <th>Restaurant Name</th>\n      <th>Restaurant Area</th>\n      <th>Restaurant Rating</th>\n      <th>Review Counts</th>\n      <th>Latitude</th>\n      <th>Longitude</th>\n      <th>Website</th>\n      <th>Restaurant Address</th>\n      <th>Price for 2</th>\n      <th>Additional Info</th>\n      <th>Province</th>\n      <th>City</th>\n      <th>District/Kecamatan</th>\n      <th>Types</th>\n      <th>Place Type</th>\n    </tr>\n  </thead>\n  <tbody>\n    <tr>\n      <th>3703</th>\n      <td>Don Bakeshop</td>\n      <td>Kuningan</td>\n      <td>Not Rated Yet</td>\n      <td>Not Reviewed Yet</td>\n      <td>-6.223426</td>\n      <td>106.825948</td>\n      <td>https://www.zomato.com/id/jakarta/don-bakeshop...</td>\n      <td>ITC Kuningan Lantai 4, Blok B12 No.1, Jl. Prof...</td>\n      <td>Rp50 untuk 2 orang (perkiraan)</td>\n      <td>['Pesan Antar', 'Bawa Pulang Tersedia']</td>\n      <td>DKI Jakarta</td>\n      <td>Jakarta Selatan</td>\n      <td>Setiabudi</td>\n      <td>[, Kue &amp; Roti]</td>\n      <td>[]</td>\n    </tr>\n  </tbody>\n</table>\n</div>"
     },
     "metadata": {},
     "execution_count": 39
    }
   ],
   "source": [
    "# Check Whether we have Row that has empty entry in Place Type \n",
    "rdf[rdf['Place Type'].map(lambda d: len(d) == 0)]"
   ]
  },
  {
   "cell_type": "code",
   "execution_count": 40,
   "metadata": {},
   "outputs": [],
   "source": [
    "# Let's fill this Empty Row - Specific Index - 3703 - Don Bakeshop\n",
    "rdf.at[3703, 'Place Type'] = 'Toko Kue & Roti'"
   ]
  },
  {
   "cell_type": "code",
   "execution_count": 41,
   "metadata": {},
   "outputs": [
    {
     "output_type": "execute_result",
     "data": {
      "text/plain": "Empty DataFrame\nColumns: [Restaurant Name, Restaurant Area, Restaurant Rating, Review Counts, Latitude, Longitude, Website, Restaurant Address, Price for 2, Additional Info, Province, City, District/Kecamatan, Types, Place Type]\nIndex: []",
      "text/html": "<div>\n<style scoped>\n    .dataframe tbody tr th:only-of-type {\n        vertical-align: middle;\n    }\n\n    .dataframe tbody tr th {\n        vertical-align: top;\n    }\n\n    .dataframe thead th {\n        text-align: right;\n    }\n</style>\n<table border=\"1\" class=\"dataframe\">\n  <thead>\n    <tr style=\"text-align: right;\">\n      <th></th>\n      <th>Restaurant Name</th>\n      <th>Restaurant Area</th>\n      <th>Restaurant Rating</th>\n      <th>Review Counts</th>\n      <th>Latitude</th>\n      <th>Longitude</th>\n      <th>Website</th>\n      <th>Restaurant Address</th>\n      <th>Price for 2</th>\n      <th>Additional Info</th>\n      <th>Province</th>\n      <th>City</th>\n      <th>District/Kecamatan</th>\n      <th>Types</th>\n      <th>Place Type</th>\n    </tr>\n  </thead>\n  <tbody>\n  </tbody>\n</table>\n</div>"
     },
     "metadata": {},
     "execution_count": 41
    }
   ],
   "source": [
    "# Let's check again\n",
    "rdf[rdf['Place Type'].map(lambda d: len(d) == 0)]"
   ]
  },
  {
   "source": [
    "## 2.2.2. CUISINES"
   ],
   "cell_type": "markdown",
   "metadata": {}
  },
  {
   "cell_type": "code",
   "execution_count": 42,
   "metadata": {},
   "outputs": [],
   "source": [
    "def separate_csne(row):\n",
    "    a = row['Types']\n",
    "    b = []\n",
    "\n",
    "    for i in a:\n",
    "        if i in cuisine_type:\n",
    "            b.append(i)\n",
    "        else:\n",
    "            pass\n",
    "        \n",
    "    if len(b) == 0:\n",
    "        b.append('Unspecified Cuisine')\n",
    "    \n",
    "    return list(set(b))"
   ]
  },
  {
   "cell_type": "code",
   "execution_count": 43,
   "metadata": {},
   "outputs": [],
   "source": [
    "# Apply Function\n",
    "rdf['Cuisines'] = rdf.apply(lambda row: separate_csne(row), axis=1)"
   ]
  },
  {
   "cell_type": "code",
   "execution_count": 44,
   "metadata": {},
   "outputs": [
    {
     "output_type": "execute_result",
     "data": {
      "text/plain": "Empty DataFrame\nColumns: [Restaurant Name, Restaurant Area, Restaurant Rating, Review Counts, Latitude, Longitude, Website, Restaurant Address, Price for 2, Additional Info, Province, City, District/Kecamatan, Types, Place Type, Cuisines]\nIndex: []",
      "text/html": "<div>\n<style scoped>\n    .dataframe tbody tr th:only-of-type {\n        vertical-align: middle;\n    }\n\n    .dataframe tbody tr th {\n        vertical-align: top;\n    }\n\n    .dataframe thead th {\n        text-align: right;\n    }\n</style>\n<table border=\"1\" class=\"dataframe\">\n  <thead>\n    <tr style=\"text-align: right;\">\n      <th></th>\n      <th>Restaurant Name</th>\n      <th>Restaurant Area</th>\n      <th>Restaurant Rating</th>\n      <th>Review Counts</th>\n      <th>Latitude</th>\n      <th>Longitude</th>\n      <th>Website</th>\n      <th>Restaurant Address</th>\n      <th>Price for 2</th>\n      <th>Additional Info</th>\n      <th>Province</th>\n      <th>City</th>\n      <th>District/Kecamatan</th>\n      <th>Types</th>\n      <th>Place Type</th>\n      <th>Cuisines</th>\n    </tr>\n  </thead>\n  <tbody>\n  </tbody>\n</table>\n</div>"
     },
     "metadata": {},
     "execution_count": 44
    }
   ],
   "source": [
    "# Check Whether we have Row that has empty entry in Cuisines \n",
    "rdf.loc[rdf['Cuisines'].map(lambda d: len(d) == 0)]"
   ]
  },
  {
   "source": [
    "## 2.2.3. CUISINE REGIONALITY"
   ],
   "cell_type": "markdown",
   "metadata": {}
  },
  {
   "cell_type": "code",
   "execution_count": 45,
   "metadata": {},
   "outputs": [],
   "source": [
    "def separate_region(row):\n",
    "    a = row['Types']\n",
    "    b = []\n",
    "\n",
    "    for i in a:\n",
    "        if i in cuisine_regional_type:\n",
    "            b.append(i)\n",
    "        else:\n",
    "            pass\n",
    "        \n",
    "    if len(b) == 0:\n",
    "        b.append('Unspecified Region')\n",
    "    \n",
    "    return list(set(b))"
   ]
  },
  {
   "cell_type": "code",
   "execution_count": 46,
   "metadata": {},
   "outputs": [],
   "source": [
    "# Apply Function\n",
    "rdf['Cuisine Regionality'] = rdf.apply(lambda row: separate_region(row), axis=1)"
   ]
  },
  {
   "cell_type": "code",
   "execution_count": 47,
   "metadata": {},
   "outputs": [
    {
     "output_type": "execute_result",
     "data": {
      "text/plain": "Empty DataFrame\nColumns: [Restaurant Name, Restaurant Area, Restaurant Rating, Review Counts, Latitude, Longitude, Website, Restaurant Address, Price for 2, Additional Info, Province, City, District/Kecamatan, Types, Place Type, Cuisines, Cuisine Regionality]\nIndex: []",
      "text/html": "<div>\n<style scoped>\n    .dataframe tbody tr th:only-of-type {\n        vertical-align: middle;\n    }\n\n    .dataframe tbody tr th {\n        vertical-align: top;\n    }\n\n    .dataframe thead th {\n        text-align: right;\n    }\n</style>\n<table border=\"1\" class=\"dataframe\">\n  <thead>\n    <tr style=\"text-align: right;\">\n      <th></th>\n      <th>Restaurant Name</th>\n      <th>Restaurant Area</th>\n      <th>Restaurant Rating</th>\n      <th>Review Counts</th>\n      <th>Latitude</th>\n      <th>Longitude</th>\n      <th>Website</th>\n      <th>Restaurant Address</th>\n      <th>Price for 2</th>\n      <th>Additional Info</th>\n      <th>Province</th>\n      <th>City</th>\n      <th>District/Kecamatan</th>\n      <th>Types</th>\n      <th>Place Type</th>\n      <th>Cuisines</th>\n      <th>Cuisine Regionality</th>\n    </tr>\n  </thead>\n  <tbody>\n  </tbody>\n</table>\n</div>"
     },
     "metadata": {},
     "execution_count": 47
    }
   ],
   "source": [
    "# Check Whether we have Row that has empty entry in Cuisine Regionality\n",
    "rdf.loc[rdf['Cuisine Regionality'].map(lambda d: len(d) == 0)]"
   ]
  },
  {
   "cell_type": "markdown",
   "metadata": {},
   "source": [
    "# 3. EXPLORE RESTAURANT REVIEW"
   ]
  },
  {
   "cell_type": "code",
   "execution_count": 48,
   "metadata": {},
   "outputs": [
    {
     "output_type": "execute_result",
     "data": {
      "text/plain": "0"
     },
     "metadata": {},
     "execution_count": 48
    }
   ],
   "source": [
    "#Check - do we have NA value for Restaurant Reviews or not\n",
    "rdf['Review Counts'].isna().sum()"
   ]
  },
  {
   "cell_type": "code",
   "execution_count": 49,
   "metadata": {},
   "outputs": [
    {
     "output_type": "execute_result",
     "data": {
      "text/plain": "dtype('O')"
     },
     "metadata": {},
     "execution_count": 49
    }
   ],
   "source": [
    "#Check - what's the type of this feature entries? should be integer\n",
    "rdf['Review Counts'].dtype"
   ]
  },
  {
   "cell_type": "code",
   "execution_count": 50,
   "metadata": {},
   "outputs": [
    {
     "output_type": "execute_result",
     "data": {
      "text/plain": "array(['1,437 Ulasan', '461 Ulasan', '391 Ulasan', '177 Ulasan',\n       'TIdak cukup Ulasan', 'Not Reviewed Yet', '12 Ulasan', '26 Ulasan',\n       '22 Ulasan', '7 Ulasan', '9 Ulasan', '36 Ulasan', '8 Ulasan',\n       '6 Ulasan', '4 Ulasan', '28 Ulasan', '5 Ulasan', '17 Ulasan',\n       '37 Ulasan', '40 Ulasan', '93 Ulasan', '27 Ulasan', '239 Ulasan',\n       '14 Ulasan', '214 Ulasan', '56 Ulasan', '10 Ulasan', '647 Ulasan',\n       '379 Ulasan', '138 Ulasan', '16 Ulasan', '145 Ulasan',\n       '249 Ulasan', '514 Ulasan', '55 Ulasan', '21 Ulasan', '175 Ulasan',\n       '390 Ulasan', '122 Ulasan', '83 Ulasan', '633 Ulasan', '24 Ulasan',\n       '821 Ulasan', '365 Ulasan', '105 Ulasan', '48 Ulasan', '69 Ulasan',\n       '15 Ulasan', '119 Ulasan', '47 Ulasan', '23 Ulasan', '92 Ulasan',\n       '467 Ulasan', '334 Ulasan', '71 Ulasan', '46 Ulasan', '30 Ulasan',\n       '158 Ulasan', '54 Ulasan', '293 Ulasan', '147 Ulasan',\n       '460 Ulasan', '20 Ulasan', '76 Ulasan', '502 Ulasan', '180 Ulasan',\n       '19 Ulasan', '573 Ulasan', '51 Ulasan', '38 Ulasan', '221 Ulasan',\n       '429 Ulasan', '77 Ulasan', '256 Ulasan', '11 Ulasan', '168 Ulasan',\n       '101 Ulasan', '61 Ulasan', '64 Ulasan', '131 Ulasan', '31 Ulasan',\n       '738 Ulasan', '274 Ulasan', '98 Ulasan', '32 Ulasan', '329 Ulasan',\n       '500 Ulasan', '86 Ulasan', '261 Ulasan', '116 Ulasan',\n       '245 Ulasan', '496 Ulasan', '34 Ulasan', '13 Ulasan', '80 Ulasan',\n       '117 Ulasan', '328 Ulasan', '89 Ulasan', '72 Ulasan', '240 Ulasan',\n       '306 Ulasan', '194 Ulasan', '253 Ulasan', '59 Ulasan',\n       '161 Ulasan', '95 Ulasan', '144 Ulasan', '60 Ulasan', '376 Ulasan',\n       '18 Ulasan', '142 Ulasan', '271 Ulasan', '123 Ulasan',\n       '173 Ulasan', '108 Ulasan', '42 Ulasan', '41 Ulasan', '78 Ulasan',\n       '463 Ulasan', '91 Ulasan', '126 Ulasan', '53 Ulasan', '432 Ulasan',\n       '997 Ulasan', '788 Ulasan', '227 Ulasan', '156 Ulasan',\n       '102 Ulasan', '223 Ulasan', '358 Ulasan', '143 Ulasan',\n       '531 Ulasan', '49 Ulasan', '68 Ulasan', '57 Ulasan', '79 Ulasan',\n       '115 Ulasan', '857 Ulasan', '125 Ulasan', '179 Ulasan',\n       '470 Ulasan', '132 Ulasan', '159 Ulasan', '67 Ulasan', '43 Ulasan',\n       '45 Ulasan', '286 Ulasan', '315 Ulasan', '110 Ulasan',\n       '216 Ulasan', '25 Ulasan', '503 Ulasan', '188 Ulasan',\n       '242 Ulasan', '74 Ulasan', '82 Ulasan', '140 Ulasan', '326 Ulasan',\n       '62 Ulasan', '50 Ulasan', '233 Ulasan', '52 Ulasan', '230 Ulasan',\n       '167 Ulasan', '103 Ulasan', '65 Ulasan', '160 Ulasan', '87 Ulasan',\n       '235 Ulasan', '153 Ulasan', '506 Ulasan', '198 Ulasan',\n       '457 Ulasan', '193 Ulasan', '327 Ulasan', '133 Ulasan',\n       '104 Ulasan', '70 Ulasan', '170 Ulasan', '154 Ulasan',\n       '100 Ulasan', '186 Ulasan', '29 Ulasan', '392 Ulasan',\n       '137 Ulasan', '107 Ulasan', '666 Ulasan', '276 Ulasan',\n       '106 Ulasan', '377 Ulasan', '136 Ulasan', '63 Ulasan',\n       '575 Ulasan', '44 Ulasan', '304 Ulasan', '192 Ulasan',\n       '165 Ulasan', '73 Ulasan', '163 Ulasan', '141 Ulasan', '97 Ulasan',\n       '150 Ulasan', '232 Ulasan', '357 Ulasan', '118 Ulasan',\n       '111 Ulasan', '338 Ulasan', '300 Ulasan', '90 Ulasan',\n       '268 Ulasan', '152 Ulasan', '169 Ulasan', '135 Ulasan',\n       '127 Ulasan', '262 Ulasan', '181 Ulasan', '386 Ulasan',\n       '149 Ulasan', '39 Ulasan', '370 Ulasan', '1,058 Ulasan',\n       '113 Ulasan', '414 Ulasan', '148 Ulasan', '344 Ulasan',\n       '120 Ulasan', '509 Ulasan', '190 Ulasan', '121 Ulasan',\n       '151 Ulasan', '345 Ulasan', '298 Ulasan', '124 Ulasan',\n       '191 Ulasan', '75 Ulasan', '129 Ulasan', '501 Ulasan',\n       '172 Ulasan', '85 Ulasan', '241 Ulasan', '321 Ulasan',\n       '311 Ulasan', '33 Ulasan', '35 Ulasan', '513 Ulasan', '234 Ulasan',\n       '287 Ulasan', '207 Ulasan', '579 Ulasan', '84 Ulasan',\n       '196 Ulasan', '331 Ulasan', '195 Ulasan', '171 Ulasan',\n       '112 Ulasan', '96 Ulasan', '81 Ulasan', '176 Ulasan', '162 Ulasan',\n       '273 Ulasan', '114 Ulasan', '1,868 Ulasan', '1,435 Ulasan',\n       '2,966 Ulasan', '1,268 Ulasan', '736 Ulasan', '747 Ulasan',\n       '2,075 Ulasan', '450 Ulasan', '988 Ulasan', '212 Ulasan',\n       '547 Ulasan', '2,815 Ulasan', '3,222 Ulasan', '1,026 Ulasan',\n       '5,742 Ulasan', '290 Ulasan', '199 Ulasan', '1,067 Ulasan',\n       '559 Ulasan', '665 Ulasan', '2,062 Ulasan', '784 Ulasan',\n       '1,276 Ulasan', '1,419 Ulasan', '1,331 Ulasan', '1,078 Ulasan',\n       '272 Ulasan', '3,024 Ulasan', '211 Ulasan', '758 Ulasan',\n       '894 Ulasan', '210 Ulasan', '3,778 Ulasan', '1,873 Ulasan',\n       '412 Ulasan', '1,148 Ulasan', '266 Ulasan', '455 Ulasan',\n       '1,068 Ulasan', '2,103 Ulasan', '794 Ulasan', '228 Ulasan',\n       '929 Ulasan', '341 Ulasan', '549 Ulasan', '860 Ulasan',\n       '197 Ulasan', '751 Ulasan', '1,430 Ulasan', '532 Ulasan',\n       '486 Ulasan', '2,221 Ulasan', '1,018 Ulasan', '1,246 Ulasan',\n       '317 Ulasan', '1,119 Ulasan', '687 Ulasan', '323 Ulasan',\n       '1,024 Ulasan', '778 Ulasan', '367 Ulasan', '263 Ulasan',\n       '1,280 Ulasan', '1,551 Ulasan', '618 Ulasan', '497 Ulasan',\n       '627 Ulasan', '1,732 Ulasan', '704 Ulasan', '280 Ulasan',\n       '403 Ulasan', '708 Ulasan', '624 Ulasan', '755 Ulasan',\n       '2,004 Ulasan', '213 Ulasan', '1,365 Ulasan', '258 Ulasan',\n       '445 Ulasan', '745 Ulasan', '750 Ulasan', '611 Ulasan',\n       '599 Ulasan', '431 Ulasan', '1,230 Ulasan', '1,684 Ulasan',\n       '855 Ulasan', '911 Ulasan', '1,120 Ulasan', '597 Ulasan',\n       '925 Ulasan', '899 Ulasan', '1,105 Ulasan', '1,186 Ulasan',\n       '2,597 Ulasan', '933 Ulasan', '969 Ulasan', '1,034 Ulasan',\n       '945 Ulasan', '301 Ulasan', '1,220 Ulasan', '777 Ulasan',\n       '950 Ulasan', '983 Ulasan', '422 Ulasan', '477 Ulasan',\n       '780 Ulasan', '1,217 Ulasan', '1,527 Ulasan', '226 Ulasan',\n       '1,061 Ulasan', '937 Ulasan', '350 Ulasan', '1,168 Ulasan',\n       '561 Ulasan', '318 Ulasan', '586 Ulasan', '941 Ulasan',\n       '771 Ulasan', '697 Ulasan', '324 Ulasan', '1,682 Ulasan',\n       '1,773 Ulasan', '580 Ulasan', '442 Ulasan', '382 Ulasan',\n       '1,903 Ulasan', '204 Ulasan', '94 Ulasan', '259 Ulasan',\n       '1,279 Ulasan', '374 Ulasan', '640 Ulasan', '217 Ulasan',\n       '754 Ulasan', '630 Ulasan', '66 Ulasan', '587 Ulasan',\n       '363 Ulasan', '553 Ulasan', '733 Ulasan', '185 Ulasan',\n       '763 Ulasan', '408 Ulasan', '1,016 Ulasan', '294 Ulasan',\n       '588 Ulasan', '541 Ulasan', '896 Ulasan', '820 Ulasan',\n       '398 Ulasan', '995 Ulasan', '526 Ulasan', '935 Ulasan',\n       '871 Ulasan', '593 Ulasan', '1,371 Ulasan', '1,227 Ulasan',\n       '155 Ulasan', '295 Ulasan', '1,438 Ulasan', '405 Ulasan',\n       '1,219 Ulasan', '314 Ulasan', '364 Ulasan', '641 Ulasan',\n       '174 Ulasan', '332 Ulasan', '279 Ulasan', '617 Ulasan',\n       '1,142 Ulasan', '283 Ulasan', '1,288 Ulasan', '292 Ulasan',\n       '270 Ulasan', '862 Ulasan', '493 Ulasan', '653 Ulasan',\n       '443 Ulasan', '275 Ulasan', '413 Ulasan', '368 Ulasan',\n       '281 Ulasan', '366 Ulasan', '383 Ulasan', '440 Ulasan',\n       '224 Ulasan', '1,125 Ulasan', '254 Ulasan', '459 Ulasan',\n       '454 Ulasan', '920 Ulasan', '491 Ulasan', '978 Ulasan',\n       '594 Ulasan', '702 Ulasan', '439 Ulasan', '184 Ulasan',\n       '417 Ulasan', '706 Ulasan', '538 Ulasan', '244 Ulasan',\n       '787 Ulasan', '343 Ulasan', '189 Ulasan', '447 Ulasan',\n       '3,671 Ulasan', '128 Ulasan', '205 Ulasan', '395 Ulasan',\n       '58 Ulasan', '480 Ulasan', '567 Ulasan', '393 Ulasan',\n       '795 Ulasan', '1,222 Ulasan', '471 Ulasan', '433 Ulasan',\n       '737 Ulasan', '836 Ulasan', '347 Ulasan', '351 Ulasan',\n       '215 Ulasan', '282 Ulasan', '348 Ulasan', '664 Ulasan',\n       '257 Ulasan', '877 Ulasan', '402 Ulasan', '596 Ulasan',\n       '729 Ulasan', '707 Ulasan', '303 Ulasan', '423 Ulasan',\n       '436 Ulasan', '520 Ulasan', '825 Ulasan', '251 Ulasan',\n       '643 Ulasan', '533 Ulasan', '441 Ulasan', '659 Ulasan',\n       '566 Ulasan', '649 Ulasan', '544 Ulasan', '369 Ulasan',\n       '458 Ulasan', '634 Ulasan', '607 Ulasan', '1,617 Ulasan',\n       '289 Ulasan', '625 Ulasan', '849 Ulasan', '252 Ulasan',\n       '410 Ulasan', '682 Ulasan', '385 Ulasan', '425 Ulasan',\n       '1,146 Ulasan', '605 Ulasan', '650 Ulasan', '713 Ulasan',\n       '166 Ulasan', '1,003 Ulasan', '333 Ulasan', '183 Ulasan',\n       '446 Ulasan', '473 Ulasan', '404 Ulasan', '626 Ulasan',\n       '415 Ulasan', '164 Ulasan', '1,252 Ulasan', '1,104 Ulasan',\n       '3,194 Ulasan', '469 Ulasan', '523 Ulasan', '581 Ulasan',\n       '563 Ulasan', '236 Ulasan', '284 Ulasan', '744 Ulasan',\n       '337 Ulasan', '1,151 Ulasan', '416 Ulasan', '637 Ulasan',\n       '421 Ulasan', '297 Ulasan', '957 Ulasan', '584 Ulasan',\n       '309 Ulasan', '511 Ulasan', '807 Ulasan', '521 Ulasan',\n       '525 Ulasan', '609 Ulasan', '146 Ulasan', '339 Ulasan',\n       '453 Ulasan', '620 Ulasan', '1,057 Ulasan', '512 Ulasan',\n       '99 Ulasan', '468 Ulasan', '428 Ulasan', '548 Ulasan',\n       '711 Ulasan', '519 Ulasan', '88 Ulasan', '651 Ulasan',\n       '237 Ulasan', '356 Ulasan', '130 Ulasan', '1,157 Ulasan',\n       '571 Ulasan', '355 Ulasan', '310 Ulasan', '426 Ulasan',\n       '909 Ulasan', '961 Ulasan', '305 Ulasan', '225 Ulasan',\n       '134 Ulasan', '238 Ulasan', '308 Ulasan', '489 Ulasan',\n       '243 Ulasan', '388 Ulasan', '307 Ulasan', '601 Ulasan',\n       '631 Ulasan', '709 Ulasan', '296 Ulasan', '139 Ulasan',\n       '1,172 Ulasan', '397 Ulasan', '1,072 Ulasan', '267 Ulasan',\n       '248 Ulasan', '499 Ulasan', '246 Ulasan', '399 Ulasan',\n       '269 Ulasan', '852 Ulasan', '231 Ulasan', '325 Ulasan',\n       '1,855 Ulasan', '710 Ulasan', '302 Ulasan', '206 Ulasan',\n       '568 Ulasan', '178 Ulasan', '360 Ulasan', '208 Ulasan',\n       '291 Ulasan', '187 Ulasan', '406 Ulasan', '247 Ulasan',\n       '438 Ulasan', '661 Ulasan', '313 Ulasan', '182 Ulasan',\n       '157 Ulasan', '260 Ulasan', '278 Ulasan', '219 Ulasan',\n       '277 Ulasan', '554 Ulasan', '401 Ulasan', '1,409 Ulasan',\n       '109 Ulasan', '220 Ulasan', '504 Ulasan', '203 Ulasan',\n       '623 Ulasan', '264 Ulasan', '505 Ulasan', '312 Ulasan',\n       '265 Ulasan'], dtype=object)"
     },
     "metadata": {},
     "execution_count": 50
    }
   ],
   "source": [
    "#Check - unique values, so we can understand what makes this feature is not in numbers\n",
    "rdf['Review Counts'].unique()"
   ]
  },
  {
   "source": [
    "Turns out, there are 3 Type of Values in Review Counts:\n",
    "\n",
    "1. Not Reviewed Yet : Means no one has reviewed this restaurant (0 Review)\n",
    "\n",
    "2. TIdak cukup Ulasan : Means not enough review to be mentioned in Zomato Website. But how many is not enough? Let's check that later\n",
    "\n",
    "3. \"xxxx\" Ulasan : That number represents the amount of reviews this restaurant has gotten until now"
   ],
   "cell_type": "markdown",
   "metadata": {}
  },
  {
   "cell_type": "code",
   "execution_count": 51,
   "metadata": {
    "tags": []
   },
   "outputs": [
    {
     "output_type": "stream",
     "name": "stdout",
     "text": "Not Reviewed Yet : 387  - Perc%:  3.43\nTIdak cukup Ulasan : 4086  - Perc%:  36.27\nxxxx Ulasan : 6794  - Perc%:  60.3\n"
    }
   ],
   "source": [
    "# Let's check how many values for those 3 categories\n",
    "\n",
    "total = rdf.shape[0]\n",
    "zeroreview_ct = sum(rdf['Review Counts'] == 'Not Reviewed Yet')\n",
    "notenough_ct = sum(rdf['Review Counts'] == 'TIdak cukup Ulasan')\n",
    "enoughrev_ct = total - zeroreview_ct - notenough_ct\n",
    "\n",
    "\n",
    "print(\"Not Reviewed Yet :\", zeroreview_ct, \" - Perc%: \", round(zeroreview_ct*100/total,2))\n",
    "print(\"TIdak cukup Ulasan :\", notenough_ct, \" - Perc%: \", round(notenough_ct*100/total,2))\n",
    "print(\"xxxx Ulasan :\", enoughrev_ct, \" - Perc%: \", round(enoughrev_ct*100/total,2))"
   ]
  },
  {
   "source": [
    "### Our Final Goal is to convert this features to integer type\n",
    "\n",
    "For Category 1, we can simply convert to 0\n",
    "\n",
    "For Category 3, we will remove the \"Ulasan\" string\n",
    "\n",
    "For Category 2, we must impute it with certain number, after we check the minimum value of Type 3"
   ],
   "cell_type": "markdown",
   "metadata": {}
  },
  {
   "cell_type": "code",
   "execution_count": 52,
   "metadata": {},
   "outputs": [],
   "source": [
    "def convert_review(row):\n",
    "    review_string = row['Review Counts']\n",
    "\n",
    "    if review_string == 'TIdak cukup Ulasan':\n",
    "        return review_string\n",
    "    elif review_string == 'Not Reviewed Yet':\n",
    "        return 0\n",
    "    else:\n",
    "        return int(review_string.strip(\" Ulasan\").replace(\",\", \"\"))"
   ]
  },
  {
   "cell_type": "code",
   "execution_count": 53,
   "metadata": {},
   "outputs": [],
   "source": [
    "rdf['Review Counts'] = rdf.apply(lambda row: convert_review(row), axis=1)"
   ]
  },
  {
   "cell_type": "code",
   "execution_count": 54,
   "metadata": {},
   "outputs": [
    {
     "output_type": "execute_result",
     "data": {
      "text/plain": "4"
     },
     "metadata": {},
     "execution_count": 54
    }
   ],
   "source": [
    "#Check Minimum Value of Type 3 Category (\"xxx\" Ulasan)\n",
    "\n",
    "rdf[~((rdf['Review Counts'] == 'TIdak cukup Ulasan') | (rdf['Review Counts'] == 0))]['Review Counts'].min()"
   ]
  },
  {
   "source": [
    "From above result, it means \"TIdak cukup Ulasan\" can be 1,2,3.\n",
    "\n",
    "To be safe, let's impute this category with 1"
   ],
   "cell_type": "markdown",
   "metadata": {}
  },
  {
   "cell_type": "code",
   "execution_count": 55,
   "metadata": {},
   "outputs": [],
   "source": [
    "def convert_review2(row):\n",
    "    review = row['Review Counts']\n",
    "\n",
    "    if review == 'TIdak cukup Ulasan':\n",
    "        return 1\n",
    "    else:\n",
    "        return int(review)"
   ]
  },
  {
   "cell_type": "code",
   "execution_count": 56,
   "metadata": {},
   "outputs": [],
   "source": [
    "rdf['Review Counts'] = rdf.apply(lambda row: convert_review2(row), axis=1)"
   ]
  },
  {
   "cell_type": "code",
   "execution_count": 57,
   "metadata": {},
   "outputs": [],
   "source": [
    "#The complete version the formula:\n",
    "#No need to run\n",
    "\n",
    "def convert_review3(row):\n",
    "    review_string = row['Review Counts']\n",
    "\n",
    "    if review_string == 'TIdak cukup Ulasan':\n",
    "        return 1\n",
    "    elif review_string == 'Not Reviewed Yet':\n",
    "        return 0\n",
    "    else:\n",
    "        return int(review_string.strip(\" Ulasan\").replace(\",\", \"\"))"
   ]
  },
  {
   "cell_type": "code",
   "execution_count": 58,
   "metadata": {},
   "outputs": [
    {
     "output_type": "execute_result",
     "data": {
      "text/plain": "dtype('int64')"
     },
     "metadata": {},
     "execution_count": 58
    }
   ],
   "source": [
    "#Check Type Again\n",
    "\n",
    "rdf['Review Counts'].dtype"
   ]
  },
  {
   "cell_type": "code",
   "execution_count": 59,
   "metadata": {},
   "outputs": [],
   "source": [
    "zeroreview_ct = sum(rdf['Review Counts'] == 0)\n",
    "notenough_ct = sum(rdf['Review Counts'] == 1)\n",
    "enoughrev_ct = sum(rdf['Review Counts'] >= 4)"
   ]
  },
  {
   "cell_type": "code",
   "execution_count": 60,
   "metadata": {
    "tags": []
   },
   "outputs": [
    {
     "output_type": "stream",
     "name": "stdout",
     "text": "Amount of No Review Category :  387  - Percentage (%) :  3.43\nAmount of Not Enough Review Category :  4086  - Percentage (%) :  36.27\nAmount of Enough Review Category :  6794  - Percentage (%) :  60.3\n"
    }
   ],
   "source": [
    "print(\"Amount of No Review Category : \", zeroreview_ct, \" - Percentage (%) : \", round(100*zeroreview_ct/total,2))\n",
    "print(\"Amount of Not Enough Review Category : \", notenough_ct, \" - Percentage (%) : \", round(100*notenough_ct/total,2))\n",
    "print(\"Amount of Enough Review Category : \", enoughrev_ct, \" - Percentage (%) : \", round(100*enoughrev_ct/total,2))"
   ]
  },
  {
   "source": [
    "# 4. EXPLORE RESTAURANT RATING"
   ],
   "cell_type": "markdown",
   "metadata": {}
  },
  {
   "cell_type": "code",
   "execution_count": 61,
   "metadata": {},
   "outputs": [
    {
     "output_type": "execute_result",
     "data": {
      "text/plain": "0"
     },
     "metadata": {},
     "execution_count": 61
    }
   ],
   "source": [
    "#Check - do we have NA value for Restaurant Rating or not\n",
    "\n",
    "rdf['Restaurant Rating'].isna().sum()"
   ]
  },
  {
   "cell_type": "code",
   "execution_count": 62,
   "metadata": {},
   "outputs": [
    {
     "output_type": "execute_result",
     "data": {
      "text/plain": "dtype('O')"
     },
     "metadata": {},
     "execution_count": 62
    }
   ],
   "source": [
    "#Check - what's the type of this feature entries? should be Float\n",
    "rdf['Restaurant Rating'].dtype"
   ]
  },
  {
   "cell_type": "code",
   "execution_count": 63,
   "metadata": {},
   "outputs": [
    {
     "output_type": "execute_result",
     "data": {
      "text/plain": "array(['4.4', '4.3', '4.0', 'Not Rated Yet', '3.9', '3.5', '3.2', '3.1',\n       '4.2', '2.6', '3.7', '3.4', '3.6', '3.8', '4.1', '3.0', '3.3',\n       '2.8', '2.9', '4.5', '2.5', '2.7', '4.6', '2.0', '2.4', '4.7',\n       '4.9', '4.8', '2.2', '2.3', '2.1'], dtype=object)"
     },
     "metadata": {},
     "execution_count": 63
    }
   ],
   "source": [
    "#Check - unique values, so we can understand what makes this feature is not in numbers\n",
    "rdf['Restaurant Rating'].unique()"
   ]
  },
  {
   "cell_type": "code",
   "execution_count": 64,
   "metadata": {},
   "outputs": [
    {
     "output_type": "execute_result",
     "data": {
      "text/plain": "4473"
     },
     "metadata": {},
     "execution_count": 64
    }
   ],
   "source": [
    "#Let's check how many 'Not Rated Yet' category\n",
    "\n",
    "rdf[rdf['Restaurant Rating'] == 'Not Rated Yet'].shape[0]"
   ]
  },
  {
   "source": [
    "There are 2 Type of Values in Restaurant Rating:\n",
    "\n",
    "1. Not Rated Yet : ?\n",
    "\n",
    "2. \"x.x\" : The aggregated rating of all ratings of this particular restaurant"
   ],
   "cell_type": "markdown",
   "metadata": {}
  },
  {
   "source": [
    "Initial Hypothesis:\n",
    "\n",
    "\n",
    "Definition of \"Not Rated Yet\":\n",
    "\n",
    "\n",
    "In order for a restaurant to get their rating, they must have a sufficient amount of reviews.\n",
    "\n",
    "From our analysis before, the \"sufficient amount\" of reviews is 4.\n",
    "\n",
    "Let's check whether this hypothesis is true or not from the data"
   ],
   "cell_type": "markdown",
   "metadata": {}
  },
  {
   "cell_type": "code",
   "execution_count": 65,
   "metadata": {},
   "outputs": [
    {
     "output_type": "execute_result",
     "data": {
      "text/plain": "4473"
     },
     "metadata": {},
     "execution_count": 65
    }
   ],
   "source": [
    "sum(rdf['Restaurant Rating'] == 'Not Rated Yet')"
   ]
  },
  {
   "cell_type": "code",
   "execution_count": 66,
   "metadata": {},
   "outputs": [
    {
     "output_type": "execute_result",
     "data": {
      "text/plain": "0"
     },
     "metadata": {},
     "execution_count": 66
    }
   ],
   "source": [
    "sum((rdf['Restaurant Rating'] == 'Not Rated Yet') & (rdf['Review Counts'] >= 4))"
   ]
  },
  {
   "source": [
    "For result above, we can conclude that \"Not Rated Yet\" is showed when the reviews is below than 4 (0-3 Reviews/Ratings).\n",
    "\n",
    "Our Hypothesis is proven true"
   ],
   "cell_type": "markdown",
   "metadata": {}
  },
  {
   "source": [
    "### Our Final Goal is to convert this features to float type\n",
    "\n",
    "For Type 1 (Not Rated Yet) and Review = 0, we will fill the Rating with 0\n",
    "\n",
    "For Type 1 (Not Rated Yet) and Review = 1, we will fill this later on\n",
    "\n",
    "For Type 2 (\"x.x\"), we will simply convert this value to float"
   ],
   "cell_type": "markdown",
   "metadata": {}
  },
  {
   "cell_type": "code",
   "execution_count": 67,
   "metadata": {},
   "outputs": [],
   "source": [
    "def convert_rating(row):\n",
    "    rating = row['Restaurant Rating']\n",
    "    review = row['Review Counts']\n",
    "\n",
    "    if (rating == 'Not Rated Yet') and (review == 0):\n",
    "        return 0\n",
    "    elif (rating == 'Not Rated Yet') and (review == 1):\n",
    "        return rating\n",
    "    else:\n",
    "        return float(rating)"
   ]
  },
  {
   "cell_type": "code",
   "execution_count": 68,
   "metadata": {},
   "outputs": [],
   "source": [
    "rdf['Restaurant Rating'] = rdf.apply(lambda row: convert_rating(row), axis=1)"
   ]
  },
  {
   "cell_type": "code",
   "execution_count": 69,
   "metadata": {},
   "outputs": [
    {
     "output_type": "execute_result",
     "data": {
      "text/plain": "2.0"
     },
     "metadata": {},
     "execution_count": 69
    }
   ],
   "source": [
    "#Check Minimum Value of Type 2 Category (\"x.x)\n",
    "\n",
    "rdf[~((rdf['Restaurant Rating'] == 0) | (rdf['Restaurant Rating'] == 'Not Rated Yet'))]['Restaurant Rating'].min()"
   ]
  },
  {
   "source": [
    "The minimum value is 2.\n",
    "\n",
    "Let's impute the remaining value (\"Not Rated Yet\" with Reviews/Ratings < 4) with 1.5, at least for giving a difference in a value"
   ],
   "cell_type": "markdown",
   "metadata": {}
  },
  {
   "cell_type": "code",
   "execution_count": 70,
   "metadata": {},
   "outputs": [],
   "source": [
    "#The Complete Formula\n",
    "\n",
    "def convert_rating2(row):\n",
    "    rating = row['Restaurant Rating']\n",
    "    review = row['Review Counts']\n",
    "\n",
    "    if (rating == 'Not Rated Yet') and (review == 0):\n",
    "        return 0\n",
    "    elif (rating == 'Not Rated Yet') and (review == 1):\n",
    "        return 1.5\n",
    "    else:\n",
    "        return float(rating)"
   ]
  },
  {
   "cell_type": "code",
   "execution_count": 71,
   "metadata": {},
   "outputs": [],
   "source": [
    "rdf['Restaurant Rating'] = rdf.apply(lambda row: convert_rating2(row), axis=1)"
   ]
  },
  {
   "cell_type": "code",
   "execution_count": 72,
   "metadata": {},
   "outputs": [
    {
     "output_type": "execute_result",
     "data": {
      "text/plain": "dtype('float64')"
     },
     "metadata": {},
     "execution_count": 72
    }
   ],
   "source": [
    "#Check Feature Type again\n",
    "rdf['Restaurant Rating'].dtype"
   ]
  },
  {
   "source": [
    "# 5. EXPLORE PRICE FOR 2"
   ],
   "cell_type": "markdown",
   "metadata": {}
  },
  {
   "cell_type": "code",
   "execution_count": 73,
   "metadata": {},
   "outputs": [
    {
     "output_type": "execute_result",
     "data": {
      "text/plain": "0"
     },
     "metadata": {},
     "execution_count": 73
    }
   ],
   "source": [
    "#Check - do we have NA value for Price for 2 or not\n",
    "\n",
    "rdf['Price for 2'].isna().sum()"
   ]
  },
  {
   "cell_type": "code",
   "execution_count": 74,
   "metadata": {},
   "outputs": [
    {
     "output_type": "execute_result",
     "data": {
      "text/plain": "array(['Rp500.000 untuk 2 orang (perkiraan)Tanpa alkohol',\n       'Rp70.000 untuk 2 orang (perkiraan)',\n       'Rp300.000 untuk 2 orang (perkiraan)',\n       'Rp90.000 untuk 2 orang (perkiraan)',\n       'Rp100.000 untuk 2 orang (perkiraan)',\n       'Rp30.000 untuk 2 orang (perkiraan)',\n       'Rp50.000 untuk 2 orang (perkiraan)',\n       'Rp60.000 untuk 2 orang (perkiraan)',\n       'Rp100.000 untuk 2 orang (perkiraan)dengan alkohol',\n       'Rp120.000 untuk 2 orang (perkiraan)',\n       'Rp80.000 untuk 2 orang (perkiraan)',\n       'Rp180.000 untuk 2 orang (perkiraan)',\n       'Rp75.000 untuk 2 orang (perkiraan)',\n       'Rp40.000 untuk 2 orang (perkiraan)',\n       'Rp150.000 untuk 2 orang (perkiraan)',\n       'Rp130.000 untuk 2 orang (perkiraan)',\n       'Rp65.000 untuk 2 orang (perkiraan)',\n       'Rp300.000 untuk 2 orang (perkiraan)dengan alkohol',\n       'Rp250.000 untuk 2 orang (perkiraan)',\n       'Rp35.000 untuk 2 orang (perkiraan)',\n       'Rp200.000 untuk 2 orang (perkiraan)',\n       'Rp110.000 untuk 2 orang (perkiraan)',\n       'Rp140.000 untuk 2 orang (perkiraan)',\n       'Rp260.000 untuk 2 orang (perkiraan)Tanpa alkohol',\n       'Rp20.000 untuk 2 orang (perkiraan)',\n       'Rp85.000 untuk 2 orang (perkiraan)',\n       'Rp250.000 untuk 2 orang (perkiraan)dengan alkohol',\n       'Rp150.000 untuk 2 orang (perkiraan)Tanpa alkohol',\n       'No Price Data Found', 'Rp160.000 untuk 2 orang (perkiraan)',\n       'Rp400.000 untuk 2 orang (perkiraan)Tanpa alkohol',\n       'Rp200.000 untuk 2 orang (perkiraan)Tanpa alkohol',\n       'Rp500.000 untuk 2 orang (perkiraan)dengan alkohol',\n       'Rp55.000 untuk 2 orang (perkiraan)',\n       'Rp100.000 untuk 2 orang (perkiraan)Tanpa alkohol',\n       'Rp45.000 untuk 2 orang (perkiraan)',\n       'Rp170.000 untuk 2 orang (perkiraan)',\n       'Rp6.000 untuk 2 orang (perkiraan)',\n       'Rp250.000 untuk 2 orang (perkiraan)Tanpa alkohol',\n       'Rp300.000 untuk 2 orang (perkiraan)Tanpa alkohol',\n       'Rp120.000 untuk 2 orang (perkiraan)Tanpa alkohol',\n       'Rp195.000 untuk 2 orang (perkiraan)',\n       'Rp40 untuk 2 orang (perkiraan)',\n       'Rp80.000 untuk 2 orang (perkiraan)Tanpa alkohol',\n       'Rp350.000 untuk 2 orang (perkiraan)Tanpa alkohol',\n       'Rp64.000 untuk 2 orang (perkiraan)',\n       'Rp175.000 untuk 2 orang (perkiraan)',\n       'Rp39.998 untuk 2 orang (perkiraan)',\n       'Rp200.000 untuk 2 orang (perkiraan)dengan alkohol',\n       'Rp235.000 untuk 2 orang (perkiraan)',\n       'Rp270.000 untuk 2 orang (perkiraan)',\n       'Rp450.000 untuk 2 orang (perkiraan)',\n       'Rp500.000 untuk 2 orang (perkiraan)',\n       'Rp25.000 untuk 2 orang (perkiraan)',\n       'Rp180.000 untuk 2 orang (perkiraan)Tanpa alkohol',\n       'Rp220.000 untuk 2 orang (perkiraan)',\n       'Rp94.000 untuk 2 orang (perkiraan)',\n       'Rp200 untuk 2 orang (perkiraan)Tanpa alkohol',\n       'Rp56.000 untuk 2 orang (perkiraan)',\n       'Rp76.000 untuk 2 orang (perkiraan)',\n       'Rp88.000 untuk 2 orang (perkiraan)',\n       'Rp36.000 untuk 2 orang (perkiraan)',\n       'Rp70.000 untuk 2 orang (perkiraan)Tanpa alkohol',\n       'Rp230.000 untuk 2 orang (perkiraan)dengan alkohol',\n       'Rp400.000 untuk 2 orang (perkiraan)dengan alkohol',\n       'Rp260.000 untuk 2 orang (perkiraan)',\n       'Rp15.000 untuk 2 orang (perkiraan)',\n       'Rp120.000 untuk 2 orang (perkiraan)dengan alkohol',\n       'Rp450.000 untuk 2 orang (perkiraan)dengan alkohol',\n       'Rp210.000 untuk 2 orang (perkiraan)',\n       'Rp700.000 untuk 2 orang (perkiraan)Tanpa alkohol',\n       'Rp1.000.000 untuk 2 orang (perkiraan)Tanpa alkohol',\n       'Rp280.000 untuk 2 orang (perkiraan)',\n       'Rp350.000 untuk 2 orang (perkiraan)',\n       'Rp450.000 untuk 2 orang (perkiraan)Tanpa alkohol',\n       'Rp350.000 untuk 2 orang (perkiraan)dengan alkohol',\n       'Rp330.000 untuk 2 orang (perkiraan)',\n       'Rp280.000 untuk 2 orang (perkiraan)Tanpa alkohol',\n       'Rp800.000 untuk 2 orang (perkiraan)',\n       'Rp240.000 untuk 2 orang (perkiraan)',\n       'Rp650.000 untuk 2 orang (perkiraan)Tanpa alkohol',\n       'Rp3.000.000 untuk 2 orang (perkiraan)Tanpa alkohol',\n       'Rp550.000 untuk 2 orang (perkiraan)Tanpa alkohol',\n       'Rp400.000 untuk 2 orang (perkiraan)',\n       'Rp125.000 untuk 2 orang (perkiraan)',\n       'Rp295.000 untuk 2 orang (perkiraan)',\n       'Rp115.000 untuk 2 orang (perkiraan)',\n       'Rp230.000 untuk 2 orang (perkiraan)',\n       'Rp160.000 untuk 2 orang (perkiraan)Tanpa alkohol',\n       'Rp1.200.000 untuk 2 orang (perkiraan)Tanpa alkohol',\n       'Rp600.000 untuk 2 orang (perkiraan)Tanpa alkohol',\n       'Rp95.000 untuk 2 orang (perkiraan)',\n       'Rp198.000 untuk 2 orang (perkiraan)',\n       'Rp220.000 untuk 2 orang (perkiraan)Tanpa alkohol',\n       'Rp380.000 untuk 2 orang (perkiraan)',\n       'Rp370.000 untuk 2 orang (perkiraan)Tanpa alkohol',\n       'Rp600.000 untuk 2 orang (perkiraan)dengan alkohol',\n       'Rp1.400.000 untuk 2 orang (perkiraan)Tanpa alkohol',\n       'Rp1.900.000 untuk 2 orang (perkiraan)Tanpa alkohol',\n       'Rp900.000 untuk 2 orang (perkiraan)Tanpa alkohol',\n       'Rp850.000 untuk 2 orang (perkiraan)Tanpa alkohol',\n       'Rp650.000 untuk 2 orang (perkiraan)dengan alkohol',\n       'Rp455.000 untuk 2 orang (perkiraan)Tanpa alkohol',\n       'Rp800.000 untuk 2 orang (perkiraan)Tanpa alkohol',\n       'Rp750.000 untuk 2 orang (perkiraan)Tanpa alkohol',\n       'Rp2.400.000 untuk 2 orang (perkiraan)Tanpa alkohol',\n       'Rp320.000 untuk 2 orang (perkiraan)Tanpa alkohol',\n       'Rp1.300.000 untuk 2 orang (perkiraan)Tanpa alkohol',\n       'Rp325.000 untuk 2 orang (perkiraan)Tanpa alkohol',\n       'Rp225.000 untuk 2 orang (perkiraan)',\n       'Rp135.000 untuk 2 orang (perkiraan)',\n       'Rp50 untuk 2 orang (perkiraan)',\n       'Rp480.000 untuk 2 orang (perkiraan)Tanpa alkohol',\n       'Rp270.000 untuk 2 orang (perkiraan)Tanpa alkohol',\n       'Rp240.000 untuk 2 orang (perkiraan)Tanpa alkohol',\n       'Rp600.000 untuk 2 orang (perkiraan)',\n       'Rp60.000 untuk 2 orang (perkiraan)Tanpa alkohol',\n       'Rp170.000 untuk 2 orang (perkiraan)Tanpa alkohol',\n       'Rp1.000.000 untuk 2 orang (perkiraan)',\n       'Rp150.000 untuk 2 orang (perkiraan)dengan alkohol',\n       'Rp185.000 untuk 2 orang (perkiraan)',\n       'Rp190.000 untuk 2 orang (perkiraan)',\n       'Rp230.000 untuk 2 orang (perkiraan)Tanpa alkohol',\n       'Rp750.000 untuk 2 orang (perkiraan)',\n       'Rp950.000 untuk 2 orang (perkiraan)Tanpa alkohol',\n       'Rp105.000 untuk 2 orang (perkiraan)',\n       'Rp70 untuk 2 orang (perkiraan)',\n       'Rp420.000 untuk 2 orang (perkiraan)',\n       'Rp430.000 untuk 2 orang (perkiraan)Tanpa alkohol',\n       'Rp1.165.000 untuk 2 orang (perkiraan)Tanpa alkohol',\n       'Rp225.000 untuk 2 orang (perkiraan)Tanpa alkohol',\n       'Rp335.000 untuk 2 orang (perkiraan)Tanpa alkohol',\n       'Rp340.000 untuk 2 orang (perkiraan)',\n       'Rp135.000 untuk 2 orang (perkiraan)Tanpa alkohol',\n       'Rp53.000 untuk 2 orang (perkiraan)',\n       'Rp150 untuk 2 orang (perkiraan)',\n       'Rp110.000 untuk 2 orang (perkiraan)Tanpa alkohol',\n       'Rp50.000 untuk 2 orang (perkiraan)Tanpa alkohol',\n       'Rp100 untuk 2 orang (perkiraan)',\n       'Rp470.000 untuk 2 orang (perkiraan)Tanpa alkohol',\n       'Rp330.000 untuk 2 orang (perkiraan)Tanpa alkohol',\n       'Rp1.650.000 untuk 2 orang (perkiraan)Tanpa alkohol',\n       'Rp140.000 untuk 2 orang (perkiraan)Tanpa alkohol',\n       'Rp52.000 untuk 2 orang (perkiraan)',\n       'Rp60.001 untuk 2 orang (perkiraan)',\n       'Rp275.000 untuk 2 orang (perkiraan)',\n       'Rp550.000 untuk 2 orang (perkiraan)dengan alkohol',\n       'Rp220.000 untuk 2 orang (perkiraan)dengan alkohol',\n       'Rp3.500.000 untuk 2 orang (perkiraan)Tanpa alkohol',\n       'Rp40.000 untuk 2 orang (perkiraan)Tanpa alkohol',\n       'Rp72.000 untuk 2 orang (perkiraan)',\n       'Rp34.000 untuk 2 orang (perkiraan)',\n       'Rp170.000 untuk 2 orang (perkiraan)dengan alkohol',\n       'Rp315.000 untuk 2 orang (perkiraan)',\n       'Rp525.000 untuk 2 orang (perkiraan)dengan alkohol',\n       'Rp280.000 untuk 2 orang (perkiraan)dengan alkohol',\n       'Rp290.000 untuk 2 orang (perkiraan)dengan alkohol',\n       'Rp380.000 untuk 2 orang (perkiraan)Tanpa alkohol',\n       'Rp700.000 untuk 2 orang (perkiraan)dengan alkohol',\n       'Rp80.000 untuk 2 orang (perkiraan)dengan alkohol',\n       'Rp125.000 untuk 2 orang (perkiraan)Tanpa alkohol',\n       'Rp130.000 untuk 2 orang (perkiraan)Tanpa alkohol',\n       'Rp480.000 untuk 2 orang (perkiraan)dengan alkohol',\n       'Rp290.000 untuk 2 orang (perkiraan)',\n       'Rp145.000 untuk 2 orang (perkiraan)',\n       'Rp800.000 untuk 2 orang (perkiraan)dengan alkohol',\n       'Rp175.000 untuk 2 orang (perkiraan)Tanpa alkohol',\n       'Rp165.000 untuk 2 orang (perkiraan)',\n       'Rp109.800 untuk 2 orang (perkiraan)',\n       'Rp475.000 untuk 2 orang (perkiraan)Tanpa alkohol',\n       'Rp375.000 untuk 2 orang (perkiraan)',\n       'Rp85.000 untuk 2 orang (perkiraan)Tanpa alkohol',\n       'Rp112.000 untuk 2 orang (perkiraan)',\n       'Rp81.000 untuk 2 orang (perkiraan)',\n       'Rp55.000 untuk 2 orang (perkiraan)Tanpa alkohol',\n       'Rp320.000 untuk 2 orang (perkiraan)',\n       'Rp425.000 untuk 2 orang (perkiraan)Tanpa alkohol',\n       'Rp180.000 untuk 2 orang (perkiraan)dengan alkohol',\n       'Rp256.000 untuk 2 orang (perkiraan)',\n       'Rp31.000 untuk 2 orang (perkiraan)',\n       'Rp1.450.000 untuk 2 orang (perkiraan)'], dtype=object)"
     },
     "metadata": {},
     "execution_count": 74
    }
   ],
   "source": [
    "#Check - Unique Values for Price for 2\n",
    "\n",
    "rdf['Price for 2'].unique()"
   ]
  },
  {
   "cell_type": "code",
   "execution_count": 75,
   "metadata": {
    "tags": []
   },
   "outputs": [
    {
     "output_type": "stream",
     "name": "stdout",
     "text": "Amount of No Price Category :  56  - Percentage (%) :  0.5\nAmount of Available Price Category :  11211  - Percentage (%) :  99.5\n"
    }
   ],
   "source": [
    "total = rdf.shape[0]\n",
    "noprice_ct = sum(rdf['Price for 2'] == 'No Price Data Found')\n",
    "availprice_ct = total - noprice_ct\n",
    "\n",
    "print(\"Amount of No Price Category : \", noprice_ct, \" - Percentage (%) : \", round(100*noprice_ct/total,2))\n",
    "print(\"Amount of Available Price Category : \", availprice_ct, \" - Percentage (%) : \", round(100*availprice_ct/total,2))"
   ]
  },
  {
   "source": [
    "### For Irregular Entry in Price for 2\n",
    "\n",
    "NO PRICE DATA FOUND\n",
    "\n",
    "1. For the time being, we'll convert No Price Data Found to 0\n",
    "\n",
    "PRICE TOO SMALL\n",
    "\n",
    "2. Rp200 untuk 2 orang (perkiraan)Tanpa alkohol \n",
    "\n",
    "3. Rp150 untuk 2 orang (perkiraan)\n",
    "\n",
    "4. Rp100 untuk 2 orang (perkiraan)\n",
    " \n",
    "5. Rp70 untuk 2 orang (perkiraan)\n",
    "\n",
    "6. Rp50 untuk 2 orang (perkiraan)\n",
    "\n",
    "7. Rp40 untuk 2 orang (perkiraan)\n",
    "\n",
    "We'll do a sample check"
   ],
   "cell_type": "markdown",
   "metadata": {}
  },
  {
   "source": [
    "rdf[rdf['Price for 2'] == 'Rp40 untuk 2 orang (perkiraan)']"
   ],
   "cell_type": "code",
   "metadata": {},
   "execution_count": 76,
   "outputs": [
    {
     "output_type": "execute_result",
     "data": {
      "text/plain": "     Restaurant Name Restaurant Area  Restaurant Rating  Review Counts  \\\n1101        Chikidot         Tambora                0.0              0   \n\n      Latitude   Longitude                                            Website  \\\n1101 -6.149455  106.803829  https://www.zomato.com/id/jakarta/chikidot-tam...   \n\n                                     Restaurant Address  \\\n1101  Jl. Krendang Tengah, 48, RW 3, Krendang, Kec, ...   \n\n                         Price for 2  \\\n1101  Rp40 untuk 2 orang (perkiraan)   \n\n                                   Additional Info     Province  \\\n1101  ['Bawa Pulang Tersedia', 'Di dalam ruangan']  DKI Jakarta   \n\n               City District/Kecamatan                     Types  \\\n1101  Jakarta Barat            Tambora  [Quick Bites, Indonesia]   \n\n         Place Type               Cuisines Cuisine Regionality  \n1101  [Quick Bites]  [Unspecified Cuisine]         [Indonesia]  ",
      "text/html": "<div>\n<style scoped>\n    .dataframe tbody tr th:only-of-type {\n        vertical-align: middle;\n    }\n\n    .dataframe tbody tr th {\n        vertical-align: top;\n    }\n\n    .dataframe thead th {\n        text-align: right;\n    }\n</style>\n<table border=\"1\" class=\"dataframe\">\n  <thead>\n    <tr style=\"text-align: right;\">\n      <th></th>\n      <th>Restaurant Name</th>\n      <th>Restaurant Area</th>\n      <th>Restaurant Rating</th>\n      <th>Review Counts</th>\n      <th>Latitude</th>\n      <th>Longitude</th>\n      <th>Website</th>\n      <th>Restaurant Address</th>\n      <th>Price for 2</th>\n      <th>Additional Info</th>\n      <th>Province</th>\n      <th>City</th>\n      <th>District/Kecamatan</th>\n      <th>Types</th>\n      <th>Place Type</th>\n      <th>Cuisines</th>\n      <th>Cuisine Regionality</th>\n    </tr>\n  </thead>\n  <tbody>\n    <tr>\n      <th>1101</th>\n      <td>Chikidot</td>\n      <td>Tambora</td>\n      <td>0.0</td>\n      <td>0</td>\n      <td>-6.149455</td>\n      <td>106.803829</td>\n      <td>https://www.zomato.com/id/jakarta/chikidot-tam...</td>\n      <td>Jl. Krendang Tengah, 48, RW 3, Krendang, Kec, ...</td>\n      <td>Rp40 untuk 2 orang (perkiraan)</td>\n      <td>['Bawa Pulang Tersedia', 'Di dalam ruangan']</td>\n      <td>DKI Jakarta</td>\n      <td>Jakarta Barat</td>\n      <td>Tambora</td>\n      <td>[Quick Bites, Indonesia]</td>\n      <td>[Quick Bites]</td>\n      <td>[Unspecified Cuisine]</td>\n      <td>[Indonesia]</td>\n    </tr>\n  </tbody>\n</table>\n</div>"
     },
     "metadata": {},
     "execution_count": 76
    }
   ]
  },
  {
   "source": [
    "After checking above restaurant's menu, looks like the Price for 2 is supposed to be 40.000 / 2 pax, instead of 40 / 2 pax.\n",
    "\n",
    "So we'll multiply the price that are too small with 10.000"
   ],
   "cell_type": "markdown",
   "metadata": {}
  },
  {
   "cell_type": "code",
   "execution_count": 77,
   "metadata": {},
   "outputs": [],
   "source": [
    "#Let's replace the No Price Data Found with 0\n",
    "\n",
    "noprice_list = list(rdf.loc[rdf['Price for 2'] == 'No Price Data Found'].index)"
   ]
  },
  {
   "cell_type": "code",
   "execution_count": 78,
   "metadata": {},
   "outputs": [],
   "source": [
    "for i in noprice_list:\n",
    "    rdf.at[i, 'Price for 2'] = 0"
   ]
  },
  {
   "cell_type": "code",
   "execution_count": 79,
   "metadata": {
    "tags": []
   },
   "outputs": [
    {
     "output_type": "stream",
     "name": "stdout",
     "text": "Int64Index([1605], dtype='int64')\nInt64Index([4636], dtype='int64')\nInt64Index([4845, 5668], dtype='int64')\nInt64Index([3699], dtype='int64')\nInt64Index([3238, 3703], dtype='int64')\nInt64Index([1101], dtype='int64')\n"
    }
   ],
   "source": [
    "#Let's multiply the Price Too Small category with 10K\n",
    "\n",
    "print(rdf.loc[rdf['Price for 2'] == 'Rp200 untuk 2 orang (perkiraan)Tanpa alkohol']['Price for 2'].index)\n",
    "print(rdf.loc[rdf['Price for 2'] == 'Rp150 untuk 2 orang (perkiraan)']['Price for 2'].index)\n",
    "print(rdf.loc[rdf['Price for 2'] == 'Rp100 untuk 2 orang (perkiraan)']['Price for 2'].index)\n",
    "print(rdf.loc[rdf['Price for 2'] == 'Rp70 untuk 2 orang (perkiraan)']['Price for 2'].index)\n",
    "print(rdf.loc[rdf['Price for 2'] == 'Rp50 untuk 2 orang (perkiraan)']['Price for 2'].index)\n",
    "print(rdf.loc[rdf['Price for 2'] == 'Rp40 untuk 2 orang (perkiraan)']['Price for 2'].index)"
   ]
  },
  {
   "cell_type": "code",
   "execution_count": 80,
   "metadata": {},
   "outputs": [],
   "source": [
    "rdf.at[1605, 'Price for 2'] = 'Rp200.000 untuk 2 orang (perkiraan)Tanpa alkohol'\n",
    "\n",
    "rdf.at[4636, 'Price for 2'] = 'Rp150.000 untuk 2 orang (perkiraan)'\n",
    "\n",
    "rdf.at[4845, 'Price for 2'] = 'Rp100.000 untuk 2 orang (perkiraan)'\n",
    "rdf.at[5668, 'Price for 2'] = 'Rp100.000 untuk 2 orang (perkiraan)'\n",
    "\n",
    "rdf.at[3699, 'Price for 2'] = 'Rp70.000 untuk 2 orang (perkiraan)'\n",
    "\n",
    "rdf.at[3238, 'Price for 2'] = 'Rp50.000 untuk 2 orang (perkiraan)'\n",
    "rdf.at[3703, 'Price for 2'] = 'Rp50.000 untuk 2 orang (perkiraan)'\n",
    "\n",
    "rdf.at[1101, 'Price for 2'] = 'Rp40.000 untuk 2 orang (perkiraan)'"
   ]
  },
  {
   "cell_type": "code",
   "execution_count": 81,
   "metadata": {},
   "outputs": [],
   "source": [
    "# Finally, let's convert the price to integer\n",
    "\n",
    "def convert_price(row):\n",
    "    price = row['Price for 2']\n",
    "    \n",
    "    if price == 0:\n",
    "        return int(price)\n",
    "    else:\n",
    "        price12 = price[0:12]\n",
    "        pricestrip = price12.strip(\"Rpunt\")\n",
    "        priceminusdot = pricestrip.replace('.', '')\n",
    "\n",
    "        return int(priceminusdot)"
   ]
  },
  {
   "cell_type": "code",
   "execution_count": 82,
   "metadata": {},
   "outputs": [],
   "source": [
    "rdf['Price for 2'] = rdf.apply(lambda row: convert_price(row), axis=1)"
   ]
  },
  {
   "cell_type": "code",
   "execution_count": 83,
   "metadata": {},
   "outputs": [
    {
     "output_type": "execute_result",
     "data": {
      "text/plain": "array([ 500000,   70000,  300000,   90000,  100000,   30000,   50000,\n         60000,  120000,   80000,  180000,   75000,   40000,  150000,\n        130000,   65000,  250000,   35000,  200000,  110000,  140000,\n        260000,   20000,   85000,       0,  160000,  400000,   55000,\n         45000,  170000,    6000,  195000,  350000,   64000,  175000,\n         39998,  235000,  270000,  450000,   25000,  220000,   94000,\n         56000,   76000,   88000,   36000,  230000,   15000,  210000,\n        700000, 1000000,  280000,  330000,  800000,  240000,  650000,\n       3000000,  550000,  125000,  295000,  115000, 1200000,  600000,\n         95000,  198000,  380000,  370000, 1400000, 1900000,  900000,\n        850000,  455000,  750000, 2400000,  320000, 1300000,  325000,\n        225000,  135000,  480000,  185000,  190000,  950000,  105000,\n        420000,  430000, 1165000,  335000,  340000,   53000,  470000,\n       1650000,   52000,   60001,  275000, 3500000,   72000,   34000,\n        315000,  525000,  290000,  145000,  165000,  109800,  475000,\n        375000,  112000,   81000,  425000,  256000,   31000, 1450000],\n      dtype=int64)"
     },
     "metadata": {},
     "execution_count": 83
    }
   ],
   "source": [
    "rdf['Price for 2'].unique()"
   ]
  },
  {
   "cell_type": "code",
   "execution_count": 84,
   "metadata": {},
   "outputs": [
    {
     "output_type": "execute_result",
     "data": {
      "text/plain": "dtype('int64')"
     },
     "metadata": {},
     "execution_count": 84
    }
   ],
   "source": [
    "# Check the Feature Type again\n",
    "rdf['Price for 2'].dtype"
   ]
  },
  {
   "source": [
    "# 6. EXPLORE WEBSITE"
   ],
   "cell_type": "markdown",
   "metadata": {}
  },
  {
   "cell_type": "code",
   "execution_count": 85,
   "metadata": {},
   "outputs": [],
   "source": [
    "#Remove Trailing New Line\n",
    "\n",
    "rdf['Website'] = rdf['Website'].str.rstrip()"
   ]
  },
  {
   "source": [
    "# 7. EXPLORE ADDITIONAL INFO"
   ],
   "cell_type": "markdown",
   "metadata": {}
  },
  {
   "cell_type": "code",
   "execution_count": 86,
   "metadata": {},
   "outputs": [
    {
     "output_type": "execute_result",
     "data": {
      "text/plain": "0"
     },
     "metadata": {},
     "execution_count": 86
    }
   ],
   "source": [
    "#Check - do we have NA value for Additional Info or not\n",
    "\n",
    "rdf['Additional Info'].isna().sum()"
   ]
  },
  {
   "cell_type": "code",
   "execution_count": 87,
   "metadata": {},
   "outputs": [],
   "source": [
    "#Let's check the amount of Additional Info\n",
    "\n",
    "additional_info = []\n",
    "\n",
    "for index, row in rdf.iterrows():\n",
    "    info_string = row['Additional Info']\n",
    "    info_list = convert_str_list(info_string)\n",
    "    additional_info.extend(info_list)\n",
    "\n",
    "additional_info = list(set(additional_info))"
   ]
  },
  {
   "cell_type": "code",
   "execution_count": 88,
   "metadata": {},
   "outputs": [
    {
     "output_type": "execute_result",
     "data": {
      "text/plain": "54"
     },
     "metadata": {},
     "execution_count": 88
    }
   ],
   "source": [
    "len(additional_info)"
   ]
  },
  {
   "cell_type": "code",
   "execution_count": 89,
   "metadata": {},
   "outputs": [
    {
     "output_type": "execute_result",
     "data": {
      "text/plain": "['',\n 'Lantai Dansa',\n 'Drive Through',\n 'Craft Beer',\n 'Hanya Wine',\n 'Pilihan Bebas Gluten',\n 'Reservasi meja direkomendasikan',\n 'Area Merokok',\n 'Meja Billiard',\n 'Ramah untuk Difabel',\n 'Menyediakan cocktail',\n 'Karaoke',\n 'Board Games',\n 'Bawa Pulang Tersedia',\n 'Kaki5 Bersertifikat BPOM',\n 'Pilihan Vegan',\n 'Shisha',\n 'BYOB',\n 'Accepts Cryptocurrency',\n 'Desserts and Bakes',\n 'Live Music',\n 'Makan Mewah',\n 'Sports Bar',\n 'Hanya Bawa Pulang',\n 'Gastro Pub',\n 'Buffet',\n 'Alkohol Tersedia',\n 'Sarapan',\n 'Hanya Wine dan Bir',\n 'Pemandangan Kota',\n 'No Additional Info',\n 'Makan Dengan Grup',\n 'Biaya Buka Botol',\n 'Rooftop',\n 'Pesan Antar',\n 'Ramah Vegetarian',\n 'Kehidupan Malam',\n 'Brunch',\n 'Ramah untuk Anak',\n 'Hanya Pesan Antar',\n 'Ruang Pribadi Tersedia',\n 'Parkir Gratis',\n 'Tempat duduk di luar',\n 'Di dalam ruangan',\n 'Hanya untuk reservasi meja',\n 'Menyediakan Halal',\n 'Parkir Valet Tersedia',\n 'Ruang Sholat',\n 'Live Entertainment',\n 'Prasmanan',\n 'Hanya Bir',\n 'Biaya masuk',\n 'Wifi Tersedia',\n 'Menu Makan Siang']"
     },
     "metadata": {},
     "execution_count": 89
    }
   ],
   "source": [
    "additional_info"
   ]
  },
  {
   "cell_type": "code",
   "execution_count": 90,
   "metadata": {},
   "outputs": [],
   "source": [
    "#Let's convert Additional Info from string to a list of values, for easier future use\n",
    "\n",
    "def convert_info(row): \n",
    "    info_string = row['Additional Info']\n",
    "    info_strip = info_string.strip(\"[]\")\n",
    "    info_split = list(info_strip.split(\", \")) \n",
    "    info = [letter.strip(\"'\") for letter in info_split]\n",
    "    \n",
    "    if len(info) == 0:\n",
    "        info.append('-')\n",
    "    \n",
    "    return list(set(info))"
   ]
  },
  {
   "cell_type": "code",
   "execution_count": 91,
   "metadata": {},
   "outputs": [],
   "source": [
    "rdf['Additional Info'] = rdf.apply(lambda row: convert_info(row), axis=1)"
   ]
  },
  {
   "cell_type": "code",
   "execution_count": 92,
   "metadata": {},
   "outputs": [
    {
     "output_type": "execute_result",
     "data": {
      "text/plain": "     Restaurant Name Restaurant Area  Restaurant Rating  Review Counts  \\\n0        Holy Smokes        Senopati                4.4           1437   \n1     Pempek Megaria          Cikini                4.3            461   \n2      Tjikinii Lima          Cikini                4.0            391   \n3  Gado-Gado Bon-Bin          Cikini                4.0            177   \n4      Koffie Fictie  Bekasi Selatan                1.5              1   \n\n   Latitude   Longitude                                            Website  \\\n0 -6.239143  106.807954  https://www.zomato.com/id/jakarta/holy-smokes-...   \n1 -6.199900  106.843739  https://www.zomato.com/id/jakarta/pempek-megar...   \n2 -6.189802  106.837150  https://www.zomato.com/id/jakarta/tjikinii-lim...   \n3 -6.192959  106.838377  https://www.zomato.com/id/jakarta/gado-gado-bo...   \n4 -6.272059  106.970932  https://www.zomato.com/id/jakarta/koffie-ficti...   \n\n                                  Restaurant Address  Price for 2  \\\n0    Jl. Wolter Monginsidi No. 27, Senopati, Jakarta       500000   \n1  Metropole 21, Jl. Pegangsaan Timur No. 21, Cik...        70000   \n2          Jl. Cikini I No. 5, Cikini, Jakarta 10330       300000   \n3                Jl. Cikini 4 No. 5, Cikini, Jakarta        90000   \n4  Grand Galaxy Park, Ruko RSOD No. 026, Jl. Lotu...       100000   \n\n                                     Additional Info     Province  \\\n0  [Di dalam ruangan, Hanya Wine dan Bir, Parkir ...  DKI Jakarta   \n1           [Bawa Pulang Tersedia, Di dalam ruangan]  DKI Jakarta   \n2  [Ruang Pribadi Tersedia, Tempat duduk di luar,...  DKI Jakarta   \n3           [Bawa Pulang Tersedia, Di dalam ruangan]  DKI Jakarta   \n4           [Bawa Pulang Tersedia, Di dalam ruangan]   Jawa Barat   \n\n              City District/Kecamatan                                Types  \\\n0  Jakarta Selatan     Kebayoran Baru  [Grill House, Steak, Casual Dining]   \n1    Jakarta Pusat            Menteng             [Palembang, Quick Bites]   \n2    Jakarta Pusat            Menteng    [Casual Dining, Indonesia, Barat]   \n3    Jakarta Pusat            Menteng                  [Jawa, Quick Bites]   \n4      Bekasi Kota     Bekasi Selatan                         [Kopi, Kafe]   \n\n        Place Type               Cuisines   Cuisine Regionality  \n0  [Casual Dining]   [Grill House, Steak]  [Unspecified Region]  \n1    [Quick Bites]  [Unspecified Cuisine]           [Palembang]  \n2  [Casual Dining]  [Unspecified Cuisine]    [Barat, Indonesia]  \n3    [Quick Bites]  [Unspecified Cuisine]                [Jawa]  \n4           [Kafe]                 [Kopi]  [Unspecified Region]  ",
      "text/html": "<div>\n<style scoped>\n    .dataframe tbody tr th:only-of-type {\n        vertical-align: middle;\n    }\n\n    .dataframe tbody tr th {\n        vertical-align: top;\n    }\n\n    .dataframe thead th {\n        text-align: right;\n    }\n</style>\n<table border=\"1\" class=\"dataframe\">\n  <thead>\n    <tr style=\"text-align: right;\">\n      <th></th>\n      <th>Restaurant Name</th>\n      <th>Restaurant Area</th>\n      <th>Restaurant Rating</th>\n      <th>Review Counts</th>\n      <th>Latitude</th>\n      <th>Longitude</th>\n      <th>Website</th>\n      <th>Restaurant Address</th>\n      <th>Price for 2</th>\n      <th>Additional Info</th>\n      <th>Province</th>\n      <th>City</th>\n      <th>District/Kecamatan</th>\n      <th>Types</th>\n      <th>Place Type</th>\n      <th>Cuisines</th>\n      <th>Cuisine Regionality</th>\n    </tr>\n  </thead>\n  <tbody>\n    <tr>\n      <th>0</th>\n      <td>Holy Smokes</td>\n      <td>Senopati</td>\n      <td>4.4</td>\n      <td>1437</td>\n      <td>-6.239143</td>\n      <td>106.807954</td>\n      <td>https://www.zomato.com/id/jakarta/holy-smokes-...</td>\n      <td>Jl. Wolter Monginsidi No. 27, Senopati, Jakarta</td>\n      <td>500000</td>\n      <td>[Di dalam ruangan, Hanya Wine dan Bir, Parkir ...</td>\n      <td>DKI Jakarta</td>\n      <td>Jakarta Selatan</td>\n      <td>Kebayoran Baru</td>\n      <td>[Grill House, Steak, Casual Dining]</td>\n      <td>[Casual Dining]</td>\n      <td>[Grill House, Steak]</td>\n      <td>[Unspecified Region]</td>\n    </tr>\n    <tr>\n      <th>1</th>\n      <td>Pempek Megaria</td>\n      <td>Cikini</td>\n      <td>4.3</td>\n      <td>461</td>\n      <td>-6.199900</td>\n      <td>106.843739</td>\n      <td>https://www.zomato.com/id/jakarta/pempek-megar...</td>\n      <td>Metropole 21, Jl. Pegangsaan Timur No. 21, Cik...</td>\n      <td>70000</td>\n      <td>[Bawa Pulang Tersedia, Di dalam ruangan]</td>\n      <td>DKI Jakarta</td>\n      <td>Jakarta Pusat</td>\n      <td>Menteng</td>\n      <td>[Palembang, Quick Bites]</td>\n      <td>[Quick Bites]</td>\n      <td>[Unspecified Cuisine]</td>\n      <td>[Palembang]</td>\n    </tr>\n    <tr>\n      <th>2</th>\n      <td>Tjikinii Lima</td>\n      <td>Cikini</td>\n      <td>4.0</td>\n      <td>391</td>\n      <td>-6.189802</td>\n      <td>106.837150</td>\n      <td>https://www.zomato.com/id/jakarta/tjikinii-lim...</td>\n      <td>Jl. Cikini I No. 5, Cikini, Jakarta 10330</td>\n      <td>300000</td>\n      <td>[Ruang Pribadi Tersedia, Tempat duduk di luar,...</td>\n      <td>DKI Jakarta</td>\n      <td>Jakarta Pusat</td>\n      <td>Menteng</td>\n      <td>[Casual Dining, Indonesia, Barat]</td>\n      <td>[Casual Dining]</td>\n      <td>[Unspecified Cuisine]</td>\n      <td>[Barat, Indonesia]</td>\n    </tr>\n    <tr>\n      <th>3</th>\n      <td>Gado-Gado Bon-Bin</td>\n      <td>Cikini</td>\n      <td>4.0</td>\n      <td>177</td>\n      <td>-6.192959</td>\n      <td>106.838377</td>\n      <td>https://www.zomato.com/id/jakarta/gado-gado-bo...</td>\n      <td>Jl. Cikini 4 No. 5, Cikini, Jakarta</td>\n      <td>90000</td>\n      <td>[Bawa Pulang Tersedia, Di dalam ruangan]</td>\n      <td>DKI Jakarta</td>\n      <td>Jakarta Pusat</td>\n      <td>Menteng</td>\n      <td>[Jawa, Quick Bites]</td>\n      <td>[Quick Bites]</td>\n      <td>[Unspecified Cuisine]</td>\n      <td>[Jawa]</td>\n    </tr>\n    <tr>\n      <th>4</th>\n      <td>Koffie Fictie</td>\n      <td>Bekasi Selatan</td>\n      <td>1.5</td>\n      <td>1</td>\n      <td>-6.272059</td>\n      <td>106.970932</td>\n      <td>https://www.zomato.com/id/jakarta/koffie-ficti...</td>\n      <td>Grand Galaxy Park, Ruko RSOD No. 026, Jl. Lotu...</td>\n      <td>100000</td>\n      <td>[Bawa Pulang Tersedia, Di dalam ruangan]</td>\n      <td>Jawa Barat</td>\n      <td>Bekasi Kota</td>\n      <td>Bekasi Selatan</td>\n      <td>[Kopi, Kafe]</td>\n      <td>[Kafe]</td>\n      <td>[Kopi]</td>\n      <td>[Unspecified Region]</td>\n    </tr>\n  </tbody>\n</table>\n</div>"
     },
     "metadata": {},
     "execution_count": 92
    }
   ],
   "source": [
    "rdf.head()"
   ]
  },
  {
   "source": [
    "# 8. COMBINE DATAFRAME with DELIVERY SERVICE DATAFRAME"
   ],
   "cell_type": "markdown",
   "metadata": {}
  },
  {
   "cell_type": "code",
   "execution_count": 93,
   "metadata": {},
   "outputs": [
    {
     "output_type": "execute_result",
     "data": {
      "text/plain": "                                                Website Delivery Service\n0       https://www.zomato.com/id/jakarta/gioi-senopati              Yes\n1     https://www.zomato.com/id/jakarta/holywings-be...              Yes\n2     https://www.zomato.com/id/jakarta/the-garden-p...              Yes\n3     https://www.zomato.com/id/jakarta/glass-house-...              Yes\n4     https://www.zomato.com/id/jakarta/rucis-joint-...              Yes\n...                                                 ...              ...\n3308  https://www.zomato.com/id/jakarta/malabar-moun...              Yes\n3309  https://www.zomato.com/id/jakarta/martabak-pec...              Yes\n3310  https://www.zomato.com/id/jakarta/bruno-cafe-i...              Yes\n3311  https://www.zomato.com/id/jakarta/hotaru-deli-...              Yes\n3312  https://www.zomato.com/id/jakarta/labella-kitc...              Yes\n\n[3313 rows x 2 columns]",
      "text/html": "<div>\n<style scoped>\n    .dataframe tbody tr th:only-of-type {\n        vertical-align: middle;\n    }\n\n    .dataframe tbody tr th {\n        vertical-align: top;\n    }\n\n    .dataframe thead th {\n        text-align: right;\n    }\n</style>\n<table border=\"1\" class=\"dataframe\">\n  <thead>\n    <tr style=\"text-align: right;\">\n      <th></th>\n      <th>Website</th>\n      <th>Delivery Service</th>\n    </tr>\n  </thead>\n  <tbody>\n    <tr>\n      <th>0</th>\n      <td>https://www.zomato.com/id/jakarta/gioi-senopati</td>\n      <td>Yes</td>\n    </tr>\n    <tr>\n      <th>1</th>\n      <td>https://www.zomato.com/id/jakarta/holywings-be...</td>\n      <td>Yes</td>\n    </tr>\n    <tr>\n      <th>2</th>\n      <td>https://www.zomato.com/id/jakarta/the-garden-p...</td>\n      <td>Yes</td>\n    </tr>\n    <tr>\n      <th>3</th>\n      <td>https://www.zomato.com/id/jakarta/glass-house-...</td>\n      <td>Yes</td>\n    </tr>\n    <tr>\n      <th>4</th>\n      <td>https://www.zomato.com/id/jakarta/rucis-joint-...</td>\n      <td>Yes</td>\n    </tr>\n    <tr>\n      <th>...</th>\n      <td>...</td>\n      <td>...</td>\n    </tr>\n    <tr>\n      <th>3308</th>\n      <td>https://www.zomato.com/id/jakarta/malabar-moun...</td>\n      <td>Yes</td>\n    </tr>\n    <tr>\n      <th>3309</th>\n      <td>https://www.zomato.com/id/jakarta/martabak-pec...</td>\n      <td>Yes</td>\n    </tr>\n    <tr>\n      <th>3310</th>\n      <td>https://www.zomato.com/id/jakarta/bruno-cafe-i...</td>\n      <td>Yes</td>\n    </tr>\n    <tr>\n      <th>3311</th>\n      <td>https://www.zomato.com/id/jakarta/hotaru-deli-...</td>\n      <td>Yes</td>\n    </tr>\n    <tr>\n      <th>3312</th>\n      <td>https://www.zomato.com/id/jakarta/labella-kitc...</td>\n      <td>Yes</td>\n    </tr>\n  </tbody>\n</table>\n<p>3313 rows × 2 columns</p>\n</div>"
     },
     "metadata": {},
     "execution_count": 93
    }
   ],
   "source": [
    "rdf_dlv = pd.read_csv('Restaurants - Delivery Service.csv', index_col=False)\n",
    "rdf_dlv"
   ]
  },
  {
   "cell_type": "code",
   "execution_count": 94,
   "metadata": {},
   "outputs": [],
   "source": [
    "# Remove Trailing New Line in Website Column\n",
    "\n",
    "rdf_dlv['Website'] = rdf_dlv['Website'].str.rstrip()"
   ]
  },
  {
   "cell_type": "code",
   "execution_count": 95,
   "metadata": {},
   "outputs": [],
   "source": [
    "# Combine DataFrame\n",
    "\n",
    "rdf = pd.merge(left=rdf, right=rdf_dlv, how='left' ,left_on=['Website'], right_on=['Website'])"
   ]
  },
  {
   "cell_type": "code",
   "execution_count": 96,
   "metadata": {},
   "outputs": [
    {
     "output_type": "execute_result",
     "data": {
      "text/plain": "               Restaurant Name Restaurant Area  Restaurant Rating  \\\n36              Potato Station   Kelapa Gading                1.5   \n46                  Kopi Cinta    Pasar Minggu                1.5   \n52                 Bakmi Tarix            Roxy                1.5   \n54              Kuliner Jadoel          Gambir                1.5   \n73                 Fake Burger        Cipayung                1.5   \n...                        ...             ...                ...   \n11194              Tiga Wonton  Kec. Tangerang                0.0   \n11199              Tiga Wonton   Gatot Subroto                0.0   \n11201              Tiga Wonton   Gatot Subroto                0.0   \n11233  Jubilo Coffee & Juicery          Sunter                0.0   \n11257  Malabar Mountain Coffee     Bogor Barat                0.0   \n\n       Review Counts  Latitude   Longitude  \\\n36                 1 -6.146594  106.891610   \n46                 1 -6.295911  106.834127   \n52                 1 -6.167255  106.803217   \n54                 1 -6.169855  106.829884   \n73                 1 -6.332917  106.892559   \n...              ...       ...         ...   \n11194              0 -6.194333  106.633817   \n11199              0 -6.235924  106.823330   \n11201              0 -6.236072  106.823363   \n11233              0 -6.151945  106.880858   \n11257              0 -6.579568  106.775159   \n\n                                                 Website  \\\n36     https://www.zomato.com/id/jakarta/potato-stati...   \n46     https://www.zomato.com/id/jakarta/kopi-cinta-p...   \n52     https://www.zomato.com/id/jakarta/bakmi-tarix-...   \n54     https://www.zomato.com/id/jakarta/kuliner-jado...   \n73     https://www.zomato.com/id/jakarta/fake-burger-...   \n...                                                  ...   \n11194  https://www.zomato.com/id/jakarta/tiga-wonton-...   \n11199  https://www.zomato.com/id/jakarta/tiga-wonton-...   \n11201  https://www.zomato.com/id/jakarta/tiga-wonton-...   \n11233  https://www.zomato.com/id/jakarta/jubilo-coffe...   \n11257  https://www.zomato.com/id/jakarta/malabar-moun...   \n\n                                      Restaurant Address  Price for 2  \\\n36     Mall Artha Gading, Lantai 1, Jl. Boulevard Art...        50000   \n46         Jl. Aup Barat I No. 45, Pasar Minggu, Jakarta        50000   \n52     ITC Roxy Mas, Lantai Basement, Jl. KH Hasyim A...        70000   \n54                        Jl. Veteran I, Gambir, Jakarta        80000   \n73           Jl. Cipayung Raya No. 62, Cipayung, Jakarta        90000   \n...                                                  ...          ...   \n11194  Tangerang City Mall, Lantai Ground, Jl. Jendra...       120000   \n11199  Wisma Mulia City Plaza, Lantai Lower Ground, J...       120000   \n11201  Wisma Mulia City Plaza, Lantai Lower Ground, J...       120000   \n11233  Jl. Danau Indah Barat Blok A2 No. 9, Sunter, J...       100000   \n11257          Jl. Dr. Sumeru No. 99, Bogor Barat, Bogor        80000   \n\n                                         Additional Info     Province  \\\n36     [Bawa Pulang Tersedia, Di dalam ruangan, Pesan...  DKI Jakarta   \n46     [Bawa Pulang Tersedia, Di dalam ruangan, Pesan...  DKI Jakarta   \n52     [Bawa Pulang Tersedia, Di dalam ruangan, Pesan...  DKI Jakarta   \n54     [Bawa Pulang Tersedia, Di dalam ruangan, Area ...  DKI Jakarta   \n73     [Di dalam ruangan, Reservasi meja direkomendas...  DKI Jakarta   \n...                                                  ...          ...   \n11194                               [No Additional Info]       Banten   \n11199                               [No Additional Info]  DKI Jakarta   \n11201                               [No Additional Info]  DKI Jakarta   \n11233  [Brunch, Tempat duduk di luar, Sarapan, Di dal...  DKI Jakarta   \n11257  [Live Music, Di dalam ruangan, Area Merokok, P...   Jawa Barat   \n\n                  City District/Kecamatan                         Types  \\\n36       Jakarta Utara      Kelapa Gading         [Quick Bites, Snacks]   \n46     Jakarta Selatan       Pasar Minggu          [Toko Minuman, Kopi]   \n52       Jakarta Pusat             Gambir  [Jawa, Quick Bites, Chinese]   \n54       Jakarta Pusat             Gambir      [Quick Bites, Indonesia]   \n73       Jakarta Timur           Cipayung         [Burger, Quick Bites]   \n...                ...                ...                           ...   \n11194   Tangerang Kota          Tangerang      [Casual Dining, Chinese]   \n11199  Jakarta Selatan   Mampang Prapatan        [Quick Bites, Chinese]   \n11201  Jakarta Selatan   Mampang Prapatan        [Quick Bites, Chinese]   \n11233    Jakarta Utara      Tanjung Priok   [Desserts, Kopi, Jus, Kafe]   \n11257       Bogor Kota        Bogor Barat          [Kopi, Snacks, Kafe]   \n\n            Place Type               Cuisines   Cuisine Regionality  \\\n36       [Quick Bites]               [Snacks]  [Unspecified Region]   \n46      [Toko Minuman]                 [Kopi]  [Unspecified Region]   \n52       [Quick Bites]  [Unspecified Cuisine]       [Jawa, Chinese]   \n54       [Quick Bites]  [Unspecified Cuisine]           [Indonesia]   \n73       [Quick Bites]               [Burger]  [Unspecified Region]   \n...                ...                    ...                   ...   \n11194  [Casual Dining]  [Unspecified Cuisine]             [Chinese]   \n11199    [Quick Bites]  [Unspecified Cuisine]             [Chinese]   \n11201    [Quick Bites]  [Unspecified Cuisine]             [Chinese]   \n11233           [Kafe]  [Jus, Desserts, Kopi]  [Unspecified Region]   \n11257           [Kafe]         [Kopi, Snacks]  [Unspecified Region]   \n\n      Delivery Service  \n36                 Yes  \n46                 Yes  \n52                 Yes  \n54                 Yes  \n73                 Yes  \n...                ...  \n11194              Yes  \n11199              Yes  \n11201              Yes  \n11233              Yes  \n11257              Yes  \n\n[2043 rows x 18 columns]",
      "text/html": "<div>\n<style scoped>\n    .dataframe tbody tr th:only-of-type {\n        vertical-align: middle;\n    }\n\n    .dataframe tbody tr th {\n        vertical-align: top;\n    }\n\n    .dataframe thead th {\n        text-align: right;\n    }\n</style>\n<table border=\"1\" class=\"dataframe\">\n  <thead>\n    <tr style=\"text-align: right;\">\n      <th></th>\n      <th>Restaurant Name</th>\n      <th>Restaurant Area</th>\n      <th>Restaurant Rating</th>\n      <th>Review Counts</th>\n      <th>Latitude</th>\n      <th>Longitude</th>\n      <th>Website</th>\n      <th>Restaurant Address</th>\n      <th>Price for 2</th>\n      <th>Additional Info</th>\n      <th>Province</th>\n      <th>City</th>\n      <th>District/Kecamatan</th>\n      <th>Types</th>\n      <th>Place Type</th>\n      <th>Cuisines</th>\n      <th>Cuisine Regionality</th>\n      <th>Delivery Service</th>\n    </tr>\n  </thead>\n  <tbody>\n    <tr>\n      <th>36</th>\n      <td>Potato Station</td>\n      <td>Kelapa Gading</td>\n      <td>1.5</td>\n      <td>1</td>\n      <td>-6.146594</td>\n      <td>106.891610</td>\n      <td>https://www.zomato.com/id/jakarta/potato-stati...</td>\n      <td>Mall Artha Gading, Lantai 1, Jl. Boulevard Art...</td>\n      <td>50000</td>\n      <td>[Bawa Pulang Tersedia, Di dalam ruangan, Pesan...</td>\n      <td>DKI Jakarta</td>\n      <td>Jakarta Utara</td>\n      <td>Kelapa Gading</td>\n      <td>[Quick Bites, Snacks]</td>\n      <td>[Quick Bites]</td>\n      <td>[Snacks]</td>\n      <td>[Unspecified Region]</td>\n      <td>Yes</td>\n    </tr>\n    <tr>\n      <th>46</th>\n      <td>Kopi Cinta</td>\n      <td>Pasar Minggu</td>\n      <td>1.5</td>\n      <td>1</td>\n      <td>-6.295911</td>\n      <td>106.834127</td>\n      <td>https://www.zomato.com/id/jakarta/kopi-cinta-p...</td>\n      <td>Jl. Aup Barat I No. 45, Pasar Minggu, Jakarta</td>\n      <td>50000</td>\n      <td>[Bawa Pulang Tersedia, Di dalam ruangan, Pesan...</td>\n      <td>DKI Jakarta</td>\n      <td>Jakarta Selatan</td>\n      <td>Pasar Minggu</td>\n      <td>[Toko Minuman, Kopi]</td>\n      <td>[Toko Minuman]</td>\n      <td>[Kopi]</td>\n      <td>[Unspecified Region]</td>\n      <td>Yes</td>\n    </tr>\n    <tr>\n      <th>52</th>\n      <td>Bakmi Tarix</td>\n      <td>Roxy</td>\n      <td>1.5</td>\n      <td>1</td>\n      <td>-6.167255</td>\n      <td>106.803217</td>\n      <td>https://www.zomato.com/id/jakarta/bakmi-tarix-...</td>\n      <td>ITC Roxy Mas, Lantai Basement, Jl. KH Hasyim A...</td>\n      <td>70000</td>\n      <td>[Bawa Pulang Tersedia, Di dalam ruangan, Pesan...</td>\n      <td>DKI Jakarta</td>\n      <td>Jakarta Pusat</td>\n      <td>Gambir</td>\n      <td>[Jawa, Quick Bites, Chinese]</td>\n      <td>[Quick Bites]</td>\n      <td>[Unspecified Cuisine]</td>\n      <td>[Jawa, Chinese]</td>\n      <td>Yes</td>\n    </tr>\n    <tr>\n      <th>54</th>\n      <td>Kuliner Jadoel</td>\n      <td>Gambir</td>\n      <td>1.5</td>\n      <td>1</td>\n      <td>-6.169855</td>\n      <td>106.829884</td>\n      <td>https://www.zomato.com/id/jakarta/kuliner-jado...</td>\n      <td>Jl. Veteran I, Gambir, Jakarta</td>\n      <td>80000</td>\n      <td>[Bawa Pulang Tersedia, Di dalam ruangan, Area ...</td>\n      <td>DKI Jakarta</td>\n      <td>Jakarta Pusat</td>\n      <td>Gambir</td>\n      <td>[Quick Bites, Indonesia]</td>\n      <td>[Quick Bites]</td>\n      <td>[Unspecified Cuisine]</td>\n      <td>[Indonesia]</td>\n      <td>Yes</td>\n    </tr>\n    <tr>\n      <th>73</th>\n      <td>Fake Burger</td>\n      <td>Cipayung</td>\n      <td>1.5</td>\n      <td>1</td>\n      <td>-6.332917</td>\n      <td>106.892559</td>\n      <td>https://www.zomato.com/id/jakarta/fake-burger-...</td>\n      <td>Jl. Cipayung Raya No. 62, Cipayung, Jakarta</td>\n      <td>90000</td>\n      <td>[Di dalam ruangan, Reservasi meja direkomendas...</td>\n      <td>DKI Jakarta</td>\n      <td>Jakarta Timur</td>\n      <td>Cipayung</td>\n      <td>[Burger, Quick Bites]</td>\n      <td>[Quick Bites]</td>\n      <td>[Burger]</td>\n      <td>[Unspecified Region]</td>\n      <td>Yes</td>\n    </tr>\n    <tr>\n      <th>...</th>\n      <td>...</td>\n      <td>...</td>\n      <td>...</td>\n      <td>...</td>\n      <td>...</td>\n      <td>...</td>\n      <td>...</td>\n      <td>...</td>\n      <td>...</td>\n      <td>...</td>\n      <td>...</td>\n      <td>...</td>\n      <td>...</td>\n      <td>...</td>\n      <td>...</td>\n      <td>...</td>\n      <td>...</td>\n      <td>...</td>\n    </tr>\n    <tr>\n      <th>11194</th>\n      <td>Tiga Wonton</td>\n      <td>Kec. Tangerang</td>\n      <td>0.0</td>\n      <td>0</td>\n      <td>-6.194333</td>\n      <td>106.633817</td>\n      <td>https://www.zomato.com/id/jakarta/tiga-wonton-...</td>\n      <td>Tangerang City Mall, Lantai Ground, Jl. Jendra...</td>\n      <td>120000</td>\n      <td>[No Additional Info]</td>\n      <td>Banten</td>\n      <td>Tangerang Kota</td>\n      <td>Tangerang</td>\n      <td>[Casual Dining, Chinese]</td>\n      <td>[Casual Dining]</td>\n      <td>[Unspecified Cuisine]</td>\n      <td>[Chinese]</td>\n      <td>Yes</td>\n    </tr>\n    <tr>\n      <th>11199</th>\n      <td>Tiga Wonton</td>\n      <td>Gatot Subroto</td>\n      <td>0.0</td>\n      <td>0</td>\n      <td>-6.235924</td>\n      <td>106.823330</td>\n      <td>https://www.zomato.com/id/jakarta/tiga-wonton-...</td>\n      <td>Wisma Mulia City Plaza, Lantai Lower Ground, J...</td>\n      <td>120000</td>\n      <td>[No Additional Info]</td>\n      <td>DKI Jakarta</td>\n      <td>Jakarta Selatan</td>\n      <td>Mampang Prapatan</td>\n      <td>[Quick Bites, Chinese]</td>\n      <td>[Quick Bites]</td>\n      <td>[Unspecified Cuisine]</td>\n      <td>[Chinese]</td>\n      <td>Yes</td>\n    </tr>\n    <tr>\n      <th>11201</th>\n      <td>Tiga Wonton</td>\n      <td>Gatot Subroto</td>\n      <td>0.0</td>\n      <td>0</td>\n      <td>-6.236072</td>\n      <td>106.823363</td>\n      <td>https://www.zomato.com/id/jakarta/tiga-wonton-...</td>\n      <td>Wisma Mulia City Plaza, Lantai Lower Ground, J...</td>\n      <td>120000</td>\n      <td>[No Additional Info]</td>\n      <td>DKI Jakarta</td>\n      <td>Jakarta Selatan</td>\n      <td>Mampang Prapatan</td>\n      <td>[Quick Bites, Chinese]</td>\n      <td>[Quick Bites]</td>\n      <td>[Unspecified Cuisine]</td>\n      <td>[Chinese]</td>\n      <td>Yes</td>\n    </tr>\n    <tr>\n      <th>11233</th>\n      <td>Jubilo Coffee &amp; Juicery</td>\n      <td>Sunter</td>\n      <td>0.0</td>\n      <td>0</td>\n      <td>-6.151945</td>\n      <td>106.880858</td>\n      <td>https://www.zomato.com/id/jakarta/jubilo-coffe...</td>\n      <td>Jl. Danau Indah Barat Blok A2 No. 9, Sunter, J...</td>\n      <td>100000</td>\n      <td>[Brunch, Tempat duduk di luar, Sarapan, Di dal...</td>\n      <td>DKI Jakarta</td>\n      <td>Jakarta Utara</td>\n      <td>Tanjung Priok</td>\n      <td>[Desserts, Kopi, Jus, Kafe]</td>\n      <td>[Kafe]</td>\n      <td>[Jus, Desserts, Kopi]</td>\n      <td>[Unspecified Region]</td>\n      <td>Yes</td>\n    </tr>\n    <tr>\n      <th>11257</th>\n      <td>Malabar Mountain Coffee</td>\n      <td>Bogor Barat</td>\n      <td>0.0</td>\n      <td>0</td>\n      <td>-6.579568</td>\n      <td>106.775159</td>\n      <td>https://www.zomato.com/id/jakarta/malabar-moun...</td>\n      <td>Jl. Dr. Sumeru No. 99, Bogor Barat, Bogor</td>\n      <td>80000</td>\n      <td>[Live Music, Di dalam ruangan, Area Merokok, P...</td>\n      <td>Jawa Barat</td>\n      <td>Bogor Kota</td>\n      <td>Bogor Barat</td>\n      <td>[Kopi, Snacks, Kafe]</td>\n      <td>[Kafe]</td>\n      <td>[Kopi, Snacks]</td>\n      <td>[Unspecified Region]</td>\n      <td>Yes</td>\n    </tr>\n  </tbody>\n</table>\n<p>2043 rows × 18 columns</p>\n</div>"
     },
     "metadata": {},
     "execution_count": 96
    }
   ],
   "source": [
    "# Let's see how many Restaurants provide Delivery Service\n",
    "\n",
    "rdf[rdf['Delivery Service'] == 'Yes']"
   ]
  },
  {
   "cell_type": "code",
   "execution_count": 97,
   "metadata": {},
   "outputs": [],
   "source": [
    "rdf['Delivery Service'].fillna('No', inplace=True)"
   ]
  },
  {
   "source": [
    "# 9. REVISIT PLACE TYPE, CUISINES, CUISINE REGIONALITY"
   ],
   "cell_type": "markdown",
   "metadata": {}
  },
  {
   "source": [
    "# 9.1 PLACE TYPE"
   ],
   "cell_type": "markdown",
   "metadata": {}
  },
  {
   "cell_type": "code",
   "execution_count": 98,
   "metadata": {},
   "outputs": [
    {
     "output_type": "execute_result",
     "data": {
      "text/plain": "['Quick Bites',\n 'Casual Dining',\n 'Kafe',\n 'Toko Minuman',\n 'Food Court',\n 'Toko Kue & Roti',\n 'Dessert Parlor',\n 'Kios',\n 'Kaki Lima',\n 'Bar',\n 'Lounge',\n 'Fine Dining']"
     },
     "metadata": {},
     "execution_count": 98
    }
   ],
   "source": [
    "#Recall the Place Type\n",
    "\n",
    "place_type"
   ]
  },
  {
   "cell_type": "code",
   "execution_count": 99,
   "metadata": {},
   "outputs": [],
   "source": [
    "#Make A New List to store the Restaurant Type Counts\n",
    "\n",
    "place_type_ct = []\n",
    "\n",
    "for i in place_type:\n",
    "    count = sum(rdf['Place Type'].apply(lambda x: i in x))\n",
    "    place_type_ct.append(count)"
   ]
  },
  {
   "cell_type": "code",
   "execution_count": 100,
   "metadata": {},
   "outputs": [],
   "source": [
    "#Convert the Lists into A DataFrame\n",
    "\n",
    "place_counts = pd.DataFrame({'Place Type': place_type, 'Count': place_type_ct})\n",
    "place_counts.sort_values(by='Count', ascending=False, inplace=True)\n",
    "place_counts.reset_index(drop=True, inplace=True)"
   ]
  },
  {
   "cell_type": "code",
   "execution_count": 101,
   "metadata": {},
   "outputs": [
    {
     "output_type": "execute_result",
     "data": {
      "text/plain": "         Place Type  Count\n0       Quick Bites   4923\n1     Casual Dining   1912\n2              Kafe   1604\n3        Food Court   1295\n4      Toko Minuman    843\n5   Toko Kue & Roti    352\n6    Dessert Parlor    224\n7         Kaki Lima    199\n8               Bar    165\n9              Kios    149\n10           Lounge    101\n11      Fine Dining     55",
      "text/html": "<div>\n<style scoped>\n    .dataframe tbody tr th:only-of-type {\n        vertical-align: middle;\n    }\n\n    .dataframe tbody tr th {\n        vertical-align: top;\n    }\n\n    .dataframe thead th {\n        text-align: right;\n    }\n</style>\n<table border=\"1\" class=\"dataframe\">\n  <thead>\n    <tr style=\"text-align: right;\">\n      <th></th>\n      <th>Place Type</th>\n      <th>Count</th>\n    </tr>\n  </thead>\n  <tbody>\n    <tr>\n      <th>0</th>\n      <td>Quick Bites</td>\n      <td>4923</td>\n    </tr>\n    <tr>\n      <th>1</th>\n      <td>Casual Dining</td>\n      <td>1912</td>\n    </tr>\n    <tr>\n      <th>2</th>\n      <td>Kafe</td>\n      <td>1604</td>\n    </tr>\n    <tr>\n      <th>3</th>\n      <td>Food Court</td>\n      <td>1295</td>\n    </tr>\n    <tr>\n      <th>4</th>\n      <td>Toko Minuman</td>\n      <td>843</td>\n    </tr>\n    <tr>\n      <th>5</th>\n      <td>Toko Kue &amp; Roti</td>\n      <td>352</td>\n    </tr>\n    <tr>\n      <th>6</th>\n      <td>Dessert Parlor</td>\n      <td>224</td>\n    </tr>\n    <tr>\n      <th>7</th>\n      <td>Kaki Lima</td>\n      <td>199</td>\n    </tr>\n    <tr>\n      <th>8</th>\n      <td>Bar</td>\n      <td>165</td>\n    </tr>\n    <tr>\n      <th>9</th>\n      <td>Kios</td>\n      <td>149</td>\n    </tr>\n    <tr>\n      <th>10</th>\n      <td>Lounge</td>\n      <td>101</td>\n    </tr>\n    <tr>\n      <th>11</th>\n      <td>Fine Dining</td>\n      <td>55</td>\n    </tr>\n  </tbody>\n</table>\n</div>"
     },
     "metadata": {},
     "execution_count": 101
    }
   ],
   "source": [
    "place_counts"
   ]
  },
  {
   "cell_type": "code",
   "execution_count": 102,
   "metadata": {},
   "outputs": [
    {
     "output_type": "display_data",
     "data": {
      "text/plain": "<Figure size 1440x576 with 1 Axes>",
      "image/svg+xml": "<?xml version=\"1.0\" encoding=\"utf-8\" standalone=\"no\"?>\r\n<!DOCTYPE svg PUBLIC \"-//W3C//DTD SVG 1.1//EN\"\r\n  \"http://www.w3.org/Graphics/SVG/1.1/DTD/svg11.dtd\">\r\n<!-- Created with matplotlib (https://matplotlib.org/) -->\r\n<svg height=\"494.754375pt\" version=\"1.1\" viewBox=\"0 0 1176.528125 494.754375\" width=\"1176.528125pt\" xmlns=\"http://www.w3.org/2000/svg\" xmlns:xlink=\"http://www.w3.org/1999/xlink\">\r\n <defs>\r\n  <style type=\"text/css\">\r\n*{stroke-linecap:butt;stroke-linejoin:round;}\r\n  </style>\r\n </defs>\r\n <g id=\"figure_1\">\r\n  <g id=\"patch_1\">\r\n   <path d=\"M 0 494.754375 \r\nL 1176.528125 494.754375 \r\nL 1176.528125 0 \r\nL 0 0 \r\nz\r\n\" style=\"fill:none;\"/>\r\n  </g>\r\n  <g id=\"axes_1\">\r\n   <g id=\"patch_2\">\r\n    <path d=\"M 53.328125 457.198125 \r\nL 1169.328125 457.198125 \r\nL 1169.328125 22.318125 \r\nL 53.328125 22.318125 \r\nz\r\n\" style=\"fill:#ffffff;\"/>\r\n   </g>\r\n   <g id=\"patch_3\">\r\n    <path clip-path=\"url(#p9c2e323b5d)\" d=\"M 62.628125 457.198125 \r\nL 137.028125 457.198125 \r\nL 137.028125 43.026696 \r\nL 62.628125 43.026696 \r\nz\r\n\" style=\"fill:#ea96a3;\"/>\r\n   </g>\r\n   <g id=\"patch_4\">\r\n    <path clip-path=\"url(#p9c2e323b5d)\" d=\"M 155.628125 457.198125 \r\nL 230.028125 457.198125 \r\nL 230.028125 296.341783 \r\nL 155.628125 296.341783 \r\nz\r\n\" style=\"fill:#e19153;\"/>\r\n   </g>\r\n   <g id=\"patch_5\">\r\n    <path clip-path=\"url(#p9c2e323b5d)\" d=\"M 248.628125 457.198125 \r\nL 323.028125 457.198125 \r\nL 323.028125 322.253788 \r\nL 248.628125 322.253788 \r\nz\r\n\" style=\"fill:#b89c49;\"/>\r\n   </g>\r\n   <g id=\"patch_6\">\r\n    <path clip-path=\"url(#p9c2e323b5d)\" d=\"M 341.628125 457.198125 \r\nL 416.028125 457.198125 \r\nL 416.028125 348.249923 \r\nL 341.628125 348.249923 \r\nz\r\n\" style=\"fill:#98a246;\"/>\r\n   </g>\r\n   <g id=\"patch_7\">\r\n    <path clip-path=\"url(#p9c2e323b5d)\" d=\"M 434.628125 457.198125 \r\nL 509.028125 457.198125 \r\nL 509.028125 386.276631 \r\nL 434.628125 386.276631 \r\nz\r\n\" style=\"fill:#60ae47;\"/>\r\n   </g>\r\n   <g id=\"patch_8\">\r\n    <path clip-path=\"url(#p9c2e323b5d)\" d=\"M 527.628125 457.198125 \r\nL 602.028125 457.198125 \r\nL 602.028125 427.584405 \r\nL 527.628125 427.584405 \r\nz\r\n\" style=\"fill:#4aae8a;\"/>\r\n   </g>\r\n   <g id=\"patch_9\">\r\n    <path clip-path=\"url(#p9c2e323b5d)\" d=\"M 620.628125 457.198125 \r\nL 695.028125 457.198125 \r\nL 695.028125 438.353031 \r\nL 620.628125 438.353031 \r\nz\r\n\" style=\"fill:#4baba4;\"/>\r\n   </g>\r\n   <g id=\"patch_10\">\r\n    <path clip-path=\"url(#p9c2e323b5d)\" d=\"M 713.628125 457.198125 \r\nL 788.028125 457.198125 \r\nL 788.028125 440.456278 \r\nL 713.628125 440.456278 \r\nz\r\n\" style=\"fill:#4fabbc;\"/>\r\n   </g>\r\n   <g id=\"patch_11\">\r\n    <path clip-path=\"url(#p9c2e323b5d)\" d=\"M 806.628125 457.198125 \r\nL 881.028125 457.198125 \r\nL 881.028125 443.316694 \r\nL 806.628125 443.316694 \r\nz\r\n\" style=\"fill:#6daee2;\"/>\r\n   </g>\r\n   <g id=\"patch_12\">\r\n    <path clip-path=\"url(#p9c2e323b5d)\" d=\"M 899.628125 457.198125 \r\nL 974.028125 457.198125 \r\nL 974.028125 444.662772 \r\nL 899.628125 444.662772 \r\nz\r\n\" style=\"fill:#b6a8eb;\"/>\r\n   </g>\r\n   <g id=\"patch_13\">\r\n    <path clip-path=\"url(#p9c2e323b5d)\" d=\"M 992.628125 457.198125 \r\nL 1067.028125 457.198125 \r\nL 1067.028125 448.701007 \r\nL 992.628125 448.701007 \r\nz\r\n\" style=\"fill:#df8fe7;\"/>\r\n   </g>\r\n   <g id=\"patch_14\">\r\n    <path clip-path=\"url(#p9c2e323b5d)\" d=\"M 1085.628125 457.198125 \r\nL 1160.028125 457.198125 \r\nL 1160.028125 452.570981 \r\nL 1085.628125 452.570981 \r\nz\r\n\" style=\"fill:#e890c6;\"/>\r\n   </g>\r\n   <g id=\"matplotlib.axis_1\">\r\n    <g id=\"xtick_1\">\r\n     <g id=\"line2d_1\">\r\n      <defs>\r\n       <path d=\"M 0 0 \r\nL 0 3.5 \r\n\" id=\"me0bd476ecb\" style=\"stroke:#000000;stroke-width:0.8;\"/>\r\n      </defs>\r\n      <g>\r\n       <use style=\"stroke:#000000;stroke-width:0.8;\" x=\"99.828125\" xlink:href=\"#me0bd476ecb\" y=\"457.198125\"/>\r\n      </g>\r\n     </g>\r\n     <g id=\"text_1\">\r\n      <!-- Quick Bites -->\r\n      <defs>\r\n       <path d=\"M 39.40625 66.21875 \r\nQ 28.65625 66.21875 22.328125 58.203125 \r\nQ 16.015625 50.203125 16.015625 36.375 \r\nQ 16.015625 22.609375 22.328125 14.59375 \r\nQ 28.65625 6.59375 39.40625 6.59375 \r\nQ 50.140625 6.59375 56.421875 14.59375 \r\nQ 62.703125 22.609375 62.703125 36.375 \r\nQ 62.703125 50.203125 56.421875 58.203125 \r\nQ 50.140625 66.21875 39.40625 66.21875 \r\nz\r\nM 53.21875 1.3125 \r\nL 66.21875 -12.890625 \r\nL 54.296875 -12.890625 \r\nL 43.5 -1.21875 \r\nQ 41.890625 -1.3125 41.03125 -1.359375 \r\nQ 40.1875 -1.421875 39.40625 -1.421875 \r\nQ 24.03125 -1.421875 14.8125 8.859375 \r\nQ 5.609375 19.140625 5.609375 36.375 \r\nQ 5.609375 53.65625 14.8125 63.9375 \r\nQ 24.03125 74.21875 39.40625 74.21875 \r\nQ 54.734375 74.21875 63.90625 63.9375 \r\nQ 73.09375 53.65625 73.09375 36.375 \r\nQ 73.09375 23.6875 67.984375 14.640625 \r\nQ 62.890625 5.609375 53.21875 1.3125 \r\nz\r\n\" id=\"DejaVuSans-81\"/>\r\n       <path d=\"M 8.5 21.578125 \r\nL 8.5 54.6875 \r\nL 17.484375 54.6875 \r\nL 17.484375 21.921875 \r\nQ 17.484375 14.15625 20.5 10.265625 \r\nQ 23.53125 6.390625 29.59375 6.390625 \r\nQ 36.859375 6.390625 41.078125 11.03125 \r\nQ 45.3125 15.671875 45.3125 23.6875 \r\nL 45.3125 54.6875 \r\nL 54.296875 54.6875 \r\nL 54.296875 0 \r\nL 45.3125 0 \r\nL 45.3125 8.40625 \r\nQ 42.046875 3.421875 37.71875 1 \r\nQ 33.40625 -1.421875 27.6875 -1.421875 \r\nQ 18.265625 -1.421875 13.375 4.4375 \r\nQ 8.5 10.296875 8.5 21.578125 \r\nz\r\nM 31.109375 56 \r\nz\r\n\" id=\"DejaVuSans-117\"/>\r\n       <path d=\"M 9.421875 54.6875 \r\nL 18.40625 54.6875 \r\nL 18.40625 0 \r\nL 9.421875 0 \r\nz\r\nM 9.421875 75.984375 \r\nL 18.40625 75.984375 \r\nL 18.40625 64.59375 \r\nL 9.421875 64.59375 \r\nz\r\n\" id=\"DejaVuSans-105\"/>\r\n       <path d=\"M 48.78125 52.59375 \r\nL 48.78125 44.1875 \r\nQ 44.96875 46.296875 41.140625 47.34375 \r\nQ 37.3125 48.390625 33.40625 48.390625 \r\nQ 24.65625 48.390625 19.8125 42.84375 \r\nQ 14.984375 37.3125 14.984375 27.296875 \r\nQ 14.984375 17.28125 19.8125 11.734375 \r\nQ 24.65625 6.203125 33.40625 6.203125 \r\nQ 37.3125 6.203125 41.140625 7.25 \r\nQ 44.96875 8.296875 48.78125 10.40625 \r\nL 48.78125 2.09375 \r\nQ 45.015625 0.34375 40.984375 -0.53125 \r\nQ 36.96875 -1.421875 32.421875 -1.421875 \r\nQ 20.0625 -1.421875 12.78125 6.34375 \r\nQ 5.515625 14.109375 5.515625 27.296875 \r\nQ 5.515625 40.671875 12.859375 48.328125 \r\nQ 20.21875 56 33.015625 56 \r\nQ 37.15625 56 41.109375 55.140625 \r\nQ 45.0625 54.296875 48.78125 52.59375 \r\nz\r\n\" id=\"DejaVuSans-99\"/>\r\n       <path d=\"M 9.078125 75.984375 \r\nL 18.109375 75.984375 \r\nL 18.109375 31.109375 \r\nL 44.921875 54.6875 \r\nL 56.390625 54.6875 \r\nL 27.390625 29.109375 \r\nL 57.625 0 \r\nL 45.90625 0 \r\nL 18.109375 26.703125 \r\nL 18.109375 0 \r\nL 9.078125 0 \r\nz\r\n\" id=\"DejaVuSans-107\"/>\r\n       <path id=\"DejaVuSans-32\"/>\r\n       <path d=\"M 19.671875 34.8125 \r\nL 19.671875 8.109375 \r\nL 35.5 8.109375 \r\nQ 43.453125 8.109375 47.28125 11.40625 \r\nQ 51.125 14.703125 51.125 21.484375 \r\nQ 51.125 28.328125 47.28125 31.5625 \r\nQ 43.453125 34.8125 35.5 34.8125 \r\nz\r\nM 19.671875 64.796875 \r\nL 19.671875 42.828125 \r\nL 34.28125 42.828125 \r\nQ 41.5 42.828125 45.03125 45.53125 \r\nQ 48.578125 48.25 48.578125 53.8125 \r\nQ 48.578125 59.328125 45.03125 62.0625 \r\nQ 41.5 64.796875 34.28125 64.796875 \r\nz\r\nM 9.8125 72.90625 \r\nL 35.015625 72.90625 \r\nQ 46.296875 72.90625 52.390625 68.21875 \r\nQ 58.5 63.53125 58.5 54.890625 \r\nQ 58.5 48.1875 55.375 44.234375 \r\nQ 52.25 40.28125 46.1875 39.3125 \r\nQ 53.46875 37.75 57.5 32.78125 \r\nQ 61.53125 27.828125 61.53125 20.40625 \r\nQ 61.53125 10.640625 54.890625 5.3125 \r\nQ 48.25 0 35.984375 0 \r\nL 9.8125 0 \r\nz\r\n\" id=\"DejaVuSans-66\"/>\r\n       <path d=\"M 18.3125 70.21875 \r\nL 18.3125 54.6875 \r\nL 36.8125 54.6875 \r\nL 36.8125 47.703125 \r\nL 18.3125 47.703125 \r\nL 18.3125 18.015625 \r\nQ 18.3125 11.328125 20.140625 9.421875 \r\nQ 21.96875 7.515625 27.59375 7.515625 \r\nL 36.8125 7.515625 \r\nL 36.8125 0 \r\nL 27.59375 0 \r\nQ 17.1875 0 13.234375 3.875 \r\nQ 9.28125 7.765625 9.28125 18.015625 \r\nL 9.28125 47.703125 \r\nL 2.6875 47.703125 \r\nL 2.6875 54.6875 \r\nL 9.28125 54.6875 \r\nL 9.28125 70.21875 \r\nz\r\n\" id=\"DejaVuSans-116\"/>\r\n       <path d=\"M 56.203125 29.59375 \r\nL 56.203125 25.203125 \r\nL 14.890625 25.203125 \r\nQ 15.484375 15.921875 20.484375 11.0625 \r\nQ 25.484375 6.203125 34.421875 6.203125 \r\nQ 39.59375 6.203125 44.453125 7.46875 \r\nQ 49.3125 8.734375 54.109375 11.28125 \r\nL 54.109375 2.78125 \r\nQ 49.265625 0.734375 44.1875 -0.34375 \r\nQ 39.109375 -1.421875 33.890625 -1.421875 \r\nQ 20.796875 -1.421875 13.15625 6.1875 \r\nQ 5.515625 13.8125 5.515625 26.8125 \r\nQ 5.515625 40.234375 12.765625 48.109375 \r\nQ 20.015625 56 32.328125 56 \r\nQ 43.359375 56 49.78125 48.890625 \r\nQ 56.203125 41.796875 56.203125 29.59375 \r\nz\r\nM 47.21875 32.234375 \r\nQ 47.125 39.59375 43.09375 43.984375 \r\nQ 39.0625 48.390625 32.421875 48.390625 \r\nQ 24.90625 48.390625 20.390625 44.140625 \r\nQ 15.875 39.890625 15.1875 32.171875 \r\nz\r\n\" id=\"DejaVuSans-101\"/>\r\n       <path d=\"M 44.28125 53.078125 \r\nL 44.28125 44.578125 \r\nQ 40.484375 46.53125 36.375 47.5 \r\nQ 32.28125 48.484375 27.875 48.484375 \r\nQ 21.1875 48.484375 17.84375 46.4375 \r\nQ 14.5 44.390625 14.5 40.28125 \r\nQ 14.5 37.15625 16.890625 35.375 \r\nQ 19.28125 33.59375 26.515625 31.984375 \r\nL 29.59375 31.296875 \r\nQ 39.15625 29.25 43.1875 25.515625 \r\nQ 47.21875 21.78125 47.21875 15.09375 \r\nQ 47.21875 7.46875 41.1875 3.015625 \r\nQ 35.15625 -1.421875 24.609375 -1.421875 \r\nQ 20.21875 -1.421875 15.453125 -0.5625 \r\nQ 10.6875 0.296875 5.421875 2 \r\nL 5.421875 11.28125 \r\nQ 10.40625 8.6875 15.234375 7.390625 \r\nQ 20.0625 6.109375 24.8125 6.109375 \r\nQ 31.15625 6.109375 34.5625 8.28125 \r\nQ 37.984375 10.453125 37.984375 14.40625 \r\nQ 37.984375 18.0625 35.515625 20.015625 \r\nQ 33.0625 21.96875 24.703125 23.78125 \r\nL 21.578125 24.515625 \r\nQ 13.234375 26.265625 9.515625 29.90625 \r\nQ 5.8125 33.546875 5.8125 39.890625 \r\nQ 5.8125 47.609375 11.28125 51.796875 \r\nQ 16.75 56 26.8125 56 \r\nQ 31.78125 56 36.171875 55.265625 \r\nQ 40.578125 54.546875 44.28125 53.078125 \r\nz\r\n\" id=\"DejaVuSans-115\"/>\r\n      </defs>\r\n      <g transform=\"translate(71.639844 471.796562)scale(0.1 -0.1)\">\r\n       <use xlink:href=\"#DejaVuSans-81\"/>\r\n       <use x=\"78.710938\" xlink:href=\"#DejaVuSans-117\"/>\r\n       <use x=\"142.089844\" xlink:href=\"#DejaVuSans-105\"/>\r\n       <use x=\"169.873047\" xlink:href=\"#DejaVuSans-99\"/>\r\n       <use x=\"224.853516\" xlink:href=\"#DejaVuSans-107\"/>\r\n       <use x=\"282.763672\" xlink:href=\"#DejaVuSans-32\"/>\r\n       <use x=\"314.550781\" xlink:href=\"#DejaVuSans-66\"/>\r\n       <use x=\"383.154297\" xlink:href=\"#DejaVuSans-105\"/>\r\n       <use x=\"410.9375\" xlink:href=\"#DejaVuSans-116\"/>\r\n       <use x=\"450.146484\" xlink:href=\"#DejaVuSans-101\"/>\r\n       <use x=\"511.669922\" xlink:href=\"#DejaVuSans-115\"/>\r\n      </g>\r\n     </g>\r\n    </g>\r\n    <g id=\"xtick_2\">\r\n     <g id=\"line2d_2\">\r\n      <g>\r\n       <use style=\"stroke:#000000;stroke-width:0.8;\" x=\"192.828125\" xlink:href=\"#me0bd476ecb\" y=\"457.198125\"/>\r\n      </g>\r\n     </g>\r\n     <g id=\"text_2\">\r\n      <!-- Casual Dining -->\r\n      <defs>\r\n       <path d=\"M 64.40625 67.28125 \r\nL 64.40625 56.890625 \r\nQ 59.421875 61.53125 53.78125 63.8125 \r\nQ 48.140625 66.109375 41.796875 66.109375 \r\nQ 29.296875 66.109375 22.65625 58.46875 \r\nQ 16.015625 50.828125 16.015625 36.375 \r\nQ 16.015625 21.96875 22.65625 14.328125 \r\nQ 29.296875 6.6875 41.796875 6.6875 \r\nQ 48.140625 6.6875 53.78125 8.984375 \r\nQ 59.421875 11.28125 64.40625 15.921875 \r\nL 64.40625 5.609375 \r\nQ 59.234375 2.09375 53.4375 0.328125 \r\nQ 47.65625 -1.421875 41.21875 -1.421875 \r\nQ 24.65625 -1.421875 15.125 8.703125 \r\nQ 5.609375 18.84375 5.609375 36.375 \r\nQ 5.609375 53.953125 15.125 64.078125 \r\nQ 24.65625 74.21875 41.21875 74.21875 \r\nQ 47.75 74.21875 53.53125 72.484375 \r\nQ 59.328125 70.75 64.40625 67.28125 \r\nz\r\n\" id=\"DejaVuSans-67\"/>\r\n       <path d=\"M 34.28125 27.484375 \r\nQ 23.390625 27.484375 19.1875 25 \r\nQ 14.984375 22.515625 14.984375 16.5 \r\nQ 14.984375 11.71875 18.140625 8.90625 \r\nQ 21.296875 6.109375 26.703125 6.109375 \r\nQ 34.1875 6.109375 38.703125 11.40625 \r\nQ 43.21875 16.703125 43.21875 25.484375 \r\nL 43.21875 27.484375 \r\nz\r\nM 52.203125 31.203125 \r\nL 52.203125 0 \r\nL 43.21875 0 \r\nL 43.21875 8.296875 \r\nQ 40.140625 3.328125 35.546875 0.953125 \r\nQ 30.953125 -1.421875 24.3125 -1.421875 \r\nQ 15.921875 -1.421875 10.953125 3.296875 \r\nQ 6 8.015625 6 15.921875 \r\nQ 6 25.140625 12.171875 29.828125 \r\nQ 18.359375 34.515625 30.609375 34.515625 \r\nL 43.21875 34.515625 \r\nL 43.21875 35.40625 \r\nQ 43.21875 41.609375 39.140625 45 \r\nQ 35.0625 48.390625 27.6875 48.390625 \r\nQ 23 48.390625 18.546875 47.265625 \r\nQ 14.109375 46.140625 10.015625 43.890625 \r\nL 10.015625 52.203125 \r\nQ 14.9375 54.109375 19.578125 55.046875 \r\nQ 24.21875 56 28.609375 56 \r\nQ 40.484375 56 46.34375 49.84375 \r\nQ 52.203125 43.703125 52.203125 31.203125 \r\nz\r\n\" id=\"DejaVuSans-97\"/>\r\n       <path d=\"M 9.421875 75.984375 \r\nL 18.40625 75.984375 \r\nL 18.40625 0 \r\nL 9.421875 0 \r\nz\r\n\" id=\"DejaVuSans-108\"/>\r\n       <path d=\"M 19.671875 64.796875 \r\nL 19.671875 8.109375 \r\nL 31.59375 8.109375 \r\nQ 46.6875 8.109375 53.6875 14.9375 \r\nQ 60.6875 21.78125 60.6875 36.53125 \r\nQ 60.6875 51.171875 53.6875 57.984375 \r\nQ 46.6875 64.796875 31.59375 64.796875 \r\nz\r\nM 9.8125 72.90625 \r\nL 30.078125 72.90625 \r\nQ 51.265625 72.90625 61.171875 64.09375 \r\nQ 71.09375 55.28125 71.09375 36.53125 \r\nQ 71.09375 17.671875 61.125 8.828125 \r\nQ 51.171875 0 30.078125 0 \r\nL 9.8125 0 \r\nz\r\n\" id=\"DejaVuSans-68\"/>\r\n       <path d=\"M 54.890625 33.015625 \r\nL 54.890625 0 \r\nL 45.90625 0 \r\nL 45.90625 32.71875 \r\nQ 45.90625 40.484375 42.875 44.328125 \r\nQ 39.84375 48.1875 33.796875 48.1875 \r\nQ 26.515625 48.1875 22.3125 43.546875 \r\nQ 18.109375 38.921875 18.109375 30.90625 \r\nL 18.109375 0 \r\nL 9.078125 0 \r\nL 9.078125 54.6875 \r\nL 18.109375 54.6875 \r\nL 18.109375 46.1875 \r\nQ 21.34375 51.125 25.703125 53.5625 \r\nQ 30.078125 56 35.796875 56 \r\nQ 45.21875 56 50.046875 50.171875 \r\nQ 54.890625 44.34375 54.890625 33.015625 \r\nz\r\n\" id=\"DejaVuSans-110\"/>\r\n       <path d=\"M 45.40625 27.984375 \r\nQ 45.40625 37.75 41.375 43.109375 \r\nQ 37.359375 48.484375 30.078125 48.484375 \r\nQ 22.859375 48.484375 18.828125 43.109375 \r\nQ 14.796875 37.75 14.796875 27.984375 \r\nQ 14.796875 18.265625 18.828125 12.890625 \r\nQ 22.859375 7.515625 30.078125 7.515625 \r\nQ 37.359375 7.515625 41.375 12.890625 \r\nQ 45.40625 18.265625 45.40625 27.984375 \r\nz\r\nM 54.390625 6.78125 \r\nQ 54.390625 -7.171875 48.1875 -13.984375 \r\nQ 42 -20.796875 29.203125 -20.796875 \r\nQ 24.46875 -20.796875 20.265625 -20.09375 \r\nQ 16.0625 -19.390625 12.109375 -17.921875 \r\nL 12.109375 -9.1875 \r\nQ 16.0625 -11.328125 19.921875 -12.34375 \r\nQ 23.78125 -13.375 27.78125 -13.375 \r\nQ 36.625 -13.375 41.015625 -8.765625 \r\nQ 45.40625 -4.15625 45.40625 5.171875 \r\nL 45.40625 9.625 \r\nQ 42.625 4.78125 38.28125 2.390625 \r\nQ 33.9375 0 27.875 0 \r\nQ 17.828125 0 11.671875 7.65625 \r\nQ 5.515625 15.328125 5.515625 27.984375 \r\nQ 5.515625 40.671875 11.671875 48.328125 \r\nQ 17.828125 56 27.875 56 \r\nQ 33.9375 56 38.28125 53.609375 \r\nQ 42.625 51.21875 45.40625 46.390625 \r\nL 45.40625 54.6875 \r\nL 54.390625 54.6875 \r\nz\r\n\" id=\"DejaVuSans-103\"/>\r\n      </defs>\r\n      <g transform=\"translate(158.317187 471.796562)scale(0.1 -0.1)\">\r\n       <use xlink:href=\"#DejaVuSans-67\"/>\r\n       <use x=\"69.824219\" xlink:href=\"#DejaVuSans-97\"/>\r\n       <use x=\"131.103516\" xlink:href=\"#DejaVuSans-115\"/>\r\n       <use x=\"183.203125\" xlink:href=\"#DejaVuSans-117\"/>\r\n       <use x=\"246.582031\" xlink:href=\"#DejaVuSans-97\"/>\r\n       <use x=\"307.861328\" xlink:href=\"#DejaVuSans-108\"/>\r\n       <use x=\"335.644531\" xlink:href=\"#DejaVuSans-32\"/>\r\n       <use x=\"367.431641\" xlink:href=\"#DejaVuSans-68\"/>\r\n       <use x=\"444.433594\" xlink:href=\"#DejaVuSans-105\"/>\r\n       <use x=\"472.216797\" xlink:href=\"#DejaVuSans-110\"/>\r\n       <use x=\"535.595703\" xlink:href=\"#DejaVuSans-105\"/>\r\n       <use x=\"563.378906\" xlink:href=\"#DejaVuSans-110\"/>\r\n       <use x=\"626.757812\" xlink:href=\"#DejaVuSans-103\"/>\r\n      </g>\r\n     </g>\r\n    </g>\r\n    <g id=\"xtick_3\">\r\n     <g id=\"line2d_3\">\r\n      <g>\r\n       <use style=\"stroke:#000000;stroke-width:0.8;\" x=\"285.828125\" xlink:href=\"#me0bd476ecb\" y=\"457.198125\"/>\r\n      </g>\r\n     </g>\r\n     <g id=\"text_3\">\r\n      <!-- Kafe -->\r\n      <defs>\r\n       <path d=\"M 9.8125 72.90625 \r\nL 19.671875 72.90625 \r\nL 19.671875 42.09375 \r\nL 52.390625 72.90625 \r\nL 65.09375 72.90625 \r\nL 28.90625 38.921875 \r\nL 67.671875 0 \r\nL 54.6875 0 \r\nL 19.671875 35.109375 \r\nL 19.671875 0 \r\nL 9.8125 0 \r\nz\r\n\" id=\"DejaVuSans-75\"/>\r\n       <path d=\"M 37.109375 75.984375 \r\nL 37.109375 68.5 \r\nL 28.515625 68.5 \r\nQ 23.6875 68.5 21.796875 66.546875 \r\nQ 19.921875 64.59375 19.921875 59.515625 \r\nL 19.921875 54.6875 \r\nL 34.71875 54.6875 \r\nL 34.71875 47.703125 \r\nL 19.921875 47.703125 \r\nL 19.921875 0 \r\nL 10.890625 0 \r\nL 10.890625 47.703125 \r\nL 2.296875 47.703125 \r\nL 2.296875 54.6875 \r\nL 10.890625 54.6875 \r\nL 10.890625 58.5 \r\nQ 10.890625 67.625 15.140625 71.796875 \r\nQ 19.390625 75.984375 28.609375 75.984375 \r\nz\r\n\" id=\"DejaVuSans-102\"/>\r\n      </defs>\r\n      <g transform=\"translate(274.649219 471.796562)scale(0.1 -0.1)\">\r\n       <use xlink:href=\"#DejaVuSans-75\"/>\r\n       <use x=\"65.560547\" xlink:href=\"#DejaVuSans-97\"/>\r\n       <use x=\"126.839844\" xlink:href=\"#DejaVuSans-102\"/>\r\n       <use x=\"162.044922\" xlink:href=\"#DejaVuSans-101\"/>\r\n      </g>\r\n     </g>\r\n    </g>\r\n    <g id=\"xtick_4\">\r\n     <g id=\"line2d_4\">\r\n      <g>\r\n       <use style=\"stroke:#000000;stroke-width:0.8;\" x=\"378.828125\" xlink:href=\"#me0bd476ecb\" y=\"457.198125\"/>\r\n      </g>\r\n     </g>\r\n     <g id=\"text_4\">\r\n      <!-- Food Court -->\r\n      <defs>\r\n       <path d=\"M 9.8125 72.90625 \r\nL 51.703125 72.90625 \r\nL 51.703125 64.59375 \r\nL 19.671875 64.59375 \r\nL 19.671875 43.109375 \r\nL 48.578125 43.109375 \r\nL 48.578125 34.8125 \r\nL 19.671875 34.8125 \r\nL 19.671875 0 \r\nL 9.8125 0 \r\nz\r\n\" id=\"DejaVuSans-70\"/>\r\n       <path d=\"M 30.609375 48.390625 \r\nQ 23.390625 48.390625 19.1875 42.75 \r\nQ 14.984375 37.109375 14.984375 27.296875 \r\nQ 14.984375 17.484375 19.15625 11.84375 \r\nQ 23.34375 6.203125 30.609375 6.203125 \r\nQ 37.796875 6.203125 41.984375 11.859375 \r\nQ 46.1875 17.53125 46.1875 27.296875 \r\nQ 46.1875 37.015625 41.984375 42.703125 \r\nQ 37.796875 48.390625 30.609375 48.390625 \r\nz\r\nM 30.609375 56 \r\nQ 42.328125 56 49.015625 48.375 \r\nQ 55.71875 40.765625 55.71875 27.296875 \r\nQ 55.71875 13.875 49.015625 6.21875 \r\nQ 42.328125 -1.421875 30.609375 -1.421875 \r\nQ 18.84375 -1.421875 12.171875 6.21875 \r\nQ 5.515625 13.875 5.515625 27.296875 \r\nQ 5.515625 40.765625 12.171875 48.375 \r\nQ 18.84375 56 30.609375 56 \r\nz\r\n\" id=\"DejaVuSans-111\"/>\r\n       <path d=\"M 45.40625 46.390625 \r\nL 45.40625 75.984375 \r\nL 54.390625 75.984375 \r\nL 54.390625 0 \r\nL 45.40625 0 \r\nL 45.40625 8.203125 \r\nQ 42.578125 3.328125 38.25 0.953125 \r\nQ 33.9375 -1.421875 27.875 -1.421875 \r\nQ 17.96875 -1.421875 11.734375 6.484375 \r\nQ 5.515625 14.40625 5.515625 27.296875 \r\nQ 5.515625 40.1875 11.734375 48.09375 \r\nQ 17.96875 56 27.875 56 \r\nQ 33.9375 56 38.25 53.625 \r\nQ 42.578125 51.265625 45.40625 46.390625 \r\nz\r\nM 14.796875 27.296875 \r\nQ 14.796875 17.390625 18.875 11.75 \r\nQ 22.953125 6.109375 30.078125 6.109375 \r\nQ 37.203125 6.109375 41.296875 11.75 \r\nQ 45.40625 17.390625 45.40625 27.296875 \r\nQ 45.40625 37.203125 41.296875 42.84375 \r\nQ 37.203125 48.484375 30.078125 48.484375 \r\nQ 22.953125 48.484375 18.875 42.84375 \r\nQ 14.796875 37.203125 14.796875 27.296875 \r\nz\r\n\" id=\"DejaVuSans-100\"/>\r\n       <path d=\"M 41.109375 46.296875 \r\nQ 39.59375 47.171875 37.8125 47.578125 \r\nQ 36.03125 48 33.890625 48 \r\nQ 26.265625 48 22.1875 43.046875 \r\nQ 18.109375 38.09375 18.109375 28.8125 \r\nL 18.109375 0 \r\nL 9.078125 0 \r\nL 9.078125 54.6875 \r\nL 18.109375 54.6875 \r\nL 18.109375 46.1875 \r\nQ 20.953125 51.171875 25.484375 53.578125 \r\nQ 30.03125 56 36.53125 56 \r\nQ 37.453125 56 38.578125 55.875 \r\nQ 39.703125 55.765625 41.0625 55.515625 \r\nz\r\n\" id=\"DejaVuSans-114\"/>\r\n      </defs>\r\n      <g transform=\"translate(351.3375 471.796562)scale(0.1 -0.1)\">\r\n       <use xlink:href=\"#DejaVuSans-70\"/>\r\n       <use x=\"57.472656\" xlink:href=\"#DejaVuSans-111\"/>\r\n       <use x=\"118.654297\" xlink:href=\"#DejaVuSans-111\"/>\r\n       <use x=\"179.835938\" xlink:href=\"#DejaVuSans-100\"/>\r\n       <use x=\"243.3125\" xlink:href=\"#DejaVuSans-32\"/>\r\n       <use x=\"275.099609\" xlink:href=\"#DejaVuSans-67\"/>\r\n       <use x=\"344.923828\" xlink:href=\"#DejaVuSans-111\"/>\r\n       <use x=\"406.105469\" xlink:href=\"#DejaVuSans-117\"/>\r\n       <use x=\"469.484375\" xlink:href=\"#DejaVuSans-114\"/>\r\n       <use x=\"510.597656\" xlink:href=\"#DejaVuSans-116\"/>\r\n      </g>\r\n     </g>\r\n    </g>\r\n    <g id=\"xtick_5\">\r\n     <g id=\"line2d_5\">\r\n      <g>\r\n       <use style=\"stroke:#000000;stroke-width:0.8;\" x=\"471.828125\" xlink:href=\"#me0bd476ecb\" y=\"457.198125\"/>\r\n      </g>\r\n     </g>\r\n     <g id=\"text_5\">\r\n      <!-- Toko Minuman -->\r\n      <defs>\r\n       <path d=\"M -0.296875 72.90625 \r\nL 61.375 72.90625 \r\nL 61.375 64.59375 \r\nL 35.5 64.59375 \r\nL 35.5 0 \r\nL 25.59375 0 \r\nL 25.59375 64.59375 \r\nL -0.296875 64.59375 \r\nz\r\n\" id=\"DejaVuSans-84\"/>\r\n       <path d=\"M 9.8125 72.90625 \r\nL 24.515625 72.90625 \r\nL 43.109375 23.296875 \r\nL 61.8125 72.90625 \r\nL 76.515625 72.90625 \r\nL 76.515625 0 \r\nL 66.890625 0 \r\nL 66.890625 64.015625 \r\nL 48.09375 14.015625 \r\nL 38.1875 14.015625 \r\nL 19.390625 64.015625 \r\nL 19.390625 0 \r\nL 9.8125 0 \r\nz\r\n\" id=\"DejaVuSans-77\"/>\r\n       <path d=\"M 52 44.1875 \r\nQ 55.375 50.25 60.0625 53.125 \r\nQ 64.75 56 71.09375 56 \r\nQ 79.640625 56 84.28125 50.015625 \r\nQ 88.921875 44.046875 88.921875 33.015625 \r\nL 88.921875 0 \r\nL 79.890625 0 \r\nL 79.890625 32.71875 \r\nQ 79.890625 40.578125 77.09375 44.375 \r\nQ 74.3125 48.1875 68.609375 48.1875 \r\nQ 61.625 48.1875 57.5625 43.546875 \r\nQ 53.515625 38.921875 53.515625 30.90625 \r\nL 53.515625 0 \r\nL 44.484375 0 \r\nL 44.484375 32.71875 \r\nQ 44.484375 40.625 41.703125 44.40625 \r\nQ 38.921875 48.1875 33.109375 48.1875 \r\nQ 26.21875 48.1875 22.15625 43.53125 \r\nQ 18.109375 38.875 18.109375 30.90625 \r\nL 18.109375 0 \r\nL 9.078125 0 \r\nL 9.078125 54.6875 \r\nL 18.109375 54.6875 \r\nL 18.109375 46.1875 \r\nQ 21.1875 51.21875 25.484375 53.609375 \r\nQ 29.78125 56 35.6875 56 \r\nQ 41.65625 56 45.828125 52.96875 \r\nQ 50 49.953125 52 44.1875 \r\nz\r\n\" id=\"DejaVuSans-109\"/>\r\n      </defs>\r\n      <g transform=\"translate(435.042969 471.796562)scale(0.1 -0.1)\">\r\n       <use xlink:href=\"#DejaVuSans-84\"/>\r\n       <use x=\"60.818359\" xlink:href=\"#DejaVuSans-111\"/>\r\n       <use x=\"122\" xlink:href=\"#DejaVuSans-107\"/>\r\n       <use x=\"179.863281\" xlink:href=\"#DejaVuSans-111\"/>\r\n       <use x=\"241.044922\" xlink:href=\"#DejaVuSans-32\"/>\r\n       <use x=\"272.832031\" xlink:href=\"#DejaVuSans-77\"/>\r\n       <use x=\"359.111328\" xlink:href=\"#DejaVuSans-105\"/>\r\n       <use x=\"386.894531\" xlink:href=\"#DejaVuSans-110\"/>\r\n       <use x=\"450.273438\" xlink:href=\"#DejaVuSans-117\"/>\r\n       <use x=\"513.652344\" xlink:href=\"#DejaVuSans-109\"/>\r\n       <use x=\"611.064453\" xlink:href=\"#DejaVuSans-97\"/>\r\n       <use x=\"672.34375\" xlink:href=\"#DejaVuSans-110\"/>\r\n      </g>\r\n     </g>\r\n    </g>\r\n    <g id=\"xtick_6\">\r\n     <g id=\"line2d_6\">\r\n      <g>\r\n       <use style=\"stroke:#000000;stroke-width:0.8;\" x=\"564.828125\" xlink:href=\"#me0bd476ecb\" y=\"457.198125\"/>\r\n      </g>\r\n     </g>\r\n     <g id=\"text_6\">\r\n      <!-- Toko Kue &amp; Roti -->\r\n      <defs>\r\n       <path d=\"M 24.3125 39.203125 \r\nQ 19.875 35.25 17.796875 31.3125 \r\nQ 15.71875 27.390625 15.71875 23.09375 \r\nQ 15.71875 15.96875 20.890625 11.234375 \r\nQ 26.078125 6.5 33.890625 6.5 \r\nQ 38.53125 6.5 42.578125 8.03125 \r\nQ 46.625 9.578125 50.203125 12.703125 \r\nz\r\nM 31.203125 44.671875 \r\nL 56 19.28125 \r\nQ 58.890625 23.640625 60.5 28.59375 \r\nQ 62.109375 33.546875 62.40625 39.109375 \r\nL 71.484375 39.109375 \r\nQ 70.90625 32.671875 68.359375 26.359375 \r\nQ 65.828125 20.0625 61.28125 13.921875 \r\nL 74.90625 0 \r\nL 62.59375 0 \r\nL 55.609375 7.171875 \r\nQ 50.53125 2.828125 44.96875 0.703125 \r\nQ 39.40625 -1.421875 33.015625 -1.421875 \r\nQ 21.234375 -1.421875 13.765625 5.296875 \r\nQ 6.296875 12.015625 6.296875 22.515625 \r\nQ 6.296875 28.765625 9.5625 34.25 \r\nQ 12.84375 39.75 19.390625 44.578125 \r\nQ 17.046875 47.65625 15.8125 50.703125 \r\nQ 14.59375 53.765625 14.59375 56.6875 \r\nQ 14.59375 64.59375 20.015625 69.40625 \r\nQ 25.4375 74.21875 34.421875 74.21875 \r\nQ 38.484375 74.21875 42.5 73.34375 \r\nQ 46.53125 72.46875 50.6875 70.703125 \r\nL 50.6875 61.8125 \r\nQ 46.4375 64.109375 42.578125 65.296875 \r\nQ 38.71875 66.5 35.40625 66.5 \r\nQ 30.28125 66.5 27.078125 63.78125 \r\nQ 23.875 61.078125 23.875 56.78125 \r\nQ 23.875 54.296875 25.3125 51.78125 \r\nQ 26.765625 49.265625 31.203125 44.671875 \r\nz\r\n\" id=\"DejaVuSans-38\"/>\r\n       <path d=\"M 44.390625 34.1875 \r\nQ 47.5625 33.109375 50.5625 29.59375 \r\nQ 53.5625 26.078125 56.59375 19.921875 \r\nL 66.609375 0 \r\nL 56 0 \r\nL 46.6875 18.703125 \r\nQ 43.0625 26.03125 39.671875 28.421875 \r\nQ 36.28125 30.8125 30.421875 30.8125 \r\nL 19.671875 30.8125 \r\nL 19.671875 0 \r\nL 9.8125 0 \r\nL 9.8125 72.90625 \r\nL 32.078125 72.90625 \r\nQ 44.578125 72.90625 50.734375 67.671875 \r\nQ 56.890625 62.453125 56.890625 51.90625 \r\nQ 56.890625 45.015625 53.6875 40.46875 \r\nQ 50.484375 35.9375 44.390625 34.1875 \r\nz\r\nM 19.671875 64.796875 \r\nL 19.671875 38.921875 \r\nL 32.078125 38.921875 \r\nQ 39.203125 38.921875 42.84375 42.21875 \r\nQ 46.484375 45.515625 46.484375 51.90625 \r\nQ 46.484375 58.296875 42.84375 61.546875 \r\nQ 39.203125 64.796875 32.078125 64.796875 \r\nz\r\n\" id=\"DejaVuSans-82\"/>\r\n      </defs>\r\n      <g transform=\"translate(524.709375 471.796562)scale(0.1 -0.1)\">\r\n       <use xlink:href=\"#DejaVuSans-84\"/>\r\n       <use x=\"60.818359\" xlink:href=\"#DejaVuSans-111\"/>\r\n       <use x=\"122\" xlink:href=\"#DejaVuSans-107\"/>\r\n       <use x=\"179.863281\" xlink:href=\"#DejaVuSans-111\"/>\r\n       <use x=\"241.044922\" xlink:href=\"#DejaVuSans-32\"/>\r\n       <use x=\"272.832031\" xlink:href=\"#DejaVuSans-75\"/>\r\n       <use x=\"338.330078\" xlink:href=\"#DejaVuSans-117\"/>\r\n       <use x=\"401.708984\" xlink:href=\"#DejaVuSans-101\"/>\r\n       <use x=\"463.232422\" xlink:href=\"#DejaVuSans-32\"/>\r\n       <use x=\"495.019531\" xlink:href=\"#DejaVuSans-38\"/>\r\n       <use x=\"572.998047\" xlink:href=\"#DejaVuSans-32\"/>\r\n       <use x=\"604.785156\" xlink:href=\"#DejaVuSans-82\"/>\r\n       <use x=\"674.205078\" xlink:href=\"#DejaVuSans-111\"/>\r\n       <use x=\"735.386719\" xlink:href=\"#DejaVuSans-116\"/>\r\n       <use x=\"774.595703\" xlink:href=\"#DejaVuSans-105\"/>\r\n      </g>\r\n     </g>\r\n    </g>\r\n    <g id=\"xtick_7\">\r\n     <g id=\"line2d_7\">\r\n      <g>\r\n       <use style=\"stroke:#000000;stroke-width:0.8;\" x=\"657.828125\" xlink:href=\"#me0bd476ecb\" y=\"457.198125\"/>\r\n      </g>\r\n     </g>\r\n     <g id=\"text_7\">\r\n      <!-- Dessert Parlor -->\r\n      <defs>\r\n       <path d=\"M 19.671875 64.796875 \r\nL 19.671875 37.40625 \r\nL 32.078125 37.40625 \r\nQ 38.96875 37.40625 42.71875 40.96875 \r\nQ 46.484375 44.53125 46.484375 51.125 \r\nQ 46.484375 57.671875 42.71875 61.234375 \r\nQ 38.96875 64.796875 32.078125 64.796875 \r\nz\r\nM 9.8125 72.90625 \r\nL 32.078125 72.90625 \r\nQ 44.34375 72.90625 50.609375 67.359375 \r\nQ 56.890625 61.8125 56.890625 51.125 \r\nQ 56.890625 40.328125 50.609375 34.8125 \r\nQ 44.34375 29.296875 32.078125 29.296875 \r\nL 19.671875 29.296875 \r\nL 19.671875 0 \r\nL 9.8125 0 \r\nz\r\n\" id=\"DejaVuSans-80\"/>\r\n      </defs>\r\n      <g transform=\"translate(622.375781 471.796562)scale(0.1 -0.1)\">\r\n       <use xlink:href=\"#DejaVuSans-68\"/>\r\n       <use x=\"77.001953\" xlink:href=\"#DejaVuSans-101\"/>\r\n       <use x=\"138.525391\" xlink:href=\"#DejaVuSans-115\"/>\r\n       <use x=\"190.625\" xlink:href=\"#DejaVuSans-115\"/>\r\n       <use x=\"242.724609\" xlink:href=\"#DejaVuSans-101\"/>\r\n       <use x=\"304.248047\" xlink:href=\"#DejaVuSans-114\"/>\r\n       <use x=\"345.361328\" xlink:href=\"#DejaVuSans-116\"/>\r\n       <use x=\"384.570312\" xlink:href=\"#DejaVuSans-32\"/>\r\n       <use x=\"416.357422\" xlink:href=\"#DejaVuSans-80\"/>\r\n       <use x=\"476.597656\" xlink:href=\"#DejaVuSans-97\"/>\r\n       <use x=\"537.876953\" xlink:href=\"#DejaVuSans-114\"/>\r\n       <use x=\"578.990234\" xlink:href=\"#DejaVuSans-108\"/>\r\n       <use x=\"606.773438\" xlink:href=\"#DejaVuSans-111\"/>\r\n       <use x=\"667.955078\" xlink:href=\"#DejaVuSans-114\"/>\r\n      </g>\r\n     </g>\r\n    </g>\r\n    <g id=\"xtick_8\">\r\n     <g id=\"line2d_8\">\r\n      <g>\r\n       <use style=\"stroke:#000000;stroke-width:0.8;\" x=\"750.828125\" xlink:href=\"#me0bd476ecb\" y=\"457.198125\"/>\r\n      </g>\r\n     </g>\r\n     <g id=\"text_8\">\r\n      <!-- Kaki Lima -->\r\n      <defs>\r\n       <path d=\"M 9.8125 72.90625 \r\nL 19.671875 72.90625 \r\nL 19.671875 8.296875 \r\nL 55.171875 8.296875 \r\nL 55.171875 0 \r\nL 9.8125 0 \r\nz\r\n\" id=\"DejaVuSans-76\"/>\r\n      </defs>\r\n      <g transform=\"translate(726.503125 471.796562)scale(0.1 -0.1)\">\r\n       <use xlink:href=\"#DejaVuSans-75\"/>\r\n       <use x=\"65.560547\" xlink:href=\"#DejaVuSans-97\"/>\r\n       <use x=\"126.839844\" xlink:href=\"#DejaVuSans-107\"/>\r\n       <use x=\"184.75\" xlink:href=\"#DejaVuSans-105\"/>\r\n       <use x=\"212.533203\" xlink:href=\"#DejaVuSans-32\"/>\r\n       <use x=\"244.320312\" xlink:href=\"#DejaVuSans-76\"/>\r\n       <use x=\"300.033203\" xlink:href=\"#DejaVuSans-105\"/>\r\n       <use x=\"327.816406\" xlink:href=\"#DejaVuSans-109\"/>\r\n       <use x=\"425.228516\" xlink:href=\"#DejaVuSans-97\"/>\r\n      </g>\r\n     </g>\r\n    </g>\r\n    <g id=\"xtick_9\">\r\n     <g id=\"line2d_9\">\r\n      <g>\r\n       <use style=\"stroke:#000000;stroke-width:0.8;\" x=\"843.828125\" xlink:href=\"#me0bd476ecb\" y=\"457.198125\"/>\r\n      </g>\r\n     </g>\r\n     <g id=\"text_9\">\r\n      <!-- Bar -->\r\n      <g transform=\"translate(835.278125 471.796562)scale(0.1 -0.1)\">\r\n       <use xlink:href=\"#DejaVuSans-66\"/>\r\n       <use x=\"68.603516\" xlink:href=\"#DejaVuSans-97\"/>\r\n       <use x=\"129.882812\" xlink:href=\"#DejaVuSans-114\"/>\r\n      </g>\r\n     </g>\r\n    </g>\r\n    <g id=\"xtick_10\">\r\n     <g id=\"line2d_10\">\r\n      <g>\r\n       <use style=\"stroke:#000000;stroke-width:0.8;\" x=\"936.828125\" xlink:href=\"#me0bd476ecb\" y=\"457.198125\"/>\r\n      </g>\r\n     </g>\r\n     <g id=\"text_10\">\r\n      <!-- Kios -->\r\n      <g transform=\"translate(926.496094 471.796562)scale(0.1 -0.1)\">\r\n       <use xlink:href=\"#DejaVuSans-75\"/>\r\n       <use x=\"65.576172\" xlink:href=\"#DejaVuSans-105\"/>\r\n       <use x=\"93.359375\" xlink:href=\"#DejaVuSans-111\"/>\r\n       <use x=\"154.541016\" xlink:href=\"#DejaVuSans-115\"/>\r\n      </g>\r\n     </g>\r\n    </g>\r\n    <g id=\"xtick_11\">\r\n     <g id=\"line2d_11\">\r\n      <g>\r\n       <use style=\"stroke:#000000;stroke-width:0.8;\" x=\"1029.828125\" xlink:href=\"#me0bd476ecb\" y=\"457.198125\"/>\r\n      </g>\r\n     </g>\r\n     <g id=\"text_11\">\r\n      <!-- Lounge -->\r\n      <g transform=\"translate(1011.395313 471.796562)scale(0.1 -0.1)\">\r\n       <use xlink:href=\"#DejaVuSans-76\"/>\r\n       <use x=\"55.697266\" xlink:href=\"#DejaVuSans-111\"/>\r\n       <use x=\"116.878906\" xlink:href=\"#DejaVuSans-117\"/>\r\n       <use x=\"180.257812\" xlink:href=\"#DejaVuSans-110\"/>\r\n       <use x=\"243.636719\" xlink:href=\"#DejaVuSans-103\"/>\r\n       <use x=\"307.113281\" xlink:href=\"#DejaVuSans-101\"/>\r\n      </g>\r\n     </g>\r\n    </g>\r\n    <g id=\"xtick_12\">\r\n     <g id=\"line2d_12\">\r\n      <g>\r\n       <use style=\"stroke:#000000;stroke-width:0.8;\" x=\"1122.828125\" xlink:href=\"#me0bd476ecb\" y=\"457.198125\"/>\r\n      </g>\r\n     </g>\r\n     <g id=\"text_12\">\r\n      <!-- Fine Dining -->\r\n      <g transform=\"translate(1094.594531 471.796562)scale(0.1 -0.1)\">\r\n       <use xlink:href=\"#DejaVuSans-70\"/>\r\n       <use x=\"57.410156\" xlink:href=\"#DejaVuSans-105\"/>\r\n       <use x=\"85.193359\" xlink:href=\"#DejaVuSans-110\"/>\r\n       <use x=\"148.572266\" xlink:href=\"#DejaVuSans-101\"/>\r\n       <use x=\"210.095703\" xlink:href=\"#DejaVuSans-32\"/>\r\n       <use x=\"241.882812\" xlink:href=\"#DejaVuSans-68\"/>\r\n       <use x=\"318.884766\" xlink:href=\"#DejaVuSans-105\"/>\r\n       <use x=\"346.667969\" xlink:href=\"#DejaVuSans-110\"/>\r\n       <use x=\"410.046875\" xlink:href=\"#DejaVuSans-105\"/>\r\n       <use x=\"437.830078\" xlink:href=\"#DejaVuSans-110\"/>\r\n       <use x=\"501.208984\" xlink:href=\"#DejaVuSans-103\"/>\r\n      </g>\r\n     </g>\r\n    </g>\r\n    <g id=\"text_13\">\r\n     <!-- Place Type -->\r\n     <defs>\r\n      <path d=\"M 32.171875 -5.078125 \r\nQ 28.375 -14.84375 24.75 -17.8125 \r\nQ 21.140625 -20.796875 15.09375 -20.796875 \r\nL 7.90625 -20.796875 \r\nL 7.90625 -13.28125 \r\nL 13.1875 -13.28125 \r\nQ 16.890625 -13.28125 18.9375 -11.515625 \r\nQ 21 -9.765625 23.484375 -3.21875 \r\nL 25.09375 0.875 \r\nL 2.984375 54.6875 \r\nL 12.5 54.6875 \r\nL 29.59375 11.921875 \r\nL 46.6875 54.6875 \r\nL 56.203125 54.6875 \r\nz\r\n\" id=\"DejaVuSans-121\"/>\r\n      <path d=\"M 18.109375 8.203125 \r\nL 18.109375 -20.796875 \r\nL 9.078125 -20.796875 \r\nL 9.078125 54.6875 \r\nL 18.109375 54.6875 \r\nL 18.109375 46.390625 \r\nQ 20.953125 51.265625 25.265625 53.625 \r\nQ 29.59375 56 35.59375 56 \r\nQ 45.5625 56 51.78125 48.09375 \r\nQ 58.015625 40.1875 58.015625 27.296875 \r\nQ 58.015625 14.40625 51.78125 6.484375 \r\nQ 45.5625 -1.421875 35.59375 -1.421875 \r\nQ 29.59375 -1.421875 25.265625 0.953125 \r\nQ 20.953125 3.328125 18.109375 8.203125 \r\nz\r\nM 48.6875 27.296875 \r\nQ 48.6875 37.203125 44.609375 42.84375 \r\nQ 40.53125 48.484375 33.40625 48.484375 \r\nQ 26.265625 48.484375 22.1875 42.84375 \r\nQ 18.109375 37.203125 18.109375 27.296875 \r\nQ 18.109375 17.390625 22.1875 11.75 \r\nQ 26.265625 6.109375 33.40625 6.109375 \r\nQ 40.53125 6.109375 44.609375 11.75 \r\nQ 48.6875 17.390625 48.6875 27.296875 \r\nz\r\n\" id=\"DejaVuSans-112\"/>\r\n     </defs>\r\n     <g transform=\"translate(584.192969 485.474687)scale(0.1 -0.1)\">\r\n      <use xlink:href=\"#DejaVuSans-80\"/>\r\n      <use x=\"60.302734\" xlink:href=\"#DejaVuSans-108\"/>\r\n      <use x=\"88.085938\" xlink:href=\"#DejaVuSans-97\"/>\r\n      <use x=\"149.365234\" xlink:href=\"#DejaVuSans-99\"/>\r\n      <use x=\"204.345703\" xlink:href=\"#DejaVuSans-101\"/>\r\n      <use x=\"265.869141\" xlink:href=\"#DejaVuSans-32\"/>\r\n      <use x=\"297.65625\" xlink:href=\"#DejaVuSans-84\"/>\r\n      <use x=\"358.505859\" xlink:href=\"#DejaVuSans-121\"/>\r\n      <use x=\"417.685547\" xlink:href=\"#DejaVuSans-112\"/>\r\n      <use x=\"481.162109\" xlink:href=\"#DejaVuSans-101\"/>\r\n     </g>\r\n    </g>\r\n   </g>\r\n   <g id=\"matplotlib.axis_2\">\r\n    <g id=\"ytick_1\">\r\n     <g id=\"line2d_13\">\r\n      <defs>\r\n       <path d=\"M 0 0 \r\nL -3.5 0 \r\n\" id=\"m240fbf60f9\" style=\"stroke:#000000;stroke-width:0.8;\"/>\r\n      </defs>\r\n      <g>\r\n       <use style=\"stroke:#000000;stroke-width:0.8;\" x=\"53.328125\" xlink:href=\"#m240fbf60f9\" y=\"457.198125\"/>\r\n      </g>\r\n     </g>\r\n     <g id=\"text_14\">\r\n      <!-- 0 -->\r\n      <defs>\r\n       <path d=\"M 31.78125 66.40625 \r\nQ 24.171875 66.40625 20.328125 58.90625 \r\nQ 16.5 51.421875 16.5 36.375 \r\nQ 16.5 21.390625 20.328125 13.890625 \r\nQ 24.171875 6.390625 31.78125 6.390625 \r\nQ 39.453125 6.390625 43.28125 13.890625 \r\nQ 47.125 21.390625 47.125 36.375 \r\nQ 47.125 51.421875 43.28125 58.90625 \r\nQ 39.453125 66.40625 31.78125 66.40625 \r\nz\r\nM 31.78125 74.21875 \r\nQ 44.046875 74.21875 50.515625 64.515625 \r\nQ 56.984375 54.828125 56.984375 36.375 \r\nQ 56.984375 17.96875 50.515625 8.265625 \r\nQ 44.046875 -1.421875 31.78125 -1.421875 \r\nQ 19.53125 -1.421875 13.0625 8.265625 \r\nQ 6.59375 17.96875 6.59375 36.375 \r\nQ 6.59375 54.828125 13.0625 64.515625 \r\nQ 19.53125 74.21875 31.78125 74.21875 \r\nz\r\n\" id=\"DejaVuSans-48\"/>\r\n      </defs>\r\n      <g transform=\"translate(39.965625 460.997344)scale(0.1 -0.1)\">\r\n       <use xlink:href=\"#DejaVuSans-48\"/>\r\n      </g>\r\n     </g>\r\n    </g>\r\n    <g id=\"ytick_2\">\r\n     <g id=\"line2d_14\">\r\n      <g>\r\n       <use style=\"stroke:#000000;stroke-width:0.8;\" x=\"53.328125\" xlink:href=\"#m240fbf60f9\" y=\"373.068239\"/>\r\n      </g>\r\n     </g>\r\n     <g id=\"text_15\">\r\n      <!-- 1000 -->\r\n      <defs>\r\n       <path d=\"M 12.40625 8.296875 \r\nL 28.515625 8.296875 \r\nL 28.515625 63.921875 \r\nL 10.984375 60.40625 \r\nL 10.984375 69.390625 \r\nL 28.421875 72.90625 \r\nL 38.28125 72.90625 \r\nL 38.28125 8.296875 \r\nL 54.390625 8.296875 \r\nL 54.390625 0 \r\nL 12.40625 0 \r\nz\r\n\" id=\"DejaVuSans-49\"/>\r\n      </defs>\r\n      <g transform=\"translate(20.878125 376.867458)scale(0.1 -0.1)\">\r\n       <use xlink:href=\"#DejaVuSans-49\"/>\r\n       <use x=\"63.623047\" xlink:href=\"#DejaVuSans-48\"/>\r\n       <use x=\"127.246094\" xlink:href=\"#DejaVuSans-48\"/>\r\n       <use x=\"190.869141\" xlink:href=\"#DejaVuSans-48\"/>\r\n      </g>\r\n     </g>\r\n    </g>\r\n    <g id=\"ytick_3\">\r\n     <g id=\"line2d_15\">\r\n      <g>\r\n       <use style=\"stroke:#000000;stroke-width:0.8;\" x=\"53.328125\" xlink:href=\"#m240fbf60f9\" y=\"288.938353\"/>\r\n      </g>\r\n     </g>\r\n     <g id=\"text_16\">\r\n      <!-- 2000 -->\r\n      <defs>\r\n       <path d=\"M 19.1875 8.296875 \r\nL 53.609375 8.296875 \r\nL 53.609375 0 \r\nL 7.328125 0 \r\nL 7.328125 8.296875 \r\nQ 12.9375 14.109375 22.625 23.890625 \r\nQ 32.328125 33.6875 34.8125 36.53125 \r\nQ 39.546875 41.84375 41.421875 45.53125 \r\nQ 43.3125 49.21875 43.3125 52.78125 \r\nQ 43.3125 58.59375 39.234375 62.25 \r\nQ 35.15625 65.921875 28.609375 65.921875 \r\nQ 23.96875 65.921875 18.8125 64.3125 \r\nQ 13.671875 62.703125 7.8125 59.421875 \r\nL 7.8125 69.390625 \r\nQ 13.765625 71.78125 18.9375 73 \r\nQ 24.125 74.21875 28.421875 74.21875 \r\nQ 39.75 74.21875 46.484375 68.546875 \r\nQ 53.21875 62.890625 53.21875 53.421875 \r\nQ 53.21875 48.921875 51.53125 44.890625 \r\nQ 49.859375 40.875 45.40625 35.40625 \r\nQ 44.1875 33.984375 37.640625 27.21875 \r\nQ 31.109375 20.453125 19.1875 8.296875 \r\nz\r\n\" id=\"DejaVuSans-50\"/>\r\n      </defs>\r\n      <g transform=\"translate(20.878125 292.737572)scale(0.1 -0.1)\">\r\n       <use xlink:href=\"#DejaVuSans-50\"/>\r\n       <use x=\"63.623047\" xlink:href=\"#DejaVuSans-48\"/>\r\n       <use x=\"127.246094\" xlink:href=\"#DejaVuSans-48\"/>\r\n       <use x=\"190.869141\" xlink:href=\"#DejaVuSans-48\"/>\r\n      </g>\r\n     </g>\r\n    </g>\r\n    <g id=\"ytick_4\">\r\n     <g id=\"line2d_16\">\r\n      <g>\r\n       <use style=\"stroke:#000000;stroke-width:0.8;\" x=\"53.328125\" xlink:href=\"#m240fbf60f9\" y=\"204.808467\"/>\r\n      </g>\r\n     </g>\r\n     <g id=\"text_17\">\r\n      <!-- 3000 -->\r\n      <defs>\r\n       <path d=\"M 40.578125 39.3125 \r\nQ 47.65625 37.796875 51.625 33 \r\nQ 55.609375 28.21875 55.609375 21.1875 \r\nQ 55.609375 10.40625 48.1875 4.484375 \r\nQ 40.765625 -1.421875 27.09375 -1.421875 \r\nQ 22.515625 -1.421875 17.65625 -0.515625 \r\nQ 12.796875 0.390625 7.625 2.203125 \r\nL 7.625 11.71875 \r\nQ 11.71875 9.328125 16.59375 8.109375 \r\nQ 21.484375 6.890625 26.8125 6.890625 \r\nQ 36.078125 6.890625 40.9375 10.546875 \r\nQ 45.796875 14.203125 45.796875 21.1875 \r\nQ 45.796875 27.640625 41.28125 31.265625 \r\nQ 36.765625 34.90625 28.71875 34.90625 \r\nL 20.21875 34.90625 \r\nL 20.21875 43.015625 \r\nL 29.109375 43.015625 \r\nQ 36.375 43.015625 40.234375 45.921875 \r\nQ 44.09375 48.828125 44.09375 54.296875 \r\nQ 44.09375 59.90625 40.109375 62.90625 \r\nQ 36.140625 65.921875 28.71875 65.921875 \r\nQ 24.65625 65.921875 20.015625 65.03125 \r\nQ 15.375 64.15625 9.8125 62.3125 \r\nL 9.8125 71.09375 \r\nQ 15.4375 72.65625 20.34375 73.4375 \r\nQ 25.25 74.21875 29.59375 74.21875 \r\nQ 40.828125 74.21875 47.359375 69.109375 \r\nQ 53.90625 64.015625 53.90625 55.328125 \r\nQ 53.90625 49.265625 50.4375 45.09375 \r\nQ 46.96875 40.921875 40.578125 39.3125 \r\nz\r\n\" id=\"DejaVuSans-51\"/>\r\n      </defs>\r\n      <g transform=\"translate(20.878125 208.607686)scale(0.1 -0.1)\">\r\n       <use xlink:href=\"#DejaVuSans-51\"/>\r\n       <use x=\"63.623047\" xlink:href=\"#DejaVuSans-48\"/>\r\n       <use x=\"127.246094\" xlink:href=\"#DejaVuSans-48\"/>\r\n       <use x=\"190.869141\" xlink:href=\"#DejaVuSans-48\"/>\r\n      </g>\r\n     </g>\r\n    </g>\r\n    <g id=\"ytick_5\">\r\n     <g id=\"line2d_17\">\r\n      <g>\r\n       <use style=\"stroke:#000000;stroke-width:0.8;\" x=\"53.328125\" xlink:href=\"#m240fbf60f9\" y=\"120.678581\"/>\r\n      </g>\r\n     </g>\r\n     <g id=\"text_18\">\r\n      <!-- 4000 -->\r\n      <defs>\r\n       <path d=\"M 37.796875 64.3125 \r\nL 12.890625 25.390625 \r\nL 37.796875 25.390625 \r\nz\r\nM 35.203125 72.90625 \r\nL 47.609375 72.90625 \r\nL 47.609375 25.390625 \r\nL 58.015625 25.390625 \r\nL 58.015625 17.1875 \r\nL 47.609375 17.1875 \r\nL 47.609375 0 \r\nL 37.796875 0 \r\nL 37.796875 17.1875 \r\nL 4.890625 17.1875 \r\nL 4.890625 26.703125 \r\nz\r\n\" id=\"DejaVuSans-52\"/>\r\n      </defs>\r\n      <g transform=\"translate(20.878125 124.4778)scale(0.1 -0.1)\">\r\n       <use xlink:href=\"#DejaVuSans-52\"/>\r\n       <use x=\"63.623047\" xlink:href=\"#DejaVuSans-48\"/>\r\n       <use x=\"127.246094\" xlink:href=\"#DejaVuSans-48\"/>\r\n       <use x=\"190.869141\" xlink:href=\"#DejaVuSans-48\"/>\r\n      </g>\r\n     </g>\r\n    </g>\r\n    <g id=\"ytick_6\">\r\n     <g id=\"line2d_18\">\r\n      <g>\r\n       <use style=\"stroke:#000000;stroke-width:0.8;\" x=\"53.328125\" xlink:href=\"#m240fbf60f9\" y=\"36.548695\"/>\r\n      </g>\r\n     </g>\r\n     <g id=\"text_19\">\r\n      <!-- 5000 -->\r\n      <defs>\r\n       <path d=\"M 10.796875 72.90625 \r\nL 49.515625 72.90625 \r\nL 49.515625 64.59375 \r\nL 19.828125 64.59375 \r\nL 19.828125 46.734375 \r\nQ 21.96875 47.46875 24.109375 47.828125 \r\nQ 26.265625 48.1875 28.421875 48.1875 \r\nQ 40.625 48.1875 47.75 41.5 \r\nQ 54.890625 34.8125 54.890625 23.390625 \r\nQ 54.890625 11.625 47.5625 5.09375 \r\nQ 40.234375 -1.421875 26.90625 -1.421875 \r\nQ 22.3125 -1.421875 17.546875 -0.640625 \r\nQ 12.796875 0.140625 7.71875 1.703125 \r\nL 7.71875 11.625 \r\nQ 12.109375 9.234375 16.796875 8.0625 \r\nQ 21.484375 6.890625 26.703125 6.890625 \r\nQ 35.15625 6.890625 40.078125 11.328125 \r\nQ 45.015625 15.765625 45.015625 23.390625 \r\nQ 45.015625 31 40.078125 35.4375 \r\nQ 35.15625 39.890625 26.703125 39.890625 \r\nQ 22.75 39.890625 18.8125 39.015625 \r\nQ 14.890625 38.140625 10.796875 36.28125 \r\nz\r\n\" id=\"DejaVuSans-53\"/>\r\n      </defs>\r\n      <g transform=\"translate(20.878125 40.347914)scale(0.1 -0.1)\">\r\n       <use xlink:href=\"#DejaVuSans-53\"/>\r\n       <use x=\"63.623047\" xlink:href=\"#DejaVuSans-48\"/>\r\n       <use x=\"127.246094\" xlink:href=\"#DejaVuSans-48\"/>\r\n       <use x=\"190.869141\" xlink:href=\"#DejaVuSans-48\"/>\r\n      </g>\r\n     </g>\r\n    </g>\r\n    <g id=\"text_20\">\r\n     <!-- Count -->\r\n     <g transform=\"translate(14.798437 254.606562)rotate(-90)scale(0.1 -0.1)\">\r\n      <use xlink:href=\"#DejaVuSans-67\"/>\r\n      <use x=\"69.824219\" xlink:href=\"#DejaVuSans-111\"/>\r\n      <use x=\"131.005859\" xlink:href=\"#DejaVuSans-117\"/>\r\n      <use x=\"194.384766\" xlink:href=\"#DejaVuSans-110\"/>\r\n      <use x=\"257.763672\" xlink:href=\"#DejaVuSans-116\"/>\r\n     </g>\r\n    </g>\r\n   </g>\r\n   <g id=\"line2d_19\">\r\n    <path clip-path=\"url(#p9c2e323b5d)\" d=\"M 0 0 \r\n\" style=\"fill:none;stroke:#424242;stroke-linecap:square;stroke-width:2.7;\"/>\r\n   </g>\r\n   <g id=\"line2d_20\">\r\n    <path clip-path=\"url(#p9c2e323b5d)\" d=\"M 0 0 \r\n\" style=\"fill:none;stroke:#424242;stroke-linecap:square;stroke-width:2.7;\"/>\r\n   </g>\r\n   <g id=\"line2d_21\">\r\n    <path clip-path=\"url(#p9c2e323b5d)\" d=\"M 0 0 \r\n\" style=\"fill:none;stroke:#424242;stroke-linecap:square;stroke-width:2.7;\"/>\r\n   </g>\r\n   <g id=\"line2d_22\">\r\n    <path clip-path=\"url(#p9c2e323b5d)\" d=\"M 0 0 \r\n\" style=\"fill:none;stroke:#424242;stroke-linecap:square;stroke-width:2.7;\"/>\r\n   </g>\r\n   <g id=\"line2d_23\">\r\n    <path clip-path=\"url(#p9c2e323b5d)\" d=\"M 0 0 \r\n\" style=\"fill:none;stroke:#424242;stroke-linecap:square;stroke-width:2.7;\"/>\r\n   </g>\r\n   <g id=\"line2d_24\">\r\n    <path clip-path=\"url(#p9c2e323b5d)\" d=\"M 0 0 \r\n\" style=\"fill:none;stroke:#424242;stroke-linecap:square;stroke-width:2.7;\"/>\r\n   </g>\r\n   <g id=\"line2d_25\">\r\n    <path clip-path=\"url(#p9c2e323b5d)\" d=\"M 0 0 \r\n\" style=\"fill:none;stroke:#424242;stroke-linecap:square;stroke-width:2.7;\"/>\r\n   </g>\r\n   <g id=\"line2d_26\">\r\n    <path clip-path=\"url(#p9c2e323b5d)\" d=\"M 0 0 \r\n\" style=\"fill:none;stroke:#424242;stroke-linecap:square;stroke-width:2.7;\"/>\r\n   </g>\r\n   <g id=\"line2d_27\">\r\n    <path clip-path=\"url(#p9c2e323b5d)\" d=\"M 0 0 \r\n\" style=\"fill:none;stroke:#424242;stroke-linecap:square;stroke-width:2.7;\"/>\r\n   </g>\r\n   <g id=\"line2d_28\">\r\n    <path clip-path=\"url(#p9c2e323b5d)\" d=\"M 0 0 \r\n\" style=\"fill:none;stroke:#424242;stroke-linecap:square;stroke-width:2.7;\"/>\r\n   </g>\r\n   <g id=\"line2d_29\">\r\n    <path clip-path=\"url(#p9c2e323b5d)\" d=\"M 0 0 \r\n\" style=\"fill:none;stroke:#424242;stroke-linecap:square;stroke-width:2.7;\"/>\r\n   </g>\r\n   <g id=\"line2d_30\">\r\n    <path clip-path=\"url(#p9c2e323b5d)\" d=\"M 0 0 \r\n\" style=\"fill:none;stroke:#424242;stroke-linecap:square;stroke-width:2.7;\"/>\r\n   </g>\r\n   <g id=\"patch_15\">\r\n    <path d=\"M 53.328125 457.198125 \r\nL 53.328125 22.318125 \r\n\" style=\"fill:none;stroke:#000000;stroke-linecap:square;stroke-linejoin:miter;stroke-width:0.8;\"/>\r\n   </g>\r\n   <g id=\"patch_16\">\r\n    <path d=\"M 1169.328125 457.198125 \r\nL 1169.328125 22.318125 \r\n\" style=\"fill:none;stroke:#000000;stroke-linecap:square;stroke-linejoin:miter;stroke-width:0.8;\"/>\r\n   </g>\r\n   <g id=\"patch_17\">\r\n    <path d=\"M 53.328125 457.198125 \r\nL 1169.328125 457.198125 \r\n\" style=\"fill:none;stroke:#000000;stroke-linecap:square;stroke-linejoin:miter;stroke-width:0.8;\"/>\r\n   </g>\r\n   <g id=\"patch_18\">\r\n    <path d=\"M 53.328125 22.318125 \r\nL 1169.328125 22.318125 \r\n\" style=\"fill:none;stroke:#000000;stroke-linecap:square;stroke-linejoin:miter;stroke-width:0.8;\"/>\r\n   </g>\r\n   <g id=\"text_21\">\r\n    <!-- Restaurant Place Types in Jakarta -->\r\n    <defs>\r\n     <path d=\"M 9.8125 72.90625 \r\nL 19.671875 72.90625 \r\nL 19.671875 5.078125 \r\nQ 19.671875 -8.109375 14.671875 -14.0625 \r\nQ 9.671875 -20.015625 -1.421875 -20.015625 \r\nL -5.171875 -20.015625 \r\nL -5.171875 -11.71875 \r\nL -2.09375 -11.71875 \r\nQ 4.4375 -11.71875 7.125 -8.046875 \r\nQ 9.8125 -4.390625 9.8125 5.078125 \r\nz\r\n\" id=\"DejaVuSans-74\"/>\r\n    </defs>\r\n    <g transform=\"translate(510.245 16.318125)scale(0.12 -0.12)\">\r\n     <use xlink:href=\"#DejaVuSans-82\"/>\r\n     <use x=\"69.419922\" xlink:href=\"#DejaVuSans-101\"/>\r\n     <use x=\"130.943359\" xlink:href=\"#DejaVuSans-115\"/>\r\n     <use x=\"183.042969\" xlink:href=\"#DejaVuSans-116\"/>\r\n     <use x=\"222.251953\" xlink:href=\"#DejaVuSans-97\"/>\r\n     <use x=\"283.53125\" xlink:href=\"#DejaVuSans-117\"/>\r\n     <use x=\"346.910156\" xlink:href=\"#DejaVuSans-114\"/>\r\n     <use x=\"388.023438\" xlink:href=\"#DejaVuSans-97\"/>\r\n     <use x=\"449.302734\" xlink:href=\"#DejaVuSans-110\"/>\r\n     <use x=\"512.681641\" xlink:href=\"#DejaVuSans-116\"/>\r\n     <use x=\"551.890625\" xlink:href=\"#DejaVuSans-32\"/>\r\n     <use x=\"583.677734\" xlink:href=\"#DejaVuSans-80\"/>\r\n     <use x=\"643.980469\" xlink:href=\"#DejaVuSans-108\"/>\r\n     <use x=\"671.763672\" xlink:href=\"#DejaVuSans-97\"/>\r\n     <use x=\"733.042969\" xlink:href=\"#DejaVuSans-99\"/>\r\n     <use x=\"788.023438\" xlink:href=\"#DejaVuSans-101\"/>\r\n     <use x=\"849.546875\" xlink:href=\"#DejaVuSans-32\"/>\r\n     <use x=\"881.333984\" xlink:href=\"#DejaVuSans-84\"/>\r\n     <use x=\"942.183594\" xlink:href=\"#DejaVuSans-121\"/>\r\n     <use x=\"1001.363281\" xlink:href=\"#DejaVuSans-112\"/>\r\n     <use x=\"1064.839844\" xlink:href=\"#DejaVuSans-101\"/>\r\n     <use x=\"1126.363281\" xlink:href=\"#DejaVuSans-115\"/>\r\n     <use x=\"1178.462891\" xlink:href=\"#DejaVuSans-32\"/>\r\n     <use x=\"1210.25\" xlink:href=\"#DejaVuSans-105\"/>\r\n     <use x=\"1238.033203\" xlink:href=\"#DejaVuSans-110\"/>\r\n     <use x=\"1301.412109\" xlink:href=\"#DejaVuSans-32\"/>\r\n     <use x=\"1333.199219\" xlink:href=\"#DejaVuSans-74\"/>\r\n     <use x=\"1362.691406\" xlink:href=\"#DejaVuSans-97\"/>\r\n     <use x=\"1423.970703\" xlink:href=\"#DejaVuSans-107\"/>\r\n     <use x=\"1481.865234\" xlink:href=\"#DejaVuSans-97\"/>\r\n     <use x=\"1543.144531\" xlink:href=\"#DejaVuSans-114\"/>\r\n     <use x=\"1584.257812\" xlink:href=\"#DejaVuSans-116\"/>\r\n     <use x=\"1623.466797\" xlink:href=\"#DejaVuSans-97\"/>\r\n    </g>\r\n   </g>\r\n  </g>\r\n </g>\r\n <defs>\r\n  <clipPath id=\"p9c2e323b5d\">\r\n   <rect height=\"434.88\" width=\"1116\" x=\"53.328125\" y=\"22.318125\"/>\r\n  </clipPath>\r\n </defs>\r\n</svg>\r\n",
      "image/png": "[encoded data removed]"
     },
     "metadata": {
      "needs_background": "light"
     }
    }
   ],
   "source": [
    "plt.figure(figsize=(20,8))\n",
    "ax=sns.barplot(x=\"Place Type\", y=\"Count\", data=place_counts)\n",
    "ax.set_title('Restaurant Place Types in Jakarta')\n",
    "plt.show()"
   ]
  },
  {
   "source": [
    "# 9.2 CUISINES"
   ],
   "cell_type": "markdown",
   "metadata": {}
  },
  {
   "cell_type": "code",
   "execution_count": 103,
   "metadata": {},
   "outputs": [],
   "source": [
    "#Let's check the Unique Values of Cuisine Type\n",
    "\n",
    "cuisine_type = []\n",
    "\n",
    "#Type = List\n",
    "for index, row in rdf.iterrows():\n",
    "    final = row['Cuisines']\n",
    "    cuisine_type.extend(final)\n",
    "\n",
    "cuisine_type = list(set(cuisine_type))"
   ]
  },
  {
   "cell_type": "code",
   "execution_count": 104,
   "metadata": {},
   "outputs": [
    {
     "output_type": "execute_result",
     "data": {
      "text/plain": "['Hanya Minuman',\n 'Kopi',\n 'Tea',\n 'Seafood',\n 'Pizza',\n 'Martabak',\n 'Minuman',\n 'Barbekyu',\n 'Bakso',\n 'Makanan Sehat',\n 'Snacks',\n 'Deli',\n 'Satay',\n 'Makanan Jalanan',\n 'Burger',\n 'Dimsum',\n 'Steak',\n 'Desserts',\n 'Kue & Roti',\n 'Sushi',\n 'Jus',\n 'Ice Cream',\n 'Makanan Cepat Saji',\n 'Grill House',\n 'Kebab',\n 'Bubble Tea',\n 'Bakmi',\n 'Ramen',\n 'Unspecified Cuisine',\n 'Soto']"
     },
     "metadata": {},
     "execution_count": 104
    }
   ],
   "source": [
    "cuisine_type"
   ]
  },
  {
   "cell_type": "code",
   "execution_count": 105,
   "metadata": {},
   "outputs": [],
   "source": [
    "#Make A New List to store the Restaurant Type Counts\n",
    "\n",
    "cuisine_type_ct = []\n",
    "\n",
    "# Type = List\n",
    "for i in cuisine_type:\n",
    "    count = sum(rdf['Cuisines'].apply(lambda x: i in x))\n",
    "    cuisine_type_ct.append(count)\n",
    "\n",
    "\n",
    "#Convert the Lists into A DataFrame\n",
    "\n",
    "csne_counts = pd.DataFrame({'Cuisine Type': cuisine_type, 'Count': cuisine_type_ct})\n",
    "csne_counts.sort_values(by='Count', ascending=False, inplace=True)\n",
    "csne_counts.reset_index(drop=True, inplace=True)"
   ]
  },
  {
   "cell_type": "code",
   "execution_count": 106,
   "metadata": {},
   "outputs": [
    {
     "output_type": "execute_result",
     "data": {
      "text/plain": "           Cuisine Type  Count\n0   Unspecified Cuisine   4831\n1                  Kopi   2108\n2               Minuman    740\n3              Desserts    675\n4                 Bakmi    660\n5                   Tea    500\n6            Kue & Roti    439\n7       Makanan Jalanan    429\n8                Snacks    414\n9               Seafood    359\n10                 Soto    349\n11                Bakso    330\n12                Satay    251\n13                Steak    135\n14                Sushi    128\n15   Makanan Cepat Saji    119\n16            Ice Cream    106\n17               Dimsum    104\n18        Makanan Sehat    100\n19             Martabak     96\n20             Barbekyu     90\n21          Grill House     90\n22           Bubble Tea     84\n23                Pizza     72\n24                  Jus     67\n25               Burger     66\n26                Ramen     65\n27        Hanya Minuman     42\n28                Kebab     26\n29                 Deli      1",
      "text/html": "<div>\n<style scoped>\n    .dataframe tbody tr th:only-of-type {\n        vertical-align: middle;\n    }\n\n    .dataframe tbody tr th {\n        vertical-align: top;\n    }\n\n    .dataframe thead th {\n        text-align: right;\n    }\n</style>\n<table border=\"1\" class=\"dataframe\">\n  <thead>\n    <tr style=\"text-align: right;\">\n      <th></th>\n      <th>Cuisine Type</th>\n      <th>Count</th>\n    </tr>\n  </thead>\n  <tbody>\n    <tr>\n      <th>0</th>\n      <td>Unspecified Cuisine</td>\n      <td>4831</td>\n    </tr>\n    <tr>\n      <th>1</th>\n      <td>Kopi</td>\n      <td>2108</td>\n    </tr>\n    <tr>\n      <th>2</th>\n      <td>Minuman</td>\n      <td>740</td>\n    </tr>\n    <tr>\n      <th>3</th>\n      <td>Desserts</td>\n      <td>675</td>\n    </tr>\n    <tr>\n      <th>4</th>\n      <td>Bakmi</td>\n      <td>660</td>\n    </tr>\n    <tr>\n      <th>5</th>\n      <td>Tea</td>\n      <td>500</td>\n    </tr>\n    <tr>\n      <th>6</th>\n      <td>Kue &amp; Roti</td>\n      <td>439</td>\n    </tr>\n    <tr>\n      <th>7</th>\n      <td>Makanan Jalanan</td>\n      <td>429</td>\n    </tr>\n    <tr>\n      <th>8</th>\n      <td>Snacks</td>\n      <td>414</td>\n    </tr>\n    <tr>\n      <th>9</th>\n      <td>Seafood</td>\n      <td>359</td>\n    </tr>\n    <tr>\n      <th>10</th>\n      <td>Soto</td>\n      <td>349</td>\n    </tr>\n    <tr>\n      <th>11</th>\n      <td>Bakso</td>\n      <td>330</td>\n    </tr>\n    <tr>\n      <th>12</th>\n      <td>Satay</td>\n      <td>251</td>\n    </tr>\n    <tr>\n      <th>13</th>\n      <td>Steak</td>\n      <td>135</td>\n    </tr>\n    <tr>\n      <th>14</th>\n      <td>Sushi</td>\n      <td>128</td>\n    </tr>\n    <tr>\n      <th>15</th>\n      <td>Makanan Cepat Saji</td>\n      <td>119</td>\n    </tr>\n    <tr>\n      <th>16</th>\n      <td>Ice Cream</td>\n      <td>106</td>\n    </tr>\n    <tr>\n      <th>17</th>\n      <td>Dimsum</td>\n      <td>104</td>\n    </tr>\n    <tr>\n      <th>18</th>\n      <td>Makanan Sehat</td>\n      <td>100</td>\n    </tr>\n    <tr>\n      <th>19</th>\n      <td>Martabak</td>\n      <td>96</td>\n    </tr>\n    <tr>\n      <th>20</th>\n      <td>Barbekyu</td>\n      <td>90</td>\n    </tr>\n    <tr>\n      <th>21</th>\n      <td>Grill House</td>\n      <td>90</td>\n    </tr>\n    <tr>\n      <th>22</th>\n      <td>Bubble Tea</td>\n      <td>84</td>\n    </tr>\n    <tr>\n      <th>23</th>\n      <td>Pizza</td>\n      <td>72</td>\n    </tr>\n    <tr>\n      <th>24</th>\n      <td>Jus</td>\n      <td>67</td>\n    </tr>\n    <tr>\n      <th>25</th>\n      <td>Burger</td>\n      <td>66</td>\n    </tr>\n    <tr>\n      <th>26</th>\n      <td>Ramen</td>\n      <td>65</td>\n    </tr>\n    <tr>\n      <th>27</th>\n      <td>Hanya Minuman</td>\n      <td>42</td>\n    </tr>\n    <tr>\n      <th>28</th>\n      <td>Kebab</td>\n      <td>26</td>\n    </tr>\n    <tr>\n      <th>29</th>\n      <td>Deli</td>\n      <td>1</td>\n    </tr>\n  </tbody>\n</table>\n</div>"
     },
     "metadata": {},
     "execution_count": 106
    }
   ],
   "source": [
    "csne_counts"
   ]
  },
  {
   "cell_type": "code",
   "execution_count": 107,
   "metadata": {},
   "outputs": [
    {
     "output_type": "execute_result",
     "data": {
      "text/plain": "4831"
     },
     "metadata": {},
     "execution_count": 107
    }
   ],
   "source": [
    "# We can see that 'Unspecified Cuisine' category is significantly high\n",
    "\n",
    "sum(rdf['Cuisines'].apply(lambda x: 'Unspecified Cuisine' in x))"
   ]
  },
  {
   "cell_type": "code",
   "execution_count": 108,
   "metadata": {},
   "outputs": [
    {
     "output_type": "display_data",
     "data": {
      "text/plain": "<Figure size 1440x576 with 1 Axes>",
      "image/svg+xml": "<?xml version=\"1.0\" encoding=\"utf-8\" standalone=\"no\"?>\r\n<!DOCTYPE svg PUBLIC \"-//W3C//DTD SVG 1.1//EN\"\r\n  \"http://www.w3.org/Graphics/SVG/1.1/DTD/svg11.dtd\">\r\n<!-- Created with matplotlib (https://matplotlib.org/) -->\r\n<svg height=\"494.754375pt\" version=\"1.1\" viewBox=\"0 0 1189.027344 494.754375\" width=\"1189.027344pt\" xmlns=\"http://www.w3.org/2000/svg\" xmlns:xlink=\"http://www.w3.org/1999/xlink\">\r\n <defs>\r\n  <style type=\"text/css\">\r\n*{stroke-linecap:butt;stroke-linejoin:round;}\r\n  </style>\r\n </defs>\r\n <g id=\"figure_1\">\r\n  <g id=\"patch_1\">\r\n   <path d=\"M 0 494.754375 \r\nL 1189.027344 494.754375 \r\nL 1189.027344 0 \r\nL 0 0 \r\nz\r\n\" style=\"fill:none;\"/>\r\n  </g>\r\n  <g id=\"axes_1\">\r\n   <g id=\"patch_2\">\r\n    <path d=\"M 53.328125 457.198125 \r\nL 1169.328125 457.198125 \r\nL 1169.328125 22.318125 \r\nL 53.328125 22.318125 \r\nz\r\n\" style=\"fill:#ffffff;\"/>\r\n   </g>\r\n   <g id=\"patch_3\">\r\n    <path clip-path=\"url(#pfc019bfdc7)\" d=\"M 60.768125 457.198125 \r\nL 120.288125 457.198125 \r\nL 120.288125 43.026696 \r\nL 60.768125 43.026696 \r\nz\r\n\" style=\"fill:#ea96a3;\"/>\r\n   </g>\r\n   <g id=\"patch_4\">\r\n    <path clip-path=\"url(#pfc019bfdc7)\" d=\"M 135.168125 457.198125 \r\nL 194.688125 457.198125 \r\nL 194.688125 311.805878 \r\nL 135.168125 311.805878 \r\nz\r\n\" style=\"fill:#e59471;\"/>\r\n   </g>\r\n   <g id=\"patch_5\">\r\n    <path clip-path=\"url(#pfc019bfdc7)\" d=\"M 209.568125 457.198125 \r\nL 269.088125 457.198125 \r\nL 269.088125 324.576818 \r\nL 209.568125 324.576818 \r\nz\r\n\" style=\"fill:#c6994b;\"/>\r\n   </g>\r\n   <g id=\"patch_6\">\r\n    <path clip-path=\"url(#pfc019bfdc7)\" d=\"M 283.968125 457.198125 \r\nL 343.488125 457.198125 \r\nL 343.488125 327.523959 \r\nL 283.968125 327.523959 \r\nz\r\n\" style=\"fill:#ab9e47;\"/>\r\n   </g>\r\n   <g id=\"patch_7\">\r\n    <path clip-path=\"url(#pfc019bfdc7)\" d=\"M 358.368125 457.198125 \r\nL 417.888125 457.198125 \r\nL 417.888125 358.96012 \r\nL 358.368125 358.96012 \r\nz\r\n\" style=\"fill:#91a446;\"/>\r\n   </g>\r\n   <g id=\"patch_8\">\r\n    <path clip-path=\"url(#pfc019bfdc7)\" d=\"M 432.768125 457.198125 \r\nL 492.288125 457.198125 \r\nL 492.288125 370.945157 \r\nL 432.768125 370.945157 \r\nz\r\n\" style=\"fill:#60ae47;\"/>\r\n   </g>\r\n   <g id=\"patch_9\">\r\n    <path clip-path=\"url(#pfc019bfdc7)\" d=\"M 507.168125 457.198125 \r\nL 566.688125 457.198125 \r\nL 566.688125 372.909917 \r\nL 507.168125 372.909917 \r\nz\r\n\" style=\"fill:#49ae83;\"/>\r\n   </g>\r\n   <g id=\"patch_10\">\r\n    <path clip-path=\"url(#pfc019bfdc7)\" d=\"M 581.568125 457.198125 \r\nL 641.088125 457.198125 \r\nL 641.088125 375.857057 \r\nL 581.568125 375.857057 \r\nz\r\n\" style=\"fill:#4aac9b;\"/>\r\n   </g>\r\n   <g id=\"patch_11\">\r\n    <path clip-path=\"url(#pfc019bfdc7)\" d=\"M 655.968125 457.198125 \r\nL 715.488125 457.198125 \r\nL 715.488125 386.663237 \r\nL 655.968125 386.663237 \r\nz\r\n\" style=\"fill:#4cabad;\"/>\r\n   </g>\r\n   <g id=\"patch_12\">\r\n    <path clip-path=\"url(#pfc019bfdc7)\" d=\"M 730.368125 457.198125 \r\nL 789.888125 457.198125 \r\nL 789.888125 388.627998 \r\nL 730.368125 388.627998 \r\nz\r\n\" style=\"fill:#50acc3;\"/>\r\n   </g>\r\n   <g id=\"patch_13\">\r\n    <path clip-path=\"url(#pfc019bfdc7)\" d=\"M 804.768125 457.198125 \r\nL 864.288125 457.198125 \r\nL 864.288125 392.361042 \r\nL 804.768125 392.361042 \r\nz\r\n\" style=\"fill:#6daee2;\"/>\r\n   </g>\r\n   <g id=\"patch_14\">\r\n    <path clip-path=\"url(#pfc019bfdc7)\" d=\"M 879.168125 457.198125 \r\nL 938.688125 457.198125 \r\nL 938.688125 407.882647 \r\nL 879.168125 407.882647 \r\nz\r\n\" style=\"fill:#adabeb;\"/>\r\n   </g>\r\n   <g id=\"patch_15\">\r\n    <path clip-path=\"url(#pfc019bfdc7)\" d=\"M 953.568125 457.198125 \r\nL 1013.088125 457.198125 \r\nL 1013.088125 430.673864 \r\nL 953.568125 430.673864 \r\nz\r\n\" style=\"fill:#ce9be9;\"/>\r\n   </g>\r\n   <g id=\"patch_16\">\r\n    <path clip-path=\"url(#pfc019bfdc7)\" d=\"M 1027.968125 457.198125 \r\nL 1087.488125 457.198125 \r\nL 1087.488125 432.049196 \r\nL 1027.968125 432.049196 \r\nz\r\n\" style=\"fill:#e78bdb;\"/>\r\n   </g>\r\n   <g id=\"patch_17\">\r\n    <path clip-path=\"url(#pfc019bfdc7)\" d=\"M 1102.368125 457.198125 \r\nL 1161.888125 457.198125 \r\nL 1161.888125 433.81748 \r\nL 1102.368125 433.81748 \r\nz\r\n\" style=\"fill:#e891bf;\"/>\r\n   </g>\r\n   <g id=\"matplotlib.axis_1\">\r\n    <g id=\"xtick_1\">\r\n     <g id=\"line2d_1\">\r\n      <defs>\r\n       <path d=\"M 0 0 \r\nL 0 3.5 \r\n\" id=\"m7bf325ae64\" style=\"stroke:#000000;stroke-width:0.8;\"/>\r\n      </defs>\r\n      <g>\r\n       <use style=\"stroke:#000000;stroke-width:0.8;\" x=\"90.528125\" xlink:href=\"#m7bf325ae64\" y=\"457.198125\"/>\r\n      </g>\r\n     </g>\r\n     <g id=\"text_1\">\r\n      <!-- Kopi -->\r\n      <defs>\r\n       <path d=\"M 9.8125 72.90625 \r\nL 19.671875 72.90625 \r\nL 19.671875 42.09375 \r\nL 52.390625 72.90625 \r\nL 65.09375 72.90625 \r\nL 28.90625 38.921875 \r\nL 67.671875 0 \r\nL 54.6875 0 \r\nL 19.671875 35.109375 \r\nL 19.671875 0 \r\nL 9.8125 0 \r\nz\r\n\" id=\"DejaVuSans-75\"/>\r\n       <path d=\"M 30.609375 48.390625 \r\nQ 23.390625 48.390625 19.1875 42.75 \r\nQ 14.984375 37.109375 14.984375 27.296875 \r\nQ 14.984375 17.484375 19.15625 11.84375 \r\nQ 23.34375 6.203125 30.609375 6.203125 \r\nQ 37.796875 6.203125 41.984375 11.859375 \r\nQ 46.1875 17.53125 46.1875 27.296875 \r\nQ 46.1875 37.015625 41.984375 42.703125 \r\nQ 37.796875 48.390625 30.609375 48.390625 \r\nz\r\nM 30.609375 56 \r\nQ 42.328125 56 49.015625 48.375 \r\nQ 55.71875 40.765625 55.71875 27.296875 \r\nQ 55.71875 13.875 49.015625 6.21875 \r\nQ 42.328125 -1.421875 30.609375 -1.421875 \r\nQ 18.84375 -1.421875 12.171875 6.21875 \r\nQ 5.515625 13.875 5.515625 27.296875 \r\nQ 5.515625 40.765625 12.171875 48.375 \r\nQ 18.84375 56 30.609375 56 \r\nz\r\n\" id=\"DejaVuSans-111\"/>\r\n       <path d=\"M 18.109375 8.203125 \r\nL 18.109375 -20.796875 \r\nL 9.078125 -20.796875 \r\nL 9.078125 54.6875 \r\nL 18.109375 54.6875 \r\nL 18.109375 46.390625 \r\nQ 20.953125 51.265625 25.265625 53.625 \r\nQ 29.59375 56 35.59375 56 \r\nQ 45.5625 56 51.78125 48.09375 \r\nQ 58.015625 40.1875 58.015625 27.296875 \r\nQ 58.015625 14.40625 51.78125 6.484375 \r\nQ 45.5625 -1.421875 35.59375 -1.421875 \r\nQ 29.59375 -1.421875 25.265625 0.953125 \r\nQ 20.953125 3.328125 18.109375 8.203125 \r\nz\r\nM 48.6875 27.296875 \r\nQ 48.6875 37.203125 44.609375 42.84375 \r\nQ 40.53125 48.484375 33.40625 48.484375 \r\nQ 26.265625 48.484375 22.1875 42.84375 \r\nQ 18.109375 37.203125 18.109375 27.296875 \r\nQ 18.109375 17.390625 22.1875 11.75 \r\nQ 26.265625 6.109375 33.40625 6.109375 \r\nQ 40.53125 6.109375 44.609375 11.75 \r\nQ 48.6875 17.390625 48.6875 27.296875 \r\nz\r\n\" id=\"DejaVuSans-112\"/>\r\n       <path d=\"M 9.421875 54.6875 \r\nL 18.40625 54.6875 \r\nL 18.40625 0 \r\nL 9.421875 0 \r\nz\r\nM 9.421875 75.984375 \r\nL 18.40625 75.984375 \r\nL 18.40625 64.59375 \r\nL 9.421875 64.59375 \r\nz\r\n\" id=\"DejaVuSans-105\"/>\r\n      </defs>\r\n      <g transform=\"translate(79.630469 471.796562)scale(0.1 -0.1)\">\r\n       <use xlink:href=\"#DejaVuSans-75\"/>\r\n       <use x=\"65.498047\" xlink:href=\"#DejaVuSans-111\"/>\r\n       <use x=\"126.679688\" xlink:href=\"#DejaVuSans-112\"/>\r\n       <use x=\"190.15625\" xlink:href=\"#DejaVuSans-105\"/>\r\n      </g>\r\n     </g>\r\n    </g>\r\n    <g id=\"xtick_2\">\r\n     <g id=\"line2d_2\">\r\n      <g>\r\n       <use style=\"stroke:#000000;stroke-width:0.8;\" x=\"164.928125\" xlink:href=\"#m7bf325ae64\" y=\"457.198125\"/>\r\n      </g>\r\n     </g>\r\n     <g id=\"text_2\">\r\n      <!-- Minuman -->\r\n      <defs>\r\n       <path d=\"M 9.8125 72.90625 \r\nL 24.515625 72.90625 \r\nL 43.109375 23.296875 \r\nL 61.8125 72.90625 \r\nL 76.515625 72.90625 \r\nL 76.515625 0 \r\nL 66.890625 0 \r\nL 66.890625 64.015625 \r\nL 48.09375 14.015625 \r\nL 38.1875 14.015625 \r\nL 19.390625 64.015625 \r\nL 19.390625 0 \r\nL 9.8125 0 \r\nz\r\n\" id=\"DejaVuSans-77\"/>\r\n       <path d=\"M 54.890625 33.015625 \r\nL 54.890625 0 \r\nL 45.90625 0 \r\nL 45.90625 32.71875 \r\nQ 45.90625 40.484375 42.875 44.328125 \r\nQ 39.84375 48.1875 33.796875 48.1875 \r\nQ 26.515625 48.1875 22.3125 43.546875 \r\nQ 18.109375 38.921875 18.109375 30.90625 \r\nL 18.109375 0 \r\nL 9.078125 0 \r\nL 9.078125 54.6875 \r\nL 18.109375 54.6875 \r\nL 18.109375 46.1875 \r\nQ 21.34375 51.125 25.703125 53.5625 \r\nQ 30.078125 56 35.796875 56 \r\nQ 45.21875 56 50.046875 50.171875 \r\nQ 54.890625 44.34375 54.890625 33.015625 \r\nz\r\n\" id=\"DejaVuSans-110\"/>\r\n       <path d=\"M 8.5 21.578125 \r\nL 8.5 54.6875 \r\nL 17.484375 54.6875 \r\nL 17.484375 21.921875 \r\nQ 17.484375 14.15625 20.5 10.265625 \r\nQ 23.53125 6.390625 29.59375 6.390625 \r\nQ 36.859375 6.390625 41.078125 11.03125 \r\nQ 45.3125 15.671875 45.3125 23.6875 \r\nL 45.3125 54.6875 \r\nL 54.296875 54.6875 \r\nL 54.296875 0 \r\nL 45.3125 0 \r\nL 45.3125 8.40625 \r\nQ 42.046875 3.421875 37.71875 1 \r\nQ 33.40625 -1.421875 27.6875 -1.421875 \r\nQ 18.265625 -1.421875 13.375 4.4375 \r\nQ 8.5 10.296875 8.5 21.578125 \r\nz\r\nM 31.109375 56 \r\nz\r\n\" id=\"DejaVuSans-117\"/>\r\n       <path d=\"M 52 44.1875 \r\nQ 55.375 50.25 60.0625 53.125 \r\nQ 64.75 56 71.09375 56 \r\nQ 79.640625 56 84.28125 50.015625 \r\nQ 88.921875 44.046875 88.921875 33.015625 \r\nL 88.921875 0 \r\nL 79.890625 0 \r\nL 79.890625 32.71875 \r\nQ 79.890625 40.578125 77.09375 44.375 \r\nQ 74.3125 48.1875 68.609375 48.1875 \r\nQ 61.625 48.1875 57.5625 43.546875 \r\nQ 53.515625 38.921875 53.515625 30.90625 \r\nL 53.515625 0 \r\nL 44.484375 0 \r\nL 44.484375 32.71875 \r\nQ 44.484375 40.625 41.703125 44.40625 \r\nQ 38.921875 48.1875 33.109375 48.1875 \r\nQ 26.21875 48.1875 22.15625 43.53125 \r\nQ 18.109375 38.875 18.109375 30.90625 \r\nL 18.109375 0 \r\nL 9.078125 0 \r\nL 9.078125 54.6875 \r\nL 18.109375 54.6875 \r\nL 18.109375 46.1875 \r\nQ 21.1875 51.21875 25.484375 53.609375 \r\nQ 29.78125 56 35.6875 56 \r\nQ 41.65625 56 45.828125 52.96875 \r\nQ 50 49.953125 52 44.1875 \r\nz\r\n\" id=\"DejaVuSans-109\"/>\r\n       <path d=\"M 34.28125 27.484375 \r\nQ 23.390625 27.484375 19.1875 25 \r\nQ 14.984375 22.515625 14.984375 16.5 \r\nQ 14.984375 11.71875 18.140625 8.90625 \r\nQ 21.296875 6.109375 26.703125 6.109375 \r\nQ 34.1875 6.109375 38.703125 11.40625 \r\nQ 43.21875 16.703125 43.21875 25.484375 \r\nL 43.21875 27.484375 \r\nz\r\nM 52.203125 31.203125 \r\nL 52.203125 0 \r\nL 43.21875 0 \r\nL 43.21875 8.296875 \r\nQ 40.140625 3.328125 35.546875 0.953125 \r\nQ 30.953125 -1.421875 24.3125 -1.421875 \r\nQ 15.921875 -1.421875 10.953125 3.296875 \r\nQ 6 8.015625 6 15.921875 \r\nQ 6 25.140625 12.171875 29.828125 \r\nQ 18.359375 34.515625 30.609375 34.515625 \r\nL 43.21875 34.515625 \r\nL 43.21875 35.40625 \r\nQ 43.21875 41.609375 39.140625 45 \r\nQ 35.0625 48.390625 27.6875 48.390625 \r\nQ 23 48.390625 18.546875 47.265625 \r\nQ 14.109375 46.140625 10.015625 43.890625 \r\nL 10.015625 52.203125 \r\nQ 14.9375 54.109375 19.578125 55.046875 \r\nQ 24.21875 56 28.609375 56 \r\nQ 40.484375 56 46.34375 49.84375 \r\nQ 52.203125 43.703125 52.203125 31.203125 \r\nz\r\n\" id=\"DejaVuSans-97\"/>\r\n      </defs>\r\n      <g transform=\"translate(141.784375 471.796562)scale(0.1 -0.1)\">\r\n       <use xlink:href=\"#DejaVuSans-77\"/>\r\n       <use x=\"86.279297\" xlink:href=\"#DejaVuSans-105\"/>\r\n       <use x=\"114.0625\" xlink:href=\"#DejaVuSans-110\"/>\r\n       <use x=\"177.441406\" xlink:href=\"#DejaVuSans-117\"/>\r\n       <use x=\"240.820312\" xlink:href=\"#DejaVuSans-109\"/>\r\n       <use x=\"338.232422\" xlink:href=\"#DejaVuSans-97\"/>\r\n       <use x=\"399.511719\" xlink:href=\"#DejaVuSans-110\"/>\r\n      </g>\r\n     </g>\r\n    </g>\r\n    <g id=\"xtick_3\">\r\n     <g id=\"line2d_3\">\r\n      <g>\r\n       <use style=\"stroke:#000000;stroke-width:0.8;\" x=\"239.328125\" xlink:href=\"#m7bf325ae64\" y=\"457.198125\"/>\r\n      </g>\r\n     </g>\r\n     <g id=\"text_3\">\r\n      <!-- Desserts -->\r\n      <defs>\r\n       <path d=\"M 19.671875 64.796875 \r\nL 19.671875 8.109375 \r\nL 31.59375 8.109375 \r\nQ 46.6875 8.109375 53.6875 14.9375 \r\nQ 60.6875 21.78125 60.6875 36.53125 \r\nQ 60.6875 51.171875 53.6875 57.984375 \r\nQ 46.6875 64.796875 31.59375 64.796875 \r\nz\r\nM 9.8125 72.90625 \r\nL 30.078125 72.90625 \r\nQ 51.265625 72.90625 61.171875 64.09375 \r\nQ 71.09375 55.28125 71.09375 36.53125 \r\nQ 71.09375 17.671875 61.125 8.828125 \r\nQ 51.171875 0 30.078125 0 \r\nL 9.8125 0 \r\nz\r\n\" id=\"DejaVuSans-68\"/>\r\n       <path d=\"M 56.203125 29.59375 \r\nL 56.203125 25.203125 \r\nL 14.890625 25.203125 \r\nQ 15.484375 15.921875 20.484375 11.0625 \r\nQ 25.484375 6.203125 34.421875 6.203125 \r\nQ 39.59375 6.203125 44.453125 7.46875 \r\nQ 49.3125 8.734375 54.109375 11.28125 \r\nL 54.109375 2.78125 \r\nQ 49.265625 0.734375 44.1875 -0.34375 \r\nQ 39.109375 -1.421875 33.890625 -1.421875 \r\nQ 20.796875 -1.421875 13.15625 6.1875 \r\nQ 5.515625 13.8125 5.515625 26.8125 \r\nQ 5.515625 40.234375 12.765625 48.109375 \r\nQ 20.015625 56 32.328125 56 \r\nQ 43.359375 56 49.78125 48.890625 \r\nQ 56.203125 41.796875 56.203125 29.59375 \r\nz\r\nM 47.21875 32.234375 \r\nQ 47.125 39.59375 43.09375 43.984375 \r\nQ 39.0625 48.390625 32.421875 48.390625 \r\nQ 24.90625 48.390625 20.390625 44.140625 \r\nQ 15.875 39.890625 15.1875 32.171875 \r\nz\r\n\" id=\"DejaVuSans-101\"/>\r\n       <path d=\"M 44.28125 53.078125 \r\nL 44.28125 44.578125 \r\nQ 40.484375 46.53125 36.375 47.5 \r\nQ 32.28125 48.484375 27.875 48.484375 \r\nQ 21.1875 48.484375 17.84375 46.4375 \r\nQ 14.5 44.390625 14.5 40.28125 \r\nQ 14.5 37.15625 16.890625 35.375 \r\nQ 19.28125 33.59375 26.515625 31.984375 \r\nL 29.59375 31.296875 \r\nQ 39.15625 29.25 43.1875 25.515625 \r\nQ 47.21875 21.78125 47.21875 15.09375 \r\nQ 47.21875 7.46875 41.1875 3.015625 \r\nQ 35.15625 -1.421875 24.609375 -1.421875 \r\nQ 20.21875 -1.421875 15.453125 -0.5625 \r\nQ 10.6875 0.296875 5.421875 2 \r\nL 5.421875 11.28125 \r\nQ 10.40625 8.6875 15.234375 7.390625 \r\nQ 20.0625 6.109375 24.8125 6.109375 \r\nQ 31.15625 6.109375 34.5625 8.28125 \r\nQ 37.984375 10.453125 37.984375 14.40625 \r\nQ 37.984375 18.0625 35.515625 20.015625 \r\nQ 33.0625 21.96875 24.703125 23.78125 \r\nL 21.578125 24.515625 \r\nQ 13.234375 26.265625 9.515625 29.90625 \r\nQ 5.8125 33.546875 5.8125 39.890625 \r\nQ 5.8125 47.609375 11.28125 51.796875 \r\nQ 16.75 56 26.8125 56 \r\nQ 31.78125 56 36.171875 55.265625 \r\nQ 40.578125 54.546875 44.28125 53.078125 \r\nz\r\n\" id=\"DejaVuSans-115\"/>\r\n       <path d=\"M 41.109375 46.296875 \r\nQ 39.59375 47.171875 37.8125 47.578125 \r\nQ 36.03125 48 33.890625 48 \r\nQ 26.265625 48 22.1875 43.046875 \r\nQ 18.109375 38.09375 18.109375 28.8125 \r\nL 18.109375 0 \r\nL 9.078125 0 \r\nL 9.078125 54.6875 \r\nL 18.109375 54.6875 \r\nL 18.109375 46.1875 \r\nQ 20.953125 51.171875 25.484375 53.578125 \r\nQ 30.03125 56 36.53125 56 \r\nQ 37.453125 56 38.578125 55.875 \r\nQ 39.703125 55.765625 41.0625 55.515625 \r\nz\r\n\" id=\"DejaVuSans-114\"/>\r\n       <path d=\"M 18.3125 70.21875 \r\nL 18.3125 54.6875 \r\nL 36.8125 54.6875 \r\nL 36.8125 47.703125 \r\nL 18.3125 47.703125 \r\nL 18.3125 18.015625 \r\nQ 18.3125 11.328125 20.140625 9.421875 \r\nQ 21.96875 7.515625 27.59375 7.515625 \r\nL 36.8125 7.515625 \r\nL 36.8125 0 \r\nL 27.59375 0 \r\nQ 17.1875 0 13.234375 3.875 \r\nQ 9.28125 7.765625 9.28125 18.015625 \r\nL 9.28125 47.703125 \r\nL 2.6875 47.703125 \r\nL 2.6875 54.6875 \r\nL 9.28125 54.6875 \r\nL 9.28125 70.21875 \r\nz\r\n\" id=\"DejaVuSans-116\"/>\r\n      </defs>\r\n      <g transform=\"translate(217.495313 471.796562)scale(0.1 -0.1)\">\r\n       <use xlink:href=\"#DejaVuSans-68\"/>\r\n       <use x=\"77.001953\" xlink:href=\"#DejaVuSans-101\"/>\r\n       <use x=\"138.525391\" xlink:href=\"#DejaVuSans-115\"/>\r\n       <use x=\"190.625\" xlink:href=\"#DejaVuSans-115\"/>\r\n       <use x=\"242.724609\" xlink:href=\"#DejaVuSans-101\"/>\r\n       <use x=\"304.248047\" xlink:href=\"#DejaVuSans-114\"/>\r\n       <use x=\"345.361328\" xlink:href=\"#DejaVuSans-116\"/>\r\n       <use x=\"384.570312\" xlink:href=\"#DejaVuSans-115\"/>\r\n      </g>\r\n     </g>\r\n    </g>\r\n    <g id=\"xtick_4\">\r\n     <g id=\"line2d_4\">\r\n      <g>\r\n       <use style=\"stroke:#000000;stroke-width:0.8;\" x=\"313.728125\" xlink:href=\"#m7bf325ae64\" y=\"457.198125\"/>\r\n      </g>\r\n     </g>\r\n     <g id=\"text_4\">\r\n      <!-- Bakmi -->\r\n      <defs>\r\n       <path d=\"M 19.671875 34.8125 \r\nL 19.671875 8.109375 \r\nL 35.5 8.109375 \r\nQ 43.453125 8.109375 47.28125 11.40625 \r\nQ 51.125 14.703125 51.125 21.484375 \r\nQ 51.125 28.328125 47.28125 31.5625 \r\nQ 43.453125 34.8125 35.5 34.8125 \r\nz\r\nM 19.671875 64.796875 \r\nL 19.671875 42.828125 \r\nL 34.28125 42.828125 \r\nQ 41.5 42.828125 45.03125 45.53125 \r\nQ 48.578125 48.25 48.578125 53.8125 \r\nQ 48.578125 59.328125 45.03125 62.0625 \r\nQ 41.5 64.796875 34.28125 64.796875 \r\nz\r\nM 9.8125 72.90625 \r\nL 35.015625 72.90625 \r\nQ 46.296875 72.90625 52.390625 68.21875 \r\nQ 58.5 63.53125 58.5 54.890625 \r\nQ 58.5 48.1875 55.375 44.234375 \r\nQ 52.25 40.28125 46.1875 39.3125 \r\nQ 53.46875 37.75 57.5 32.78125 \r\nQ 61.53125 27.828125 61.53125 20.40625 \r\nQ 61.53125 10.640625 54.890625 5.3125 \r\nQ 48.25 0 35.984375 0 \r\nL 9.8125 0 \r\nz\r\n\" id=\"DejaVuSans-66\"/>\r\n       <path d=\"M 9.078125 75.984375 \r\nL 18.109375 75.984375 \r\nL 18.109375 31.109375 \r\nL 44.921875 54.6875 \r\nL 56.390625 54.6875 \r\nL 27.390625 29.109375 \r\nL 57.625 0 \r\nL 45.90625 0 \r\nL 18.109375 26.703125 \r\nL 18.109375 0 \r\nL 9.078125 0 \r\nz\r\n\" id=\"DejaVuSans-107\"/>\r\n      </defs>\r\n      <g transform=\"translate(298.078906 471.796562)scale(0.1 -0.1)\">\r\n       <use xlink:href=\"#DejaVuSans-66\"/>\r\n       <use x=\"68.603516\" xlink:href=\"#DejaVuSans-97\"/>\r\n       <use x=\"129.882812\" xlink:href=\"#DejaVuSans-107\"/>\r\n       <use x=\"187.792969\" xlink:href=\"#DejaVuSans-109\"/>\r\n       <use x=\"285.205078\" xlink:href=\"#DejaVuSans-105\"/>\r\n      </g>\r\n     </g>\r\n    </g>\r\n    <g id=\"xtick_5\">\r\n     <g id=\"line2d_5\">\r\n      <g>\r\n       <use style=\"stroke:#000000;stroke-width:0.8;\" x=\"388.128125\" xlink:href=\"#m7bf325ae64\" y=\"457.198125\"/>\r\n      </g>\r\n     </g>\r\n     <g id=\"text_5\">\r\n      <!-- Tea -->\r\n      <defs>\r\n       <path d=\"M -0.296875 72.90625 \r\nL 61.375 72.90625 \r\nL 61.375 64.59375 \r\nL 35.5 64.59375 \r\nL 35.5 0 \r\nL 25.59375 0 \r\nL 25.59375 64.59375 \r\nL -0.296875 64.59375 \r\nz\r\n\" id=\"DejaVuSans-84\"/>\r\n      </defs>\r\n      <g transform=\"translate(378.946875 471.796562)scale(0.1 -0.1)\">\r\n       <use xlink:href=\"#DejaVuSans-84\"/>\r\n       <use x=\"60.818359\" xlink:href=\"#DejaVuSans-101\"/>\r\n       <use x=\"122.341797\" xlink:href=\"#DejaVuSans-97\"/>\r\n      </g>\r\n     </g>\r\n    </g>\r\n    <g id=\"xtick_6\">\r\n     <g id=\"line2d_6\">\r\n      <g>\r\n       <use style=\"stroke:#000000;stroke-width:0.8;\" x=\"462.528125\" xlink:href=\"#m7bf325ae64\" y=\"457.198125\"/>\r\n      </g>\r\n     </g>\r\n     <g id=\"text_6\">\r\n      <!-- Kue &amp; Roti -->\r\n      <defs>\r\n       <path id=\"DejaVuSans-32\"/>\r\n       <path d=\"M 24.3125 39.203125 \r\nQ 19.875 35.25 17.796875 31.3125 \r\nQ 15.71875 27.390625 15.71875 23.09375 \r\nQ 15.71875 15.96875 20.890625 11.234375 \r\nQ 26.078125 6.5 33.890625 6.5 \r\nQ 38.53125 6.5 42.578125 8.03125 \r\nQ 46.625 9.578125 50.203125 12.703125 \r\nz\r\nM 31.203125 44.671875 \r\nL 56 19.28125 \r\nQ 58.890625 23.640625 60.5 28.59375 \r\nQ 62.109375 33.546875 62.40625 39.109375 \r\nL 71.484375 39.109375 \r\nQ 70.90625 32.671875 68.359375 26.359375 \r\nQ 65.828125 20.0625 61.28125 13.921875 \r\nL 74.90625 0 \r\nL 62.59375 0 \r\nL 55.609375 7.171875 \r\nQ 50.53125 2.828125 44.96875 0.703125 \r\nQ 39.40625 -1.421875 33.015625 -1.421875 \r\nQ 21.234375 -1.421875 13.765625 5.296875 \r\nQ 6.296875 12.015625 6.296875 22.515625 \r\nQ 6.296875 28.765625 9.5625 34.25 \r\nQ 12.84375 39.75 19.390625 44.578125 \r\nQ 17.046875 47.65625 15.8125 50.703125 \r\nQ 14.59375 53.765625 14.59375 56.6875 \r\nQ 14.59375 64.59375 20.015625 69.40625 \r\nQ 25.4375 74.21875 34.421875 74.21875 \r\nQ 38.484375 74.21875 42.5 73.34375 \r\nQ 46.53125 72.46875 50.6875 70.703125 \r\nL 50.6875 61.8125 \r\nQ 46.4375 64.109375 42.578125 65.296875 \r\nQ 38.71875 66.5 35.40625 66.5 \r\nQ 30.28125 66.5 27.078125 63.78125 \r\nQ 23.875 61.078125 23.875 56.78125 \r\nQ 23.875 54.296875 25.3125 51.78125 \r\nQ 26.765625 49.265625 31.203125 44.671875 \r\nz\r\n\" id=\"DejaVuSans-38\"/>\r\n       <path d=\"M 44.390625 34.1875 \r\nQ 47.5625 33.109375 50.5625 29.59375 \r\nQ 53.5625 26.078125 56.59375 19.921875 \r\nL 66.609375 0 \r\nL 56 0 \r\nL 46.6875 18.703125 \r\nQ 43.0625 26.03125 39.671875 28.421875 \r\nQ 36.28125 30.8125 30.421875 30.8125 \r\nL 19.671875 30.8125 \r\nL 19.671875 0 \r\nL 9.8125 0 \r\nL 9.8125 72.90625 \r\nL 32.078125 72.90625 \r\nQ 44.578125 72.90625 50.734375 67.671875 \r\nQ 56.890625 62.453125 56.890625 51.90625 \r\nQ 56.890625 45.015625 53.6875 40.46875 \r\nQ 50.484375 35.9375 44.390625 34.1875 \r\nz\r\nM 19.671875 64.796875 \r\nL 19.671875 38.921875 \r\nL 32.078125 38.921875 \r\nQ 39.203125 38.921875 42.84375 42.21875 \r\nQ 46.484375 45.515625 46.484375 51.90625 \r\nQ 46.484375 58.296875 42.84375 61.546875 \r\nQ 39.203125 64.796875 32.078125 64.796875 \r\nz\r\n\" id=\"DejaVuSans-82\"/>\r\n      </defs>\r\n      <g transform=\"translate(436.050781 471.796562)scale(0.1 -0.1)\">\r\n       <use xlink:href=\"#DejaVuSans-75\"/>\r\n       <use x=\"65.498047\" xlink:href=\"#DejaVuSans-117\"/>\r\n       <use x=\"128.876953\" xlink:href=\"#DejaVuSans-101\"/>\r\n       <use x=\"190.400391\" xlink:href=\"#DejaVuSans-32\"/>\r\n       <use x=\"222.1875\" xlink:href=\"#DejaVuSans-38\"/>\r\n       <use x=\"300.166016\" xlink:href=\"#DejaVuSans-32\"/>\r\n       <use x=\"331.953125\" xlink:href=\"#DejaVuSans-82\"/>\r\n       <use x=\"401.373047\" xlink:href=\"#DejaVuSans-111\"/>\r\n       <use x=\"462.554688\" xlink:href=\"#DejaVuSans-116\"/>\r\n       <use x=\"501.763672\" xlink:href=\"#DejaVuSans-105\"/>\r\n      </g>\r\n     </g>\r\n    </g>\r\n    <g id=\"xtick_7\">\r\n     <g id=\"line2d_7\">\r\n      <g>\r\n       <use style=\"stroke:#000000;stroke-width:0.8;\" x=\"536.928125\" xlink:href=\"#m7bf325ae64\" y=\"457.198125\"/>\r\n      </g>\r\n     </g>\r\n     <g id=\"text_7\">\r\n      <!-- Makanan Jalanan -->\r\n      <defs>\r\n       <path d=\"M 9.8125 72.90625 \r\nL 19.671875 72.90625 \r\nL 19.671875 5.078125 \r\nQ 19.671875 -8.109375 14.671875 -14.0625 \r\nQ 9.671875 -20.015625 -1.421875 -20.015625 \r\nL -5.171875 -20.015625 \r\nL -5.171875 -11.71875 \r\nL -2.09375 -11.71875 \r\nQ 4.4375 -11.71875 7.125 -8.046875 \r\nQ 9.8125 -4.390625 9.8125 5.078125 \r\nz\r\n\" id=\"DejaVuSans-74\"/>\r\n       <path d=\"M 9.421875 75.984375 \r\nL 18.40625 75.984375 \r\nL 18.40625 0 \r\nL 9.421875 0 \r\nz\r\n\" id=\"DejaVuSans-108\"/>\r\n      </defs>\r\n      <g transform=\"translate(494.207031 471.796562)scale(0.1 -0.1)\">\r\n       <use xlink:href=\"#DejaVuSans-77\"/>\r\n       <use x=\"86.279297\" xlink:href=\"#DejaVuSans-97\"/>\r\n       <use x=\"147.558594\" xlink:href=\"#DejaVuSans-107\"/>\r\n       <use x=\"205.453125\" xlink:href=\"#DejaVuSans-97\"/>\r\n       <use x=\"266.732422\" xlink:href=\"#DejaVuSans-110\"/>\r\n       <use x=\"330.111328\" xlink:href=\"#DejaVuSans-97\"/>\r\n       <use x=\"391.390625\" xlink:href=\"#DejaVuSans-110\"/>\r\n       <use x=\"454.769531\" xlink:href=\"#DejaVuSans-32\"/>\r\n       <use x=\"486.556641\" xlink:href=\"#DejaVuSans-74\"/>\r\n       <use x=\"516.048828\" xlink:href=\"#DejaVuSans-97\"/>\r\n       <use x=\"577.328125\" xlink:href=\"#DejaVuSans-108\"/>\r\n       <use x=\"605.111328\" xlink:href=\"#DejaVuSans-97\"/>\r\n       <use x=\"666.390625\" xlink:href=\"#DejaVuSans-110\"/>\r\n       <use x=\"729.769531\" xlink:href=\"#DejaVuSans-97\"/>\r\n       <use x=\"791.048828\" xlink:href=\"#DejaVuSans-110\"/>\r\n      </g>\r\n     </g>\r\n    </g>\r\n    <g id=\"xtick_8\">\r\n     <g id=\"line2d_8\">\r\n      <g>\r\n       <use style=\"stroke:#000000;stroke-width:0.8;\" x=\"611.328125\" xlink:href=\"#m7bf325ae64\" y=\"457.198125\"/>\r\n      </g>\r\n     </g>\r\n     <g id=\"text_8\">\r\n      <!-- Snacks -->\r\n      <defs>\r\n       <path d=\"M 53.515625 70.515625 \r\nL 53.515625 60.890625 \r\nQ 47.90625 63.578125 42.921875 64.890625 \r\nQ 37.9375 66.21875 33.296875 66.21875 \r\nQ 25.25 66.21875 20.875 63.09375 \r\nQ 16.5 59.96875 16.5 54.203125 \r\nQ 16.5 49.359375 19.40625 46.890625 \r\nQ 22.3125 44.4375 30.421875 42.921875 \r\nL 36.375 41.703125 \r\nQ 47.40625 39.59375 52.65625 34.296875 \r\nQ 57.90625 29 57.90625 20.125 \r\nQ 57.90625 9.515625 50.796875 4.046875 \r\nQ 43.703125 -1.421875 29.984375 -1.421875 \r\nQ 24.8125 -1.421875 18.96875 -0.25 \r\nQ 13.140625 0.921875 6.890625 3.21875 \r\nL 6.890625 13.375 \r\nQ 12.890625 10.015625 18.65625 8.296875 \r\nQ 24.421875 6.59375 29.984375 6.59375 \r\nQ 38.421875 6.59375 43.015625 9.90625 \r\nQ 47.609375 13.234375 47.609375 19.390625 \r\nQ 47.609375 24.75 44.3125 27.78125 \r\nQ 41.015625 30.8125 33.5 32.328125 \r\nL 27.484375 33.5 \r\nQ 16.453125 35.6875 11.515625 40.375 \r\nQ 6.59375 45.0625 6.59375 53.421875 \r\nQ 6.59375 63.09375 13.40625 68.65625 \r\nQ 20.21875 74.21875 32.171875 74.21875 \r\nQ 37.3125 74.21875 42.625 73.28125 \r\nQ 47.953125 72.359375 53.515625 70.515625 \r\nz\r\n\" id=\"DejaVuSans-83\"/>\r\n       <path d=\"M 48.78125 52.59375 \r\nL 48.78125 44.1875 \r\nQ 44.96875 46.296875 41.140625 47.34375 \r\nQ 37.3125 48.390625 33.40625 48.390625 \r\nQ 24.65625 48.390625 19.8125 42.84375 \r\nQ 14.984375 37.3125 14.984375 27.296875 \r\nQ 14.984375 17.28125 19.8125 11.734375 \r\nQ 24.65625 6.203125 33.40625 6.203125 \r\nQ 37.3125 6.203125 41.140625 7.25 \r\nQ 44.96875 8.296875 48.78125 10.40625 \r\nL 48.78125 2.09375 \r\nQ 45.015625 0.34375 40.984375 -0.53125 \r\nQ 36.96875 -1.421875 32.421875 -1.421875 \r\nQ 20.0625 -1.421875 12.78125 6.34375 \r\nQ 5.515625 14.109375 5.515625 27.296875 \r\nQ 5.515625 40.671875 12.859375 48.328125 \r\nQ 20.21875 56 33.015625 56 \r\nQ 37.15625 56 41.109375 55.140625 \r\nQ 45.0625 54.296875 48.78125 52.59375 \r\nz\r\n\" id=\"DejaVuSans-99\"/>\r\n      </defs>\r\n      <g transform=\"translate(593.671875 471.796562)scale(0.1 -0.1)\">\r\n       <use xlink:href=\"#DejaVuSans-83\"/>\r\n       <use x=\"63.476562\" xlink:href=\"#DejaVuSans-110\"/>\r\n       <use x=\"126.855469\" xlink:href=\"#DejaVuSans-97\"/>\r\n       <use x=\"188.134766\" xlink:href=\"#DejaVuSans-99\"/>\r\n       <use x=\"243.115234\" xlink:href=\"#DejaVuSans-107\"/>\r\n       <use x=\"301.025391\" xlink:href=\"#DejaVuSans-115\"/>\r\n      </g>\r\n     </g>\r\n    </g>\r\n    <g id=\"xtick_9\">\r\n     <g id=\"line2d_9\">\r\n      <g>\r\n       <use style=\"stroke:#000000;stroke-width:0.8;\" x=\"685.728125\" xlink:href=\"#m7bf325ae64\" y=\"457.198125\"/>\r\n      </g>\r\n     </g>\r\n     <g id=\"text_9\">\r\n      <!-- Seafood -->\r\n      <defs>\r\n       <path d=\"M 37.109375 75.984375 \r\nL 37.109375 68.5 \r\nL 28.515625 68.5 \r\nQ 23.6875 68.5 21.796875 66.546875 \r\nQ 19.921875 64.59375 19.921875 59.515625 \r\nL 19.921875 54.6875 \r\nL 34.71875 54.6875 \r\nL 34.71875 47.703125 \r\nL 19.921875 47.703125 \r\nL 19.921875 0 \r\nL 10.890625 0 \r\nL 10.890625 47.703125 \r\nL 2.296875 47.703125 \r\nL 2.296875 54.6875 \r\nL 10.890625 54.6875 \r\nL 10.890625 58.5 \r\nQ 10.890625 67.625 15.140625 71.796875 \r\nQ 19.390625 75.984375 28.609375 75.984375 \r\nz\r\n\" id=\"DejaVuSans-102\"/>\r\n       <path d=\"M 45.40625 46.390625 \r\nL 45.40625 75.984375 \r\nL 54.390625 75.984375 \r\nL 54.390625 0 \r\nL 45.40625 0 \r\nL 45.40625 8.203125 \r\nQ 42.578125 3.328125 38.25 0.953125 \r\nQ 33.9375 -1.421875 27.875 -1.421875 \r\nQ 17.96875 -1.421875 11.734375 6.484375 \r\nQ 5.515625 14.40625 5.515625 27.296875 \r\nQ 5.515625 40.1875 11.734375 48.09375 \r\nQ 17.96875 56 27.875 56 \r\nQ 33.9375 56 38.25 53.625 \r\nQ 42.578125 51.265625 45.40625 46.390625 \r\nz\r\nM 14.796875 27.296875 \r\nQ 14.796875 17.390625 18.875 11.75 \r\nQ 22.953125 6.109375 30.078125 6.109375 \r\nQ 37.203125 6.109375 41.296875 11.75 \r\nQ 45.40625 17.390625 45.40625 27.296875 \r\nQ 45.40625 37.203125 41.296875 42.84375 \r\nQ 37.203125 48.484375 30.078125 48.484375 \r\nQ 22.953125 48.484375 18.875 42.84375 \r\nQ 14.796875 37.203125 14.796875 27.296875 \r\nz\r\n\" id=\"DejaVuSans-100\"/>\r\n      </defs>\r\n      <g transform=\"translate(665.360156 471.796562)scale(0.1 -0.1)\">\r\n       <use xlink:href=\"#DejaVuSans-83\"/>\r\n       <use x=\"63.476562\" xlink:href=\"#DejaVuSans-101\"/>\r\n       <use x=\"125\" xlink:href=\"#DejaVuSans-97\"/>\r\n       <use x=\"186.279297\" xlink:href=\"#DejaVuSans-102\"/>\r\n       <use x=\"221.484375\" xlink:href=\"#DejaVuSans-111\"/>\r\n       <use x=\"282.666016\" xlink:href=\"#DejaVuSans-111\"/>\r\n       <use x=\"343.847656\" xlink:href=\"#DejaVuSans-100\"/>\r\n      </g>\r\n     </g>\r\n    </g>\r\n    <g id=\"xtick_10\">\r\n     <g id=\"line2d_10\">\r\n      <g>\r\n       <use style=\"stroke:#000000;stroke-width:0.8;\" x=\"760.128125\" xlink:href=\"#m7bf325ae64\" y=\"457.198125\"/>\r\n      </g>\r\n     </g>\r\n     <g id=\"text_10\">\r\n      <!-- Soto -->\r\n      <g transform=\"translate(748.875 471.796562)scale(0.1 -0.1)\">\r\n       <use xlink:href=\"#DejaVuSans-83\"/>\r\n       <use x=\"63.476562\" xlink:href=\"#DejaVuSans-111\"/>\r\n       <use x=\"124.658203\" xlink:href=\"#DejaVuSans-116\"/>\r\n       <use x=\"163.867188\" xlink:href=\"#DejaVuSans-111\"/>\r\n      </g>\r\n     </g>\r\n    </g>\r\n    <g id=\"xtick_11\">\r\n     <g id=\"line2d_11\">\r\n      <g>\r\n       <use style=\"stroke:#000000;stroke-width:0.8;\" x=\"834.528125\" xlink:href=\"#m7bf325ae64\" y=\"457.198125\"/>\r\n      </g>\r\n     </g>\r\n     <g id=\"text_11\">\r\n      <!-- Bakso -->\r\n      <g transform=\"translate(819.474219 471.796562)scale(0.1 -0.1)\">\r\n       <use xlink:href=\"#DejaVuSans-66\"/>\r\n       <use x=\"68.603516\" xlink:href=\"#DejaVuSans-97\"/>\r\n       <use x=\"129.882812\" xlink:href=\"#DejaVuSans-107\"/>\r\n       <use x=\"187.792969\" xlink:href=\"#DejaVuSans-115\"/>\r\n       <use x=\"239.892578\" xlink:href=\"#DejaVuSans-111\"/>\r\n      </g>\r\n     </g>\r\n    </g>\r\n    <g id=\"xtick_12\">\r\n     <g id=\"line2d_12\">\r\n      <g>\r\n       <use style=\"stroke:#000000;stroke-width:0.8;\" x=\"908.928125\" xlink:href=\"#m7bf325ae64\" y=\"457.198125\"/>\r\n      </g>\r\n     </g>\r\n     <g id=\"text_12\">\r\n      <!-- Satay -->\r\n      <defs>\r\n       <path d=\"M 32.171875 -5.078125 \r\nQ 28.375 -14.84375 24.75 -17.8125 \r\nQ 21.140625 -20.796875 15.09375 -20.796875 \r\nL 7.90625 -20.796875 \r\nL 7.90625 -13.28125 \r\nL 13.1875 -13.28125 \r\nQ 16.890625 -13.28125 18.9375 -11.515625 \r\nQ 21 -9.765625 23.484375 -3.21875 \r\nL 25.09375 0.875 \r\nL 2.984375 54.6875 \r\nL 12.5 54.6875 \r\nL 29.59375 11.921875 \r\nL 46.6875 54.6875 \r\nL 56.203125 54.6875 \r\nz\r\n\" id=\"DejaVuSans-121\"/>\r\n      </defs>\r\n      <g transform=\"translate(894.70625 471.796562)scale(0.1 -0.1)\">\r\n       <use xlink:href=\"#DejaVuSans-83\"/>\r\n       <use x=\"63.476562\" xlink:href=\"#DejaVuSans-97\"/>\r\n       <use x=\"124.755859\" xlink:href=\"#DejaVuSans-116\"/>\r\n       <use x=\"163.964844\" xlink:href=\"#DejaVuSans-97\"/>\r\n       <use x=\"225.244141\" xlink:href=\"#DejaVuSans-121\"/>\r\n      </g>\r\n     </g>\r\n    </g>\r\n    <g id=\"xtick_13\">\r\n     <g id=\"line2d_13\">\r\n      <g>\r\n       <use style=\"stroke:#000000;stroke-width:0.8;\" x=\"983.328125\" xlink:href=\"#m7bf325ae64\" y=\"457.198125\"/>\r\n      </g>\r\n     </g>\r\n     <g id=\"text_13\">\r\n      <!-- Steak -->\r\n      <g transform=\"translate(969.157813 471.796562)scale(0.1 -0.1)\">\r\n       <use xlink:href=\"#DejaVuSans-83\"/>\r\n       <use x=\"63.476562\" xlink:href=\"#DejaVuSans-116\"/>\r\n       <use x=\"102.685547\" xlink:href=\"#DejaVuSans-101\"/>\r\n       <use x=\"164.208984\" xlink:href=\"#DejaVuSans-97\"/>\r\n       <use x=\"225.488281\" xlink:href=\"#DejaVuSans-107\"/>\r\n      </g>\r\n     </g>\r\n    </g>\r\n    <g id=\"xtick_14\">\r\n     <g id=\"line2d_14\">\r\n      <g>\r\n       <use style=\"stroke:#000000;stroke-width:0.8;\" x=\"1057.728125\" xlink:href=\"#m7bf325ae64\" y=\"457.198125\"/>\r\n      </g>\r\n     </g>\r\n     <g id=\"text_14\">\r\n      <!-- Sushi -->\r\n      <defs>\r\n       <path d=\"M 54.890625 33.015625 \r\nL 54.890625 0 \r\nL 45.90625 0 \r\nL 45.90625 32.71875 \r\nQ 45.90625 40.484375 42.875 44.328125 \r\nQ 39.84375 48.1875 33.796875 48.1875 \r\nQ 26.515625 48.1875 22.3125 43.546875 \r\nQ 18.109375 38.921875 18.109375 30.90625 \r\nL 18.109375 0 \r\nL 9.078125 0 \r\nL 9.078125 75.984375 \r\nL 18.109375 75.984375 \r\nL 18.109375 46.1875 \r\nQ 21.34375 51.125 25.703125 53.5625 \r\nQ 30.078125 56 35.796875 56 \r\nQ 45.21875 56 50.046875 50.171875 \r\nQ 54.890625 44.34375 54.890625 33.015625 \r\nz\r\n\" id=\"DejaVuSans-104\"/>\r\n      </defs>\r\n      <g transform=\"translate(1044.222656 471.796562)scale(0.1 -0.1)\">\r\n       <use xlink:href=\"#DejaVuSans-83\"/>\r\n       <use x=\"63.476562\" xlink:href=\"#DejaVuSans-117\"/>\r\n       <use x=\"126.855469\" xlink:href=\"#DejaVuSans-115\"/>\r\n       <use x=\"178.955078\" xlink:href=\"#DejaVuSans-104\"/>\r\n       <use x=\"242.333984\" xlink:href=\"#DejaVuSans-105\"/>\r\n      </g>\r\n     </g>\r\n    </g>\r\n    <g id=\"xtick_15\">\r\n     <g id=\"line2d_15\">\r\n      <g>\r\n       <use style=\"stroke:#000000;stroke-width:0.8;\" x=\"1132.128125\" xlink:href=\"#m7bf325ae64\" y=\"457.198125\"/>\r\n      </g>\r\n     </g>\r\n     <g id=\"text_15\">\r\n      <!-- Makanan Cepat Saji -->\r\n      <defs>\r\n       <path d=\"M 64.40625 67.28125 \r\nL 64.40625 56.890625 \r\nQ 59.421875 61.53125 53.78125 63.8125 \r\nQ 48.140625 66.109375 41.796875 66.109375 \r\nQ 29.296875 66.109375 22.65625 58.46875 \r\nQ 16.015625 50.828125 16.015625 36.375 \r\nQ 16.015625 21.96875 22.65625 14.328125 \r\nQ 29.296875 6.6875 41.796875 6.6875 \r\nQ 48.140625 6.6875 53.78125 8.984375 \r\nQ 59.421875 11.28125 64.40625 15.921875 \r\nL 64.40625 5.609375 \r\nQ 59.234375 2.09375 53.4375 0.328125 \r\nQ 47.65625 -1.421875 41.21875 -1.421875 \r\nQ 24.65625 -1.421875 15.125 8.703125 \r\nQ 5.609375 18.84375 5.609375 36.375 \r\nQ 5.609375 53.953125 15.125 64.078125 \r\nQ 24.65625 74.21875 41.21875 74.21875 \r\nQ 47.75 74.21875 53.53125 72.484375 \r\nQ 59.328125 70.75 64.40625 67.28125 \r\nz\r\n\" id=\"DejaVuSans-67\"/>\r\n       <path d=\"M 9.421875 54.6875 \r\nL 18.40625 54.6875 \r\nL 18.40625 -0.984375 \r\nQ 18.40625 -11.421875 14.421875 -16.109375 \r\nQ 10.453125 -20.796875 1.609375 -20.796875 \r\nL -1.8125 -20.796875 \r\nL -1.8125 -13.1875 \r\nL 0.59375 -13.1875 \r\nQ 5.71875 -13.1875 7.5625 -10.8125 \r\nQ 9.421875 -8.453125 9.421875 -0.984375 \r\nz\r\nM 9.421875 75.984375 \r\nL 18.40625 75.984375 \r\nL 18.40625 64.59375 \r\nL 9.421875 64.59375 \r\nz\r\n\" id=\"DejaVuSans-106\"/>\r\n      </defs>\r\n      <g transform=\"translate(1082.428906 471.796562)scale(0.1 -0.1)\">\r\n       <use xlink:href=\"#DejaVuSans-77\"/>\r\n       <use x=\"86.279297\" xlink:href=\"#DejaVuSans-97\"/>\r\n       <use x=\"147.558594\" xlink:href=\"#DejaVuSans-107\"/>\r\n       <use x=\"205.453125\" xlink:href=\"#DejaVuSans-97\"/>\r\n       <use x=\"266.732422\" xlink:href=\"#DejaVuSans-110\"/>\r\n       <use x=\"330.111328\" xlink:href=\"#DejaVuSans-97\"/>\r\n       <use x=\"391.390625\" xlink:href=\"#DejaVuSans-110\"/>\r\n       <use x=\"454.769531\" xlink:href=\"#DejaVuSans-32\"/>\r\n       <use x=\"486.556641\" xlink:href=\"#DejaVuSans-67\"/>\r\n       <use x=\"556.380859\" xlink:href=\"#DejaVuSans-101\"/>\r\n       <use x=\"617.904297\" xlink:href=\"#DejaVuSans-112\"/>\r\n       <use x=\"681.380859\" xlink:href=\"#DejaVuSans-97\"/>\r\n       <use x=\"742.660156\" xlink:href=\"#DejaVuSans-116\"/>\r\n       <use x=\"781.869141\" xlink:href=\"#DejaVuSans-32\"/>\r\n       <use x=\"813.65625\" xlink:href=\"#DejaVuSans-83\"/>\r\n       <use x=\"877.132812\" xlink:href=\"#DejaVuSans-97\"/>\r\n       <use x=\"938.412109\" xlink:href=\"#DejaVuSans-106\"/>\r\n       <use x=\"966.195312\" xlink:href=\"#DejaVuSans-105\"/>\r\n      </g>\r\n     </g>\r\n    </g>\r\n    <g id=\"text_16\">\r\n     <!-- Cuisine Type -->\r\n     <g transform=\"translate(579.198437 485.474687)scale(0.1 -0.1)\">\r\n      <use xlink:href=\"#DejaVuSans-67\"/>\r\n      <use x=\"69.824219\" xlink:href=\"#DejaVuSans-117\"/>\r\n      <use x=\"133.203125\" xlink:href=\"#DejaVuSans-105\"/>\r\n      <use x=\"160.986328\" xlink:href=\"#DejaVuSans-115\"/>\r\n      <use x=\"213.085938\" xlink:href=\"#DejaVuSans-105\"/>\r\n      <use x=\"240.869141\" xlink:href=\"#DejaVuSans-110\"/>\r\n      <use x=\"304.248047\" xlink:href=\"#DejaVuSans-101\"/>\r\n      <use x=\"365.771484\" xlink:href=\"#DejaVuSans-32\"/>\r\n      <use x=\"397.558594\" xlink:href=\"#DejaVuSans-84\"/>\r\n      <use x=\"458.408203\" xlink:href=\"#DejaVuSans-121\"/>\r\n      <use x=\"517.587891\" xlink:href=\"#DejaVuSans-112\"/>\r\n      <use x=\"581.064453\" xlink:href=\"#DejaVuSans-101\"/>\r\n     </g>\r\n    </g>\r\n   </g>\r\n   <g id=\"matplotlib.axis_2\">\r\n    <g id=\"ytick_1\">\r\n     <g id=\"line2d_16\">\r\n      <defs>\r\n       <path d=\"M 0 0 \r\nL -3.5 0 \r\n\" id=\"mba27949d73\" style=\"stroke:#000000;stroke-width:0.8;\"/>\r\n      </defs>\r\n      <g>\r\n       <use style=\"stroke:#000000;stroke-width:0.8;\" x=\"53.328125\" xlink:href=\"#mba27949d73\" y=\"457.198125\"/>\r\n      </g>\r\n     </g>\r\n     <g id=\"text_17\">\r\n      <!-- 0 -->\r\n      <defs>\r\n       <path d=\"M 31.78125 66.40625 \r\nQ 24.171875 66.40625 20.328125 58.90625 \r\nQ 16.5 51.421875 16.5 36.375 \r\nQ 16.5 21.390625 20.328125 13.890625 \r\nQ 24.171875 6.390625 31.78125 6.390625 \r\nQ 39.453125 6.390625 43.28125 13.890625 \r\nQ 47.125 21.390625 47.125 36.375 \r\nQ 47.125 51.421875 43.28125 58.90625 \r\nQ 39.453125 66.40625 31.78125 66.40625 \r\nz\r\nM 31.78125 74.21875 \r\nQ 44.046875 74.21875 50.515625 64.515625 \r\nQ 56.984375 54.828125 56.984375 36.375 \r\nQ 56.984375 17.96875 50.515625 8.265625 \r\nQ 44.046875 -1.421875 31.78125 -1.421875 \r\nQ 19.53125 -1.421875 13.0625 8.265625 \r\nQ 6.59375 17.96875 6.59375 36.375 \r\nQ 6.59375 54.828125 13.0625 64.515625 \r\nQ 19.53125 74.21875 31.78125 74.21875 \r\nz\r\n\" id=\"DejaVuSans-48\"/>\r\n      </defs>\r\n      <g transform=\"translate(39.965625 460.997344)scale(0.1 -0.1)\">\r\n       <use xlink:href=\"#DejaVuSans-48\"/>\r\n      </g>\r\n     </g>\r\n    </g>\r\n    <g id=\"ytick_2\">\r\n     <g id=\"line2d_17\">\r\n      <g>\r\n       <use style=\"stroke:#000000;stroke-width:0.8;\" x=\"53.328125\" xlink:href=\"#mba27949d73\" y=\"408.079123\"/>\r\n      </g>\r\n     </g>\r\n     <g id=\"text_18\">\r\n      <!-- 250 -->\r\n      <defs>\r\n       <path d=\"M 19.1875 8.296875 \r\nL 53.609375 8.296875 \r\nL 53.609375 0 \r\nL 7.328125 0 \r\nL 7.328125 8.296875 \r\nQ 12.9375 14.109375 22.625 23.890625 \r\nQ 32.328125 33.6875 34.8125 36.53125 \r\nQ 39.546875 41.84375 41.421875 45.53125 \r\nQ 43.3125 49.21875 43.3125 52.78125 \r\nQ 43.3125 58.59375 39.234375 62.25 \r\nQ 35.15625 65.921875 28.609375 65.921875 \r\nQ 23.96875 65.921875 18.8125 64.3125 \r\nQ 13.671875 62.703125 7.8125 59.421875 \r\nL 7.8125 69.390625 \r\nQ 13.765625 71.78125 18.9375 73 \r\nQ 24.125 74.21875 28.421875 74.21875 \r\nQ 39.75 74.21875 46.484375 68.546875 \r\nQ 53.21875 62.890625 53.21875 53.421875 \r\nQ 53.21875 48.921875 51.53125 44.890625 \r\nQ 49.859375 40.875 45.40625 35.40625 \r\nQ 44.1875 33.984375 37.640625 27.21875 \r\nQ 31.109375 20.453125 19.1875 8.296875 \r\nz\r\n\" id=\"DejaVuSans-50\"/>\r\n       <path d=\"M 10.796875 72.90625 \r\nL 49.515625 72.90625 \r\nL 49.515625 64.59375 \r\nL 19.828125 64.59375 \r\nL 19.828125 46.734375 \r\nQ 21.96875 47.46875 24.109375 47.828125 \r\nQ 26.265625 48.1875 28.421875 48.1875 \r\nQ 40.625 48.1875 47.75 41.5 \r\nQ 54.890625 34.8125 54.890625 23.390625 \r\nQ 54.890625 11.625 47.5625 5.09375 \r\nQ 40.234375 -1.421875 26.90625 -1.421875 \r\nQ 22.3125 -1.421875 17.546875 -0.640625 \r\nQ 12.796875 0.140625 7.71875 1.703125 \r\nL 7.71875 11.625 \r\nQ 12.109375 9.234375 16.796875 8.0625 \r\nQ 21.484375 6.890625 26.703125 6.890625 \r\nQ 35.15625 6.890625 40.078125 11.328125 \r\nQ 45.015625 15.765625 45.015625 23.390625 \r\nQ 45.015625 31 40.078125 35.4375 \r\nQ 35.15625 39.890625 26.703125 39.890625 \r\nQ 22.75 39.890625 18.8125 39.015625 \r\nQ 14.890625 38.140625 10.796875 36.28125 \r\nz\r\n\" id=\"DejaVuSans-53\"/>\r\n      </defs>\r\n      <g transform=\"translate(27.240625 411.878341)scale(0.1 -0.1)\">\r\n       <use xlink:href=\"#DejaVuSans-50\"/>\r\n       <use x=\"63.623047\" xlink:href=\"#DejaVuSans-53\"/>\r\n       <use x=\"127.246094\" xlink:href=\"#DejaVuSans-48\"/>\r\n      </g>\r\n     </g>\r\n    </g>\r\n    <g id=\"ytick_3\">\r\n     <g id=\"line2d_18\">\r\n      <g>\r\n       <use style=\"stroke:#000000;stroke-width:0.8;\" x=\"53.328125\" xlink:href=\"#mba27949d73\" y=\"358.96012\"/>\r\n      </g>\r\n     </g>\r\n     <g id=\"text_19\">\r\n      <!-- 500 -->\r\n      <g transform=\"translate(27.240625 362.759339)scale(0.1 -0.1)\">\r\n       <use xlink:href=\"#DejaVuSans-53\"/>\r\n       <use x=\"63.623047\" xlink:href=\"#DejaVuSans-48\"/>\r\n       <use x=\"127.246094\" xlink:href=\"#DejaVuSans-48\"/>\r\n      </g>\r\n     </g>\r\n    </g>\r\n    <g id=\"ytick_4\">\r\n     <g id=\"line2d_19\">\r\n      <g>\r\n       <use style=\"stroke:#000000;stroke-width:0.8;\" x=\"53.328125\" xlink:href=\"#mba27949d73\" y=\"309.841118\"/>\r\n      </g>\r\n     </g>\r\n     <g id=\"text_20\">\r\n      <!-- 750 -->\r\n      <defs>\r\n       <path d=\"M 8.203125 72.90625 \r\nL 55.078125 72.90625 \r\nL 55.078125 68.703125 \r\nL 28.609375 0 \r\nL 18.3125 0 \r\nL 43.21875 64.59375 \r\nL 8.203125 64.59375 \r\nz\r\n\" id=\"DejaVuSans-55\"/>\r\n      </defs>\r\n      <g transform=\"translate(27.240625 313.640336)scale(0.1 -0.1)\">\r\n       <use xlink:href=\"#DejaVuSans-55\"/>\r\n       <use x=\"63.623047\" xlink:href=\"#DejaVuSans-53\"/>\r\n       <use x=\"127.246094\" xlink:href=\"#DejaVuSans-48\"/>\r\n      </g>\r\n     </g>\r\n    </g>\r\n    <g id=\"ytick_5\">\r\n     <g id=\"line2d_20\">\r\n      <g>\r\n       <use style=\"stroke:#000000;stroke-width:0.8;\" x=\"53.328125\" xlink:href=\"#mba27949d73\" y=\"260.722115\"/>\r\n      </g>\r\n     </g>\r\n     <g id=\"text_21\">\r\n      <!-- 1000 -->\r\n      <defs>\r\n       <path d=\"M 12.40625 8.296875 \r\nL 28.515625 8.296875 \r\nL 28.515625 63.921875 \r\nL 10.984375 60.40625 \r\nL 10.984375 69.390625 \r\nL 28.421875 72.90625 \r\nL 38.28125 72.90625 \r\nL 38.28125 8.296875 \r\nL 54.390625 8.296875 \r\nL 54.390625 0 \r\nL 12.40625 0 \r\nz\r\n\" id=\"DejaVuSans-49\"/>\r\n      </defs>\r\n      <g transform=\"translate(20.878125 264.521334)scale(0.1 -0.1)\">\r\n       <use xlink:href=\"#DejaVuSans-49\"/>\r\n       <use x=\"63.623047\" xlink:href=\"#DejaVuSans-48\"/>\r\n       <use x=\"127.246094\" xlink:href=\"#DejaVuSans-48\"/>\r\n       <use x=\"190.869141\" xlink:href=\"#DejaVuSans-48\"/>\r\n      </g>\r\n     </g>\r\n    </g>\r\n    <g id=\"ytick_6\">\r\n     <g id=\"line2d_21\">\r\n      <g>\r\n       <use style=\"stroke:#000000;stroke-width:0.8;\" x=\"53.328125\" xlink:href=\"#mba27949d73\" y=\"211.603113\"/>\r\n      </g>\r\n     </g>\r\n     <g id=\"text_22\">\r\n      <!-- 1250 -->\r\n      <g transform=\"translate(20.878125 215.402332)scale(0.1 -0.1)\">\r\n       <use xlink:href=\"#DejaVuSans-49\"/>\r\n       <use x=\"63.623047\" xlink:href=\"#DejaVuSans-50\"/>\r\n       <use x=\"127.246094\" xlink:href=\"#DejaVuSans-53\"/>\r\n       <use x=\"190.869141\" xlink:href=\"#DejaVuSans-48\"/>\r\n      </g>\r\n     </g>\r\n    </g>\r\n    <g id=\"ytick_7\">\r\n     <g id=\"line2d_22\">\r\n      <g>\r\n       <use style=\"stroke:#000000;stroke-width:0.8;\" x=\"53.328125\" xlink:href=\"#mba27949d73\" y=\"162.48411\"/>\r\n      </g>\r\n     </g>\r\n     <g id=\"text_23\">\r\n      <!-- 1500 -->\r\n      <g transform=\"translate(20.878125 166.283329)scale(0.1 -0.1)\">\r\n       <use xlink:href=\"#DejaVuSans-49\"/>\r\n       <use x=\"63.623047\" xlink:href=\"#DejaVuSans-53\"/>\r\n       <use x=\"127.246094\" xlink:href=\"#DejaVuSans-48\"/>\r\n       <use x=\"190.869141\" xlink:href=\"#DejaVuSans-48\"/>\r\n      </g>\r\n     </g>\r\n    </g>\r\n    <g id=\"ytick_8\">\r\n     <g id=\"line2d_23\">\r\n      <g>\r\n       <use style=\"stroke:#000000;stroke-width:0.8;\" x=\"53.328125\" xlink:href=\"#mba27949d73\" y=\"113.365108\"/>\r\n      </g>\r\n     </g>\r\n     <g id=\"text_24\">\r\n      <!-- 1750 -->\r\n      <g transform=\"translate(20.878125 117.164327)scale(0.1 -0.1)\">\r\n       <use xlink:href=\"#DejaVuSans-49\"/>\r\n       <use x=\"63.623047\" xlink:href=\"#DejaVuSans-55\"/>\r\n       <use x=\"127.246094\" xlink:href=\"#DejaVuSans-53\"/>\r\n       <use x=\"190.869141\" xlink:href=\"#DejaVuSans-48\"/>\r\n      </g>\r\n     </g>\r\n    </g>\r\n    <g id=\"ytick_9\">\r\n     <g id=\"line2d_24\">\r\n      <g>\r\n       <use style=\"stroke:#000000;stroke-width:0.8;\" x=\"53.328125\" xlink:href=\"#mba27949d73\" y=\"64.246105\"/>\r\n      </g>\r\n     </g>\r\n     <g id=\"text_25\">\r\n      <!-- 2000 -->\r\n      <g transform=\"translate(20.878125 68.045324)scale(0.1 -0.1)\">\r\n       <use xlink:href=\"#DejaVuSans-50\"/>\r\n       <use x=\"63.623047\" xlink:href=\"#DejaVuSans-48\"/>\r\n       <use x=\"127.246094\" xlink:href=\"#DejaVuSans-48\"/>\r\n       <use x=\"190.869141\" xlink:href=\"#DejaVuSans-48\"/>\r\n      </g>\r\n     </g>\r\n    </g>\r\n    <g id=\"text_26\">\r\n     <!-- Count -->\r\n     <g transform=\"translate(14.798437 254.606562)rotate(-90)scale(0.1 -0.1)\">\r\n      <use xlink:href=\"#DejaVuSans-67\"/>\r\n      <use x=\"69.824219\" xlink:href=\"#DejaVuSans-111\"/>\r\n      <use x=\"131.005859\" xlink:href=\"#DejaVuSans-117\"/>\r\n      <use x=\"194.384766\" xlink:href=\"#DejaVuSans-110\"/>\r\n      <use x=\"257.763672\" xlink:href=\"#DejaVuSans-116\"/>\r\n     </g>\r\n    </g>\r\n   </g>\r\n   <g id=\"line2d_25\">\r\n    <path clip-path=\"url(#pfc019bfdc7)\" d=\"M 0 0 \r\n\" style=\"fill:none;stroke:#424242;stroke-linecap:square;stroke-width:2.7;\"/>\r\n   </g>\r\n   <g id=\"line2d_26\">\r\n    <path clip-path=\"url(#pfc019bfdc7)\" d=\"M 0 0 \r\n\" style=\"fill:none;stroke:#424242;stroke-linecap:square;stroke-width:2.7;\"/>\r\n   </g>\r\n   <g id=\"line2d_27\">\r\n    <path clip-path=\"url(#pfc019bfdc7)\" d=\"M 0 0 \r\n\" style=\"fill:none;stroke:#424242;stroke-linecap:square;stroke-width:2.7;\"/>\r\n   </g>\r\n   <g id=\"line2d_28\">\r\n    <path clip-path=\"url(#pfc019bfdc7)\" d=\"M 0 0 \r\n\" style=\"fill:none;stroke:#424242;stroke-linecap:square;stroke-width:2.7;\"/>\r\n   </g>\r\n   <g id=\"line2d_29\">\r\n    <path clip-path=\"url(#pfc019bfdc7)\" d=\"M 0 0 \r\n\" style=\"fill:none;stroke:#424242;stroke-linecap:square;stroke-width:2.7;\"/>\r\n   </g>\r\n   <g id=\"line2d_30\">\r\n    <path clip-path=\"url(#pfc019bfdc7)\" d=\"M 0 0 \r\n\" style=\"fill:none;stroke:#424242;stroke-linecap:square;stroke-width:2.7;\"/>\r\n   </g>\r\n   <g id=\"line2d_31\">\r\n    <path clip-path=\"url(#pfc019bfdc7)\" d=\"M 0 0 \r\n\" style=\"fill:none;stroke:#424242;stroke-linecap:square;stroke-width:2.7;\"/>\r\n   </g>\r\n   <g id=\"line2d_32\">\r\n    <path clip-path=\"url(#pfc019bfdc7)\" d=\"M 0 0 \r\n\" style=\"fill:none;stroke:#424242;stroke-linecap:square;stroke-width:2.7;\"/>\r\n   </g>\r\n   <g id=\"line2d_33\">\r\n    <path clip-path=\"url(#pfc019bfdc7)\" d=\"M 0 0 \r\n\" style=\"fill:none;stroke:#424242;stroke-linecap:square;stroke-width:2.7;\"/>\r\n   </g>\r\n   <g id=\"line2d_34\">\r\n    <path clip-path=\"url(#pfc019bfdc7)\" d=\"M 0 0 \r\n\" style=\"fill:none;stroke:#424242;stroke-linecap:square;stroke-width:2.7;\"/>\r\n   </g>\r\n   <g id=\"line2d_35\">\r\n    <path clip-path=\"url(#pfc019bfdc7)\" d=\"M 0 0 \r\n\" style=\"fill:none;stroke:#424242;stroke-linecap:square;stroke-width:2.7;\"/>\r\n   </g>\r\n   <g id=\"line2d_36\">\r\n    <path clip-path=\"url(#pfc019bfdc7)\" d=\"M 0 0 \r\n\" style=\"fill:none;stroke:#424242;stroke-linecap:square;stroke-width:2.7;\"/>\r\n   </g>\r\n   <g id=\"line2d_37\">\r\n    <path clip-path=\"url(#pfc019bfdc7)\" d=\"M 0 0 \r\n\" style=\"fill:none;stroke:#424242;stroke-linecap:square;stroke-width:2.7;\"/>\r\n   </g>\r\n   <g id=\"line2d_38\">\r\n    <path clip-path=\"url(#pfc019bfdc7)\" d=\"M 0 0 \r\n\" style=\"fill:none;stroke:#424242;stroke-linecap:square;stroke-width:2.7;\"/>\r\n   </g>\r\n   <g id=\"line2d_39\">\r\n    <path clip-path=\"url(#pfc019bfdc7)\" d=\"M 0 0 \r\n\" style=\"fill:none;stroke:#424242;stroke-linecap:square;stroke-width:2.7;\"/>\r\n   </g>\r\n   <g id=\"patch_18\">\r\n    <path d=\"M 53.328125 457.198125 \r\nL 53.328125 22.318125 \r\n\" style=\"fill:none;stroke:#000000;stroke-linecap:square;stroke-linejoin:miter;stroke-width:0.8;\"/>\r\n   </g>\r\n   <g id=\"patch_19\">\r\n    <path d=\"M 1169.328125 457.198125 \r\nL 1169.328125 22.318125 \r\n\" style=\"fill:none;stroke:#000000;stroke-linecap:square;stroke-linejoin:miter;stroke-width:0.8;\"/>\r\n   </g>\r\n   <g id=\"patch_20\">\r\n    <path d=\"M 53.328125 457.198125 \r\nL 1169.328125 457.198125 \r\n\" style=\"fill:none;stroke:#000000;stroke-linecap:square;stroke-linejoin:miter;stroke-width:0.8;\"/>\r\n   </g>\r\n   <g id=\"patch_21\">\r\n    <path d=\"M 53.328125 22.318125 \r\nL 1169.328125 22.318125 \r\n\" style=\"fill:none;stroke:#000000;stroke-linecap:square;stroke-linejoin:miter;stroke-width:0.8;\"/>\r\n   </g>\r\n   <g id=\"text_27\">\r\n    <!-- Top 15 Cuisine Types in Jakarta -->\r\n    <g transform=\"translate(516.693125 16.318125)scale(0.12 -0.12)\">\r\n     <use xlink:href=\"#DejaVuSans-84\"/>\r\n     <use x=\"60.818359\" xlink:href=\"#DejaVuSans-111\"/>\r\n     <use x=\"122\" xlink:href=\"#DejaVuSans-112\"/>\r\n     <use x=\"185.476562\" xlink:href=\"#DejaVuSans-32\"/>\r\n     <use x=\"217.263672\" xlink:href=\"#DejaVuSans-49\"/>\r\n     <use x=\"280.886719\" xlink:href=\"#DejaVuSans-53\"/>\r\n     <use x=\"344.509766\" xlink:href=\"#DejaVuSans-32\"/>\r\n     <use x=\"376.296875\" xlink:href=\"#DejaVuSans-67\"/>\r\n     <use x=\"446.121094\" xlink:href=\"#DejaVuSans-117\"/>\r\n     <use x=\"509.5\" xlink:href=\"#DejaVuSans-105\"/>\r\n     <use x=\"537.283203\" xlink:href=\"#DejaVuSans-115\"/>\r\n     <use x=\"589.382812\" xlink:href=\"#DejaVuSans-105\"/>\r\n     <use x=\"617.166016\" xlink:href=\"#DejaVuSans-110\"/>\r\n     <use x=\"680.544922\" xlink:href=\"#DejaVuSans-101\"/>\r\n     <use x=\"742.068359\" xlink:href=\"#DejaVuSans-32\"/>\r\n     <use x=\"773.855469\" xlink:href=\"#DejaVuSans-84\"/>\r\n     <use x=\"834.705078\" xlink:href=\"#DejaVuSans-121\"/>\r\n     <use x=\"893.884766\" xlink:href=\"#DejaVuSans-112\"/>\r\n     <use x=\"957.361328\" xlink:href=\"#DejaVuSans-101\"/>\r\n     <use x=\"1018.884766\" xlink:href=\"#DejaVuSans-115\"/>\r\n     <use x=\"1070.984375\" xlink:href=\"#DejaVuSans-32\"/>\r\n     <use x=\"1102.771484\" xlink:href=\"#DejaVuSans-105\"/>\r\n     <use x=\"1130.554688\" xlink:href=\"#DejaVuSans-110\"/>\r\n     <use x=\"1193.933594\" xlink:href=\"#DejaVuSans-32\"/>\r\n     <use x=\"1225.720703\" xlink:href=\"#DejaVuSans-74\"/>\r\n     <use x=\"1255.212891\" xlink:href=\"#DejaVuSans-97\"/>\r\n     <use x=\"1316.492188\" xlink:href=\"#DejaVuSans-107\"/>\r\n     <use x=\"1374.386719\" xlink:href=\"#DejaVuSans-97\"/>\r\n     <use x=\"1435.666016\" xlink:href=\"#DejaVuSans-114\"/>\r\n     <use x=\"1476.779297\" xlink:href=\"#DejaVuSans-116\"/>\r\n     <use x=\"1515.988281\" xlink:href=\"#DejaVuSans-97\"/>\r\n    </g>\r\n   </g>\r\n  </g>\r\n </g>\r\n <defs>\r\n  <clipPath id=\"pfc019bfdc7\">\r\n   <rect height=\"434.88\" width=\"1116\" x=\"53.328125\" y=\"22.318125\"/>\r\n  </clipPath>\r\n </defs>\r\n</svg>\r\n",
      "image/png": "[encoded data removed]"
     },
     "metadata": {
      "needs_background": "light"
     }
    }
   ],
   "source": [
    "csne_not_unspecified = csne_counts[1:35]\n",
    "csne_not_unspecified_top15 = csne_counts[1:16]\n",
    "\n",
    "plt.figure(figsize=(20,8))\n",
    "ax=sns.barplot(x=\"Cuisine Type\", y=\"Count\", data=csne_not_unspecified_top15)\n",
    "ax.set_title('Top 15 Cuisine Types in Jakarta')\n",
    "plt.show()"
   ]
  },
  {
   "source": [
    "We'll deal with Unspecified Cuisine later"
   ],
   "cell_type": "markdown",
   "metadata": {}
  },
  {
   "source": [
    "# 9.2 CUISINE REGIONALITY"
   ],
   "cell_type": "markdown",
   "metadata": {}
  },
  {
   "cell_type": "code",
   "execution_count": 109,
   "metadata": {},
   "outputs": [],
   "source": [
    "#Let's check the Unique Values of Cuisine Regionality\n",
    "\n",
    "rgn_type = []\n",
    "\n",
    "#Type = List\n",
    "for index, row in rdf.iterrows():\n",
    "    final = row['Cuisine Regionality']\n",
    "    rgn_type.extend(final)\n",
    "\n",
    "rgn_type = list(set(rgn_type))"
   ]
  },
  {
   "cell_type": "code",
   "execution_count": 110,
   "metadata": {},
   "outputs": [
    {
     "output_type": "execute_result",
     "data": {
      "text/plain": "56"
     },
     "metadata": {},
     "execution_count": 110
    }
   ],
   "source": [
    "len(rgn_type)"
   ]
  },
  {
   "cell_type": "code",
   "execution_count": 111,
   "metadata": {},
   "outputs": [],
   "source": [
    "#Make A New List to store the Restaurant Type Counts\n",
    "\n",
    "rgn_type_ct = []\n",
    "\n",
    "# Type = List\n",
    "for i in rgn_type:\n",
    "    count = sum(rdf['Cuisine Regionality'].apply(lambda x: i in x))\n",
    "    rgn_type_ct.append(count)\n",
    "\n",
    "\n",
    "#Convert the Lists into A DataFrame\n",
    "\n",
    "rgn_counts = pd.DataFrame({'Cuisine Regionality': rgn_type, 'Count': rgn_type_ct})\n",
    "rgn_counts.sort_values(by='Count', ascending=False, inplace=True)\n",
    "rgn_counts.reset_index(drop=True, inplace=True)"
   ]
  },
  {
   "cell_type": "code",
   "execution_count": 112,
   "metadata": {},
   "outputs": [
    {
     "output_type": "execute_result",
     "data": {
      "text/plain": "   Cuisine Regionality  Count\n0   Unspecified Region   3938\n1            Indonesia   3014\n2                Barat    931\n3              Chinese    927\n4                 Jawa    889\n5               Jepang    577\n6                 Asia    500\n7                Itali    376\n8                Sunda    261\n9               Betawi    192\n10               Korea    170\n11              Padang    160\n12           Palembang    131\n13             Amerika    101\n14                Thai     84\n15                Aceh     81\n16              Manado     78\n17               Medan     75\n18               Eropa     72\n19              Fusion     66\n20                Arab     56\n21           Peranakan     49\n22              Bangka     47\n23            Makassar     45\n24          Kalimantan     44\n25                Bali     44\n26        Timur Tengah     43\n27               India     33\n28           Singapura     30\n29               Batak     29\n30          Yogyakarta     23\n31            Malaysia     22\n32         Kontinental     21\n33           Taiwanese     21\n34             Spanyol     17\n35            Sumatera     15\n36            Perancis     15\n37             Vietnam     14\n38         India Utara     13\n39             Meksiko     12\n40              Lombok     12\n41         Mediterania     10\n42            Sulawesi      9\n43             Belanda      8\n44       India Selatan      6\n45          Australian      6\n46              Jerman      6\n47       Amerika Latin      4\n48               Turki      4\n49            Mongolia      2\n50             Libanon      2\n51              Maroko      1\n52             Inggris      1\n53              Yunani      1\n54            Peruvian      1\n55            Pakistan      1",
      "text/html": "<div>\n<style scoped>\n    .dataframe tbody tr th:only-of-type {\n        vertical-align: middle;\n    }\n\n    .dataframe tbody tr th {\n        vertical-align: top;\n    }\n\n    .dataframe thead th {\n        text-align: right;\n    }\n</style>\n<table border=\"1\" class=\"dataframe\">\n  <thead>\n    <tr style=\"text-align: right;\">\n      <th></th>\n      <th>Cuisine Regionality</th>\n      <th>Count</th>\n    </tr>\n  </thead>\n  <tbody>\n    <tr>\n      <th>0</th>\n      <td>Unspecified Region</td>\n      <td>3938</td>\n    </tr>\n    <tr>\n      <th>1</th>\n      <td>Indonesia</td>\n      <td>3014</td>\n    </tr>\n    <tr>\n      <th>2</th>\n      <td>Barat</td>\n      <td>931</td>\n    </tr>\n    <tr>\n      <th>3</th>\n      <td>Chinese</td>\n      <td>927</td>\n    </tr>\n    <tr>\n      <th>4</th>\n      <td>Jawa</td>\n      <td>889</td>\n    </tr>\n    <tr>\n      <th>5</th>\n      <td>Jepang</td>\n      <td>577</td>\n    </tr>\n    <tr>\n      <th>6</th>\n      <td>Asia</td>\n      <td>500</td>\n    </tr>\n    <tr>\n      <th>7</th>\n      <td>Itali</td>\n      <td>376</td>\n    </tr>\n    <tr>\n      <th>8</th>\n      <td>Sunda</td>\n      <td>261</td>\n    </tr>\n    <tr>\n      <th>9</th>\n      <td>Betawi</td>\n      <td>192</td>\n    </tr>\n    <tr>\n      <th>10</th>\n      <td>Korea</td>\n      <td>170</td>\n    </tr>\n    <tr>\n      <th>11</th>\n      <td>Padang</td>\n      <td>160</td>\n    </tr>\n    <tr>\n      <th>12</th>\n      <td>Palembang</td>\n      <td>131</td>\n    </tr>\n    <tr>\n      <th>13</th>\n      <td>Amerika</td>\n      <td>101</td>\n    </tr>\n    <tr>\n      <th>14</th>\n      <td>Thai</td>\n      <td>84</td>\n    </tr>\n    <tr>\n      <th>15</th>\n      <td>Aceh</td>\n      <td>81</td>\n    </tr>\n    <tr>\n      <th>16</th>\n      <td>Manado</td>\n      <td>78</td>\n    </tr>\n    <tr>\n      <th>17</th>\n      <td>Medan</td>\n      <td>75</td>\n    </tr>\n    <tr>\n      <th>18</th>\n      <td>Eropa</td>\n      <td>72</td>\n    </tr>\n    <tr>\n      <th>19</th>\n      <td>Fusion</td>\n      <td>66</td>\n    </tr>\n    <tr>\n      <th>20</th>\n      <td>Arab</td>\n      <td>56</td>\n    </tr>\n    <tr>\n      <th>21</th>\n      <td>Peranakan</td>\n      <td>49</td>\n    </tr>\n    <tr>\n      <th>22</th>\n      <td>Bangka</td>\n      <td>47</td>\n    </tr>\n    <tr>\n      <th>23</th>\n      <td>Makassar</td>\n      <td>45</td>\n    </tr>\n    <tr>\n      <th>24</th>\n      <td>Kalimantan</td>\n      <td>44</td>\n    </tr>\n    <tr>\n      <th>25</th>\n      <td>Bali</td>\n      <td>44</td>\n    </tr>\n    <tr>\n      <th>26</th>\n      <td>Timur Tengah</td>\n      <td>43</td>\n    </tr>\n    <tr>\n      <th>27</th>\n      <td>India</td>\n      <td>33</td>\n    </tr>\n    <tr>\n      <th>28</th>\n      <td>Singapura</td>\n      <td>30</td>\n    </tr>\n    <tr>\n      <th>29</th>\n      <td>Batak</td>\n      <td>29</td>\n    </tr>\n    <tr>\n      <th>30</th>\n      <td>Yogyakarta</td>\n      <td>23</td>\n    </tr>\n    <tr>\n      <th>31</th>\n      <td>Malaysia</td>\n      <td>22</td>\n    </tr>\n    <tr>\n      <th>32</th>\n      <td>Kontinental</td>\n      <td>21</td>\n    </tr>\n    <tr>\n      <th>33</th>\n      <td>Taiwanese</td>\n      <td>21</td>\n    </tr>\n    <tr>\n      <th>34</th>\n      <td>Spanyol</td>\n      <td>17</td>\n    </tr>\n    <tr>\n      <th>35</th>\n      <td>Sumatera</td>\n      <td>15</td>\n    </tr>\n    <tr>\n      <th>36</th>\n      <td>Perancis</td>\n      <td>15</td>\n    </tr>\n    <tr>\n      <th>37</th>\n      <td>Vietnam</td>\n      <td>14</td>\n    </tr>\n    <tr>\n      <th>38</th>\n      <td>India Utara</td>\n      <td>13</td>\n    </tr>\n    <tr>\n      <th>39</th>\n      <td>Meksiko</td>\n      <td>12</td>\n    </tr>\n    <tr>\n      <th>40</th>\n      <td>Lombok</td>\n      <td>12</td>\n    </tr>\n    <tr>\n      <th>41</th>\n      <td>Mediterania</td>\n      <td>10</td>\n    </tr>\n    <tr>\n      <th>42</th>\n      <td>Sulawesi</td>\n      <td>9</td>\n    </tr>\n    <tr>\n      <th>43</th>\n      <td>Belanda</td>\n      <td>8</td>\n    </tr>\n    <tr>\n      <th>44</th>\n      <td>India Selatan</td>\n      <td>6</td>\n    </tr>\n    <tr>\n      <th>45</th>\n      <td>Australian</td>\n      <td>6</td>\n    </tr>\n    <tr>\n      <th>46</th>\n      <td>Jerman</td>\n      <td>6</td>\n    </tr>\n    <tr>\n      <th>47</th>\n      <td>Amerika Latin</td>\n      <td>4</td>\n    </tr>\n    <tr>\n      <th>48</th>\n      <td>Turki</td>\n      <td>4</td>\n    </tr>\n    <tr>\n      <th>49</th>\n      <td>Mongolia</td>\n      <td>2</td>\n    </tr>\n    <tr>\n      <th>50</th>\n      <td>Libanon</td>\n      <td>2</td>\n    </tr>\n    <tr>\n      <th>51</th>\n      <td>Maroko</td>\n      <td>1</td>\n    </tr>\n    <tr>\n      <th>52</th>\n      <td>Inggris</td>\n      <td>1</td>\n    </tr>\n    <tr>\n      <th>53</th>\n      <td>Yunani</td>\n      <td>1</td>\n    </tr>\n    <tr>\n      <th>54</th>\n      <td>Peruvian</td>\n      <td>1</td>\n    </tr>\n    <tr>\n      <th>55</th>\n      <td>Pakistan</td>\n      <td>1</td>\n    </tr>\n  </tbody>\n</table>\n</div>"
     },
     "metadata": {},
     "execution_count": 112
    }
   ],
   "source": [
    "rgn_counts"
   ]
  },
  {
   "cell_type": "code",
   "execution_count": 113,
   "metadata": {},
   "outputs": [
    {
     "output_type": "execute_result",
     "data": {
      "text/plain": "3938"
     },
     "metadata": {},
     "execution_count": 113
    }
   ],
   "source": [
    "# We can see that 'Unspecified Cuisine' category is significantly high\n",
    "\n",
    "sum(rdf['Cuisine Regionality'].apply(lambda x: 'Unspecified Region' in x))"
   ]
  },
  {
   "cell_type": "code",
   "execution_count": 114,
   "metadata": {},
   "outputs": [
    {
     "output_type": "display_data",
     "data": {
      "text/plain": "<Figure size 1440x576 with 1 Axes>",
      "image/svg+xml": "<?xml version=\"1.0\" encoding=\"utf-8\" standalone=\"no\"?>\r\n<!DOCTYPE svg PUBLIC \"-//W3C//DTD SVG 1.1//EN\"\r\n  \"http://www.w3.org/Graphics/SVG/1.1/DTD/svg11.dtd\">\r\n<!-- Created with matplotlib (https://matplotlib.org/) -->\r\n<svg height=\"494.754375pt\" version=\"1.1\" viewBox=\"0 0 1176.528125 494.754375\" width=\"1176.528125pt\" xmlns=\"http://www.w3.org/2000/svg\" xmlns:xlink=\"http://www.w3.org/1999/xlink\">\r\n <defs>\r\n  <style type=\"text/css\">\r\n*{stroke-linecap:butt;stroke-linejoin:round;}\r\n  </style>\r\n </defs>\r\n <g id=\"figure_1\">\r\n  <g id=\"patch_1\">\r\n   <path d=\"M 0 494.754375 \r\nL 1176.528125 494.754375 \r\nL 1176.528125 0 \r\nL 0 0 \r\nz\r\n\" style=\"fill:none;\"/>\r\n  </g>\r\n  <g id=\"axes_1\">\r\n   <g id=\"patch_2\">\r\n    <path d=\"M 53.328125 457.198125 \r\nL 1169.328125 457.198125 \r\nL 1169.328125 22.318125 \r\nL 53.328125 22.318125 \r\nz\r\n\" style=\"fill:#ffffff;\"/>\r\n   </g>\r\n   <g id=\"patch_3\">\r\n    <path clip-path=\"url(#p3bcee815ed)\" d=\"M 58.908125 457.198125 \r\nL 103.548125 457.198125 \r\nL 103.548125 43.026696 \r\nL 58.908125 43.026696 \r\nz\r\n\" style=\"fill:#ea96a3;\"/>\r\n   </g>\r\n   <g id=\"patch_4\">\r\n    <path clip-path=\"url(#p3bcee815ed)\" d=\"M 114.708125 457.198125 \r\nL 159.348125 457.198125 \r\nL 159.348125 329.263951 \r\nL 114.708125 329.263951 \r\nz\r\n\" style=\"fill:#e79683;\"/>\r\n   </g>\r\n   <g id=\"patch_5\">\r\n    <path clip-path=\"url(#p3bcee815ed)\" d=\"M 170.508125 457.198125 \r\nL 215.148125 457.198125 \r\nL 215.148125 329.813615 \r\nL 170.508125 329.813615 \r\nz\r\n\" style=\"fill:#d7944e;\"/>\r\n   </g>\r\n   <g id=\"patch_6\">\r\n    <path clip-path=\"url(#p3bcee815ed)\" d=\"M 226.308125 457.198125 \r\nL 270.948125 457.198125 \r\nL 270.948125 335.035418 \r\nL 226.308125 335.035418 \r\nz\r\n\" style=\"fill:#bf9a4a;\"/>\r\n   </g>\r\n   <g id=\"patch_7\">\r\n    <path clip-path=\"url(#p3bcee815ed)\" d=\"M 282.108125 457.198125 \r\nL 326.748125 457.198125 \r\nL 326.748125 377.909169 \r\nL 282.108125 377.909169 \r\nz\r\n\" style=\"fill:#ab9e47;\"/>\r\n   </g>\r\n   <g id=\"patch_8\">\r\n    <path clip-path=\"url(#p3bcee815ed)\" d=\"M 337.908125 457.198125 \r\nL 382.548125 457.198125 \r\nL 382.548125 388.490191 \r\nL 337.908125 388.490191 \r\nz\r\n\" style=\"fill:#98a246;\"/>\r\n   </g>\r\n   <g id=\"patch_9\">\r\n    <path clip-path=\"url(#p3bcee815ed)\" d=\"M 393.708125 457.198125 \r\nL 438.348125 457.198125 \r\nL 438.348125 405.529758 \r\nL 393.708125 405.529758 \r\nz\r\n\" style=\"fill:#7fa946;\"/>\r\n   </g>\r\n   <g id=\"patch_10\">\r\n    <path clip-path=\"url(#p3bcee815ed)\" d=\"M 449.508125 457.198125 \r\nL 494.148125 457.198125 \r\nL 494.148125 421.332583 \r\nL 449.508125 421.332583 \r\nz\r\n\" style=\"fill:#48b052;\"/>\r\n   </g>\r\n   <g id=\"patch_11\">\r\n    <path clip-path=\"url(#p3bcee815ed)\" d=\"M 505.308125 457.198125 \r\nL 549.948125 457.198125 \r\nL 549.948125 430.814278 \r\nL 505.308125 430.814278 \r\nz\r\n\" style=\"fill:#49ae83;\"/>\r\n   </g>\r\n   <g id=\"patch_12\">\r\n    <path clip-path=\"url(#p3bcee815ed)\" d=\"M 561.108125 457.198125 \r\nL 605.748125 457.198125 \r\nL 605.748125 433.837427 \r\nL 561.108125 433.837427 \r\nz\r\n\" style=\"fill:#4aad96;\"/>\r\n   </g>\r\n   <g id=\"patch_13\">\r\n    <path clip-path=\"url(#p3bcee815ed)\" d=\"M 616.908125 457.198125 \r\nL 661.548125 457.198125 \r\nL 661.548125 435.211586 \r\nL 616.908125 435.211586 \r\nz\r\n\" style=\"fill:#4baba4;\"/>\r\n   </g>\r\n   <g id=\"patch_14\">\r\n    <path clip-path=\"url(#p3bcee815ed)\" d=\"M 672.708125 457.198125 \r\nL 717.348125 457.198125 \r\nL 717.348125 439.196646 \r\nL 672.708125 439.196646 \r\nz\r\n\" style=\"fill:#4dabb2;\"/>\r\n   </g>\r\n   <g id=\"patch_15\">\r\n    <path clip-path=\"url(#p3bcee815ed)\" d=\"M 728.508125 457.198125 \r\nL 773.148125 457.198125 \r\nL 773.148125 443.319122 \r\nL 728.508125 443.319122 \r\nz\r\n\" style=\"fill:#50acc3;\"/>\r\n   </g>\r\n   <g id=\"patch_16\">\r\n    <path clip-path=\"url(#p3bcee815ed)\" d=\"M 784.308125 457.198125 \r\nL 828.948125 457.198125 \r\nL 828.948125 445.655192 \r\nL 784.308125 445.655192 \r\nz\r\n\" style=\"fill:#56addb;\"/>\r\n   </g>\r\n   <g id=\"patch_17\">\r\n    <path clip-path=\"url(#p3bcee815ed)\" d=\"M 840.108125 457.198125 \r\nL 884.748125 457.198125 \r\nL 884.748125 446.06744 \r\nL 840.108125 446.06744 \r\nz\r\n\" style=\"fill:#94aee8;\"/>\r\n   </g>\r\n   <g id=\"patch_18\">\r\n    <path clip-path=\"url(#p3bcee815ed)\" d=\"M 895.908125 457.198125 \r\nL 940.548125 457.198125 \r\nL 940.548125 446.479687 \r\nL 895.908125 446.479687 \r\nz\r\n\" style=\"fill:#b6a8eb;\"/>\r\n   </g>\r\n   <g id=\"patch_19\">\r\n    <path clip-path=\"url(#p3bcee815ed)\" d=\"M 951.708125 457.198125 \r\nL 996.348125 457.198125 \r\nL 996.348125 446.891935 \r\nL 951.708125 446.891935 \r\nz\r\n\" style=\"fill:#ce9be9;\"/>\r\n   </g>\r\n   <g id=\"patch_20\">\r\n    <path clip-path=\"url(#p3bcee815ed)\" d=\"M 1007.508125 457.198125 \r\nL 1052.148125 457.198125 \r\nL 1052.148125 447.304182 \r\nL 1007.508125 447.304182 \r\nz\r\n\" style=\"fill:#e689e4;\"/>\r\n   </g>\r\n   <g id=\"patch_21\">\r\n    <path clip-path=\"url(#p3bcee815ed)\" d=\"M 1063.308125 457.198125 \r\nL 1107.948125 457.198125 \r\nL 1107.948125 448.128678 \r\nL 1063.308125 448.128678 \r\nz\r\n\" style=\"fill:#e88fcc;\"/>\r\n   </g>\r\n   <g id=\"patch_22\">\r\n    <path clip-path=\"url(#p3bcee815ed)\" d=\"M 1119.108125 457.198125 \r\nL 1163.748125 457.198125 \r\nL 1163.748125 449.502836 \r\nL 1119.108125 449.502836 \r\nz\r\n\" style=\"fill:#e993b9;\"/>\r\n   </g>\r\n   <g id=\"matplotlib.axis_1\">\r\n    <g id=\"xtick_1\">\r\n     <g id=\"line2d_1\">\r\n      <defs>\r\n       <path d=\"M 0 0 \r\nL 0 3.5 \r\n\" id=\"med893d1b52\" style=\"stroke:#000000;stroke-width:0.8;\"/>\r\n      </defs>\r\n      <g>\r\n       <use style=\"stroke:#000000;stroke-width:0.8;\" x=\"81.228125\" xlink:href=\"#med893d1b52\" y=\"457.198125\"/>\r\n      </g>\r\n     </g>\r\n     <g id=\"text_1\">\r\n      <!-- Indonesia -->\r\n      <defs>\r\n       <path d=\"M 9.8125 72.90625 \r\nL 19.671875 72.90625 \r\nL 19.671875 0 \r\nL 9.8125 0 \r\nz\r\n\" id=\"DejaVuSans-73\"/>\r\n       <path d=\"M 54.890625 33.015625 \r\nL 54.890625 0 \r\nL 45.90625 0 \r\nL 45.90625 32.71875 \r\nQ 45.90625 40.484375 42.875 44.328125 \r\nQ 39.84375 48.1875 33.796875 48.1875 \r\nQ 26.515625 48.1875 22.3125 43.546875 \r\nQ 18.109375 38.921875 18.109375 30.90625 \r\nL 18.109375 0 \r\nL 9.078125 0 \r\nL 9.078125 54.6875 \r\nL 18.109375 54.6875 \r\nL 18.109375 46.1875 \r\nQ 21.34375 51.125 25.703125 53.5625 \r\nQ 30.078125 56 35.796875 56 \r\nQ 45.21875 56 50.046875 50.171875 \r\nQ 54.890625 44.34375 54.890625 33.015625 \r\nz\r\n\" id=\"DejaVuSans-110\"/>\r\n       <path d=\"M 45.40625 46.390625 \r\nL 45.40625 75.984375 \r\nL 54.390625 75.984375 \r\nL 54.390625 0 \r\nL 45.40625 0 \r\nL 45.40625 8.203125 \r\nQ 42.578125 3.328125 38.25 0.953125 \r\nQ 33.9375 -1.421875 27.875 -1.421875 \r\nQ 17.96875 -1.421875 11.734375 6.484375 \r\nQ 5.515625 14.40625 5.515625 27.296875 \r\nQ 5.515625 40.1875 11.734375 48.09375 \r\nQ 17.96875 56 27.875 56 \r\nQ 33.9375 56 38.25 53.625 \r\nQ 42.578125 51.265625 45.40625 46.390625 \r\nz\r\nM 14.796875 27.296875 \r\nQ 14.796875 17.390625 18.875 11.75 \r\nQ 22.953125 6.109375 30.078125 6.109375 \r\nQ 37.203125 6.109375 41.296875 11.75 \r\nQ 45.40625 17.390625 45.40625 27.296875 \r\nQ 45.40625 37.203125 41.296875 42.84375 \r\nQ 37.203125 48.484375 30.078125 48.484375 \r\nQ 22.953125 48.484375 18.875 42.84375 \r\nQ 14.796875 37.203125 14.796875 27.296875 \r\nz\r\n\" id=\"DejaVuSans-100\"/>\r\n       <path d=\"M 30.609375 48.390625 \r\nQ 23.390625 48.390625 19.1875 42.75 \r\nQ 14.984375 37.109375 14.984375 27.296875 \r\nQ 14.984375 17.484375 19.15625 11.84375 \r\nQ 23.34375 6.203125 30.609375 6.203125 \r\nQ 37.796875 6.203125 41.984375 11.859375 \r\nQ 46.1875 17.53125 46.1875 27.296875 \r\nQ 46.1875 37.015625 41.984375 42.703125 \r\nQ 37.796875 48.390625 30.609375 48.390625 \r\nz\r\nM 30.609375 56 \r\nQ 42.328125 56 49.015625 48.375 \r\nQ 55.71875 40.765625 55.71875 27.296875 \r\nQ 55.71875 13.875 49.015625 6.21875 \r\nQ 42.328125 -1.421875 30.609375 -1.421875 \r\nQ 18.84375 -1.421875 12.171875 6.21875 \r\nQ 5.515625 13.875 5.515625 27.296875 \r\nQ 5.515625 40.765625 12.171875 48.375 \r\nQ 18.84375 56 30.609375 56 \r\nz\r\n\" id=\"DejaVuSans-111\"/>\r\n       <path d=\"M 56.203125 29.59375 \r\nL 56.203125 25.203125 \r\nL 14.890625 25.203125 \r\nQ 15.484375 15.921875 20.484375 11.0625 \r\nQ 25.484375 6.203125 34.421875 6.203125 \r\nQ 39.59375 6.203125 44.453125 7.46875 \r\nQ 49.3125 8.734375 54.109375 11.28125 \r\nL 54.109375 2.78125 \r\nQ 49.265625 0.734375 44.1875 -0.34375 \r\nQ 39.109375 -1.421875 33.890625 -1.421875 \r\nQ 20.796875 -1.421875 13.15625 6.1875 \r\nQ 5.515625 13.8125 5.515625 26.8125 \r\nQ 5.515625 40.234375 12.765625 48.109375 \r\nQ 20.015625 56 32.328125 56 \r\nQ 43.359375 56 49.78125 48.890625 \r\nQ 56.203125 41.796875 56.203125 29.59375 \r\nz\r\nM 47.21875 32.234375 \r\nQ 47.125 39.59375 43.09375 43.984375 \r\nQ 39.0625 48.390625 32.421875 48.390625 \r\nQ 24.90625 48.390625 20.390625 44.140625 \r\nQ 15.875 39.890625 15.1875 32.171875 \r\nz\r\n\" id=\"DejaVuSans-101\"/>\r\n       <path d=\"M 44.28125 53.078125 \r\nL 44.28125 44.578125 \r\nQ 40.484375 46.53125 36.375 47.5 \r\nQ 32.28125 48.484375 27.875 48.484375 \r\nQ 21.1875 48.484375 17.84375 46.4375 \r\nQ 14.5 44.390625 14.5 40.28125 \r\nQ 14.5 37.15625 16.890625 35.375 \r\nQ 19.28125 33.59375 26.515625 31.984375 \r\nL 29.59375 31.296875 \r\nQ 39.15625 29.25 43.1875 25.515625 \r\nQ 47.21875 21.78125 47.21875 15.09375 \r\nQ 47.21875 7.46875 41.1875 3.015625 \r\nQ 35.15625 -1.421875 24.609375 -1.421875 \r\nQ 20.21875 -1.421875 15.453125 -0.5625 \r\nQ 10.6875 0.296875 5.421875 2 \r\nL 5.421875 11.28125 \r\nQ 10.40625 8.6875 15.234375 7.390625 \r\nQ 20.0625 6.109375 24.8125 6.109375 \r\nQ 31.15625 6.109375 34.5625 8.28125 \r\nQ 37.984375 10.453125 37.984375 14.40625 \r\nQ 37.984375 18.0625 35.515625 20.015625 \r\nQ 33.0625 21.96875 24.703125 23.78125 \r\nL 21.578125 24.515625 \r\nQ 13.234375 26.265625 9.515625 29.90625 \r\nQ 5.8125 33.546875 5.8125 39.890625 \r\nQ 5.8125 47.609375 11.28125 51.796875 \r\nQ 16.75 56 26.8125 56 \r\nQ 31.78125 56 36.171875 55.265625 \r\nQ 40.578125 54.546875 44.28125 53.078125 \r\nz\r\n\" id=\"DejaVuSans-115\"/>\r\n       <path d=\"M 9.421875 54.6875 \r\nL 18.40625 54.6875 \r\nL 18.40625 0 \r\nL 9.421875 0 \r\nz\r\nM 9.421875 75.984375 \r\nL 18.40625 75.984375 \r\nL 18.40625 64.59375 \r\nL 9.421875 64.59375 \r\nz\r\n\" id=\"DejaVuSans-105\"/>\r\n       <path d=\"M 34.28125 27.484375 \r\nQ 23.390625 27.484375 19.1875 25 \r\nQ 14.984375 22.515625 14.984375 16.5 \r\nQ 14.984375 11.71875 18.140625 8.90625 \r\nQ 21.296875 6.109375 26.703125 6.109375 \r\nQ 34.1875 6.109375 38.703125 11.40625 \r\nQ 43.21875 16.703125 43.21875 25.484375 \r\nL 43.21875 27.484375 \r\nz\r\nM 52.203125 31.203125 \r\nL 52.203125 0 \r\nL 43.21875 0 \r\nL 43.21875 8.296875 \r\nQ 40.140625 3.328125 35.546875 0.953125 \r\nQ 30.953125 -1.421875 24.3125 -1.421875 \r\nQ 15.921875 -1.421875 10.953125 3.296875 \r\nQ 6 8.015625 6 15.921875 \r\nQ 6 25.140625 12.171875 29.828125 \r\nQ 18.359375 34.515625 30.609375 34.515625 \r\nL 43.21875 34.515625 \r\nL 43.21875 35.40625 \r\nQ 43.21875 41.609375 39.140625 45 \r\nQ 35.0625 48.390625 27.6875 48.390625 \r\nQ 23 48.390625 18.546875 47.265625 \r\nQ 14.109375 46.140625 10.015625 43.890625 \r\nL 10.015625 52.203125 \r\nQ 14.9375 54.109375 19.578125 55.046875 \r\nQ 24.21875 56 28.609375 56 \r\nQ 40.484375 56 46.34375 49.84375 \r\nQ 52.203125 43.703125 52.203125 31.203125 \r\nz\r\n\" id=\"DejaVuSans-97\"/>\r\n      </defs>\r\n      <g transform=\"translate(57.047656 471.796562)scale(0.1 -0.1)\">\r\n       <use xlink:href=\"#DejaVuSans-73\"/>\r\n       <use x=\"29.492188\" xlink:href=\"#DejaVuSans-110\"/>\r\n       <use x=\"92.871094\" xlink:href=\"#DejaVuSans-100\"/>\r\n       <use x=\"156.347656\" xlink:href=\"#DejaVuSans-111\"/>\r\n       <use x=\"217.529297\" xlink:href=\"#DejaVuSans-110\"/>\r\n       <use x=\"280.908203\" xlink:href=\"#DejaVuSans-101\"/>\r\n       <use x=\"342.431641\" xlink:href=\"#DejaVuSans-115\"/>\r\n       <use x=\"394.53125\" xlink:href=\"#DejaVuSans-105\"/>\r\n       <use x=\"422.314453\" xlink:href=\"#DejaVuSans-97\"/>\r\n      </g>\r\n     </g>\r\n    </g>\r\n    <g id=\"xtick_2\">\r\n     <g id=\"line2d_2\">\r\n      <g>\r\n       <use style=\"stroke:#000000;stroke-width:0.8;\" x=\"137.028125\" xlink:href=\"#med893d1b52\" y=\"457.198125\"/>\r\n      </g>\r\n     </g>\r\n     <g id=\"text_2\">\r\n      <!-- Barat -->\r\n      <defs>\r\n       <path d=\"M 19.671875 34.8125 \r\nL 19.671875 8.109375 \r\nL 35.5 8.109375 \r\nQ 43.453125 8.109375 47.28125 11.40625 \r\nQ 51.125 14.703125 51.125 21.484375 \r\nQ 51.125 28.328125 47.28125 31.5625 \r\nQ 43.453125 34.8125 35.5 34.8125 \r\nz\r\nM 19.671875 64.796875 \r\nL 19.671875 42.828125 \r\nL 34.28125 42.828125 \r\nQ 41.5 42.828125 45.03125 45.53125 \r\nQ 48.578125 48.25 48.578125 53.8125 \r\nQ 48.578125 59.328125 45.03125 62.0625 \r\nQ 41.5 64.796875 34.28125 64.796875 \r\nz\r\nM 9.8125 72.90625 \r\nL 35.015625 72.90625 \r\nQ 46.296875 72.90625 52.390625 68.21875 \r\nQ 58.5 63.53125 58.5 54.890625 \r\nQ 58.5 48.1875 55.375 44.234375 \r\nQ 52.25 40.28125 46.1875 39.3125 \r\nQ 53.46875 37.75 57.5 32.78125 \r\nQ 61.53125 27.828125 61.53125 20.40625 \r\nQ 61.53125 10.640625 54.890625 5.3125 \r\nQ 48.25 0 35.984375 0 \r\nL 9.8125 0 \r\nz\r\n\" id=\"DejaVuSans-66\"/>\r\n       <path d=\"M 41.109375 46.296875 \r\nQ 39.59375 47.171875 37.8125 47.578125 \r\nQ 36.03125 48 33.890625 48 \r\nQ 26.265625 48 22.1875 43.046875 \r\nQ 18.109375 38.09375 18.109375 28.8125 \r\nL 18.109375 0 \r\nL 9.078125 0 \r\nL 9.078125 54.6875 \r\nL 18.109375 54.6875 \r\nL 18.109375 46.1875 \r\nQ 20.953125 51.171875 25.484375 53.578125 \r\nQ 30.03125 56 36.53125 56 \r\nQ 37.453125 56 38.578125 55.875 \r\nQ 39.703125 55.765625 41.0625 55.515625 \r\nz\r\n\" id=\"DejaVuSans-114\"/>\r\n       <path d=\"M 18.3125 70.21875 \r\nL 18.3125 54.6875 \r\nL 36.8125 54.6875 \r\nL 36.8125 47.703125 \r\nL 18.3125 47.703125 \r\nL 18.3125 18.015625 \r\nQ 18.3125 11.328125 20.140625 9.421875 \r\nQ 21.96875 7.515625 27.59375 7.515625 \r\nL 36.8125 7.515625 \r\nL 36.8125 0 \r\nL 27.59375 0 \r\nQ 17.1875 0 13.234375 3.875 \r\nQ 9.28125 7.765625 9.28125 18.015625 \r\nL 9.28125 47.703125 \r\nL 2.6875 47.703125 \r\nL 2.6875 54.6875 \r\nL 9.28125 54.6875 \r\nL 9.28125 70.21875 \r\nz\r\n\" id=\"DejaVuSans-116\"/>\r\n      </defs>\r\n      <g transform=\"translate(123.453906 471.796562)scale(0.1 -0.1)\">\r\n       <use xlink:href=\"#DejaVuSans-66\"/>\r\n       <use x=\"68.603516\" xlink:href=\"#DejaVuSans-97\"/>\r\n       <use x=\"129.882812\" xlink:href=\"#DejaVuSans-114\"/>\r\n       <use x=\"170.996094\" xlink:href=\"#DejaVuSans-97\"/>\r\n       <use x=\"232.275391\" xlink:href=\"#DejaVuSans-116\"/>\r\n      </g>\r\n     </g>\r\n    </g>\r\n    <g id=\"xtick_3\">\r\n     <g id=\"line2d_3\">\r\n      <g>\r\n       <use style=\"stroke:#000000;stroke-width:0.8;\" x=\"192.828125\" xlink:href=\"#med893d1b52\" y=\"457.198125\"/>\r\n      </g>\r\n     </g>\r\n     <g id=\"text_3\">\r\n      <!-- Chinese -->\r\n      <defs>\r\n       <path d=\"M 64.40625 67.28125 \r\nL 64.40625 56.890625 \r\nQ 59.421875 61.53125 53.78125 63.8125 \r\nQ 48.140625 66.109375 41.796875 66.109375 \r\nQ 29.296875 66.109375 22.65625 58.46875 \r\nQ 16.015625 50.828125 16.015625 36.375 \r\nQ 16.015625 21.96875 22.65625 14.328125 \r\nQ 29.296875 6.6875 41.796875 6.6875 \r\nQ 48.140625 6.6875 53.78125 8.984375 \r\nQ 59.421875 11.28125 64.40625 15.921875 \r\nL 64.40625 5.609375 \r\nQ 59.234375 2.09375 53.4375 0.328125 \r\nQ 47.65625 -1.421875 41.21875 -1.421875 \r\nQ 24.65625 -1.421875 15.125 8.703125 \r\nQ 5.609375 18.84375 5.609375 36.375 \r\nQ 5.609375 53.953125 15.125 64.078125 \r\nQ 24.65625 74.21875 41.21875 74.21875 \r\nQ 47.75 74.21875 53.53125 72.484375 \r\nQ 59.328125 70.75 64.40625 67.28125 \r\nz\r\n\" id=\"DejaVuSans-67\"/>\r\n       <path d=\"M 54.890625 33.015625 \r\nL 54.890625 0 \r\nL 45.90625 0 \r\nL 45.90625 32.71875 \r\nQ 45.90625 40.484375 42.875 44.328125 \r\nQ 39.84375 48.1875 33.796875 48.1875 \r\nQ 26.515625 48.1875 22.3125 43.546875 \r\nQ 18.109375 38.921875 18.109375 30.90625 \r\nL 18.109375 0 \r\nL 9.078125 0 \r\nL 9.078125 75.984375 \r\nL 18.109375 75.984375 \r\nL 18.109375 46.1875 \r\nQ 21.34375 51.125 25.703125 53.5625 \r\nQ 30.078125 56 35.796875 56 \r\nQ 45.21875 56 50.046875 50.171875 \r\nQ 54.890625 44.34375 54.890625 33.015625 \r\nz\r\n\" id=\"DejaVuSans-104\"/>\r\n      </defs>\r\n      <g transform=\"translate(172.852344 471.796562)scale(0.1 -0.1)\">\r\n       <use xlink:href=\"#DejaVuSans-67\"/>\r\n       <use x=\"69.824219\" xlink:href=\"#DejaVuSans-104\"/>\r\n       <use x=\"133.203125\" xlink:href=\"#DejaVuSans-105\"/>\r\n       <use x=\"160.986328\" xlink:href=\"#DejaVuSans-110\"/>\r\n       <use x=\"224.365234\" xlink:href=\"#DejaVuSans-101\"/>\r\n       <use x=\"285.888672\" xlink:href=\"#DejaVuSans-115\"/>\r\n       <use x=\"337.988281\" xlink:href=\"#DejaVuSans-101\"/>\r\n      </g>\r\n     </g>\r\n    </g>\r\n    <g id=\"xtick_4\">\r\n     <g id=\"line2d_4\">\r\n      <g>\r\n       <use style=\"stroke:#000000;stroke-width:0.8;\" x=\"248.628125\" xlink:href=\"#med893d1b52\" y=\"457.198125\"/>\r\n      </g>\r\n     </g>\r\n     <g id=\"text_4\">\r\n      <!-- Jawa -->\r\n      <defs>\r\n       <path d=\"M 9.8125 72.90625 \r\nL 19.671875 72.90625 \r\nL 19.671875 5.078125 \r\nQ 19.671875 -8.109375 14.671875 -14.0625 \r\nQ 9.671875 -20.015625 -1.421875 -20.015625 \r\nL -5.171875 -20.015625 \r\nL -5.171875 -11.71875 \r\nL -2.09375 -11.71875 \r\nQ 4.4375 -11.71875 7.125 -8.046875 \r\nQ 9.8125 -4.390625 9.8125 5.078125 \r\nz\r\n\" id=\"DejaVuSans-74\"/>\r\n       <path d=\"M 4.203125 54.6875 \r\nL 13.1875 54.6875 \r\nL 24.421875 12.015625 \r\nL 35.59375 54.6875 \r\nL 46.1875 54.6875 \r\nL 57.421875 12.015625 \r\nL 68.609375 54.6875 \r\nL 77.59375 54.6875 \r\nL 63.28125 0 \r\nL 52.6875 0 \r\nL 40.921875 44.828125 \r\nL 29.109375 0 \r\nL 18.5 0 \r\nz\r\n\" id=\"DejaVuSans-119\"/>\r\n      </defs>\r\n      <g transform=\"translate(236.935938 471.796562)scale(0.1 -0.1)\">\r\n       <use xlink:href=\"#DejaVuSans-74\"/>\r\n       <use x=\"29.492188\" xlink:href=\"#DejaVuSans-97\"/>\r\n       <use x=\"90.771484\" xlink:href=\"#DejaVuSans-119\"/>\r\n       <use x=\"172.558594\" xlink:href=\"#DejaVuSans-97\"/>\r\n      </g>\r\n     </g>\r\n    </g>\r\n    <g id=\"xtick_5\">\r\n     <g id=\"line2d_5\">\r\n      <g>\r\n       <use style=\"stroke:#000000;stroke-width:0.8;\" x=\"304.428125\" xlink:href=\"#med893d1b52\" y=\"457.198125\"/>\r\n      </g>\r\n     </g>\r\n     <g id=\"text_5\">\r\n      <!-- Jepang -->\r\n      <defs>\r\n       <path d=\"M 18.109375 8.203125 \r\nL 18.109375 -20.796875 \r\nL 9.078125 -20.796875 \r\nL 9.078125 54.6875 \r\nL 18.109375 54.6875 \r\nL 18.109375 46.390625 \r\nQ 20.953125 51.265625 25.265625 53.625 \r\nQ 29.59375 56 35.59375 56 \r\nQ 45.5625 56 51.78125 48.09375 \r\nQ 58.015625 40.1875 58.015625 27.296875 \r\nQ 58.015625 14.40625 51.78125 6.484375 \r\nQ 45.5625 -1.421875 35.59375 -1.421875 \r\nQ 29.59375 -1.421875 25.265625 0.953125 \r\nQ 20.953125 3.328125 18.109375 8.203125 \r\nz\r\nM 48.6875 27.296875 \r\nQ 48.6875 37.203125 44.609375 42.84375 \r\nQ 40.53125 48.484375 33.40625 48.484375 \r\nQ 26.265625 48.484375 22.1875 42.84375 \r\nQ 18.109375 37.203125 18.109375 27.296875 \r\nQ 18.109375 17.390625 22.1875 11.75 \r\nQ 26.265625 6.109375 33.40625 6.109375 \r\nQ 40.53125 6.109375 44.609375 11.75 \r\nQ 48.6875 17.390625 48.6875 27.296875 \r\nz\r\n\" id=\"DejaVuSans-112\"/>\r\n       <path d=\"M 45.40625 27.984375 \r\nQ 45.40625 37.75 41.375 43.109375 \r\nQ 37.359375 48.484375 30.078125 48.484375 \r\nQ 22.859375 48.484375 18.828125 43.109375 \r\nQ 14.796875 37.75 14.796875 27.984375 \r\nQ 14.796875 18.265625 18.828125 12.890625 \r\nQ 22.859375 7.515625 30.078125 7.515625 \r\nQ 37.359375 7.515625 41.375 12.890625 \r\nQ 45.40625 18.265625 45.40625 27.984375 \r\nz\r\nM 54.390625 6.78125 \r\nQ 54.390625 -7.171875 48.1875 -13.984375 \r\nQ 42 -20.796875 29.203125 -20.796875 \r\nQ 24.46875 -20.796875 20.265625 -20.09375 \r\nQ 16.0625 -19.390625 12.109375 -17.921875 \r\nL 12.109375 -9.1875 \r\nQ 16.0625 -11.328125 19.921875 -12.34375 \r\nQ 23.78125 -13.375 27.78125 -13.375 \r\nQ 36.625 -13.375 41.015625 -8.765625 \r\nQ 45.40625 -4.15625 45.40625 5.171875 \r\nL 45.40625 9.625 \r\nQ 42.625 4.78125 38.28125 2.390625 \r\nQ 33.9375 0 27.875 0 \r\nQ 17.828125 0 11.671875 7.65625 \r\nQ 5.515625 15.328125 5.515625 27.984375 \r\nQ 5.515625 40.671875 11.671875 48.328125 \r\nQ 17.828125 56 27.875 56 \r\nQ 33.9375 56 38.28125 53.609375 \r\nQ 42.625 51.21875 45.40625 46.390625 \r\nL 45.40625 54.6875 \r\nL 54.390625 54.6875 \r\nz\r\n\" id=\"DejaVuSans-103\"/>\r\n      </defs>\r\n      <g transform=\"translate(287.295313 471.796562)scale(0.1 -0.1)\">\r\n       <use xlink:href=\"#DejaVuSans-74\"/>\r\n       <use x=\"29.492188\" xlink:href=\"#DejaVuSans-101\"/>\r\n       <use x=\"91.015625\" xlink:href=\"#DejaVuSans-112\"/>\r\n       <use x=\"154.492188\" xlink:href=\"#DejaVuSans-97\"/>\r\n       <use x=\"215.771484\" xlink:href=\"#DejaVuSans-110\"/>\r\n       <use x=\"279.150391\" xlink:href=\"#DejaVuSans-103\"/>\r\n      </g>\r\n     </g>\r\n    </g>\r\n    <g id=\"xtick_6\">\r\n     <g id=\"line2d_6\">\r\n      <g>\r\n       <use style=\"stroke:#000000;stroke-width:0.8;\" x=\"360.228125\" xlink:href=\"#med893d1b52\" y=\"457.198125\"/>\r\n      </g>\r\n     </g>\r\n     <g id=\"text_6\">\r\n      <!-- Asia -->\r\n      <defs>\r\n       <path d=\"M 34.1875 63.1875 \r\nL 20.796875 26.90625 \r\nL 47.609375 26.90625 \r\nz\r\nM 28.609375 72.90625 \r\nL 39.796875 72.90625 \r\nL 67.578125 0 \r\nL 57.328125 0 \r\nL 50.6875 18.703125 \r\nL 17.828125 18.703125 \r\nL 11.1875 0 \r\nL 0.78125 0 \r\nz\r\n\" id=\"DejaVuSans-65\"/>\r\n      </defs>\r\n      <g transform=\"translate(349.75 471.796562)scale(0.1 -0.1)\">\r\n       <use xlink:href=\"#DejaVuSans-65\"/>\r\n       <use x=\"68.408203\" xlink:href=\"#DejaVuSans-115\"/>\r\n       <use x=\"120.507812\" xlink:href=\"#DejaVuSans-105\"/>\r\n       <use x=\"148.291016\" xlink:href=\"#DejaVuSans-97\"/>\r\n      </g>\r\n     </g>\r\n    </g>\r\n    <g id=\"xtick_7\">\r\n     <g id=\"line2d_7\">\r\n      <g>\r\n       <use style=\"stroke:#000000;stroke-width:0.8;\" x=\"416.028125\" xlink:href=\"#med893d1b52\" y=\"457.198125\"/>\r\n      </g>\r\n     </g>\r\n     <g id=\"text_7\">\r\n      <!-- Itali -->\r\n      <defs>\r\n       <path d=\"M 9.421875 75.984375 \r\nL 18.40625 75.984375 \r\nL 18.40625 0 \r\nL 9.421875 0 \r\nz\r\n\" id=\"DejaVuSans-108\"/>\r\n      </defs>\r\n      <g transform=\"translate(406.750781 471.796562)scale(0.1 -0.1)\">\r\n       <use xlink:href=\"#DejaVuSans-73\"/>\r\n       <use x=\"29.492188\" xlink:href=\"#DejaVuSans-116\"/>\r\n       <use x=\"68.701172\" xlink:href=\"#DejaVuSans-97\"/>\r\n       <use x=\"129.980469\" xlink:href=\"#DejaVuSans-108\"/>\r\n       <use x=\"157.763672\" xlink:href=\"#DejaVuSans-105\"/>\r\n      </g>\r\n     </g>\r\n    </g>\r\n    <g id=\"xtick_8\">\r\n     <g id=\"line2d_8\">\r\n      <g>\r\n       <use style=\"stroke:#000000;stroke-width:0.8;\" x=\"471.828125\" xlink:href=\"#med893d1b52\" y=\"457.198125\"/>\r\n      </g>\r\n     </g>\r\n     <g id=\"text_8\">\r\n      <!-- Sunda -->\r\n      <defs>\r\n       <path d=\"M 53.515625 70.515625 \r\nL 53.515625 60.890625 \r\nQ 47.90625 63.578125 42.921875 64.890625 \r\nQ 37.9375 66.21875 33.296875 66.21875 \r\nQ 25.25 66.21875 20.875 63.09375 \r\nQ 16.5 59.96875 16.5 54.203125 \r\nQ 16.5 49.359375 19.40625 46.890625 \r\nQ 22.3125 44.4375 30.421875 42.921875 \r\nL 36.375 41.703125 \r\nQ 47.40625 39.59375 52.65625 34.296875 \r\nQ 57.90625 29 57.90625 20.125 \r\nQ 57.90625 9.515625 50.796875 4.046875 \r\nQ 43.703125 -1.421875 29.984375 -1.421875 \r\nQ 24.8125 -1.421875 18.96875 -0.25 \r\nQ 13.140625 0.921875 6.890625 3.21875 \r\nL 6.890625 13.375 \r\nQ 12.890625 10.015625 18.65625 8.296875 \r\nQ 24.421875 6.59375 29.984375 6.59375 \r\nQ 38.421875 6.59375 43.015625 9.90625 \r\nQ 47.609375 13.234375 47.609375 19.390625 \r\nQ 47.609375 24.75 44.3125 27.78125 \r\nQ 41.015625 30.8125 33.5 32.328125 \r\nL 27.484375 33.5 \r\nQ 16.453125 35.6875 11.515625 40.375 \r\nQ 6.59375 45.0625 6.59375 53.421875 \r\nQ 6.59375 63.09375 13.40625 68.65625 \r\nQ 20.21875 74.21875 32.171875 74.21875 \r\nQ 37.3125 74.21875 42.625 73.28125 \r\nQ 47.953125 72.359375 53.515625 70.515625 \r\nz\r\n\" id=\"DejaVuSans-83\"/>\r\n       <path d=\"M 8.5 21.578125 \r\nL 8.5 54.6875 \r\nL 17.484375 54.6875 \r\nL 17.484375 21.921875 \r\nQ 17.484375 14.15625 20.5 10.265625 \r\nQ 23.53125 6.390625 29.59375 6.390625 \r\nQ 36.859375 6.390625 41.078125 11.03125 \r\nQ 45.3125 15.671875 45.3125 23.6875 \r\nL 45.3125 54.6875 \r\nL 54.296875 54.6875 \r\nL 54.296875 0 \r\nL 45.3125 0 \r\nL 45.3125 8.40625 \r\nQ 42.046875 3.421875 37.71875 1 \r\nQ 33.40625 -1.421875 27.6875 -1.421875 \r\nQ 18.265625 -1.421875 13.375 4.4375 \r\nQ 8.5 10.296875 8.5 21.578125 \r\nz\r\nM 31.109375 56 \r\nz\r\n\" id=\"DejaVuSans-117\"/>\r\n      </defs>\r\n      <g transform=\"translate(456.078125 471.796562)scale(0.1 -0.1)\">\r\n       <use xlink:href=\"#DejaVuSans-83\"/>\r\n       <use x=\"63.476562\" xlink:href=\"#DejaVuSans-117\"/>\r\n       <use x=\"126.855469\" xlink:href=\"#DejaVuSans-110\"/>\r\n       <use x=\"190.234375\" xlink:href=\"#DejaVuSans-100\"/>\r\n       <use x=\"253.710938\" xlink:href=\"#DejaVuSans-97\"/>\r\n      </g>\r\n     </g>\r\n    </g>\r\n    <g id=\"xtick_9\">\r\n     <g id=\"line2d_9\">\r\n      <g>\r\n       <use style=\"stroke:#000000;stroke-width:0.8;\" x=\"527.628125\" xlink:href=\"#med893d1b52\" y=\"457.198125\"/>\r\n      </g>\r\n     </g>\r\n     <g id=\"text_9\">\r\n      <!-- Betawi -->\r\n      <g transform=\"translate(510.61875 471.796562)scale(0.1 -0.1)\">\r\n       <use xlink:href=\"#DejaVuSans-66\"/>\r\n       <use x=\"68.603516\" xlink:href=\"#DejaVuSans-101\"/>\r\n       <use x=\"130.126953\" xlink:href=\"#DejaVuSans-116\"/>\r\n       <use x=\"169.335938\" xlink:href=\"#DejaVuSans-97\"/>\r\n       <use x=\"230.615234\" xlink:href=\"#DejaVuSans-119\"/>\r\n       <use x=\"312.402344\" xlink:href=\"#DejaVuSans-105\"/>\r\n      </g>\r\n     </g>\r\n    </g>\r\n    <g id=\"xtick_10\">\r\n     <g id=\"line2d_10\">\r\n      <g>\r\n       <use style=\"stroke:#000000;stroke-width:0.8;\" x=\"583.428125\" xlink:href=\"#med893d1b52\" y=\"457.198125\"/>\r\n      </g>\r\n     </g>\r\n     <g id=\"text_10\">\r\n      <!-- Korea -->\r\n      <defs>\r\n       <path d=\"M 9.8125 72.90625 \r\nL 19.671875 72.90625 \r\nL 19.671875 42.09375 \r\nL 52.390625 72.90625 \r\nL 65.09375 72.90625 \r\nL 28.90625 38.921875 \r\nL 67.671875 0 \r\nL 54.6875 0 \r\nL 19.671875 35.109375 \r\nL 19.671875 0 \r\nL 9.8125 0 \r\nz\r\n\" id=\"DejaVuSans-75\"/>\r\n      </defs>\r\n      <g transform=\"translate(568.899219 471.796562)scale(0.1 -0.1)\">\r\n       <use xlink:href=\"#DejaVuSans-75\"/>\r\n       <use x=\"65.498047\" xlink:href=\"#DejaVuSans-111\"/>\r\n       <use x=\"126.679688\" xlink:href=\"#DejaVuSans-114\"/>\r\n       <use x=\"167.761719\" xlink:href=\"#DejaVuSans-101\"/>\r\n       <use x=\"229.285156\" xlink:href=\"#DejaVuSans-97\"/>\r\n      </g>\r\n     </g>\r\n    </g>\r\n    <g id=\"xtick_11\">\r\n     <g id=\"line2d_11\">\r\n      <g>\r\n       <use style=\"stroke:#000000;stroke-width:0.8;\" x=\"639.228125\" xlink:href=\"#med893d1b52\" y=\"457.198125\"/>\r\n      </g>\r\n     </g>\r\n     <g id=\"text_11\">\r\n      <!-- Padang -->\r\n      <defs>\r\n       <path d=\"M 19.671875 64.796875 \r\nL 19.671875 37.40625 \r\nL 32.078125 37.40625 \r\nQ 38.96875 37.40625 42.71875 40.96875 \r\nQ 46.484375 44.53125 46.484375 51.125 \r\nQ 46.484375 57.671875 42.71875 61.234375 \r\nQ 38.96875 64.796875 32.078125 64.796875 \r\nz\r\nM 9.8125 72.90625 \r\nL 32.078125 72.90625 \r\nQ 44.34375 72.90625 50.609375 67.359375 \r\nQ 56.890625 61.8125 56.890625 51.125 \r\nQ 56.890625 40.328125 50.609375 34.8125 \r\nQ 44.34375 29.296875 32.078125 29.296875 \r\nL 19.671875 29.296875 \r\nL 19.671875 0 \r\nL 9.8125 0 \r\nz\r\n\" id=\"DejaVuSans-80\"/>\r\n      </defs>\r\n      <g transform=\"translate(620.571094 471.796562)scale(0.1 -0.1)\">\r\n       <use xlink:href=\"#DejaVuSans-80\"/>\r\n       <use x=\"60.240234\" xlink:href=\"#DejaVuSans-97\"/>\r\n       <use x=\"121.519531\" xlink:href=\"#DejaVuSans-100\"/>\r\n       <use x=\"184.996094\" xlink:href=\"#DejaVuSans-97\"/>\r\n       <use x=\"246.275391\" xlink:href=\"#DejaVuSans-110\"/>\r\n       <use x=\"309.654297\" xlink:href=\"#DejaVuSans-103\"/>\r\n      </g>\r\n     </g>\r\n    </g>\r\n    <g id=\"xtick_12\">\r\n     <g id=\"line2d_12\">\r\n      <g>\r\n       <use style=\"stroke:#000000;stroke-width:0.8;\" x=\"695.028125\" xlink:href=\"#med893d1b52\" y=\"457.198125\"/>\r\n      </g>\r\n     </g>\r\n     <g id=\"text_12\">\r\n      <!-- Palembang -->\r\n      <defs>\r\n       <path d=\"M 52 44.1875 \r\nQ 55.375 50.25 60.0625 53.125 \r\nQ 64.75 56 71.09375 56 \r\nQ 79.640625 56 84.28125 50.015625 \r\nQ 88.921875 44.046875 88.921875 33.015625 \r\nL 88.921875 0 \r\nL 79.890625 0 \r\nL 79.890625 32.71875 \r\nQ 79.890625 40.578125 77.09375 44.375 \r\nQ 74.3125 48.1875 68.609375 48.1875 \r\nQ 61.625 48.1875 57.5625 43.546875 \r\nQ 53.515625 38.921875 53.515625 30.90625 \r\nL 53.515625 0 \r\nL 44.484375 0 \r\nL 44.484375 32.71875 \r\nQ 44.484375 40.625 41.703125 44.40625 \r\nQ 38.921875 48.1875 33.109375 48.1875 \r\nQ 26.21875 48.1875 22.15625 43.53125 \r\nQ 18.109375 38.875 18.109375 30.90625 \r\nL 18.109375 0 \r\nL 9.078125 0 \r\nL 9.078125 54.6875 \r\nL 18.109375 54.6875 \r\nL 18.109375 46.1875 \r\nQ 21.1875 51.21875 25.484375 53.609375 \r\nQ 29.78125 56 35.6875 56 \r\nQ 41.65625 56 45.828125 52.96875 \r\nQ 50 49.953125 52 44.1875 \r\nz\r\n\" id=\"DejaVuSans-109\"/>\r\n       <path d=\"M 48.6875 27.296875 \r\nQ 48.6875 37.203125 44.609375 42.84375 \r\nQ 40.53125 48.484375 33.40625 48.484375 \r\nQ 26.265625 48.484375 22.1875 42.84375 \r\nQ 18.109375 37.203125 18.109375 27.296875 \r\nQ 18.109375 17.390625 22.1875 11.75 \r\nQ 26.265625 6.109375 33.40625 6.109375 \r\nQ 40.53125 6.109375 44.609375 11.75 \r\nQ 48.6875 17.390625 48.6875 27.296875 \r\nz\r\nM 18.109375 46.390625 \r\nQ 20.953125 51.265625 25.265625 53.625 \r\nQ 29.59375 56 35.59375 56 \r\nQ 45.5625 56 51.78125 48.09375 \r\nQ 58.015625 40.1875 58.015625 27.296875 \r\nQ 58.015625 14.40625 51.78125 6.484375 \r\nQ 45.5625 -1.421875 35.59375 -1.421875 \r\nQ 29.59375 -1.421875 25.265625 0.953125 \r\nQ 20.953125 3.328125 18.109375 8.203125 \r\nL 18.109375 0 \r\nL 9.078125 0 \r\nL 9.078125 75.984375 \r\nL 18.109375 75.984375 \r\nz\r\n\" id=\"DejaVuSans-98\"/>\r\n      </defs>\r\n      <g transform=\"translate(667.035156 471.796562)scale(0.1 -0.1)\">\r\n       <use xlink:href=\"#DejaVuSans-80\"/>\r\n       <use x=\"60.240234\" xlink:href=\"#DejaVuSans-97\"/>\r\n       <use x=\"121.519531\" xlink:href=\"#DejaVuSans-108\"/>\r\n       <use x=\"149.302734\" xlink:href=\"#DejaVuSans-101\"/>\r\n       <use x=\"210.826172\" xlink:href=\"#DejaVuSans-109\"/>\r\n       <use x=\"308.238281\" xlink:href=\"#DejaVuSans-98\"/>\r\n       <use x=\"371.714844\" xlink:href=\"#DejaVuSans-97\"/>\r\n       <use x=\"432.994141\" xlink:href=\"#DejaVuSans-110\"/>\r\n       <use x=\"496.373047\" xlink:href=\"#DejaVuSans-103\"/>\r\n      </g>\r\n     </g>\r\n    </g>\r\n    <g id=\"xtick_13\">\r\n     <g id=\"line2d_13\">\r\n      <g>\r\n       <use style=\"stroke:#000000;stroke-width:0.8;\" x=\"750.828125\" xlink:href=\"#med893d1b52\" y=\"457.198125\"/>\r\n      </g>\r\n     </g>\r\n     <g id=\"text_13\">\r\n      <!-- Amerika -->\r\n      <defs>\r\n       <path d=\"M 9.078125 75.984375 \r\nL 18.109375 75.984375 \r\nL 18.109375 31.109375 \r\nL 44.921875 54.6875 \r\nL 56.390625 54.6875 \r\nL 27.390625 29.109375 \r\nL 57.625 0 \r\nL 45.90625 0 \r\nL 18.109375 26.703125 \r\nL 18.109375 0 \r\nL 9.078125 0 \r\nz\r\n\" id=\"DejaVuSans-107\"/>\r\n      </defs>\r\n      <g transform=\"translate(730.057812 471.796562)scale(0.1 -0.1)\">\r\n       <use xlink:href=\"#DejaVuSans-65\"/>\r\n       <use x=\"68.408203\" xlink:href=\"#DejaVuSans-109\"/>\r\n       <use x=\"165.820312\" xlink:href=\"#DejaVuSans-101\"/>\r\n       <use x=\"227.34375\" xlink:href=\"#DejaVuSans-114\"/>\r\n       <use x=\"268.457031\" xlink:href=\"#DejaVuSans-105\"/>\r\n       <use x=\"296.240234\" xlink:href=\"#DejaVuSans-107\"/>\r\n       <use x=\"354.134766\" xlink:href=\"#DejaVuSans-97\"/>\r\n      </g>\r\n     </g>\r\n    </g>\r\n    <g id=\"xtick_14\">\r\n     <g id=\"line2d_14\">\r\n      <g>\r\n       <use style=\"stroke:#000000;stroke-width:0.8;\" x=\"806.628125\" xlink:href=\"#med893d1b52\" y=\"457.198125\"/>\r\n      </g>\r\n     </g>\r\n     <g id=\"text_14\">\r\n      <!-- Thai -->\r\n      <defs>\r\n       <path d=\"M -0.296875 72.90625 \r\nL 61.375 72.90625 \r\nL 61.375 64.59375 \r\nL 35.5 64.59375 \r\nL 35.5 0 \r\nL 25.59375 0 \r\nL 25.59375 64.59375 \r\nL -0.296875 64.59375 \r\nz\r\n\" id=\"DejaVuSans-84\"/>\r\n      </defs>\r\n      <g transform=\"translate(795.952344 471.796562)scale(0.1 -0.1)\">\r\n       <use xlink:href=\"#DejaVuSans-84\"/>\r\n       <use x=\"61.083984\" xlink:href=\"#DejaVuSans-104\"/>\r\n       <use x=\"124.462891\" xlink:href=\"#DejaVuSans-97\"/>\r\n       <use x=\"185.742188\" xlink:href=\"#DejaVuSans-105\"/>\r\n      </g>\r\n     </g>\r\n    </g>\r\n    <g id=\"xtick_15\">\r\n     <g id=\"line2d_15\">\r\n      <g>\r\n       <use style=\"stroke:#000000;stroke-width:0.8;\" x=\"862.428125\" xlink:href=\"#med893d1b52\" y=\"457.198125\"/>\r\n      </g>\r\n     </g>\r\n     <g id=\"text_15\">\r\n      <!-- Aceh -->\r\n      <defs>\r\n       <path d=\"M 48.78125 52.59375 \r\nL 48.78125 44.1875 \r\nQ 44.96875 46.296875 41.140625 47.34375 \r\nQ 37.3125 48.390625 33.40625 48.390625 \r\nQ 24.65625 48.390625 19.8125 42.84375 \r\nQ 14.984375 37.3125 14.984375 27.296875 \r\nQ 14.984375 17.28125 19.8125 11.734375 \r\nQ 24.65625 6.203125 33.40625 6.203125 \r\nQ 37.3125 6.203125 41.140625 7.25 \r\nQ 44.96875 8.296875 48.78125 10.40625 \r\nL 48.78125 2.09375 \r\nQ 45.015625 0.34375 40.984375 -0.53125 \r\nQ 36.96875 -1.421875 32.421875 -1.421875 \r\nQ 20.0625 -1.421875 12.78125 6.34375 \r\nQ 5.515625 14.109375 5.515625 27.296875 \r\nQ 5.515625 40.671875 12.859375 48.328125 \r\nQ 20.21875 56 33.015625 56 \r\nQ 37.15625 56 41.109375 55.140625 \r\nQ 45.0625 54.296875 48.78125 52.59375 \r\nz\r\n\" id=\"DejaVuSans-99\"/>\r\n      </defs>\r\n      <g transform=\"translate(850.014063 471.796562)scale(0.1 -0.1)\">\r\n       <use xlink:href=\"#DejaVuSans-65\"/>\r\n       <use x=\"68.392578\" xlink:href=\"#DejaVuSans-99\"/>\r\n       <use x=\"123.373047\" xlink:href=\"#DejaVuSans-101\"/>\r\n       <use x=\"184.896484\" xlink:href=\"#DejaVuSans-104\"/>\r\n      </g>\r\n     </g>\r\n    </g>\r\n    <g id=\"xtick_16\">\r\n     <g id=\"line2d_16\">\r\n      <g>\r\n       <use style=\"stroke:#000000;stroke-width:0.8;\" x=\"918.228125\" xlink:href=\"#med893d1b52\" y=\"457.198125\"/>\r\n      </g>\r\n     </g>\r\n     <g id=\"text_16\">\r\n      <!-- Manado -->\r\n      <defs>\r\n       <path d=\"M 9.8125 72.90625 \r\nL 24.515625 72.90625 \r\nL 43.109375 23.296875 \r\nL 61.8125 72.90625 \r\nL 76.515625 72.90625 \r\nL 76.515625 0 \r\nL 66.890625 0 \r\nL 66.890625 64.015625 \r\nL 48.09375 14.015625 \r\nL 38.1875 14.015625 \r\nL 19.390625 64.015625 \r\nL 19.390625 0 \r\nL 9.8125 0 \r\nz\r\n\" id=\"DejaVuSans-77\"/>\r\n      </defs>\r\n      <g transform=\"translate(898.383594 471.796562)scale(0.1 -0.1)\">\r\n       <use xlink:href=\"#DejaVuSans-77\"/>\r\n       <use x=\"86.279297\" xlink:href=\"#DejaVuSans-97\"/>\r\n       <use x=\"147.558594\" xlink:href=\"#DejaVuSans-110\"/>\r\n       <use x=\"210.9375\" xlink:href=\"#DejaVuSans-97\"/>\r\n       <use x=\"272.216797\" xlink:href=\"#DejaVuSans-100\"/>\r\n       <use x=\"335.693359\" xlink:href=\"#DejaVuSans-111\"/>\r\n      </g>\r\n     </g>\r\n    </g>\r\n    <g id=\"xtick_17\">\r\n     <g id=\"line2d_17\">\r\n      <g>\r\n       <use style=\"stroke:#000000;stroke-width:0.8;\" x=\"974.028125\" xlink:href=\"#med893d1b52\" y=\"457.198125\"/>\r\n      </g>\r\n     </g>\r\n     <g id=\"text_17\">\r\n      <!-- Medan -->\r\n      <g transform=\"translate(957.230469 471.796562)scale(0.1 -0.1)\">\r\n       <use xlink:href=\"#DejaVuSans-77\"/>\r\n       <use x=\"86.279297\" xlink:href=\"#DejaVuSans-101\"/>\r\n       <use x=\"147.802734\" xlink:href=\"#DejaVuSans-100\"/>\r\n       <use x=\"211.279297\" xlink:href=\"#DejaVuSans-97\"/>\r\n       <use x=\"272.558594\" xlink:href=\"#DejaVuSans-110\"/>\r\n      </g>\r\n     </g>\r\n    </g>\r\n    <g id=\"xtick_18\">\r\n     <g id=\"line2d_18\">\r\n      <g>\r\n       <use style=\"stroke:#000000;stroke-width:0.8;\" x=\"1029.828125\" xlink:href=\"#med893d1b52\" y=\"457.198125\"/>\r\n      </g>\r\n     </g>\r\n     <g id=\"text_18\">\r\n      <!-- Eropa -->\r\n      <defs>\r\n       <path d=\"M 9.8125 72.90625 \r\nL 55.90625 72.90625 \r\nL 55.90625 64.59375 \r\nL 19.671875 64.59375 \r\nL 19.671875 43.015625 \r\nL 54.390625 43.015625 \r\nL 54.390625 34.71875 \r\nL 19.671875 34.71875 \r\nL 19.671875 8.296875 \r\nL 56.78125 8.296875 \r\nL 56.78125 0 \r\nL 9.8125 0 \r\nz\r\n\" id=\"DejaVuSans-69\"/>\r\n      </defs>\r\n      <g transform=\"translate(1015.317188 471.796562)scale(0.1 -0.1)\">\r\n       <use xlink:href=\"#DejaVuSans-69\"/>\r\n       <use x=\"63.183594\" xlink:href=\"#DejaVuSans-114\"/>\r\n       <use x=\"104.265625\" xlink:href=\"#DejaVuSans-111\"/>\r\n       <use x=\"165.447266\" xlink:href=\"#DejaVuSans-112\"/>\r\n       <use x=\"228.923828\" xlink:href=\"#DejaVuSans-97\"/>\r\n      </g>\r\n     </g>\r\n    </g>\r\n    <g id=\"xtick_19\">\r\n     <g id=\"line2d_19\">\r\n      <g>\r\n       <use style=\"stroke:#000000;stroke-width:0.8;\" x=\"1085.628125\" xlink:href=\"#med893d1b52\" y=\"457.198125\"/>\r\n      </g>\r\n     </g>\r\n     <g id=\"text_19\">\r\n      <!-- Fusion -->\r\n      <defs>\r\n       <path d=\"M 9.8125 72.90625 \r\nL 51.703125 72.90625 \r\nL 51.703125 64.59375 \r\nL 19.671875 64.59375 \r\nL 19.671875 43.109375 \r\nL 48.578125 43.109375 \r\nL 48.578125 34.8125 \r\nL 19.671875 34.8125 \r\nL 19.671875 0 \r\nL 9.8125 0 \r\nz\r\n\" id=\"DejaVuSans-70\"/>\r\n      </defs>\r\n      <g transform=\"translate(1069.365625 471.796562)scale(0.1 -0.1)\">\r\n       <use xlink:href=\"#DejaVuSans-70\"/>\r\n       <use x=\"57.441406\" xlink:href=\"#DejaVuSans-117\"/>\r\n       <use x=\"120.820312\" xlink:href=\"#DejaVuSans-115\"/>\r\n       <use x=\"172.919922\" xlink:href=\"#DejaVuSans-105\"/>\r\n       <use x=\"200.703125\" xlink:href=\"#DejaVuSans-111\"/>\r\n       <use x=\"261.884766\" xlink:href=\"#DejaVuSans-110\"/>\r\n      </g>\r\n     </g>\r\n    </g>\r\n    <g id=\"xtick_20\">\r\n     <g id=\"line2d_20\">\r\n      <g>\r\n       <use style=\"stroke:#000000;stroke-width:0.8;\" x=\"1141.428125\" xlink:href=\"#med893d1b52\" y=\"457.198125\"/>\r\n      </g>\r\n     </g>\r\n     <g id=\"text_20\">\r\n      <!-- Arab -->\r\n      <g transform=\"translate(1129.714063 471.796562)scale(0.1 -0.1)\">\r\n       <use xlink:href=\"#DejaVuSans-65\"/>\r\n       <use x=\"68.408203\" xlink:href=\"#DejaVuSans-114\"/>\r\n       <use x=\"109.521484\" xlink:href=\"#DejaVuSans-97\"/>\r\n       <use x=\"170.800781\" xlink:href=\"#DejaVuSans-98\"/>\r\n      </g>\r\n     </g>\r\n    </g>\r\n    <g id=\"text_21\">\r\n     <!-- Cuisine Regionality -->\r\n     <defs>\r\n      <path id=\"DejaVuSans-32\"/>\r\n      <path d=\"M 44.390625 34.1875 \r\nQ 47.5625 33.109375 50.5625 29.59375 \r\nQ 53.5625 26.078125 56.59375 19.921875 \r\nL 66.609375 0 \r\nL 56 0 \r\nL 46.6875 18.703125 \r\nQ 43.0625 26.03125 39.671875 28.421875 \r\nQ 36.28125 30.8125 30.421875 30.8125 \r\nL 19.671875 30.8125 \r\nL 19.671875 0 \r\nL 9.8125 0 \r\nL 9.8125 72.90625 \r\nL 32.078125 72.90625 \r\nQ 44.578125 72.90625 50.734375 67.671875 \r\nQ 56.890625 62.453125 56.890625 51.90625 \r\nQ 56.890625 45.015625 53.6875 40.46875 \r\nQ 50.484375 35.9375 44.390625 34.1875 \r\nz\r\nM 19.671875 64.796875 \r\nL 19.671875 38.921875 \r\nL 32.078125 38.921875 \r\nQ 39.203125 38.921875 42.84375 42.21875 \r\nQ 46.484375 45.515625 46.484375 51.90625 \r\nQ 46.484375 58.296875 42.84375 61.546875 \r\nQ 39.203125 64.796875 32.078125 64.796875 \r\nz\r\n\" id=\"DejaVuSans-82\"/>\r\n      <path d=\"M 32.171875 -5.078125 \r\nQ 28.375 -14.84375 24.75 -17.8125 \r\nQ 21.140625 -20.796875 15.09375 -20.796875 \r\nL 7.90625 -20.796875 \r\nL 7.90625 -13.28125 \r\nL 13.1875 -13.28125 \r\nQ 16.890625 -13.28125 18.9375 -11.515625 \r\nQ 21 -9.765625 23.484375 -3.21875 \r\nL 25.09375 0.875 \r\nL 2.984375 54.6875 \r\nL 12.5 54.6875 \r\nL 29.59375 11.921875 \r\nL 46.6875 54.6875 \r\nL 56.203125 54.6875 \r\nz\r\n\" id=\"DejaVuSans-121\"/>\r\n     </defs>\r\n     <g transform=\"translate(563.35 485.474687)scale(0.1 -0.1)\">\r\n      <use xlink:href=\"#DejaVuSans-67\"/>\r\n      <use x=\"69.824219\" xlink:href=\"#DejaVuSans-117\"/>\r\n      <use x=\"133.203125\" xlink:href=\"#DejaVuSans-105\"/>\r\n      <use x=\"160.986328\" xlink:href=\"#DejaVuSans-115\"/>\r\n      <use x=\"213.085938\" xlink:href=\"#DejaVuSans-105\"/>\r\n      <use x=\"240.869141\" xlink:href=\"#DejaVuSans-110\"/>\r\n      <use x=\"304.248047\" xlink:href=\"#DejaVuSans-101\"/>\r\n      <use x=\"365.771484\" xlink:href=\"#DejaVuSans-32\"/>\r\n      <use x=\"397.558594\" xlink:href=\"#DejaVuSans-82\"/>\r\n      <use x=\"466.978516\" xlink:href=\"#DejaVuSans-101\"/>\r\n      <use x=\"528.501953\" xlink:href=\"#DejaVuSans-103\"/>\r\n      <use x=\"591.978516\" xlink:href=\"#DejaVuSans-105\"/>\r\n      <use x=\"619.761719\" xlink:href=\"#DejaVuSans-111\"/>\r\n      <use x=\"680.943359\" xlink:href=\"#DejaVuSans-110\"/>\r\n      <use x=\"744.322266\" xlink:href=\"#DejaVuSans-97\"/>\r\n      <use x=\"805.601562\" xlink:href=\"#DejaVuSans-108\"/>\r\n      <use x=\"833.384766\" xlink:href=\"#DejaVuSans-105\"/>\r\n      <use x=\"861.167969\" xlink:href=\"#DejaVuSans-116\"/>\r\n      <use x=\"900.376953\" xlink:href=\"#DejaVuSans-121\"/>\r\n     </g>\r\n    </g>\r\n   </g>\r\n   <g id=\"matplotlib.axis_2\">\r\n    <g id=\"ytick_1\">\r\n     <g id=\"line2d_21\">\r\n      <defs>\r\n       <path d=\"M 0 0 \r\nL -3.5 0 \r\n\" id=\"md7887ce07d\" style=\"stroke:#000000;stroke-width:0.8;\"/>\r\n      </defs>\r\n      <g>\r\n       <use style=\"stroke:#000000;stroke-width:0.8;\" x=\"53.328125\" xlink:href=\"#md7887ce07d\" y=\"457.198125\"/>\r\n      </g>\r\n     </g>\r\n     <g id=\"text_22\">\r\n      <!-- 0 -->\r\n      <defs>\r\n       <path d=\"M 31.78125 66.40625 \r\nQ 24.171875 66.40625 20.328125 58.90625 \r\nQ 16.5 51.421875 16.5 36.375 \r\nQ 16.5 21.390625 20.328125 13.890625 \r\nQ 24.171875 6.390625 31.78125 6.390625 \r\nQ 39.453125 6.390625 43.28125 13.890625 \r\nQ 47.125 21.390625 47.125 36.375 \r\nQ 47.125 51.421875 43.28125 58.90625 \r\nQ 39.453125 66.40625 31.78125 66.40625 \r\nz\r\nM 31.78125 74.21875 \r\nQ 44.046875 74.21875 50.515625 64.515625 \r\nQ 56.984375 54.828125 56.984375 36.375 \r\nQ 56.984375 17.96875 50.515625 8.265625 \r\nQ 44.046875 -1.421875 31.78125 -1.421875 \r\nQ 19.53125 -1.421875 13.0625 8.265625 \r\nQ 6.59375 17.96875 6.59375 36.375 \r\nQ 6.59375 54.828125 13.0625 64.515625 \r\nQ 19.53125 74.21875 31.78125 74.21875 \r\nz\r\n\" id=\"DejaVuSans-48\"/>\r\n      </defs>\r\n      <g transform=\"translate(39.965625 460.997344)scale(0.1 -0.1)\">\r\n       <use xlink:href=\"#DejaVuSans-48\"/>\r\n      </g>\r\n     </g>\r\n    </g>\r\n    <g id=\"ytick_2\">\r\n     <g id=\"line2d_22\">\r\n      <g>\r\n       <use style=\"stroke:#000000;stroke-width:0.8;\" x=\"53.328125\" xlink:href=\"#md7887ce07d\" y=\"388.490191\"/>\r\n      </g>\r\n     </g>\r\n     <g id=\"text_23\">\r\n      <!-- 500 -->\r\n      <defs>\r\n       <path d=\"M 10.796875 72.90625 \r\nL 49.515625 72.90625 \r\nL 49.515625 64.59375 \r\nL 19.828125 64.59375 \r\nL 19.828125 46.734375 \r\nQ 21.96875 47.46875 24.109375 47.828125 \r\nQ 26.265625 48.1875 28.421875 48.1875 \r\nQ 40.625 48.1875 47.75 41.5 \r\nQ 54.890625 34.8125 54.890625 23.390625 \r\nQ 54.890625 11.625 47.5625 5.09375 \r\nQ 40.234375 -1.421875 26.90625 -1.421875 \r\nQ 22.3125 -1.421875 17.546875 -0.640625 \r\nQ 12.796875 0.140625 7.71875 1.703125 \r\nL 7.71875 11.625 \r\nQ 12.109375 9.234375 16.796875 8.0625 \r\nQ 21.484375 6.890625 26.703125 6.890625 \r\nQ 35.15625 6.890625 40.078125 11.328125 \r\nQ 45.015625 15.765625 45.015625 23.390625 \r\nQ 45.015625 31 40.078125 35.4375 \r\nQ 35.15625 39.890625 26.703125 39.890625 \r\nQ 22.75 39.890625 18.8125 39.015625 \r\nQ 14.890625 38.140625 10.796875 36.28125 \r\nz\r\n\" id=\"DejaVuSans-53\"/>\r\n      </defs>\r\n      <g transform=\"translate(27.240625 392.289409)scale(0.1 -0.1)\">\r\n       <use xlink:href=\"#DejaVuSans-53\"/>\r\n       <use x=\"63.623047\" xlink:href=\"#DejaVuSans-48\"/>\r\n       <use x=\"127.246094\" xlink:href=\"#DejaVuSans-48\"/>\r\n      </g>\r\n     </g>\r\n    </g>\r\n    <g id=\"ytick_3\">\r\n     <g id=\"line2d_23\">\r\n      <g>\r\n       <use style=\"stroke:#000000;stroke-width:0.8;\" x=\"53.328125\" xlink:href=\"#md7887ce07d\" y=\"319.782256\"/>\r\n      </g>\r\n     </g>\r\n     <g id=\"text_24\">\r\n      <!-- 1000 -->\r\n      <defs>\r\n       <path d=\"M 12.40625 8.296875 \r\nL 28.515625 8.296875 \r\nL 28.515625 63.921875 \r\nL 10.984375 60.40625 \r\nL 10.984375 69.390625 \r\nL 28.421875 72.90625 \r\nL 38.28125 72.90625 \r\nL 38.28125 8.296875 \r\nL 54.390625 8.296875 \r\nL 54.390625 0 \r\nL 12.40625 0 \r\nz\r\n\" id=\"DejaVuSans-49\"/>\r\n      </defs>\r\n      <g transform=\"translate(20.878125 323.581475)scale(0.1 -0.1)\">\r\n       <use xlink:href=\"#DejaVuSans-49\"/>\r\n       <use x=\"63.623047\" xlink:href=\"#DejaVuSans-48\"/>\r\n       <use x=\"127.246094\" xlink:href=\"#DejaVuSans-48\"/>\r\n       <use x=\"190.869141\" xlink:href=\"#DejaVuSans-48\"/>\r\n      </g>\r\n     </g>\r\n    </g>\r\n    <g id=\"ytick_4\">\r\n     <g id=\"line2d_24\">\r\n      <g>\r\n       <use style=\"stroke:#000000;stroke-width:0.8;\" x=\"53.328125\" xlink:href=\"#md7887ce07d\" y=\"251.074322\"/>\r\n      </g>\r\n     </g>\r\n     <g id=\"text_25\">\r\n      <!-- 1500 -->\r\n      <g transform=\"translate(20.878125 254.873541)scale(0.1 -0.1)\">\r\n       <use xlink:href=\"#DejaVuSans-49\"/>\r\n       <use x=\"63.623047\" xlink:href=\"#DejaVuSans-53\"/>\r\n       <use x=\"127.246094\" xlink:href=\"#DejaVuSans-48\"/>\r\n       <use x=\"190.869141\" xlink:href=\"#DejaVuSans-48\"/>\r\n      </g>\r\n     </g>\r\n    </g>\r\n    <g id=\"ytick_5\">\r\n     <g id=\"line2d_25\">\r\n      <g>\r\n       <use style=\"stroke:#000000;stroke-width:0.8;\" x=\"53.328125\" xlink:href=\"#md7887ce07d\" y=\"182.366387\"/>\r\n      </g>\r\n     </g>\r\n     <g id=\"text_26\">\r\n      <!-- 2000 -->\r\n      <defs>\r\n       <path d=\"M 19.1875 8.296875 \r\nL 53.609375 8.296875 \r\nL 53.609375 0 \r\nL 7.328125 0 \r\nL 7.328125 8.296875 \r\nQ 12.9375 14.109375 22.625 23.890625 \r\nQ 32.328125 33.6875 34.8125 36.53125 \r\nQ 39.546875 41.84375 41.421875 45.53125 \r\nQ 43.3125 49.21875 43.3125 52.78125 \r\nQ 43.3125 58.59375 39.234375 62.25 \r\nQ 35.15625 65.921875 28.609375 65.921875 \r\nQ 23.96875 65.921875 18.8125 64.3125 \r\nQ 13.671875 62.703125 7.8125 59.421875 \r\nL 7.8125 69.390625 \r\nQ 13.765625 71.78125 18.9375 73 \r\nQ 24.125 74.21875 28.421875 74.21875 \r\nQ 39.75 74.21875 46.484375 68.546875 \r\nQ 53.21875 62.890625 53.21875 53.421875 \r\nQ 53.21875 48.921875 51.53125 44.890625 \r\nQ 49.859375 40.875 45.40625 35.40625 \r\nQ 44.1875 33.984375 37.640625 27.21875 \r\nQ 31.109375 20.453125 19.1875 8.296875 \r\nz\r\n\" id=\"DejaVuSans-50\"/>\r\n      </defs>\r\n      <g transform=\"translate(20.878125 186.165606)scale(0.1 -0.1)\">\r\n       <use xlink:href=\"#DejaVuSans-50\"/>\r\n       <use x=\"63.623047\" xlink:href=\"#DejaVuSans-48\"/>\r\n       <use x=\"127.246094\" xlink:href=\"#DejaVuSans-48\"/>\r\n       <use x=\"190.869141\" xlink:href=\"#DejaVuSans-48\"/>\r\n      </g>\r\n     </g>\r\n    </g>\r\n    <g id=\"ytick_6\">\r\n     <g id=\"line2d_26\">\r\n      <g>\r\n       <use style=\"stroke:#000000;stroke-width:0.8;\" x=\"53.328125\" xlink:href=\"#md7887ce07d\" y=\"113.658453\"/>\r\n      </g>\r\n     </g>\r\n     <g id=\"text_27\">\r\n      <!-- 2500 -->\r\n      <g transform=\"translate(20.878125 117.457672)scale(0.1 -0.1)\">\r\n       <use xlink:href=\"#DejaVuSans-50\"/>\r\n       <use x=\"63.623047\" xlink:href=\"#DejaVuSans-53\"/>\r\n       <use x=\"127.246094\" xlink:href=\"#DejaVuSans-48\"/>\r\n       <use x=\"190.869141\" xlink:href=\"#DejaVuSans-48\"/>\r\n      </g>\r\n     </g>\r\n    </g>\r\n    <g id=\"ytick_7\">\r\n     <g id=\"line2d_27\">\r\n      <g>\r\n       <use style=\"stroke:#000000;stroke-width:0.8;\" x=\"53.328125\" xlink:href=\"#md7887ce07d\" y=\"44.950519\"/>\r\n      </g>\r\n     </g>\r\n     <g id=\"text_28\">\r\n      <!-- 3000 -->\r\n      <defs>\r\n       <path d=\"M 40.578125 39.3125 \r\nQ 47.65625 37.796875 51.625 33 \r\nQ 55.609375 28.21875 55.609375 21.1875 \r\nQ 55.609375 10.40625 48.1875 4.484375 \r\nQ 40.765625 -1.421875 27.09375 -1.421875 \r\nQ 22.515625 -1.421875 17.65625 -0.515625 \r\nQ 12.796875 0.390625 7.625 2.203125 \r\nL 7.625 11.71875 \r\nQ 11.71875 9.328125 16.59375 8.109375 \r\nQ 21.484375 6.890625 26.8125 6.890625 \r\nQ 36.078125 6.890625 40.9375 10.546875 \r\nQ 45.796875 14.203125 45.796875 21.1875 \r\nQ 45.796875 27.640625 41.28125 31.265625 \r\nQ 36.765625 34.90625 28.71875 34.90625 \r\nL 20.21875 34.90625 \r\nL 20.21875 43.015625 \r\nL 29.109375 43.015625 \r\nQ 36.375 43.015625 40.234375 45.921875 \r\nQ 44.09375 48.828125 44.09375 54.296875 \r\nQ 44.09375 59.90625 40.109375 62.90625 \r\nQ 36.140625 65.921875 28.71875 65.921875 \r\nQ 24.65625 65.921875 20.015625 65.03125 \r\nQ 15.375 64.15625 9.8125 62.3125 \r\nL 9.8125 71.09375 \r\nQ 15.4375 72.65625 20.34375 73.4375 \r\nQ 25.25 74.21875 29.59375 74.21875 \r\nQ 40.828125 74.21875 47.359375 69.109375 \r\nQ 53.90625 64.015625 53.90625 55.328125 \r\nQ 53.90625 49.265625 50.4375 45.09375 \r\nQ 46.96875 40.921875 40.578125 39.3125 \r\nz\r\n\" id=\"DejaVuSans-51\"/>\r\n      </defs>\r\n      <g transform=\"translate(20.878125 48.749737)scale(0.1 -0.1)\">\r\n       <use xlink:href=\"#DejaVuSans-51\"/>\r\n       <use x=\"63.623047\" xlink:href=\"#DejaVuSans-48\"/>\r\n       <use x=\"127.246094\" xlink:href=\"#DejaVuSans-48\"/>\r\n       <use x=\"190.869141\" xlink:href=\"#DejaVuSans-48\"/>\r\n      </g>\r\n     </g>\r\n    </g>\r\n    <g id=\"text_29\">\r\n     <!-- Count -->\r\n     <g transform=\"translate(14.798437 254.606562)rotate(-90)scale(0.1 -0.1)\">\r\n      <use xlink:href=\"#DejaVuSans-67\"/>\r\n      <use x=\"69.824219\" xlink:href=\"#DejaVuSans-111\"/>\r\n      <use x=\"131.005859\" xlink:href=\"#DejaVuSans-117\"/>\r\n      <use x=\"194.384766\" xlink:href=\"#DejaVuSans-110\"/>\r\n      <use x=\"257.763672\" xlink:href=\"#DejaVuSans-116\"/>\r\n     </g>\r\n    </g>\r\n   </g>\r\n   <g id=\"line2d_28\">\r\n    <path clip-path=\"url(#p3bcee815ed)\" d=\"M 0 0 \r\n\" style=\"fill:none;stroke:#424242;stroke-linecap:square;stroke-width:2.7;\"/>\r\n   </g>\r\n   <g id=\"line2d_29\">\r\n    <path clip-path=\"url(#p3bcee815ed)\" d=\"M 0 0 \r\n\" style=\"fill:none;stroke:#424242;stroke-linecap:square;stroke-width:2.7;\"/>\r\n   </g>\r\n   <g id=\"line2d_30\">\r\n    <path clip-path=\"url(#p3bcee815ed)\" d=\"M 0 0 \r\n\" style=\"fill:none;stroke:#424242;stroke-linecap:square;stroke-width:2.7;\"/>\r\n   </g>\r\n   <g id=\"line2d_31\">\r\n    <path clip-path=\"url(#p3bcee815ed)\" d=\"M 0 0 \r\n\" style=\"fill:none;stroke:#424242;stroke-linecap:square;stroke-width:2.7;\"/>\r\n   </g>\r\n   <g id=\"line2d_32\">\r\n    <path clip-path=\"url(#p3bcee815ed)\" d=\"M 0 0 \r\n\" style=\"fill:none;stroke:#424242;stroke-linecap:square;stroke-width:2.7;\"/>\r\n   </g>\r\n   <g id=\"line2d_33\">\r\n    <path clip-path=\"url(#p3bcee815ed)\" d=\"M 0 0 \r\n\" style=\"fill:none;stroke:#424242;stroke-linecap:square;stroke-width:2.7;\"/>\r\n   </g>\r\n   <g id=\"line2d_34\">\r\n    <path clip-path=\"url(#p3bcee815ed)\" d=\"M 0 0 \r\n\" style=\"fill:none;stroke:#424242;stroke-linecap:square;stroke-width:2.7;\"/>\r\n   </g>\r\n   <g id=\"line2d_35\">\r\n    <path clip-path=\"url(#p3bcee815ed)\" d=\"M 0 0 \r\n\" style=\"fill:none;stroke:#424242;stroke-linecap:square;stroke-width:2.7;\"/>\r\n   </g>\r\n   <g id=\"line2d_36\">\r\n    <path clip-path=\"url(#p3bcee815ed)\" d=\"M 0 0 \r\n\" style=\"fill:none;stroke:#424242;stroke-linecap:square;stroke-width:2.7;\"/>\r\n   </g>\r\n   <g id=\"line2d_37\">\r\n    <path clip-path=\"url(#p3bcee815ed)\" d=\"M 0 0 \r\n\" style=\"fill:none;stroke:#424242;stroke-linecap:square;stroke-width:2.7;\"/>\r\n   </g>\r\n   <g id=\"line2d_38\">\r\n    <path clip-path=\"url(#p3bcee815ed)\" d=\"M 0 0 \r\n\" style=\"fill:none;stroke:#424242;stroke-linecap:square;stroke-width:2.7;\"/>\r\n   </g>\r\n   <g id=\"line2d_39\">\r\n    <path clip-path=\"url(#p3bcee815ed)\" d=\"M 0 0 \r\n\" style=\"fill:none;stroke:#424242;stroke-linecap:square;stroke-width:2.7;\"/>\r\n   </g>\r\n   <g id=\"line2d_40\">\r\n    <path clip-path=\"url(#p3bcee815ed)\" d=\"M 0 0 \r\n\" style=\"fill:none;stroke:#424242;stroke-linecap:square;stroke-width:2.7;\"/>\r\n   </g>\r\n   <g id=\"line2d_41\">\r\n    <path clip-path=\"url(#p3bcee815ed)\" d=\"M 0 0 \r\n\" style=\"fill:none;stroke:#424242;stroke-linecap:square;stroke-width:2.7;\"/>\r\n   </g>\r\n   <g id=\"line2d_42\">\r\n    <path clip-path=\"url(#p3bcee815ed)\" d=\"M 0 0 \r\n\" style=\"fill:none;stroke:#424242;stroke-linecap:square;stroke-width:2.7;\"/>\r\n   </g>\r\n   <g id=\"line2d_43\">\r\n    <path clip-path=\"url(#p3bcee815ed)\" d=\"M 0 0 \r\n\" style=\"fill:none;stroke:#424242;stroke-linecap:square;stroke-width:2.7;\"/>\r\n   </g>\r\n   <g id=\"line2d_44\">\r\n    <path clip-path=\"url(#p3bcee815ed)\" d=\"M 0 0 \r\n\" style=\"fill:none;stroke:#424242;stroke-linecap:square;stroke-width:2.7;\"/>\r\n   </g>\r\n   <g id=\"line2d_45\">\r\n    <path clip-path=\"url(#p3bcee815ed)\" d=\"M 0 0 \r\n\" style=\"fill:none;stroke:#424242;stroke-linecap:square;stroke-width:2.7;\"/>\r\n   </g>\r\n   <g id=\"line2d_46\">\r\n    <path clip-path=\"url(#p3bcee815ed)\" d=\"M 0 0 \r\n\" style=\"fill:none;stroke:#424242;stroke-linecap:square;stroke-width:2.7;\"/>\r\n   </g>\r\n   <g id=\"line2d_47\">\r\n    <path clip-path=\"url(#p3bcee815ed)\" d=\"M 0 0 \r\n\" style=\"fill:none;stroke:#424242;stroke-linecap:square;stroke-width:2.7;\"/>\r\n   </g>\r\n   <g id=\"patch_23\">\r\n    <path d=\"M 53.328125 457.198125 \r\nL 53.328125 22.318125 \r\n\" style=\"fill:none;stroke:#000000;stroke-linecap:square;stroke-linejoin:miter;stroke-width:0.8;\"/>\r\n   </g>\r\n   <g id=\"patch_24\">\r\n    <path d=\"M 1169.328125 457.198125 \r\nL 1169.328125 22.318125 \r\n\" style=\"fill:none;stroke:#000000;stroke-linecap:square;stroke-linejoin:miter;stroke-width:0.8;\"/>\r\n   </g>\r\n   <g id=\"patch_25\">\r\n    <path d=\"M 53.328125 457.198125 \r\nL 1169.328125 457.198125 \r\n\" style=\"fill:none;stroke:#000000;stroke-linecap:square;stroke-linejoin:miter;stroke-width:0.8;\"/>\r\n   </g>\r\n   <g id=\"patch_26\">\r\n    <path d=\"M 53.328125 22.318125 \r\nL 1169.328125 22.318125 \r\n\" style=\"fill:none;stroke:#000000;stroke-linecap:square;stroke-linejoin:miter;stroke-width:0.8;\"/>\r\n   </g>\r\n   <g id=\"text_30\">\r\n    <!-- Top 20 Cuisine Regionality in Jakarta -->\r\n    <g transform=\"translate(500.800625 16.318125)scale(0.12 -0.12)\">\r\n     <use xlink:href=\"#DejaVuSans-84\"/>\r\n     <use x=\"60.818359\" xlink:href=\"#DejaVuSans-111\"/>\r\n     <use x=\"122\" xlink:href=\"#DejaVuSans-112\"/>\r\n     <use x=\"185.476562\" xlink:href=\"#DejaVuSans-32\"/>\r\n     <use x=\"217.263672\" xlink:href=\"#DejaVuSans-50\"/>\r\n     <use x=\"280.886719\" xlink:href=\"#DejaVuSans-48\"/>\r\n     <use x=\"344.509766\" xlink:href=\"#DejaVuSans-32\"/>\r\n     <use x=\"376.296875\" xlink:href=\"#DejaVuSans-67\"/>\r\n     <use x=\"446.121094\" xlink:href=\"#DejaVuSans-117\"/>\r\n     <use x=\"509.5\" xlink:href=\"#DejaVuSans-105\"/>\r\n     <use x=\"537.283203\" xlink:href=\"#DejaVuSans-115\"/>\r\n     <use x=\"589.382812\" xlink:href=\"#DejaVuSans-105\"/>\r\n     <use x=\"617.166016\" xlink:href=\"#DejaVuSans-110\"/>\r\n     <use x=\"680.544922\" xlink:href=\"#DejaVuSans-101\"/>\r\n     <use x=\"742.068359\" xlink:href=\"#DejaVuSans-32\"/>\r\n     <use x=\"773.855469\" xlink:href=\"#DejaVuSans-82\"/>\r\n     <use x=\"843.275391\" xlink:href=\"#DejaVuSans-101\"/>\r\n     <use x=\"904.798828\" xlink:href=\"#DejaVuSans-103\"/>\r\n     <use x=\"968.275391\" xlink:href=\"#DejaVuSans-105\"/>\r\n     <use x=\"996.058594\" xlink:href=\"#DejaVuSans-111\"/>\r\n     <use x=\"1057.240234\" xlink:href=\"#DejaVuSans-110\"/>\r\n     <use x=\"1120.619141\" xlink:href=\"#DejaVuSans-97\"/>\r\n     <use x=\"1181.898438\" xlink:href=\"#DejaVuSans-108\"/>\r\n     <use x=\"1209.681641\" xlink:href=\"#DejaVuSans-105\"/>\r\n     <use x=\"1237.464844\" xlink:href=\"#DejaVuSans-116\"/>\r\n     <use x=\"1276.673828\" xlink:href=\"#DejaVuSans-121\"/>\r\n     <use x=\"1335.853516\" xlink:href=\"#DejaVuSans-32\"/>\r\n     <use x=\"1367.640625\" xlink:href=\"#DejaVuSans-105\"/>\r\n     <use x=\"1395.423828\" xlink:href=\"#DejaVuSans-110\"/>\r\n     <use x=\"1458.802734\" xlink:href=\"#DejaVuSans-32\"/>\r\n     <use x=\"1490.589844\" xlink:href=\"#DejaVuSans-74\"/>\r\n     <use x=\"1520.082031\" xlink:href=\"#DejaVuSans-97\"/>\r\n     <use x=\"1581.361328\" xlink:href=\"#DejaVuSans-107\"/>\r\n     <use x=\"1639.255859\" xlink:href=\"#DejaVuSans-97\"/>\r\n     <use x=\"1700.535156\" xlink:href=\"#DejaVuSans-114\"/>\r\n     <use x=\"1741.648438\" xlink:href=\"#DejaVuSans-116\"/>\r\n     <use x=\"1780.857422\" xlink:href=\"#DejaVuSans-97\"/>\r\n    </g>\r\n   </g>\r\n  </g>\r\n </g>\r\n <defs>\r\n  <clipPath id=\"p3bcee815ed\">\r\n   <rect height=\"434.88\" width=\"1116\" x=\"53.328125\" y=\"22.318125\"/>\r\n  </clipPath>\r\n </defs>\r\n</svg>\r\n",
      "image/png": "[encoded data removed]"
     },
     "metadata": {
      "needs_background": "light"
     }
    }
   ],
   "source": [
    "rgn_not_unspecified = rgn_counts[1:56]\n",
    "rgn_not_unspecified_top20 = rgn_counts[1:21]\n",
    "\n",
    "plt.figure(figsize=(20,8))\n",
    "ax=sns.barplot(x=\"Cuisine Regionality\", y=\"Count\", data=rgn_not_unspecified_top20)\n",
    "ax.set_title('Top 20 Cuisine Regionality in Jakarta')\n",
    "plt.show()"
   ]
  },
  {
   "source": [
    "We'll deal with Unspecified Region later"
   ],
   "cell_type": "markdown",
   "metadata": {}
  },
  {
   "source": [
    "# 9.3 ADDING PLACE TYPES, CUISINES & CUISINE REGIONALITY BY OBSERVING RESTAURANT NAME"
   ],
   "cell_type": "markdown",
   "metadata": {}
  },
  {
   "source": [
    "### Idea to Fill The Place Type, Cuisine, Cuisine Regionality, based on Restaurant Name\n",
    "\n",
    "Because a lot of Restaurants in Indonesia use the cuisine name as it's restaurant name, example: Pizza Hut, Rumah Makan Bebek Kaleyo, Pempek Megaria, etc\n",
    "\n",
    "I think we can create a corpora (list of words) from Restaurant Name then identify the place type, cuisine, and cuisine regionality\n",
    "\n",
    "Of course, it won't work for 100% of them, but maybe we can fill 10-50% of them"
   ],
   "cell_type": "markdown",
   "metadata": {}
  },
  {
   "cell_type": "code",
   "execution_count": 115,
   "metadata": {},
   "outputs": [],
   "source": [
    "corpora = []\n",
    "\n",
    "for index, row in rdf.iterrows():\n",
    "    url = row['Website']\n",
    "    urlstrip = url[34:]\n",
    "    urlsplit = urlstrip.split(\"-\")\n",
    "    urlist = [letter for letter in urlsplit if len(letter) >= 3]\n",
    "    corpora.extend(urlist)\n",
    "\n",
    "corpora = list(set(corpora))"
   ]
  },
  {
   "cell_type": "code",
   "execution_count": 116,
   "metadata": {},
   "outputs": [
    {
     "output_type": "execute_result",
     "data": {
      "text/plain": "9360"
     },
     "metadata": {},
     "execution_count": 116
    }
   ],
   "source": [
    "len(corpora)"
   ]
  },
  {
   "cell_type": "code",
   "execution_count": 117,
   "metadata": {},
   "outputs": [],
   "source": [
    "#Make A New List to store the Corpora Counts\n",
    "\n",
    "corpora_counts = []\n",
    "\n",
    "for i in corpora:\n",
    "    corpora_counts.append(sum(rdf['Website'].str.contains(i)))\n",
    "\n",
    "#Convert the Lists into A DataFrame\n",
    "\n",
    "rdf_corpora_counts = pd.DataFrame({'Word': corpora, 'Count': corpora_counts})\n",
    "rdf_corpora_counts.sort_values(by='Count', ascending=False, inplace=True)\n",
    "rdf_corpora_counts.reset_index(drop=True, inplace=True)"
   ]
  },
  {
   "cell_type": "code",
   "execution_count": 118,
   "metadata": {},
   "outputs": [],
   "source": [
    "# rdf_corpora_counts.to_excel('Restaurant Name Corpora.xlsx', index = False)"
   ]
  },
  {
   "cell_type": "code",
   "execution_count": 119,
   "metadata": {},
   "outputs": [],
   "source": [
    "cafelist = ['cafe', 'café', 'kafe' , 'kaffe']\n",
    "loungelist = ['lounge']\n",
    "tokorotilist = ['bake', 'baker', 'bakery', 'cake', 'roti', 'ropang', 'bread', 'patisserie', 'cakes', 'pastry', 'crepe', 'donut', 'crepes', 'waffle', 'donuts', 'cakery', 'dough', 'bakes']\n",
    "\n",
    "rest_type_list = [cafelist,'Kafe'],[loungelist,'Lounge'],[tokorotilist,'Toko Kue & Roti']\n",
    "\n",
    "acehlist = ['aceh']\n",
    "asialist = ['asian', 'timur', 'bubur', 'seafood', 'ikan', 'kerang', 'kepiting', 'lobster', 'udang', 'seafoodbox']\n",
    "balilist = ['bali']\n",
    "bangkalist = ['bangka']\n",
    "baratlist = ['steak', 'roast', 'grill', 'burger', 'steakhouse', 'barbeque', 'pancakes', 'wakacao', 'smokes', 'burgerbar', 'burgerizo', 'barburger', 'besteak', 'burgerax', 'steakmate','steaking', 'holysteak', 'dansteak', 'dansteak', 'chipsteak', 'burgers']\n",
    "betawilist = ['betawi']\n",
    "chineselist = ['kwetiau','shabu','dimsum','chinese','tiaw','kwetiaw','orient','oriental', 'wonton', 'mandarin']\n",
    "eropalist = ['patisserie', 'swiss', 'waffle', 'churros']\n",
    "indialist = ['india', 'indian']\n",
    "indonesialist = ['nasi', 'soto', 'warung', 'baks', 'bakso', 'sate', 'martabak', 'geprek', 'gado', 'uduk', 'penyet', 'indo', 'baso', 'bogor', 'bandung', 'pecel', 'indonesia', 'siomay', 'kampung', 'nusantara', 'sambal', 'warunk', 'bakwan', 'sederhana', 'timbel', 'madura', 'kalasan', 'tegal', 'warkop', 'taliwang', 'rawon', 'ambengan', 'ketoprak', 'lele', 'maranggi', 'seblak', 'oemah', 'tongseng', 'cobek', 'indonesia', 'cabe', 'warteg', 'lontong', 'cendol', 'batagor', 'ronde', 'ketupat', 'rujak', 'gulai', 'surabi', 'ketan', 'cincau', 'bensu', 'pondok', 'mie', 'bakmi', 'duren', 'goreng', 'bakmie', 'emie', 'gurame', 'yamien', 'sotomie', 'miesop', 'ropangyuk', 'indomie']\n",
    "italilist = ['pasta', 'italia', 'italian']\n",
    "jawalist =  ['solo', 'malang', 'kudus', 'jawa', 'pawon', 'surabaya', 'jowo', 'semarang', 'angkringan', 'lamongan', 'suroboyo']\n",
    "jepanglist = ['sushi', 'ramen', 'jepang', 'tako', 'takoyaki', 'teppan', 'yakiniku', 'bento', 'hokkaido', 'teppanyaki', 'izakaya', 'katsu', 'mochi', 'sake', 'ichiban', 'momochi']\n",
    "kalimantanlist = ['pontianak', 'kalimantan']\n",
    "korealist = ['korea', 'korean']\n",
    "lomboklist = ['lombok']\n",
    "makassarlist = ['makassar', 'konro']\n",
    "manadolist = ['manado']\n",
    "medanlist = ['medan', 'siantar']\n",
    "padanglist = ['padang', 'minang']\n",
    "palembanglist = ['mpek', 'pempek', 'palembang']\n",
    "singapuralist = ['singapore']\n",
    "sumateralist = ['minang']\n",
    "sundalist = ['saung', 'sunda', 'cireng', 'cirengcrispi']\n",
    "thailist = ['thai']\n",
    "turkilist = ['kebab']\n",
    "yogyalist = ['jogja', 'gudeg']\n",
    "noregionlist = ['offee', 'coffe', 'coffee', 'kopi', 'tea', 'bake', 'baker', 'bakery', 'cafe', 'ngopi', 'kopita', 'kopitiam', 'cakes', 'pancake', 'cakery', 'bakes', 'dough', 'coffees', 'bakeshop', 'baked', 'kopikir', 'coffeeshop', 'bakerz', 'kopita', 'kopiloji', 'manatea', 'coffeeright', 'kopian', 'bakehouse', 'bakerzin', 'omnikopi', 'sadekopi', 'starcoffee', 'kopihay', 'kopikeladi', 'kopikina']"
   ]
  },
  {
   "cell_type": "code",
   "execution_count": 120,
   "metadata": {},
   "outputs": [],
   "source": [
    "region_type_list = [acehlist, 'Aceh'], [asialist, 'Asia'], [balilist, 'Bali'], [bangkalist, 'Bangka'], [baratlist, 'Barat'], [betawilist, 'Betawi'], [chineselist, 'Chinese'], [eropalist, 'Eropa'], [indialist, 'India'], [indonesialist, 'Indonesia'], [italilist, 'Itali'], [jawalist, 'Jawa'], [jepanglist, 'Jepang'], [kalimantanlist, 'Kalimantan'], [korealist, 'Korea'], [lomboklist, 'Lombok'], [makassarlist, 'Makassar'], [manadolist, 'Manado'], [medanlist, 'Medan'], [padanglist, 'Padang'], [palembanglist, 'Palembang'], [singapuralist, 'Singapura'], [sumateralist, 'Sumatera'], [sundalist, 'Sunda'], [thailist, 'Thai'], [turkilist, 'Turki'],[yogyalist,'Yogyakarta'], [noregionlist, 'No Region']"
   ]
  },
  {
   "cell_type": "code",
   "execution_count": 121,
   "metadata": {},
   "outputs": [],
   "source": [
    "ayamlist = ['ayam', 'chick', 'geprek', 'chicken', 'penyet', 'bensu', 'yam']\n",
    "mielist = ['mie', 'bakmi', 'bakmie', 'noodle', 'tiaw', 'kwetiaw', 'emie', 'yamien', 'lomie', 'sotomie', 'miesop', 'indomie', 'ifumie']\n",
    "baksolist = ['baks', 'bakso', 'baso']\n",
    "bbqlist = ['bbq', 'barbeque']\n",
    "bebeklist = ['bebek']\n",
    "bubbletealist = ['boba']\n",
    "buburlist = ['bubur']\n",
    "delilist = ['deli']\n",
    "dessertslist = ['dessert']\n",
    "dimsumlist = ['dimsum']\n",
    "gudeglist = ['gudeg']\n",
    "icelist = ['gelato', 'cream']\n",
    "kebablist = ['kebab']\n",
    "kopilist = ['coffee', 'kopi', 'koffie', 'ngopi', 'kopitia', 'kopitiam', 'caffeine', 'offee', 'coffe']\n",
    "kuelist = ['bake', 'baker', 'bakery', 'cake', 'roti', 'ropang', 'bread', 'patisserie', 'cakes', 'pastry', 'crepe', 'donut', 'crepes', 'waffle', 'donuts', 'cakery', 'dough', 'bakes', 'ropangyul']\n",
    "fastfoodlist = ['burger', 'burgerbar', 'burgerizo', 'barburger', 'burgerax', 'burgers']\n",
    "healthlist = ['sup', 'vege', 'vegetarian', 'salad', 'fruit', 'sayur', 'sop', 'gado']\n",
    "martabaklist = ['martabak']\n",
    "meatlist = ['sapi', 'kambing', 'meat', 'babi', 'tongseng', 'pork', 'daging', 'gulai']\n",
    "drinklist = ['juice', 'drink', 'café', 'kafe', 'beer', 'susu', 'latte', 'minum', 'drinks', 'cendol', 'ronde', 'kaffe', 'sake', 'cincau', 'coffee', 'kopi', 'boba', 'ngopi', 'kopitia', 'caffeine', 'offee', 'coffe']\n",
    "pempeklist = ['mpek', 'pempek']\n",
    "pizzalist = ['pizza']\n",
    "ramenlist = ['ramen']\n",
    "sataylist = ['sate', 'taichan', 'maranggi', 'satay']\n",
    "seafoodlist = ['seafood', 'ikan', 'fish', 'kepiting', 'kerang', 'lele', 'gurame', 'udang', 'lobster']\n",
    "snackslist = ['siomay', 'tako', 'bakwan', 'takoyaki', 'ketoprak', 'lontong', 'batagor', 'snack', 'churros', 'rujak', 'jajan', 'surabi', 'mendoan', 'ketan', 'cireng', 'cirengcris']\n",
    "sotolist = ['soto']\n",
    "steaklist = ['steak', 'steakhouse']\n",
    "sushilist = ['sushi']\n",
    "tealist = ['tea','teh']\n",
    "\n",
    "\n",
    "csne_type_list = [ayamlist, 'Ayam'], [mielist, 'Bakmi'], [baksolist, 'Bakso'], [bbqlist, 'Barbekyu'], [bebeklist, 'Bebek'], [bubbletealist, 'Bubble Tea'], [buburlist, 'Bubur'], [delilist, 'Deli'], [dessertslist, 'Desserts'], [dimsumlist, 'Dimsum'], [gudeglist, 'Gudeg'], [icelist, 'Ice Cream'], [kebablist, 'Kebab'], [kopilist, 'Kopi'], [kuelist, 'Kue & Roti'], [fastfoodlist, 'Makanan Cepat Saji'], [healthlist, 'Makanan Sehat'], [martabaklist, 'Martabak'], [meatlist, 'Meat'], [drinklist, 'Minuman'], [pempeklist, 'Pempek'], [pizzalist, 'Pizza'], [ramenlist, 'Ramen'], [sataylist, 'Satay'], [seafoodlist, 'Seafood'], [snackslist, 'Snacks'], [sotolist, 'Soto'], [steaklist, 'Steak'], [sushilist, 'Sushi'], [tealist, 'Tea']"
   ]
  },
  {
   "cell_type": "code",
   "execution_count": 122,
   "metadata": {
    "tags": []
   },
   "outputs": [
    {
     "output_type": "stream",
     "name": "stdout",
     "text": "Unspecified Cuisine \n\n4831\n"
    }
   ],
   "source": [
    "# Let's check previous counts of Unspecified\n",
    "\n",
    "print('Unspecified Cuisine \\n')\n",
    "unspec_csne_0 = sum(rdf['Cuisines'].apply(lambda x: 'Unspecified Cuisine' in x))\n",
    "print(unspec_csne_0)"
   ]
  },
  {
   "cell_type": "code",
   "execution_count": 123,
   "metadata": {
    "tags": []
   },
   "outputs": [
    {
     "output_type": "stream",
     "name": "stdout",
     "text": "Unspecified Regionality \n\n3938\n"
    }
   ],
   "source": [
    "# Let's check previous counts of Unspecified\n",
    "\n",
    "print('Unspecified Regionality \\n')\n",
    "unspec_rgn_0 = sum(rdf['Cuisine Regionality'].apply(lambda x: 'Unspecified Region' in x))\n",
    "print(unspec_rgn_0)"
   ]
  },
  {
   "cell_type": "code",
   "execution_count": 124,
   "metadata": {},
   "outputs": [],
   "source": [
    "#1\n",
    "index_list_rest = []\n",
    "\n",
    "for index, row in rdf.iterrows():\n",
    "    a = row['Restaurant Name']\n",
    "    a = a.lower()\n",
    "\n",
    "    for i in range(0,3):\n",
    "        for j in rest_type_list[i][0]:\n",
    "            if j in a:\n",
    "                index_list_rest.append(index)\n",
    "    \n",
    "index_list_rest = list(set(index_list_rest))\n",
    "index_list_rest.sort()\n",
    "\n",
    "\n",
    "#2\n",
    "index_list_region = []\n",
    "\n",
    "for index, row in rdf.iterrows():\n",
    "    a = row['Restaurant Name']\n",
    "    a = a.lower()\n",
    "\n",
    "    for i in range(0,26):\n",
    "        for j in region_type_list[i][0]:\n",
    "            if j in a:\n",
    "                index_list_region.append(index)\n",
    "    \n",
    "index_list_region = list(set(index_list_region))\n",
    "index_list_region.sort()\n",
    "\n",
    "#3\n",
    "index_list_csne = []\n",
    "\n",
    "for index, row in rdf.iterrows():\n",
    "    a = row['Restaurant Name']\n",
    "    a = a.lower()\n",
    "\n",
    "    for i in range(0,30):\n",
    "        for j in csne_type_list[i][0]:\n",
    "            if j in a:\n",
    "                index_list_csne.append(index)\n",
    "    \n",
    "index_list_csne = list(set(index_list_csne))\n",
    "index_list_csne.sort()"
   ]
  },
  {
   "cell_type": "code",
   "execution_count": 125,
   "metadata": {},
   "outputs": [],
   "source": [
    "def corpus_extender_rest(row): \n",
    "    a = row['Website']\n",
    "    a = a[34:]\n",
    "    b = row['Place Type'] #this input has to be a list\n",
    "    new_list = []\n",
    "\n",
    "    for i in range(0,3):\n",
    "        for j in rest_type_list[i][0]:\n",
    "            if j in a:\n",
    "                new_list.append(rest_type_list[i][1])\n",
    "\n",
    "    new_list = list(set(new_list))\n",
    "    b = list(b)\n",
    "    b.extend(new_list)\n",
    "    b = list(set(b))\n",
    "\n",
    "    return b\n",
    "\n",
    "def corpus_extender_region(row): \n",
    "    a = row['Website']\n",
    "    a = a[34:]\n",
    "    b = row['Cuisine Regionality']\n",
    "    new_list = []\n",
    "\n",
    "    for i in range(0,28):\n",
    "        for j in region_type_list[i][0]:\n",
    "            if j in a:\n",
    "                new_list.append(region_type_list[i][1])\n",
    "\n",
    "    new_list = list(set(new_list))\n",
    "    b.extend(new_list)\n",
    "    b = list(set(b))\n",
    "\n",
    "    if ('Unspecified Region' in b):\n",
    "        b.remove(\"Unspecified Region\")\n",
    "    else:\n",
    "        b\n",
    "\n",
    "    if (len(b) ==0):\n",
    "        b.append(\"Unspecified Region\")\n",
    "    else:\n",
    "        b\n",
    "\n",
    "    return b\n",
    "\n",
    "def corpus_extender_csne(row): \n",
    "    a = row['Website']\n",
    "    a = a[34:]\n",
    "    b = row['Cuisines']\n",
    "    new_list = []\n",
    "\n",
    "    for i in range(0,30):\n",
    "        for j in csne_type_list[i][0]:\n",
    "            if j in a:\n",
    "                new_list.append(csne_type_list[i][1])\n",
    "\n",
    "    new_list = list(set(new_list))\n",
    "    b.extend(new_list)\n",
    "    b = list(set(b))\n",
    "\n",
    "    if ('Unspecified Cuisine' in b):\n",
    "        b.remove(\"Unspecified Cuisine\")\n",
    "    else:\n",
    "        b\n",
    "\n",
    "    if (len(b) == 0):\n",
    "        b.append(\"Unspecified Cuisine\")\n",
    "    else:\n",
    "        b\n",
    "\n",
    "    return b\n"
   ]
  },
  {
   "cell_type": "code",
   "execution_count": 126,
   "metadata": {},
   "outputs": [],
   "source": [
    "def convert_list(row, name): \n",
    "    stripped = row[name].strip(\"[]\")\n",
    "    splitted = list(stripped.split(\", \"))\n",
    "    final = [letter.strip(\"'\") for letter in splitted]\n",
    "    return final"
   ]
  },
  {
   "cell_type": "code",
   "execution_count": 127,
   "metadata": {},
   "outputs": [
    {
     "output_type": "execute_result",
     "data": {
      "text/plain": "     Restaurant Name Restaurant Area  Restaurant Rating  Review Counts  \\\n0        Holy Smokes        Senopati                4.4           1437   \n1     Pempek Megaria          Cikini                4.3            461   \n2      Tjikinii Lima          Cikini                4.0            391   \n3  Gado-Gado Bon-Bin          Cikini                4.0            177   \n4      Koffie Fictie  Bekasi Selatan                1.5              1   \n\n   Latitude   Longitude                                            Website  \\\n0 -6.239143  106.807954  https://www.zomato.com/id/jakarta/holy-smokes-...   \n1 -6.199900  106.843739  https://www.zomato.com/id/jakarta/pempek-megar...   \n2 -6.189802  106.837150  https://www.zomato.com/id/jakarta/tjikinii-lim...   \n3 -6.192959  106.838377  https://www.zomato.com/id/jakarta/gado-gado-bo...   \n4 -6.272059  106.970932  https://www.zomato.com/id/jakarta/koffie-ficti...   \n\n                                  Restaurant Address  Price for 2  \\\n0    Jl. Wolter Monginsidi No. 27, Senopati, Jakarta       500000   \n1  Metropole 21, Jl. Pegangsaan Timur No. 21, Cik...        70000   \n2          Jl. Cikini I No. 5, Cikini, Jakarta 10330       300000   \n3                Jl. Cikini 4 No. 5, Cikini, Jakarta        90000   \n4  Grand Galaxy Park, Ruko RSOD No. 026, Jl. Lotu...       100000   \n\n                                     Additional Info     Province  \\\n0  [Di dalam ruangan, Hanya Wine dan Bir, Parkir ...  DKI Jakarta   \n1           [Bawa Pulang Tersedia, Di dalam ruangan]  DKI Jakarta   \n2  [Ruang Pribadi Tersedia, Tempat duduk di luar,...  DKI Jakarta   \n3           [Bawa Pulang Tersedia, Di dalam ruangan]  DKI Jakarta   \n4           [Bawa Pulang Tersedia, Di dalam ruangan]   Jawa Barat   \n\n              City District/Kecamatan                                Types  \\\n0  Jakarta Selatan     Kebayoran Baru  [Grill House, Steak, Casual Dining]   \n1    Jakarta Pusat            Menteng             [Palembang, Quick Bites]   \n2    Jakarta Pusat            Menteng    [Casual Dining, Indonesia, Barat]   \n3    Jakarta Pusat            Menteng                  [Jawa, Quick Bites]   \n4      Bekasi Kota     Bekasi Selatan                         [Kopi, Kafe]   \n\n        Place Type               Cuisines   Cuisine Regionality  \\\n0  [Casual Dining]   [Grill House, Steak]  [Unspecified Region]   \n1    [Quick Bites]  [Unspecified Cuisine]           [Palembang]   \n2  [Casual Dining]  [Unspecified Cuisine]    [Barat, Indonesia]   \n3    [Quick Bites]  [Unspecified Cuisine]                [Jawa]   \n4           [Kafe]                 [Kopi]  [Unspecified Region]   \n\n  Delivery Service  \n0               No  \n1               No  \n2               No  \n3               No  \n4               No  ",
      "text/html": "<div>\n<style scoped>\n    .dataframe tbody tr th:only-of-type {\n        vertical-align: middle;\n    }\n\n    .dataframe tbody tr th {\n        vertical-align: top;\n    }\n\n    .dataframe thead th {\n        text-align: right;\n    }\n</style>\n<table border=\"1\" class=\"dataframe\">\n  <thead>\n    <tr style=\"text-align: right;\">\n      <th></th>\n      <th>Restaurant Name</th>\n      <th>Restaurant Area</th>\n      <th>Restaurant Rating</th>\n      <th>Review Counts</th>\n      <th>Latitude</th>\n      <th>Longitude</th>\n      <th>Website</th>\n      <th>Restaurant Address</th>\n      <th>Price for 2</th>\n      <th>Additional Info</th>\n      <th>Province</th>\n      <th>City</th>\n      <th>District/Kecamatan</th>\n      <th>Types</th>\n      <th>Place Type</th>\n      <th>Cuisines</th>\n      <th>Cuisine Regionality</th>\n      <th>Delivery Service</th>\n    </tr>\n  </thead>\n  <tbody>\n    <tr>\n      <th>0</th>\n      <td>Holy Smokes</td>\n      <td>Senopati</td>\n      <td>4.4</td>\n      <td>1437</td>\n      <td>-6.239143</td>\n      <td>106.807954</td>\n      <td>https://www.zomato.com/id/jakarta/holy-smokes-...</td>\n      <td>Jl. Wolter Monginsidi No. 27, Senopati, Jakarta</td>\n      <td>500000</td>\n      <td>[Di dalam ruangan, Hanya Wine dan Bir, Parkir ...</td>\n      <td>DKI Jakarta</td>\n      <td>Jakarta Selatan</td>\n      <td>Kebayoran Baru</td>\n      <td>[Grill House, Steak, Casual Dining]</td>\n      <td>[Casual Dining]</td>\n      <td>[Grill House, Steak]</td>\n      <td>[Unspecified Region]</td>\n      <td>No</td>\n    </tr>\n    <tr>\n      <th>1</th>\n      <td>Pempek Megaria</td>\n      <td>Cikini</td>\n      <td>4.3</td>\n      <td>461</td>\n      <td>-6.199900</td>\n      <td>106.843739</td>\n      <td>https://www.zomato.com/id/jakarta/pempek-megar...</td>\n      <td>Metropole 21, Jl. Pegangsaan Timur No. 21, Cik...</td>\n      <td>70000</td>\n      <td>[Bawa Pulang Tersedia, Di dalam ruangan]</td>\n      <td>DKI Jakarta</td>\n      <td>Jakarta Pusat</td>\n      <td>Menteng</td>\n      <td>[Palembang, Quick Bites]</td>\n      <td>[Quick Bites]</td>\n      <td>[Unspecified Cuisine]</td>\n      <td>[Palembang]</td>\n      <td>No</td>\n    </tr>\n    <tr>\n      <th>2</th>\n      <td>Tjikinii Lima</td>\n      <td>Cikini</td>\n      <td>4.0</td>\n      <td>391</td>\n      <td>-6.189802</td>\n      <td>106.837150</td>\n      <td>https://www.zomato.com/id/jakarta/tjikinii-lim...</td>\n      <td>Jl. Cikini I No. 5, Cikini, Jakarta 10330</td>\n      <td>300000</td>\n      <td>[Ruang Pribadi Tersedia, Tempat duduk di luar,...</td>\n      <td>DKI Jakarta</td>\n      <td>Jakarta Pusat</td>\n      <td>Menteng</td>\n      <td>[Casual Dining, Indonesia, Barat]</td>\n      <td>[Casual Dining]</td>\n      <td>[Unspecified Cuisine]</td>\n      <td>[Barat, Indonesia]</td>\n      <td>No</td>\n    </tr>\n    <tr>\n      <th>3</th>\n      <td>Gado-Gado Bon-Bin</td>\n      <td>Cikini</td>\n      <td>4.0</td>\n      <td>177</td>\n      <td>-6.192959</td>\n      <td>106.838377</td>\n      <td>https://www.zomato.com/id/jakarta/gado-gado-bo...</td>\n      <td>Jl. Cikini 4 No. 5, Cikini, Jakarta</td>\n      <td>90000</td>\n      <td>[Bawa Pulang Tersedia, Di dalam ruangan]</td>\n      <td>DKI Jakarta</td>\n      <td>Jakarta Pusat</td>\n      <td>Menteng</td>\n      <td>[Jawa, Quick Bites]</td>\n      <td>[Quick Bites]</td>\n      <td>[Unspecified Cuisine]</td>\n      <td>[Jawa]</td>\n      <td>No</td>\n    </tr>\n    <tr>\n      <th>4</th>\n      <td>Koffie Fictie</td>\n      <td>Bekasi Selatan</td>\n      <td>1.5</td>\n      <td>1</td>\n      <td>-6.272059</td>\n      <td>106.970932</td>\n      <td>https://www.zomato.com/id/jakarta/koffie-ficti...</td>\n      <td>Grand Galaxy Park, Ruko RSOD No. 026, Jl. Lotu...</td>\n      <td>100000</td>\n      <td>[Bawa Pulang Tersedia, Di dalam ruangan]</td>\n      <td>Jawa Barat</td>\n      <td>Bekasi Kota</td>\n      <td>Bekasi Selatan</td>\n      <td>[Kopi, Kafe]</td>\n      <td>[Kafe]</td>\n      <td>[Kopi]</td>\n      <td>[Unspecified Region]</td>\n      <td>No</td>\n    </tr>\n  </tbody>\n</table>\n</div>"
     },
     "metadata": {},
     "execution_count": 127
    }
   ],
   "source": [
    "rdf.head()"
   ]
  },
  {
   "cell_type": "code",
   "execution_count": 128,
   "metadata": {},
   "outputs": [],
   "source": [
    "rdf['NEW Place Type'] = rdf.apply(lambda row: corpus_extender_rest(row), axis=1)"
   ]
  },
  {
   "cell_type": "code",
   "execution_count": 129,
   "metadata": {},
   "outputs": [
    {
     "output_type": "execute_result",
     "data": {
      "text/plain": "               Restaurant Name     Restaurant Area  Restaurant Rating  \\\n42     MAJAME Street Food Cafe         Pondok Aren                1.5   \n70                    Ini Cafe         Bogor Utara                1.5   \n86                 Ropang City              Grogol                1.5   \n114              I Love Crepes      Bekasi Selatan                1.5   \n136         Wins Cafe & Bistro            Cipayung                1.5   \n...                        ...                 ...                ...   \n11191         Darlington Bakes  Pantai Indah Kapuk                1.5   \n11203             Tim's Donuts          Puri Indah                0.0   \n11215              Hanna Bakes       Kelapa Gading                0.0   \n11246                Sono Cafe             Ciledug                0.0   \n11248               Bneka Cafe            Pamulang                0.0   \n\n       Review Counts  Latitude   Longitude  \\\n42                 1 -6.279124  106.710516   \n70                 1 -6.584087  106.817524   \n86                 1 -6.164295  106.794179   \n114                1 -6.254589  106.989819   \n136                1 -6.332734  106.891386   \n...              ...       ...         ...   \n11191              1 -6.112486  106.747026   \n11203              0 -6.186249  106.739559   \n11215              0 -6.168502  106.915511   \n11246              0 -6.227696  106.716328   \n11248              0 -6.336307  106.749425   \n\n                                                 Website  \\\n42     https://www.zomato.com/id/jakarta/majame-stree...   \n70     https://www.zomato.com/id/jakarta/ini-cafe-bog...   \n86     https://www.zomato.com/id/jakarta/ropang-city-...   \n114    https://www.zomato.com/id/jakarta/i-love-crepe...   \n136    https://www.zomato.com/id/jakarta/wins-cafe-bi...   \n...                                                  ...   \n11191  https://www.zomato.com/id/jakarta/darlington-b...   \n11203  https://www.zomato.com/id/jakarta/tims-donuts-...   \n11215  https://www.zomato.com/id/jakarta/hanna-bakes-...   \n11246  https://www.zomato.com/id/jakarta/sono-cafe-ci...   \n11248  https://www.zomato.com/id/jakarta/bneka-cafe-p...   \n\n                                      Restaurant Address  Price for 2  \\\n42     Jl. Kasuari Raya Blok HB 2 No. 19B, Pondok Are...       100000   \n70             Jl. Pandu Raya No. 47, Bogor Utara, Bogor       100000   \n86             Jl. Dr. Muwardi I No. 37, Grogol, Jakarta        80000   \n114    Revo Town, Lantai Lower Ground, Jl. Jend. Ahma...        50000   \n136    Ruko Green View, Blok A No. 4-5, Jl. Cipayung ...       120000   \n...                                                  ...          ...   \n11191  Ruko Exclusive, Blok A No.15, Jl. Marina Raya ...        75000   \n11203  Hypermart Puri Indah, Jl. Puri Indah Raya, Pur...        60000   \n11215  Jl. Pegangsaan Indah Bar. No.7, RT.2/RW.16, Pe...            0   \n11246           Jl. HOS Cokroaminoto, Ciledug, Tangerang       100000   \n11248    Jl. RE Martadinata No. 105, Pamulang, Tangerang       120000   \n\n                                         Additional Info     Province  \\\n42              [Bawa Pulang Tersedia, Di dalam ruangan]       Banten   \n70     [Tempat duduk di luar, Di dalam ruangan, Ruang...   Jawa Barat   \n86          [Bawa Pulang Tersedia, Tempat duduk di luar]  DKI Jakarta   \n114                                  [Hanya Bawa Pulang]   Jawa Barat   \n136    [Di dalam ruangan, Ruang Sholat, Reservasi mej...  DKI Jakarta   \n...                                                  ...          ...   \n11191  [Desserts and Bakes, Tempat duduk di luar, Di ...  DKI Jakarta   \n11203  [Bawa Pulang Tersedia, Desserts and Bakes, Di ...  DKI Jakarta   \n11215                               [No Additional Info]  DKI Jakarta   \n11246           [Bawa Pulang Tersedia, Di dalam ruangan]       Banten   \n11248           [Bawa Pulang Tersedia, Di dalam ruangan]       Banten   \n\n                    City District/Kecamatan  \\\n42     Tangerang Selatan        Pondok Aren   \n70            Bogor Kota        Bogor Utara   \n86         Jakarta Barat  Grogol Petamburan   \n114          Bekasi Kota     Bekasi Selatan   \n136        Jakarta Timur           Cipayung   \n...                  ...                ...   \n11191      Jakarta Utara        Penjaringan   \n11203      Jakarta Barat          Kembangan   \n11215      Jakarta Utara      Kelapa Gading   \n11246     Tangerang Kota            Ciledug   \n11248  Tangerang Selatan            Ciputat   \n\n                                          Types         Place Type  \\\n42                     [Quick Bites, Indonesia]      [Quick Bites]   \n70           [Amerika, Jepang, Indonesia, Kafe]             [Kafe]   \n86                 [Kaki Lima, Makanan Jalanan]        [Kaki Lima]   \n114                    [Kios, Desserts, Snacks]             [Kios]   \n136    [Kopi, Casual Dining, Fusion, Indonesia]    [Casual Dining]   \n...                                         ...                ...   \n11191   [Toko Kue & Roti, Desserts, Kue & Roti]  [Toko Kue & Roti]   \n11203             [Toko Kue & Roti, Kue & Roti]  [Toko Kue & Roti]   \n11215   [Toko Kue & Roti, Desserts, Kue & Roti]  [Toko Kue & Roti]   \n11246              [Snacks, Quick Bites, Barat]      [Quick Bites]   \n11248        [Snacks, Kopi, Quick Bites, Barat]      [Quick Bites]   \n\n                     Cuisines           Cuisine Regionality Delivery Service  \\\n42      [Unspecified Cuisine]                   [Indonesia]               No   \n70      [Unspecified Cuisine]  [Amerika, Indonesia, Jepang]               No   \n86          [Makanan Jalanan]          [Unspecified Region]               No   \n114        [Desserts, Snacks]          [Unspecified Region]               No   \n136                    [Kopi]           [Fusion, Indonesia]              Yes   \n...                       ...                           ...              ...   \n11191  [Desserts, Kue & Roti]          [Unspecified Region]               No   \n11203            [Kue & Roti]          [Unspecified Region]               No   \n11215  [Desserts, Kue & Roti]          [Unspecified Region]               No   \n11246                [Snacks]                       [Barat]               No   \n11248          [Kopi, Snacks]                       [Barat]               No   \n\n                     NEW Place Type  \n42              [Quick Bites, Kafe]  \n70                           [Kafe]  \n86     [Toko Kue & Roti, Kaki Lima]  \n114         [Toko Kue & Roti, Kios]  \n136           [Casual Dining, Kafe]  \n...                             ...  \n11191             [Toko Kue & Roti]  \n11203             [Toko Kue & Roti]  \n11215             [Toko Kue & Roti]  \n11246           [Quick Bites, Kafe]  \n11248           [Quick Bites, Kafe]  \n\n[1006 rows x 19 columns]",
      "text/html": "<div>\n<style scoped>\n    .dataframe tbody tr th:only-of-type {\n        vertical-align: middle;\n    }\n\n    .dataframe tbody tr th {\n        vertical-align: top;\n    }\n\n    .dataframe thead th {\n        text-align: right;\n    }\n</style>\n<table border=\"1\" class=\"dataframe\">\n  <thead>\n    <tr style=\"text-align: right;\">\n      <th></th>\n      <th>Restaurant Name</th>\n      <th>Restaurant Area</th>\n      <th>Restaurant Rating</th>\n      <th>Review Counts</th>\n      <th>Latitude</th>\n      <th>Longitude</th>\n      <th>Website</th>\n      <th>Restaurant Address</th>\n      <th>Price for 2</th>\n      <th>Additional Info</th>\n      <th>Province</th>\n      <th>City</th>\n      <th>District/Kecamatan</th>\n      <th>Types</th>\n      <th>Place Type</th>\n      <th>Cuisines</th>\n      <th>Cuisine Regionality</th>\n      <th>Delivery Service</th>\n      <th>NEW Place Type</th>\n    </tr>\n  </thead>\n  <tbody>\n    <tr>\n      <th>42</th>\n      <td>MAJAME Street Food Cafe</td>\n      <td>Pondok Aren</td>\n      <td>1.5</td>\n      <td>1</td>\n      <td>-6.279124</td>\n      <td>106.710516</td>\n      <td>https://www.zomato.com/id/jakarta/majame-stree...</td>\n      <td>Jl. Kasuari Raya Blok HB 2 No. 19B, Pondok Are...</td>\n      <td>100000</td>\n      <td>[Bawa Pulang Tersedia, Di dalam ruangan]</td>\n      <td>Banten</td>\n      <td>Tangerang Selatan</td>\n      <td>Pondok Aren</td>\n      <td>[Quick Bites, Indonesia]</td>\n      <td>[Quick Bites]</td>\n      <td>[Unspecified Cuisine]</td>\n      <td>[Indonesia]</td>\n      <td>No</td>\n      <td>[Quick Bites, Kafe]</td>\n    </tr>\n    <tr>\n      <th>70</th>\n      <td>Ini Cafe</td>\n      <td>Bogor Utara</td>\n      <td>1.5</td>\n      <td>1</td>\n      <td>-6.584087</td>\n      <td>106.817524</td>\n      <td>https://www.zomato.com/id/jakarta/ini-cafe-bog...</td>\n      <td>Jl. Pandu Raya No. 47, Bogor Utara, Bogor</td>\n      <td>100000</td>\n      <td>[Tempat duduk di luar, Di dalam ruangan, Ruang...</td>\n      <td>Jawa Barat</td>\n      <td>Bogor Kota</td>\n      <td>Bogor Utara</td>\n      <td>[Amerika, Jepang, Indonesia, Kafe]</td>\n      <td>[Kafe]</td>\n      <td>[Unspecified Cuisine]</td>\n      <td>[Amerika, Indonesia, Jepang]</td>\n      <td>No</td>\n      <td>[Kafe]</td>\n    </tr>\n    <tr>\n      <th>86</th>\n      <td>Ropang City</td>\n      <td>Grogol</td>\n      <td>1.5</td>\n      <td>1</td>\n      <td>-6.164295</td>\n      <td>106.794179</td>\n      <td>https://www.zomato.com/id/jakarta/ropang-city-...</td>\n      <td>Jl. Dr. Muwardi I No. 37, Grogol, Jakarta</td>\n      <td>80000</td>\n      <td>[Bawa Pulang Tersedia, Tempat duduk di luar]</td>\n      <td>DKI Jakarta</td>\n      <td>Jakarta Barat</td>\n      <td>Grogol Petamburan</td>\n      <td>[Kaki Lima, Makanan Jalanan]</td>\n      <td>[Kaki Lima]</td>\n      <td>[Makanan Jalanan]</td>\n      <td>[Unspecified Region]</td>\n      <td>No</td>\n      <td>[Toko Kue &amp; Roti, Kaki Lima]</td>\n    </tr>\n    <tr>\n      <th>114</th>\n      <td>I Love Crepes</td>\n      <td>Bekasi Selatan</td>\n      <td>1.5</td>\n      <td>1</td>\n      <td>-6.254589</td>\n      <td>106.989819</td>\n      <td>https://www.zomato.com/id/jakarta/i-love-crepe...</td>\n      <td>Revo Town, Lantai Lower Ground, Jl. Jend. Ahma...</td>\n      <td>50000</td>\n      <td>[Hanya Bawa Pulang]</td>\n      <td>Jawa Barat</td>\n      <td>Bekasi Kota</td>\n      <td>Bekasi Selatan</td>\n      <td>[Kios, Desserts, Snacks]</td>\n      <td>[Kios]</td>\n      <td>[Desserts, Snacks]</td>\n      <td>[Unspecified Region]</td>\n      <td>No</td>\n      <td>[Toko Kue &amp; Roti, Kios]</td>\n    </tr>\n    <tr>\n      <th>136</th>\n      <td>Wins Cafe &amp; Bistro</td>\n      <td>Cipayung</td>\n      <td>1.5</td>\n      <td>1</td>\n      <td>-6.332734</td>\n      <td>106.891386</td>\n      <td>https://www.zomato.com/id/jakarta/wins-cafe-bi...</td>\n      <td>Ruko Green View, Blok A No. 4-5, Jl. Cipayung ...</td>\n      <td>120000</td>\n      <td>[Di dalam ruangan, Ruang Sholat, Reservasi mej...</td>\n      <td>DKI Jakarta</td>\n      <td>Jakarta Timur</td>\n      <td>Cipayung</td>\n      <td>[Kopi, Casual Dining, Fusion, Indonesia]</td>\n      <td>[Casual Dining]</td>\n      <td>[Kopi]</td>\n      <td>[Fusion, Indonesia]</td>\n      <td>Yes</td>\n      <td>[Casual Dining, Kafe]</td>\n    </tr>\n    <tr>\n      <th>...</th>\n      <td>...</td>\n      <td>...</td>\n      <td>...</td>\n      <td>...</td>\n      <td>...</td>\n      <td>...</td>\n      <td>...</td>\n      <td>...</td>\n      <td>...</td>\n      <td>...</td>\n      <td>...</td>\n      <td>...</td>\n      <td>...</td>\n      <td>...</td>\n      <td>...</td>\n      <td>...</td>\n      <td>...</td>\n      <td>...</td>\n      <td>...</td>\n    </tr>\n    <tr>\n      <th>11191</th>\n      <td>Darlington Bakes</td>\n      <td>Pantai Indah Kapuk</td>\n      <td>1.5</td>\n      <td>1</td>\n      <td>-6.112486</td>\n      <td>106.747026</td>\n      <td>https://www.zomato.com/id/jakarta/darlington-b...</td>\n      <td>Ruko Exclusive, Blok A No.15, Jl. Marina Raya ...</td>\n      <td>75000</td>\n      <td>[Desserts and Bakes, Tempat duduk di luar, Di ...</td>\n      <td>DKI Jakarta</td>\n      <td>Jakarta Utara</td>\n      <td>Penjaringan</td>\n      <td>[Toko Kue &amp; Roti, Desserts, Kue &amp; Roti]</td>\n      <td>[Toko Kue &amp; Roti]</td>\n      <td>[Desserts, Kue &amp; Roti]</td>\n      <td>[Unspecified Region]</td>\n      <td>No</td>\n      <td>[Toko Kue &amp; Roti]</td>\n    </tr>\n    <tr>\n      <th>11203</th>\n      <td>Tim's Donuts</td>\n      <td>Puri Indah</td>\n      <td>0.0</td>\n      <td>0</td>\n      <td>-6.186249</td>\n      <td>106.739559</td>\n      <td>https://www.zomato.com/id/jakarta/tims-donuts-...</td>\n      <td>Hypermart Puri Indah, Jl. Puri Indah Raya, Pur...</td>\n      <td>60000</td>\n      <td>[Bawa Pulang Tersedia, Desserts and Bakes, Di ...</td>\n      <td>DKI Jakarta</td>\n      <td>Jakarta Barat</td>\n      <td>Kembangan</td>\n      <td>[Toko Kue &amp; Roti, Kue &amp; Roti]</td>\n      <td>[Toko Kue &amp; Roti]</td>\n      <td>[Kue &amp; Roti]</td>\n      <td>[Unspecified Region]</td>\n      <td>No</td>\n      <td>[Toko Kue &amp; Roti]</td>\n    </tr>\n    <tr>\n      <th>11215</th>\n      <td>Hanna Bakes</td>\n      <td>Kelapa Gading</td>\n      <td>0.0</td>\n      <td>0</td>\n      <td>-6.168502</td>\n      <td>106.915511</td>\n      <td>https://www.zomato.com/id/jakarta/hanna-bakes-...</td>\n      <td>Jl. Pegangsaan Indah Bar. No.7, RT.2/RW.16, Pe...</td>\n      <td>0</td>\n      <td>[No Additional Info]</td>\n      <td>DKI Jakarta</td>\n      <td>Jakarta Utara</td>\n      <td>Kelapa Gading</td>\n      <td>[Toko Kue &amp; Roti, Desserts, Kue &amp; Roti]</td>\n      <td>[Toko Kue &amp; Roti]</td>\n      <td>[Desserts, Kue &amp; Roti]</td>\n      <td>[Unspecified Region]</td>\n      <td>No</td>\n      <td>[Toko Kue &amp; Roti]</td>\n    </tr>\n    <tr>\n      <th>11246</th>\n      <td>Sono Cafe</td>\n      <td>Ciledug</td>\n      <td>0.0</td>\n      <td>0</td>\n      <td>-6.227696</td>\n      <td>106.716328</td>\n      <td>https://www.zomato.com/id/jakarta/sono-cafe-ci...</td>\n      <td>Jl. HOS Cokroaminoto, Ciledug, Tangerang</td>\n      <td>100000</td>\n      <td>[Bawa Pulang Tersedia, Di dalam ruangan]</td>\n      <td>Banten</td>\n      <td>Tangerang Kota</td>\n      <td>Ciledug</td>\n      <td>[Snacks, Quick Bites, Barat]</td>\n      <td>[Quick Bites]</td>\n      <td>[Snacks]</td>\n      <td>[Barat]</td>\n      <td>No</td>\n      <td>[Quick Bites, Kafe]</td>\n    </tr>\n    <tr>\n      <th>11248</th>\n      <td>Bneka Cafe</td>\n      <td>Pamulang</td>\n      <td>0.0</td>\n      <td>0</td>\n      <td>-6.336307</td>\n      <td>106.749425</td>\n      <td>https://www.zomato.com/id/jakarta/bneka-cafe-p...</td>\n      <td>Jl. RE Martadinata No. 105, Pamulang, Tangerang</td>\n      <td>120000</td>\n      <td>[Bawa Pulang Tersedia, Di dalam ruangan]</td>\n      <td>Banten</td>\n      <td>Tangerang Selatan</td>\n      <td>Ciputat</td>\n      <td>[Snacks, Kopi, Quick Bites, Barat]</td>\n      <td>[Quick Bites]</td>\n      <td>[Kopi, Snacks]</td>\n      <td>[Barat]</td>\n      <td>No</td>\n      <td>[Quick Bites, Kafe]</td>\n    </tr>\n  </tbody>\n</table>\n<p>1006 rows × 19 columns</p>\n</div>"
     },
     "metadata": {},
     "execution_count": 129
    }
   ],
   "source": [
    "rdf.loc[index_list_rest]"
   ]
  },
  {
   "cell_type": "code",
   "execution_count": 130,
   "metadata": {
    "tags": []
   },
   "outputs": [],
   "source": [
    "rdf['NEW Cuisine Regionality'] = rdf.apply(lambda row: corpus_extender_region(row), axis=1)"
   ]
  },
  {
   "cell_type": "code",
   "execution_count": 131,
   "metadata": {},
   "outputs": [
    {
     "output_type": "execute_result",
     "data": {
      "text/plain": "         Restaurant Name Restaurant Area  Restaurant Rating  Review Counts  \\\n0            Holy Smokes        Senopati                4.4           1437   \n1         Pempek Megaria          Cikini                4.3            461   \n3      Gado-Gado Bon-Bin          Cikini                4.0            177   \n5         Soto Mie Bogor       Setiabudi                1.5              1   \n6              Soto Adam         Serpong                1.5              1   \n...                  ...             ...                ...            ...   \n11228  Angkringan Sedeup          Pinang                0.0              0   \n11229     Warunk Kamboja     Tanah Abang                0.0              0   \n11230    Warung Mbak Mar          Kemang                0.0              0   \n11232  Bakmie Ayam Alung          Grogol                0.0              0   \n11259     Semangkuk Nasi    Pondok Indah                0.0              0   \n\n       Latitude   Longitude  \\\n0     -6.239143  106.807954   \n1     -6.199900  106.843739   \n3     -6.192959  106.838377   \n5     -6.213595  106.829066   \n6     -6.286445  106.664567   \n...         ...         ...   \n11228 -6.220125  106.672527   \n11229 -6.178092  106.809992   \n11230 -6.273700  106.819042   \n11232 -6.164001  106.795831   \n11259 -6.261556  106.782829   \n\n                                                 Website  \\\n0      https://www.zomato.com/id/jakarta/holy-smokes-...   \n1      https://www.zomato.com/id/jakarta/pempek-megar...   \n3      https://www.zomato.com/id/jakarta/gado-gado-bo...   \n5      https://www.zomato.com/id/jakarta/soto-mie-bog...   \n6      https://www.zomato.com/id/jakarta/soto-adam-se...   \n...                                                  ...   \n11228  https://www.zomato.com/id/jakarta/angkringan-s...   \n11229  https://www.zomato.com/id/jakarta/warunk-kambo...   \n11230  https://www.zomato.com/id/jakarta/warung-mbak-...   \n11232  https://www.zomato.com/id/jakarta/bakmie-ayam-...   \n11259  https://www.zomato.com/id/jakarta/semangkuk-na...   \n\n                                      Restaurant Address  Price for 2  \\\n0        Jl. Wolter Monginsidi No. 27, Senopati, Jakarta       500000   \n1      Metropole 21, Jl. Pegangsaan Timur No. 21, Cik...        70000   \n3                    Jl. Cikini 4 No. 5, Cikini, Jakarta        90000   \n5      Loksem JS 03 - Setiabudi Selatan, Jl. H.R. Ras...        30000   \n6      ITC BSD, Lantai 2, Food Court, Jl. Pahlawan Se...        50000   \n...                                                  ...          ...   \n11228           Jl. Gempol Raya No. 1, Pinang, Tangerang        50000   \n11229          Jl. Cilamaya No. 24, Tanah Abang, Jakarta       100000   \n11230  Batik Chic Gallery, Jl. Kemang Selatan No. 107...        90000   \n11232         Jl. Dr. Muwardi I No. 11c, Grogol, Jakarta        80000   \n11259  Jl. Sultan Iskandar Muda No. 1B, Pondok Indah,...        90000   \n\n                                         Additional Info     Province  \\\n0      [Di dalam ruangan, Hanya Wine dan Bir, Parkir ...  DKI Jakarta   \n1               [Bawa Pulang Tersedia, Di dalam ruangan]  DKI Jakarta   \n3               [Bawa Pulang Tersedia, Di dalam ruangan]  DKI Jakarta   \n5      [Bawa Pulang Tersedia, Kaki5 Bersertifikat BPO...  DKI Jakarta   \n6      [Bawa Pulang Tersedia, Wifi Tersedia, Di dalam...       Banten   \n...                                                  ...          ...   \n11228  [Bawa Pulang Tersedia, Tempat duduk di luar, D...       Banten   \n11229  [Parkir Gratis, Sarapan, Di dalam ruangan, Des...  DKI Jakarta   \n11230  [Sarapan, Di dalam ruangan, Ruang Sholat, Bawa...  DKI Jakarta   \n11232  [Bawa Pulang Tersedia, Sarapan, Di dalam ruangan]  DKI Jakarta   \n11259           [Bawa Pulang Tersedia, Di dalam ruangan]  DKI Jakarta   \n\n                    City District/Kecamatan  \\\n0        Jakarta Selatan     Kebayoran Baru   \n1          Jakarta Pusat            Menteng   \n3          Jakarta Pusat            Menteng   \n5        Jakarta Selatan          Setiabudi   \n6      Tangerang Selatan            Serpong   \n...                  ...                ...   \n11228     Tangerang Kota             Pinang   \n11229      Jakarta Pusat             Gambir   \n11230    Jakarta Selatan       Pasar Minggu   \n11232      Jakarta Barat  Grogol Petamburan   \n11259    Jakarta Selatan     Kebayoran Lama   \n\n                                     Types       Place Type  \\\n0      [Grill House, Steak, Casual Dining]  [Casual Dining]   \n1                 [Palembang, Quick Bites]    [Quick Bites]   \n3                      [Jawa, Quick Bites]    [Quick Bites]   \n5                             [Kios, Soto]           [Kios]   \n6                       [Food Court, Soto]     [Food Court]   \n...                                    ...              ...   \n11228         [Jawa, Kaki Lima, Indonesia]      [Kaki Lima]   \n11229         [Snacks, Quick Bites, Barat]    [Quick Bites]   \n11230             [Quick Bites, Indonesia]    [Quick Bites]   \n11232        [Bakmi, Quick Bites, Chinese]    [Quick Bites]   \n11259             [Quick Bites, Indonesia]    [Quick Bites]   \n\n                    Cuisines              Cuisine Regionality  \\\n0       [Grill House, Steak]      [Unspecified Region, Barat]   \n1      [Unspecified Cuisine]           [Palembang, Palembang]   \n3      [Unspecified Cuisine]                [Jawa, Indonesia]   \n5                     [Soto]  [Unspecified Region, Indonesia]   \n6                     [Soto]  [Unspecified Region, Indonesia]   \n...                      ...                              ...   \n11228  [Unspecified Cuisine]          [Jawa, Indonesia, Jawa]   \n11229               [Snacks]               [Barat, Indonesia]   \n11230  [Unspecified Cuisine]           [Indonesia, Indonesia]   \n11232                [Bakmi]             [Chinese, Indonesia]   \n11259  [Unspecified Cuisine]           [Indonesia, Indonesia]   \n\n      Delivery Service   NEW Place Type NEW Cuisine Regionality  \n0                   No  [Casual Dining]                 [Barat]  \n1                   No    [Quick Bites]             [Palembang]  \n3                   No    [Quick Bites]       [Jawa, Indonesia]  \n5                   No           [Kios]             [Indonesia]  \n6                   No     [Food Court]             [Indonesia]  \n...                ...              ...                     ...  \n11228               No      [Kaki Lima]       [Jawa, Indonesia]  \n11229               No    [Quick Bites]      [Indonesia, Barat]  \n11230               No    [Quick Bites]             [Indonesia]  \n11232               No    [Quick Bites]    [Indonesia, Chinese]  \n11259               No    [Quick Bites]             [Indonesia]  \n\n[4146 rows x 20 columns]",
      "text/html": "<div>\n<style scoped>\n    .dataframe tbody tr th:only-of-type {\n        vertical-align: middle;\n    }\n\n    .dataframe tbody tr th {\n        vertical-align: top;\n    }\n\n    .dataframe thead th {\n        text-align: right;\n    }\n</style>\n<table border=\"1\" class=\"dataframe\">\n  <thead>\n    <tr style=\"text-align: right;\">\n      <th></th>\n      <th>Restaurant Name</th>\n      <th>Restaurant Area</th>\n      <th>Restaurant Rating</th>\n      <th>Review Counts</th>\n      <th>Latitude</th>\n      <th>Longitude</th>\n      <th>Website</th>\n      <th>Restaurant Address</th>\n      <th>Price for 2</th>\n      <th>Additional Info</th>\n      <th>Province</th>\n      <th>City</th>\n      <th>District/Kecamatan</th>\n      <th>Types</th>\n      <th>Place Type</th>\n      <th>Cuisines</th>\n      <th>Cuisine Regionality</th>\n      <th>Delivery Service</th>\n      <th>NEW Place Type</th>\n      <th>NEW Cuisine Regionality</th>\n    </tr>\n  </thead>\n  <tbody>\n    <tr>\n      <th>0</th>\n      <td>Holy Smokes</td>\n      <td>Senopati</td>\n      <td>4.4</td>\n      <td>1437</td>\n      <td>-6.239143</td>\n      <td>106.807954</td>\n      <td>https://www.zomato.com/id/jakarta/holy-smokes-...</td>\n      <td>Jl. Wolter Monginsidi No. 27, Senopati, Jakarta</td>\n      <td>500000</td>\n      <td>[Di dalam ruangan, Hanya Wine dan Bir, Parkir ...</td>\n      <td>DKI Jakarta</td>\n      <td>Jakarta Selatan</td>\n      <td>Kebayoran Baru</td>\n      <td>[Grill House, Steak, Casual Dining]</td>\n      <td>[Casual Dining]</td>\n      <td>[Grill House, Steak]</td>\n      <td>[Unspecified Region, Barat]</td>\n      <td>No</td>\n      <td>[Casual Dining]</td>\n      <td>[Barat]</td>\n    </tr>\n    <tr>\n      <th>1</th>\n      <td>Pempek Megaria</td>\n      <td>Cikini</td>\n      <td>4.3</td>\n      <td>461</td>\n      <td>-6.199900</td>\n      <td>106.843739</td>\n      <td>https://www.zomato.com/id/jakarta/pempek-megar...</td>\n      <td>Metropole 21, Jl. Pegangsaan Timur No. 21, Cik...</td>\n      <td>70000</td>\n      <td>[Bawa Pulang Tersedia, Di dalam ruangan]</td>\n      <td>DKI Jakarta</td>\n      <td>Jakarta Pusat</td>\n      <td>Menteng</td>\n      <td>[Palembang, Quick Bites]</td>\n      <td>[Quick Bites]</td>\n      <td>[Unspecified Cuisine]</td>\n      <td>[Palembang, Palembang]</td>\n      <td>No</td>\n      <td>[Quick Bites]</td>\n      <td>[Palembang]</td>\n    </tr>\n    <tr>\n      <th>3</th>\n      <td>Gado-Gado Bon-Bin</td>\n      <td>Cikini</td>\n      <td>4.0</td>\n      <td>177</td>\n      <td>-6.192959</td>\n      <td>106.838377</td>\n      <td>https://www.zomato.com/id/jakarta/gado-gado-bo...</td>\n      <td>Jl. Cikini 4 No. 5, Cikini, Jakarta</td>\n      <td>90000</td>\n      <td>[Bawa Pulang Tersedia, Di dalam ruangan]</td>\n      <td>DKI Jakarta</td>\n      <td>Jakarta Pusat</td>\n      <td>Menteng</td>\n      <td>[Jawa, Quick Bites]</td>\n      <td>[Quick Bites]</td>\n      <td>[Unspecified Cuisine]</td>\n      <td>[Jawa, Indonesia]</td>\n      <td>No</td>\n      <td>[Quick Bites]</td>\n      <td>[Jawa, Indonesia]</td>\n    </tr>\n    <tr>\n      <th>5</th>\n      <td>Soto Mie Bogor</td>\n      <td>Setiabudi</td>\n      <td>1.5</td>\n      <td>1</td>\n      <td>-6.213595</td>\n      <td>106.829066</td>\n      <td>https://www.zomato.com/id/jakarta/soto-mie-bog...</td>\n      <td>Loksem JS 03 - Setiabudi Selatan, Jl. H.R. Ras...</td>\n      <td>30000</td>\n      <td>[Bawa Pulang Tersedia, Kaki5 Bersertifikat BPO...</td>\n      <td>DKI Jakarta</td>\n      <td>Jakarta Selatan</td>\n      <td>Setiabudi</td>\n      <td>[Kios, Soto]</td>\n      <td>[Kios]</td>\n      <td>[Soto]</td>\n      <td>[Unspecified Region, Indonesia]</td>\n      <td>No</td>\n      <td>[Kios]</td>\n      <td>[Indonesia]</td>\n    </tr>\n    <tr>\n      <th>6</th>\n      <td>Soto Adam</td>\n      <td>Serpong</td>\n      <td>1.5</td>\n      <td>1</td>\n      <td>-6.286445</td>\n      <td>106.664567</td>\n      <td>https://www.zomato.com/id/jakarta/soto-adam-se...</td>\n      <td>ITC BSD, Lantai 2, Food Court, Jl. Pahlawan Se...</td>\n      <td>50000</td>\n      <td>[Bawa Pulang Tersedia, Wifi Tersedia, Di dalam...</td>\n      <td>Banten</td>\n      <td>Tangerang Selatan</td>\n      <td>Serpong</td>\n      <td>[Food Court, Soto]</td>\n      <td>[Food Court]</td>\n      <td>[Soto]</td>\n      <td>[Unspecified Region, Indonesia]</td>\n      <td>No</td>\n      <td>[Food Court]</td>\n      <td>[Indonesia]</td>\n    </tr>\n    <tr>\n      <th>...</th>\n      <td>...</td>\n      <td>...</td>\n      <td>...</td>\n      <td>...</td>\n      <td>...</td>\n      <td>...</td>\n      <td>...</td>\n      <td>...</td>\n      <td>...</td>\n      <td>...</td>\n      <td>...</td>\n      <td>...</td>\n      <td>...</td>\n      <td>...</td>\n      <td>...</td>\n      <td>...</td>\n      <td>...</td>\n      <td>...</td>\n      <td>...</td>\n      <td>...</td>\n    </tr>\n    <tr>\n      <th>11228</th>\n      <td>Angkringan Sedeup</td>\n      <td>Pinang</td>\n      <td>0.0</td>\n      <td>0</td>\n      <td>-6.220125</td>\n      <td>106.672527</td>\n      <td>https://www.zomato.com/id/jakarta/angkringan-s...</td>\n      <td>Jl. Gempol Raya No. 1, Pinang, Tangerang</td>\n      <td>50000</td>\n      <td>[Bawa Pulang Tersedia, Tempat duduk di luar, D...</td>\n      <td>Banten</td>\n      <td>Tangerang Kota</td>\n      <td>Pinang</td>\n      <td>[Jawa, Kaki Lima, Indonesia]</td>\n      <td>[Kaki Lima]</td>\n      <td>[Unspecified Cuisine]</td>\n      <td>[Jawa, Indonesia, Jawa]</td>\n      <td>No</td>\n      <td>[Kaki Lima]</td>\n      <td>[Jawa, Indonesia]</td>\n    </tr>\n    <tr>\n      <th>11229</th>\n      <td>Warunk Kamboja</td>\n      <td>Tanah Abang</td>\n      <td>0.0</td>\n      <td>0</td>\n      <td>-6.178092</td>\n      <td>106.809992</td>\n      <td>https://www.zomato.com/id/jakarta/warunk-kambo...</td>\n      <td>Jl. Cilamaya No. 24, Tanah Abang, Jakarta</td>\n      <td>100000</td>\n      <td>[Parkir Gratis, Sarapan, Di dalam ruangan, Des...</td>\n      <td>DKI Jakarta</td>\n      <td>Jakarta Pusat</td>\n      <td>Gambir</td>\n      <td>[Snacks, Quick Bites, Barat]</td>\n      <td>[Quick Bites]</td>\n      <td>[Snacks]</td>\n      <td>[Barat, Indonesia]</td>\n      <td>No</td>\n      <td>[Quick Bites]</td>\n      <td>[Indonesia, Barat]</td>\n    </tr>\n    <tr>\n      <th>11230</th>\n      <td>Warung Mbak Mar</td>\n      <td>Kemang</td>\n      <td>0.0</td>\n      <td>0</td>\n      <td>-6.273700</td>\n      <td>106.819042</td>\n      <td>https://www.zomato.com/id/jakarta/warung-mbak-...</td>\n      <td>Batik Chic Gallery, Jl. Kemang Selatan No. 107...</td>\n      <td>90000</td>\n      <td>[Sarapan, Di dalam ruangan, Ruang Sholat, Bawa...</td>\n      <td>DKI Jakarta</td>\n      <td>Jakarta Selatan</td>\n      <td>Pasar Minggu</td>\n      <td>[Quick Bites, Indonesia]</td>\n      <td>[Quick Bites]</td>\n      <td>[Unspecified Cuisine]</td>\n      <td>[Indonesia, Indonesia]</td>\n      <td>No</td>\n      <td>[Quick Bites]</td>\n      <td>[Indonesia]</td>\n    </tr>\n    <tr>\n      <th>11232</th>\n      <td>Bakmie Ayam Alung</td>\n      <td>Grogol</td>\n      <td>0.0</td>\n      <td>0</td>\n      <td>-6.164001</td>\n      <td>106.795831</td>\n      <td>https://www.zomato.com/id/jakarta/bakmie-ayam-...</td>\n      <td>Jl. Dr. Muwardi I No. 11c, Grogol, Jakarta</td>\n      <td>80000</td>\n      <td>[Bawa Pulang Tersedia, Sarapan, Di dalam ruangan]</td>\n      <td>DKI Jakarta</td>\n      <td>Jakarta Barat</td>\n      <td>Grogol Petamburan</td>\n      <td>[Bakmi, Quick Bites, Chinese]</td>\n      <td>[Quick Bites]</td>\n      <td>[Bakmi]</td>\n      <td>[Chinese, Indonesia]</td>\n      <td>No</td>\n      <td>[Quick Bites]</td>\n      <td>[Indonesia, Chinese]</td>\n    </tr>\n    <tr>\n      <th>11259</th>\n      <td>Semangkuk Nasi</td>\n      <td>Pondok Indah</td>\n      <td>0.0</td>\n      <td>0</td>\n      <td>-6.261556</td>\n      <td>106.782829</td>\n      <td>https://www.zomato.com/id/jakarta/semangkuk-na...</td>\n      <td>Jl. Sultan Iskandar Muda No. 1B, Pondok Indah,...</td>\n      <td>90000</td>\n      <td>[Bawa Pulang Tersedia, Di dalam ruangan]</td>\n      <td>DKI Jakarta</td>\n      <td>Jakarta Selatan</td>\n      <td>Kebayoran Lama</td>\n      <td>[Quick Bites, Indonesia]</td>\n      <td>[Quick Bites]</td>\n      <td>[Unspecified Cuisine]</td>\n      <td>[Indonesia, Indonesia]</td>\n      <td>No</td>\n      <td>[Quick Bites]</td>\n      <td>[Indonesia]</td>\n    </tr>\n  </tbody>\n</table>\n<p>4146 rows × 20 columns</p>\n</div>"
     },
     "metadata": {},
     "execution_count": 131
    }
   ],
   "source": [
    "rdf.loc[index_list_region]"
   ]
  },
  {
   "cell_type": "code",
   "execution_count": 132,
   "metadata": {},
   "outputs": [],
   "source": [
    "rdf['NEW Cuisines'] = rdf.apply(lambda row: corpus_extender_csne(row), axis=1)"
   ]
  },
  {
   "cell_type": "code",
   "execution_count": 133,
   "metadata": {},
   "outputs": [
    {
     "output_type": "execute_result",
     "data": {
      "text/plain": "         Restaurant Name Restaurant Area  Restaurant Rating  Review Counts  \\\n0            Holy Smokes        Senopati                4.4           1437   \n1         Pempek Megaria          Cikini                4.3            461   \n3      Gado-Gado Bon-Bin          Cikini                4.0            177   \n5         Soto Mie Bogor       Setiabudi                1.5              1   \n6              Soto Adam         Serpong                1.5              1   \n...                  ...             ...                ...            ...   \n11228  Angkringan Sedeup          Pinang                0.0              0   \n11229     Warunk Kamboja     Tanah Abang                0.0              0   \n11230    Warung Mbak Mar          Kemang                0.0              0   \n11232  Bakmie Ayam Alung          Grogol                0.0              0   \n11259     Semangkuk Nasi    Pondok Indah                0.0              0   \n\n       Latitude   Longitude  \\\n0     -6.239143  106.807954   \n1     -6.199900  106.843739   \n3     -6.192959  106.838377   \n5     -6.213595  106.829066   \n6     -6.286445  106.664567   \n...         ...         ...   \n11228 -6.220125  106.672527   \n11229 -6.178092  106.809992   \n11230 -6.273700  106.819042   \n11232 -6.164001  106.795831   \n11259 -6.261556  106.782829   \n\n                                                 Website  \\\n0      https://www.zomato.com/id/jakarta/holy-smokes-...   \n1      https://www.zomato.com/id/jakarta/pempek-megar...   \n3      https://www.zomato.com/id/jakarta/gado-gado-bo...   \n5      https://www.zomato.com/id/jakarta/soto-mie-bog...   \n6      https://www.zomato.com/id/jakarta/soto-adam-se...   \n...                                                  ...   \n11228  https://www.zomato.com/id/jakarta/angkringan-s...   \n11229  https://www.zomato.com/id/jakarta/warunk-kambo...   \n11230  https://www.zomato.com/id/jakarta/warung-mbak-...   \n11232  https://www.zomato.com/id/jakarta/bakmie-ayam-...   \n11259  https://www.zomato.com/id/jakarta/semangkuk-na...   \n\n                                      Restaurant Address  Price for 2  \\\n0        Jl. Wolter Monginsidi No. 27, Senopati, Jakarta       500000   \n1      Metropole 21, Jl. Pegangsaan Timur No. 21, Cik...        70000   \n3                    Jl. Cikini 4 No. 5, Cikini, Jakarta        90000   \n5      Loksem JS 03 - Setiabudi Selatan, Jl. H.R. Ras...        30000   \n6      ITC BSD, Lantai 2, Food Court, Jl. Pahlawan Se...        50000   \n...                                                  ...          ...   \n11228           Jl. Gempol Raya No. 1, Pinang, Tangerang        50000   \n11229          Jl. Cilamaya No. 24, Tanah Abang, Jakarta       100000   \n11230  Batik Chic Gallery, Jl. Kemang Selatan No. 107...        90000   \n11232         Jl. Dr. Muwardi I No. 11c, Grogol, Jakarta        80000   \n11259  Jl. Sultan Iskandar Muda No. 1B, Pondok Indah,...        90000   \n\n                                         Additional Info  ...  \\\n0      [Di dalam ruangan, Hanya Wine dan Bir, Parkir ...  ...   \n1               [Bawa Pulang Tersedia, Di dalam ruangan]  ...   \n3               [Bawa Pulang Tersedia, Di dalam ruangan]  ...   \n5      [Bawa Pulang Tersedia, Kaki5 Bersertifikat BPO...  ...   \n6      [Bawa Pulang Tersedia, Wifi Tersedia, Di dalam...  ...   \n...                                                  ...  ...   \n11228  [Bawa Pulang Tersedia, Tempat duduk di luar, D...  ...   \n11229  [Parkir Gratis, Sarapan, Di dalam ruangan, Des...  ...   \n11230  [Sarapan, Di dalam ruangan, Ruang Sholat, Bawa...  ...   \n11232  [Bawa Pulang Tersedia, Sarapan, Di dalam ruangan]  ...   \n11259           [Bawa Pulang Tersedia, Di dalam ruangan]  ...   \n\n                    City District/Kecamatan  \\\n0        Jakarta Selatan     Kebayoran Baru   \n1          Jakarta Pusat            Menteng   \n3          Jakarta Pusat            Menteng   \n5        Jakarta Selatan          Setiabudi   \n6      Tangerang Selatan            Serpong   \n...                  ...                ...   \n11228     Tangerang Kota             Pinang   \n11229      Jakarta Pusat             Gambir   \n11230    Jakarta Selatan       Pasar Minggu   \n11232      Jakarta Barat  Grogol Petamburan   \n11259    Jakarta Selatan     Kebayoran Lama   \n\n                                     Types       Place Type  \\\n0      [Grill House, Steak, Casual Dining]  [Casual Dining]   \n1                 [Palembang, Quick Bites]    [Quick Bites]   \n3                      [Jawa, Quick Bites]    [Quick Bites]   \n5                             [Kios, Soto]           [Kios]   \n6                       [Food Court, Soto]     [Food Court]   \n...                                    ...              ...   \n11228         [Jawa, Kaki Lima, Indonesia]      [Kaki Lima]   \n11229         [Snacks, Quick Bites, Barat]    [Quick Bites]   \n11230             [Quick Bites, Indonesia]    [Quick Bites]   \n11232        [Bakmi, Quick Bites, Chinese]    [Quick Bites]   \n11259             [Quick Bites, Indonesia]    [Quick Bites]   \n\n                                   Cuisines              Cuisine Regionality  \\\n0                      [Grill House, Steak]      [Unspecified Region, Barat]   \n1             [Unspecified Cuisine, Pempek]           [Palembang, Palembang]   \n3      [Unspecified Cuisine, Makanan Sehat]                [Jawa, Indonesia]   \n5                       [Soto, Bakmi, Soto]  [Unspecified Region, Indonesia]   \n6                              [Soto, Soto]  [Unspecified Region, Indonesia]   \n...                                     ...                              ...   \n11228                 [Unspecified Cuisine]          [Jawa, Indonesia, Jawa]   \n11229                              [Snacks]               [Barat, Indonesia]   \n11230                 [Unspecified Cuisine]           [Indonesia, Indonesia]   \n11232                  [Bakmi, Ayam, Bakmi]             [Chinese, Indonesia]   \n11259                 [Unspecified Cuisine]           [Indonesia, Indonesia]   \n\n      Delivery Service   NEW Place Type NEW Cuisine Regionality  \\\n0                   No  [Casual Dining]                 [Barat]   \n1                   No    [Quick Bites]             [Palembang]   \n3                   No    [Quick Bites]       [Jawa, Indonesia]   \n5                   No           [Kios]             [Indonesia]   \n6                   No     [Food Court]             [Indonesia]   \n...                ...              ...                     ...   \n11228               No      [Kaki Lima]       [Jawa, Indonesia]   \n11229               No    [Quick Bites]      [Indonesia, Barat]   \n11230               No    [Quick Bites]             [Indonesia]   \n11232               No    [Quick Bites]    [Indonesia, Chinese]   \n11259               No    [Quick Bites]             [Indonesia]   \n\n                NEW Cuisines  \n0       [Grill House, Steak]  \n1                   [Pempek]  \n3            [Makanan Sehat]  \n5              [Bakmi, Soto]  \n6                     [Soto]  \n...                      ...  \n11228  [Unspecified Cuisine]  \n11229               [Snacks]  \n11230  [Unspecified Cuisine]  \n11232          [Ayam, Bakmi]  \n11259  [Unspecified Cuisine]  \n\n[4146 rows x 21 columns]",
      "text/html": "<div>\n<style scoped>\n    .dataframe tbody tr th:only-of-type {\n        vertical-align: middle;\n    }\n\n    .dataframe tbody tr th {\n        vertical-align: top;\n    }\n\n    .dataframe thead th {\n        text-align: right;\n    }\n</style>\n<table border=\"1\" class=\"dataframe\">\n  <thead>\n    <tr style=\"text-align: right;\">\n      <th></th>\n      <th>Restaurant Name</th>\n      <th>Restaurant Area</th>\n      <th>Restaurant Rating</th>\n      <th>Review Counts</th>\n      <th>Latitude</th>\n      <th>Longitude</th>\n      <th>Website</th>\n      <th>Restaurant Address</th>\n      <th>Price for 2</th>\n      <th>Additional Info</th>\n      <th>...</th>\n      <th>City</th>\n      <th>District/Kecamatan</th>\n      <th>Types</th>\n      <th>Place Type</th>\n      <th>Cuisines</th>\n      <th>Cuisine Regionality</th>\n      <th>Delivery Service</th>\n      <th>NEW Place Type</th>\n      <th>NEW Cuisine Regionality</th>\n      <th>NEW Cuisines</th>\n    </tr>\n  </thead>\n  <tbody>\n    <tr>\n      <th>0</th>\n      <td>Holy Smokes</td>\n      <td>Senopati</td>\n      <td>4.4</td>\n      <td>1437</td>\n      <td>-6.239143</td>\n      <td>106.807954</td>\n      <td>https://www.zomato.com/id/jakarta/holy-smokes-...</td>\n      <td>Jl. Wolter Monginsidi No. 27, Senopati, Jakarta</td>\n      <td>500000</td>\n      <td>[Di dalam ruangan, Hanya Wine dan Bir, Parkir ...</td>\n      <td>...</td>\n      <td>Jakarta Selatan</td>\n      <td>Kebayoran Baru</td>\n      <td>[Grill House, Steak, Casual Dining]</td>\n      <td>[Casual Dining]</td>\n      <td>[Grill House, Steak]</td>\n      <td>[Unspecified Region, Barat]</td>\n      <td>No</td>\n      <td>[Casual Dining]</td>\n      <td>[Barat]</td>\n      <td>[Grill House, Steak]</td>\n    </tr>\n    <tr>\n      <th>1</th>\n      <td>Pempek Megaria</td>\n      <td>Cikini</td>\n      <td>4.3</td>\n      <td>461</td>\n      <td>-6.199900</td>\n      <td>106.843739</td>\n      <td>https://www.zomato.com/id/jakarta/pempek-megar...</td>\n      <td>Metropole 21, Jl. Pegangsaan Timur No. 21, Cik...</td>\n      <td>70000</td>\n      <td>[Bawa Pulang Tersedia, Di dalam ruangan]</td>\n      <td>...</td>\n      <td>Jakarta Pusat</td>\n      <td>Menteng</td>\n      <td>[Palembang, Quick Bites]</td>\n      <td>[Quick Bites]</td>\n      <td>[Unspecified Cuisine, Pempek]</td>\n      <td>[Palembang, Palembang]</td>\n      <td>No</td>\n      <td>[Quick Bites]</td>\n      <td>[Palembang]</td>\n      <td>[Pempek]</td>\n    </tr>\n    <tr>\n      <th>3</th>\n      <td>Gado-Gado Bon-Bin</td>\n      <td>Cikini</td>\n      <td>4.0</td>\n      <td>177</td>\n      <td>-6.192959</td>\n      <td>106.838377</td>\n      <td>https://www.zomato.com/id/jakarta/gado-gado-bo...</td>\n      <td>Jl. Cikini 4 No. 5, Cikini, Jakarta</td>\n      <td>90000</td>\n      <td>[Bawa Pulang Tersedia, Di dalam ruangan]</td>\n      <td>...</td>\n      <td>Jakarta Pusat</td>\n      <td>Menteng</td>\n      <td>[Jawa, Quick Bites]</td>\n      <td>[Quick Bites]</td>\n      <td>[Unspecified Cuisine, Makanan Sehat]</td>\n      <td>[Jawa, Indonesia]</td>\n      <td>No</td>\n      <td>[Quick Bites]</td>\n      <td>[Jawa, Indonesia]</td>\n      <td>[Makanan Sehat]</td>\n    </tr>\n    <tr>\n      <th>5</th>\n      <td>Soto Mie Bogor</td>\n      <td>Setiabudi</td>\n      <td>1.5</td>\n      <td>1</td>\n      <td>-6.213595</td>\n      <td>106.829066</td>\n      <td>https://www.zomato.com/id/jakarta/soto-mie-bog...</td>\n      <td>Loksem JS 03 - Setiabudi Selatan, Jl. H.R. Ras...</td>\n      <td>30000</td>\n      <td>[Bawa Pulang Tersedia, Kaki5 Bersertifikat BPO...</td>\n      <td>...</td>\n      <td>Jakarta Selatan</td>\n      <td>Setiabudi</td>\n      <td>[Kios, Soto]</td>\n      <td>[Kios]</td>\n      <td>[Soto, Bakmi, Soto]</td>\n      <td>[Unspecified Region, Indonesia]</td>\n      <td>No</td>\n      <td>[Kios]</td>\n      <td>[Indonesia]</td>\n      <td>[Bakmi, Soto]</td>\n    </tr>\n    <tr>\n      <th>6</th>\n      <td>Soto Adam</td>\n      <td>Serpong</td>\n      <td>1.5</td>\n      <td>1</td>\n      <td>-6.286445</td>\n      <td>106.664567</td>\n      <td>https://www.zomato.com/id/jakarta/soto-adam-se...</td>\n      <td>ITC BSD, Lantai 2, Food Court, Jl. Pahlawan Se...</td>\n      <td>50000</td>\n      <td>[Bawa Pulang Tersedia, Wifi Tersedia, Di dalam...</td>\n      <td>...</td>\n      <td>Tangerang Selatan</td>\n      <td>Serpong</td>\n      <td>[Food Court, Soto]</td>\n      <td>[Food Court]</td>\n      <td>[Soto, Soto]</td>\n      <td>[Unspecified Region, Indonesia]</td>\n      <td>No</td>\n      <td>[Food Court]</td>\n      <td>[Indonesia]</td>\n      <td>[Soto]</td>\n    </tr>\n    <tr>\n      <th>...</th>\n      <td>...</td>\n      <td>...</td>\n      <td>...</td>\n      <td>...</td>\n      <td>...</td>\n      <td>...</td>\n      <td>...</td>\n      <td>...</td>\n      <td>...</td>\n      <td>...</td>\n      <td>...</td>\n      <td>...</td>\n      <td>...</td>\n      <td>...</td>\n      <td>...</td>\n      <td>...</td>\n      <td>...</td>\n      <td>...</td>\n      <td>...</td>\n      <td>...</td>\n      <td>...</td>\n    </tr>\n    <tr>\n      <th>11228</th>\n      <td>Angkringan Sedeup</td>\n      <td>Pinang</td>\n      <td>0.0</td>\n      <td>0</td>\n      <td>-6.220125</td>\n      <td>106.672527</td>\n      <td>https://www.zomato.com/id/jakarta/angkringan-s...</td>\n      <td>Jl. Gempol Raya No. 1, Pinang, Tangerang</td>\n      <td>50000</td>\n      <td>[Bawa Pulang Tersedia, Tempat duduk di luar, D...</td>\n      <td>...</td>\n      <td>Tangerang Kota</td>\n      <td>Pinang</td>\n      <td>[Jawa, Kaki Lima, Indonesia]</td>\n      <td>[Kaki Lima]</td>\n      <td>[Unspecified Cuisine]</td>\n      <td>[Jawa, Indonesia, Jawa]</td>\n      <td>No</td>\n      <td>[Kaki Lima]</td>\n      <td>[Jawa, Indonesia]</td>\n      <td>[Unspecified Cuisine]</td>\n    </tr>\n    <tr>\n      <th>11229</th>\n      <td>Warunk Kamboja</td>\n      <td>Tanah Abang</td>\n      <td>0.0</td>\n      <td>0</td>\n      <td>-6.178092</td>\n      <td>106.809992</td>\n      <td>https://www.zomato.com/id/jakarta/warunk-kambo...</td>\n      <td>Jl. Cilamaya No. 24, Tanah Abang, Jakarta</td>\n      <td>100000</td>\n      <td>[Parkir Gratis, Sarapan, Di dalam ruangan, Des...</td>\n      <td>...</td>\n      <td>Jakarta Pusat</td>\n      <td>Gambir</td>\n      <td>[Snacks, Quick Bites, Barat]</td>\n      <td>[Quick Bites]</td>\n      <td>[Snacks]</td>\n      <td>[Barat, Indonesia]</td>\n      <td>No</td>\n      <td>[Quick Bites]</td>\n      <td>[Indonesia, Barat]</td>\n      <td>[Snacks]</td>\n    </tr>\n    <tr>\n      <th>11230</th>\n      <td>Warung Mbak Mar</td>\n      <td>Kemang</td>\n      <td>0.0</td>\n      <td>0</td>\n      <td>-6.273700</td>\n      <td>106.819042</td>\n      <td>https://www.zomato.com/id/jakarta/warung-mbak-...</td>\n      <td>Batik Chic Gallery, Jl. Kemang Selatan No. 107...</td>\n      <td>90000</td>\n      <td>[Sarapan, Di dalam ruangan, Ruang Sholat, Bawa...</td>\n      <td>...</td>\n      <td>Jakarta Selatan</td>\n      <td>Pasar Minggu</td>\n      <td>[Quick Bites, Indonesia]</td>\n      <td>[Quick Bites]</td>\n      <td>[Unspecified Cuisine]</td>\n      <td>[Indonesia, Indonesia]</td>\n      <td>No</td>\n      <td>[Quick Bites]</td>\n      <td>[Indonesia]</td>\n      <td>[Unspecified Cuisine]</td>\n    </tr>\n    <tr>\n      <th>11232</th>\n      <td>Bakmie Ayam Alung</td>\n      <td>Grogol</td>\n      <td>0.0</td>\n      <td>0</td>\n      <td>-6.164001</td>\n      <td>106.795831</td>\n      <td>https://www.zomato.com/id/jakarta/bakmie-ayam-...</td>\n      <td>Jl. Dr. Muwardi I No. 11c, Grogol, Jakarta</td>\n      <td>80000</td>\n      <td>[Bawa Pulang Tersedia, Sarapan, Di dalam ruangan]</td>\n      <td>...</td>\n      <td>Jakarta Barat</td>\n      <td>Grogol Petamburan</td>\n      <td>[Bakmi, Quick Bites, Chinese]</td>\n      <td>[Quick Bites]</td>\n      <td>[Bakmi, Ayam, Bakmi]</td>\n      <td>[Chinese, Indonesia]</td>\n      <td>No</td>\n      <td>[Quick Bites]</td>\n      <td>[Indonesia, Chinese]</td>\n      <td>[Ayam, Bakmi]</td>\n    </tr>\n    <tr>\n      <th>11259</th>\n      <td>Semangkuk Nasi</td>\n      <td>Pondok Indah</td>\n      <td>0.0</td>\n      <td>0</td>\n      <td>-6.261556</td>\n      <td>106.782829</td>\n      <td>https://www.zomato.com/id/jakarta/semangkuk-na...</td>\n      <td>Jl. Sultan Iskandar Muda No. 1B, Pondok Indah,...</td>\n      <td>90000</td>\n      <td>[Bawa Pulang Tersedia, Di dalam ruangan]</td>\n      <td>...</td>\n      <td>Jakarta Selatan</td>\n      <td>Kebayoran Lama</td>\n      <td>[Quick Bites, Indonesia]</td>\n      <td>[Quick Bites]</td>\n      <td>[Unspecified Cuisine]</td>\n      <td>[Indonesia, Indonesia]</td>\n      <td>No</td>\n      <td>[Quick Bites]</td>\n      <td>[Indonesia]</td>\n      <td>[Unspecified Cuisine]</td>\n    </tr>\n  </tbody>\n</table>\n<p>4146 rows × 21 columns</p>\n</div>"
     },
     "metadata": {},
     "execution_count": 133
    }
   ],
   "source": [
    "rdf.loc[index_list_region]"
   ]
  },
  {
   "cell_type": "code",
   "execution_count": 134,
   "metadata": {
    "tags": []
   },
   "outputs": [
    {
     "output_type": "stream",
     "name": "stdout",
     "text": "Unspecified Cuisine \n\n3365\n"
    }
   ],
   "source": [
    "# Let's check previous counts of Unspecified\n",
    "\n",
    "print('Unspecified Cuisine \\n')\n",
    "unspec_csne_1 = sum(rdf['NEW Cuisines'].apply(lambda x: 'Unspecified Cuisine' in x))\n",
    "print(unspec_csne_1)"
   ]
  },
  {
   "cell_type": "code",
   "execution_count": 135,
   "metadata": {
    "tags": []
   },
   "outputs": [
    {
     "output_type": "stream",
     "name": "stdout",
     "text": "Unspecified Regionality \n\n1140\n"
    }
   ],
   "source": [
    "# Let's check previous counts of Unspecified\n",
    "\n",
    "print('Unspecified Regionality \\n')\n",
    "unspec_rgn_1 = sum(rdf['NEW Cuisine Regionality'].apply(lambda x: 'Unspecified Region' in x))\n",
    "print(unspec_rgn_1)"
   ]
  },
  {
   "cell_type": "code",
   "execution_count": 136,
   "metadata": {
    "tags": []
   },
   "outputs": [
    {
     "output_type": "stream",
     "name": "stdout",
     "text": "Amount of Improvement & Percentage in Cuisines Type :\n1466\n30.35 %\nAmount of Improvement & Percentage in Cuisine Regionality Type :\n2798\n71.05 %\n"
    }
   ],
   "source": [
    "#Let's check the difference\n",
    "\n",
    "gap_csne = unspec_csne_0 - unspec_csne_1\n",
    "gap_rgn = unspec_rgn_0 - unspec_rgn_1\n",
    "\n",
    "print(\"Amount of Improvement & Percentage in Cuisines Type :\")\n",
    "print(gap_csne)\n",
    "print(round(gap_csne*100/unspec_csne_0,2), \"%\")\n",
    "\n",
    "print(\"Amount of Improvement & Percentage in Cuisine Regionality Type :\")\n",
    "print(gap_rgn)\n",
    "print(round(gap_rgn*100/unspec_rgn_0,2), \"%\")"
   ]
  },
  {
   "cell_type": "code",
   "execution_count": 137,
   "metadata": {},
   "outputs": [],
   "source": [
    "#Let's check the Unique Values of Cuisine Type\n",
    "\n",
    "cuisine_type = []\n",
    "\n",
    "#Type = List\n",
    "for index, row in rdf.iterrows():\n",
    "    final = row['NEW Cuisines']\n",
    "    cuisine_type.extend(final)\n",
    "\n",
    "cuisine_type = list(set(cuisine_type))"
   ]
  },
  {
   "cell_type": "code",
   "execution_count": 138,
   "metadata": {},
   "outputs": [
    {
     "output_type": "execute_result",
     "data": {
      "text/plain": "['Hanya Minuman',\n 'Kopi',\n 'Tea',\n 'Seafood',\n 'Bubur',\n 'Martabak',\n 'Pizza',\n 'Minuman',\n 'Barbekyu',\n 'Ayam',\n 'Bakso',\n 'Makanan Sehat',\n 'Bebek',\n 'Snacks',\n 'Deli',\n 'Satay',\n 'Makanan Jalanan',\n 'Pempek',\n 'Burger',\n 'Meat',\n 'Gudeg',\n 'Dimsum',\n 'Steak',\n 'Desserts',\n 'Kue & Roti',\n 'Sushi',\n 'Jus',\n 'Ice Cream',\n 'Makanan Cepat Saji',\n 'Grill House',\n 'Kebab',\n 'Bubble Tea',\n 'Bakmi',\n 'Ramen',\n 'Unspecified Cuisine',\n 'Soto']"
     },
     "metadata": {},
     "execution_count": 138
    }
   ],
   "source": [
    "cuisine_type"
   ]
  },
  {
   "cell_type": "code",
   "execution_count": 139,
   "metadata": {},
   "outputs": [],
   "source": [
    "#Make A New List to store the Restaurant Type Counts\n",
    "\n",
    "cuisine_type_ct = []\n",
    "\n",
    "# Type = List\n",
    "for i in cuisine_type:\n",
    "    count = sum(rdf['NEW Cuisines'].apply(lambda x: i in x))\n",
    "    cuisine_type_ct.append(count)\n",
    "\n",
    "\n",
    "#Convert the Lists into A DataFrame\n",
    "\n",
    "csne_counts = pd.DataFrame({'Cuisine Type': cuisine_type, 'Count': cuisine_type_ct})\n",
    "csne_counts.sort_values(by='Count', ascending=False, inplace=True)\n",
    "csne_counts.reset_index(drop=True, inplace=True)"
   ]
  },
  {
   "cell_type": "code",
   "execution_count": 140,
   "metadata": {},
   "outputs": [
    {
     "output_type": "display_data",
     "data": {
      "text/plain": "<Figure size 1440x576 with 1 Axes>",
      "image/svg+xml": "<?xml version=\"1.0\" encoding=\"utf-8\" standalone=\"no\"?>\r\n<!DOCTYPE svg PUBLIC \"-//W3C//DTD SVG 1.1//EN\"\r\n  \"http://www.w3.org/Graphics/SVG/1.1/DTD/svg11.dtd\">\r\n<!-- Created with matplotlib (https://matplotlib.org/) -->\r\n<svg height=\"494.754375pt\" version=\"1.1\" viewBox=\"0 0 1176.528125 494.754375\" width=\"1176.528125pt\" xmlns=\"http://www.w3.org/2000/svg\" xmlns:xlink=\"http://www.w3.org/1999/xlink\">\r\n <defs>\r\n  <style type=\"text/css\">\r\n*{stroke-linecap:butt;stroke-linejoin:round;}\r\n  </style>\r\n </defs>\r\n <g id=\"figure_1\">\r\n  <g id=\"patch_1\">\r\n   <path d=\"M 0 494.754375 \r\nL 1176.528125 494.754375 \r\nL 1176.528125 0 \r\nL 0 0 \r\nz\r\n\" style=\"fill:none;\"/>\r\n  </g>\r\n  <g id=\"axes_1\">\r\n   <g id=\"patch_2\">\r\n    <path d=\"M 53.328125 457.198125 \r\nL 1169.328125 457.198125 \r\nL 1169.328125 22.318125 \r\nL 53.328125 22.318125 \r\nz\r\n\" style=\"fill:#ffffff;\"/>\r\n   </g>\r\n   <g id=\"patch_3\">\r\n    <path clip-path=\"url(#p982e79b8fb)\" d=\"M 60.768125 457.198125 \r\nL 120.288125 457.198125 \r\nL 120.288125 43.026696 \r\nL 60.768125 43.026696 \r\nz\r\n\" style=\"fill:#ea96a3;\"/>\r\n   </g>\r\n   <g id=\"patch_4\">\r\n    <path clip-path=\"url(#p982e79b8fb)\" d=\"M 135.168125 457.198125 \r\nL 194.688125 457.198125 \r\nL 194.688125 57.136029 \r\nL 135.168125 57.136029 \r\nz\r\n\" style=\"fill:#e59471;\"/>\r\n   </g>\r\n   <g id=\"patch_5\">\r\n    <path clip-path=\"url(#p982e79b8fb)\" d=\"M 209.568125 457.198125 \r\nL 269.088125 457.198125 \r\nL 269.088125 297.887683 \r\nL 209.568125 297.887683 \r\nz\r\n\" style=\"fill:#c6994b;\"/>\r\n   </g>\r\n   <g id=\"patch_6\">\r\n    <path clip-path=\"url(#p982e79b8fb)\" d=\"M 283.968125 457.198125 \r\nL 343.488125 457.198125 \r\nL 343.488125 323.070163 \r\nL 283.968125 323.070163 \r\nz\r\n\" style=\"fill:#ab9e47;\"/>\r\n   </g>\r\n   <g id=\"patch_7\">\r\n    <path clip-path=\"url(#p982e79b8fb)\" d=\"M 358.368125 457.198125 \r\nL 417.888125 457.198125 \r\nL 417.888125 335.214906 \r\nL 358.368125 335.214906 \r\nz\r\n\" style=\"fill:#91a446;\"/>\r\n   </g>\r\n   <g id=\"patch_8\">\r\n    <path clip-path=\"url(#p982e79b8fb)\" d=\"M 432.768125 457.198125 \r\nL 492.288125 457.198125 \r\nL 492.288125 335.929302 \r\nL 432.768125 335.929302 \r\nz\r\n\" style=\"fill:#60ae47;\"/>\r\n   </g>\r\n   <g id=\"patch_9\">\r\n    <path clip-path=\"url(#p982e79b8fb)\" d=\"M 507.168125 457.198125 \r\nL 566.688125 457.198125 \r\nL 566.688125 356.111006 \r\nL 507.168125 356.111006 \r\nz\r\n\" style=\"fill:#49ae83;\"/>\r\n   </g>\r\n   <g id=\"patch_10\">\r\n    <path clip-path=\"url(#p982e79b8fb)\" d=\"M 581.568125 457.198125 \r\nL 641.088125 457.198125 \r\nL 641.088125 359.50439 \r\nL 581.568125 359.50439 \r\nz\r\n\" style=\"fill:#4aac9b;\"/>\r\n   </g>\r\n   <g id=\"patch_11\">\r\n    <path clip-path=\"url(#p982e79b8fb)\" d=\"M 655.968125 457.198125 \r\nL 715.488125 457.198125 \r\nL 715.488125 378.614499 \r\nL 655.968125 378.614499 \r\nz\r\n\" style=\"fill:#4cabad;\"/>\r\n   </g>\r\n   <g id=\"patch_12\">\r\n    <path clip-path=\"url(#p982e79b8fb)\" d=\"M 730.368125 457.198125 \r\nL 789.888125 457.198125 \r\nL 789.888125 380.57909 \r\nL 730.368125 380.57909 \r\nz\r\n\" style=\"fill:#50acc3;\"/>\r\n   </g>\r\n   <g id=\"patch_13\">\r\n    <path clip-path=\"url(#p982e79b8fb)\" d=\"M 804.768125 457.198125 \r\nL 864.288125 457.198125 \r\nL 864.288125 387.544457 \r\nL 804.768125 387.544457 \r\nz\r\n\" style=\"fill:#6daee2;\"/>\r\n   </g>\r\n   <g id=\"patch_14\">\r\n    <path clip-path=\"url(#p982e79b8fb)\" d=\"M 879.168125 457.198125 \r\nL 938.688125 457.198125 \r\nL 938.688125 391.652237 \r\nL 879.168125 391.652237 \r\nz\r\n\" style=\"fill:#adabeb;\"/>\r\n   </g>\r\n   <g id=\"patch_15\">\r\n    <path clip-path=\"url(#p982e79b8fb)\" d=\"M 953.568125 457.198125 \r\nL 1013.088125 457.198125 \r\nL 1013.088125 402.189587 \r\nL 953.568125 402.189587 \r\nz\r\n\" style=\"fill:#ce9be9;\"/>\r\n   </g>\r\n   <g id=\"patch_16\">\r\n    <path clip-path=\"url(#p982e79b8fb)\" d=\"M 1027.968125 457.198125 \r\nL 1087.488125 457.198125 \r\nL 1087.488125 408.440557 \r\nL 1027.968125 408.440557 \r\nz\r\n\" style=\"fill:#e78bdb;\"/>\r\n   </g>\r\n   <g id=\"patch_17\">\r\n    <path clip-path=\"url(#p982e79b8fb)\" d=\"M 1102.368125 457.198125 \r\nL 1161.888125 457.198125 \r\nL 1161.888125 427.014869 \r\nL 1102.368125 427.014869 \r\nz\r\n\" style=\"fill:#e891bf;\"/>\r\n   </g>\r\n   <g id=\"matplotlib.axis_1\">\r\n    <g id=\"xtick_1\">\r\n     <g id=\"line2d_1\">\r\n      <defs>\r\n       <path d=\"M 0 0 \r\nL 0 3.5 \r\n\" id=\"m8eb03e0360\" style=\"stroke:#000000;stroke-width:0.8;\"/>\r\n      </defs>\r\n      <g>\r\n       <use style=\"stroke:#000000;stroke-width:0.8;\" x=\"90.528125\" xlink:href=\"#m8eb03e0360\" y=\"457.198125\"/>\r\n      </g>\r\n     </g>\r\n     <g id=\"text_1\">\r\n      <!-- Kopi -->\r\n      <defs>\r\n       <path d=\"M 9.8125 72.90625 \r\nL 19.671875 72.90625 \r\nL 19.671875 42.09375 \r\nL 52.390625 72.90625 \r\nL 65.09375 72.90625 \r\nL 28.90625 38.921875 \r\nL 67.671875 0 \r\nL 54.6875 0 \r\nL 19.671875 35.109375 \r\nL 19.671875 0 \r\nL 9.8125 0 \r\nz\r\n\" id=\"DejaVuSans-75\"/>\r\n       <path d=\"M 30.609375 48.390625 \r\nQ 23.390625 48.390625 19.1875 42.75 \r\nQ 14.984375 37.109375 14.984375 27.296875 \r\nQ 14.984375 17.484375 19.15625 11.84375 \r\nQ 23.34375 6.203125 30.609375 6.203125 \r\nQ 37.796875 6.203125 41.984375 11.859375 \r\nQ 46.1875 17.53125 46.1875 27.296875 \r\nQ 46.1875 37.015625 41.984375 42.703125 \r\nQ 37.796875 48.390625 30.609375 48.390625 \r\nz\r\nM 30.609375 56 \r\nQ 42.328125 56 49.015625 48.375 \r\nQ 55.71875 40.765625 55.71875 27.296875 \r\nQ 55.71875 13.875 49.015625 6.21875 \r\nQ 42.328125 -1.421875 30.609375 -1.421875 \r\nQ 18.84375 -1.421875 12.171875 6.21875 \r\nQ 5.515625 13.875 5.515625 27.296875 \r\nQ 5.515625 40.765625 12.171875 48.375 \r\nQ 18.84375 56 30.609375 56 \r\nz\r\n\" id=\"DejaVuSans-111\"/>\r\n       <path d=\"M 18.109375 8.203125 \r\nL 18.109375 -20.796875 \r\nL 9.078125 -20.796875 \r\nL 9.078125 54.6875 \r\nL 18.109375 54.6875 \r\nL 18.109375 46.390625 \r\nQ 20.953125 51.265625 25.265625 53.625 \r\nQ 29.59375 56 35.59375 56 \r\nQ 45.5625 56 51.78125 48.09375 \r\nQ 58.015625 40.1875 58.015625 27.296875 \r\nQ 58.015625 14.40625 51.78125 6.484375 \r\nQ 45.5625 -1.421875 35.59375 -1.421875 \r\nQ 29.59375 -1.421875 25.265625 0.953125 \r\nQ 20.953125 3.328125 18.109375 8.203125 \r\nz\r\nM 48.6875 27.296875 \r\nQ 48.6875 37.203125 44.609375 42.84375 \r\nQ 40.53125 48.484375 33.40625 48.484375 \r\nQ 26.265625 48.484375 22.1875 42.84375 \r\nQ 18.109375 37.203125 18.109375 27.296875 \r\nQ 18.109375 17.390625 22.1875 11.75 \r\nQ 26.265625 6.109375 33.40625 6.109375 \r\nQ 40.53125 6.109375 44.609375 11.75 \r\nQ 48.6875 17.390625 48.6875 27.296875 \r\nz\r\n\" id=\"DejaVuSans-112\"/>\r\n       <path d=\"M 9.421875 54.6875 \r\nL 18.40625 54.6875 \r\nL 18.40625 0 \r\nL 9.421875 0 \r\nz\r\nM 9.421875 75.984375 \r\nL 18.40625 75.984375 \r\nL 18.40625 64.59375 \r\nL 9.421875 64.59375 \r\nz\r\n\" id=\"DejaVuSans-105\"/>\r\n      </defs>\r\n      <g transform=\"translate(79.630469 471.796562)scale(0.1 -0.1)\">\r\n       <use xlink:href=\"#DejaVuSans-75\"/>\r\n       <use x=\"65.498047\" xlink:href=\"#DejaVuSans-111\"/>\r\n       <use x=\"126.679688\" xlink:href=\"#DejaVuSans-112\"/>\r\n       <use x=\"190.15625\" xlink:href=\"#DejaVuSans-105\"/>\r\n      </g>\r\n     </g>\r\n    </g>\r\n    <g id=\"xtick_2\">\r\n     <g id=\"line2d_2\">\r\n      <g>\r\n       <use style=\"stroke:#000000;stroke-width:0.8;\" x=\"164.928125\" xlink:href=\"#m8eb03e0360\" y=\"457.198125\"/>\r\n      </g>\r\n     </g>\r\n     <g id=\"text_2\">\r\n      <!-- Minuman -->\r\n      <defs>\r\n       <path d=\"M 9.8125 72.90625 \r\nL 24.515625 72.90625 \r\nL 43.109375 23.296875 \r\nL 61.8125 72.90625 \r\nL 76.515625 72.90625 \r\nL 76.515625 0 \r\nL 66.890625 0 \r\nL 66.890625 64.015625 \r\nL 48.09375 14.015625 \r\nL 38.1875 14.015625 \r\nL 19.390625 64.015625 \r\nL 19.390625 0 \r\nL 9.8125 0 \r\nz\r\n\" id=\"DejaVuSans-77\"/>\r\n       <path d=\"M 54.890625 33.015625 \r\nL 54.890625 0 \r\nL 45.90625 0 \r\nL 45.90625 32.71875 \r\nQ 45.90625 40.484375 42.875 44.328125 \r\nQ 39.84375 48.1875 33.796875 48.1875 \r\nQ 26.515625 48.1875 22.3125 43.546875 \r\nQ 18.109375 38.921875 18.109375 30.90625 \r\nL 18.109375 0 \r\nL 9.078125 0 \r\nL 9.078125 54.6875 \r\nL 18.109375 54.6875 \r\nL 18.109375 46.1875 \r\nQ 21.34375 51.125 25.703125 53.5625 \r\nQ 30.078125 56 35.796875 56 \r\nQ 45.21875 56 50.046875 50.171875 \r\nQ 54.890625 44.34375 54.890625 33.015625 \r\nz\r\n\" id=\"DejaVuSans-110\"/>\r\n       <path d=\"M 8.5 21.578125 \r\nL 8.5 54.6875 \r\nL 17.484375 54.6875 \r\nL 17.484375 21.921875 \r\nQ 17.484375 14.15625 20.5 10.265625 \r\nQ 23.53125 6.390625 29.59375 6.390625 \r\nQ 36.859375 6.390625 41.078125 11.03125 \r\nQ 45.3125 15.671875 45.3125 23.6875 \r\nL 45.3125 54.6875 \r\nL 54.296875 54.6875 \r\nL 54.296875 0 \r\nL 45.3125 0 \r\nL 45.3125 8.40625 \r\nQ 42.046875 3.421875 37.71875 1 \r\nQ 33.40625 -1.421875 27.6875 -1.421875 \r\nQ 18.265625 -1.421875 13.375 4.4375 \r\nQ 8.5 10.296875 8.5 21.578125 \r\nz\r\nM 31.109375 56 \r\nz\r\n\" id=\"DejaVuSans-117\"/>\r\n       <path d=\"M 52 44.1875 \r\nQ 55.375 50.25 60.0625 53.125 \r\nQ 64.75 56 71.09375 56 \r\nQ 79.640625 56 84.28125 50.015625 \r\nQ 88.921875 44.046875 88.921875 33.015625 \r\nL 88.921875 0 \r\nL 79.890625 0 \r\nL 79.890625 32.71875 \r\nQ 79.890625 40.578125 77.09375 44.375 \r\nQ 74.3125 48.1875 68.609375 48.1875 \r\nQ 61.625 48.1875 57.5625 43.546875 \r\nQ 53.515625 38.921875 53.515625 30.90625 \r\nL 53.515625 0 \r\nL 44.484375 0 \r\nL 44.484375 32.71875 \r\nQ 44.484375 40.625 41.703125 44.40625 \r\nQ 38.921875 48.1875 33.109375 48.1875 \r\nQ 26.21875 48.1875 22.15625 43.53125 \r\nQ 18.109375 38.875 18.109375 30.90625 \r\nL 18.109375 0 \r\nL 9.078125 0 \r\nL 9.078125 54.6875 \r\nL 18.109375 54.6875 \r\nL 18.109375 46.1875 \r\nQ 21.1875 51.21875 25.484375 53.609375 \r\nQ 29.78125 56 35.6875 56 \r\nQ 41.65625 56 45.828125 52.96875 \r\nQ 50 49.953125 52 44.1875 \r\nz\r\n\" id=\"DejaVuSans-109\"/>\r\n       <path d=\"M 34.28125 27.484375 \r\nQ 23.390625 27.484375 19.1875 25 \r\nQ 14.984375 22.515625 14.984375 16.5 \r\nQ 14.984375 11.71875 18.140625 8.90625 \r\nQ 21.296875 6.109375 26.703125 6.109375 \r\nQ 34.1875 6.109375 38.703125 11.40625 \r\nQ 43.21875 16.703125 43.21875 25.484375 \r\nL 43.21875 27.484375 \r\nz\r\nM 52.203125 31.203125 \r\nL 52.203125 0 \r\nL 43.21875 0 \r\nL 43.21875 8.296875 \r\nQ 40.140625 3.328125 35.546875 0.953125 \r\nQ 30.953125 -1.421875 24.3125 -1.421875 \r\nQ 15.921875 -1.421875 10.953125 3.296875 \r\nQ 6 8.015625 6 15.921875 \r\nQ 6 25.140625 12.171875 29.828125 \r\nQ 18.359375 34.515625 30.609375 34.515625 \r\nL 43.21875 34.515625 \r\nL 43.21875 35.40625 \r\nQ 43.21875 41.609375 39.140625 45 \r\nQ 35.0625 48.390625 27.6875 48.390625 \r\nQ 23 48.390625 18.546875 47.265625 \r\nQ 14.109375 46.140625 10.015625 43.890625 \r\nL 10.015625 52.203125 \r\nQ 14.9375 54.109375 19.578125 55.046875 \r\nQ 24.21875 56 28.609375 56 \r\nQ 40.484375 56 46.34375 49.84375 \r\nQ 52.203125 43.703125 52.203125 31.203125 \r\nz\r\n\" id=\"DejaVuSans-97\"/>\r\n      </defs>\r\n      <g transform=\"translate(141.784375 471.796562)scale(0.1 -0.1)\">\r\n       <use xlink:href=\"#DejaVuSans-77\"/>\r\n       <use x=\"86.279297\" xlink:href=\"#DejaVuSans-105\"/>\r\n       <use x=\"114.0625\" xlink:href=\"#DejaVuSans-110\"/>\r\n       <use x=\"177.441406\" xlink:href=\"#DejaVuSans-117\"/>\r\n       <use x=\"240.820312\" xlink:href=\"#DejaVuSans-109\"/>\r\n       <use x=\"338.232422\" xlink:href=\"#DejaVuSans-97\"/>\r\n       <use x=\"399.511719\" xlink:href=\"#DejaVuSans-110\"/>\r\n      </g>\r\n     </g>\r\n    </g>\r\n    <g id=\"xtick_3\">\r\n     <g id=\"line2d_3\">\r\n      <g>\r\n       <use style=\"stroke:#000000;stroke-width:0.8;\" x=\"239.328125\" xlink:href=\"#m8eb03e0360\" y=\"457.198125\"/>\r\n      </g>\r\n     </g>\r\n     <g id=\"text_3\">\r\n      <!-- Bakmi -->\r\n      <defs>\r\n       <path d=\"M 19.671875 34.8125 \r\nL 19.671875 8.109375 \r\nL 35.5 8.109375 \r\nQ 43.453125 8.109375 47.28125 11.40625 \r\nQ 51.125 14.703125 51.125 21.484375 \r\nQ 51.125 28.328125 47.28125 31.5625 \r\nQ 43.453125 34.8125 35.5 34.8125 \r\nz\r\nM 19.671875 64.796875 \r\nL 19.671875 42.828125 \r\nL 34.28125 42.828125 \r\nQ 41.5 42.828125 45.03125 45.53125 \r\nQ 48.578125 48.25 48.578125 53.8125 \r\nQ 48.578125 59.328125 45.03125 62.0625 \r\nQ 41.5 64.796875 34.28125 64.796875 \r\nz\r\nM 9.8125 72.90625 \r\nL 35.015625 72.90625 \r\nQ 46.296875 72.90625 52.390625 68.21875 \r\nQ 58.5 63.53125 58.5 54.890625 \r\nQ 58.5 48.1875 55.375 44.234375 \r\nQ 52.25 40.28125 46.1875 39.3125 \r\nQ 53.46875 37.75 57.5 32.78125 \r\nQ 61.53125 27.828125 61.53125 20.40625 \r\nQ 61.53125 10.640625 54.890625 5.3125 \r\nQ 48.25 0 35.984375 0 \r\nL 9.8125 0 \r\nz\r\n\" id=\"DejaVuSans-66\"/>\r\n       <path d=\"M 9.078125 75.984375 \r\nL 18.109375 75.984375 \r\nL 18.109375 31.109375 \r\nL 44.921875 54.6875 \r\nL 56.390625 54.6875 \r\nL 27.390625 29.109375 \r\nL 57.625 0 \r\nL 45.90625 0 \r\nL 18.109375 26.703125 \r\nL 18.109375 0 \r\nL 9.078125 0 \r\nz\r\n\" id=\"DejaVuSans-107\"/>\r\n      </defs>\r\n      <g transform=\"translate(223.678906 471.796562)scale(0.1 -0.1)\">\r\n       <use xlink:href=\"#DejaVuSans-66\"/>\r\n       <use x=\"68.603516\" xlink:href=\"#DejaVuSans-97\"/>\r\n       <use x=\"129.882812\" xlink:href=\"#DejaVuSans-107\"/>\r\n       <use x=\"187.792969\" xlink:href=\"#DejaVuSans-109\"/>\r\n       <use x=\"285.205078\" xlink:href=\"#DejaVuSans-105\"/>\r\n      </g>\r\n     </g>\r\n    </g>\r\n    <g id=\"xtick_4\">\r\n     <g id=\"line2d_4\">\r\n      <g>\r\n       <use style=\"stroke:#000000;stroke-width:0.8;\" x=\"313.728125\" xlink:href=\"#m8eb03e0360\" y=\"457.198125\"/>\r\n      </g>\r\n     </g>\r\n     <g id=\"text_4\">\r\n      <!-- Ayam -->\r\n      <defs>\r\n       <path d=\"M 34.1875 63.1875 \r\nL 20.796875 26.90625 \r\nL 47.609375 26.90625 \r\nz\r\nM 28.609375 72.90625 \r\nL 39.796875 72.90625 \r\nL 67.578125 0 \r\nL 57.328125 0 \r\nL 50.6875 18.703125 \r\nL 17.828125 18.703125 \r\nL 11.1875 0 \r\nL 0.78125 0 \r\nz\r\n\" id=\"DejaVuSans-65\"/>\r\n       <path d=\"M 32.171875 -5.078125 \r\nQ 28.375 -14.84375 24.75 -17.8125 \r\nQ 21.140625 -20.796875 15.09375 -20.796875 \r\nL 7.90625 -20.796875 \r\nL 7.90625 -13.28125 \r\nL 13.1875 -13.28125 \r\nQ 16.890625 -13.28125 18.9375 -11.515625 \r\nQ 21 -9.765625 23.484375 -3.21875 \r\nL 25.09375 0.875 \r\nL 2.984375 54.6875 \r\nL 12.5 54.6875 \r\nL 29.59375 11.921875 \r\nL 46.6875 54.6875 \r\nL 56.203125 54.6875 \r\nz\r\n\" id=\"DejaVuSans-121\"/>\r\n      </defs>\r\n      <g transform=\"translate(299.41875 471.796562)scale(0.1 -0.1)\">\r\n       <use xlink:href=\"#DejaVuSans-65\"/>\r\n       <use x=\"68.314453\" xlink:href=\"#DejaVuSans-121\"/>\r\n       <use x=\"127.494141\" xlink:href=\"#DejaVuSans-97\"/>\r\n       <use x=\"188.773438\" xlink:href=\"#DejaVuSans-109\"/>\r\n      </g>\r\n     </g>\r\n    </g>\r\n    <g id=\"xtick_5\">\r\n     <g id=\"line2d_5\">\r\n      <g>\r\n       <use style=\"stroke:#000000;stroke-width:0.8;\" x=\"388.128125\" xlink:href=\"#m8eb03e0360\" y=\"457.198125\"/>\r\n      </g>\r\n     </g>\r\n     <g id=\"text_5\">\r\n      <!-- Tea -->\r\n      <defs>\r\n       <path d=\"M -0.296875 72.90625 \r\nL 61.375 72.90625 \r\nL 61.375 64.59375 \r\nL 35.5 64.59375 \r\nL 35.5 0 \r\nL 25.59375 0 \r\nL 25.59375 64.59375 \r\nL -0.296875 64.59375 \r\nz\r\n\" id=\"DejaVuSans-84\"/>\r\n       <path d=\"M 56.203125 29.59375 \r\nL 56.203125 25.203125 \r\nL 14.890625 25.203125 \r\nQ 15.484375 15.921875 20.484375 11.0625 \r\nQ 25.484375 6.203125 34.421875 6.203125 \r\nQ 39.59375 6.203125 44.453125 7.46875 \r\nQ 49.3125 8.734375 54.109375 11.28125 \r\nL 54.109375 2.78125 \r\nQ 49.265625 0.734375 44.1875 -0.34375 \r\nQ 39.109375 -1.421875 33.890625 -1.421875 \r\nQ 20.796875 -1.421875 13.15625 6.1875 \r\nQ 5.515625 13.8125 5.515625 26.8125 \r\nQ 5.515625 40.234375 12.765625 48.109375 \r\nQ 20.015625 56 32.328125 56 \r\nQ 43.359375 56 49.78125 48.890625 \r\nQ 56.203125 41.796875 56.203125 29.59375 \r\nz\r\nM 47.21875 32.234375 \r\nQ 47.125 39.59375 43.09375 43.984375 \r\nQ 39.0625 48.390625 32.421875 48.390625 \r\nQ 24.90625 48.390625 20.390625 44.140625 \r\nQ 15.875 39.890625 15.1875 32.171875 \r\nz\r\n\" id=\"DejaVuSans-101\"/>\r\n      </defs>\r\n      <g transform=\"translate(378.946875 471.796562)scale(0.1 -0.1)\">\r\n       <use xlink:href=\"#DejaVuSans-84\"/>\r\n       <use x=\"60.818359\" xlink:href=\"#DejaVuSans-101\"/>\r\n       <use x=\"122.341797\" xlink:href=\"#DejaVuSans-97\"/>\r\n      </g>\r\n     </g>\r\n    </g>\r\n    <g id=\"xtick_6\">\r\n     <g id=\"line2d_6\">\r\n      <g>\r\n       <use style=\"stroke:#000000;stroke-width:0.8;\" x=\"462.528125\" xlink:href=\"#m8eb03e0360\" y=\"457.198125\"/>\r\n      </g>\r\n     </g>\r\n     <g id=\"text_6\">\r\n      <!-- Desserts -->\r\n      <defs>\r\n       <path d=\"M 19.671875 64.796875 \r\nL 19.671875 8.109375 \r\nL 31.59375 8.109375 \r\nQ 46.6875 8.109375 53.6875 14.9375 \r\nQ 60.6875 21.78125 60.6875 36.53125 \r\nQ 60.6875 51.171875 53.6875 57.984375 \r\nQ 46.6875 64.796875 31.59375 64.796875 \r\nz\r\nM 9.8125 72.90625 \r\nL 30.078125 72.90625 \r\nQ 51.265625 72.90625 61.171875 64.09375 \r\nQ 71.09375 55.28125 71.09375 36.53125 \r\nQ 71.09375 17.671875 61.125 8.828125 \r\nQ 51.171875 0 30.078125 0 \r\nL 9.8125 0 \r\nz\r\n\" id=\"DejaVuSans-68\"/>\r\n       <path d=\"M 44.28125 53.078125 \r\nL 44.28125 44.578125 \r\nQ 40.484375 46.53125 36.375 47.5 \r\nQ 32.28125 48.484375 27.875 48.484375 \r\nQ 21.1875 48.484375 17.84375 46.4375 \r\nQ 14.5 44.390625 14.5 40.28125 \r\nQ 14.5 37.15625 16.890625 35.375 \r\nQ 19.28125 33.59375 26.515625 31.984375 \r\nL 29.59375 31.296875 \r\nQ 39.15625 29.25 43.1875 25.515625 \r\nQ 47.21875 21.78125 47.21875 15.09375 \r\nQ 47.21875 7.46875 41.1875 3.015625 \r\nQ 35.15625 -1.421875 24.609375 -1.421875 \r\nQ 20.21875 -1.421875 15.453125 -0.5625 \r\nQ 10.6875 0.296875 5.421875 2 \r\nL 5.421875 11.28125 \r\nQ 10.40625 8.6875 15.234375 7.390625 \r\nQ 20.0625 6.109375 24.8125 6.109375 \r\nQ 31.15625 6.109375 34.5625 8.28125 \r\nQ 37.984375 10.453125 37.984375 14.40625 \r\nQ 37.984375 18.0625 35.515625 20.015625 \r\nQ 33.0625 21.96875 24.703125 23.78125 \r\nL 21.578125 24.515625 \r\nQ 13.234375 26.265625 9.515625 29.90625 \r\nQ 5.8125 33.546875 5.8125 39.890625 \r\nQ 5.8125 47.609375 11.28125 51.796875 \r\nQ 16.75 56 26.8125 56 \r\nQ 31.78125 56 36.171875 55.265625 \r\nQ 40.578125 54.546875 44.28125 53.078125 \r\nz\r\n\" id=\"DejaVuSans-115\"/>\r\n       <path d=\"M 41.109375 46.296875 \r\nQ 39.59375 47.171875 37.8125 47.578125 \r\nQ 36.03125 48 33.890625 48 \r\nQ 26.265625 48 22.1875 43.046875 \r\nQ 18.109375 38.09375 18.109375 28.8125 \r\nL 18.109375 0 \r\nL 9.078125 0 \r\nL 9.078125 54.6875 \r\nL 18.109375 54.6875 \r\nL 18.109375 46.1875 \r\nQ 20.953125 51.171875 25.484375 53.578125 \r\nQ 30.03125 56 36.53125 56 \r\nQ 37.453125 56 38.578125 55.875 \r\nQ 39.703125 55.765625 41.0625 55.515625 \r\nz\r\n\" id=\"DejaVuSans-114\"/>\r\n       <path d=\"M 18.3125 70.21875 \r\nL 18.3125 54.6875 \r\nL 36.8125 54.6875 \r\nL 36.8125 47.703125 \r\nL 18.3125 47.703125 \r\nL 18.3125 18.015625 \r\nQ 18.3125 11.328125 20.140625 9.421875 \r\nQ 21.96875 7.515625 27.59375 7.515625 \r\nL 36.8125 7.515625 \r\nL 36.8125 0 \r\nL 27.59375 0 \r\nQ 17.1875 0 13.234375 3.875 \r\nQ 9.28125 7.765625 9.28125 18.015625 \r\nL 9.28125 47.703125 \r\nL 2.6875 47.703125 \r\nL 2.6875 54.6875 \r\nL 9.28125 54.6875 \r\nL 9.28125 70.21875 \r\nz\r\n\" id=\"DejaVuSans-116\"/>\r\n      </defs>\r\n      <g transform=\"translate(440.695312 471.796562)scale(0.1 -0.1)\">\r\n       <use xlink:href=\"#DejaVuSans-68\"/>\r\n       <use x=\"77.001953\" xlink:href=\"#DejaVuSans-101\"/>\r\n       <use x=\"138.525391\" xlink:href=\"#DejaVuSans-115\"/>\r\n       <use x=\"190.625\" xlink:href=\"#DejaVuSans-115\"/>\r\n       <use x=\"242.724609\" xlink:href=\"#DejaVuSans-101\"/>\r\n       <use x=\"304.248047\" xlink:href=\"#DejaVuSans-114\"/>\r\n       <use x=\"345.361328\" xlink:href=\"#DejaVuSans-116\"/>\r\n       <use x=\"384.570312\" xlink:href=\"#DejaVuSans-115\"/>\r\n      </g>\r\n     </g>\r\n    </g>\r\n    <g id=\"xtick_7\">\r\n     <g id=\"line2d_7\">\r\n      <g>\r\n       <use style=\"stroke:#000000;stroke-width:0.8;\" x=\"536.928125\" xlink:href=\"#m8eb03e0360\" y=\"457.198125\"/>\r\n      </g>\r\n     </g>\r\n     <g id=\"text_7\">\r\n      <!-- Kue &amp; Roti -->\r\n      <defs>\r\n       <path id=\"DejaVuSans-32\"/>\r\n       <path d=\"M 24.3125 39.203125 \r\nQ 19.875 35.25 17.796875 31.3125 \r\nQ 15.71875 27.390625 15.71875 23.09375 \r\nQ 15.71875 15.96875 20.890625 11.234375 \r\nQ 26.078125 6.5 33.890625 6.5 \r\nQ 38.53125 6.5 42.578125 8.03125 \r\nQ 46.625 9.578125 50.203125 12.703125 \r\nz\r\nM 31.203125 44.671875 \r\nL 56 19.28125 \r\nQ 58.890625 23.640625 60.5 28.59375 \r\nQ 62.109375 33.546875 62.40625 39.109375 \r\nL 71.484375 39.109375 \r\nQ 70.90625 32.671875 68.359375 26.359375 \r\nQ 65.828125 20.0625 61.28125 13.921875 \r\nL 74.90625 0 \r\nL 62.59375 0 \r\nL 55.609375 7.171875 \r\nQ 50.53125 2.828125 44.96875 0.703125 \r\nQ 39.40625 -1.421875 33.015625 -1.421875 \r\nQ 21.234375 -1.421875 13.765625 5.296875 \r\nQ 6.296875 12.015625 6.296875 22.515625 \r\nQ 6.296875 28.765625 9.5625 34.25 \r\nQ 12.84375 39.75 19.390625 44.578125 \r\nQ 17.046875 47.65625 15.8125 50.703125 \r\nQ 14.59375 53.765625 14.59375 56.6875 \r\nQ 14.59375 64.59375 20.015625 69.40625 \r\nQ 25.4375 74.21875 34.421875 74.21875 \r\nQ 38.484375 74.21875 42.5 73.34375 \r\nQ 46.53125 72.46875 50.6875 70.703125 \r\nL 50.6875 61.8125 \r\nQ 46.4375 64.109375 42.578125 65.296875 \r\nQ 38.71875 66.5 35.40625 66.5 \r\nQ 30.28125 66.5 27.078125 63.78125 \r\nQ 23.875 61.078125 23.875 56.78125 \r\nQ 23.875 54.296875 25.3125 51.78125 \r\nQ 26.765625 49.265625 31.203125 44.671875 \r\nz\r\n\" id=\"DejaVuSans-38\"/>\r\n       <path d=\"M 44.390625 34.1875 \r\nQ 47.5625 33.109375 50.5625 29.59375 \r\nQ 53.5625 26.078125 56.59375 19.921875 \r\nL 66.609375 0 \r\nL 56 0 \r\nL 46.6875 18.703125 \r\nQ 43.0625 26.03125 39.671875 28.421875 \r\nQ 36.28125 30.8125 30.421875 30.8125 \r\nL 19.671875 30.8125 \r\nL 19.671875 0 \r\nL 9.8125 0 \r\nL 9.8125 72.90625 \r\nL 32.078125 72.90625 \r\nQ 44.578125 72.90625 50.734375 67.671875 \r\nQ 56.890625 62.453125 56.890625 51.90625 \r\nQ 56.890625 45.015625 53.6875 40.46875 \r\nQ 50.484375 35.9375 44.390625 34.1875 \r\nz\r\nM 19.671875 64.796875 \r\nL 19.671875 38.921875 \r\nL 32.078125 38.921875 \r\nQ 39.203125 38.921875 42.84375 42.21875 \r\nQ 46.484375 45.515625 46.484375 51.90625 \r\nQ 46.484375 58.296875 42.84375 61.546875 \r\nQ 39.203125 64.796875 32.078125 64.796875 \r\nz\r\n\" id=\"DejaVuSans-82\"/>\r\n      </defs>\r\n      <g transform=\"translate(510.450781 471.796562)scale(0.1 -0.1)\">\r\n       <use xlink:href=\"#DejaVuSans-75\"/>\r\n       <use x=\"65.498047\" xlink:href=\"#DejaVuSans-117\"/>\r\n       <use x=\"128.876953\" xlink:href=\"#DejaVuSans-101\"/>\r\n       <use x=\"190.400391\" xlink:href=\"#DejaVuSans-32\"/>\r\n       <use x=\"222.1875\" xlink:href=\"#DejaVuSans-38\"/>\r\n       <use x=\"300.166016\" xlink:href=\"#DejaVuSans-32\"/>\r\n       <use x=\"331.953125\" xlink:href=\"#DejaVuSans-82\"/>\r\n       <use x=\"401.373047\" xlink:href=\"#DejaVuSans-111\"/>\r\n       <use x=\"462.554688\" xlink:href=\"#DejaVuSans-116\"/>\r\n       <use x=\"501.763672\" xlink:href=\"#DejaVuSans-105\"/>\r\n      </g>\r\n     </g>\r\n    </g>\r\n    <g id=\"xtick_8\">\r\n     <g id=\"line2d_8\">\r\n      <g>\r\n       <use style=\"stroke:#000000;stroke-width:0.8;\" x=\"611.328125\" xlink:href=\"#m8eb03e0360\" y=\"457.198125\"/>\r\n      </g>\r\n     </g>\r\n     <g id=\"text_8\">\r\n      <!-- Snacks -->\r\n      <defs>\r\n       <path d=\"M 53.515625 70.515625 \r\nL 53.515625 60.890625 \r\nQ 47.90625 63.578125 42.921875 64.890625 \r\nQ 37.9375 66.21875 33.296875 66.21875 \r\nQ 25.25 66.21875 20.875 63.09375 \r\nQ 16.5 59.96875 16.5 54.203125 \r\nQ 16.5 49.359375 19.40625 46.890625 \r\nQ 22.3125 44.4375 30.421875 42.921875 \r\nL 36.375 41.703125 \r\nQ 47.40625 39.59375 52.65625 34.296875 \r\nQ 57.90625 29 57.90625 20.125 \r\nQ 57.90625 9.515625 50.796875 4.046875 \r\nQ 43.703125 -1.421875 29.984375 -1.421875 \r\nQ 24.8125 -1.421875 18.96875 -0.25 \r\nQ 13.140625 0.921875 6.890625 3.21875 \r\nL 6.890625 13.375 \r\nQ 12.890625 10.015625 18.65625 8.296875 \r\nQ 24.421875 6.59375 29.984375 6.59375 \r\nQ 38.421875 6.59375 43.015625 9.90625 \r\nQ 47.609375 13.234375 47.609375 19.390625 \r\nQ 47.609375 24.75 44.3125 27.78125 \r\nQ 41.015625 30.8125 33.5 32.328125 \r\nL 27.484375 33.5 \r\nQ 16.453125 35.6875 11.515625 40.375 \r\nQ 6.59375 45.0625 6.59375 53.421875 \r\nQ 6.59375 63.09375 13.40625 68.65625 \r\nQ 20.21875 74.21875 32.171875 74.21875 \r\nQ 37.3125 74.21875 42.625 73.28125 \r\nQ 47.953125 72.359375 53.515625 70.515625 \r\nz\r\n\" id=\"DejaVuSans-83\"/>\r\n       <path d=\"M 48.78125 52.59375 \r\nL 48.78125 44.1875 \r\nQ 44.96875 46.296875 41.140625 47.34375 \r\nQ 37.3125 48.390625 33.40625 48.390625 \r\nQ 24.65625 48.390625 19.8125 42.84375 \r\nQ 14.984375 37.3125 14.984375 27.296875 \r\nQ 14.984375 17.28125 19.8125 11.734375 \r\nQ 24.65625 6.203125 33.40625 6.203125 \r\nQ 37.3125 6.203125 41.140625 7.25 \r\nQ 44.96875 8.296875 48.78125 10.40625 \r\nL 48.78125 2.09375 \r\nQ 45.015625 0.34375 40.984375 -0.53125 \r\nQ 36.96875 -1.421875 32.421875 -1.421875 \r\nQ 20.0625 -1.421875 12.78125 6.34375 \r\nQ 5.515625 14.109375 5.515625 27.296875 \r\nQ 5.515625 40.671875 12.859375 48.328125 \r\nQ 20.21875 56 33.015625 56 \r\nQ 37.15625 56 41.109375 55.140625 \r\nQ 45.0625 54.296875 48.78125 52.59375 \r\nz\r\n\" id=\"DejaVuSans-99\"/>\r\n      </defs>\r\n      <g transform=\"translate(593.671875 471.796562)scale(0.1 -0.1)\">\r\n       <use xlink:href=\"#DejaVuSans-83\"/>\r\n       <use x=\"63.476562\" xlink:href=\"#DejaVuSans-110\"/>\r\n       <use x=\"126.855469\" xlink:href=\"#DejaVuSans-97\"/>\r\n       <use x=\"188.134766\" xlink:href=\"#DejaVuSans-99\"/>\r\n       <use x=\"243.115234\" xlink:href=\"#DejaVuSans-107\"/>\r\n       <use x=\"301.025391\" xlink:href=\"#DejaVuSans-115\"/>\r\n      </g>\r\n     </g>\r\n    </g>\r\n    <g id=\"xtick_9\">\r\n     <g id=\"line2d_9\">\r\n      <g>\r\n       <use style=\"stroke:#000000;stroke-width:0.8;\" x=\"685.728125\" xlink:href=\"#m8eb03e0360\" y=\"457.198125\"/>\r\n      </g>\r\n     </g>\r\n     <g id=\"text_9\">\r\n      <!-- Seafood -->\r\n      <defs>\r\n       <path d=\"M 37.109375 75.984375 \r\nL 37.109375 68.5 \r\nL 28.515625 68.5 \r\nQ 23.6875 68.5 21.796875 66.546875 \r\nQ 19.921875 64.59375 19.921875 59.515625 \r\nL 19.921875 54.6875 \r\nL 34.71875 54.6875 \r\nL 34.71875 47.703125 \r\nL 19.921875 47.703125 \r\nL 19.921875 0 \r\nL 10.890625 0 \r\nL 10.890625 47.703125 \r\nL 2.296875 47.703125 \r\nL 2.296875 54.6875 \r\nL 10.890625 54.6875 \r\nL 10.890625 58.5 \r\nQ 10.890625 67.625 15.140625 71.796875 \r\nQ 19.390625 75.984375 28.609375 75.984375 \r\nz\r\n\" id=\"DejaVuSans-102\"/>\r\n       <path d=\"M 45.40625 46.390625 \r\nL 45.40625 75.984375 \r\nL 54.390625 75.984375 \r\nL 54.390625 0 \r\nL 45.40625 0 \r\nL 45.40625 8.203125 \r\nQ 42.578125 3.328125 38.25 0.953125 \r\nQ 33.9375 -1.421875 27.875 -1.421875 \r\nQ 17.96875 -1.421875 11.734375 6.484375 \r\nQ 5.515625 14.40625 5.515625 27.296875 \r\nQ 5.515625 40.1875 11.734375 48.09375 \r\nQ 17.96875 56 27.875 56 \r\nQ 33.9375 56 38.25 53.625 \r\nQ 42.578125 51.265625 45.40625 46.390625 \r\nz\r\nM 14.796875 27.296875 \r\nQ 14.796875 17.390625 18.875 11.75 \r\nQ 22.953125 6.109375 30.078125 6.109375 \r\nQ 37.203125 6.109375 41.296875 11.75 \r\nQ 45.40625 17.390625 45.40625 27.296875 \r\nQ 45.40625 37.203125 41.296875 42.84375 \r\nQ 37.203125 48.484375 30.078125 48.484375 \r\nQ 22.953125 48.484375 18.875 42.84375 \r\nQ 14.796875 37.203125 14.796875 27.296875 \r\nz\r\n\" id=\"DejaVuSans-100\"/>\r\n      </defs>\r\n      <g transform=\"translate(665.360156 471.796562)scale(0.1 -0.1)\">\r\n       <use xlink:href=\"#DejaVuSans-83\"/>\r\n       <use x=\"63.476562\" xlink:href=\"#DejaVuSans-101\"/>\r\n       <use x=\"125\" xlink:href=\"#DejaVuSans-97\"/>\r\n       <use x=\"186.279297\" xlink:href=\"#DejaVuSans-102\"/>\r\n       <use x=\"221.484375\" xlink:href=\"#DejaVuSans-111\"/>\r\n       <use x=\"282.666016\" xlink:href=\"#DejaVuSans-111\"/>\r\n       <use x=\"343.847656\" xlink:href=\"#DejaVuSans-100\"/>\r\n      </g>\r\n     </g>\r\n    </g>\r\n    <g id=\"xtick_10\">\r\n     <g id=\"line2d_10\">\r\n      <g>\r\n       <use style=\"stroke:#000000;stroke-width:0.8;\" x=\"760.128125\" xlink:href=\"#m8eb03e0360\" y=\"457.198125\"/>\r\n      </g>\r\n     </g>\r\n     <g id=\"text_10\">\r\n      <!-- Makanan Jalanan -->\r\n      <defs>\r\n       <path d=\"M 9.8125 72.90625 \r\nL 19.671875 72.90625 \r\nL 19.671875 5.078125 \r\nQ 19.671875 -8.109375 14.671875 -14.0625 \r\nQ 9.671875 -20.015625 -1.421875 -20.015625 \r\nL -5.171875 -20.015625 \r\nL -5.171875 -11.71875 \r\nL -2.09375 -11.71875 \r\nQ 4.4375 -11.71875 7.125 -8.046875 \r\nQ 9.8125 -4.390625 9.8125 5.078125 \r\nz\r\n\" id=\"DejaVuSans-74\"/>\r\n       <path d=\"M 9.421875 75.984375 \r\nL 18.40625 75.984375 \r\nL 18.40625 0 \r\nL 9.421875 0 \r\nz\r\n\" id=\"DejaVuSans-108\"/>\r\n      </defs>\r\n      <g transform=\"translate(717.407031 471.796562)scale(0.1 -0.1)\">\r\n       <use xlink:href=\"#DejaVuSans-77\"/>\r\n       <use x=\"86.279297\" xlink:href=\"#DejaVuSans-97\"/>\r\n       <use x=\"147.558594\" xlink:href=\"#DejaVuSans-107\"/>\r\n       <use x=\"205.453125\" xlink:href=\"#DejaVuSans-97\"/>\r\n       <use x=\"266.732422\" xlink:href=\"#DejaVuSans-110\"/>\r\n       <use x=\"330.111328\" xlink:href=\"#DejaVuSans-97\"/>\r\n       <use x=\"391.390625\" xlink:href=\"#DejaVuSans-110\"/>\r\n       <use x=\"454.769531\" xlink:href=\"#DejaVuSans-32\"/>\r\n       <use x=\"486.556641\" xlink:href=\"#DejaVuSans-74\"/>\r\n       <use x=\"516.048828\" xlink:href=\"#DejaVuSans-97\"/>\r\n       <use x=\"577.328125\" xlink:href=\"#DejaVuSans-108\"/>\r\n       <use x=\"605.111328\" xlink:href=\"#DejaVuSans-97\"/>\r\n       <use x=\"666.390625\" xlink:href=\"#DejaVuSans-110\"/>\r\n       <use x=\"729.769531\" xlink:href=\"#DejaVuSans-97\"/>\r\n       <use x=\"791.048828\" xlink:href=\"#DejaVuSans-110\"/>\r\n      </g>\r\n     </g>\r\n    </g>\r\n    <g id=\"xtick_11\">\r\n     <g id=\"line2d_11\">\r\n      <g>\r\n       <use style=\"stroke:#000000;stroke-width:0.8;\" x=\"834.528125\" xlink:href=\"#m8eb03e0360\" y=\"457.198125\"/>\r\n      </g>\r\n     </g>\r\n     <g id=\"text_11\">\r\n      <!-- Soto -->\r\n      <g transform=\"translate(823.275 471.796562)scale(0.1 -0.1)\">\r\n       <use xlink:href=\"#DejaVuSans-83\"/>\r\n       <use x=\"63.476562\" xlink:href=\"#DejaVuSans-111\"/>\r\n       <use x=\"124.658203\" xlink:href=\"#DejaVuSans-116\"/>\r\n       <use x=\"163.867188\" xlink:href=\"#DejaVuSans-111\"/>\r\n      </g>\r\n     </g>\r\n    </g>\r\n    <g id=\"xtick_12\">\r\n     <g id=\"line2d_12\">\r\n      <g>\r\n       <use style=\"stroke:#000000;stroke-width:0.8;\" x=\"908.928125\" xlink:href=\"#m8eb03e0360\" y=\"457.198125\"/>\r\n      </g>\r\n     </g>\r\n     <g id=\"text_12\">\r\n      <!-- Bakso -->\r\n      <g transform=\"translate(893.874219 471.796562)scale(0.1 -0.1)\">\r\n       <use xlink:href=\"#DejaVuSans-66\"/>\r\n       <use x=\"68.603516\" xlink:href=\"#DejaVuSans-97\"/>\r\n       <use x=\"129.882812\" xlink:href=\"#DejaVuSans-107\"/>\r\n       <use x=\"187.792969\" xlink:href=\"#DejaVuSans-115\"/>\r\n       <use x=\"239.892578\" xlink:href=\"#DejaVuSans-111\"/>\r\n      </g>\r\n     </g>\r\n    </g>\r\n    <g id=\"xtick_13\">\r\n     <g id=\"line2d_13\">\r\n      <g>\r\n       <use style=\"stroke:#000000;stroke-width:0.8;\" x=\"983.328125\" xlink:href=\"#m8eb03e0360\" y=\"457.198125\"/>\r\n      </g>\r\n     </g>\r\n     <g id=\"text_13\">\r\n      <!-- Makanan Sehat -->\r\n      <defs>\r\n       <path d=\"M 54.890625 33.015625 \r\nL 54.890625 0 \r\nL 45.90625 0 \r\nL 45.90625 32.71875 \r\nQ 45.90625 40.484375 42.875 44.328125 \r\nQ 39.84375 48.1875 33.796875 48.1875 \r\nQ 26.515625 48.1875 22.3125 43.546875 \r\nQ 18.109375 38.921875 18.109375 30.90625 \r\nL 18.109375 0 \r\nL 9.078125 0 \r\nL 9.078125 75.984375 \r\nL 18.109375 75.984375 \r\nL 18.109375 46.1875 \r\nQ 21.34375 51.125 25.703125 53.5625 \r\nQ 30.078125 56 35.796875 56 \r\nQ 45.21875 56 50.046875 50.171875 \r\nQ 54.890625 44.34375 54.890625 33.015625 \r\nz\r\n\" id=\"DejaVuSans-104\"/>\r\n      </defs>\r\n      <g transform=\"translate(944.557031 471.796562)scale(0.1 -0.1)\">\r\n       <use xlink:href=\"#DejaVuSans-77\"/>\r\n       <use x=\"86.279297\" xlink:href=\"#DejaVuSans-97\"/>\r\n       <use x=\"147.558594\" xlink:href=\"#DejaVuSans-107\"/>\r\n       <use x=\"205.453125\" xlink:href=\"#DejaVuSans-97\"/>\r\n       <use x=\"266.732422\" xlink:href=\"#DejaVuSans-110\"/>\r\n       <use x=\"330.111328\" xlink:href=\"#DejaVuSans-97\"/>\r\n       <use x=\"391.390625\" xlink:href=\"#DejaVuSans-110\"/>\r\n       <use x=\"454.769531\" xlink:href=\"#DejaVuSans-32\"/>\r\n       <use x=\"486.556641\" xlink:href=\"#DejaVuSans-83\"/>\r\n       <use x=\"550.033203\" xlink:href=\"#DejaVuSans-101\"/>\r\n       <use x=\"611.556641\" xlink:href=\"#DejaVuSans-104\"/>\r\n       <use x=\"674.935547\" xlink:href=\"#DejaVuSans-97\"/>\r\n       <use x=\"736.214844\" xlink:href=\"#DejaVuSans-116\"/>\r\n      </g>\r\n     </g>\r\n    </g>\r\n    <g id=\"xtick_14\">\r\n     <g id=\"line2d_14\">\r\n      <g>\r\n       <use style=\"stroke:#000000;stroke-width:0.8;\" x=\"1057.728125\" xlink:href=\"#m8eb03e0360\" y=\"457.198125\"/>\r\n      </g>\r\n     </g>\r\n     <g id=\"text_14\">\r\n      <!-- Satay -->\r\n      <g transform=\"translate(1043.50625 471.796562)scale(0.1 -0.1)\">\r\n       <use xlink:href=\"#DejaVuSans-83\"/>\r\n       <use x=\"63.476562\" xlink:href=\"#DejaVuSans-97\"/>\r\n       <use x=\"124.755859\" xlink:href=\"#DejaVuSans-116\"/>\r\n       <use x=\"163.964844\" xlink:href=\"#DejaVuSans-97\"/>\r\n       <use x=\"225.244141\" xlink:href=\"#DejaVuSans-121\"/>\r\n      </g>\r\n     </g>\r\n    </g>\r\n    <g id=\"xtick_15\">\r\n     <g id=\"line2d_15\">\r\n      <g>\r\n       <use style=\"stroke:#000000;stroke-width:0.8;\" x=\"1132.128125\" xlink:href=\"#m8eb03e0360\" y=\"457.198125\"/>\r\n      </g>\r\n     </g>\r\n     <g id=\"text_15\">\r\n      <!-- Meat -->\r\n      <g transform=\"translate(1119.713281 471.796562)scale(0.1 -0.1)\">\r\n       <use xlink:href=\"#DejaVuSans-77\"/>\r\n       <use x=\"86.279297\" xlink:href=\"#DejaVuSans-101\"/>\r\n       <use x=\"147.802734\" xlink:href=\"#DejaVuSans-97\"/>\r\n       <use x=\"209.082031\" xlink:href=\"#DejaVuSans-116\"/>\r\n      </g>\r\n     </g>\r\n    </g>\r\n    <g id=\"text_16\">\r\n     <!-- Cuisine Type -->\r\n     <defs>\r\n      <path d=\"M 64.40625 67.28125 \r\nL 64.40625 56.890625 \r\nQ 59.421875 61.53125 53.78125 63.8125 \r\nQ 48.140625 66.109375 41.796875 66.109375 \r\nQ 29.296875 66.109375 22.65625 58.46875 \r\nQ 16.015625 50.828125 16.015625 36.375 \r\nQ 16.015625 21.96875 22.65625 14.328125 \r\nQ 29.296875 6.6875 41.796875 6.6875 \r\nQ 48.140625 6.6875 53.78125 8.984375 \r\nQ 59.421875 11.28125 64.40625 15.921875 \r\nL 64.40625 5.609375 \r\nQ 59.234375 2.09375 53.4375 0.328125 \r\nQ 47.65625 -1.421875 41.21875 -1.421875 \r\nQ 24.65625 -1.421875 15.125 8.703125 \r\nQ 5.609375 18.84375 5.609375 36.375 \r\nQ 5.609375 53.953125 15.125 64.078125 \r\nQ 24.65625 74.21875 41.21875 74.21875 \r\nQ 47.75 74.21875 53.53125 72.484375 \r\nQ 59.328125 70.75 64.40625 67.28125 \r\nz\r\n\" id=\"DejaVuSans-67\"/>\r\n     </defs>\r\n     <g transform=\"translate(579.198437 485.474687)scale(0.1 -0.1)\">\r\n      <use xlink:href=\"#DejaVuSans-67\"/>\r\n      <use x=\"69.824219\" xlink:href=\"#DejaVuSans-117\"/>\r\n      <use x=\"133.203125\" xlink:href=\"#DejaVuSans-105\"/>\r\n      <use x=\"160.986328\" xlink:href=\"#DejaVuSans-115\"/>\r\n      <use x=\"213.085938\" xlink:href=\"#DejaVuSans-105\"/>\r\n      <use x=\"240.869141\" xlink:href=\"#DejaVuSans-110\"/>\r\n      <use x=\"304.248047\" xlink:href=\"#DejaVuSans-101\"/>\r\n      <use x=\"365.771484\" xlink:href=\"#DejaVuSans-32\"/>\r\n      <use x=\"397.558594\" xlink:href=\"#DejaVuSans-84\"/>\r\n      <use x=\"458.408203\" xlink:href=\"#DejaVuSans-121\"/>\r\n      <use x=\"517.587891\" xlink:href=\"#DejaVuSans-112\"/>\r\n      <use x=\"581.064453\" xlink:href=\"#DejaVuSans-101\"/>\r\n     </g>\r\n    </g>\r\n   </g>\r\n   <g id=\"matplotlib.axis_2\">\r\n    <g id=\"ytick_1\">\r\n     <g id=\"line2d_16\">\r\n      <defs>\r\n       <path d=\"M 0 0 \r\nL -3.5 0 \r\n\" id=\"m2512177bc4\" style=\"stroke:#000000;stroke-width:0.8;\"/>\r\n      </defs>\r\n      <g>\r\n       <use style=\"stroke:#000000;stroke-width:0.8;\" x=\"53.328125\" xlink:href=\"#m2512177bc4\" y=\"457.198125\"/>\r\n      </g>\r\n     </g>\r\n     <g id=\"text_17\">\r\n      <!-- 0 -->\r\n      <defs>\r\n       <path d=\"M 31.78125 66.40625 \r\nQ 24.171875 66.40625 20.328125 58.90625 \r\nQ 16.5 51.421875 16.5 36.375 \r\nQ 16.5 21.390625 20.328125 13.890625 \r\nQ 24.171875 6.390625 31.78125 6.390625 \r\nQ 39.453125 6.390625 43.28125 13.890625 \r\nQ 47.125 21.390625 47.125 36.375 \r\nQ 47.125 51.421875 43.28125 58.90625 \r\nQ 39.453125 66.40625 31.78125 66.40625 \r\nz\r\nM 31.78125 74.21875 \r\nQ 44.046875 74.21875 50.515625 64.515625 \r\nQ 56.984375 54.828125 56.984375 36.375 \r\nQ 56.984375 17.96875 50.515625 8.265625 \r\nQ 44.046875 -1.421875 31.78125 -1.421875 \r\nQ 19.53125 -1.421875 13.0625 8.265625 \r\nQ 6.59375 17.96875 6.59375 36.375 \r\nQ 6.59375 54.828125 13.0625 64.515625 \r\nQ 19.53125 74.21875 31.78125 74.21875 \r\nz\r\n\" id=\"DejaVuSans-48\"/>\r\n      </defs>\r\n      <g transform=\"translate(39.965625 460.997344)scale(0.1 -0.1)\">\r\n       <use xlink:href=\"#DejaVuSans-48\"/>\r\n      </g>\r\n     </g>\r\n    </g>\r\n    <g id=\"ytick_2\">\r\n     <g id=\"line2d_17\">\r\n      <g>\r\n       <use style=\"stroke:#000000;stroke-width:0.8;\" x=\"53.328125\" xlink:href=\"#m2512177bc4\" y=\"367.89855\"/>\r\n      </g>\r\n     </g>\r\n     <g id=\"text_18\">\r\n      <!-- 500 -->\r\n      <defs>\r\n       <path d=\"M 10.796875 72.90625 \r\nL 49.515625 72.90625 \r\nL 49.515625 64.59375 \r\nL 19.828125 64.59375 \r\nL 19.828125 46.734375 \r\nQ 21.96875 47.46875 24.109375 47.828125 \r\nQ 26.265625 48.1875 28.421875 48.1875 \r\nQ 40.625 48.1875 47.75 41.5 \r\nQ 54.890625 34.8125 54.890625 23.390625 \r\nQ 54.890625 11.625 47.5625 5.09375 \r\nQ 40.234375 -1.421875 26.90625 -1.421875 \r\nQ 22.3125 -1.421875 17.546875 -0.640625 \r\nQ 12.796875 0.140625 7.71875 1.703125 \r\nL 7.71875 11.625 \r\nQ 12.109375 9.234375 16.796875 8.0625 \r\nQ 21.484375 6.890625 26.703125 6.890625 \r\nQ 35.15625 6.890625 40.078125 11.328125 \r\nQ 45.015625 15.765625 45.015625 23.390625 \r\nQ 45.015625 31 40.078125 35.4375 \r\nQ 35.15625 39.890625 26.703125 39.890625 \r\nQ 22.75 39.890625 18.8125 39.015625 \r\nQ 14.890625 38.140625 10.796875 36.28125 \r\nz\r\n\" id=\"DejaVuSans-53\"/>\r\n      </defs>\r\n      <g transform=\"translate(27.240625 371.697769)scale(0.1 -0.1)\">\r\n       <use xlink:href=\"#DejaVuSans-53\"/>\r\n       <use x=\"63.623047\" xlink:href=\"#DejaVuSans-48\"/>\r\n       <use x=\"127.246094\" xlink:href=\"#DejaVuSans-48\"/>\r\n      </g>\r\n     </g>\r\n    </g>\r\n    <g id=\"ytick_3\">\r\n     <g id=\"line2d_18\">\r\n      <g>\r\n       <use style=\"stroke:#000000;stroke-width:0.8;\" x=\"53.328125\" xlink:href=\"#m2512177bc4\" y=\"278.598975\"/>\r\n      </g>\r\n     </g>\r\n     <g id=\"text_19\">\r\n      <!-- 1000 -->\r\n      <defs>\r\n       <path d=\"M 12.40625 8.296875 \r\nL 28.515625 8.296875 \r\nL 28.515625 63.921875 \r\nL 10.984375 60.40625 \r\nL 10.984375 69.390625 \r\nL 28.421875 72.90625 \r\nL 38.28125 72.90625 \r\nL 38.28125 8.296875 \r\nL 54.390625 8.296875 \r\nL 54.390625 0 \r\nL 12.40625 0 \r\nz\r\n\" id=\"DejaVuSans-49\"/>\r\n      </defs>\r\n      <g transform=\"translate(20.878125 282.398194)scale(0.1 -0.1)\">\r\n       <use xlink:href=\"#DejaVuSans-49\"/>\r\n       <use x=\"63.623047\" xlink:href=\"#DejaVuSans-48\"/>\r\n       <use x=\"127.246094\" xlink:href=\"#DejaVuSans-48\"/>\r\n       <use x=\"190.869141\" xlink:href=\"#DejaVuSans-48\"/>\r\n      </g>\r\n     </g>\r\n    </g>\r\n    <g id=\"ytick_4\">\r\n     <g id=\"line2d_19\">\r\n      <g>\r\n       <use style=\"stroke:#000000;stroke-width:0.8;\" x=\"53.328125\" xlink:href=\"#m2512177bc4\" y=\"189.2994\"/>\r\n      </g>\r\n     </g>\r\n     <g id=\"text_20\">\r\n      <!-- 1500 -->\r\n      <g transform=\"translate(20.878125 193.098619)scale(0.1 -0.1)\">\r\n       <use xlink:href=\"#DejaVuSans-49\"/>\r\n       <use x=\"63.623047\" xlink:href=\"#DejaVuSans-53\"/>\r\n       <use x=\"127.246094\" xlink:href=\"#DejaVuSans-48\"/>\r\n       <use x=\"190.869141\" xlink:href=\"#DejaVuSans-48\"/>\r\n      </g>\r\n     </g>\r\n    </g>\r\n    <g id=\"ytick_5\">\r\n     <g id=\"line2d_20\">\r\n      <g>\r\n       <use style=\"stroke:#000000;stroke-width:0.8;\" x=\"53.328125\" xlink:href=\"#m2512177bc4\" y=\"99.999825\"/>\r\n      </g>\r\n     </g>\r\n     <g id=\"text_21\">\r\n      <!-- 2000 -->\r\n      <defs>\r\n       <path d=\"M 19.1875 8.296875 \r\nL 53.609375 8.296875 \r\nL 53.609375 0 \r\nL 7.328125 0 \r\nL 7.328125 8.296875 \r\nQ 12.9375 14.109375 22.625 23.890625 \r\nQ 32.328125 33.6875 34.8125 36.53125 \r\nQ 39.546875 41.84375 41.421875 45.53125 \r\nQ 43.3125 49.21875 43.3125 52.78125 \r\nQ 43.3125 58.59375 39.234375 62.25 \r\nQ 35.15625 65.921875 28.609375 65.921875 \r\nQ 23.96875 65.921875 18.8125 64.3125 \r\nQ 13.671875 62.703125 7.8125 59.421875 \r\nL 7.8125 69.390625 \r\nQ 13.765625 71.78125 18.9375 73 \r\nQ 24.125 74.21875 28.421875 74.21875 \r\nQ 39.75 74.21875 46.484375 68.546875 \r\nQ 53.21875 62.890625 53.21875 53.421875 \r\nQ 53.21875 48.921875 51.53125 44.890625 \r\nQ 49.859375 40.875 45.40625 35.40625 \r\nQ 44.1875 33.984375 37.640625 27.21875 \r\nQ 31.109375 20.453125 19.1875 8.296875 \r\nz\r\n\" id=\"DejaVuSans-50\"/>\r\n      </defs>\r\n      <g transform=\"translate(20.878125 103.799044)scale(0.1 -0.1)\">\r\n       <use xlink:href=\"#DejaVuSans-50\"/>\r\n       <use x=\"63.623047\" xlink:href=\"#DejaVuSans-48\"/>\r\n       <use x=\"127.246094\" xlink:href=\"#DejaVuSans-48\"/>\r\n       <use x=\"190.869141\" xlink:href=\"#DejaVuSans-48\"/>\r\n      </g>\r\n     </g>\r\n    </g>\r\n    <g id=\"text_22\">\r\n     <!-- Count -->\r\n     <g transform=\"translate(14.798437 254.606562)rotate(-90)scale(0.1 -0.1)\">\r\n      <use xlink:href=\"#DejaVuSans-67\"/>\r\n      <use x=\"69.824219\" xlink:href=\"#DejaVuSans-111\"/>\r\n      <use x=\"131.005859\" xlink:href=\"#DejaVuSans-117\"/>\r\n      <use x=\"194.384766\" xlink:href=\"#DejaVuSans-110\"/>\r\n      <use x=\"257.763672\" xlink:href=\"#DejaVuSans-116\"/>\r\n     </g>\r\n    </g>\r\n   </g>\r\n   <g id=\"line2d_21\">\r\n    <path clip-path=\"url(#p982e79b8fb)\" d=\"M 0 0 \r\n\" style=\"fill:none;stroke:#424242;stroke-linecap:square;stroke-width:2.7;\"/>\r\n   </g>\r\n   <g id=\"line2d_22\">\r\n    <path clip-path=\"url(#p982e79b8fb)\" d=\"M 0 0 \r\n\" style=\"fill:none;stroke:#424242;stroke-linecap:square;stroke-width:2.7;\"/>\r\n   </g>\r\n   <g id=\"line2d_23\">\r\n    <path clip-path=\"url(#p982e79b8fb)\" d=\"M 0 0 \r\n\" style=\"fill:none;stroke:#424242;stroke-linecap:square;stroke-width:2.7;\"/>\r\n   </g>\r\n   <g id=\"line2d_24\">\r\n    <path clip-path=\"url(#p982e79b8fb)\" d=\"M 0 0 \r\n\" style=\"fill:none;stroke:#424242;stroke-linecap:square;stroke-width:2.7;\"/>\r\n   </g>\r\n   <g id=\"line2d_25\">\r\n    <path clip-path=\"url(#p982e79b8fb)\" d=\"M 0 0 \r\n\" style=\"fill:none;stroke:#424242;stroke-linecap:square;stroke-width:2.7;\"/>\r\n   </g>\r\n   <g id=\"line2d_26\">\r\n    <path clip-path=\"url(#p982e79b8fb)\" d=\"M 0 0 \r\n\" style=\"fill:none;stroke:#424242;stroke-linecap:square;stroke-width:2.7;\"/>\r\n   </g>\r\n   <g id=\"line2d_27\">\r\n    <path clip-path=\"url(#p982e79b8fb)\" d=\"M 0 0 \r\n\" style=\"fill:none;stroke:#424242;stroke-linecap:square;stroke-width:2.7;\"/>\r\n   </g>\r\n   <g id=\"line2d_28\">\r\n    <path clip-path=\"url(#p982e79b8fb)\" d=\"M 0 0 \r\n\" style=\"fill:none;stroke:#424242;stroke-linecap:square;stroke-width:2.7;\"/>\r\n   </g>\r\n   <g id=\"line2d_29\">\r\n    <path clip-path=\"url(#p982e79b8fb)\" d=\"M 0 0 \r\n\" style=\"fill:none;stroke:#424242;stroke-linecap:square;stroke-width:2.7;\"/>\r\n   </g>\r\n   <g id=\"line2d_30\">\r\n    <path clip-path=\"url(#p982e79b8fb)\" d=\"M 0 0 \r\n\" style=\"fill:none;stroke:#424242;stroke-linecap:square;stroke-width:2.7;\"/>\r\n   </g>\r\n   <g id=\"line2d_31\">\r\n    <path clip-path=\"url(#p982e79b8fb)\" d=\"M 0 0 \r\n\" style=\"fill:none;stroke:#424242;stroke-linecap:square;stroke-width:2.7;\"/>\r\n   </g>\r\n   <g id=\"line2d_32\">\r\n    <path clip-path=\"url(#p982e79b8fb)\" d=\"M 0 0 \r\n\" style=\"fill:none;stroke:#424242;stroke-linecap:square;stroke-width:2.7;\"/>\r\n   </g>\r\n   <g id=\"line2d_33\">\r\n    <path clip-path=\"url(#p982e79b8fb)\" d=\"M 0 0 \r\n\" style=\"fill:none;stroke:#424242;stroke-linecap:square;stroke-width:2.7;\"/>\r\n   </g>\r\n   <g id=\"line2d_34\">\r\n    <path clip-path=\"url(#p982e79b8fb)\" d=\"M 0 0 \r\n\" style=\"fill:none;stroke:#424242;stroke-linecap:square;stroke-width:2.7;\"/>\r\n   </g>\r\n   <g id=\"line2d_35\">\r\n    <path clip-path=\"url(#p982e79b8fb)\" d=\"M 0 0 \r\n\" style=\"fill:none;stroke:#424242;stroke-linecap:square;stroke-width:2.7;\"/>\r\n   </g>\r\n   <g id=\"patch_18\">\r\n    <path d=\"M 53.328125 457.198125 \r\nL 53.328125 22.318125 \r\n\" style=\"fill:none;stroke:#000000;stroke-linecap:square;stroke-linejoin:miter;stroke-width:0.8;\"/>\r\n   </g>\r\n   <g id=\"patch_19\">\r\n    <path d=\"M 1169.328125 457.198125 \r\nL 1169.328125 22.318125 \r\n\" style=\"fill:none;stroke:#000000;stroke-linecap:square;stroke-linejoin:miter;stroke-width:0.8;\"/>\r\n   </g>\r\n   <g id=\"patch_20\">\r\n    <path d=\"M 53.328125 457.198125 \r\nL 1169.328125 457.198125 \r\n\" style=\"fill:none;stroke:#000000;stroke-linecap:square;stroke-linejoin:miter;stroke-width:0.8;\"/>\r\n   </g>\r\n   <g id=\"patch_21\">\r\n    <path d=\"M 53.328125 22.318125 \r\nL 1169.328125 22.318125 \r\n\" style=\"fill:none;stroke:#000000;stroke-linecap:square;stroke-linejoin:miter;stroke-width:0.8;\"/>\r\n   </g>\r\n   <g id=\"text_23\">\r\n    <!-- Top 15 Cuisine Types in Jakarta -->\r\n    <g transform=\"translate(516.693125 16.318125)scale(0.12 -0.12)\">\r\n     <use xlink:href=\"#DejaVuSans-84\"/>\r\n     <use x=\"60.818359\" xlink:href=\"#DejaVuSans-111\"/>\r\n     <use x=\"122\" xlink:href=\"#DejaVuSans-112\"/>\r\n     <use x=\"185.476562\" xlink:href=\"#DejaVuSans-32\"/>\r\n     <use x=\"217.263672\" xlink:href=\"#DejaVuSans-49\"/>\r\n     <use x=\"280.886719\" xlink:href=\"#DejaVuSans-53\"/>\r\n     <use x=\"344.509766\" xlink:href=\"#DejaVuSans-32\"/>\r\n     <use x=\"376.296875\" xlink:href=\"#DejaVuSans-67\"/>\r\n     <use x=\"446.121094\" xlink:href=\"#DejaVuSans-117\"/>\r\n     <use x=\"509.5\" xlink:href=\"#DejaVuSans-105\"/>\r\n     <use x=\"537.283203\" xlink:href=\"#DejaVuSans-115\"/>\r\n     <use x=\"589.382812\" xlink:href=\"#DejaVuSans-105\"/>\r\n     <use x=\"617.166016\" xlink:href=\"#DejaVuSans-110\"/>\r\n     <use x=\"680.544922\" xlink:href=\"#DejaVuSans-101\"/>\r\n     <use x=\"742.068359\" xlink:href=\"#DejaVuSans-32\"/>\r\n     <use x=\"773.855469\" xlink:href=\"#DejaVuSans-84\"/>\r\n     <use x=\"834.705078\" xlink:href=\"#DejaVuSans-121\"/>\r\n     <use x=\"893.884766\" xlink:href=\"#DejaVuSans-112\"/>\r\n     <use x=\"957.361328\" xlink:href=\"#DejaVuSans-101\"/>\r\n     <use x=\"1018.884766\" xlink:href=\"#DejaVuSans-115\"/>\r\n     <use x=\"1070.984375\" xlink:href=\"#DejaVuSans-32\"/>\r\n     <use x=\"1102.771484\" xlink:href=\"#DejaVuSans-105\"/>\r\n     <use x=\"1130.554688\" xlink:href=\"#DejaVuSans-110\"/>\r\n     <use x=\"1193.933594\" xlink:href=\"#DejaVuSans-32\"/>\r\n     <use x=\"1225.720703\" xlink:href=\"#DejaVuSans-74\"/>\r\n     <use x=\"1255.212891\" xlink:href=\"#DejaVuSans-97\"/>\r\n     <use x=\"1316.492188\" xlink:href=\"#DejaVuSans-107\"/>\r\n     <use x=\"1374.386719\" xlink:href=\"#DejaVuSans-97\"/>\r\n     <use x=\"1435.666016\" xlink:href=\"#DejaVuSans-114\"/>\r\n     <use x=\"1476.779297\" xlink:href=\"#DejaVuSans-116\"/>\r\n     <use x=\"1515.988281\" xlink:href=\"#DejaVuSans-97\"/>\r\n    </g>\r\n   </g>\r\n  </g>\r\n </g>\r\n <defs>\r\n  <clipPath id=\"p982e79b8fb\">\r\n   <rect height=\"434.88\" width=\"1116\" x=\"53.328125\" y=\"22.318125\"/>\r\n  </clipPath>\r\n </defs>\r\n</svg>\r\n",
      "image/png": "[encoded data removed]"
     },
     "metadata": {
      "needs_background": "light"
     }
    }
   ],
   "source": [
    "csne_not_unspecified = csne_counts[1:35]\n",
    "csne_not_unspecified_top15 = csne_counts[1:16]\n",
    "\n",
    "plt.figure(figsize=(20,8))\n",
    "ax=sns.barplot(x=\"Cuisine Type\", y=\"Count\", data=csne_not_unspecified_top15)\n",
    "ax.set_title('Top 15 Cuisine Types in Jakarta')\n",
    "plt.show()"
   ]
  },
  {
   "cell_type": "code",
   "execution_count": 141,
   "metadata": {},
   "outputs": [],
   "source": [
    "#Let's check the Unique Values of Cuisine Regionality\n",
    "\n",
    "rgn_type = []\n",
    "\n",
    "#Type = List\n",
    "for index, row in rdf.iterrows():\n",
    "    final = row['NEW Cuisine Regionality']\n",
    "    rgn_type.extend(final)\n",
    "\n",
    "rgn_type = list(set(rgn_type))"
   ]
  },
  {
   "cell_type": "code",
   "execution_count": 142,
   "metadata": {},
   "outputs": [],
   "source": [
    "#Make A New List to store the Restaurant Type Counts\n",
    "\n",
    "rgn_type_ct = []\n",
    "\n",
    "# Type = List\n",
    "for i in rgn_type:\n",
    "    count = sum(rdf['NEW Cuisine Regionality'].apply(lambda x: i in x))\n",
    "    rgn_type_ct.append(count)\n",
    "\n",
    "\n",
    "#Convert the Lists into A DataFrame\n",
    "\n",
    "rgn_counts = pd.DataFrame({'Cuisine Regionality': rgn_type, 'Count': rgn_type_ct})\n",
    "rgn_counts.sort_values(by='Count', ascending=False, inplace=True)\n",
    "rgn_counts.reset_index(drop=True, inplace=True)"
   ]
  },
  {
   "cell_type": "code",
   "execution_count": 143,
   "metadata": {},
   "outputs": [
    {
     "output_type": "execute_result",
     "data": {
      "text/plain": "   Cuisine Regionality  Count\n0            Indonesia   5630\n1            No Region   2414\n2                Barat   1161\n3   Unspecified Region   1140\n4                 Asia   1112\n5                 Jawa   1018\n6              Chinese   1011\n7               Jepang    619\n8                Itali    379\n9                Sunda    291\n10              Betawi    224\n11               Medan    196\n12               Korea    170\n13              Padang    168\n14           Palembang    135\n15               Eropa    115\n16             Amerika    101\n17                Thai     92\n18                Aceh     86\n19              Manado     79\n20              Bangka     76\n21              Fusion     66\n22          Kalimantan     59\n23                Arab     56\n24          Yogyakarta     53\n25            Makassar     49\n26                Bali     49\n27           Peranakan     49\n28        Timur Tengah     43\n29            Sumatera     39\n30           Singapura     37\n31               India     33\n32               Batak     29\n33               Turki     26\n34            Malaysia     22\n35           Taiwanese     21\n36         Kontinental     21\n37             Spanyol     17\n38            Perancis     15\n39              Lombok     15\n40             Vietnam     14\n41         India Utara     13\n42             Meksiko     12\n43         Mediterania     10\n44            Sulawesi      9\n45             Belanda      8\n46          Australian      6\n47              Jerman      6\n48       India Selatan      6\n49       Amerika Latin      4\n50             Libanon      2\n51            Mongolia      2\n52              Yunani      1\n53             Inggris      1\n54            Pakistan      1\n55            Peruvian      1\n56              Maroko      1",
      "text/html": "<div>\n<style scoped>\n    .dataframe tbody tr th:only-of-type {\n        vertical-align: middle;\n    }\n\n    .dataframe tbody tr th {\n        vertical-align: top;\n    }\n\n    .dataframe thead th {\n        text-align: right;\n    }\n</style>\n<table border=\"1\" class=\"dataframe\">\n  <thead>\n    <tr style=\"text-align: right;\">\n      <th></th>\n      <th>Cuisine Regionality</th>\n      <th>Count</th>\n    </tr>\n  </thead>\n  <tbody>\n    <tr>\n      <th>0</th>\n      <td>Indonesia</td>\n      <td>5630</td>\n    </tr>\n    <tr>\n      <th>1</th>\n      <td>No Region</td>\n      <td>2414</td>\n    </tr>\n    <tr>\n      <th>2</th>\n      <td>Barat</td>\n      <td>1161</td>\n    </tr>\n    <tr>\n      <th>3</th>\n      <td>Unspecified Region</td>\n      <td>1140</td>\n    </tr>\n    <tr>\n      <th>4</th>\n      <td>Asia</td>\n      <td>1112</td>\n    </tr>\n    <tr>\n      <th>5</th>\n      <td>Jawa</td>\n      <td>1018</td>\n    </tr>\n    <tr>\n      <th>6</th>\n      <td>Chinese</td>\n      <td>1011</td>\n    </tr>\n    <tr>\n      <th>7</th>\n      <td>Jepang</td>\n      <td>619</td>\n    </tr>\n    <tr>\n      <th>8</th>\n      <td>Itali</td>\n      <td>379</td>\n    </tr>\n    <tr>\n      <th>9</th>\n      <td>Sunda</td>\n      <td>291</td>\n    </tr>\n    <tr>\n      <th>10</th>\n      <td>Betawi</td>\n      <td>224</td>\n    </tr>\n    <tr>\n      <th>11</th>\n      <td>Medan</td>\n      <td>196</td>\n    </tr>\n    <tr>\n      <th>12</th>\n      <td>Korea</td>\n      <td>170</td>\n    </tr>\n    <tr>\n      <th>13</th>\n      <td>Padang</td>\n      <td>168</td>\n    </tr>\n    <tr>\n      <th>14</th>\n      <td>Palembang</td>\n      <td>135</td>\n    </tr>\n    <tr>\n      <th>15</th>\n      <td>Eropa</td>\n      <td>115</td>\n    </tr>\n    <tr>\n      <th>16</th>\n      <td>Amerika</td>\n      <td>101</td>\n    </tr>\n    <tr>\n      <th>17</th>\n      <td>Thai</td>\n      <td>92</td>\n    </tr>\n    <tr>\n      <th>18</th>\n      <td>Aceh</td>\n      <td>86</td>\n    </tr>\n    <tr>\n      <th>19</th>\n      <td>Manado</td>\n      <td>79</td>\n    </tr>\n    <tr>\n      <th>20</th>\n      <td>Bangka</td>\n      <td>76</td>\n    </tr>\n    <tr>\n      <th>21</th>\n      <td>Fusion</td>\n      <td>66</td>\n    </tr>\n    <tr>\n      <th>22</th>\n      <td>Kalimantan</td>\n      <td>59</td>\n    </tr>\n    <tr>\n      <th>23</th>\n      <td>Arab</td>\n      <td>56</td>\n    </tr>\n    <tr>\n      <th>24</th>\n      <td>Yogyakarta</td>\n      <td>53</td>\n    </tr>\n    <tr>\n      <th>25</th>\n      <td>Makassar</td>\n      <td>49</td>\n    </tr>\n    <tr>\n      <th>26</th>\n      <td>Bali</td>\n      <td>49</td>\n    </tr>\n    <tr>\n      <th>27</th>\n      <td>Peranakan</td>\n      <td>49</td>\n    </tr>\n    <tr>\n      <th>28</th>\n      <td>Timur Tengah</td>\n      <td>43</td>\n    </tr>\n    <tr>\n      <th>29</th>\n      <td>Sumatera</td>\n      <td>39</td>\n    </tr>\n    <tr>\n      <th>30</th>\n      <td>Singapura</td>\n      <td>37</td>\n    </tr>\n    <tr>\n      <th>31</th>\n      <td>India</td>\n      <td>33</td>\n    </tr>\n    <tr>\n      <th>32</th>\n      <td>Batak</td>\n      <td>29</td>\n    </tr>\n    <tr>\n      <th>33</th>\n      <td>Turki</td>\n      <td>26</td>\n    </tr>\n    <tr>\n      <th>34</th>\n      <td>Malaysia</td>\n      <td>22</td>\n    </tr>\n    <tr>\n      <th>35</th>\n      <td>Taiwanese</td>\n      <td>21</td>\n    </tr>\n    <tr>\n      <th>36</th>\n      <td>Kontinental</td>\n      <td>21</td>\n    </tr>\n    <tr>\n      <th>37</th>\n      <td>Spanyol</td>\n      <td>17</td>\n    </tr>\n    <tr>\n      <th>38</th>\n      <td>Perancis</td>\n      <td>15</td>\n    </tr>\n    <tr>\n      <th>39</th>\n      <td>Lombok</td>\n      <td>15</td>\n    </tr>\n    <tr>\n      <th>40</th>\n      <td>Vietnam</td>\n      <td>14</td>\n    </tr>\n    <tr>\n      <th>41</th>\n      <td>India Utara</td>\n      <td>13</td>\n    </tr>\n    <tr>\n      <th>42</th>\n      <td>Meksiko</td>\n      <td>12</td>\n    </tr>\n    <tr>\n      <th>43</th>\n      <td>Mediterania</td>\n      <td>10</td>\n    </tr>\n    <tr>\n      <th>44</th>\n      <td>Sulawesi</td>\n      <td>9</td>\n    </tr>\n    <tr>\n      <th>45</th>\n      <td>Belanda</td>\n      <td>8</td>\n    </tr>\n    <tr>\n      <th>46</th>\n      <td>Australian</td>\n      <td>6</td>\n    </tr>\n    <tr>\n      <th>47</th>\n      <td>Jerman</td>\n      <td>6</td>\n    </tr>\n    <tr>\n      <th>48</th>\n      <td>India Selatan</td>\n      <td>6</td>\n    </tr>\n    <tr>\n      <th>49</th>\n      <td>Amerika Latin</td>\n      <td>4</td>\n    </tr>\n    <tr>\n      <th>50</th>\n      <td>Libanon</td>\n      <td>2</td>\n    </tr>\n    <tr>\n      <th>51</th>\n      <td>Mongolia</td>\n      <td>2</td>\n    </tr>\n    <tr>\n      <th>52</th>\n      <td>Yunani</td>\n      <td>1</td>\n    </tr>\n    <tr>\n      <th>53</th>\n      <td>Inggris</td>\n      <td>1</td>\n    </tr>\n    <tr>\n      <th>54</th>\n      <td>Pakistan</td>\n      <td>1</td>\n    </tr>\n    <tr>\n      <th>55</th>\n      <td>Peruvian</td>\n      <td>1</td>\n    </tr>\n    <tr>\n      <th>56</th>\n      <td>Maroko</td>\n      <td>1</td>\n    </tr>\n  </tbody>\n</table>\n</div>"
     },
     "metadata": {},
     "execution_count": 143
    }
   ],
   "source": [
    "rgn_counts"
   ]
  },
  {
   "cell_type": "code",
   "execution_count": 144,
   "metadata": {},
   "outputs": [
    {
     "output_type": "display_data",
     "data": {
      "text/plain": "<Figure size 1440x576 with 1 Axes>",
      "image/svg+xml": "<?xml version=\"1.0\" encoding=\"utf-8\" standalone=\"no\"?>\r\n<!DOCTYPE svg PUBLIC \"-//W3C//DTD SVG 1.1//EN\"\r\n  \"http://www.w3.org/Graphics/SVG/1.1/DTD/svg11.dtd\">\r\n<!-- Created with matplotlib (https://matplotlib.org/) -->\r\n<svg height=\"494.754375pt\" version=\"1.1\" viewBox=\"0 0 1176.528125 494.754375\" width=\"1176.528125pt\" xmlns=\"http://www.w3.org/2000/svg\" xmlns:xlink=\"http://www.w3.org/1999/xlink\">\r\n <defs>\r\n  <style type=\"text/css\">\r\n*{stroke-linecap:butt;stroke-linejoin:round;}\r\n  </style>\r\n </defs>\r\n <g id=\"figure_1\">\r\n  <g id=\"patch_1\">\r\n   <path d=\"M 0 494.754375 \r\nL 1176.528125 494.754375 \r\nL 1176.528125 0 \r\nL 0 0 \r\nz\r\n\" style=\"fill:none;\"/>\r\n  </g>\r\n  <g id=\"axes_1\">\r\n   <g id=\"patch_2\">\r\n    <path d=\"M 53.328125 457.198125 \r\nL 1169.328125 457.198125 \r\nL 1169.328125 22.318125 \r\nL 53.328125 22.318125 \r\nz\r\n\" style=\"fill:#ffffff;\"/>\r\n   </g>\r\n   <g id=\"patch_3\">\r\n    <path clip-path=\"url(#p265f6feb95)\" d=\"M 58.908125 457.198125 \r\nL 103.548125 457.198125 \r\nL 103.548125 43.026696 \r\nL 58.908125 43.026696 \r\nz\r\n\" style=\"fill:#ea96a3;\"/>\r\n   </g>\r\n   <g id=\"patch_4\">\r\n    <path clip-path=\"url(#p265f6feb95)\" d=\"M 114.708125 457.198125 \r\nL 159.348125 457.198125 \r\nL 159.348125 371.789061 \r\nL 114.708125 371.789061 \r\nz\r\n\" style=\"fill:#e79683;\"/>\r\n   </g>\r\n   <g id=\"patch_5\">\r\n    <path clip-path=\"url(#p265f6feb95)\" d=\"M 170.508125 457.198125 \r\nL 215.148125 457.198125 \r\nL 215.148125 375.39375 \r\nL 170.508125 375.39375 \r\nz\r\n\" style=\"fill:#d7944e;\"/>\r\n   </g>\r\n   <g id=\"patch_6\">\r\n    <path clip-path=\"url(#p265f6feb95)\" d=\"M 226.308125 457.198125 \r\nL 270.948125 457.198125 \r\nL 270.948125 382.308868 \r\nL 226.308125 382.308868 \r\nz\r\n\" style=\"fill:#bf9a4a;\"/>\r\n   </g>\r\n   <g id=\"patch_7\">\r\n    <path clip-path=\"url(#p265f6feb95)\" d=\"M 282.108125 457.198125 \r\nL 326.748125 457.198125 \r\nL 326.748125 382.823824 \r\nL 282.108125 382.823824 \r\nz\r\n\" style=\"fill:#ab9e47;\"/>\r\n   </g>\r\n   <g id=\"patch_8\">\r\n    <path clip-path=\"url(#p265f6feb95)\" d=\"M 337.908125 457.198125 \r\nL 382.548125 457.198125 \r\nL 382.548125 411.661337 \r\nL 337.908125 411.661337 \r\nz\r\n\" style=\"fill:#98a246;\"/>\r\n   </g>\r\n   <g id=\"patch_9\">\r\n    <path clip-path=\"url(#p265f6feb95)\" d=\"M 393.708125 457.198125 \r\nL 438.348125 457.198125 \r\nL 438.348125 429.316958 \r\nL 393.708125 429.316958 \r\nz\r\n\" style=\"fill:#7fa946;\"/>\r\n   </g>\r\n   <g id=\"patch_10\">\r\n    <path clip-path=\"url(#p265f6feb95)\" d=\"M 449.508125 457.198125 \r\nL 494.148125 457.198125 \r\nL 494.148125 435.790685 \r\nL 449.508125 435.790685 \r\nz\r\n\" style=\"fill:#48b052;\"/>\r\n   </g>\r\n   <g id=\"patch_11\">\r\n    <path clip-path=\"url(#p265f6feb95)\" d=\"M 505.308125 457.198125 \r\nL 549.948125 457.198125 \r\nL 549.948125 440.719546 \r\nL 505.308125 440.719546 \r\nz\r\n\" style=\"fill:#49ae83;\"/>\r\n   </g>\r\n   <g id=\"patch_12\">\r\n    <path clip-path=\"url(#p265f6feb95)\" d=\"M 561.108125 457.198125 \r\nL 605.748125 457.198125 \r\nL 605.748125 442.779368 \r\nL 561.108125 442.779368 \r\nz\r\n\" style=\"fill:#4aad96;\"/>\r\n   </g>\r\n   <g id=\"patch_13\">\r\n    <path clip-path=\"url(#p265f6feb95)\" d=\"M 616.908125 457.198125 \r\nL 661.548125 457.198125 \r\nL 661.548125 444.692061 \r\nL 616.908125 444.692061 \r\nz\r\n\" style=\"fill:#4baba4;\"/>\r\n   </g>\r\n   <g id=\"patch_14\">\r\n    <path clip-path=\"url(#p265f6feb95)\" d=\"M 672.708125 457.198125 \r\nL 717.348125 457.198125 \r\nL 717.348125 444.839191 \r\nL 672.708125 444.839191 \r\nz\r\n\" style=\"fill:#4dabb2;\"/>\r\n   </g>\r\n   <g id=\"patch_15\">\r\n    <path clip-path=\"url(#p265f6feb95)\" d=\"M 728.508125 457.198125 \r\nL 773.148125 457.198125 \r\nL 773.148125 447.266839 \r\nL 728.508125 447.266839 \r\nz\r\n\" style=\"fill:#50acc3;\"/>\r\n   </g>\r\n   <g id=\"patch_16\">\r\n    <path clip-path=\"url(#p265f6feb95)\" d=\"M 784.308125 457.198125 \r\nL 828.948125 457.198125 \r\nL 828.948125 448.73814 \r\nL 784.308125 448.73814 \r\nz\r\n\" style=\"fill:#56addb;\"/>\r\n   </g>\r\n   <g id=\"patch_17\">\r\n    <path clip-path=\"url(#p265f6feb95)\" d=\"M 840.108125 457.198125 \r\nL 884.748125 457.198125 \r\nL 884.748125 449.768051 \r\nL 840.108125 449.768051 \r\nz\r\n\" style=\"fill:#94aee8;\"/>\r\n   </g>\r\n   <g id=\"patch_18\">\r\n    <path clip-path=\"url(#p265f6feb95)\" d=\"M 895.908125 457.198125 \r\nL 940.548125 457.198125 \r\nL 940.548125 450.430137 \r\nL 895.908125 450.430137 \r\nz\r\n\" style=\"fill:#b6a8eb;\"/>\r\n   </g>\r\n   <g id=\"patch_19\">\r\n    <path clip-path=\"url(#p265f6feb95)\" d=\"M 951.708125 457.198125 \r\nL 996.348125 457.198125 \r\nL 996.348125 450.871528 \r\nL 951.708125 450.871528 \r\nz\r\n\" style=\"fill:#ce9be9;\"/>\r\n   </g>\r\n   <g id=\"patch_20\">\r\n    <path clip-path=\"url(#p265f6feb95)\" d=\"M 1007.508125 457.198125 \r\nL 1052.148125 457.198125 \r\nL 1052.148125 451.386483 \r\nL 1007.508125 451.386483 \r\nz\r\n\" style=\"fill:#e689e4;\"/>\r\n   </g>\r\n   <g id=\"patch_21\">\r\n    <path clip-path=\"url(#p265f6feb95)\" d=\"M 1063.308125 457.198125 \r\nL 1107.948125 457.198125 \r\nL 1107.948125 451.607179 \r\nL 1063.308125 451.607179 \r\nz\r\n\" style=\"fill:#e88fcc;\"/>\r\n   </g>\r\n   <g id=\"patch_22\">\r\n    <path clip-path=\"url(#p265f6feb95)\" d=\"M 1119.108125 457.198125 \r\nL 1163.748125 457.198125 \r\nL 1163.748125 452.342829 \r\nL 1119.108125 452.342829 \r\nz\r\n\" style=\"fill:#e993b9;\"/>\r\n   </g>\r\n   <g id=\"matplotlib.axis_1\">\r\n    <g id=\"xtick_1\">\r\n     <g id=\"line2d_1\">\r\n      <defs>\r\n       <path d=\"M 0 0 \r\nL 0 3.5 \r\n\" id=\"ma999f82eeb\" style=\"stroke:#000000;stroke-width:0.8;\"/>\r\n      </defs>\r\n      <g>\r\n       <use style=\"stroke:#000000;stroke-width:0.8;\" x=\"81.228125\" xlink:href=\"#ma999f82eeb\" y=\"457.198125\"/>\r\n      </g>\r\n     </g>\r\n     <g id=\"text_1\">\r\n      <!-- Indonesia -->\r\n      <defs>\r\n       <path d=\"M 9.8125 72.90625 \r\nL 19.671875 72.90625 \r\nL 19.671875 0 \r\nL 9.8125 0 \r\nz\r\n\" id=\"DejaVuSans-73\"/>\r\n       <path d=\"M 54.890625 33.015625 \r\nL 54.890625 0 \r\nL 45.90625 0 \r\nL 45.90625 32.71875 \r\nQ 45.90625 40.484375 42.875 44.328125 \r\nQ 39.84375 48.1875 33.796875 48.1875 \r\nQ 26.515625 48.1875 22.3125 43.546875 \r\nQ 18.109375 38.921875 18.109375 30.90625 \r\nL 18.109375 0 \r\nL 9.078125 0 \r\nL 9.078125 54.6875 \r\nL 18.109375 54.6875 \r\nL 18.109375 46.1875 \r\nQ 21.34375 51.125 25.703125 53.5625 \r\nQ 30.078125 56 35.796875 56 \r\nQ 45.21875 56 50.046875 50.171875 \r\nQ 54.890625 44.34375 54.890625 33.015625 \r\nz\r\n\" id=\"DejaVuSans-110\"/>\r\n       <path d=\"M 45.40625 46.390625 \r\nL 45.40625 75.984375 \r\nL 54.390625 75.984375 \r\nL 54.390625 0 \r\nL 45.40625 0 \r\nL 45.40625 8.203125 \r\nQ 42.578125 3.328125 38.25 0.953125 \r\nQ 33.9375 -1.421875 27.875 -1.421875 \r\nQ 17.96875 -1.421875 11.734375 6.484375 \r\nQ 5.515625 14.40625 5.515625 27.296875 \r\nQ 5.515625 40.1875 11.734375 48.09375 \r\nQ 17.96875 56 27.875 56 \r\nQ 33.9375 56 38.25 53.625 \r\nQ 42.578125 51.265625 45.40625 46.390625 \r\nz\r\nM 14.796875 27.296875 \r\nQ 14.796875 17.390625 18.875 11.75 \r\nQ 22.953125 6.109375 30.078125 6.109375 \r\nQ 37.203125 6.109375 41.296875 11.75 \r\nQ 45.40625 17.390625 45.40625 27.296875 \r\nQ 45.40625 37.203125 41.296875 42.84375 \r\nQ 37.203125 48.484375 30.078125 48.484375 \r\nQ 22.953125 48.484375 18.875 42.84375 \r\nQ 14.796875 37.203125 14.796875 27.296875 \r\nz\r\n\" id=\"DejaVuSans-100\"/>\r\n       <path d=\"M 30.609375 48.390625 \r\nQ 23.390625 48.390625 19.1875 42.75 \r\nQ 14.984375 37.109375 14.984375 27.296875 \r\nQ 14.984375 17.484375 19.15625 11.84375 \r\nQ 23.34375 6.203125 30.609375 6.203125 \r\nQ 37.796875 6.203125 41.984375 11.859375 \r\nQ 46.1875 17.53125 46.1875 27.296875 \r\nQ 46.1875 37.015625 41.984375 42.703125 \r\nQ 37.796875 48.390625 30.609375 48.390625 \r\nz\r\nM 30.609375 56 \r\nQ 42.328125 56 49.015625 48.375 \r\nQ 55.71875 40.765625 55.71875 27.296875 \r\nQ 55.71875 13.875 49.015625 6.21875 \r\nQ 42.328125 -1.421875 30.609375 -1.421875 \r\nQ 18.84375 -1.421875 12.171875 6.21875 \r\nQ 5.515625 13.875 5.515625 27.296875 \r\nQ 5.515625 40.765625 12.171875 48.375 \r\nQ 18.84375 56 30.609375 56 \r\nz\r\n\" id=\"DejaVuSans-111\"/>\r\n       <path d=\"M 56.203125 29.59375 \r\nL 56.203125 25.203125 \r\nL 14.890625 25.203125 \r\nQ 15.484375 15.921875 20.484375 11.0625 \r\nQ 25.484375 6.203125 34.421875 6.203125 \r\nQ 39.59375 6.203125 44.453125 7.46875 \r\nQ 49.3125 8.734375 54.109375 11.28125 \r\nL 54.109375 2.78125 \r\nQ 49.265625 0.734375 44.1875 -0.34375 \r\nQ 39.109375 -1.421875 33.890625 -1.421875 \r\nQ 20.796875 -1.421875 13.15625 6.1875 \r\nQ 5.515625 13.8125 5.515625 26.8125 \r\nQ 5.515625 40.234375 12.765625 48.109375 \r\nQ 20.015625 56 32.328125 56 \r\nQ 43.359375 56 49.78125 48.890625 \r\nQ 56.203125 41.796875 56.203125 29.59375 \r\nz\r\nM 47.21875 32.234375 \r\nQ 47.125 39.59375 43.09375 43.984375 \r\nQ 39.0625 48.390625 32.421875 48.390625 \r\nQ 24.90625 48.390625 20.390625 44.140625 \r\nQ 15.875 39.890625 15.1875 32.171875 \r\nz\r\n\" id=\"DejaVuSans-101\"/>\r\n       <path d=\"M 44.28125 53.078125 \r\nL 44.28125 44.578125 \r\nQ 40.484375 46.53125 36.375 47.5 \r\nQ 32.28125 48.484375 27.875 48.484375 \r\nQ 21.1875 48.484375 17.84375 46.4375 \r\nQ 14.5 44.390625 14.5 40.28125 \r\nQ 14.5 37.15625 16.890625 35.375 \r\nQ 19.28125 33.59375 26.515625 31.984375 \r\nL 29.59375 31.296875 \r\nQ 39.15625 29.25 43.1875 25.515625 \r\nQ 47.21875 21.78125 47.21875 15.09375 \r\nQ 47.21875 7.46875 41.1875 3.015625 \r\nQ 35.15625 -1.421875 24.609375 -1.421875 \r\nQ 20.21875 -1.421875 15.453125 -0.5625 \r\nQ 10.6875 0.296875 5.421875 2 \r\nL 5.421875 11.28125 \r\nQ 10.40625 8.6875 15.234375 7.390625 \r\nQ 20.0625 6.109375 24.8125 6.109375 \r\nQ 31.15625 6.109375 34.5625 8.28125 \r\nQ 37.984375 10.453125 37.984375 14.40625 \r\nQ 37.984375 18.0625 35.515625 20.015625 \r\nQ 33.0625 21.96875 24.703125 23.78125 \r\nL 21.578125 24.515625 \r\nQ 13.234375 26.265625 9.515625 29.90625 \r\nQ 5.8125 33.546875 5.8125 39.890625 \r\nQ 5.8125 47.609375 11.28125 51.796875 \r\nQ 16.75 56 26.8125 56 \r\nQ 31.78125 56 36.171875 55.265625 \r\nQ 40.578125 54.546875 44.28125 53.078125 \r\nz\r\n\" id=\"DejaVuSans-115\"/>\r\n       <path d=\"M 9.421875 54.6875 \r\nL 18.40625 54.6875 \r\nL 18.40625 0 \r\nL 9.421875 0 \r\nz\r\nM 9.421875 75.984375 \r\nL 18.40625 75.984375 \r\nL 18.40625 64.59375 \r\nL 9.421875 64.59375 \r\nz\r\n\" id=\"DejaVuSans-105\"/>\r\n       <path d=\"M 34.28125 27.484375 \r\nQ 23.390625 27.484375 19.1875 25 \r\nQ 14.984375 22.515625 14.984375 16.5 \r\nQ 14.984375 11.71875 18.140625 8.90625 \r\nQ 21.296875 6.109375 26.703125 6.109375 \r\nQ 34.1875 6.109375 38.703125 11.40625 \r\nQ 43.21875 16.703125 43.21875 25.484375 \r\nL 43.21875 27.484375 \r\nz\r\nM 52.203125 31.203125 \r\nL 52.203125 0 \r\nL 43.21875 0 \r\nL 43.21875 8.296875 \r\nQ 40.140625 3.328125 35.546875 0.953125 \r\nQ 30.953125 -1.421875 24.3125 -1.421875 \r\nQ 15.921875 -1.421875 10.953125 3.296875 \r\nQ 6 8.015625 6 15.921875 \r\nQ 6 25.140625 12.171875 29.828125 \r\nQ 18.359375 34.515625 30.609375 34.515625 \r\nL 43.21875 34.515625 \r\nL 43.21875 35.40625 \r\nQ 43.21875 41.609375 39.140625 45 \r\nQ 35.0625 48.390625 27.6875 48.390625 \r\nQ 23 48.390625 18.546875 47.265625 \r\nQ 14.109375 46.140625 10.015625 43.890625 \r\nL 10.015625 52.203125 \r\nQ 14.9375 54.109375 19.578125 55.046875 \r\nQ 24.21875 56 28.609375 56 \r\nQ 40.484375 56 46.34375 49.84375 \r\nQ 52.203125 43.703125 52.203125 31.203125 \r\nz\r\n\" id=\"DejaVuSans-97\"/>\r\n      </defs>\r\n      <g transform=\"translate(57.047656 471.796562)scale(0.1 -0.1)\">\r\n       <use xlink:href=\"#DejaVuSans-73\"/>\r\n       <use x=\"29.492188\" xlink:href=\"#DejaVuSans-110\"/>\r\n       <use x=\"92.871094\" xlink:href=\"#DejaVuSans-100\"/>\r\n       <use x=\"156.347656\" xlink:href=\"#DejaVuSans-111\"/>\r\n       <use x=\"217.529297\" xlink:href=\"#DejaVuSans-110\"/>\r\n       <use x=\"280.908203\" xlink:href=\"#DejaVuSans-101\"/>\r\n       <use x=\"342.431641\" xlink:href=\"#DejaVuSans-115\"/>\r\n       <use x=\"394.53125\" xlink:href=\"#DejaVuSans-105\"/>\r\n       <use x=\"422.314453\" xlink:href=\"#DejaVuSans-97\"/>\r\n      </g>\r\n     </g>\r\n    </g>\r\n    <g id=\"xtick_2\">\r\n     <g id=\"line2d_2\">\r\n      <g>\r\n       <use style=\"stroke:#000000;stroke-width:0.8;\" x=\"137.028125\" xlink:href=\"#ma999f82eeb\" y=\"457.198125\"/>\r\n      </g>\r\n     </g>\r\n     <g id=\"text_2\">\r\n      <!-- Barat -->\r\n      <defs>\r\n       <path d=\"M 19.671875 34.8125 \r\nL 19.671875 8.109375 \r\nL 35.5 8.109375 \r\nQ 43.453125 8.109375 47.28125 11.40625 \r\nQ 51.125 14.703125 51.125 21.484375 \r\nQ 51.125 28.328125 47.28125 31.5625 \r\nQ 43.453125 34.8125 35.5 34.8125 \r\nz\r\nM 19.671875 64.796875 \r\nL 19.671875 42.828125 \r\nL 34.28125 42.828125 \r\nQ 41.5 42.828125 45.03125 45.53125 \r\nQ 48.578125 48.25 48.578125 53.8125 \r\nQ 48.578125 59.328125 45.03125 62.0625 \r\nQ 41.5 64.796875 34.28125 64.796875 \r\nz\r\nM 9.8125 72.90625 \r\nL 35.015625 72.90625 \r\nQ 46.296875 72.90625 52.390625 68.21875 \r\nQ 58.5 63.53125 58.5 54.890625 \r\nQ 58.5 48.1875 55.375 44.234375 \r\nQ 52.25 40.28125 46.1875 39.3125 \r\nQ 53.46875 37.75 57.5 32.78125 \r\nQ 61.53125 27.828125 61.53125 20.40625 \r\nQ 61.53125 10.640625 54.890625 5.3125 \r\nQ 48.25 0 35.984375 0 \r\nL 9.8125 0 \r\nz\r\n\" id=\"DejaVuSans-66\"/>\r\n       <path d=\"M 41.109375 46.296875 \r\nQ 39.59375 47.171875 37.8125 47.578125 \r\nQ 36.03125 48 33.890625 48 \r\nQ 26.265625 48 22.1875 43.046875 \r\nQ 18.109375 38.09375 18.109375 28.8125 \r\nL 18.109375 0 \r\nL 9.078125 0 \r\nL 9.078125 54.6875 \r\nL 18.109375 54.6875 \r\nL 18.109375 46.1875 \r\nQ 20.953125 51.171875 25.484375 53.578125 \r\nQ 30.03125 56 36.53125 56 \r\nQ 37.453125 56 38.578125 55.875 \r\nQ 39.703125 55.765625 41.0625 55.515625 \r\nz\r\n\" id=\"DejaVuSans-114\"/>\r\n       <path d=\"M 18.3125 70.21875 \r\nL 18.3125 54.6875 \r\nL 36.8125 54.6875 \r\nL 36.8125 47.703125 \r\nL 18.3125 47.703125 \r\nL 18.3125 18.015625 \r\nQ 18.3125 11.328125 20.140625 9.421875 \r\nQ 21.96875 7.515625 27.59375 7.515625 \r\nL 36.8125 7.515625 \r\nL 36.8125 0 \r\nL 27.59375 0 \r\nQ 17.1875 0 13.234375 3.875 \r\nQ 9.28125 7.765625 9.28125 18.015625 \r\nL 9.28125 47.703125 \r\nL 2.6875 47.703125 \r\nL 2.6875 54.6875 \r\nL 9.28125 54.6875 \r\nL 9.28125 70.21875 \r\nz\r\n\" id=\"DejaVuSans-116\"/>\r\n      </defs>\r\n      <g transform=\"translate(123.453906 471.796562)scale(0.1 -0.1)\">\r\n       <use xlink:href=\"#DejaVuSans-66\"/>\r\n       <use x=\"68.603516\" xlink:href=\"#DejaVuSans-97\"/>\r\n       <use x=\"129.882812\" xlink:href=\"#DejaVuSans-114\"/>\r\n       <use x=\"170.996094\" xlink:href=\"#DejaVuSans-97\"/>\r\n       <use x=\"232.275391\" xlink:href=\"#DejaVuSans-116\"/>\r\n      </g>\r\n     </g>\r\n    </g>\r\n    <g id=\"xtick_3\">\r\n     <g id=\"line2d_3\">\r\n      <g>\r\n       <use style=\"stroke:#000000;stroke-width:0.8;\" x=\"192.828125\" xlink:href=\"#ma999f82eeb\" y=\"457.198125\"/>\r\n      </g>\r\n     </g>\r\n     <g id=\"text_3\">\r\n      <!-- Asia -->\r\n      <defs>\r\n       <path d=\"M 34.1875 63.1875 \r\nL 20.796875 26.90625 \r\nL 47.609375 26.90625 \r\nz\r\nM 28.609375 72.90625 \r\nL 39.796875 72.90625 \r\nL 67.578125 0 \r\nL 57.328125 0 \r\nL 50.6875 18.703125 \r\nL 17.828125 18.703125 \r\nL 11.1875 0 \r\nL 0.78125 0 \r\nz\r\n\" id=\"DejaVuSans-65\"/>\r\n      </defs>\r\n      <g transform=\"translate(182.35 471.796562)scale(0.1 -0.1)\">\r\n       <use xlink:href=\"#DejaVuSans-65\"/>\r\n       <use x=\"68.408203\" xlink:href=\"#DejaVuSans-115\"/>\r\n       <use x=\"120.507812\" xlink:href=\"#DejaVuSans-105\"/>\r\n       <use x=\"148.291016\" xlink:href=\"#DejaVuSans-97\"/>\r\n      </g>\r\n     </g>\r\n    </g>\r\n    <g id=\"xtick_4\">\r\n     <g id=\"line2d_4\">\r\n      <g>\r\n       <use style=\"stroke:#000000;stroke-width:0.8;\" x=\"248.628125\" xlink:href=\"#ma999f82eeb\" y=\"457.198125\"/>\r\n      </g>\r\n     </g>\r\n     <g id=\"text_4\">\r\n      <!-- Jawa -->\r\n      <defs>\r\n       <path d=\"M 9.8125 72.90625 \r\nL 19.671875 72.90625 \r\nL 19.671875 5.078125 \r\nQ 19.671875 -8.109375 14.671875 -14.0625 \r\nQ 9.671875 -20.015625 -1.421875 -20.015625 \r\nL -5.171875 -20.015625 \r\nL -5.171875 -11.71875 \r\nL -2.09375 -11.71875 \r\nQ 4.4375 -11.71875 7.125 -8.046875 \r\nQ 9.8125 -4.390625 9.8125 5.078125 \r\nz\r\n\" id=\"DejaVuSans-74\"/>\r\n       <path d=\"M 4.203125 54.6875 \r\nL 13.1875 54.6875 \r\nL 24.421875 12.015625 \r\nL 35.59375 54.6875 \r\nL 46.1875 54.6875 \r\nL 57.421875 12.015625 \r\nL 68.609375 54.6875 \r\nL 77.59375 54.6875 \r\nL 63.28125 0 \r\nL 52.6875 0 \r\nL 40.921875 44.828125 \r\nL 29.109375 0 \r\nL 18.5 0 \r\nz\r\n\" id=\"DejaVuSans-119\"/>\r\n      </defs>\r\n      <g transform=\"translate(236.935938 471.796562)scale(0.1 -0.1)\">\r\n       <use xlink:href=\"#DejaVuSans-74\"/>\r\n       <use x=\"29.492188\" xlink:href=\"#DejaVuSans-97\"/>\r\n       <use x=\"90.771484\" xlink:href=\"#DejaVuSans-119\"/>\r\n       <use x=\"172.558594\" xlink:href=\"#DejaVuSans-97\"/>\r\n      </g>\r\n     </g>\r\n    </g>\r\n    <g id=\"xtick_5\">\r\n     <g id=\"line2d_5\">\r\n      <g>\r\n       <use style=\"stroke:#000000;stroke-width:0.8;\" x=\"304.428125\" xlink:href=\"#ma999f82eeb\" y=\"457.198125\"/>\r\n      </g>\r\n     </g>\r\n     <g id=\"text_5\">\r\n      <!-- Chinese -->\r\n      <defs>\r\n       <path d=\"M 64.40625 67.28125 \r\nL 64.40625 56.890625 \r\nQ 59.421875 61.53125 53.78125 63.8125 \r\nQ 48.140625 66.109375 41.796875 66.109375 \r\nQ 29.296875 66.109375 22.65625 58.46875 \r\nQ 16.015625 50.828125 16.015625 36.375 \r\nQ 16.015625 21.96875 22.65625 14.328125 \r\nQ 29.296875 6.6875 41.796875 6.6875 \r\nQ 48.140625 6.6875 53.78125 8.984375 \r\nQ 59.421875 11.28125 64.40625 15.921875 \r\nL 64.40625 5.609375 \r\nQ 59.234375 2.09375 53.4375 0.328125 \r\nQ 47.65625 -1.421875 41.21875 -1.421875 \r\nQ 24.65625 -1.421875 15.125 8.703125 \r\nQ 5.609375 18.84375 5.609375 36.375 \r\nQ 5.609375 53.953125 15.125 64.078125 \r\nQ 24.65625 74.21875 41.21875 74.21875 \r\nQ 47.75 74.21875 53.53125 72.484375 \r\nQ 59.328125 70.75 64.40625 67.28125 \r\nz\r\n\" id=\"DejaVuSans-67\"/>\r\n       <path d=\"M 54.890625 33.015625 \r\nL 54.890625 0 \r\nL 45.90625 0 \r\nL 45.90625 32.71875 \r\nQ 45.90625 40.484375 42.875 44.328125 \r\nQ 39.84375 48.1875 33.796875 48.1875 \r\nQ 26.515625 48.1875 22.3125 43.546875 \r\nQ 18.109375 38.921875 18.109375 30.90625 \r\nL 18.109375 0 \r\nL 9.078125 0 \r\nL 9.078125 75.984375 \r\nL 18.109375 75.984375 \r\nL 18.109375 46.1875 \r\nQ 21.34375 51.125 25.703125 53.5625 \r\nQ 30.078125 56 35.796875 56 \r\nQ 45.21875 56 50.046875 50.171875 \r\nQ 54.890625 44.34375 54.890625 33.015625 \r\nz\r\n\" id=\"DejaVuSans-104\"/>\r\n      </defs>\r\n      <g transform=\"translate(284.452344 471.796562)scale(0.1 -0.1)\">\r\n       <use xlink:href=\"#DejaVuSans-67\"/>\r\n       <use x=\"69.824219\" xlink:href=\"#DejaVuSans-104\"/>\r\n       <use x=\"133.203125\" xlink:href=\"#DejaVuSans-105\"/>\r\n       <use x=\"160.986328\" xlink:href=\"#DejaVuSans-110\"/>\r\n       <use x=\"224.365234\" xlink:href=\"#DejaVuSans-101\"/>\r\n       <use x=\"285.888672\" xlink:href=\"#DejaVuSans-115\"/>\r\n       <use x=\"337.988281\" xlink:href=\"#DejaVuSans-101\"/>\r\n      </g>\r\n     </g>\r\n    </g>\r\n    <g id=\"xtick_6\">\r\n     <g id=\"line2d_6\">\r\n      <g>\r\n       <use style=\"stroke:#000000;stroke-width:0.8;\" x=\"360.228125\" xlink:href=\"#ma999f82eeb\" y=\"457.198125\"/>\r\n      </g>\r\n     </g>\r\n     <g id=\"text_6\">\r\n      <!-- Jepang -->\r\n      <defs>\r\n       <path d=\"M 18.109375 8.203125 \r\nL 18.109375 -20.796875 \r\nL 9.078125 -20.796875 \r\nL 9.078125 54.6875 \r\nL 18.109375 54.6875 \r\nL 18.109375 46.390625 \r\nQ 20.953125 51.265625 25.265625 53.625 \r\nQ 29.59375 56 35.59375 56 \r\nQ 45.5625 56 51.78125 48.09375 \r\nQ 58.015625 40.1875 58.015625 27.296875 \r\nQ 58.015625 14.40625 51.78125 6.484375 \r\nQ 45.5625 -1.421875 35.59375 -1.421875 \r\nQ 29.59375 -1.421875 25.265625 0.953125 \r\nQ 20.953125 3.328125 18.109375 8.203125 \r\nz\r\nM 48.6875 27.296875 \r\nQ 48.6875 37.203125 44.609375 42.84375 \r\nQ 40.53125 48.484375 33.40625 48.484375 \r\nQ 26.265625 48.484375 22.1875 42.84375 \r\nQ 18.109375 37.203125 18.109375 27.296875 \r\nQ 18.109375 17.390625 22.1875 11.75 \r\nQ 26.265625 6.109375 33.40625 6.109375 \r\nQ 40.53125 6.109375 44.609375 11.75 \r\nQ 48.6875 17.390625 48.6875 27.296875 \r\nz\r\n\" id=\"DejaVuSans-112\"/>\r\n       <path d=\"M 45.40625 27.984375 \r\nQ 45.40625 37.75 41.375 43.109375 \r\nQ 37.359375 48.484375 30.078125 48.484375 \r\nQ 22.859375 48.484375 18.828125 43.109375 \r\nQ 14.796875 37.75 14.796875 27.984375 \r\nQ 14.796875 18.265625 18.828125 12.890625 \r\nQ 22.859375 7.515625 30.078125 7.515625 \r\nQ 37.359375 7.515625 41.375 12.890625 \r\nQ 45.40625 18.265625 45.40625 27.984375 \r\nz\r\nM 54.390625 6.78125 \r\nQ 54.390625 -7.171875 48.1875 -13.984375 \r\nQ 42 -20.796875 29.203125 -20.796875 \r\nQ 24.46875 -20.796875 20.265625 -20.09375 \r\nQ 16.0625 -19.390625 12.109375 -17.921875 \r\nL 12.109375 -9.1875 \r\nQ 16.0625 -11.328125 19.921875 -12.34375 \r\nQ 23.78125 -13.375 27.78125 -13.375 \r\nQ 36.625 -13.375 41.015625 -8.765625 \r\nQ 45.40625 -4.15625 45.40625 5.171875 \r\nL 45.40625 9.625 \r\nQ 42.625 4.78125 38.28125 2.390625 \r\nQ 33.9375 0 27.875 0 \r\nQ 17.828125 0 11.671875 7.65625 \r\nQ 5.515625 15.328125 5.515625 27.984375 \r\nQ 5.515625 40.671875 11.671875 48.328125 \r\nQ 17.828125 56 27.875 56 \r\nQ 33.9375 56 38.28125 53.609375 \r\nQ 42.625 51.21875 45.40625 46.390625 \r\nL 45.40625 54.6875 \r\nL 54.390625 54.6875 \r\nz\r\n\" id=\"DejaVuSans-103\"/>\r\n      </defs>\r\n      <g transform=\"translate(343.095312 471.796562)scale(0.1 -0.1)\">\r\n       <use xlink:href=\"#DejaVuSans-74\"/>\r\n       <use x=\"29.492188\" xlink:href=\"#DejaVuSans-101\"/>\r\n       <use x=\"91.015625\" xlink:href=\"#DejaVuSans-112\"/>\r\n       <use x=\"154.492188\" xlink:href=\"#DejaVuSans-97\"/>\r\n       <use x=\"215.771484\" xlink:href=\"#DejaVuSans-110\"/>\r\n       <use x=\"279.150391\" xlink:href=\"#DejaVuSans-103\"/>\r\n      </g>\r\n     </g>\r\n    </g>\r\n    <g id=\"xtick_7\">\r\n     <g id=\"line2d_7\">\r\n      <g>\r\n       <use style=\"stroke:#000000;stroke-width:0.8;\" x=\"416.028125\" xlink:href=\"#ma999f82eeb\" y=\"457.198125\"/>\r\n      </g>\r\n     </g>\r\n     <g id=\"text_7\">\r\n      <!-- Itali -->\r\n      <defs>\r\n       <path d=\"M 9.421875 75.984375 \r\nL 18.40625 75.984375 \r\nL 18.40625 0 \r\nL 9.421875 0 \r\nz\r\n\" id=\"DejaVuSans-108\"/>\r\n      </defs>\r\n      <g transform=\"translate(406.750781 471.796562)scale(0.1 -0.1)\">\r\n       <use xlink:href=\"#DejaVuSans-73\"/>\r\n       <use x=\"29.492188\" xlink:href=\"#DejaVuSans-116\"/>\r\n       <use x=\"68.701172\" xlink:href=\"#DejaVuSans-97\"/>\r\n       <use x=\"129.980469\" xlink:href=\"#DejaVuSans-108\"/>\r\n       <use x=\"157.763672\" xlink:href=\"#DejaVuSans-105\"/>\r\n      </g>\r\n     </g>\r\n    </g>\r\n    <g id=\"xtick_8\">\r\n     <g id=\"line2d_8\">\r\n      <g>\r\n       <use style=\"stroke:#000000;stroke-width:0.8;\" x=\"471.828125\" xlink:href=\"#ma999f82eeb\" y=\"457.198125\"/>\r\n      </g>\r\n     </g>\r\n     <g id=\"text_8\">\r\n      <!-- Sunda -->\r\n      <defs>\r\n       <path d=\"M 53.515625 70.515625 \r\nL 53.515625 60.890625 \r\nQ 47.90625 63.578125 42.921875 64.890625 \r\nQ 37.9375 66.21875 33.296875 66.21875 \r\nQ 25.25 66.21875 20.875 63.09375 \r\nQ 16.5 59.96875 16.5 54.203125 \r\nQ 16.5 49.359375 19.40625 46.890625 \r\nQ 22.3125 44.4375 30.421875 42.921875 \r\nL 36.375 41.703125 \r\nQ 47.40625 39.59375 52.65625 34.296875 \r\nQ 57.90625 29 57.90625 20.125 \r\nQ 57.90625 9.515625 50.796875 4.046875 \r\nQ 43.703125 -1.421875 29.984375 -1.421875 \r\nQ 24.8125 -1.421875 18.96875 -0.25 \r\nQ 13.140625 0.921875 6.890625 3.21875 \r\nL 6.890625 13.375 \r\nQ 12.890625 10.015625 18.65625 8.296875 \r\nQ 24.421875 6.59375 29.984375 6.59375 \r\nQ 38.421875 6.59375 43.015625 9.90625 \r\nQ 47.609375 13.234375 47.609375 19.390625 \r\nQ 47.609375 24.75 44.3125 27.78125 \r\nQ 41.015625 30.8125 33.5 32.328125 \r\nL 27.484375 33.5 \r\nQ 16.453125 35.6875 11.515625 40.375 \r\nQ 6.59375 45.0625 6.59375 53.421875 \r\nQ 6.59375 63.09375 13.40625 68.65625 \r\nQ 20.21875 74.21875 32.171875 74.21875 \r\nQ 37.3125 74.21875 42.625 73.28125 \r\nQ 47.953125 72.359375 53.515625 70.515625 \r\nz\r\n\" id=\"DejaVuSans-83\"/>\r\n       <path d=\"M 8.5 21.578125 \r\nL 8.5 54.6875 \r\nL 17.484375 54.6875 \r\nL 17.484375 21.921875 \r\nQ 17.484375 14.15625 20.5 10.265625 \r\nQ 23.53125 6.390625 29.59375 6.390625 \r\nQ 36.859375 6.390625 41.078125 11.03125 \r\nQ 45.3125 15.671875 45.3125 23.6875 \r\nL 45.3125 54.6875 \r\nL 54.296875 54.6875 \r\nL 54.296875 0 \r\nL 45.3125 0 \r\nL 45.3125 8.40625 \r\nQ 42.046875 3.421875 37.71875 1 \r\nQ 33.40625 -1.421875 27.6875 -1.421875 \r\nQ 18.265625 -1.421875 13.375 4.4375 \r\nQ 8.5 10.296875 8.5 21.578125 \r\nz\r\nM 31.109375 56 \r\nz\r\n\" id=\"DejaVuSans-117\"/>\r\n      </defs>\r\n      <g transform=\"translate(456.078125 471.796562)scale(0.1 -0.1)\">\r\n       <use xlink:href=\"#DejaVuSans-83\"/>\r\n       <use x=\"63.476562\" xlink:href=\"#DejaVuSans-117\"/>\r\n       <use x=\"126.855469\" xlink:href=\"#DejaVuSans-110\"/>\r\n       <use x=\"190.234375\" xlink:href=\"#DejaVuSans-100\"/>\r\n       <use x=\"253.710938\" xlink:href=\"#DejaVuSans-97\"/>\r\n      </g>\r\n     </g>\r\n    </g>\r\n    <g id=\"xtick_9\">\r\n     <g id=\"line2d_9\">\r\n      <g>\r\n       <use style=\"stroke:#000000;stroke-width:0.8;\" x=\"527.628125\" xlink:href=\"#ma999f82eeb\" y=\"457.198125\"/>\r\n      </g>\r\n     </g>\r\n     <g id=\"text_9\">\r\n      <!-- Betawi -->\r\n      <g transform=\"translate(510.61875 471.796562)scale(0.1 -0.1)\">\r\n       <use xlink:href=\"#DejaVuSans-66\"/>\r\n       <use x=\"68.603516\" xlink:href=\"#DejaVuSans-101\"/>\r\n       <use x=\"130.126953\" xlink:href=\"#DejaVuSans-116\"/>\r\n       <use x=\"169.335938\" xlink:href=\"#DejaVuSans-97\"/>\r\n       <use x=\"230.615234\" xlink:href=\"#DejaVuSans-119\"/>\r\n       <use x=\"312.402344\" xlink:href=\"#DejaVuSans-105\"/>\r\n      </g>\r\n     </g>\r\n    </g>\r\n    <g id=\"xtick_10\">\r\n     <g id=\"line2d_10\">\r\n      <g>\r\n       <use style=\"stroke:#000000;stroke-width:0.8;\" x=\"583.428125\" xlink:href=\"#ma999f82eeb\" y=\"457.198125\"/>\r\n      </g>\r\n     </g>\r\n     <g id=\"text_10\">\r\n      <!-- Medan -->\r\n      <defs>\r\n       <path d=\"M 9.8125 72.90625 \r\nL 24.515625 72.90625 \r\nL 43.109375 23.296875 \r\nL 61.8125 72.90625 \r\nL 76.515625 72.90625 \r\nL 76.515625 0 \r\nL 66.890625 0 \r\nL 66.890625 64.015625 \r\nL 48.09375 14.015625 \r\nL 38.1875 14.015625 \r\nL 19.390625 64.015625 \r\nL 19.390625 0 \r\nL 9.8125 0 \r\nz\r\n\" id=\"DejaVuSans-77\"/>\r\n      </defs>\r\n      <g transform=\"translate(566.630469 471.796562)scale(0.1 -0.1)\">\r\n       <use xlink:href=\"#DejaVuSans-77\"/>\r\n       <use x=\"86.279297\" xlink:href=\"#DejaVuSans-101\"/>\r\n       <use x=\"147.802734\" xlink:href=\"#DejaVuSans-100\"/>\r\n       <use x=\"211.279297\" xlink:href=\"#DejaVuSans-97\"/>\r\n       <use x=\"272.558594\" xlink:href=\"#DejaVuSans-110\"/>\r\n      </g>\r\n     </g>\r\n    </g>\r\n    <g id=\"xtick_11\">\r\n     <g id=\"line2d_11\">\r\n      <g>\r\n       <use style=\"stroke:#000000;stroke-width:0.8;\" x=\"639.228125\" xlink:href=\"#ma999f82eeb\" y=\"457.198125\"/>\r\n      </g>\r\n     </g>\r\n     <g id=\"text_11\">\r\n      <!-- Korea -->\r\n      <defs>\r\n       <path d=\"M 9.8125 72.90625 \r\nL 19.671875 72.90625 \r\nL 19.671875 42.09375 \r\nL 52.390625 72.90625 \r\nL 65.09375 72.90625 \r\nL 28.90625 38.921875 \r\nL 67.671875 0 \r\nL 54.6875 0 \r\nL 19.671875 35.109375 \r\nL 19.671875 0 \r\nL 9.8125 0 \r\nz\r\n\" id=\"DejaVuSans-75\"/>\r\n      </defs>\r\n      <g transform=\"translate(624.699219 471.796562)scale(0.1 -0.1)\">\r\n       <use xlink:href=\"#DejaVuSans-75\"/>\r\n       <use x=\"65.498047\" xlink:href=\"#DejaVuSans-111\"/>\r\n       <use x=\"126.679688\" xlink:href=\"#DejaVuSans-114\"/>\r\n       <use x=\"167.761719\" xlink:href=\"#DejaVuSans-101\"/>\r\n       <use x=\"229.285156\" xlink:href=\"#DejaVuSans-97\"/>\r\n      </g>\r\n     </g>\r\n    </g>\r\n    <g id=\"xtick_12\">\r\n     <g id=\"line2d_12\">\r\n      <g>\r\n       <use style=\"stroke:#000000;stroke-width:0.8;\" x=\"695.028125\" xlink:href=\"#ma999f82eeb\" y=\"457.198125\"/>\r\n      </g>\r\n     </g>\r\n     <g id=\"text_12\">\r\n      <!-- Padang -->\r\n      <defs>\r\n       <path d=\"M 19.671875 64.796875 \r\nL 19.671875 37.40625 \r\nL 32.078125 37.40625 \r\nQ 38.96875 37.40625 42.71875 40.96875 \r\nQ 46.484375 44.53125 46.484375 51.125 \r\nQ 46.484375 57.671875 42.71875 61.234375 \r\nQ 38.96875 64.796875 32.078125 64.796875 \r\nz\r\nM 9.8125 72.90625 \r\nL 32.078125 72.90625 \r\nQ 44.34375 72.90625 50.609375 67.359375 \r\nQ 56.890625 61.8125 56.890625 51.125 \r\nQ 56.890625 40.328125 50.609375 34.8125 \r\nQ 44.34375 29.296875 32.078125 29.296875 \r\nL 19.671875 29.296875 \r\nL 19.671875 0 \r\nL 9.8125 0 \r\nz\r\n\" id=\"DejaVuSans-80\"/>\r\n      </defs>\r\n      <g transform=\"translate(676.371094 471.796562)scale(0.1 -0.1)\">\r\n       <use xlink:href=\"#DejaVuSans-80\"/>\r\n       <use x=\"60.240234\" xlink:href=\"#DejaVuSans-97\"/>\r\n       <use x=\"121.519531\" xlink:href=\"#DejaVuSans-100\"/>\r\n       <use x=\"184.996094\" xlink:href=\"#DejaVuSans-97\"/>\r\n       <use x=\"246.275391\" xlink:href=\"#DejaVuSans-110\"/>\r\n       <use x=\"309.654297\" xlink:href=\"#DejaVuSans-103\"/>\r\n      </g>\r\n     </g>\r\n    </g>\r\n    <g id=\"xtick_13\">\r\n     <g id=\"line2d_13\">\r\n      <g>\r\n       <use style=\"stroke:#000000;stroke-width:0.8;\" x=\"750.828125\" xlink:href=\"#ma999f82eeb\" y=\"457.198125\"/>\r\n      </g>\r\n     </g>\r\n     <g id=\"text_13\">\r\n      <!-- Palembang -->\r\n      <defs>\r\n       <path d=\"M 52 44.1875 \r\nQ 55.375 50.25 60.0625 53.125 \r\nQ 64.75 56 71.09375 56 \r\nQ 79.640625 56 84.28125 50.015625 \r\nQ 88.921875 44.046875 88.921875 33.015625 \r\nL 88.921875 0 \r\nL 79.890625 0 \r\nL 79.890625 32.71875 \r\nQ 79.890625 40.578125 77.09375 44.375 \r\nQ 74.3125 48.1875 68.609375 48.1875 \r\nQ 61.625 48.1875 57.5625 43.546875 \r\nQ 53.515625 38.921875 53.515625 30.90625 \r\nL 53.515625 0 \r\nL 44.484375 0 \r\nL 44.484375 32.71875 \r\nQ 44.484375 40.625 41.703125 44.40625 \r\nQ 38.921875 48.1875 33.109375 48.1875 \r\nQ 26.21875 48.1875 22.15625 43.53125 \r\nQ 18.109375 38.875 18.109375 30.90625 \r\nL 18.109375 0 \r\nL 9.078125 0 \r\nL 9.078125 54.6875 \r\nL 18.109375 54.6875 \r\nL 18.109375 46.1875 \r\nQ 21.1875 51.21875 25.484375 53.609375 \r\nQ 29.78125 56 35.6875 56 \r\nQ 41.65625 56 45.828125 52.96875 \r\nQ 50 49.953125 52 44.1875 \r\nz\r\n\" id=\"DejaVuSans-109\"/>\r\n       <path d=\"M 48.6875 27.296875 \r\nQ 48.6875 37.203125 44.609375 42.84375 \r\nQ 40.53125 48.484375 33.40625 48.484375 \r\nQ 26.265625 48.484375 22.1875 42.84375 \r\nQ 18.109375 37.203125 18.109375 27.296875 \r\nQ 18.109375 17.390625 22.1875 11.75 \r\nQ 26.265625 6.109375 33.40625 6.109375 \r\nQ 40.53125 6.109375 44.609375 11.75 \r\nQ 48.6875 17.390625 48.6875 27.296875 \r\nz\r\nM 18.109375 46.390625 \r\nQ 20.953125 51.265625 25.265625 53.625 \r\nQ 29.59375 56 35.59375 56 \r\nQ 45.5625 56 51.78125 48.09375 \r\nQ 58.015625 40.1875 58.015625 27.296875 \r\nQ 58.015625 14.40625 51.78125 6.484375 \r\nQ 45.5625 -1.421875 35.59375 -1.421875 \r\nQ 29.59375 -1.421875 25.265625 0.953125 \r\nQ 20.953125 3.328125 18.109375 8.203125 \r\nL 18.109375 0 \r\nL 9.078125 0 \r\nL 9.078125 75.984375 \r\nL 18.109375 75.984375 \r\nz\r\n\" id=\"DejaVuSans-98\"/>\r\n      </defs>\r\n      <g transform=\"translate(722.835156 471.796562)scale(0.1 -0.1)\">\r\n       <use xlink:href=\"#DejaVuSans-80\"/>\r\n       <use x=\"60.240234\" xlink:href=\"#DejaVuSans-97\"/>\r\n       <use x=\"121.519531\" xlink:href=\"#DejaVuSans-108\"/>\r\n       <use x=\"149.302734\" xlink:href=\"#DejaVuSans-101\"/>\r\n       <use x=\"210.826172\" xlink:href=\"#DejaVuSans-109\"/>\r\n       <use x=\"308.238281\" xlink:href=\"#DejaVuSans-98\"/>\r\n       <use x=\"371.714844\" xlink:href=\"#DejaVuSans-97\"/>\r\n       <use x=\"432.994141\" xlink:href=\"#DejaVuSans-110\"/>\r\n       <use x=\"496.373047\" xlink:href=\"#DejaVuSans-103\"/>\r\n      </g>\r\n     </g>\r\n    </g>\r\n    <g id=\"xtick_14\">\r\n     <g id=\"line2d_14\">\r\n      <g>\r\n       <use style=\"stroke:#000000;stroke-width:0.8;\" x=\"806.628125\" xlink:href=\"#ma999f82eeb\" y=\"457.198125\"/>\r\n      </g>\r\n     </g>\r\n     <g id=\"text_14\">\r\n      <!-- Eropa -->\r\n      <defs>\r\n       <path d=\"M 9.8125 72.90625 \r\nL 55.90625 72.90625 \r\nL 55.90625 64.59375 \r\nL 19.671875 64.59375 \r\nL 19.671875 43.015625 \r\nL 54.390625 43.015625 \r\nL 54.390625 34.71875 \r\nL 19.671875 34.71875 \r\nL 19.671875 8.296875 \r\nL 56.78125 8.296875 \r\nL 56.78125 0 \r\nL 9.8125 0 \r\nz\r\n\" id=\"DejaVuSans-69\"/>\r\n      </defs>\r\n      <g transform=\"translate(792.117188 471.796562)scale(0.1 -0.1)\">\r\n       <use xlink:href=\"#DejaVuSans-69\"/>\r\n       <use x=\"63.183594\" xlink:href=\"#DejaVuSans-114\"/>\r\n       <use x=\"104.265625\" xlink:href=\"#DejaVuSans-111\"/>\r\n       <use x=\"165.447266\" xlink:href=\"#DejaVuSans-112\"/>\r\n       <use x=\"228.923828\" xlink:href=\"#DejaVuSans-97\"/>\r\n      </g>\r\n     </g>\r\n    </g>\r\n    <g id=\"xtick_15\">\r\n     <g id=\"line2d_15\">\r\n      <g>\r\n       <use style=\"stroke:#000000;stroke-width:0.8;\" x=\"862.428125\" xlink:href=\"#ma999f82eeb\" y=\"457.198125\"/>\r\n      </g>\r\n     </g>\r\n     <g id=\"text_15\">\r\n      <!-- Amerika -->\r\n      <defs>\r\n       <path d=\"M 9.078125 75.984375 \r\nL 18.109375 75.984375 \r\nL 18.109375 31.109375 \r\nL 44.921875 54.6875 \r\nL 56.390625 54.6875 \r\nL 27.390625 29.109375 \r\nL 57.625 0 \r\nL 45.90625 0 \r\nL 18.109375 26.703125 \r\nL 18.109375 0 \r\nL 9.078125 0 \r\nz\r\n\" id=\"DejaVuSans-107\"/>\r\n      </defs>\r\n      <g transform=\"translate(841.657812 471.796562)scale(0.1 -0.1)\">\r\n       <use xlink:href=\"#DejaVuSans-65\"/>\r\n       <use x=\"68.408203\" xlink:href=\"#DejaVuSans-109\"/>\r\n       <use x=\"165.820312\" xlink:href=\"#DejaVuSans-101\"/>\r\n       <use x=\"227.34375\" xlink:href=\"#DejaVuSans-114\"/>\r\n       <use x=\"268.457031\" xlink:href=\"#DejaVuSans-105\"/>\r\n       <use x=\"296.240234\" xlink:href=\"#DejaVuSans-107\"/>\r\n       <use x=\"354.134766\" xlink:href=\"#DejaVuSans-97\"/>\r\n      </g>\r\n     </g>\r\n    </g>\r\n    <g id=\"xtick_16\">\r\n     <g id=\"line2d_16\">\r\n      <g>\r\n       <use style=\"stroke:#000000;stroke-width:0.8;\" x=\"918.228125\" xlink:href=\"#ma999f82eeb\" y=\"457.198125\"/>\r\n      </g>\r\n     </g>\r\n     <g id=\"text_16\">\r\n      <!-- Thai -->\r\n      <defs>\r\n       <path d=\"M -0.296875 72.90625 \r\nL 61.375 72.90625 \r\nL 61.375 64.59375 \r\nL 35.5 64.59375 \r\nL 35.5 0 \r\nL 25.59375 0 \r\nL 25.59375 64.59375 \r\nL -0.296875 64.59375 \r\nz\r\n\" id=\"DejaVuSans-84\"/>\r\n      </defs>\r\n      <g transform=\"translate(907.552344 471.796562)scale(0.1 -0.1)\">\r\n       <use xlink:href=\"#DejaVuSans-84\"/>\r\n       <use x=\"61.083984\" xlink:href=\"#DejaVuSans-104\"/>\r\n       <use x=\"124.462891\" xlink:href=\"#DejaVuSans-97\"/>\r\n       <use x=\"185.742188\" xlink:href=\"#DejaVuSans-105\"/>\r\n      </g>\r\n     </g>\r\n    </g>\r\n    <g id=\"xtick_17\">\r\n     <g id=\"line2d_17\">\r\n      <g>\r\n       <use style=\"stroke:#000000;stroke-width:0.8;\" x=\"974.028125\" xlink:href=\"#ma999f82eeb\" y=\"457.198125\"/>\r\n      </g>\r\n     </g>\r\n     <g id=\"text_17\">\r\n      <!-- Aceh -->\r\n      <defs>\r\n       <path d=\"M 48.78125 52.59375 \r\nL 48.78125 44.1875 \r\nQ 44.96875 46.296875 41.140625 47.34375 \r\nQ 37.3125 48.390625 33.40625 48.390625 \r\nQ 24.65625 48.390625 19.8125 42.84375 \r\nQ 14.984375 37.3125 14.984375 27.296875 \r\nQ 14.984375 17.28125 19.8125 11.734375 \r\nQ 24.65625 6.203125 33.40625 6.203125 \r\nQ 37.3125 6.203125 41.140625 7.25 \r\nQ 44.96875 8.296875 48.78125 10.40625 \r\nL 48.78125 2.09375 \r\nQ 45.015625 0.34375 40.984375 -0.53125 \r\nQ 36.96875 -1.421875 32.421875 -1.421875 \r\nQ 20.0625 -1.421875 12.78125 6.34375 \r\nQ 5.515625 14.109375 5.515625 27.296875 \r\nQ 5.515625 40.671875 12.859375 48.328125 \r\nQ 20.21875 56 33.015625 56 \r\nQ 37.15625 56 41.109375 55.140625 \r\nQ 45.0625 54.296875 48.78125 52.59375 \r\nz\r\n\" id=\"DejaVuSans-99\"/>\r\n      </defs>\r\n      <g transform=\"translate(961.614063 471.796562)scale(0.1 -0.1)\">\r\n       <use xlink:href=\"#DejaVuSans-65\"/>\r\n       <use x=\"68.392578\" xlink:href=\"#DejaVuSans-99\"/>\r\n       <use x=\"123.373047\" xlink:href=\"#DejaVuSans-101\"/>\r\n       <use x=\"184.896484\" xlink:href=\"#DejaVuSans-104\"/>\r\n      </g>\r\n     </g>\r\n    </g>\r\n    <g id=\"xtick_18\">\r\n     <g id=\"line2d_18\">\r\n      <g>\r\n       <use style=\"stroke:#000000;stroke-width:0.8;\" x=\"1029.828125\" xlink:href=\"#ma999f82eeb\" y=\"457.198125\"/>\r\n      </g>\r\n     </g>\r\n     <g id=\"text_18\">\r\n      <!-- Manado -->\r\n      <g transform=\"translate(1009.983594 471.796562)scale(0.1 -0.1)\">\r\n       <use xlink:href=\"#DejaVuSans-77\"/>\r\n       <use x=\"86.279297\" xlink:href=\"#DejaVuSans-97\"/>\r\n       <use x=\"147.558594\" xlink:href=\"#DejaVuSans-110\"/>\r\n       <use x=\"210.9375\" xlink:href=\"#DejaVuSans-97\"/>\r\n       <use x=\"272.216797\" xlink:href=\"#DejaVuSans-100\"/>\r\n       <use x=\"335.693359\" xlink:href=\"#DejaVuSans-111\"/>\r\n      </g>\r\n     </g>\r\n    </g>\r\n    <g id=\"xtick_19\">\r\n     <g id=\"line2d_19\">\r\n      <g>\r\n       <use style=\"stroke:#000000;stroke-width:0.8;\" x=\"1085.628125\" xlink:href=\"#ma999f82eeb\" y=\"457.198125\"/>\r\n      </g>\r\n     </g>\r\n     <g id=\"text_19\">\r\n      <!-- Bangka -->\r\n      <g transform=\"translate(1066.832031 471.796562)scale(0.1 -0.1)\">\r\n       <use xlink:href=\"#DejaVuSans-66\"/>\r\n       <use x=\"68.603516\" xlink:href=\"#DejaVuSans-97\"/>\r\n       <use x=\"129.882812\" xlink:href=\"#DejaVuSans-110\"/>\r\n       <use x=\"193.261719\" xlink:href=\"#DejaVuSans-103\"/>\r\n       <use x=\"256.738281\" xlink:href=\"#DejaVuSans-107\"/>\r\n       <use x=\"314.632812\" xlink:href=\"#DejaVuSans-97\"/>\r\n      </g>\r\n     </g>\r\n    </g>\r\n    <g id=\"xtick_20\">\r\n     <g id=\"line2d_20\">\r\n      <g>\r\n       <use style=\"stroke:#000000;stroke-width:0.8;\" x=\"1141.428125\" xlink:href=\"#ma999f82eeb\" y=\"457.198125\"/>\r\n      </g>\r\n     </g>\r\n     <g id=\"text_20\">\r\n      <!-- Fusion -->\r\n      <defs>\r\n       <path d=\"M 9.8125 72.90625 \r\nL 51.703125 72.90625 \r\nL 51.703125 64.59375 \r\nL 19.671875 64.59375 \r\nL 19.671875 43.109375 \r\nL 48.578125 43.109375 \r\nL 48.578125 34.8125 \r\nL 19.671875 34.8125 \r\nL 19.671875 0 \r\nL 9.8125 0 \r\nz\r\n\" id=\"DejaVuSans-70\"/>\r\n      </defs>\r\n      <g transform=\"translate(1125.165625 471.796562)scale(0.1 -0.1)\">\r\n       <use xlink:href=\"#DejaVuSans-70\"/>\r\n       <use x=\"57.441406\" xlink:href=\"#DejaVuSans-117\"/>\r\n       <use x=\"120.820312\" xlink:href=\"#DejaVuSans-115\"/>\r\n       <use x=\"172.919922\" xlink:href=\"#DejaVuSans-105\"/>\r\n       <use x=\"200.703125\" xlink:href=\"#DejaVuSans-111\"/>\r\n       <use x=\"261.884766\" xlink:href=\"#DejaVuSans-110\"/>\r\n      </g>\r\n     </g>\r\n    </g>\r\n    <g id=\"text_21\">\r\n     <!-- Cuisine Regionality -->\r\n     <defs>\r\n      <path id=\"DejaVuSans-32\"/>\r\n      <path d=\"M 44.390625 34.1875 \r\nQ 47.5625 33.109375 50.5625 29.59375 \r\nQ 53.5625 26.078125 56.59375 19.921875 \r\nL 66.609375 0 \r\nL 56 0 \r\nL 46.6875 18.703125 \r\nQ 43.0625 26.03125 39.671875 28.421875 \r\nQ 36.28125 30.8125 30.421875 30.8125 \r\nL 19.671875 30.8125 \r\nL 19.671875 0 \r\nL 9.8125 0 \r\nL 9.8125 72.90625 \r\nL 32.078125 72.90625 \r\nQ 44.578125 72.90625 50.734375 67.671875 \r\nQ 56.890625 62.453125 56.890625 51.90625 \r\nQ 56.890625 45.015625 53.6875 40.46875 \r\nQ 50.484375 35.9375 44.390625 34.1875 \r\nz\r\nM 19.671875 64.796875 \r\nL 19.671875 38.921875 \r\nL 32.078125 38.921875 \r\nQ 39.203125 38.921875 42.84375 42.21875 \r\nQ 46.484375 45.515625 46.484375 51.90625 \r\nQ 46.484375 58.296875 42.84375 61.546875 \r\nQ 39.203125 64.796875 32.078125 64.796875 \r\nz\r\n\" id=\"DejaVuSans-82\"/>\r\n      <path d=\"M 32.171875 -5.078125 \r\nQ 28.375 -14.84375 24.75 -17.8125 \r\nQ 21.140625 -20.796875 15.09375 -20.796875 \r\nL 7.90625 -20.796875 \r\nL 7.90625 -13.28125 \r\nL 13.1875 -13.28125 \r\nQ 16.890625 -13.28125 18.9375 -11.515625 \r\nQ 21 -9.765625 23.484375 -3.21875 \r\nL 25.09375 0.875 \r\nL 2.984375 54.6875 \r\nL 12.5 54.6875 \r\nL 29.59375 11.921875 \r\nL 46.6875 54.6875 \r\nL 56.203125 54.6875 \r\nz\r\n\" id=\"DejaVuSans-121\"/>\r\n     </defs>\r\n     <g transform=\"translate(563.35 485.474687)scale(0.1 -0.1)\">\r\n      <use xlink:href=\"#DejaVuSans-67\"/>\r\n      <use x=\"69.824219\" xlink:href=\"#DejaVuSans-117\"/>\r\n      <use x=\"133.203125\" xlink:href=\"#DejaVuSans-105\"/>\r\n      <use x=\"160.986328\" xlink:href=\"#DejaVuSans-115\"/>\r\n      <use x=\"213.085938\" xlink:href=\"#DejaVuSans-105\"/>\r\n      <use x=\"240.869141\" xlink:href=\"#DejaVuSans-110\"/>\r\n      <use x=\"304.248047\" xlink:href=\"#DejaVuSans-101\"/>\r\n      <use x=\"365.771484\" xlink:href=\"#DejaVuSans-32\"/>\r\n      <use x=\"397.558594\" xlink:href=\"#DejaVuSans-82\"/>\r\n      <use x=\"466.978516\" xlink:href=\"#DejaVuSans-101\"/>\r\n      <use x=\"528.501953\" xlink:href=\"#DejaVuSans-103\"/>\r\n      <use x=\"591.978516\" xlink:href=\"#DejaVuSans-105\"/>\r\n      <use x=\"619.761719\" xlink:href=\"#DejaVuSans-111\"/>\r\n      <use x=\"680.943359\" xlink:href=\"#DejaVuSans-110\"/>\r\n      <use x=\"744.322266\" xlink:href=\"#DejaVuSans-97\"/>\r\n      <use x=\"805.601562\" xlink:href=\"#DejaVuSans-108\"/>\r\n      <use x=\"833.384766\" xlink:href=\"#DejaVuSans-105\"/>\r\n      <use x=\"861.167969\" xlink:href=\"#DejaVuSans-116\"/>\r\n      <use x=\"900.376953\" xlink:href=\"#DejaVuSans-121\"/>\r\n     </g>\r\n    </g>\r\n   </g>\r\n   <g id=\"matplotlib.axis_2\">\r\n    <g id=\"ytick_1\">\r\n     <g id=\"line2d_21\">\r\n      <defs>\r\n       <path d=\"M 0 0 \r\nL -3.5 0 \r\n\" id=\"mde99f43324\" style=\"stroke:#000000;stroke-width:0.8;\"/>\r\n      </defs>\r\n      <g>\r\n       <use style=\"stroke:#000000;stroke-width:0.8;\" x=\"53.328125\" xlink:href=\"#mde99f43324\" y=\"457.198125\"/>\r\n      </g>\r\n     </g>\r\n     <g id=\"text_22\">\r\n      <!-- 0 -->\r\n      <defs>\r\n       <path d=\"M 31.78125 66.40625 \r\nQ 24.171875 66.40625 20.328125 58.90625 \r\nQ 16.5 51.421875 16.5 36.375 \r\nQ 16.5 21.390625 20.328125 13.890625 \r\nQ 24.171875 6.390625 31.78125 6.390625 \r\nQ 39.453125 6.390625 43.28125 13.890625 \r\nQ 47.125 21.390625 47.125 36.375 \r\nQ 47.125 51.421875 43.28125 58.90625 \r\nQ 39.453125 66.40625 31.78125 66.40625 \r\nz\r\nM 31.78125 74.21875 \r\nQ 44.046875 74.21875 50.515625 64.515625 \r\nQ 56.984375 54.828125 56.984375 36.375 \r\nQ 56.984375 17.96875 50.515625 8.265625 \r\nQ 44.046875 -1.421875 31.78125 -1.421875 \r\nQ 19.53125 -1.421875 13.0625 8.265625 \r\nQ 6.59375 17.96875 6.59375 36.375 \r\nQ 6.59375 54.828125 13.0625 64.515625 \r\nQ 19.53125 74.21875 31.78125 74.21875 \r\nz\r\n\" id=\"DejaVuSans-48\"/>\r\n      </defs>\r\n      <g transform=\"translate(39.965625 460.997344)scale(0.1 -0.1)\">\r\n       <use xlink:href=\"#DejaVuSans-48\"/>\r\n      </g>\r\n     </g>\r\n    </g>\r\n    <g id=\"ytick_2\">\r\n     <g id=\"line2d_22\">\r\n      <g>\r\n       <use style=\"stroke:#000000;stroke-width:0.8;\" x=\"53.328125\" xlink:href=\"#mde99f43324\" y=\"383.63304\"/>\r\n      </g>\r\n     </g>\r\n     <g id=\"text_23\">\r\n      <!-- 1000 -->\r\n      <defs>\r\n       <path d=\"M 12.40625 8.296875 \r\nL 28.515625 8.296875 \r\nL 28.515625 63.921875 \r\nL 10.984375 60.40625 \r\nL 10.984375 69.390625 \r\nL 28.421875 72.90625 \r\nL 38.28125 72.90625 \r\nL 38.28125 8.296875 \r\nL 54.390625 8.296875 \r\nL 54.390625 0 \r\nL 12.40625 0 \r\nz\r\n\" id=\"DejaVuSans-49\"/>\r\n      </defs>\r\n      <g transform=\"translate(20.878125 387.432259)scale(0.1 -0.1)\">\r\n       <use xlink:href=\"#DejaVuSans-49\"/>\r\n       <use x=\"63.623047\" xlink:href=\"#DejaVuSans-48\"/>\r\n       <use x=\"127.246094\" xlink:href=\"#DejaVuSans-48\"/>\r\n       <use x=\"190.869141\" xlink:href=\"#DejaVuSans-48\"/>\r\n      </g>\r\n     </g>\r\n    </g>\r\n    <g id=\"ytick_3\">\r\n     <g id=\"line2d_23\">\r\n      <g>\r\n       <use style=\"stroke:#000000;stroke-width:0.8;\" x=\"53.328125\" xlink:href=\"#mde99f43324\" y=\"310.067955\"/>\r\n      </g>\r\n     </g>\r\n     <g id=\"text_24\">\r\n      <!-- 2000 -->\r\n      <defs>\r\n       <path d=\"M 19.1875 8.296875 \r\nL 53.609375 8.296875 \r\nL 53.609375 0 \r\nL 7.328125 0 \r\nL 7.328125 8.296875 \r\nQ 12.9375 14.109375 22.625 23.890625 \r\nQ 32.328125 33.6875 34.8125 36.53125 \r\nQ 39.546875 41.84375 41.421875 45.53125 \r\nQ 43.3125 49.21875 43.3125 52.78125 \r\nQ 43.3125 58.59375 39.234375 62.25 \r\nQ 35.15625 65.921875 28.609375 65.921875 \r\nQ 23.96875 65.921875 18.8125 64.3125 \r\nQ 13.671875 62.703125 7.8125 59.421875 \r\nL 7.8125 69.390625 \r\nQ 13.765625 71.78125 18.9375 73 \r\nQ 24.125 74.21875 28.421875 74.21875 \r\nQ 39.75 74.21875 46.484375 68.546875 \r\nQ 53.21875 62.890625 53.21875 53.421875 \r\nQ 53.21875 48.921875 51.53125 44.890625 \r\nQ 49.859375 40.875 45.40625 35.40625 \r\nQ 44.1875 33.984375 37.640625 27.21875 \r\nQ 31.109375 20.453125 19.1875 8.296875 \r\nz\r\n\" id=\"DejaVuSans-50\"/>\r\n      </defs>\r\n      <g transform=\"translate(20.878125 313.867174)scale(0.1 -0.1)\">\r\n       <use xlink:href=\"#DejaVuSans-50\"/>\r\n       <use x=\"63.623047\" xlink:href=\"#DejaVuSans-48\"/>\r\n       <use x=\"127.246094\" xlink:href=\"#DejaVuSans-48\"/>\r\n       <use x=\"190.869141\" xlink:href=\"#DejaVuSans-48\"/>\r\n      </g>\r\n     </g>\r\n    </g>\r\n    <g id=\"ytick_4\">\r\n     <g id=\"line2d_24\">\r\n      <g>\r\n       <use style=\"stroke:#000000;stroke-width:0.8;\" x=\"53.328125\" xlink:href=\"#mde99f43324\" y=\"236.50287\"/>\r\n      </g>\r\n     </g>\r\n     <g id=\"text_25\">\r\n      <!-- 3000 -->\r\n      <defs>\r\n       <path d=\"M 40.578125 39.3125 \r\nQ 47.65625 37.796875 51.625 33 \r\nQ 55.609375 28.21875 55.609375 21.1875 \r\nQ 55.609375 10.40625 48.1875 4.484375 \r\nQ 40.765625 -1.421875 27.09375 -1.421875 \r\nQ 22.515625 -1.421875 17.65625 -0.515625 \r\nQ 12.796875 0.390625 7.625 2.203125 \r\nL 7.625 11.71875 \r\nQ 11.71875 9.328125 16.59375 8.109375 \r\nQ 21.484375 6.890625 26.8125 6.890625 \r\nQ 36.078125 6.890625 40.9375 10.546875 \r\nQ 45.796875 14.203125 45.796875 21.1875 \r\nQ 45.796875 27.640625 41.28125 31.265625 \r\nQ 36.765625 34.90625 28.71875 34.90625 \r\nL 20.21875 34.90625 \r\nL 20.21875 43.015625 \r\nL 29.109375 43.015625 \r\nQ 36.375 43.015625 40.234375 45.921875 \r\nQ 44.09375 48.828125 44.09375 54.296875 \r\nQ 44.09375 59.90625 40.109375 62.90625 \r\nQ 36.140625 65.921875 28.71875 65.921875 \r\nQ 24.65625 65.921875 20.015625 65.03125 \r\nQ 15.375 64.15625 9.8125 62.3125 \r\nL 9.8125 71.09375 \r\nQ 15.4375 72.65625 20.34375 73.4375 \r\nQ 25.25 74.21875 29.59375 74.21875 \r\nQ 40.828125 74.21875 47.359375 69.109375 \r\nQ 53.90625 64.015625 53.90625 55.328125 \r\nQ 53.90625 49.265625 50.4375 45.09375 \r\nQ 46.96875 40.921875 40.578125 39.3125 \r\nz\r\n\" id=\"DejaVuSans-51\"/>\r\n      </defs>\r\n      <g transform=\"translate(20.878125 240.302089)scale(0.1 -0.1)\">\r\n       <use xlink:href=\"#DejaVuSans-51\"/>\r\n       <use x=\"63.623047\" xlink:href=\"#DejaVuSans-48\"/>\r\n       <use x=\"127.246094\" xlink:href=\"#DejaVuSans-48\"/>\r\n       <use x=\"190.869141\" xlink:href=\"#DejaVuSans-48\"/>\r\n      </g>\r\n     </g>\r\n    </g>\r\n    <g id=\"ytick_5\">\r\n     <g id=\"line2d_25\">\r\n      <g>\r\n       <use style=\"stroke:#000000;stroke-width:0.8;\" x=\"53.328125\" xlink:href=\"#mde99f43324\" y=\"162.937785\"/>\r\n      </g>\r\n     </g>\r\n     <g id=\"text_26\">\r\n      <!-- 4000 -->\r\n      <defs>\r\n       <path d=\"M 37.796875 64.3125 \r\nL 12.890625 25.390625 \r\nL 37.796875 25.390625 \r\nz\r\nM 35.203125 72.90625 \r\nL 47.609375 72.90625 \r\nL 47.609375 25.390625 \r\nL 58.015625 25.390625 \r\nL 58.015625 17.1875 \r\nL 47.609375 17.1875 \r\nL 47.609375 0 \r\nL 37.796875 0 \r\nL 37.796875 17.1875 \r\nL 4.890625 17.1875 \r\nL 4.890625 26.703125 \r\nz\r\n\" id=\"DejaVuSans-52\"/>\r\n      </defs>\r\n      <g transform=\"translate(20.878125 166.737004)scale(0.1 -0.1)\">\r\n       <use xlink:href=\"#DejaVuSans-52\"/>\r\n       <use x=\"63.623047\" xlink:href=\"#DejaVuSans-48\"/>\r\n       <use x=\"127.246094\" xlink:href=\"#DejaVuSans-48\"/>\r\n       <use x=\"190.869141\" xlink:href=\"#DejaVuSans-48\"/>\r\n      </g>\r\n     </g>\r\n    </g>\r\n    <g id=\"ytick_6\">\r\n     <g id=\"line2d_26\">\r\n      <g>\r\n       <use style=\"stroke:#000000;stroke-width:0.8;\" x=\"53.328125\" xlink:href=\"#mde99f43324\" y=\"89.3727\"/>\r\n      </g>\r\n     </g>\r\n     <g id=\"text_27\">\r\n      <!-- 5000 -->\r\n      <defs>\r\n       <path d=\"M 10.796875 72.90625 \r\nL 49.515625 72.90625 \r\nL 49.515625 64.59375 \r\nL 19.828125 64.59375 \r\nL 19.828125 46.734375 \r\nQ 21.96875 47.46875 24.109375 47.828125 \r\nQ 26.265625 48.1875 28.421875 48.1875 \r\nQ 40.625 48.1875 47.75 41.5 \r\nQ 54.890625 34.8125 54.890625 23.390625 \r\nQ 54.890625 11.625 47.5625 5.09375 \r\nQ 40.234375 -1.421875 26.90625 -1.421875 \r\nQ 22.3125 -1.421875 17.546875 -0.640625 \r\nQ 12.796875 0.140625 7.71875 1.703125 \r\nL 7.71875 11.625 \r\nQ 12.109375 9.234375 16.796875 8.0625 \r\nQ 21.484375 6.890625 26.703125 6.890625 \r\nQ 35.15625 6.890625 40.078125 11.328125 \r\nQ 45.015625 15.765625 45.015625 23.390625 \r\nQ 45.015625 31 40.078125 35.4375 \r\nQ 35.15625 39.890625 26.703125 39.890625 \r\nQ 22.75 39.890625 18.8125 39.015625 \r\nQ 14.890625 38.140625 10.796875 36.28125 \r\nz\r\n\" id=\"DejaVuSans-53\"/>\r\n      </defs>\r\n      <g transform=\"translate(20.878125 93.171919)scale(0.1 -0.1)\">\r\n       <use xlink:href=\"#DejaVuSans-53\"/>\r\n       <use x=\"63.623047\" xlink:href=\"#DejaVuSans-48\"/>\r\n       <use x=\"127.246094\" xlink:href=\"#DejaVuSans-48\"/>\r\n       <use x=\"190.869141\" xlink:href=\"#DejaVuSans-48\"/>\r\n      </g>\r\n     </g>\r\n    </g>\r\n    <g id=\"text_28\">\r\n     <!-- Count -->\r\n     <g transform=\"translate(14.798437 254.606562)rotate(-90)scale(0.1 -0.1)\">\r\n      <use xlink:href=\"#DejaVuSans-67\"/>\r\n      <use x=\"69.824219\" xlink:href=\"#DejaVuSans-111\"/>\r\n      <use x=\"131.005859\" xlink:href=\"#DejaVuSans-117\"/>\r\n      <use x=\"194.384766\" xlink:href=\"#DejaVuSans-110\"/>\r\n      <use x=\"257.763672\" xlink:href=\"#DejaVuSans-116\"/>\r\n     </g>\r\n    </g>\r\n   </g>\r\n   <g id=\"line2d_27\">\r\n    <path clip-path=\"url(#p265f6feb95)\" d=\"M 0 0 \r\n\" style=\"fill:none;stroke:#424242;stroke-linecap:square;stroke-width:2.7;\"/>\r\n   </g>\r\n   <g id=\"line2d_28\">\r\n    <path clip-path=\"url(#p265f6feb95)\" d=\"M 0 0 \r\n\" style=\"fill:none;stroke:#424242;stroke-linecap:square;stroke-width:2.7;\"/>\r\n   </g>\r\n   <g id=\"line2d_29\">\r\n    <path clip-path=\"url(#p265f6feb95)\" d=\"M 0 0 \r\n\" style=\"fill:none;stroke:#424242;stroke-linecap:square;stroke-width:2.7;\"/>\r\n   </g>\r\n   <g id=\"line2d_30\">\r\n    <path clip-path=\"url(#p265f6feb95)\" d=\"M 0 0 \r\n\" style=\"fill:none;stroke:#424242;stroke-linecap:square;stroke-width:2.7;\"/>\r\n   </g>\r\n   <g id=\"line2d_31\">\r\n    <path clip-path=\"url(#p265f6feb95)\" d=\"M 0 0 \r\n\" style=\"fill:none;stroke:#424242;stroke-linecap:square;stroke-width:2.7;\"/>\r\n   </g>\r\n   <g id=\"line2d_32\">\r\n    <path clip-path=\"url(#p265f6feb95)\" d=\"M 0 0 \r\n\" style=\"fill:none;stroke:#424242;stroke-linecap:square;stroke-width:2.7;\"/>\r\n   </g>\r\n   <g id=\"line2d_33\">\r\n    <path clip-path=\"url(#p265f6feb95)\" d=\"M 0 0 \r\n\" style=\"fill:none;stroke:#424242;stroke-linecap:square;stroke-width:2.7;\"/>\r\n   </g>\r\n   <g id=\"line2d_34\">\r\n    <path clip-path=\"url(#p265f6feb95)\" d=\"M 0 0 \r\n\" style=\"fill:none;stroke:#424242;stroke-linecap:square;stroke-width:2.7;\"/>\r\n   </g>\r\n   <g id=\"line2d_35\">\r\n    <path clip-path=\"url(#p265f6feb95)\" d=\"M 0 0 \r\n\" style=\"fill:none;stroke:#424242;stroke-linecap:square;stroke-width:2.7;\"/>\r\n   </g>\r\n   <g id=\"line2d_36\">\r\n    <path clip-path=\"url(#p265f6feb95)\" d=\"M 0 0 \r\n\" style=\"fill:none;stroke:#424242;stroke-linecap:square;stroke-width:2.7;\"/>\r\n   </g>\r\n   <g id=\"line2d_37\">\r\n    <path clip-path=\"url(#p265f6feb95)\" d=\"M 0 0 \r\n\" style=\"fill:none;stroke:#424242;stroke-linecap:square;stroke-width:2.7;\"/>\r\n   </g>\r\n   <g id=\"line2d_38\">\r\n    <path clip-path=\"url(#p265f6feb95)\" d=\"M 0 0 \r\n\" style=\"fill:none;stroke:#424242;stroke-linecap:square;stroke-width:2.7;\"/>\r\n   </g>\r\n   <g id=\"line2d_39\">\r\n    <path clip-path=\"url(#p265f6feb95)\" d=\"M 0 0 \r\n\" style=\"fill:none;stroke:#424242;stroke-linecap:square;stroke-width:2.7;\"/>\r\n   </g>\r\n   <g id=\"line2d_40\">\r\n    <path clip-path=\"url(#p265f6feb95)\" d=\"M 0 0 \r\n\" style=\"fill:none;stroke:#424242;stroke-linecap:square;stroke-width:2.7;\"/>\r\n   </g>\r\n   <g id=\"line2d_41\">\r\n    <path clip-path=\"url(#p265f6feb95)\" d=\"M 0 0 \r\n\" style=\"fill:none;stroke:#424242;stroke-linecap:square;stroke-width:2.7;\"/>\r\n   </g>\r\n   <g id=\"line2d_42\">\r\n    <path clip-path=\"url(#p265f6feb95)\" d=\"M 0 0 \r\n\" style=\"fill:none;stroke:#424242;stroke-linecap:square;stroke-width:2.7;\"/>\r\n   </g>\r\n   <g id=\"line2d_43\">\r\n    <path clip-path=\"url(#p265f6feb95)\" d=\"M 0 0 \r\n\" style=\"fill:none;stroke:#424242;stroke-linecap:square;stroke-width:2.7;\"/>\r\n   </g>\r\n   <g id=\"line2d_44\">\r\n    <path clip-path=\"url(#p265f6feb95)\" d=\"M 0 0 \r\n\" style=\"fill:none;stroke:#424242;stroke-linecap:square;stroke-width:2.7;\"/>\r\n   </g>\r\n   <g id=\"line2d_45\">\r\n    <path clip-path=\"url(#p265f6feb95)\" d=\"M 0 0 \r\n\" style=\"fill:none;stroke:#424242;stroke-linecap:square;stroke-width:2.7;\"/>\r\n   </g>\r\n   <g id=\"line2d_46\">\r\n    <path clip-path=\"url(#p265f6feb95)\" d=\"M 0 0 \r\n\" style=\"fill:none;stroke:#424242;stroke-linecap:square;stroke-width:2.7;\"/>\r\n   </g>\r\n   <g id=\"patch_23\">\r\n    <path d=\"M 53.328125 457.198125 \r\nL 53.328125 22.318125 \r\n\" style=\"fill:none;stroke:#000000;stroke-linecap:square;stroke-linejoin:miter;stroke-width:0.8;\"/>\r\n   </g>\r\n   <g id=\"patch_24\">\r\n    <path d=\"M 1169.328125 457.198125 \r\nL 1169.328125 22.318125 \r\n\" style=\"fill:none;stroke:#000000;stroke-linecap:square;stroke-linejoin:miter;stroke-width:0.8;\"/>\r\n   </g>\r\n   <g id=\"patch_25\">\r\n    <path d=\"M 53.328125 457.198125 \r\nL 1169.328125 457.198125 \r\n\" style=\"fill:none;stroke:#000000;stroke-linecap:square;stroke-linejoin:miter;stroke-width:0.8;\"/>\r\n   </g>\r\n   <g id=\"patch_26\">\r\n    <path d=\"M 53.328125 22.318125 \r\nL 1169.328125 22.318125 \r\n\" style=\"fill:none;stroke:#000000;stroke-linecap:square;stroke-linejoin:miter;stroke-width:0.8;\"/>\r\n   </g>\r\n   <g id=\"text_29\">\r\n    <!-- Top 20 Cuisine Regionality in Jakarta -->\r\n    <g transform=\"translate(500.800625 16.318125)scale(0.12 -0.12)\">\r\n     <use xlink:href=\"#DejaVuSans-84\"/>\r\n     <use x=\"60.818359\" xlink:href=\"#DejaVuSans-111\"/>\r\n     <use x=\"122\" xlink:href=\"#DejaVuSans-112\"/>\r\n     <use x=\"185.476562\" xlink:href=\"#DejaVuSans-32\"/>\r\n     <use x=\"217.263672\" xlink:href=\"#DejaVuSans-50\"/>\r\n     <use x=\"280.886719\" xlink:href=\"#DejaVuSans-48\"/>\r\n     <use x=\"344.509766\" xlink:href=\"#DejaVuSans-32\"/>\r\n     <use x=\"376.296875\" xlink:href=\"#DejaVuSans-67\"/>\r\n     <use x=\"446.121094\" xlink:href=\"#DejaVuSans-117\"/>\r\n     <use x=\"509.5\" xlink:href=\"#DejaVuSans-105\"/>\r\n     <use x=\"537.283203\" xlink:href=\"#DejaVuSans-115\"/>\r\n     <use x=\"589.382812\" xlink:href=\"#DejaVuSans-105\"/>\r\n     <use x=\"617.166016\" xlink:href=\"#DejaVuSans-110\"/>\r\n     <use x=\"680.544922\" xlink:href=\"#DejaVuSans-101\"/>\r\n     <use x=\"742.068359\" xlink:href=\"#DejaVuSans-32\"/>\r\n     <use x=\"773.855469\" xlink:href=\"#DejaVuSans-82\"/>\r\n     <use x=\"843.275391\" xlink:href=\"#DejaVuSans-101\"/>\r\n     <use x=\"904.798828\" xlink:href=\"#DejaVuSans-103\"/>\r\n     <use x=\"968.275391\" xlink:href=\"#DejaVuSans-105\"/>\r\n     <use x=\"996.058594\" xlink:href=\"#DejaVuSans-111\"/>\r\n     <use x=\"1057.240234\" xlink:href=\"#DejaVuSans-110\"/>\r\n     <use x=\"1120.619141\" xlink:href=\"#DejaVuSans-97\"/>\r\n     <use x=\"1181.898438\" xlink:href=\"#DejaVuSans-108\"/>\r\n     <use x=\"1209.681641\" xlink:href=\"#DejaVuSans-105\"/>\r\n     <use x=\"1237.464844\" xlink:href=\"#DejaVuSans-116\"/>\r\n     <use x=\"1276.673828\" xlink:href=\"#DejaVuSans-121\"/>\r\n     <use x=\"1335.853516\" xlink:href=\"#DejaVuSans-32\"/>\r\n     <use x=\"1367.640625\" xlink:href=\"#DejaVuSans-105\"/>\r\n     <use x=\"1395.423828\" xlink:href=\"#DejaVuSans-110\"/>\r\n     <use x=\"1458.802734\" xlink:href=\"#DejaVuSans-32\"/>\r\n     <use x=\"1490.589844\" xlink:href=\"#DejaVuSans-74\"/>\r\n     <use x=\"1520.082031\" xlink:href=\"#DejaVuSans-97\"/>\r\n     <use x=\"1581.361328\" xlink:href=\"#DejaVuSans-107\"/>\r\n     <use x=\"1639.255859\" xlink:href=\"#DejaVuSans-97\"/>\r\n     <use x=\"1700.535156\" xlink:href=\"#DejaVuSans-114\"/>\r\n     <use x=\"1741.648438\" xlink:href=\"#DejaVuSans-116\"/>\r\n     <use x=\"1780.857422\" xlink:href=\"#DejaVuSans-97\"/>\r\n    </g>\r\n   </g>\r\n  </g>\r\n </g>\r\n <defs>\r\n  <clipPath id=\"p265f6feb95\">\r\n   <rect height=\"434.88\" width=\"1116\" x=\"53.328125\" y=\"22.318125\"/>\r\n  </clipPath>\r\n </defs>\r\n</svg>\r\n",
      "image/png": "[encoded data removed]"
     },
     "metadata": {
      "needs_background": "light"
     }
    }
   ],
   "source": [
    "rgn_counts_allspec = rgn_counts.drop([1,3], axis=0)\n",
    "rgn_not_unspecifiedx = rgn_counts_allspec[0:56]\n",
    "rgn_not_unspecifiedx_top20 = rgn_counts_allspec[0:20]\n",
    "\n",
    "plt.figure(figsize=(20,8))\n",
    "ax=sns.barplot(x=\"Cuisine Regionality\", y=\"Count\", data=rgn_not_unspecifiedx_top20)\n",
    "ax.set_title('Top 20 Cuisine Regionality in Jakarta')\n",
    "plt.show()"
   ]
  },
  {
   "source": [
    "# END - FINAL"
   ],
   "cell_type": "markdown",
   "metadata": {}
  },
  {
   "cell_type": "code",
   "execution_count": 145,
   "metadata": {},
   "outputs": [],
   "source": [
    "new_rdf = rdf.drop(['Types', 'Place Type', 'Cuisines', 'Cuisine Regionality'], axis=1)"
   ]
  },
  {
   "cell_type": "code",
   "execution_count": 146,
   "metadata": {},
   "outputs": [],
   "source": [
    "new_rdf.to_excel(\"Zomato Restaurants DataFrame - Clean & FeatEng.xlsx\", index=False)\n",
    "new_rdf.to_csv(\"Zomato Restaurants DataFrame - Clean & FeatEng.csv\", index=False)"
   ]
  }
 ]
}