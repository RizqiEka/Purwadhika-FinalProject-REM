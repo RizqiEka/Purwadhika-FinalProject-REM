{
 "metadata": {
  "language_info": {
   "codemirror_mode": {
    "name": "ipython",
    "version": 3
   },
   "file_extension": ".py",
   "mimetype": "text/x-python",
   "name": "python",
   "nbconvert_exporter": "python",
   "pygments_lexer": "ipython3",
   "version": "3.7.6-final"
  },
  "orig_nbformat": 2,
  "kernelspec": {
   "name": "python_defaultSpec_1601713197358",
   "display_name": "Python 3.7.6 64-bit ('base': conda)"
  }
 },
 "nbformat": 4,
 "nbformat_minor": 2,
 "cells": [
  {
   "cell_type": "code",
   "execution_count": 18,
   "metadata": {},
   "outputs": [],
   "source": [
    "a = 9567000"
   ]
  },
  {
   "cell_type": "code",
   "execution_count": 4,
   "metadata": {},
   "outputs": [
    {
     "output_type": "execute_result",
     "data": {
      "text/plain": "'000'"
     },
     "metadata": {},
     "execution_count": 4
    }
   ],
   "source": [
    "str(a)[-3:]"
   ]
  },
  {
   "cell_type": "code",
   "execution_count": 5,
   "metadata": {},
   "outputs": [
    {
     "output_type": "execute_result",
     "data": {
      "text/plain": "'831'"
     },
     "metadata": {},
     "execution_count": 5
    }
   ],
   "source": [
    "str(a)[:-3]"
   ]
  },
  {
   "cell_type": "code",
   "execution_count": 16,
   "metadata": {},
   "outputs": [
    {
     "output_type": "execute_result",
     "data": {
      "text/plain": "7"
     },
     "metadata": {},
     "execution_count": 16
    }
   ],
   "source": [
    "len(str(a))"
   ]
  },
  {
   "cell_type": "code",
   "execution_count": null,
   "metadata": {},
   "outputs": [],
   "source": []
  },
  {
   "cell_type": "code",
   "execution_count": 19,
   "metadata": {
    "tags": []
   },
   "outputs": [
    {
     "output_type": "stream",
     "name": "stdout",
     "text": "Rp 9.567.000\n"
    }
   ],
   "source": [
    "if len(str(a)) > 6:\n",
    "    print(\"Rp \" + str(a)[0] + \".\" + str(a)[1:-3] + \".\" + str(a)[-3:])\n",
    "else:\n",
    "    print(\"Rp \" + str(a)[:-3] + \".\" + str(a)[-3:])"
   ]
  },
  {
   "cell_type": "code",
   "execution_count": null,
   "metadata": {},
   "outputs": [],
   "source": []
  },
  {
   "cell_type": "code",
   "execution_count": null,
   "metadata": {},
   "outputs": [],
   "source": []
  },
  {
   "cell_type": "code",
   "execution_count": null,
   "metadata": {},
   "outputs": [],
   "source": [
    "rsvm = 1\n",
    "fd = 1\n",
    "cd = 1\n",
    "mm = 1\n",
    "alc = 1\n",
    "wifi = 1\n",
    "rpt = 1\n",
    "wnb = 1\n",
    "rate = 5\n",
    "rev = 100\n",
    "pvlt = 1\n",
    "cock = 1\n",
    "bft = 1\n",
    "brt = 1\n",
    "bir = 1\n",
    "ent = 1\n",
    "nl = 1\n",
    "tw = 1\n",
    "qb = 1"
   ]
  },
  {
   "cell_type": "code",
   "execution_count": null,
   "metadata": {},
   "outputs": [],
   "source": [
    "feature = pd.DataFrame({\n",
    "            'reservasimejadirekomendasikan' : [rsvm],\n",
    "            'Fine Dining' : [fd],\n",
    "            'Casual Dining' : [cd],\n",
    "            'makanmewah' : [mm],\n",
    "            'alkoholtersedia' : [alc],\n",
    "            'wifitersedia' : [wifi],\n",
    "            'ruangpribaditersedia' : [rpt],\n",
    "            'hanyawinedanbir' : [wnb],\n",
    "            'Restaurant Rating' : [rate],\n",
    "            'Restaurant Review' : [rev],\n",
    "            'parkirvalettersedia' : [pvlt],\n",
    "            'menyediakancocktail' : [cock],\n",
    "            'buffet' : [bft],\n",
    "            'Barat' : [brt],\n",
    "            'hanyabir' : [bir],\n",
    "            'liveentertainment' : [ent],\n",
    "            'kehidupanmalam' : [nl],\n",
    "            'bawapulangtersedia' : [tw],\n",
    "            'Quick Bites' : [qb]\n",
    "        })"
   ]
  },
  {
   "cell_type": "code",
   "execution_count": null,
   "metadata": {},
   "outputs": [],
   "source": [
    "feature"
   ]
  },
  {
   "cell_type": "code",
   "execution_count": null,
   "metadata": {},
   "outputs": [],
   "source": [
    "scaled = pd.DataFrame(scaler.transform(feature), columns=feature.columns)\n",
    "hasil = model.predict(scaled)\n",
    "hasil = int(round(hasil[0]*1000,-2))"
   ]
  },
  {
   "cell_type": "code",
   "execution_count": null,
   "metadata": {},
   "outputs": [],
   "source": [
    "from flask import Flask, render_template, request\n",
    "import pandas as pd\n",
    "from clean import data_final, dftop25, readdata, readdatarecsys\n",
    "from prediction import prediction\n",
    "from py_recommendersystem import getrecommendationall\n",
    "from prediction2 import prediction2\n",
    "from plots import trend, sugarscale, gravity, ibu, color\n",
    "from werkzeug.utils import secure_filename\n",
    "import os\n",
    "# from plots import figuretop, brewmethod\n",
    "\n",
    "app=Flask(__name__)\n",
    "\n",
    "UPLOAD_FOLDER = 'D:\\Personal Data\\Data Science\\Personal Project\\data\\data\\static\\images'\n",
    "ALLOWED_EXTENSION = set(['png', 'jpeg', 'jpg', 'gif'])\n",
    "app.config['UPLOAD_FOLDER'] = UPLOAD_FOLDER\n",
    "\n",
    "def allowed_file(filename):\n",
    "    return '.' in filename and filename.rsplit('.', 1)[1].lower() in ALLOWED_EXTENSION\n",
    "\n",
    "@app.route('/')\n",
    "def home():\n",
    "    return render_template ('home.html')\n",
    "\n",
    "@app.route('/data')\n",
    "def data():\n",
    "    data = readdata()\n",
    "    return render_template ('data.html', data=data)\n",
    "\n",
    "@app.route('/plots')\n",
    "def plots():\n",
    "    data = readdata()\n",
    "    return render_template('plots.html', data=data)\n",
    "\n",
    "\n",
    "@app.route('/classify', methods=['GET', 'POST'])\n",
    "def classify():\n",
    "    if request.method == 'POST':\n",
    "        file = request.files['file']\n",
    "\n",
    "        if 'file' not in request.files:\n",
    "            flash('No file part')\n",
    "            return render_template('imageclassify.html')\n",
    "        \n",
    "        if file.filename == '':\n",
    "            flash('No selected file')\n",
    "            return render_template('imageclassify.html')\n",
    "        \n",
    "        if file and allowed_file(file.filename):\n",
    "            filename = secure_filename(file.filename)\n",
    "            file.save(os.path.join(app.config['UPLOAD_FOLDER'], filename))\n",
    "            return 'file ' + filename + ' saved ' + ' <a href=\"/classify\">BACK</a>'\n",
    " \n",
    "    return render_template('imageclassify.html')\n",
    "\n",
    "\n",
    "\n",
    "@app.route('/recomenderall',methods= ['GET','POST'])\n",
    "def recommendall():\n",
    "    if request.method == 'POST':\n",
    "        data = request.form\n",
    "        name = data['nama']\n",
    "        hasil_recommend_all = getrecommendationall(name)\n",
    "        return render_template('resultrecomall.html', data=hasil_recommend_all)\n",
    "    return render_template('recommend-all.html')\n",
    "\n",
    "\n",
    "@app.route('/prediction',methods= ['GET','POST'])\n",
    "def prediction_html():\n",
    "    if request.method == 'POST':\n",
    "        data = request.form\n",
    "        # data=data.to_dict()\n",
    "        # data['Color']=float(data['Color'])\n",
    "        # data['ABV']=float(data['ABV'])\n",
    "\n",
    "        rsvm = int(data['reservasimejarekom'])\n",
    "        fd = int(data['finedining'])\n",
    "        cd = int(data['casualdining'])\n",
    "        mm = int(data['makanmewah'])\n",
    "        alc = int(data['alkoholtersedia'])\n",
    "        wifi = int(data['wifitersedia'])\n",
    "        rpt = int(data['ruangprivate'])\n",
    "        wnb = int(data['hanyawinedanbir'])\n",
    "        rate = float(data['rating'])\n",
    "        rev = float(data['review'])\n",
    "        pvlt = int(data['parkirvalettersedia'])\n",
    "        cock = int(data['cocktailtersedia'])\n",
    "        bft = int(data['buffettersedia'])\n",
    "        brt = int(data['barat'])\n",
    "        bir = int(data['hanyabir'])\n",
    "        ent = int(data['liveent'])\n",
    "        nl = int(data['nightlife'])\n",
    "        tw = int(data['takeawaytersedia'])\n",
    "        qb = int(data['quickbites'])\n",
    "\n",
    "        feature = pd.DataFrame({\n",
    "            'reservasimejadirekomendasikan' : [rsvm],\n",
    "            'Fine Dining' : [fd],\n",
    "            'Casual Dining' : [cd],\n",
    "            'makanmewah' : [mm],\n",
    "            'alkoholtersedia' : [alc],\n",
    "            'wifitersedia' : [wifi],\n",
    "            'ruangpribaditersedia' : [rpt],\n",
    "            'hanyawinedanbir' : [wnb],\n",
    "            'Restaurant Rating' : [rate],\n",
    "            'Restaurant Review' : [rev],\n",
    "            'parkirvalettersedia' : [pvlt],\n",
    "            'menyediakancocktail' : [cock],\n",
    "            'buffet' : [bft],\n",
    "            'Barat' : [brt],\n",
    "            'hanyabir' : [bir],\n",
    "            'liveentertainment' : [ent],\n",
    "            'kehidupanmalam' : [nl],\n",
    "            'bawapulangtersedia' : [tw],\n",
    "            'Quick Bites' : [qb]\n",
    "        })\n",
    "\n",
    "        hasil=prediction(feature)\n",
    "        return render_template('result.html', hasil_prediksi=hasil)\n",
    "    return render_template('prediction.html')\n",
    "\n",
    "\n",
    "#TIDAK PERLU\n",
    "@app.route('/prediction2',methods= ['GET','POST'])\n",
    "def prediction2_html():\n",
    "    if request.method == 'POST':\n",
    "        data = request.form\n",
    "        data=data.to_dict()\n",
    "        data['OG']=float(data['OG'])\n",
    "        data['FG']=float(data['FG'])\n",
    "        data['Size(L)']=float(data['Size(L)'])\n",
    "        data['BoilSize']=float(data['BoilSize'])\n",
    "        hasil=prediction2(data)\n",
    "        return render_template('result2.html', hasil_prediksi2=hasil)\n",
    "    return render_template('prediction2.html')\n",
    "\n",
    "\n",
    "\n",
    "if __name__ == '__main__':\n",
    "    app.run(debug=True,port=2000)\n",
    "\n",
    "\n"
   ]
  },
  {
   "cell_type": "code",
   "execution_count": null,
   "metadata": {},
   "outputs": [],
   "source": [
    "# return 'file ' + filename + ' saved ' + ' <a href=\"/classify\">BACK</a>'"
   ]
  },
  {
   "cell_type": "code",
   "execution_count": 1,
   "metadata": {},
   "outputs": [
    {
     "output_type": "execute_result",
     "data": {
      "text/plain": "True"
     },
     "metadata": {},
     "execution_count": 1
    }
   ],
   "source": [
    "True"
   ]
  },
  {
   "cell_type": "code",
   "execution_count": 2,
   "metadata": {},
   "outputs": [
    {
     "output_type": "execute_result",
     "data": {
      "text/plain": "1"
     },
     "metadata": {},
     "execution_count": 2
    }
   ],
   "source": [
    "int(True)"
   ]
  },
  {
   "cell_type": "code",
   "execution_count": null,
   "metadata": {},
   "outputs": [],
   "source": []
  }
 ]
}