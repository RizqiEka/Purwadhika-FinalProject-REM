{
 "metadata": {
  "language_info": {
   "codemirror_mode": {
    "name": "ipython",
    "version": 3
   },
   "file_extension": ".py",
   "mimetype": "text/x-python",
   "name": "python",
   "nbconvert_exporter": "python",
   "pygments_lexer": "ipython3",
   "version": "3.7.6-final"
  },
  "orig_nbformat": 2,
  "kernelspec": {
   "name": "python3",
   "display_name": "Python 3"
  }
 },
 "nbformat": 4,
 "nbformat_minor": 2,
 "cells": [
  {
   "cell_type": "code",
   "execution_count": 43,
   "metadata": {},
   "outputs": [],
   "source": [
    "# Import - Basic Library\n",
    "\n",
    "import pandas as pd\n",
    "import numpy as np\n",
    "\n",
    "pd.pandas.set_option('display.max_columns', None)\n",
    "pd.pandas.set_option('display.max_rows', 20)"
   ]
  },
  {
   "cell_type": "code",
   "execution_count": 44,
   "metadata": {},
   "outputs": [],
   "source": [
    "# Import - Web Scraping-Related Library\n",
    "\n",
    "import time\n",
    "from selenium import webdriver\n",
    "from bs4 import BeautifulSoup\n",
    "from selenium.common.exceptions import NoSuchElementException"
   ]
  },
  {
   "cell_type": "markdown",
   "metadata": {},
   "source": [
    "# STEP 1\n",
    "## Scrape Website Address for ALL Restaurants in Jakarta from Zomato Search Page"
   ]
  },
  {
   "cell_type": "code",
   "execution_count": 4,
   "metadata": {},
   "outputs": [],
   "source": [
    "# Set - Windows path where WebDriver is located -> to be used for Selenium\n",
    "\n",
    "chromepath = r'C:\\Users\\Rizqi Eka Maulana\\Downloads\\chromedriver_win32\\chromedriver.exe'"
   ]
  },
  {
   "cell_type": "code",
   "execution_count": 30,
   "metadata": {
    "tags": []
   },
   "outputs": [
    {
     "output_type": "stream",
     "name": "stdout",
     "text": "Opening Pages 1\nAccessing Webpage OK \n\nOpening Pages 2\nAccessing Webpage OK \n\nOpening Pages 3\nAccessing Webpage OK \n\nOpening Pages 4\nAccessing Webpage OK \n\nOpening Pages 5\nAccessing Webpage OK \n\nOpening Pages 6\nAccessing Webpage OK \n\nOpening Pages 7\nAccessing Webpage OK \n\nOpening Pages 8\nAccessing Webpage OK \n\nOpening Pages 9\nAccessing Webpage OK \n\nOpening Pages 10\nAccessing Webpage OK \n\nOpening Pages 11\nAccessing Webpage OK \n\nOpening Pages 12\nAccessing Webpage OK \n\nOpening Pages 13\nAccessing Webpage OK \n\nOpening Pages 14\nAccessing Webpage OK \n\nOpening Pages 15\nAccessing Webpage OK \n\nOpening Pages 16\nAccessing Webpage OK \n\nOpening Pages 17\nAccessing Webpage OK \n\nOpening Pages 18\nAccessing Webpage OK \n\nOpening Pages 19\nAccessing Webpage OK \n\nOpening Pages 20\nAccessing Webpage OK \n\nOpening Pages 21\nAccessing Webpage OK \n\nOpening Pages 22\nAccessing Webpage OK \n\nOpening Pages 23\nAccessing Webpage OK \n\nOpening Pages 24\nAccessing Webpage OK \n\nOpening Pages 25\nAccessing Webpage OK \n\nOpening Pages 26\nAccessing Webpage OK \n\nOpening Pages 27\nAccessing Webpage OK \n\nOpening Pages 28\nAccessing Webpage OK \n\nOpening Pages 29\nAccessing Webpage OK \n\nOpening Pages 30\nAccessing Webpage OK \n\nOpening Pages 31\nAccessing Webpage OK \n\nOpening Pages 32\nAccessing Webpage OK \n\nOpening Pages 33\nAccessing Webpage OK \n\nOpening Pages 34\nAccessing Webpage OK \n\nOpening Pages 35\nAccessing Webpage OK \n\nOpening Pages 36\nAccessing Webpage OK \n\nOpening Pages 37\nAccessing Webpage OK \n\nOpening Pages 38\nAccessing Webpage OK \n\nOpening Pages 39\nAccessing Webpage OK \n\nOpening Pages 40\nAccessing Webpage OK \n\nOpening Pages 41\nAccessing Webpage OK \n\nOpening Pages 42\nAccessing Webpage OK \n\nOpening Pages 43\nAccessing Webpage OK \n\nOpening Pages 44\nAccessing Webpage OK \n\nOpening Pages 45\nAccessing Webpage OK \n\nOpening Pages 46\nAccessing Webpage OK \n\nOpening Pages 47\nAccessing Webpage OK \n\nOpening Pages 48\nAccessing Webpage OK \n\nOpening Pages 49\nAccessing Webpage OK \n\nOpening Pages 50\nAccessing Webpage OK \n\nOpening Pages 51\nAccessing Webpage OK \n\nOpening Pages 52\nAccessing Webpage OK \n\nOpening Pages 53\nAccessing Webpage OK \n\nOpening Pages 54\nAccessing Webpage OK \n\nOpening Pages 55\nAccessing Webpage OK \n\nOpening Pages 56\nAccessing Webpage OK \n\nOpening Pages 57\nAccessing Webpage OK \n\nOpening Pages 58\nAccessing Webpage OK \n\nOpening Pages 59\nAccessing Webpage OK \n\nOpening Pages 60\nAccessing Webpage OK \n\nOpening Pages 61\nAccessing Webpage OK \n\nOpening Pages 62\nAccessing Webpage OK \n\nOpening Pages 63\nAccessing Webpage OK \n\nOpening Pages 64\nAccessing Webpage OK \n\nOpening Pages 65\nAccessing Webpage OK \n\nOpening Pages 66\nAccessing Webpage OK \n\nOpening Pages 67\nAccessing Webpage OK \n\nOpening Pages 68\nAccessing Webpage OK \n\nOpening Pages 69\nAccessing Webpage OK \n\nOpening Pages 70\nAccessing Webpage OK \n\nOpening Pages 71\nAccessing Webpage OK \n\nOpening Pages 72\nAccessing Webpage OK \n\nOpening Pages 73\nAccessing Webpage OK \n\nOpening Pages 74\nAccessing Webpage OK \n\nOpening Pages 75\nAccessing Webpage OK \n\nOpening Pages 76\nAccessing Webpage OK \n\nOpening Pages 77\nAccessing Webpage OK \n\nOpening Pages 78\nAccessing Webpage OK \n\nOpening Pages 79\nAccessing Webpage OK \n\nOpening Pages 80\nAccessing Webpage OK \n\nOpening Pages 81\nAccessing Webpage OK \n\nOpening Pages 82\nAccessing Webpage OK \n\nOpening Pages 83\nAccessing Webpage OK \n\nOpening Pages 84\nAccessing Webpage OK \n\nOpening Pages 85\nAccessing Webpage OK \n\nOpening Pages 86\nAccessing Webpage OK \n\nOpening Pages 87\nAccessing Webpage OK \n\nOpening Pages 88\nAccessing Webpage OK \n\nOpening Pages 89\nAccessing Webpage OK \n\nOpening Pages 90\nAccessing Webpage OK \n\nOpening Pages 91\nAccessing Webpage OK \n\nOpening Pages 92\nAccessing Webpage OK \n\nOpening Pages 93\nAccessing Webpage OK \n\nOpening Pages 94\nAccessing Webpage OK \n\nOpening Pages 95\nAccessing Webpage OK \n\nOpening Pages 96\nAccessing Webpage OK \n\nOpening Pages 97\nAccessing Webpage OK \n\nOpening Pages 98\nAccessing Webpage OK \n\nOpening Pages 99\nAccessing Webpage OK \n\n"
    }
   ],
   "source": [
    "# Set - Webdriver and Output File/DataFrame\n",
    "driver = webdriver.Chrome(chromepath)\n",
    "out_file = open(\"jkt_restaurant_address.txt\", \"ab\")\n",
    "out_df = []\n",
    "\n",
    "# Loop Through - Search Pages that we wanted\n",
    "for x in range(1, 100):\n",
    "    print('Opening Pages ' + str(x))\n",
    "    driver.get('https://www.zomato.com/id/jakarta/restoran?page={}'.format(x))\n",
    "    html_text = driver.page_source\n",
    "    soup = BeautifulSoup(html_text, 'lxml')\n",
    "    print('Accessing Webpage OK \\n')\n",
    "\n",
    "    # Find All Url Address and Write it to Output File/DataFrame\n",
    "    for tag in soup.find_all(\"a\", attrs={'data-result-type': 'ResCard_Name'}):\n",
    "        out_file.write(tag['href'].encode('utf-8').strip() + b'\\n')\n",
    "        out_df.append(tag['href'])\n",
    "\n",
    "# Close - The Driver and Output File/DataFrame\n",
    "driver.close()\n",
    "out_file.close()\n",
    "out_df = pd.DataFrame(out_df, columns=['Website'])"
   ]
  },
  {
   "cell_type": "code",
   "execution_count": 39,
   "metadata": {
    "tags": []
   },
   "outputs": [
    {
     "output_type": "execute_result",
     "data": {
      "text/plain": "                                             Website\n0  https://www.zomato.com/id/jakarta/waki-japanes...\n1  https://www.zomato.com/id/jakarta/acta-brasser...\n2  https://www.zomato.com/id/jakarta/furusato-iza...\n3  https://www.zomato.com/id/jakarta/animale-rest...\n4  https://www.zomato.com/id/jakarta/wolfgangs-st...",
      "text/html": "<div>\n<style scoped>\n    .dataframe tbody tr th:only-of-type {\n        vertical-align: middle;\n    }\n\n    .dataframe tbody tr th {\n        vertical-align: top;\n    }\n\n    .dataframe thead th {\n        text-align: right;\n    }\n</style>\n<table border=\"1\" class=\"dataframe\">\n  <thead>\n    <tr style=\"text-align: right;\">\n      <th></th>\n      <th>Website</th>\n    </tr>\n  </thead>\n  <tbody>\n    <tr>\n      <th>0</th>\n      <td>https://www.zomato.com/id/jakarta/waki-japanes...</td>\n    </tr>\n    <tr>\n      <th>1</th>\n      <td>https://www.zomato.com/id/jakarta/acta-brasser...</td>\n    </tr>\n    <tr>\n      <th>2</th>\n      <td>https://www.zomato.com/id/jakarta/furusato-iza...</td>\n    </tr>\n    <tr>\n      <th>3</th>\n      <td>https://www.zomato.com/id/jakarta/animale-rest...</td>\n    </tr>\n    <tr>\n      <th>4</th>\n      <td>https://www.zomato.com/id/jakarta/wolfgangs-st...</td>\n    </tr>\n  </tbody>\n</table>\n</div>"
     },
     "metadata": {},
     "execution_count": 39
    }
   ],
   "source": [
    "# Show - The Result of Scraping\n",
    "out_df.head()"
   ]
  },
  {
   "cell_type": "code",
   "execution_count": 37,
   "metadata": {},
   "outputs": [
    {
     "output_type": "execute_result",
     "data": {
      "text/plain": "                                                Website\n355   https://www.zomato.com/id/jakarta/kembang-bawa...\n846   https://www.zomato.com/id/jakarta/madam-lee-ko...\n1289  https://www.zomato.com/id/jakarta/pilar-minang...\n1319  https://www.zomato.com/id/jakarta/dapur-cokela...",
      "text/html": "<div>\n<style scoped>\n    .dataframe tbody tr th:only-of-type {\n        vertical-align: middle;\n    }\n\n    .dataframe tbody tr th {\n        vertical-align: top;\n    }\n\n    .dataframe thead th {\n        text-align: right;\n    }\n</style>\n<table border=\"1\" class=\"dataframe\">\n  <thead>\n    <tr style=\"text-align: right;\">\n      <th></th>\n      <th>Website</th>\n    </tr>\n  </thead>\n  <tbody>\n    <tr>\n      <th>355</th>\n      <td>https://www.zomato.com/id/jakarta/kembang-bawa...</td>\n    </tr>\n    <tr>\n      <th>846</th>\n      <td>https://www.zomato.com/id/jakarta/madam-lee-ko...</td>\n    </tr>\n    <tr>\n      <th>1289</th>\n      <td>https://www.zomato.com/id/jakarta/pilar-minang...</td>\n    </tr>\n    <tr>\n      <th>1319</th>\n      <td>https://www.zomato.com/id/jakarta/dapur-cokela...</td>\n    </tr>\n  </tbody>\n</table>\n</div>"
     },
     "metadata": {},
     "execution_count": 37
    }
   ],
   "source": [
    "# Observe - Whether we have duplicate websites or not\n",
    "out_df[out_df.duplicated(['Website'], keep='last')]"
   ]
  },
  {
   "cell_type": "code",
   "execution_count": 40,
   "metadata": {},
   "outputs": [],
   "source": [
    "# Make A New DataFrame - without duplicated values\n",
    "out_df_nd = out_df[~out_df.duplicated(['Website'], keep='last')]"
   ]
  },
  {
   "source": [
    "# STEP 2\n",
    "## Scrape Restaurant Data for ALL Restaurants in Jakarta from Zomato Website TextFile / DataFrame"
   ],
   "cell_type": "markdown",
   "metadata": {}
  },
  {
   "cell_type": "code",
   "execution_count": 45,
   "metadata": {},
   "outputs": [],
   "source": [
    "# Since we're going to loop ten thousands of Websites, let's make a function to simplify the initialization process\n",
    "\n",
    "def OpenPage(url):\n",
    "\n",
    "    # Generally same like before, but we add time.sleep to add pause when we open the url\n",
    "    driver.get(url)\n",
    "    time.sleep(8)\n",
    "    html_text = driver.page_source\n",
    "    global soup\n",
    "    soup = BeautifulSoup(html_text, 'html.parser')\n",
    "    print('Accessing Webpage OK')\n",
    "    \n",
    "    # If we need to check the HTML pages directly, we may need this code\n",
    "    # html = soup.prettify('utf-8')\n",
    "    # with open(\"output1.html\", \"wb\") as file:\n",
    "        # file.write(html)\n",
    "\n",
    "    return\n"
   ]
  },
  {
   "cell_type": "code",
   "execution_count": 46,
   "metadata": {
    "tags": []
   },
   "outputs": [
    {
     "output_type": "stream",
     "name": "stdout",
     "text": "Accessing Webpage OK\nScraping Restaurant Name - WAKI Japanese BBQ Dining - OK\nScraping Restaurant Type - WAKI Japanese BBQ Dining - Restoran Kasual - OK\nScraping Cuisine Type - WAKI Japanese BBQ Dining - Restoran Kasual - OK\nScraping Restaurant Area - WAKI Japanese BBQ Dining - Thamrin - OK\nScraping Restaurant Rating & Review Counts - WAKI Japanese BBQ Dining - 4.9 - 2,971 Ulasan - OK\nScraping Restaurant Price for Two - WAKI Japanese BBQ Dining - OK\nScraping Restaurant Address WAKI Japanese BBQ Dining - OK\nScraping Additional Info - WAKI Japanese BBQ Dining - OK\nScraping Restaurant Latitude-Longitude - WAKI Japanese BBQ Dining - OK\n-------------------------------------------------------------------------------------------------------------------------------------------\nAccessing Webpage OK\nScraping Restaurant Name - Acta Brasserie - OK\nScraping Restaurant Type - Acta Brasserie - Restoran Kasual - OK\nScraping Cuisine Type - Acta Brasserie - Restoran Kasual - OK\nScraping Restaurant Area - Acta Brasserie - Senayan - OK\nScraping Restaurant Rating & Review Counts - Acta Brasserie - 3.9 - 110 Ulasan - OK\nScraping Restaurant Price for Two - Acta Brasserie - OK\nScraping Restaurant Address Acta Brasserie - OK\nScraping Additional Info - Acta Brasserie - OK\nScraping Restaurant Latitude-Longitude - Acta Brasserie - OK\n-------------------------------------------------------------------------------------------------------------------------------------------\nAccessing Webpage OK\nScraping Restaurant Name - Furusato Izakaya - OK\nScraping Restaurant Type - Furusato Izakaya - Restoran Kasual - OK\nScraping Cuisine Type - Furusato Izakaya - Restoran Kasual - OK\nScraping Restaurant Area - Furusato Izakaya - Sudirman - OK\nScraping Restaurant Rating & Review Counts - Furusato Izakaya - 4.0 - 80 Ulasan - OK\nScraping Restaurant Price for Two - Furusato Izakaya - OK\nScraping Restaurant Address Furusato Izakaya - OK\nScraping Additional Info - Furusato Izakaya - OK\nScraping Restaurant Latitude-Longitude - Furusato Izakaya - OK\n-------------------------------------------------------------------------------------------------------------------------------------------\nAccessing Webpage OK\nScraping Restaurant Name - Animale Restaurant - OK\nScraping Restaurant Type - Animale Restaurant - Restoran Kasual - OK\nScraping Cuisine Type - Animale Restaurant - Restoran Kasual - OK\nScraping Restaurant Area - Animale Restaurant - Setiabudi - OK\nScraping Restaurant Rating & Review Counts - Animale Restaurant - 4.3 - 116 Ulasan - OK\nScraping Restaurant Price for Two - Animale Restaurant - OK\nScraping Restaurant Address Animale Restaurant - OK\nScraping Additional Info - Animale Restaurant - OK\nScraping Restaurant Latitude-Longitude - Animale Restaurant - OK\n-------------------------------------------------------------------------------------------------------------------------------------------\nAccessing Webpage OK\nScraping Restaurant Name - Wolfgang's Steakhouse - OK\nScraping Restaurant Type - Wolfgang's Steakhouse - Restoran Kasual - OK\nScraping Cuisine Type - Wolfgang's Steakhouse - Restoran Kasual - OK\nScraping Restaurant Area - Wolfgang's Steakhouse - SCBD - OK\nScraping Restaurant Rating & Review Counts - Wolfgang's Steakhouse - 3.2 - 39 Ulasan - OK\nScraping Restaurant Price for Two - Wolfgang's Steakhouse - OK\nScraping Restaurant Address Wolfgang's Steakhouse - OK\nScraping Additional Info - Wolfgang's Steakhouse - OK\nScraping Restaurant Latitude-Longitude - Wolfgang's Steakhouse - OK\n-------------------------------------------------------------------------------------------------------------------------------------------\n"
    }
   ],
   "source": [
    "# Initialize - Empty Columns that we will use to store the scraping data results\n",
    "\n",
    "rest_name = []\n",
    "rest_type = []\n",
    "cuisine_type = []\n",
    "rest_area = []\n",
    "rest_rating = []\n",
    "review_counts = []\n",
    "price_for_2 = []\n",
    "rest_address = []\n",
    "rest_info = []\n",
    "rest_lat = []\n",
    "rest_long = []\n",
    "\n",
    "\n",
    "# Initialize - Webdriver\n",
    "driver = webdriver.Chrome(chromepath)\n",
    "\n",
    "\n",
    "# Scrape the data by looping through entries in Textfile / DataFrame\n",
    "with open('jkt_restaurant_address.txt', 'r', encoding=\"utf-8\") as f:\n",
    "    for line in f:\n",
    "\n",
    "        # Open Browser and Restaurant Web Page\n",
    "        OpenPage(line)\n",
    "\n",
    "\n",
    "        # 1. Scrape Restaurant Name\n",
    "        name_anchor = soup.find(\"h1\") \n",
    "\n",
    "        # 1.1 Conditional - If there is no H1 in the URL, then it's 404 Error\n",
    "        if name_anchor is None:\n",
    "            rest_name.append(\"404 error\")\n",
    "            rest_type.append(\"404 error\")\n",
    "            cuisine_type.append(\"404 error\")\n",
    "            rest_area.append(\"404 error\")\n",
    "            rest_rating.append(\"404 error\")\n",
    "            review_counts.append(\"404 error\")\n",
    "            price_for_2.append(\"404 error\")\n",
    "            rest_address.append(\"404 error\")\n",
    "            rest_info.append(\"404 error\")\n",
    "            rest_lat.append(\"404 error\")\n",
    "            rest_long.append(\"404 error\")\n",
    "        else:\n",
    "            name = name_anchor.text.strip()\n",
    "            \n",
    "            # 1.2 Conditional - If we found 502 Bad Gateway, then we reopen the URL\n",
    "            if name != \"502 Bad Gateway\":\n",
    "                rest_name.append(name)\n",
    "\n",
    "            else:\n",
    "                driver.get(line)\n",
    "                time.sleep(120)\n",
    "                html_text = driver.page_source\n",
    "                soup = BeautifulSoup(html_text, 'html.parser')\n",
    "                name_anchor = soup.find(\"h1\")\n",
    "                name = name_anchor.text.strip()\n",
    "                rest_name.append(name)\n",
    "            \n",
    "\n",
    "            print(f'Scraping Restaurant Name - {name} - OK')\n",
    "\n",
    "\n",
    "            # 2. Scrape Restaurant Type\n",
    "            try:\n",
    "                rest_type_anchor = driver.find_element_by_xpath(\"\"\"/html/body/div[1]/div[2]/main/div/section[3]/section/section[1]/section[1]/div/a[1]\"\"\")\n",
    "\n",
    "            except NoSuchElementException:\n",
    "                driver.get(line)\n",
    "                time.sleep(45)\n",
    "                rest_type_anchor = driver.find_element_by_xpath(\"\"\"/html/body/div[1]/div[2]/main/div/section[3]/section/section[1]/section[1]/div/a[1]\"\"\")\n",
    "            \n",
    "            rest_type_text = rest_type_anchor.text\n",
    "            rest_type.append(rest_type_text)\n",
    "            print(f'Scraping Restaurant Type - {name} - {rest_type_text} - OK')\n",
    "\n",
    "            # 3. Scrape Cuisine Type\n",
    "            cuisine_types = []\n",
    "            for index in list(range(2,11)):\n",
    "                try:\n",
    "                    cuisine_types_anchor = driver.find_element_by_xpath(f\"\"\"/html/body/div[1]/div[2]/main/div/section[3]/section/section[1]/section[1]/div/a[{index}]\"\"\")\n",
    "                    cuisine_types.append(cuisine_types_anchor.text)\n",
    "                except NoSuchElementException:\n",
    "                    pass\n",
    "\n",
    "            cuisine_type.append(cuisine_types)\n",
    "            print(f'Scraping Cuisine Type - {name} - {rest_type_text} - OK')\n",
    "\n",
    "\n",
    "            # 4. Scrape Restaurant Area\n",
    "            rest_area_anchor = driver.find_element_by_xpath(\"\"\"/html/body/div[1]/div[2]/main/div/section[3]/section/section[1]/section[1]/a\"\"\")\n",
    "            rest_area_text = rest_area_anchor.text\n",
    "            rest_area.append(rest_area_text)\n",
    "            print(f'Scraping Restaurant Area - {name} - {rest_area_text} - OK')\n",
    "\n",
    "\n",
    "            # 5. Scrape Restaurant Rating\n",
    "            try:\n",
    "                rest_rating_anchor = driver.find_element_by_xpath(\"\"\"/html/body/div[1]/div[2]/main/div/section[3]/section/section[2]/section/div[1]/p\"\"\")\n",
    "                rest_rating_text = rest_rating_anchor.text\n",
    "            except NoSuchElementException:\n",
    "                rest_rating_text = \"Not Rated Yet\"\n",
    "                pass\n",
    "\n",
    "            rest_rating.append(rest_rating_text)\n",
    "\n",
    "\n",
    "            # 6. Scrape Restaurant Review\n",
    "            try:\n",
    "                review_counts_anchor = driver.find_element_by_xpath(\"\"\"/html/body/div[1]/div[2]/main/div/section[3]/section/section[2]/section/div[2]/p\"\"\")\n",
    "                review_counts_text = review_counts_anchor.text\n",
    "            except NoSuchElementException:\n",
    "                review_counts_text = \"Not Reviewed Yet\"\n",
    "                pass\n",
    "\n",
    "            review_counts.append(review_counts_text)\n",
    "            print(f'Scraping Restaurant Rating & Review Counts - {name} - {rest_rating_text} - {review_counts_text} - OK')\n",
    "\n",
    "\n",
    "            # 7. Scrape Restaurant's Price for 2 Estimation\n",
    "            try:\n",
    "                price_for_2_anchor = driver.find_element_by_xpath(\"\"\"/html/body/div[1]/div[2]/main/div/section[4]/section/section/article[1]/section[2]/p[1]\"\"\")\n",
    "                price_for_2_text = price_for_2_anchor.text\n",
    "            \n",
    "            except NoSuchElementException:\n",
    "                driver.get(line)\n",
    "                time.sleep(60)\n",
    "\n",
    "                try:\n",
    "                    price_for_2_anchor = driver.find_element_by_xpath(\"\"\"/html/body/div[1]/div[2]/main/div/section[4]/section/section/article[1]/section[2]/p[1]\"\"\")\n",
    "                    price_for_2_text = price_for_2_anchor.text\n",
    "\n",
    "                except NoSuchElementException:\n",
    "                    price_for_2_text = \"No Price Data Found\"   \n",
    "            \n",
    "\n",
    "            if price_for_2_text[0:2] == 'Rp':\n",
    "                price_for_2.append(price_for_2_text)\n",
    "            else:\n",
    "                try:\n",
    "                    price_for_2_anchor = driver.find_element_by_xpath(\"\"\"/html/body/div[1]/div[2]/main/div/section[4]/section/section/article[1]/section[2]/p[2]\"\"\")\n",
    "                    price_for_2_text = price_for_2_anchor.text\n",
    "                    price_for_2.append(price_for_2_text)\n",
    "                except NoSuchElementException:\n",
    "                    driver.get(line)\n",
    "                    time.sleep(60)\n",
    "                    price_for_2.append(\"Need to rerun browser\")\n",
    "\n",
    "            print(f'Scraping Restaurant Price for Two - {name} - OK')\n",
    "\n",
    "\n",
    "            # 8. Scrape Restaurant Address\n",
    "            rest_address_anchor = driver.find_element_by_xpath(\"\"\"/html/body/div[1]/div[2]/main/div/section[4]/section/article/section/p\"\"\")\n",
    "            rest_address.append(rest_address_anchor.text)\n",
    "            print(f'Scraping Restaurant Address {name} - OK')\n",
    "\n",
    "\n",
    "            # 9. Scrape Restaurant Additional Information\n",
    "            additional_infos = []\n",
    "            for index in list(range(1,30)):\n",
    "                try:\n",
    "                    additional_infos_anchor = driver.find_element_by_xpath(f\"\"\"/html/body/div[1]/div[2]/main/div/section[4]/section/section/article[1]/section[2]/div[3]/div[{index}]/p\"\"\")\n",
    "                    additional_infos.append(additional_infos_anchor.text)\n",
    "                except NoSuchElementException:\n",
    "                    pass\n",
    "\n",
    "            rest_info.append(additional_infos)\n",
    "            print(f'Scraping Additional Info - {name} - OK')\n",
    "\n",
    "\n",
    "            # 10. Scrape Restaurant Latitude and Longitude\n",
    "            get_url = driver.find_element_by_xpath(\"\"\"/html/body/div[1]/div[2]/main/div/section[4]/section/article/section/div[2]/a\"\"\").get_attribute(\"href\")\n",
    "            lati = get_url[-28:-15]\n",
    "            lont = get_url[-14:-1]\n",
    "            rest_lat.append(lati)\n",
    "            rest_long.append(lont)\n",
    "            print(f'Scraping Restaurant Latitude-Longitude - {name} - OK')\n",
    "\n",
    "\n",
    "        print('-------------------------------------------------------------------------------------------------------------------------------------------')\n",
    "\n",
    "\n",
    "    driver.close()"
   ]
  },
  {
   "cell_type": "code",
   "execution_count": 32,
   "metadata": {},
   "outputs": [],
   "source": [
    "# Make A New DataFrame - by converting previous restaurant lists to tuples, then convert it to dataframe, containing all the data that we need (rdf - Restaurant DataFrame)\n",
    "\n",
    "data_tuples = list(zip(rest_name[0:],rest_type[0:], cuisine_type[0:], rest_area[0:], rest_address[0:], rest_rating[0:], review_counts[0:], price_for_2[0:], rest_info[0:], rest_lat[0:], rest_long[0:]))\n",
    "rdf = pd.DataFrame(data_tuples, columns=['Restaurant Name','Restaurant Type', 'Cuisine Type', 'Restaurant Area', 'Restaurant Address', 'Restaurant Rating', 'Review Counts', 'Price for 2', 'Additional Info', 'Latitude', 'Longitude'])"
   ]
  },
  {
   "cell_type": "code",
   "execution_count": 36,
   "metadata": {},
   "outputs": [
    {
     "output_type": "execute_result",
     "data": {
      "text/plain": "          Restaurant Name Restaurant Type                      Cuisine Type  \\\n0          Acta Brasserie   Casual Dining  ['Barat', 'Asia', 'Grill House']   \n1        Furusato Izakaya   Casual Dining                        ['Jepang']   \n2        Medja Restaurant   Casual Dining                     ['Indonesia']   \n3      Animale Restaurant   Casual Dining        ['Amerika', 'Mediterania']   \n4       Lawless Burgerbar   Casual Dining                        ['Burger']   \n...                   ...             ...                               ...   \n14511      Essence Coffee    Toko Minuman                    [Kopi, Snacks]   \n14512         Senja Toast     Quick Bites                      [Kue & Roti]   \n14513       Express Juice    Toko Minuman                             [Jus]   \n14514      Ayam Selebriti     Quick Bites                       [Indonesia]   \n14515       Langit Coffee    Toko Minuman                            [Kopi]   \n\n      Restaurant Area                                 Restaurant Address  \\\n0             Senayan  The MAJ Senayan, Senayan National Golf Club, J...   \n1            Sudirman  Jl. Jend Sudirman No. 36, Sudirman, Jakarta 10210   \n2         Bogor Timur    Jl. Pajajaran Indah V No. 6, Bogor Timur, Bogor   \n3           Setiabudi  MD Place Bulding, Lantai 11, Jl. Setiabudi Sel...   \n4              Kemang  Jl. Kemang Selatan VIII No. 67H-67I, Kemang, J...   \n...               ...                                                ...   \n14511    Pondok Bambu          Jl. Bambu Ori Raya, Pondok Bambu, Jakarta   \n14512       Jagakarsa         Jl. Raya Lenteng Agung, Jagakarsa, Jakarta   \n14513      Bojongsari   Jl. Raya Ciputat Parung no 60, Bojongsari, Depok   \n14514          Meruya          Jl. Meruya Selatan No.21, Meruya, Jakarta   \n14515  Kampung Melayu   Jl. Otista Raya No. 60A, Kampung Melayu, Jakarta   \n\n      Restaurant Rating     Review Counts  \\\n0                   3.7         80 Ulasan   \n1                   3.9         55 Ulasan   \n2                   4.0        259 Ulasan   \n3                   4.3        113 Ulasan   \n4                   4.7      1,868 Ulasan   \n...                 ...               ...   \n14511     Not Rated Yet  Not Reviewed Yet   \n14512     Not Rated Yet  Not Reviewed Yet   \n14513     Not Rated Yet  Not Reviewed Yet   \n14514     Not Rated Yet  Not Reviewed Yet   \n14515     Not Rated Yet  Not Reviewed Yet   \n\n                                            Price for 2  \\\n0      Rp350.000 untuk 2 orang (perkiraan)Tanpa alkohol   \n1      Rp500.000 untuk 2 orang (perkiraan)Tanpa alkohol   \n2      Rp200.000 untuk 2 orang (perkiraan)Tanpa alkohol   \n3      Rp500.000 untuk 2 orang (perkiraan)Tanpa alkohol   \n4      Rp150.000 untuk 2 orang (perkiraan)Tanpa alkohol   \n...                                                 ...   \n14511                Rp80.000 untuk 2 orang (perkiraan)   \n14512                Rp60.000 untuk 2 orang (perkiraan)   \n14513                Rp50.000 untuk 2 orang (perkiraan)   \n14514                Rp50.000 untuk 2 orang (perkiraan)   \n14515                Rp50.000 untuk 2 orang (perkiraan)   \n\n                                         Additional Info       Latitude  \\\n0      ['Bawa Pulang Tersedia', 'Alkohol Tersedia', '...  -6.2167980000   \n1      ['Pesan Antar', 'Hanya Wine dan Bir', 'Area Me...  -6.2146764771   \n2      ['Bawa Pulang Tersedia', 'Hanya Bir', 'Tempat ...  -6.6096150000   \n3      ['Bawa Pulang Tersedia', 'Hanya Bir', 'Reserva...  -6.2086409900   \n4      ['Bawa Pulang Tersedia', 'Hanya Bir', 'Reserva...  -6.2679110938   \n...                                                  ...            ...   \n14511  [Bawa Pulang Tersedia, Tempat duduk di luar, D...  -6.2376240000   \n14512  [Sarapan, Bawa Pulang Tersedia, Di dalam ruangan]  -6.3443890000   \n14513           [Bawa Pulang Tersedia, Di dalam ruangan]  -6.3611110000   \n14514  [Bawa Pulang Tersedia, Area Merokok, Tempat du...  -6.2109790000   \n14515  [Bawa Pulang Tersedia, Di dalam ruangan, Area ...  -6.2305090000   \n\n           Longitude  \n0      106.797294000  \n1      106.816816322  \n2      106.812364000  \n3      106.828408353  \n4      106.814406551  \n...              ...  \n14511  106.907457000  \n14512  106.832833000  \n14513  106.747747000  \n14514  106.737538000  \n14515  106.866974000  \n\n[14516 rows x 11 columns]",
      "text/html": "<div>\n<style scoped>\n    .dataframe tbody tr th:only-of-type {\n        vertical-align: middle;\n    }\n\n    .dataframe tbody tr th {\n        vertical-align: top;\n    }\n\n    .dataframe thead th {\n        text-align: right;\n    }\n</style>\n<table border=\"1\" class=\"dataframe\">\n  <thead>\n    <tr style=\"text-align: right;\">\n      <th></th>\n      <th>Restaurant Name</th>\n      <th>Restaurant Type</th>\n      <th>Cuisine Type</th>\n      <th>Restaurant Area</th>\n      <th>Restaurant Address</th>\n      <th>Restaurant Rating</th>\n      <th>Review Counts</th>\n      <th>Price for 2</th>\n      <th>Additional Info</th>\n      <th>Latitude</th>\n      <th>Longitude</th>\n    </tr>\n  </thead>\n  <tbody>\n    <tr>\n      <th>0</th>\n      <td>Acta Brasserie</td>\n      <td>Casual Dining</td>\n      <td>['Barat', 'Asia', 'Grill House']</td>\n      <td>Senayan</td>\n      <td>The MAJ Senayan, Senayan National Golf Club, J...</td>\n      <td>3.7</td>\n      <td>80 Ulasan</td>\n      <td>Rp350.000 untuk 2 orang (perkiraan)Tanpa alkohol</td>\n      <td>['Bawa Pulang Tersedia', 'Alkohol Tersedia', '...</td>\n      <td>-6.2167980000</td>\n      <td>106.797294000</td>\n    </tr>\n    <tr>\n      <th>1</th>\n      <td>Furusato Izakaya</td>\n      <td>Casual Dining</td>\n      <td>['Jepang']</td>\n      <td>Sudirman</td>\n      <td>Jl. Jend Sudirman No. 36, Sudirman, Jakarta 10210</td>\n      <td>3.9</td>\n      <td>55 Ulasan</td>\n      <td>Rp500.000 untuk 2 orang (perkiraan)Tanpa alkohol</td>\n      <td>['Pesan Antar', 'Hanya Wine dan Bir', 'Area Me...</td>\n      <td>-6.2146764771</td>\n      <td>106.816816322</td>\n    </tr>\n    <tr>\n      <th>2</th>\n      <td>Medja Restaurant</td>\n      <td>Casual Dining</td>\n      <td>['Indonesia']</td>\n      <td>Bogor Timur</td>\n      <td>Jl. Pajajaran Indah V No. 6, Bogor Timur, Bogor</td>\n      <td>4.0</td>\n      <td>259 Ulasan</td>\n      <td>Rp200.000 untuk 2 orang (perkiraan)Tanpa alkohol</td>\n      <td>['Bawa Pulang Tersedia', 'Hanya Bir', 'Tempat ...</td>\n      <td>-6.6096150000</td>\n      <td>106.812364000</td>\n    </tr>\n    <tr>\n      <th>3</th>\n      <td>Animale Restaurant</td>\n      <td>Casual Dining</td>\n      <td>['Amerika', 'Mediterania']</td>\n      <td>Setiabudi</td>\n      <td>MD Place Bulding, Lantai 11, Jl. Setiabudi Sel...</td>\n      <td>4.3</td>\n      <td>113 Ulasan</td>\n      <td>Rp500.000 untuk 2 orang (perkiraan)Tanpa alkohol</td>\n      <td>['Bawa Pulang Tersedia', 'Hanya Bir', 'Reserva...</td>\n      <td>-6.2086409900</td>\n      <td>106.828408353</td>\n    </tr>\n    <tr>\n      <th>4</th>\n      <td>Lawless Burgerbar</td>\n      <td>Casual Dining</td>\n      <td>['Burger']</td>\n      <td>Kemang</td>\n      <td>Jl. Kemang Selatan VIII No. 67H-67I, Kemang, J...</td>\n      <td>4.7</td>\n      <td>1,868 Ulasan</td>\n      <td>Rp150.000 untuk 2 orang (perkiraan)Tanpa alkohol</td>\n      <td>['Bawa Pulang Tersedia', 'Hanya Bir', 'Reserva...</td>\n      <td>-6.2679110938</td>\n      <td>106.814406551</td>\n    </tr>\n    <tr>\n      <th>...</th>\n      <td>...</td>\n      <td>...</td>\n      <td>...</td>\n      <td>...</td>\n      <td>...</td>\n      <td>...</td>\n      <td>...</td>\n      <td>...</td>\n      <td>...</td>\n      <td>...</td>\n      <td>...</td>\n    </tr>\n    <tr>\n      <th>14511</th>\n      <td>Essence Coffee</td>\n      <td>Toko Minuman</td>\n      <td>[Kopi, Snacks]</td>\n      <td>Pondok Bambu</td>\n      <td>Jl. Bambu Ori Raya, Pondok Bambu, Jakarta</td>\n      <td>Not Rated Yet</td>\n      <td>Not Reviewed Yet</td>\n      <td>Rp80.000 untuk 2 orang (perkiraan)</td>\n      <td>[Bawa Pulang Tersedia, Tempat duduk di luar, D...</td>\n      <td>-6.2376240000</td>\n      <td>106.907457000</td>\n    </tr>\n    <tr>\n      <th>14512</th>\n      <td>Senja Toast</td>\n      <td>Quick Bites</td>\n      <td>[Kue &amp; Roti]</td>\n      <td>Jagakarsa</td>\n      <td>Jl. Raya Lenteng Agung, Jagakarsa, Jakarta</td>\n      <td>Not Rated Yet</td>\n      <td>Not Reviewed Yet</td>\n      <td>Rp60.000 untuk 2 orang (perkiraan)</td>\n      <td>[Sarapan, Bawa Pulang Tersedia, Di dalam ruangan]</td>\n      <td>-6.3443890000</td>\n      <td>106.832833000</td>\n    </tr>\n    <tr>\n      <th>14513</th>\n      <td>Express Juice</td>\n      <td>Toko Minuman</td>\n      <td>[Jus]</td>\n      <td>Bojongsari</td>\n      <td>Jl. Raya Ciputat Parung no 60, Bojongsari, Depok</td>\n      <td>Not Rated Yet</td>\n      <td>Not Reviewed Yet</td>\n      <td>Rp50.000 untuk 2 orang (perkiraan)</td>\n      <td>[Bawa Pulang Tersedia, Di dalam ruangan]</td>\n      <td>-6.3611110000</td>\n      <td>106.747747000</td>\n    </tr>\n    <tr>\n      <th>14514</th>\n      <td>Ayam Selebriti</td>\n      <td>Quick Bites</td>\n      <td>[Indonesia]</td>\n      <td>Meruya</td>\n      <td>Jl. Meruya Selatan No.21, Meruya, Jakarta</td>\n      <td>Not Rated Yet</td>\n      <td>Not Reviewed Yet</td>\n      <td>Rp50.000 untuk 2 orang (perkiraan)</td>\n      <td>[Bawa Pulang Tersedia, Area Merokok, Tempat du...</td>\n      <td>-6.2109790000</td>\n      <td>106.737538000</td>\n    </tr>\n    <tr>\n      <th>14515</th>\n      <td>Langit Coffee</td>\n      <td>Toko Minuman</td>\n      <td>[Kopi]</td>\n      <td>Kampung Melayu</td>\n      <td>Jl. Otista Raya No. 60A, Kampung Melayu, Jakarta</td>\n      <td>Not Rated Yet</td>\n      <td>Not Reviewed Yet</td>\n      <td>Rp50.000 untuk 2 orang (perkiraan)</td>\n      <td>[Bawa Pulang Tersedia, Di dalam ruangan, Area ...</td>\n      <td>-6.2305090000</td>\n      <td>106.866974000</td>\n    </tr>\n  </tbody>\n</table>\n<p>14516 rows × 11 columns</p>\n</div>"
     },
     "metadata": {},
     "execution_count": 36
    }
   ],
   "source": [
    "# If We Run the Data Scraping multiple times (separately), let's concatenate all the DataFrames to a huge, longer DataFrame\n",
    "\n",
    "total_frame = [rdf, rdf2]\n",
    "rdf_complete = pd.concat(total_frame, ignore_index=True)\n",
    "rdf_complete"
   ]
  },
  {
   "cell_type": "code",
   "execution_count": 53,
   "metadata": {},
   "outputs": [
    {
     "output_type": "execute_result",
     "data": {
      "text/plain": "          Restaurant Name Restaurant Type                      Cuisine Type  \\\n0          Acta Brasserie   Casual Dining  ['Barat', 'Asia', 'Grill House']   \n1        Furusato Izakaya   Casual Dining                        ['Jepang']   \n2        Medja Restaurant   Casual Dining                     ['Indonesia']   \n3      Animale Restaurant   Casual Dining        ['Amerika', 'Mediterania']   \n4       Lawless Burgerbar   Casual Dining                        ['Burger']   \n...                   ...             ...                               ...   \n14511      Essence Coffee    Toko Minuman                ['Kopi', 'Snacks']   \n14512         Senja Toast     Quick Bites                    ['Kue & Roti']   \n14513       Express Juice    Toko Minuman                           ['Jus']   \n14514      Ayam Selebriti     Quick Bites                     ['Indonesia']   \n14515       Langit Coffee    Toko Minuman                          ['Kopi']   \n\n      Restaurant Area                                 Restaurant Address  \\\n0             Senayan  The MAJ Senayan, Senayan National Golf Club, J...   \n1            Sudirman  Jl. Jend Sudirman No. 36, Sudirman, Jakarta 10210   \n2         Bogor Timur    Jl. Pajajaran Indah V No. 6, Bogor Timur, Bogor   \n3           Setiabudi  MD Place Bulding, Lantai 11, Jl. Setiabudi Sel...   \n4              Kemang  Jl. Kemang Selatan VIII No. 67H-67I, Kemang, J...   \n...               ...                                                ...   \n14511    Pondok Bambu          Jl. Bambu Ori Raya, Pondok Bambu, Jakarta   \n14512       Jagakarsa         Jl. Raya Lenteng Agung, Jagakarsa, Jakarta   \n14513      Bojongsari   Jl. Raya Ciputat Parung no 60, Bojongsari, Depok   \n14514          Meruya          Jl. Meruya Selatan No.21, Meruya, Jakarta   \n14515  Kampung Melayu   Jl. Otista Raya No. 60A, Kampung Melayu, Jakarta   \n\n      Restaurant Rating     Review Counts  \\\n0                   3.7         80 Ulasan   \n1                   3.9         55 Ulasan   \n2                   4.0        259 Ulasan   \n3                   4.3        113 Ulasan   \n4                   4.7      1,868 Ulasan   \n...                 ...               ...   \n14511     Not Rated Yet  Not Reviewed Yet   \n14512     Not Rated Yet  Not Reviewed Yet   \n14513     Not Rated Yet  Not Reviewed Yet   \n14514     Not Rated Yet  Not Reviewed Yet   \n14515     Not Rated Yet  Not Reviewed Yet   \n\n                                            Price for 2  \\\n0      Rp350.000 untuk 2 orang (perkiraan)Tanpa alkohol   \n1      Rp500.000 untuk 2 orang (perkiraan)Tanpa alkohol   \n2      Rp200.000 untuk 2 orang (perkiraan)Tanpa alkohol   \n3      Rp500.000 untuk 2 orang (perkiraan)Tanpa alkohol   \n4      Rp150.000 untuk 2 orang (perkiraan)Tanpa alkohol   \n...                                                 ...   \n14511                Rp80.000 untuk 2 orang (perkiraan)   \n14512                Rp60.000 untuk 2 orang (perkiraan)   \n14513                Rp50.000 untuk 2 orang (perkiraan)   \n14514                Rp50.000 untuk 2 orang (perkiraan)   \n14515                Rp50.000 untuk 2 orang (perkiraan)   \n\n                                         Additional Info       Latitude  \\\n0      ['Bawa Pulang Tersedia', 'Alkohol Tersedia', '...  -6.2167980000   \n1      ['Pesan Antar', 'Hanya Wine dan Bir', 'Area Me...  -6.2146764771   \n2      ['Bawa Pulang Tersedia', 'Hanya Bir', 'Tempat ...  -6.6096150000   \n3      ['Bawa Pulang Tersedia', 'Hanya Bir', 'Reserva...  -6.2086409900   \n4      ['Bawa Pulang Tersedia', 'Hanya Bir', 'Reserva...  -6.2679110938   \n...                                                  ...            ...   \n14511  ['Bawa Pulang Tersedia', 'Tempat duduk di luar...  -6.2376240000   \n14512  ['Sarapan', 'Bawa Pulang Tersedia', 'Di dalam ...  -6.3443890000   \n14513       ['Bawa Pulang Tersedia', 'Di dalam ruangan']  -6.3611110000   \n14514  ['Bawa Pulang Tersedia', 'Area Merokok', 'Temp...  -6.2109790000   \n14515  ['Bawa Pulang Tersedia', 'Di dalam ruangan', '...  -6.2305090000   \n\n           Longitude                                            Website  \n0      106.797294000  https://www.zomato.com/id/jakarta/acta-brasser...  \n1      106.816816322  https://www.zomato.com/id/jakarta/furusato-iza...  \n2      106.812364000  https://www.zomato.com/id/jakarta/medja-restau...  \n3      106.828408353  https://www.zomato.com/id/jakarta/animale-rest...  \n4      106.814406551  https://www.zomato.com/id/jakarta/lawless-burg...  \n...              ...                                                ...  \n14511  106.907457000  https://www.zomato.com/id/jakarta/essence-coff...  \n14512  106.832833000  https://www.zomato.com/id/jakarta/senja-toast-...  \n14513  106.747747000  https://www.zomato.com/id/jakarta/express-juic...  \n14514  106.737538000  https://www.zomato.com/id/jakarta/ayam-selebri...  \n14515  106.866974000  https://www.zomato.com/id/jakarta/langit-coffe...  \n\n[14516 rows x 12 columns]",
      "text/html": "<div>\n<style scoped>\n    .dataframe tbody tr th:only-of-type {\n        vertical-align: middle;\n    }\n\n    .dataframe tbody tr th {\n        vertical-align: top;\n    }\n\n    .dataframe thead th {\n        text-align: right;\n    }\n</style>\n<table border=\"1\" class=\"dataframe\">\n  <thead>\n    <tr style=\"text-align: right;\">\n      <th></th>\n      <th>Restaurant Name</th>\n      <th>Restaurant Type</th>\n      <th>Cuisine Type</th>\n      <th>Restaurant Area</th>\n      <th>Restaurant Address</th>\n      <th>Restaurant Rating</th>\n      <th>Review Counts</th>\n      <th>Price for 2</th>\n      <th>Additional Info</th>\n      <th>Latitude</th>\n      <th>Longitude</th>\n      <th>Website</th>\n    </tr>\n  </thead>\n  <tbody>\n    <tr>\n      <th>0</th>\n      <td>Acta Brasserie</td>\n      <td>Casual Dining</td>\n      <td>['Barat', 'Asia', 'Grill House']</td>\n      <td>Senayan</td>\n      <td>The MAJ Senayan, Senayan National Golf Club, J...</td>\n      <td>3.7</td>\n      <td>80 Ulasan</td>\n      <td>Rp350.000 untuk 2 orang (perkiraan)Tanpa alkohol</td>\n      <td>['Bawa Pulang Tersedia', 'Alkohol Tersedia', '...</td>\n      <td>-6.2167980000</td>\n      <td>106.797294000</td>\n      <td>https://www.zomato.com/id/jakarta/acta-brasser...</td>\n    </tr>\n    <tr>\n      <th>1</th>\n      <td>Furusato Izakaya</td>\n      <td>Casual Dining</td>\n      <td>['Jepang']</td>\n      <td>Sudirman</td>\n      <td>Jl. Jend Sudirman No. 36, Sudirman, Jakarta 10210</td>\n      <td>3.9</td>\n      <td>55 Ulasan</td>\n      <td>Rp500.000 untuk 2 orang (perkiraan)Tanpa alkohol</td>\n      <td>['Pesan Antar', 'Hanya Wine dan Bir', 'Area Me...</td>\n      <td>-6.2146764771</td>\n      <td>106.816816322</td>\n      <td>https://www.zomato.com/id/jakarta/furusato-iza...</td>\n    </tr>\n    <tr>\n      <th>2</th>\n      <td>Medja Restaurant</td>\n      <td>Casual Dining</td>\n      <td>['Indonesia']</td>\n      <td>Bogor Timur</td>\n      <td>Jl. Pajajaran Indah V No. 6, Bogor Timur, Bogor</td>\n      <td>4.0</td>\n      <td>259 Ulasan</td>\n      <td>Rp200.000 untuk 2 orang (perkiraan)Tanpa alkohol</td>\n      <td>['Bawa Pulang Tersedia', 'Hanya Bir', 'Tempat ...</td>\n      <td>-6.6096150000</td>\n      <td>106.812364000</td>\n      <td>https://www.zomato.com/id/jakarta/medja-restau...</td>\n    </tr>\n    <tr>\n      <th>3</th>\n      <td>Animale Restaurant</td>\n      <td>Casual Dining</td>\n      <td>['Amerika', 'Mediterania']</td>\n      <td>Setiabudi</td>\n      <td>MD Place Bulding, Lantai 11, Jl. Setiabudi Sel...</td>\n      <td>4.3</td>\n      <td>113 Ulasan</td>\n      <td>Rp500.000 untuk 2 orang (perkiraan)Tanpa alkohol</td>\n      <td>['Bawa Pulang Tersedia', 'Hanya Bir', 'Reserva...</td>\n      <td>-6.2086409900</td>\n      <td>106.828408353</td>\n      <td>https://www.zomato.com/id/jakarta/animale-rest...</td>\n    </tr>\n    <tr>\n      <th>4</th>\n      <td>Lawless Burgerbar</td>\n      <td>Casual Dining</td>\n      <td>['Burger']</td>\n      <td>Kemang</td>\n      <td>Jl. Kemang Selatan VIII No. 67H-67I, Kemang, J...</td>\n      <td>4.7</td>\n      <td>1,868 Ulasan</td>\n      <td>Rp150.000 untuk 2 orang (perkiraan)Tanpa alkohol</td>\n      <td>['Bawa Pulang Tersedia', 'Hanya Bir', 'Reserva...</td>\n      <td>-6.2679110938</td>\n      <td>106.814406551</td>\n      <td>https://www.zomato.com/id/jakarta/lawless-burg...</td>\n    </tr>\n    <tr>\n      <th>...</th>\n      <td>...</td>\n      <td>...</td>\n      <td>...</td>\n      <td>...</td>\n      <td>...</td>\n      <td>...</td>\n      <td>...</td>\n      <td>...</td>\n      <td>...</td>\n      <td>...</td>\n      <td>...</td>\n      <td>...</td>\n    </tr>\n    <tr>\n      <th>14511</th>\n      <td>Essence Coffee</td>\n      <td>Toko Minuman</td>\n      <td>['Kopi', 'Snacks']</td>\n      <td>Pondok Bambu</td>\n      <td>Jl. Bambu Ori Raya, Pondok Bambu, Jakarta</td>\n      <td>Not Rated Yet</td>\n      <td>Not Reviewed Yet</td>\n      <td>Rp80.000 untuk 2 orang (perkiraan)</td>\n      <td>['Bawa Pulang Tersedia', 'Tempat duduk di luar...</td>\n      <td>-6.2376240000</td>\n      <td>106.907457000</td>\n      <td>https://www.zomato.com/id/jakarta/essence-coff...</td>\n    </tr>\n    <tr>\n      <th>14512</th>\n      <td>Senja Toast</td>\n      <td>Quick Bites</td>\n      <td>['Kue &amp; Roti']</td>\n      <td>Jagakarsa</td>\n      <td>Jl. Raya Lenteng Agung, Jagakarsa, Jakarta</td>\n      <td>Not Rated Yet</td>\n      <td>Not Reviewed Yet</td>\n      <td>Rp60.000 untuk 2 orang (perkiraan)</td>\n      <td>['Sarapan', 'Bawa Pulang Tersedia', 'Di dalam ...</td>\n      <td>-6.3443890000</td>\n      <td>106.832833000</td>\n      <td>https://www.zomato.com/id/jakarta/senja-toast-...</td>\n    </tr>\n    <tr>\n      <th>14513</th>\n      <td>Express Juice</td>\n      <td>Toko Minuman</td>\n      <td>['Jus']</td>\n      <td>Bojongsari</td>\n      <td>Jl. Raya Ciputat Parung no 60, Bojongsari, Depok</td>\n      <td>Not Rated Yet</td>\n      <td>Not Reviewed Yet</td>\n      <td>Rp50.000 untuk 2 orang (perkiraan)</td>\n      <td>['Bawa Pulang Tersedia', 'Di dalam ruangan']</td>\n      <td>-6.3611110000</td>\n      <td>106.747747000</td>\n      <td>https://www.zomato.com/id/jakarta/express-juic...</td>\n    </tr>\n    <tr>\n      <th>14514</th>\n      <td>Ayam Selebriti</td>\n      <td>Quick Bites</td>\n      <td>['Indonesia']</td>\n      <td>Meruya</td>\n      <td>Jl. Meruya Selatan No.21, Meruya, Jakarta</td>\n      <td>Not Rated Yet</td>\n      <td>Not Reviewed Yet</td>\n      <td>Rp50.000 untuk 2 orang (perkiraan)</td>\n      <td>['Bawa Pulang Tersedia', 'Area Merokok', 'Temp...</td>\n      <td>-6.2109790000</td>\n      <td>106.737538000</td>\n      <td>https://www.zomato.com/id/jakarta/ayam-selebri...</td>\n    </tr>\n    <tr>\n      <th>14515</th>\n      <td>Langit Coffee</td>\n      <td>Toko Minuman</td>\n      <td>['Kopi']</td>\n      <td>Kampung Melayu</td>\n      <td>Jl. Otista Raya No. 60A, Kampung Melayu, Jakarta</td>\n      <td>Not Rated Yet</td>\n      <td>Not Reviewed Yet</td>\n      <td>Rp50.000 untuk 2 orang (perkiraan)</td>\n      <td>['Bawa Pulang Tersedia', 'Di dalam ruangan', '...</td>\n      <td>-6.2305090000</td>\n      <td>106.866974000</td>\n      <td>https://www.zomato.com/id/jakarta/langit-coffe...</td>\n    </tr>\n  </tbody>\n</table>\n<p>14516 rows × 12 columns</p>\n</div>"
     },
     "metadata": {},
     "execution_count": 53
    }
   ],
   "source": [
    "# Merge - Restaurant DataFrame with Website DataFrame\n",
    "\n",
    "rdf_full = rdf.join(out_df_nd)\n",
    "rdf_full"
   ]
  },
  {
   "cell_type": "code",
   "execution_count": 54,
   "metadata": {},
   "outputs": [
    {
     "output_type": "execute_result",
     "data": {
      "text/plain": "         Restaurant Name Restaurant Type              Cuisine Type  \\\n0            Holy Smokes   Casual Dining  ['Grill House', 'Steak']   \n1         Pempek Megaria     Quick Bites             ['Palembang']   \n2          Tjikinii Lima   Casual Dining    ['Barat', 'Indonesia']   \n3      Gado-Gado Bon-Bin     Quick Bites                  ['Jawa']   \n4          Koffie Fictie            Kafe                  ['Kopi']   \n...                  ...             ...                       ...   \n11263     Essence Coffee    Toko Minuman        ['Kopi', 'Snacks']   \n11264        Senja Toast     Quick Bites            ['Kue & Roti']   \n11265      Express Juice    Toko Minuman                   ['Jus']   \n11266     Ayam Selebriti     Quick Bites             ['Indonesia']   \n11267      Langit Coffee    Toko Minuman                  ['Kopi']   \n\n      Restaurant Area                                 Restaurant Address  \\\n0            Senopati    Jl. Wolter Monginsidi No. 27, Senopati, Jakarta   \n1              Cikini  Metropole 21, Jl. Pegangsaan Timur No. 21, Cik...   \n2              Cikini          Jl. Cikini I No. 5, Cikini, Jakarta 10330   \n3              Cikini                Jl. Cikini 4 No. 5, Cikini, Jakarta   \n4      Bekasi Selatan  Grand Galaxy Park, Ruko RSOD No. 026, Jl. Lotu...   \n...               ...                                                ...   \n11263    Pondok Bambu          Jl. Bambu Ori Raya, Pondok Bambu, Jakarta   \n11264       Jagakarsa         Jl. Raya Lenteng Agung, Jagakarsa, Jakarta   \n11265      Bojongsari   Jl. Raya Ciputat Parung no 60, Bojongsari, Depok   \n11266          Meruya          Jl. Meruya Selatan No.21, Meruya, Jakarta   \n11267  Kampung Melayu   Jl. Otista Raya No. 60A, Kampung Melayu, Jakarta   \n\n      Restaurant Rating       Review Counts  \\\n0                   4.4        1,437 Ulasan   \n1                   4.3          461 Ulasan   \n2                   4.0          391 Ulasan   \n3                   4.0          177 Ulasan   \n4         Not Rated Yet  TIdak cukup Ulasan   \n...                 ...                 ...   \n11263     Not Rated Yet    Not Reviewed Yet   \n11264     Not Rated Yet    Not Reviewed Yet   \n11265     Not Rated Yet    Not Reviewed Yet   \n11266     Not Rated Yet    Not Reviewed Yet   \n11267     Not Rated Yet    Not Reviewed Yet   \n\n                                            Price for 2  \\\n0      Rp500.000 untuk 2 orang (perkiraan)Tanpa alkohol   \n1                    Rp70.000 untuk 2 orang (perkiraan)   \n2                   Rp300.000 untuk 2 orang (perkiraan)   \n3                    Rp90.000 untuk 2 orang (perkiraan)   \n4                   Rp100.000 untuk 2 orang (perkiraan)   \n...                                                 ...   \n11263                Rp80.000 untuk 2 orang (perkiraan)   \n11264                Rp60.000 untuk 2 orang (perkiraan)   \n11265                Rp50.000 untuk 2 orang (perkiraan)   \n11266                Rp50.000 untuk 2 orang (perkiraan)   \n11267                Rp50.000 untuk 2 orang (perkiraan)   \n\n                                         Additional Info       Latitude  \\\n0      ['Hanya Wine dan Bir', 'Di dalam ruangan', 'Wi...  -6.2391432684   \n1           ['Bawa Pulang Tersedia', 'Di dalam ruangan']  -6.1999000000   \n2      ['Bawa Pulang Tersedia', 'Area Merokok', 'Temp...  -6.1898019937   \n3           ['Bawa Pulang Tersedia', 'Di dalam ruangan']  -6.1929590000   \n4           ['Bawa Pulang Tersedia', 'Di dalam ruangan']  -6.2720590000   \n...                                                  ...            ...   \n11263  ['Bawa Pulang Tersedia', 'Tempat duduk di luar...  -6.2376240000   \n11264  ['Sarapan', 'Bawa Pulang Tersedia', 'Di dalam ...  -6.3443890000   \n11265       ['Bawa Pulang Tersedia', 'Di dalam ruangan']  -6.3611110000   \n11266  ['Bawa Pulang Tersedia', 'Area Merokok', 'Temp...  -6.2109790000   \n11267  ['Bawa Pulang Tersedia', 'Di dalam ruangan', '...  -6.2305090000   \n\n           Longitude                                            Website  \n0      106.807954162  https://www.zomato.com/id/jakarta/holy-smokes-...  \n1      106.843739000  https://www.zomato.com/id/jakarta/pempek-megar...  \n2      106.837150007  https://www.zomato.com/id/jakarta/tjikinii-lim...  \n3      106.838377000  https://www.zomato.com/id/jakarta/gado-gado-bo...  \n4      106.970932000  https://www.zomato.com/id/jakarta/koffie-ficti...  \n...              ...                                                ...  \n11263  106.907457000  https://www.zomato.com/id/jakarta/essence-coff...  \n11264  106.832833000  https://www.zomato.com/id/jakarta/senja-toast-...  \n11265  106.747747000  https://www.zomato.com/id/jakarta/express-juic...  \n11266  106.737538000  https://www.zomato.com/id/jakarta/ayam-selebri...  \n11267  106.866974000  https://www.zomato.com/id/jakarta/langit-coffe...  \n\n[11268 rows x 12 columns]",
      "text/html": "<div>\n<style scoped>\n    .dataframe tbody tr th:only-of-type {\n        vertical-align: middle;\n    }\n\n    .dataframe tbody tr th {\n        vertical-align: top;\n    }\n\n    .dataframe thead th {\n        text-align: right;\n    }\n</style>\n<table border=\"1\" class=\"dataframe\">\n  <thead>\n    <tr style=\"text-align: right;\">\n      <th></th>\n      <th>Restaurant Name</th>\n      <th>Restaurant Type</th>\n      <th>Cuisine Type</th>\n      <th>Restaurant Area</th>\n      <th>Restaurant Address</th>\n      <th>Restaurant Rating</th>\n      <th>Review Counts</th>\n      <th>Price for 2</th>\n      <th>Additional Info</th>\n      <th>Latitude</th>\n      <th>Longitude</th>\n      <th>Website</th>\n    </tr>\n  </thead>\n  <tbody>\n    <tr>\n      <th>0</th>\n      <td>Holy Smokes</td>\n      <td>Casual Dining</td>\n      <td>['Grill House', 'Steak']</td>\n      <td>Senopati</td>\n      <td>Jl. Wolter Monginsidi No. 27, Senopati, Jakarta</td>\n      <td>4.4</td>\n      <td>1,437 Ulasan</td>\n      <td>Rp500.000 untuk 2 orang (perkiraan)Tanpa alkohol</td>\n      <td>['Hanya Wine dan Bir', 'Di dalam ruangan', 'Wi...</td>\n      <td>-6.2391432684</td>\n      <td>106.807954162</td>\n      <td>https://www.zomato.com/id/jakarta/holy-smokes-...</td>\n    </tr>\n    <tr>\n      <th>1</th>\n      <td>Pempek Megaria</td>\n      <td>Quick Bites</td>\n      <td>['Palembang']</td>\n      <td>Cikini</td>\n      <td>Metropole 21, Jl. Pegangsaan Timur No. 21, Cik...</td>\n      <td>4.3</td>\n      <td>461 Ulasan</td>\n      <td>Rp70.000 untuk 2 orang (perkiraan)</td>\n      <td>['Bawa Pulang Tersedia', 'Di dalam ruangan']</td>\n      <td>-6.1999000000</td>\n      <td>106.843739000</td>\n      <td>https://www.zomato.com/id/jakarta/pempek-megar...</td>\n    </tr>\n    <tr>\n      <th>2</th>\n      <td>Tjikinii Lima</td>\n      <td>Casual Dining</td>\n      <td>['Barat', 'Indonesia']</td>\n      <td>Cikini</td>\n      <td>Jl. Cikini I No. 5, Cikini, Jakarta 10330</td>\n      <td>4.0</td>\n      <td>391 Ulasan</td>\n      <td>Rp300.000 untuk 2 orang (perkiraan)</td>\n      <td>['Bawa Pulang Tersedia', 'Area Merokok', 'Temp...</td>\n      <td>-6.1898019937</td>\n      <td>106.837150007</td>\n      <td>https://www.zomato.com/id/jakarta/tjikinii-lim...</td>\n    </tr>\n    <tr>\n      <th>3</th>\n      <td>Gado-Gado Bon-Bin</td>\n      <td>Quick Bites</td>\n      <td>['Jawa']</td>\n      <td>Cikini</td>\n      <td>Jl. Cikini 4 No. 5, Cikini, Jakarta</td>\n      <td>4.0</td>\n      <td>177 Ulasan</td>\n      <td>Rp90.000 untuk 2 orang (perkiraan)</td>\n      <td>['Bawa Pulang Tersedia', 'Di dalam ruangan']</td>\n      <td>-6.1929590000</td>\n      <td>106.838377000</td>\n      <td>https://www.zomato.com/id/jakarta/gado-gado-bo...</td>\n    </tr>\n    <tr>\n      <th>4</th>\n      <td>Koffie Fictie</td>\n      <td>Kafe</td>\n      <td>['Kopi']</td>\n      <td>Bekasi Selatan</td>\n      <td>Grand Galaxy Park, Ruko RSOD No. 026, Jl. Lotu...</td>\n      <td>Not Rated Yet</td>\n      <td>TIdak cukup Ulasan</td>\n      <td>Rp100.000 untuk 2 orang (perkiraan)</td>\n      <td>['Bawa Pulang Tersedia', 'Di dalam ruangan']</td>\n      <td>-6.2720590000</td>\n      <td>106.970932000</td>\n      <td>https://www.zomato.com/id/jakarta/koffie-ficti...</td>\n    </tr>\n    <tr>\n      <th>...</th>\n      <td>...</td>\n      <td>...</td>\n      <td>...</td>\n      <td>...</td>\n      <td>...</td>\n      <td>...</td>\n      <td>...</td>\n      <td>...</td>\n      <td>...</td>\n      <td>...</td>\n      <td>...</td>\n      <td>...</td>\n    </tr>\n    <tr>\n      <th>11263</th>\n      <td>Essence Coffee</td>\n      <td>Toko Minuman</td>\n      <td>['Kopi', 'Snacks']</td>\n      <td>Pondok Bambu</td>\n      <td>Jl. Bambu Ori Raya, Pondok Bambu, Jakarta</td>\n      <td>Not Rated Yet</td>\n      <td>Not Reviewed Yet</td>\n      <td>Rp80.000 untuk 2 orang (perkiraan)</td>\n      <td>['Bawa Pulang Tersedia', 'Tempat duduk di luar...</td>\n      <td>-6.2376240000</td>\n      <td>106.907457000</td>\n      <td>https://www.zomato.com/id/jakarta/essence-coff...</td>\n    </tr>\n    <tr>\n      <th>11264</th>\n      <td>Senja Toast</td>\n      <td>Quick Bites</td>\n      <td>['Kue &amp; Roti']</td>\n      <td>Jagakarsa</td>\n      <td>Jl. Raya Lenteng Agung, Jagakarsa, Jakarta</td>\n      <td>Not Rated Yet</td>\n      <td>Not Reviewed Yet</td>\n      <td>Rp60.000 untuk 2 orang (perkiraan)</td>\n      <td>['Sarapan', 'Bawa Pulang Tersedia', 'Di dalam ...</td>\n      <td>-6.3443890000</td>\n      <td>106.832833000</td>\n      <td>https://www.zomato.com/id/jakarta/senja-toast-...</td>\n    </tr>\n    <tr>\n      <th>11265</th>\n      <td>Express Juice</td>\n      <td>Toko Minuman</td>\n      <td>['Jus']</td>\n      <td>Bojongsari</td>\n      <td>Jl. Raya Ciputat Parung no 60, Bojongsari, Depok</td>\n      <td>Not Rated Yet</td>\n      <td>Not Reviewed Yet</td>\n      <td>Rp50.000 untuk 2 orang (perkiraan)</td>\n      <td>['Bawa Pulang Tersedia', 'Di dalam ruangan']</td>\n      <td>-6.3611110000</td>\n      <td>106.747747000</td>\n      <td>https://www.zomato.com/id/jakarta/express-juic...</td>\n    </tr>\n    <tr>\n      <th>11266</th>\n      <td>Ayam Selebriti</td>\n      <td>Quick Bites</td>\n      <td>['Indonesia']</td>\n      <td>Meruya</td>\n      <td>Jl. Meruya Selatan No.21, Meruya, Jakarta</td>\n      <td>Not Rated Yet</td>\n      <td>Not Reviewed Yet</td>\n      <td>Rp50.000 untuk 2 orang (perkiraan)</td>\n      <td>['Bawa Pulang Tersedia', 'Area Merokok', 'Temp...</td>\n      <td>-6.2109790000</td>\n      <td>106.737538000</td>\n      <td>https://www.zomato.com/id/jakarta/ayam-selebri...</td>\n    </tr>\n    <tr>\n      <th>11267</th>\n      <td>Langit Coffee</td>\n      <td>Toko Minuman</td>\n      <td>['Kopi']</td>\n      <td>Kampung Melayu</td>\n      <td>Jl. Otista Raya No. 60A, Kampung Melayu, Jakarta</td>\n      <td>Not Rated Yet</td>\n      <td>Not Reviewed Yet</td>\n      <td>Rp50.000 untuk 2 orang (perkiraan)</td>\n      <td>['Bawa Pulang Tersedia', 'Di dalam ruangan', '...</td>\n      <td>-6.2305090000</td>\n      <td>106.866974000</td>\n      <td>https://www.zomato.com/id/jakarta/langit-coffe...</td>\n    </tr>\n  </tbody>\n</table>\n<p>11268 rows × 12 columns</p>\n</div>"
     },
     "metadata": {},
     "execution_count": 54
    }
   ],
   "source": [
    "# If we haven't removed the duplicate from URL textfile/dataframe in previous step, we can do so here\n",
    "# Data Cleaning - Remove the Duplicate Entries by Column [Restaurant Name, Latitude, Longitude]\n",
    "\n",
    "rdf_fullnd = rdf_full[~rdf_full.duplicated(['Restaurant Name','Latitude','Longitude'], keep='last')]\n",
    "rdf_fullnd.reset_index(drop=True)"
   ]
  },
  {
   "cell_type": "code",
   "execution_count": 55,
   "metadata": {},
   "outputs": [],
   "source": [
    "# Data Cleaning - Remove Entries with 404 error\n",
    "\n",
    "rdf_fullnd = rdf_fullnd[~(rdf_fullnd['Restaurant Name'] == '404 error')].reset_index(drop=True)"
   ]
  },
  {
   "cell_type": "code",
   "execution_count": 56,
   "metadata": {
    "tags": []
   },
   "outputs": [
    {
     "output_type": "stream",
     "name": "stdout",
     "text": "Restaurant Name - Percentage of Missing Values :  0.0\nRestaurant Type - Percentage of Missing Values :  0.0\nCuisine Type - Percentage of Missing Values :  0.0\nRestaurant Area - Percentage of Missing Values :  0.0\nRestaurant Address - Percentage of Missing Values :  0.007\nRestaurant Rating - Percentage of Missing Values :  0.0\nReview Counts - Percentage of Missing Values :  0.0\nPrice for 2 - Percentage of Missing Values :  0.007\nAdditional Info - Percentage of Missing Values :  0.0\nLatitude - Percentage of Missing Values :  0.0\nLongitude - Percentage of Missing Values :  0.0\nWebsite - Percentage of Missing Values :  0.0\n"
    }
   ],
   "source": [
    "# Observe - Missing Values \n",
    "\n",
    "for var in rdf_fullnd.columns:\n",
    "    print(var, '- Percentage of Missing Values : ', rdf_fullnd[var].isnull().mean().round(3))"
   ]
  },
  {
   "cell_type": "code",
   "execution_count": 57,
   "metadata": {
    "tags": []
   },
   "outputs": [
    {
     "output_type": "execute_result",
     "data": {
      "text/plain": "83"
     },
     "metadata": {},
     "execution_count": 57
    }
   ],
   "source": [
    "# Observe - Sum of Missing Value in Restaurant Address\n",
    "\n",
    "rdf_fullnd['Restaurant Address'].isna().sum()"
   ]
  },
  {
   "cell_type": "code",
   "execution_count": 58,
   "metadata": {},
   "outputs": [
    {
     "output_type": "execute_result",
     "data": {
      "text/plain": "83"
     },
     "metadata": {},
     "execution_count": 58
    }
   ],
   "source": [
    "# Observe - Sum of Missing Value in Price for 2\n",
    "\n",
    "rdf_fullnd['Price for 2'].isna().sum()"
   ]
  },
  {
   "cell_type": "code",
   "execution_count": 5,
   "metadata": {},
   "outputs": [],
   "source": [
    "# Store - the location of Missing Values in Restaurant Address to a new variable\n",
    "\n",
    "condition_1 = rdf_fullnd['Restaurant Address'].isna()"
   ]
  },
  {
   "cell_type": "code",
   "execution_count": 6,
   "metadata": {},
   "outputs": [
    {
     "output_type": "execute_result",
     "data": {
      "text/plain": "0        Rp\n1        Rp\n2        Rp\n3        Rp\n4        Rp\n         ..\n11262    Rp\n11263    Rp\n11264    Rp\n11265    Rp\n11266    Rp\nName: Price for 2, Length: 11267, dtype: object"
     },
     "metadata": {},
     "execution_count": 6
    }
   ],
   "source": [
    "# Observe - for Price for 2, do we get the wrong data? Let's check that by slice the first 2 letter in this feature\n",
    "\n",
    "price_for_2_check = rdf_fullnd['Price for 2'].str.slice(0,2)\n",
    "price_for_2_check"
   ]
  },
  {
   "cell_type": "code",
   "execution_count": 7,
   "metadata": {},
   "outputs": [
    {
     "output_type": "execute_result",
     "data": {
      "text/plain": "201"
     },
     "metadata": {},
     "execution_count": 7
    }
   ],
   "source": [
    "# Observe - how many entries of 'Price for 2' are not showing price ('Rp') and showing no price found ('No')\n",
    "\n",
    "sum(~((price_for_2_check == 'Rp') | (price_for_2_check == 'No')))"
   ]
  },
  {
   "cell_type": "code",
   "execution_count": 8,
   "metadata": {},
   "outputs": [],
   "source": [
    "# Store - the location of previous entries to a new variable\n",
    "\n",
    "condition_2 = ~((price_for_2_check == 'Rp') | (price_for_2_check == 'No'))"
   ]
  },
  {
   "cell_type": "code",
   "execution_count": 66,
   "metadata": {},
   "outputs": [
    {
     "output_type": "execute_result",
     "data": {
      "text/plain": "204"
     },
     "metadata": {},
     "execution_count": 66
    }
   ],
   "source": [
    "# Observe - Sum of Empty Additional Info\n",
    "\n",
    "sum(rdf_fullnd['Additional Info'].str[0:2] == \"[]\")"
   ]
  },
  {
   "cell_type": "code",
   "execution_count": 9,
   "metadata": {},
   "outputs": [],
   "source": [
    "# Store - the location of empty additional info to a new variable\n",
    "\n",
    "condition_3 = (rdf_fullnd['Additional Info'].str[0:2] == \"[]\")"
   ]
  },
  {
   "cell_type": "code",
   "execution_count": 17,
   "metadata": {},
   "outputs": [
    {
     "output_type": "execute_result",
     "data": {
      "text/plain": "                   Restaurant Name  Restaurant Type  \\\n968                  Tenterem Cafe      Quick Bites   \n1201              Indah Seafood 94       Food Court   \n1219                       Mama-Do       Food Court   \n1240   DÉJÀ VU Resto - Delua Hotel    Casual Dining   \n1556      Tahu Gejrot & Rujak Buah       Food Court   \n...                            ...              ...   \n11116             Nasi Goreng Jaya      Quick Bites   \n11124                   BarBarRibs    Casual Dining   \n11128                    K-Kitchen       Food Court   \n11183       Nock Nock Cafe & Resto      Quick Bites   \n11215                  Hanna Bakes  Toko Kue & Roti   \n\n                           Cuisine Type Restaurant Area  \\\n968                       ['Indonesia']      Taman Mini   \n1201                        ['Seafood']   Kelapa Gading   \n1219                         ['Manado']     Pulo Gadung   \n1240             ['Indonesia', 'Barat']    Mangga Besar   \n1556   ['Makanan Jalanan', 'Indonesia']   Kelapa Gading   \n...                                 ...             ...   \n11116                       ['Chinese']     Pulo Gadung   \n11124                         ['Steak']   Kelapa Gading   \n11128                         ['Korea']         Senayan   \n11183                     ['Indonesia']   Kelapa Gading   \n11215        ['Kue & Roti', 'Desserts']   Kelapa Gading   \n\n                                      Restaurant Address Restaurant Rating  \\\n968    Taman Mini Indonesia Indah, Jl. Taman Prasasti...     Not Rated Yet   \n1201                                                 NaN     Not Rated Yet   \n1219                                                 NaN     Not Rated Yet   \n1240                                                 NaN     Not Rated Yet   \n1556                                                 NaN     Not Rated Yet   \n...                                                  ...               ...   \n11116                                                NaN     Not Rated Yet   \n11124                                                NaN               3.7   \n11128                                                NaN               3.8   \n11183                                                NaN               2.3   \n11215  Jl. Pegangsaan Indah Bar. No.7, RT.2/RW.16, Pe...     Not Rated Yet   \n\n            Review Counts                                        Price for 2  \\\n968    TIdak cukup Ulasan  Cafe, photography studio and salon nearby Tama...   \n1201   TIdak cukup Ulasan                                                NaN   \n1219   TIdak cukup Ulasan                                                NaN   \n1240   TIdak cukup Ulasan                                                NaN   \n1556   TIdak cukup Ulasan                                                NaN   \n...                   ...                                                ...   \n11116  TIdak cukup Ulasan                                                NaN   \n11124           41 Ulasan                                                NaN   \n11128          265 Ulasan                                                NaN   \n11183           13 Ulasan                                                NaN   \n11215    Not Reviewed Yet                              Need to rerun browser   \n\n                                         Additional Info       Latitude  \\\n968    ['Bawa Pulang Tersedia', 'Di dalam ruangan', '...  -6.3001420000   \n1201                                            ['', '']  -6.1701543248   \n1219                                            ['', '']  -6.1830380000   \n1240                                        ['', '', '']  -6.1488740000   \n1556                                        ['', '', '']  -6.1464234204   \n...                                                  ...            ...   \n11116                                           ['', '']  -6.1894180071   \n11124                               ['', '', '', '', '']  -6.1494060000   \n11128                                           ['', '']  -6.2269760327   \n11183                                       ['', '', '']  -6.1517729750   \n11215                                                 []  -6.1685020000   \n\n           Longitude                                            Website  \n968    106.890422000  https://www.zomato.com/id/jakarta/tenterem-caf...  \n1201   106.924605108  https://www.zomato.com/id/jakarta/indah-seafoo...  \n1219   106.891640000  https://www.zomato.com/id/jakarta/mama-do-1-pu...  \n1240   106.825881000  https://www.zomato.com/id/jakarta/déjà-vu-rest...  \n1556   106.891523748  https://www.zomato.com/id/jakarta/tahu-gejrot-...  \n...              ...                                                ...  \n11116  106.877879016  https://www.zomato.com/id/jakarta/nasi-goreng-...  \n11124  106.903117000  https://www.zomato.com/id/jakarta/barbarribs-k...  \n11128  106.796928606  https://www.zomato.com/id/jakarta/k-kitchen-se...  \n11183  106.891749724  https://www.zomato.com/id/jakarta/nock-nock-ca...  \n11215  106.915511000  https://www.zomato.com/id/jakarta/hanna-bakes-...  \n\n[201 rows x 12 columns]",
      "text/html": "<div>\n<style scoped>\n    .dataframe tbody tr th:only-of-type {\n        vertical-align: middle;\n    }\n\n    .dataframe tbody tr th {\n        vertical-align: top;\n    }\n\n    .dataframe thead th {\n        text-align: right;\n    }\n</style>\n<table border=\"1\" class=\"dataframe\">\n  <thead>\n    <tr style=\"text-align: right;\">\n      <th></th>\n      <th>Restaurant Name</th>\n      <th>Restaurant Type</th>\n      <th>Cuisine Type</th>\n      <th>Restaurant Area</th>\n      <th>Restaurant Address</th>\n      <th>Restaurant Rating</th>\n      <th>Review Counts</th>\n      <th>Price for 2</th>\n      <th>Additional Info</th>\n      <th>Latitude</th>\n      <th>Longitude</th>\n      <th>Website</th>\n    </tr>\n  </thead>\n  <tbody>\n    <tr>\n      <th>968</th>\n      <td>Tenterem Cafe</td>\n      <td>Quick Bites</td>\n      <td>['Indonesia']</td>\n      <td>Taman Mini</td>\n      <td>Taman Mini Indonesia Indah, Jl. Taman Prasasti...</td>\n      <td>Not Rated Yet</td>\n      <td>TIdak cukup Ulasan</td>\n      <td>Cafe, photography studio and salon nearby Tama...</td>\n      <td>['Bawa Pulang Tersedia', 'Di dalam ruangan', '...</td>\n      <td>-6.3001420000</td>\n      <td>106.890422000</td>\n      <td>https://www.zomato.com/id/jakarta/tenterem-caf...</td>\n    </tr>\n    <tr>\n      <th>1201</th>\n      <td>Indah Seafood 94</td>\n      <td>Food Court</td>\n      <td>['Seafood']</td>\n      <td>Kelapa Gading</td>\n      <td>NaN</td>\n      <td>Not Rated Yet</td>\n      <td>TIdak cukup Ulasan</td>\n      <td>NaN</td>\n      <td>['', '']</td>\n      <td>-6.1701543248</td>\n      <td>106.924605108</td>\n      <td>https://www.zomato.com/id/jakarta/indah-seafoo...</td>\n    </tr>\n    <tr>\n      <th>1219</th>\n      <td>Mama-Do</td>\n      <td>Food Court</td>\n      <td>['Manado']</td>\n      <td>Pulo Gadung</td>\n      <td>NaN</td>\n      <td>Not Rated Yet</td>\n      <td>TIdak cukup Ulasan</td>\n      <td>NaN</td>\n      <td>['', '']</td>\n      <td>-6.1830380000</td>\n      <td>106.891640000</td>\n      <td>https://www.zomato.com/id/jakarta/mama-do-1-pu...</td>\n    </tr>\n    <tr>\n      <th>1240</th>\n      <td>DÉJÀ VU Resto - Delua Hotel</td>\n      <td>Casual Dining</td>\n      <td>['Indonesia', 'Barat']</td>\n      <td>Mangga Besar</td>\n      <td>NaN</td>\n      <td>Not Rated Yet</td>\n      <td>TIdak cukup Ulasan</td>\n      <td>NaN</td>\n      <td>['', '', '']</td>\n      <td>-6.1488740000</td>\n      <td>106.825881000</td>\n      <td>https://www.zomato.com/id/jakarta/déjà-vu-rest...</td>\n    </tr>\n    <tr>\n      <th>1556</th>\n      <td>Tahu Gejrot &amp; Rujak Buah</td>\n      <td>Food Court</td>\n      <td>['Makanan Jalanan', 'Indonesia']</td>\n      <td>Kelapa Gading</td>\n      <td>NaN</td>\n      <td>Not Rated Yet</td>\n      <td>TIdak cukup Ulasan</td>\n      <td>NaN</td>\n      <td>['', '', '']</td>\n      <td>-6.1464234204</td>\n      <td>106.891523748</td>\n      <td>https://www.zomato.com/id/jakarta/tahu-gejrot-...</td>\n    </tr>\n    <tr>\n      <th>...</th>\n      <td>...</td>\n      <td>...</td>\n      <td>...</td>\n      <td>...</td>\n      <td>...</td>\n      <td>...</td>\n      <td>...</td>\n      <td>...</td>\n      <td>...</td>\n      <td>...</td>\n      <td>...</td>\n      <td>...</td>\n    </tr>\n    <tr>\n      <th>11116</th>\n      <td>Nasi Goreng Jaya</td>\n      <td>Quick Bites</td>\n      <td>['Chinese']</td>\n      <td>Pulo Gadung</td>\n      <td>NaN</td>\n      <td>Not Rated Yet</td>\n      <td>TIdak cukup Ulasan</td>\n      <td>NaN</td>\n      <td>['', '']</td>\n      <td>-6.1894180071</td>\n      <td>106.877879016</td>\n      <td>https://www.zomato.com/id/jakarta/nasi-goreng-...</td>\n    </tr>\n    <tr>\n      <th>11124</th>\n      <td>BarBarRibs</td>\n      <td>Casual Dining</td>\n      <td>['Steak']</td>\n      <td>Kelapa Gading</td>\n      <td>NaN</td>\n      <td>3.7</td>\n      <td>41 Ulasan</td>\n      <td>NaN</td>\n      <td>['', '', '', '', '']</td>\n      <td>-6.1494060000</td>\n      <td>106.903117000</td>\n      <td>https://www.zomato.com/id/jakarta/barbarribs-k...</td>\n    </tr>\n    <tr>\n      <th>11128</th>\n      <td>K-Kitchen</td>\n      <td>Food Court</td>\n      <td>['Korea']</td>\n      <td>Senayan</td>\n      <td>NaN</td>\n      <td>3.8</td>\n      <td>265 Ulasan</td>\n      <td>NaN</td>\n      <td>['', '']</td>\n      <td>-6.2269760327</td>\n      <td>106.796928606</td>\n      <td>https://www.zomato.com/id/jakarta/k-kitchen-se...</td>\n    </tr>\n    <tr>\n      <th>11183</th>\n      <td>Nock Nock Cafe &amp; Resto</td>\n      <td>Quick Bites</td>\n      <td>['Indonesia']</td>\n      <td>Kelapa Gading</td>\n      <td>NaN</td>\n      <td>2.3</td>\n      <td>13 Ulasan</td>\n      <td>NaN</td>\n      <td>['', '', '']</td>\n      <td>-6.1517729750</td>\n      <td>106.891749724</td>\n      <td>https://www.zomato.com/id/jakarta/nock-nock-ca...</td>\n    </tr>\n    <tr>\n      <th>11215</th>\n      <td>Hanna Bakes</td>\n      <td>Toko Kue &amp; Roti</td>\n      <td>['Kue &amp; Roti', 'Desserts']</td>\n      <td>Kelapa Gading</td>\n      <td>Jl. Pegangsaan Indah Bar. No.7, RT.2/RW.16, Pe...</td>\n      <td>Not Rated Yet</td>\n      <td>Not Reviewed Yet</td>\n      <td>Need to rerun browser</td>\n      <td>[]</td>\n      <td>-6.1685020000</td>\n      <td>106.915511000</td>\n      <td>https://www.zomato.com/id/jakarta/hanna-bakes-...</td>\n    </tr>\n  </tbody>\n</table>\n<p>201 rows × 12 columns</p>\n</div>"
     },
     "metadata": {},
     "execution_count": 17
    }
   ],
   "source": [
    "# Observe\n",
    "\n",
    "rdf_fullnd[condition_1 | condition_2]"
   ]
  },
  {
   "cell_type": "code",
   "execution_count": 314,
   "metadata": {},
   "outputs": [
    {
     "output_type": "execute_result",
     "data": {
      "text/plain": "                     Restaurant Name  Restaurant Type  \\\n22     Siomay Batagor Satya Tenggiri        Kaki Lima   \n305                Sop & Bakmi Paton       Food Court   \n452                        Mee_Oowfè      Quick Bites   \n453          Turn On Coffee & Eatery      Quick Bites   \n454       One More Shot Coffee House     Toko Minuman   \n...                              ...              ...   \n11200                    Tiga Wonton    Casual Dining   \n11201                    Tiga Wonton      Quick Bites   \n11202                    Tiga Wonton      Quick Bites   \n11204                      Pagi Sore    Casual Dining   \n11215                    Hanna Bakes  Toko Kue & Roti   \n\n                         Cuisine Type     Restaurant Area  \\\n22                      ['Indonesia']              Sunter   \n305                         ['Bakmi']         Bogor Barat   \n452             ['Indonesia', 'Kopi']         Bogor Utara   \n453    ['Indonesia', 'Barat', 'Kopi']         Kebon Jeruk   \n454                          ['Kopi']  Pantai Indah Kapuk   \n...                               ...                 ...   \n11200                     ['Chinese']            Sudirman   \n11201                     ['Chinese']       Gatot Subroto   \n11202                     ['Chinese']       Serpong Utara   \n11204                      ['Padang']              Kemang   \n11215      ['Kue & Roti', 'Desserts']       Kelapa Gading   \n\n                                      Restaurant Address Restaurant Rating  \\\n22            Jl. Agung Utara 24 No. 23, Sunter, Jakarta     Not Rated Yet   \n305    Food Court Pulen Kitchens, Jl. Raya Semplak No...     Not Rated Yet   \n452    Ruko 2C, Jl. Achmad Sobana No. 28, Bogor Utara...     Not Rated Yet   \n453    Harvia Suites Building, Jl. Raya Perjuangan No...     Not Rated Yet   \n454    Fresh Market, Jl. Pantai Indah Kapuk Boulevard...     Not Rated Yet   \n...                                                  ...               ...   \n11200  fX Sudirman, Lantai F2, Jl. Jenderal Sudirman,...     Not Rated Yet   \n11201  Wisma Mulia City Plaza, Lantai Lower Ground, J...     Not Rated Yet   \n11202  Living World, Lantai Ground, Jl. Alam Sutera B...     Not Rated Yet   \n11204                   Jl. Kemang Raya, Kemang, Jakarta     Not Rated Yet   \n11215  Jl. Pegangsaan Indah Bar. No.7, RT.2/RW.16, Pe...     Not Rated Yet   \n\n            Review Counts                          Price for 2  \\\n22     TIdak cukup Ulasan   Rp50.000 untuk 2 orang (perkiraan)   \n305    TIdak cukup Ulasan   Rp50.000 untuk 2 orang (perkiraan)   \n452    TIdak cukup Ulasan                  No Price Data Found   \n453    TIdak cukup Ulasan                  No Price Data Found   \n454      Not Reviewed Yet                  No Price Data Found   \n...                   ...                                  ...   \n11200    Not Reviewed Yet  Rp120.000 untuk 2 orang (perkiraan)   \n11201    Not Reviewed Yet  Rp120.000 untuk 2 orang (perkiraan)   \n11202    Not Reviewed Yet  Rp120.000 untuk 2 orang (perkiraan)   \n11204    Not Reviewed Yet  Rp150.000 untuk 2 orang (perkiraan)   \n11215    Not Reviewed Yet                Need to rerun browser   \n\n      Additional Info       Latitude      Longitude  \\\n22                 []  -6.1387440000  106.861207000   \n305                []  -6.5477290000  106.760553000   \n452                []  -6.5820490000  106.814839000   \n453                []  -6.1972550000  106.764359000   \n454                []  -6.1028360000  106.741529000   \n...               ...            ...            ...   \n11200              []  -6.2246310000  106.803995000   \n11201              []  -6.2360723229  106.823362782   \n11202              []  -6.2418638889  106.657019444   \n11204              []  -6.2611180000  106.815419000   \n11215              []  -6.1685020000  106.915511000   \n\n                                                 Website  \n22     https://www.zomato.com/id/jakarta/siomay-batag...  \n305    https://www.zomato.com/id/jakarta/sop-bakmi-pa...  \n452    https://www.zomato.com/id/jakarta/mee-oowfè-2-...  \n453    https://www.zomato.com/id/jakarta/turn-on-coff...  \n454    https://www.zomato.com/id/jakarta/one-more-sho...  \n...                                                  ...  \n11200  https://www.zomato.com/id/jakarta/tiga-wonton-...  \n11201  https://www.zomato.com/id/jakarta/tiga-wonton-...  \n11202  https://www.zomato.com/id/jakarta/tiga-wonton-...  \n11204  https://www.zomato.com/id/jakarta/pagi-sore-ke...  \n11215  https://www.zomato.com/id/jakarta/hanna-bakes-...  \n\n[344 rows x 12 columns]",
      "text/html": "<div>\n<style scoped>\n    .dataframe tbody tr th:only-of-type {\n        vertical-align: middle;\n    }\n\n    .dataframe tbody tr th {\n        vertical-align: top;\n    }\n\n    .dataframe thead th {\n        text-align: right;\n    }\n</style>\n<table border=\"1\" class=\"dataframe\">\n  <thead>\n    <tr style=\"text-align: right;\">\n      <th></th>\n      <th>Restaurant Name</th>\n      <th>Restaurant Type</th>\n      <th>Cuisine Type</th>\n      <th>Restaurant Area</th>\n      <th>Restaurant Address</th>\n      <th>Restaurant Rating</th>\n      <th>Review Counts</th>\n      <th>Price for 2</th>\n      <th>Additional Info</th>\n      <th>Latitude</th>\n      <th>Longitude</th>\n      <th>Website</th>\n    </tr>\n  </thead>\n  <tbody>\n    <tr>\n      <th>22</th>\n      <td>Siomay Batagor Satya Tenggiri</td>\n      <td>Kaki Lima</td>\n      <td>['Indonesia']</td>\n      <td>Sunter</td>\n      <td>Jl. Agung Utara 24 No. 23, Sunter, Jakarta</td>\n      <td>Not Rated Yet</td>\n      <td>TIdak cukup Ulasan</td>\n      <td>Rp50.000 untuk 2 orang (perkiraan)</td>\n      <td>[]</td>\n      <td>-6.1387440000</td>\n      <td>106.861207000</td>\n      <td>https://www.zomato.com/id/jakarta/siomay-batag...</td>\n    </tr>\n    <tr>\n      <th>305</th>\n      <td>Sop &amp; Bakmi Paton</td>\n      <td>Food Court</td>\n      <td>['Bakmi']</td>\n      <td>Bogor Barat</td>\n      <td>Food Court Pulen Kitchens, Jl. Raya Semplak No...</td>\n      <td>Not Rated Yet</td>\n      <td>TIdak cukup Ulasan</td>\n      <td>Rp50.000 untuk 2 orang (perkiraan)</td>\n      <td>[]</td>\n      <td>-6.5477290000</td>\n      <td>106.760553000</td>\n      <td>https://www.zomato.com/id/jakarta/sop-bakmi-pa...</td>\n    </tr>\n    <tr>\n      <th>452</th>\n      <td>Mee_Oowfè</td>\n      <td>Quick Bites</td>\n      <td>['Indonesia', 'Kopi']</td>\n      <td>Bogor Utara</td>\n      <td>Ruko 2C, Jl. Achmad Sobana No. 28, Bogor Utara...</td>\n      <td>Not Rated Yet</td>\n      <td>TIdak cukup Ulasan</td>\n      <td>No Price Data Found</td>\n      <td>[]</td>\n      <td>-6.5820490000</td>\n      <td>106.814839000</td>\n      <td>https://www.zomato.com/id/jakarta/mee-oowfè-2-...</td>\n    </tr>\n    <tr>\n      <th>453</th>\n      <td>Turn On Coffee &amp; Eatery</td>\n      <td>Quick Bites</td>\n      <td>['Indonesia', 'Barat', 'Kopi']</td>\n      <td>Kebon Jeruk</td>\n      <td>Harvia Suites Building, Jl. Raya Perjuangan No...</td>\n      <td>Not Rated Yet</td>\n      <td>TIdak cukup Ulasan</td>\n      <td>No Price Data Found</td>\n      <td>[]</td>\n      <td>-6.1972550000</td>\n      <td>106.764359000</td>\n      <td>https://www.zomato.com/id/jakarta/turn-on-coff...</td>\n    </tr>\n    <tr>\n      <th>454</th>\n      <td>One More Shot Coffee House</td>\n      <td>Toko Minuman</td>\n      <td>['Kopi']</td>\n      <td>Pantai Indah Kapuk</td>\n      <td>Fresh Market, Jl. Pantai Indah Kapuk Boulevard...</td>\n      <td>Not Rated Yet</td>\n      <td>Not Reviewed Yet</td>\n      <td>No Price Data Found</td>\n      <td>[]</td>\n      <td>-6.1028360000</td>\n      <td>106.741529000</td>\n      <td>https://www.zomato.com/id/jakarta/one-more-sho...</td>\n    </tr>\n    <tr>\n      <th>...</th>\n      <td>...</td>\n      <td>...</td>\n      <td>...</td>\n      <td>...</td>\n      <td>...</td>\n      <td>...</td>\n      <td>...</td>\n      <td>...</td>\n      <td>...</td>\n      <td>...</td>\n      <td>...</td>\n      <td>...</td>\n    </tr>\n    <tr>\n      <th>11200</th>\n      <td>Tiga Wonton</td>\n      <td>Casual Dining</td>\n      <td>['Chinese']</td>\n      <td>Sudirman</td>\n      <td>fX Sudirman, Lantai F2, Jl. Jenderal Sudirman,...</td>\n      <td>Not Rated Yet</td>\n      <td>Not Reviewed Yet</td>\n      <td>Rp120.000 untuk 2 orang (perkiraan)</td>\n      <td>[]</td>\n      <td>-6.2246310000</td>\n      <td>106.803995000</td>\n      <td>https://www.zomato.com/id/jakarta/tiga-wonton-...</td>\n    </tr>\n    <tr>\n      <th>11201</th>\n      <td>Tiga Wonton</td>\n      <td>Quick Bites</td>\n      <td>['Chinese']</td>\n      <td>Gatot Subroto</td>\n      <td>Wisma Mulia City Plaza, Lantai Lower Ground, J...</td>\n      <td>Not Rated Yet</td>\n      <td>Not Reviewed Yet</td>\n      <td>Rp120.000 untuk 2 orang (perkiraan)</td>\n      <td>[]</td>\n      <td>-6.2360723229</td>\n      <td>106.823362782</td>\n      <td>https://www.zomato.com/id/jakarta/tiga-wonton-...</td>\n    </tr>\n    <tr>\n      <th>11202</th>\n      <td>Tiga Wonton</td>\n      <td>Quick Bites</td>\n      <td>['Chinese']</td>\n      <td>Serpong Utara</td>\n      <td>Living World, Lantai Ground, Jl. Alam Sutera B...</td>\n      <td>Not Rated Yet</td>\n      <td>Not Reviewed Yet</td>\n      <td>Rp120.000 untuk 2 orang (perkiraan)</td>\n      <td>[]</td>\n      <td>-6.2418638889</td>\n      <td>106.657019444</td>\n      <td>https://www.zomato.com/id/jakarta/tiga-wonton-...</td>\n    </tr>\n    <tr>\n      <th>11204</th>\n      <td>Pagi Sore</td>\n      <td>Casual Dining</td>\n      <td>['Padang']</td>\n      <td>Kemang</td>\n      <td>Jl. Kemang Raya, Kemang, Jakarta</td>\n      <td>Not Rated Yet</td>\n      <td>Not Reviewed Yet</td>\n      <td>Rp150.000 untuk 2 orang (perkiraan)</td>\n      <td>[]</td>\n      <td>-6.2611180000</td>\n      <td>106.815419000</td>\n      <td>https://www.zomato.com/id/jakarta/pagi-sore-ke...</td>\n    </tr>\n    <tr>\n      <th>11215</th>\n      <td>Hanna Bakes</td>\n      <td>Toko Kue &amp; Roti</td>\n      <td>['Kue &amp; Roti', 'Desserts']</td>\n      <td>Kelapa Gading</td>\n      <td>Jl. Pegangsaan Indah Bar. No.7, RT.2/RW.16, Pe...</td>\n      <td>Not Rated Yet</td>\n      <td>Not Reviewed Yet</td>\n      <td>Need to rerun browser</td>\n      <td>[]</td>\n      <td>-6.1685020000</td>\n      <td>106.915511000</td>\n      <td>https://www.zomato.com/id/jakarta/hanna-bakes-...</td>\n    </tr>\n  </tbody>\n</table>\n<p>344 rows × 12 columns</p>\n</div>"
     },
     "metadata": {},
     "execution_count": 314
    }
   ],
   "source": [
    "# Observe\n",
    "\n",
    "rdf_fullnd[condition_2 | condition_3]"
   ]
  },
  {
   "cell_type": "code",
   "execution_count": 323,
   "metadata": {},
   "outputs": [],
   "source": [
    "# Store - Current DataFrame to  CSV\n",
    "\n",
    "rdf_fullnd.to_csv('Zomato Restaurants DataFrame - No Duplicate.csv', index=False)\n",
    "rdf_fullnd.drop(['Website'], axis=1).to_csv('Zomato Restaurants DataFrame - No Website & Duplicate.csv', index=False)"
   ]
  },
  {
   "cell_type": "code",
   "execution_count": 78,
   "metadata": {},
   "outputs": [],
   "source": [
    "# Store - Current DataFrame that fulfill Condition 1 & 2 (to do re-scrape later) to  CSV\n",
    "\n",
    "rdf_fullnd[condition_1 | condition_2].drop(['Website'], axis=1).to_csv(\"Zomato Restaurants DataFrame - Remainder Condition 1 & 2.csv\", index=False)\n",
    "rdf_fullnd[condition_1 | condition_2].to_csv(\"Zomato Restaurants DataFrame - Remainder Condition 1 & 2 w Website.csv\", index=False)"
   ]
  },
  {
   "cell_type": "markdown",
   "metadata": {},
   "source": [
    "# STEP 3\n",
    "## Scrape Data for Restaurants that have Delivery Service"
   ]
  },
  {
   "cell_type": "code",
   "execution_count": 49,
   "metadata": {
    "tags": []
   },
   "outputs": [
    {
     "output_type": "stream",
     "name": "stdout",
     "text": "Accesing Search Result Page  1  is succesful\n\nAccesing Search Result Page  2  is succesful\n\nAccesing Search Result Page  3  is succesful\n\nAccesing Search Result Page  4  is succesful\n\nAccesing Search Result Page  5  is succesful\n\nAccesing Search Result Page  6  is succesful\n\nAccesing Search Result Page  7  is succesful\n\nAccesing Search Result Page  8  is succesful\n\nAccesing Search Result Page  9  is succesful\n\nAccesing Search Result Page  10  is succesful\n\nAccesing Search Result Page  11  is succesful\n\nAccesing Search Result Page  12  is succesful\n\nAccesing Search Result Page  13  is succesful\n\nAccesing Search Result Page  14  is succesful\n\nAccesing Search Result Page  15  is succesful\n\nAccesing Search Result Page  16  is succesful\n\nAccesing Search Result Page  17  is succesful\n\nAccesing Search Result Page  18  is succesful\n\nAccesing Search Result Page  19  is succesful\n\nAccesing Search Result Page  20  is succesful\n\nAccesing Search Result Page  21  is succesful\n\nAccesing Search Result Page  22  is succesful\n\nAccesing Search Result Page  23  is succesful\n\nAccesing Search Result Page  24  is succesful\n\nAccesing Search Result Page  25  is succesful\n\nAccesing Search Result Page  26  is succesful\n\nAccesing Search Result Page  27  is succesful\n\nAccesing Search Result Page  28  is succesful\n\nAccesing Search Result Page  29  is succesful\n\nAccesing Search Result Page  30  is succesful\n\nAccesing Search Result Page  31  is succesful\n\nAccesing Search Result Page  32  is succesful\n\nAccesing Search Result Page  33  is succesful\n\nAccesing Search Result Page  34  is succesful\n\nAccesing Search Result Page  35  is succesful\n\nAccesing Search Result Page  36  is succesful\n\nAccesing Search Result Page  37  is succesful\n\nAccesing Search Result Page  38  is succesful\n\nAccesing Search Result Page  39  is succesful\n\nAccesing Search Result Page  40  is succesful\n\nAccesing Search Result Page  41  is succesful\n\nAccesing Search Result Page  42  is succesful\n\nAccesing Search Result Page  43  is succesful\n\nAccesing Search Result Page  44  is succesful\n\nAccesing Search Result Page  45  is succesful\n\nAccesing Search Result Page  46  is succesful\n\nAccesing Search Result Page  47  is succesful\n\nAccesing Search Result Page  48  is succesful\n\nAccesing Search Result Page  49  is succesful\n\nAccesing Search Result Page  50  is succesful\n\nAccesing Search Result Page  51  is succesful\n\nAccesing Search Result Page  52  is succesful\n\nAccesing Search Result Page  53  is succesful\n\nAccesing Search Result Page  54  is succesful\n\nAccesing Search Result Page  55  is succesful\n\nAccesing Search Result Page  56  is succesful\n\nAccesing Search Result Page  57  is succesful\n\nAccesing Search Result Page  58  is succesful\n\nAccesing Search Result Page  59  is succesful\n\nAccesing Search Result Page  60  is succesful\n\nAccesing Search Result Page  61  is succesful\n\nAccesing Search Result Page  62  is succesful\n\nAccesing Search Result Page  63  is succesful\n\nAccesing Search Result Page  64  is succesful\n\nAccesing Search Result Page  65  is succesful\n\nAccesing Search Result Page  66  is succesful\n\nAccesing Search Result Page  67  is succesful\n\nAccesing Search Result Page  68  is succesful\n\nAccesing Search Result Page  69  is succesful\n\nAccesing Search Result Page  70  is succesful\n\nAccesing Search Result Page  71  is succesful\n\nAccesing Search Result Page  72  is succesful\n\nAccesing Search Result Page  73  is succesful\n\nAccesing Search Result Page  74  is succesful\n\nAccesing Search Result Page  75  is succesful\n\nAccesing Search Result Page  76  is succesful\n\nAccesing Search Result Page  77  is succesful\n\nAccesing Search Result Page  78  is succesful\n\nAccesing Search Result Page  79  is succesful\n\nAccesing Search Result Page  80  is succesful\n\nAccesing Search Result Page  81  is succesful\n\nAccesing Search Result Page  82  is succesful\n\nAccesing Search Result Page  83  is succesful\n\nAccesing Search Result Page  84  is succesful\n\nAccesing Search Result Page  85  is succesful\n\nAccesing Search Result Page  86  is succesful\n\nAccesing Search Result Page  87  is succesful\n\nAccesing Search Result Page  88  is succesful\n\nAccesing Search Result Page  89  is succesful\n\nAccesing Search Result Page  90  is succesful\n\nAccesing Search Result Page  91  is succesful\n\nAccesing Search Result Page  92  is succesful\n\nAccesing Search Result Page  93  is succesful\n\nAccesing Search Result Page  94  is succesful\n\nAccesing Search Result Page  95  is succesful\n\nAccesing Search Result Page  96  is succesful\n\nAccesing Search Result Page  97  is succesful\n\nAccesing Search Result Page  98  is succesful\n\nAccesing Search Result Page  99  is succesful\n\nAccesing Search Result Page  100  is succesful\n\nAccesing Search Result Page  101  is succesful\n\nAccesing Search Result Page  102  is succesful\n\nAccesing Search Result Page  103  is succesful\n\nAccesing Search Result Page  104  is succesful\n\nAccesing Search Result Page  105  is succesful\n\nAccesing Search Result Page  106  is succesful\n\nAccesing Search Result Page  107  is succesful\n\nAccesing Search Result Page  108  is succesful\n\nAccesing Search Result Page  109  is succesful\n\nAccesing Search Result Page  110  is succesful\n\nAccesing Search Result Page  111  is succesful\n\nAccesing Search Result Page  112  is succesful\n\nAccesing Search Result Page  113  is succesful\n\nAccesing Search Result Page  114  is succesful\n\nAccesing Search Result Page  115  is succesful\n\nAccesing Search Result Page  116  is succesful\n\nAccesing Search Result Page  117  is succesful\n\nAccesing Search Result Page  118  is succesful\n\nAccesing Search Result Page  119  is succesful\n\nAccesing Search Result Page  120  is succesful\n\nAccesing Search Result Page  121  is succesful\n\nAccesing Search Result Page  122  is succesful\n\nAccesing Search Result Page  123  is succesful\n\nAccesing Search Result Page  124  is succesful\n\nAccesing Search Result Page  125  is succesful\n\nAccesing Search Result Page  126  is succesful\n\nAccesing Search Result Page  127  is succesful\n\nAccesing Search Result Page  128  is succesful\n\nAccesing Search Result Page  129  is succesful\n\nAccesing Search Result Page  130  is succesful\n\nAccesing Search Result Page  131  is succesful\n\nAccesing Search Result Page  132  is succesful\n\nAccesing Search Result Page  133  is succesful\n\nAccesing Search Result Page  134  is succesful\n\nAccesing Search Result Page  135  is succesful\n\nAccesing Search Result Page  136  is succesful\n\nAccesing Search Result Page  137  is succesful\n\nAccesing Search Result Page  138  is succesful\n\nAccesing Search Result Page  139  is succesful\n\nAccesing Search Result Page  140  is succesful\n\nAccesing Search Result Page  141  is succesful\n\nAccesing Search Result Page  142  is succesful\n\nAccesing Search Result Page  143  is succesful\n\nAccesing Search Result Page  144  is succesful\n\nAccesing Search Result Page  145  is succesful\n\nAccesing Search Result Page  146  is succesful\n\nAccesing Search Result Page  147  is succesful\n\nAccesing Search Result Page  148  is succesful\n\nAccesing Search Result Page  149  is succesful\n\nAccesing Search Result Page  150  is succesful\n\nAccesing Search Result Page  151  is succesful\n\nAccesing Search Result Page  152  is succesful\n\nAccesing Search Result Page  153  is succesful\n\nAccesing Search Result Page  154  is succesful\n\nAccesing Search Result Page  155  is succesful\n\nAccesing Search Result Page  156  is succesful\n\nAccesing Search Result Page  157  is succesful\n\nAccesing Search Result Page  158  is succesful\n\nAccesing Search Result Page  159  is succesful\n\nAccesing Search Result Page  160  is succesful\n\nAccesing Search Result Page  161  is succesful\n\nAccesing Search Result Page  162  is succesful\n\nAccesing Search Result Page  163  is succesful\n\nAccesing Search Result Page  164  is succesful\n\nAccesing Search Result Page  165  is succesful\n\nAccesing Search Result Page  166  is succesful\n\nAccesing Search Result Page  167  is succesful\n\nAccesing Search Result Page  168  is succesful\n\nAccesing Search Result Page  169  is succesful\n\nAccesing Search Result Page  170  is succesful\n\nAccesing Search Result Page  171  is succesful\n\nAccesing Search Result Page  172  is succesful\n\nAccesing Search Result Page  173  is succesful\n\nAccesing Search Result Page  174  is succesful\n\nAccesing Search Result Page  175  is succesful\n\nAccesing Search Result Page  176  is succesful\n\nAccesing Search Result Page  177  is succesful\n\nAccesing Search Result Page  178  is succesful\n\nAccesing Search Result Page  179  is succesful\n\nAccesing Search Result Page  180  is succesful\n\nAccesing Search Result Page  181  is succesful\n\nAccesing Search Result Page  182  is succesful\n\nAccesing Search Result Page  183  is succesful\n\nAccesing Search Result Page  184  is succesful\n\nAccesing Search Result Page  185  is succesful\n\nAccesing Search Result Page  186  is succesful\n\nAccesing Search Result Page  187  is succesful\n\nAccesing Search Result Page  188  is succesful\n\nAccesing Search Result Page  189  is succesful\n\nAccesing Search Result Page  190  is succesful\n\nAccesing Search Result Page  191  is succesful\n\nAccesing Search Result Page  192  is succesful\n\nAccesing Search Result Page  193  is succesful\n\nAccesing Search Result Page  194  is succesful\n\nAccesing Search Result Page  195  is succesful\n\nAccesing Search Result Page  196  is succesful\n\nAccesing Search Result Page  197  is succesful\n\nAccesing Search Result Page  198  is succesful\n\nAccesing Search Result Page  199  is succesful\n\nAccesing Search Result Page  200  is succesful\n\nAccesing Search Result Page  201  is succesful\n\nAccesing Search Result Page  202  is succesful\n\nAccesing Search Result Page  203  is succesful\n\nAccesing Search Result Page  204  is succesful\n\nAccesing Search Result Page  205  is succesful\n\nAccesing Search Result Page  206  is succesful\n\nAccesing Search Result Page  207  is succesful\n\nAccesing Search Result Page  208  is succesful\n\nAccesing Search Result Page  209  is succesful\n\nAccesing Search Result Page  210  is succesful\n\nAccesing Search Result Page  211  is succesful\n\nAccesing Search Result Page  212  is succesful\n\nAccesing Search Result Page  213  is succesful\n\nAccesing Search Result Page  214  is succesful\n\nAccesing Search Result Page  215  is succesful\n\nAccesing Search Result Page  216  is succesful\n\nAccesing Search Result Page  217  is succesful\n\nAccesing Search Result Page  218  is succesful\n\nAccesing Search Result Page  219  is succesful\n\nAccesing Search Result Page  220  is succesful\n\nAccesing Search Result Page  221  is succesful\n\nAccesing Search Result Page  222  is succesful\n\nAccesing Search Result Page  223  is succesful\n\nAccesing Search Result Page  224  is succesful\n\n"
    }
   ],
   "source": [
    "# Initialize Web Driver, Text File (as storage), and List Object (as storage)\n",
    "driver = webdriver.Chrome(chromepath)\n",
    "out_file = open(\"jkt_restaurant_with_delivery_address.txt\", \"ab\")\n",
    "delivery_web = []\n",
    "\n",
    "# Iterate through pages 1-224\n",
    "for i in range(1, 225):\n",
    "    #Write the notification to reader/programmer\n",
    "    print('Accesing Search Result Page ', str(i), ' is succesful' '\\n')\n",
    "    #Accessing Search Pages through looping\n",
    "    driver.get('https://www.zomato.com/id/jakarta/restoran-pesan-antar?page={}'.format(i))\n",
    "    #Giving time to let browser load succesfully\n",
    "    time.sleep(1)\n",
    "    #Find all elements by class name and store in anchor variable\n",
    "    delivery_web_anchor = driver.find_elements_by_class_name(\"result-title\")\n",
    "    \n",
    "    #Iterate through anchor variable, then extract the website string, then add it to List Object & Text File\n",
    "    for web in delivery_web_anchor:\n",
    "        delivery_web.append(web.get_attribute('href'))\n",
    "        out_file.write(web.get_attribute('href').encode('utf-8') + b'\\n')\n",
    "\n",
    "out_file.close()\n",
    "driver.close()"
   ]
  },
  {
   "cell_type": "code",
   "execution_count": 54,
   "metadata": {
    "tags": []
   },
   "outputs": [
    {
     "output_type": "execute_result",
     "data": {
      "text/plain": "                                                Website\n0       https://www.zomato.com/id/jakarta/gioi-senopati\n1     https://www.zomato.com/id/jakarta/holywings-be...\n2     https://www.zomato.com/id/jakarta/the-garden-p...\n3     https://www.zomato.com/id/jakarta/glass-house-...\n4     https://www.zomato.com/id/jakarta/rucis-joint-...\n...                                                 ...\n3343  https://www.zomato.com/id/jakarta/malabar-moun...\n3344  https://www.zomato.com/id/jakarta/martabak-pec...\n3345  https://www.zomato.com/id/jakarta/bruno-cafe-i...\n3346  https://www.zomato.com/id/jakarta/hotaru-deli-...\n3347  https://www.zomato.com/id/jakarta/labella-kitc...\n\n[3348 rows x 1 columns]",
      "text/html": "<div>\n<style scoped>\n    .dataframe tbody tr th:only-of-type {\n        vertical-align: middle;\n    }\n\n    .dataframe tbody tr th {\n        vertical-align: top;\n    }\n\n    .dataframe thead th {\n        text-align: right;\n    }\n</style>\n<table border=\"1\" class=\"dataframe\">\n  <thead>\n    <tr style=\"text-align: right;\">\n      <th></th>\n      <th>Website</th>\n    </tr>\n  </thead>\n  <tbody>\n    <tr>\n      <th>0</th>\n      <td>https://www.zomato.com/id/jakarta/gioi-senopati</td>\n    </tr>\n    <tr>\n      <th>1</th>\n      <td>https://www.zomato.com/id/jakarta/holywings-be...</td>\n    </tr>\n    <tr>\n      <th>2</th>\n      <td>https://www.zomato.com/id/jakarta/the-garden-p...</td>\n    </tr>\n    <tr>\n      <th>3</th>\n      <td>https://www.zomato.com/id/jakarta/glass-house-...</td>\n    </tr>\n    <tr>\n      <th>4</th>\n      <td>https://www.zomato.com/id/jakarta/rucis-joint-...</td>\n    </tr>\n    <tr>\n      <th>...</th>\n      <td>...</td>\n    </tr>\n    <tr>\n      <th>3343</th>\n      <td>https://www.zomato.com/id/jakarta/malabar-moun...</td>\n    </tr>\n    <tr>\n      <th>3344</th>\n      <td>https://www.zomato.com/id/jakarta/martabak-pec...</td>\n    </tr>\n    <tr>\n      <th>3345</th>\n      <td>https://www.zomato.com/id/jakarta/bruno-cafe-i...</td>\n    </tr>\n    <tr>\n      <th>3346</th>\n      <td>https://www.zomato.com/id/jakarta/hotaru-deli-...</td>\n    </tr>\n    <tr>\n      <th>3347</th>\n      <td>https://www.zomato.com/id/jakarta/labella-kitc...</td>\n    </tr>\n  </tbody>\n</table>\n<p>3348 rows × 1 columns</p>\n</div>"
     },
     "metadata": {},
     "execution_count": 54
    }
   ],
   "source": [
    "#Make A New DataFrame - by converting previous list\n",
    "\n",
    "rdf_wdlv = pd.DataFrame(delivery_web, columns=['Website'])\n",
    "rdf_wdlv"
   ]
  },
  {
   "cell_type": "code",
   "execution_count": 57,
   "metadata": {},
   "outputs": [
    {
     "output_type": "execute_result",
     "data": {
      "text/plain": "                                                Website Delivery Service\n0       https://www.zomato.com/id/jakarta/gioi-senopati              Yes\n1     https://www.zomato.com/id/jakarta/holywings-be...              Yes\n2     https://www.zomato.com/id/jakarta/the-garden-p...              Yes\n3     https://www.zomato.com/id/jakarta/glass-house-...              Yes\n4     https://www.zomato.com/id/jakarta/rucis-joint-...              Yes\n...                                                 ...              ...\n3343  https://www.zomato.com/id/jakarta/malabar-moun...              Yes\n3344  https://www.zomato.com/id/jakarta/martabak-pec...              Yes\n3345  https://www.zomato.com/id/jakarta/bruno-cafe-i...              Yes\n3346  https://www.zomato.com/id/jakarta/hotaru-deli-...              Yes\n3347  https://www.zomato.com/id/jakarta/labella-kitc...              Yes\n\n[3348 rows x 2 columns]",
      "text/html": "<div>\n<style scoped>\n    .dataframe tbody tr th:only-of-type {\n        vertical-align: middle;\n    }\n\n    .dataframe tbody tr th {\n        vertical-align: top;\n    }\n\n    .dataframe thead th {\n        text-align: right;\n    }\n</style>\n<table border=\"1\" class=\"dataframe\">\n  <thead>\n    <tr style=\"text-align: right;\">\n      <th></th>\n      <th>Website</th>\n      <th>Delivery Service</th>\n    </tr>\n  </thead>\n  <tbody>\n    <tr>\n      <th>0</th>\n      <td>https://www.zomato.com/id/jakarta/gioi-senopati</td>\n      <td>Yes</td>\n    </tr>\n    <tr>\n      <th>1</th>\n      <td>https://www.zomato.com/id/jakarta/holywings-be...</td>\n      <td>Yes</td>\n    </tr>\n    <tr>\n      <th>2</th>\n      <td>https://www.zomato.com/id/jakarta/the-garden-p...</td>\n      <td>Yes</td>\n    </tr>\n    <tr>\n      <th>3</th>\n      <td>https://www.zomato.com/id/jakarta/glass-house-...</td>\n      <td>Yes</td>\n    </tr>\n    <tr>\n      <th>4</th>\n      <td>https://www.zomato.com/id/jakarta/rucis-joint-...</td>\n      <td>Yes</td>\n    </tr>\n    <tr>\n      <th>...</th>\n      <td>...</td>\n      <td>...</td>\n    </tr>\n    <tr>\n      <th>3343</th>\n      <td>https://www.zomato.com/id/jakarta/malabar-moun...</td>\n      <td>Yes</td>\n    </tr>\n    <tr>\n      <th>3344</th>\n      <td>https://www.zomato.com/id/jakarta/martabak-pec...</td>\n      <td>Yes</td>\n    </tr>\n    <tr>\n      <th>3345</th>\n      <td>https://www.zomato.com/id/jakarta/bruno-cafe-i...</td>\n      <td>Yes</td>\n    </tr>\n    <tr>\n      <th>3346</th>\n      <td>https://www.zomato.com/id/jakarta/hotaru-deli-...</td>\n      <td>Yes</td>\n    </tr>\n    <tr>\n      <th>3347</th>\n      <td>https://www.zomato.com/id/jakarta/labella-kitc...</td>\n      <td>Yes</td>\n    </tr>\n  </tbody>\n</table>\n<p>3348 rows × 2 columns</p>\n</div>"
     },
     "metadata": {},
     "execution_count": 57
    }
   ],
   "source": [
    "#Add - 'Delivery Service' Column to indicate these are the list of restaurants that have delivey service. This will be useful later on.\n",
    "\n",
    "rdf_wdlv['Delivery Service'] = 'Yes'\n",
    "rdf_wdlv"
   ]
  },
  {
   "cell_type": "code",
   "execution_count": 71,
   "metadata": {},
   "outputs": [],
   "source": [
    "#Data Cleaning - Remove the Duplicate Entries in DataFrame\n",
    "\n",
    "rdf_wdlv = rdf_wdlv[~rdf_wdlv.duplicated()]\n",
    "rdf_wdlv.to_csv(\"Restaurants - Delivery Service.csv\", index=False)"
   ]
  },
  {
   "cell_type": "markdown",
   "metadata": {},
   "source": [
    "# STEP 4\n",
    "## Re-Scrape Data for Remaining Restaurants that has incomplete Data\n",
    "## First, Restaurants that fulfill Condition 1 & 2"
   ]
  },
  {
   "cell_type": "code",
   "execution_count": 362,
   "metadata": {},
   "outputs": [
    {
     "output_type": "execute_result",
     "data": {
      "text/plain": "0    https://www.zomato.com/id/jakarta/fresh-tau-fu...\nName: Website, dtype: object"
     },
     "metadata": {},
     "execution_count": 362
    }
   ],
   "source": [
    "#Initialize Rescrape Variable, depends on what condition we want to rescrape\n",
    "rescrape = rdf_fullnd[condition_1 | condition_2]['Website']\n",
    "rescrape = rescrape.reset_index(drop=True)\n",
    "rescrape"
   ]
  },
  {
   "cell_type": "code",
   "execution_count": 365,
   "metadata": {
    "tags": []
   },
   "outputs": [
    {
     "output_type": "stream",
     "name": "stdout",
     "text": "Accessing Webpage OK\nScraping Restaurant Name - Fresh Tau Fu - OK\nScraping Restaurant Address - Fresh Tau Fu - fX Sudirman, Lantai F5, Eat & Eat, Jl. Jenderal Sudirman, Sudirman, Jakarta - OK\nScraping Additional Info - Fresh Tau Fu - OK\n['Bawa Pulang Tersedia', 'Di dalam ruangan']\nWriting Restaurant Website - https://www.zomato.com/id/jakarta/fresh-tau-fu-sudirman\n - OK\n-------------------------------------------------------------------------------------------------------------------------------------------\n"
    }
   ],
   "source": [
    "#Scrape Needed Data\n",
    "\n",
    "rest_name = []\n",
    "price_for_2 = []\n",
    "rest_address = []\n",
    "rest_url = []\n",
    "rest_info = []\n",
    "    \n",
    "driver = webdriver.Chrome(chromepath)\n",
    "\n",
    "for url in rescrape[:]:\n",
    "\n",
    "    #OPEN BROWSER & RESTAURANT WEB PAGE\n",
    "    driver.get(url)\n",
    "    time.sleep(12)\n",
    "    html_text = driver.page_source\n",
    "    soup = BeautifulSoup(html_text, 'html.parser')\n",
    "    print('Accessing Webpage OK')\n",
    "\n",
    "\n",
    "    name_anchor = soup.find(\"h1\") \n",
    "    name = name_anchor.text.strip()\n",
    "    rest_name.append(name)\n",
    "\n",
    "    if name == '502 Bad Gateway':\n",
    "        driver.get(url)\n",
    "        time.sleep(20)\n",
    "        html_text = driver.page_source\n",
    "        soup = BeautifulSoup(html_text, 'html.parser')\n",
    "        print('Accessing Webpage OK')\n",
    "        name_anchor = soup.find(\"h1\") \n",
    "        name = name_anchor.text.strip()\n",
    "        rest_name.append(name)\n",
    "    else:\n",
    "        pass\n",
    "    \n",
    "    print(f'Scraping Restaurant Name - {name} - OK')\n",
    "\n",
    "    # # Scrape Restaurant's Price for Two\n",
    "    # try:\n",
    "    #     price_for_2_anchor = driver.find_element_by_xpath(\"\"\"/html/body/div[1]/div[2]/main/div/section[4]/section/section/article[1]/section[2]/p[1]\"\"\")\n",
    "    #     price_for_2_text = price_for_2_anchor.text\n",
    "            \n",
    "    # except NoSuchElementException:\n",
    "    #     driver.get(url)\n",
    "    #     time.sleep(40)\n",
    "\n",
    "    #     try:\n",
    "    #         price_for_2_anchor = driver.find_element_by_xpath(\"\"\"/html/body/div[1]/div[2]/main/div/section[4]/section/section/article[1]/section[2]/p[1]\"\"\")\n",
    "    #         price_for_2_text = price_for_2_anchor.text\n",
    "\n",
    "    #     except NoSuchElementException:\n",
    "    #         price_for_2_text = \"No Price Data Found\"   \n",
    "            \n",
    "\n",
    "    # if (price_for_2_text[0:2] == 'Rp') or (price_for_2_text[0:2] == 'No'):\n",
    "    #     price_for_2.append(price_for_2_text)\n",
    "    # else:\n",
    "    #     try:\n",
    "    #         price_for_2_anchor = driver.find_element_by_xpath(\"\"\"/html/body/div[1]/div[2]/main/div/section[4]/section/section/article[1]/section[2]/p[2]\"\"\")\n",
    "    #         price_for_2_text = price_for_2_anchor.text\n",
    "    #         price_for_2.append(price_for_2_text)\n",
    "    #     except NoSuchElementException:\n",
    "    #         driver.get(url)\n",
    "    #         time.sleep(40)\n",
    "    #         price_for_2_anchor = driver.find_element_by_xpath(\"\"\"/html/body/div[1]/div[2]/main/div/section[4]/section/section/article[1]/section[2]/p[2]\"\"\")\n",
    "    #         price_for_2_text = price_for_2_anchor.text\n",
    "    #         price_for_2.append(price_for_2_text)\n",
    "\n",
    "    # print(f'Scraping Restaurant Price for Two - {name} - {price_for_2_text} - OK')\n",
    "\n",
    "\n",
    "    #Scrape Restaurant Address\n",
    "    rest_address_anchor = driver.find_element_by_xpath(\"\"\"/html/body/div[1]/div[2]/main/div/section[4]/section/article/section/p\"\"\")\n",
    "    rest_address.append(rest_address_anchor.text)\n",
    "    print(f'Scraping Restaurant Address - {name} - {rest_address_anchor.text} - OK')\n",
    "\n",
    "    #Scrape Restaurant's Additional Information\n",
    "    additional_infos = []\n",
    "    try:\n",
    "        for index in list(range(1,30)):\n",
    "            additional_infos_anchor = driver.find_element_by_xpath(f\"\"\"/html/body/div[1]/div[2]/main/div/section[4]/section/section/article[1]/section[2]/div[3]/div[{index}]/p\"\"\")\n",
    "            additional_info = additional_infos_anchor.text\n",
    "            additional_infos.append(additional_info)\n",
    "\n",
    "    except NoSuchElementException:\n",
    "        driver.get(url)\n",
    "        time.sleep(15)\n",
    "\n",
    "        try:\n",
    "            for index in list(range(1,30)):\n",
    "                additional_infos_anchor = driver.find_element_by_xpath(f\"\"\"/html/body/div[1]/div[2]/main/div/section[4]/section/section/article[1]/section[2]/div[3]/div[{index}]/p\"\"\")\n",
    "                additional_info = additional_infos_anchor.text\n",
    "                additional_infos.append(additional_info)\n",
    "        except NoSuchElementException:\n",
    "            additional_info = \"No Additional Info\"\n",
    "            additional_infos.append(additional_info)\n",
    "    \n",
    "    rest_info.append(additional_infos)\n",
    "    print(f'Scraping Additional Info - {name} - OK')\n",
    "    print(additional_infos)\n",
    "\n",
    "    #Write Restaurant Website\n",
    "    rest_url.append(url)\n",
    "    print(f'Writing Restaurant Website - {url} - OK')\n",
    "\n",
    "    print('-------------------------------------------------------------------------------------------------------------------------------------------')\n",
    "    \n",
    "driver.close()"
   ]
  },
  {
   "source": [
    "## In General, all the codes below are to re-scrapes all the data that is missing from previous DataFrame"
   ],
   "cell_type": "markdown",
   "metadata": {}
  },
  {
   "cell_type": "code",
   "execution_count": 366,
   "metadata": {},
   "outputs": [
    {
     "output_type": "execute_result",
     "data": {
      "text/plain": "  Restaurant Name                                 Restaurant Address  \\\n0    Fresh Tau Fu  fX Sudirman, Lantai F5, Eat & Eat, Jl. Jendera...   \n\n                            Additional Info  \\\n0  [Bawa Pulang Tersedia, Di dalam ruangan]   \n\n                                             Website  \n0  https://www.zomato.com/id/jakarta/fresh-tau-fu...  ",
      "text/html": "<div>\n<style scoped>\n    .dataframe tbody tr th:only-of-type {\n        vertical-align: middle;\n    }\n\n    .dataframe tbody tr th {\n        vertical-align: top;\n    }\n\n    .dataframe thead th {\n        text-align: right;\n    }\n</style>\n<table border=\"1\" class=\"dataframe\">\n  <thead>\n    <tr style=\"text-align: right;\">\n      <th></th>\n      <th>Restaurant Name</th>\n      <th>Restaurant Address</th>\n      <th>Additional Info</th>\n      <th>Website</th>\n    </tr>\n  </thead>\n  <tbody>\n    <tr>\n      <th>0</th>\n      <td>Fresh Tau Fu</td>\n      <td>fX Sudirman, Lantai F5, Eat &amp; Eat, Jl. Jendera...</td>\n      <td>[Bawa Pulang Tersedia, Di dalam ruangan]</td>\n      <td>https://www.zomato.com/id/jakarta/fresh-tau-fu...</td>\n    </tr>\n  </tbody>\n</table>\n</div>"
     },
     "metadata": {},
     "execution_count": 366
    }
   ],
   "source": [
    "# data_tuples = list(zip(rest_name[0:], rest_address[0:], price_for_2[0:], rest_url[0:]))\n",
    "# rdfscrape = pd.DataFrame(data_tuples, columns=['Restaurant Name', 'Restaurant Address', 'Price for 2', 'Website'])\n",
    "# rdfscrape\n",
    "\n",
    "data_tuples = list(zip(rest_name[0:], rest_address[0:], rest_info[0:], rest_url[0:]))\n",
    "rdfscrape = pd.DataFrame(data_tuples, columns=['Restaurant Name', 'Restaurant Address', 'Additional Info', 'Website'])\n",
    "rdfscrape"
   ]
  },
  {
   "cell_type": "code",
   "execution_count": 265,
   "metadata": {},
   "outputs": [
    {
     "output_type": "execute_result",
     "data": {
      "text/plain": "Empty DataFrame\nColumns: [Restaurant Name, Restaurant Address, Price for 2, Website]\nIndex: []",
      "text/html": "<div>\n<style scoped>\n    .dataframe tbody tr th:only-of-type {\n        vertical-align: middle;\n    }\n\n    .dataframe tbody tr th {\n        vertical-align: top;\n    }\n\n    .dataframe thead th {\n        text-align: right;\n    }\n</style>\n<table border=\"1\" class=\"dataframe\">\n  <thead>\n    <tr style=\"text-align: right;\">\n      <th></th>\n      <th>Restaurant Name</th>\n      <th>Restaurant Address</th>\n      <th>Price for 2</th>\n      <th>Website</th>\n    </tr>\n  </thead>\n  <tbody>\n  </tbody>\n</table>\n</div>"
     },
     "metadata": {},
     "execution_count": 265
    }
   ],
   "source": [
    "rdfscrape[rdfscrape['Restaurant Address'] == '']"
   ]
  },
  {
   "cell_type": "code",
   "execution_count": 266,
   "metadata": {},
   "outputs": [
    {
     "output_type": "execute_result",
     "data": {
      "text/plain": "               Restaurant Name  \\\n0  DÉJÀ VU Resto - Delua Hotel   \n\n                                  Restaurant Address  \\\n0  Delua Hotel, Jl. Mangga Besar Raya No. 82, Man...   \n\n                           Price for 2  \\\n0  Rp200.000 untuk 2 orang (perkiraan)   \n\n                                             Website  \n0  https://www.zomato.com/id/jakarta/déjà-vu-rest...  ",
      "text/html": "<div>\n<style scoped>\n    .dataframe tbody tr th:only-of-type {\n        vertical-align: middle;\n    }\n\n    .dataframe tbody tr th {\n        vertical-align: top;\n    }\n\n    .dataframe thead th {\n        text-align: right;\n    }\n</style>\n<table border=\"1\" class=\"dataframe\">\n  <thead>\n    <tr style=\"text-align: right;\">\n      <th></th>\n      <th>Restaurant Name</th>\n      <th>Restaurant Address</th>\n      <th>Price for 2</th>\n      <th>Website</th>\n    </tr>\n  </thead>\n  <tbody>\n    <tr>\n      <th>0</th>\n      <td>DÉJÀ VU Resto - Delua Hotel</td>\n      <td>Delua Hotel, Jl. Mangga Besar Raya No. 82, Man...</td>\n      <td>Rp200.000 untuk 2 orang (perkiraan)</td>\n      <td>https://www.zomato.com/id/jakarta/déjà-vu-rest...</td>\n    </tr>\n  </tbody>\n</table>\n</div>"
     },
     "metadata": {},
     "execution_count": 266
    }
   ],
   "source": [
    "rdfscrape[rdfscrape['Price for 2'] != '']"
   ]
  },
  {
   "cell_type": "code",
   "execution_count": 267,
   "metadata": {},
   "outputs": [
    {
     "output_type": "execute_result",
     "data": {
      "text/plain": "                 Restaurant Name  \\\n0                  Tenterem Cafe   \n1               Indah Seafood 94   \n2                        Mama-Do   \n3    DÉJÀ VU Resto - Delua Hotel   \n4       Tahu Gejrot & Rujak Buah   \n..                           ...   \n196             Nasi Goreng Jaya   \n197                   BarBarRibs   \n198                    K-Kitchen   \n199       Nock Nock Cafe & Resto   \n200                  Hanna Bakes   \n\n                                       Additional Info  \\\n0                                 [No Additional Info]   \n1                                 [No Additional Info]   \n2    [Bawa Pulang Tersedia, Di dalam ruangan, Area ...   \n3    [Bawa Pulang Tersedia, Hanya Bir, Tempat duduk...   \n4    [Bawa Pulang Tersedia, Tempat duduk di luar, A...   \n..                                                 ...   \n196  [Hanya Bir, Wifi Tersedia, Reservasi meja dire...   \n197  [Pesan Antar, Bawa Pulang Tersedia, Alkohol Te...   \n198  [, , , , , , , Sarapan, Pesan Antar, Bawa Pula...   \n199  [Bawa Pulang Tersedia, Alkohol Tersedia, Di da...   \n200  [, , , , Pesan Antar, Bawa Pulang Tersedia, Di...   \n\n                                               Website  \\\n0    https://www.zomato.com/id/jakarta/tenterem-caf...   \n1    https://www.zomato.com/id/jakarta/indah-seafoo...   \n2    https://www.zomato.com/id/jakarta/mama-do-1-pu...   \n3    https://www.zomato.com/id/jakarta/déjà-vu-rest...   \n4    https://www.zomato.com/id/jakarta/tahu-gejrot-...   \n..                                                 ...   \n196  https://www.zomato.com/id/jakarta/nasi-goreng-...   \n197  https://www.zomato.com/id/jakarta/barbarribs-k...   \n198  https://www.zomato.com/id/jakarta/k-kitchen-se...   \n199  https://www.zomato.com/id/jakarta/nock-nock-ca...   \n200  https://www.zomato.com/id/jakarta/hanna-bakes-...   \n\n                                  Restaurant Address_a  \\\n0    Taman Mini Indonesia Indah, Jl. Taman Prasasti...   \n1    Gading Festival, Jl. Pegangsaan, Blok S No. 17...   \n2    Taman Kuliner Kayuputih, Jl. Kayu Putih Tengah...   \n3                                                    0   \n4    Mall Artha Gading, Lantai 2, West Food Court,J...   \n..                                                 ...   \n196        Jl. H. Ten Raya No. 27, Pulogadung, Jakarta   \n197  Mahaka Square, Lantai Ground, Jl. Kelapa Nias ...   \n198  Senayan City, Lantai 5, Delicaé, Jl. Asia Afri...   \n199  Mall of Indonesia, Rukan Resort City Home, Blo...   \n200  Jl. Pegangsaan Indah Bar. No.7, RT.2/RW.16, Pe...   \n\n                                        Price for 2_a  \\\n0                  Rp70.000 untuk 2 orang (perkiraan)   \n1                 Rp150.000 untuk 2 orang (perkiraan)   \n2                  Rp70.000 untuk 2 orang (perkiraan)   \n3                                                   0   \n4                  Rp50.000 untuk 2 orang (perkiraan)   \n..                                                ...   \n196                Rp80.000 untuk 2 orang (perkiraan)   \n197  Rp250.000 untuk 2 orang (perkiraan)Tanpa alkohol   \n198               Rp150.000 untuk 2 orang (perkiraan)   \n199               Rp120.000 untuk 2 orang (perkiraan)   \n200                               No Price Data Found   \n\n                                  Restaurant Address_b  \\\n0                                                  NaN   \n1                                                  NaN   \n2                                                  NaN   \n3    Delua Hotel, Jl. Mangga Besar Raya No. 82, Man...   \n4                                                  NaN   \n..                                                 ...   \n196                                                NaN   \n197                                                NaN   \n198                                                NaN   \n199                                                NaN   \n200                                                NaN   \n\n                           Price for 2_b  \n0                                    NaN  \n1                                    NaN  \n2                                    NaN  \n3    Rp200.000 untuk 2 orang (perkiraan)  \n4                                    NaN  \n..                                   ...  \n196                                  NaN  \n197                                  NaN  \n198                                  NaN  \n199                                  NaN  \n200                                  NaN  \n\n[201 rows x 7 columns]",
      "text/html": "<div>\n<style scoped>\n    .dataframe tbody tr th:only-of-type {\n        vertical-align: middle;\n    }\n\n    .dataframe tbody tr th {\n        vertical-align: top;\n    }\n\n    .dataframe thead th {\n        text-align: right;\n    }\n</style>\n<table border=\"1\" class=\"dataframe\">\n  <thead>\n    <tr style=\"text-align: right;\">\n      <th></th>\n      <th>Restaurant Name</th>\n      <th>Additional Info</th>\n      <th>Website</th>\n      <th>Restaurant Address_a</th>\n      <th>Price for 2_a</th>\n      <th>Restaurant Address_b</th>\n      <th>Price for 2_b</th>\n    </tr>\n  </thead>\n  <tbody>\n    <tr>\n      <th>0</th>\n      <td>Tenterem Cafe</td>\n      <td>[No Additional Info]</td>\n      <td>https://www.zomato.com/id/jakarta/tenterem-caf...</td>\n      <td>Taman Mini Indonesia Indah, Jl. Taman Prasasti...</td>\n      <td>Rp70.000 untuk 2 orang (perkiraan)</td>\n      <td>NaN</td>\n      <td>NaN</td>\n    </tr>\n    <tr>\n      <th>1</th>\n      <td>Indah Seafood 94</td>\n      <td>[No Additional Info]</td>\n      <td>https://www.zomato.com/id/jakarta/indah-seafoo...</td>\n      <td>Gading Festival, Jl. Pegangsaan, Blok S No. 17...</td>\n      <td>Rp150.000 untuk 2 orang (perkiraan)</td>\n      <td>NaN</td>\n      <td>NaN</td>\n    </tr>\n    <tr>\n      <th>2</th>\n      <td>Mama-Do</td>\n      <td>[Bawa Pulang Tersedia, Di dalam ruangan, Area ...</td>\n      <td>https://www.zomato.com/id/jakarta/mama-do-1-pu...</td>\n      <td>Taman Kuliner Kayuputih, Jl. Kayu Putih Tengah...</td>\n      <td>Rp70.000 untuk 2 orang (perkiraan)</td>\n      <td>NaN</td>\n      <td>NaN</td>\n    </tr>\n    <tr>\n      <th>3</th>\n      <td>DÉJÀ VU Resto - Delua Hotel</td>\n      <td>[Bawa Pulang Tersedia, Hanya Bir, Tempat duduk...</td>\n      <td>https://www.zomato.com/id/jakarta/déjà-vu-rest...</td>\n      <td>0</td>\n      <td>0</td>\n      <td>Delua Hotel, Jl. Mangga Besar Raya No. 82, Man...</td>\n      <td>Rp200.000 untuk 2 orang (perkiraan)</td>\n    </tr>\n    <tr>\n      <th>4</th>\n      <td>Tahu Gejrot &amp; Rujak Buah</td>\n      <td>[Bawa Pulang Tersedia, Tempat duduk di luar, A...</td>\n      <td>https://www.zomato.com/id/jakarta/tahu-gejrot-...</td>\n      <td>Mall Artha Gading, Lantai 2, West Food Court,J...</td>\n      <td>Rp50.000 untuk 2 orang (perkiraan)</td>\n      <td>NaN</td>\n      <td>NaN</td>\n    </tr>\n    <tr>\n      <th>...</th>\n      <td>...</td>\n      <td>...</td>\n      <td>...</td>\n      <td>...</td>\n      <td>...</td>\n      <td>...</td>\n      <td>...</td>\n    </tr>\n    <tr>\n      <th>196</th>\n      <td>Nasi Goreng Jaya</td>\n      <td>[Hanya Bir, Wifi Tersedia, Reservasi meja dire...</td>\n      <td>https://www.zomato.com/id/jakarta/nasi-goreng-...</td>\n      <td>Jl. H. Ten Raya No. 27, Pulogadung, Jakarta</td>\n      <td>Rp80.000 untuk 2 orang (perkiraan)</td>\n      <td>NaN</td>\n      <td>NaN</td>\n    </tr>\n    <tr>\n      <th>197</th>\n      <td>BarBarRibs</td>\n      <td>[Pesan Antar, Bawa Pulang Tersedia, Alkohol Te...</td>\n      <td>https://www.zomato.com/id/jakarta/barbarribs-k...</td>\n      <td>Mahaka Square, Lantai Ground, Jl. Kelapa Nias ...</td>\n      <td>Rp250.000 untuk 2 orang (perkiraan)Tanpa alkohol</td>\n      <td>NaN</td>\n      <td>NaN</td>\n    </tr>\n    <tr>\n      <th>198</th>\n      <td>K-Kitchen</td>\n      <td>[, , , , , , , Sarapan, Pesan Antar, Bawa Pula...</td>\n      <td>https://www.zomato.com/id/jakarta/k-kitchen-se...</td>\n      <td>Senayan City, Lantai 5, Delicaé, Jl. Asia Afri...</td>\n      <td>Rp150.000 untuk 2 orang (perkiraan)</td>\n      <td>NaN</td>\n      <td>NaN</td>\n    </tr>\n    <tr>\n      <th>199</th>\n      <td>Nock Nock Cafe &amp; Resto</td>\n      <td>[Bawa Pulang Tersedia, Alkohol Tersedia, Di da...</td>\n      <td>https://www.zomato.com/id/jakarta/nock-nock-ca...</td>\n      <td>Mall of Indonesia, Rukan Resort City Home, Blo...</td>\n      <td>Rp120.000 untuk 2 orang (perkiraan)</td>\n      <td>NaN</td>\n      <td>NaN</td>\n    </tr>\n    <tr>\n      <th>200</th>\n      <td>Hanna Bakes</td>\n      <td>[, , , , Pesan Antar, Bawa Pulang Tersedia, Di...</td>\n      <td>https://www.zomato.com/id/jakarta/hanna-bakes-...</td>\n      <td>Jl. Pegangsaan Indah Bar. No.7, RT.2/RW.16, Pe...</td>\n      <td>No Price Data Found</td>\n      <td>NaN</td>\n      <td>NaN</td>\n    </tr>\n  </tbody>\n</table>\n<p>201 rows × 7 columns</p>\n</div>"
     },
     "metadata": {},
     "execution_count": 267
    }
   ],
   "source": [
    "rdfs_full2 = pd.merge(left=rdfs_full2, right=rdfscrape, how='left' ,left_on=['Restaurant Name','Website'], right_on=['Restaurant Name', 'Website'], suffixes=('_a','_b'))\n",
    "rdfs_full2"
   ]
  },
  {
   "cell_type": "code",
   "execution_count": 268,
   "metadata": {},
   "outputs": [],
   "source": [
    "rdfs_full2.replace((np.nan,''), 0, inplace=True)"
   ]
  },
  {
   "cell_type": "code",
   "execution_count": 231,
   "metadata": {},
   "outputs": [],
   "source": [
    "def res_address(row):\n",
    "    if row['Restaurant Address_a'] == 0:\n",
    "        return row['Restaurant Address_b']\n",
    "    else:\n",
    "        return row['Restaurant Address_a']\n",
    "\n",
    "def res_price(row):\n",
    "    if row['Price for 2_a'] == 0:\n",
    "        return row['Price for 2_b']\n",
    "    else:\n",
    "        return row['Price for 2_a']\n"
   ]
  },
  {
   "cell_type": "code",
   "execution_count": 269,
   "metadata": {},
   "outputs": [],
   "source": [
    "rdfs_full2['Restaurant Address'] = rdfs_full2.apply(lambda row: res_address(row), axis=1)\n",
    "rdfs_full2['Price for 2'] = rdfs_full2.apply(lambda row: res_price(row), axis=1)"
   ]
  },
  {
   "cell_type": "code",
   "execution_count": 270,
   "metadata": {},
   "outputs": [],
   "source": [
    "rdfs_full2.drop(['Restaurant Address_a', 'Restaurant Address_b', 'Price for 2_a', 'Price for 2_b'], axis=1,inplace=True)"
   ]
  },
  {
   "cell_type": "code",
   "execution_count": 271,
   "metadata": {},
   "outputs": [
    {
     "output_type": "execute_result",
     "data": {
      "text/plain": "                 Restaurant Name  \\\n0                  Tenterem Cafe   \n1               Indah Seafood 94   \n2                        Mama-Do   \n3    DÉJÀ VU Resto - Delua Hotel   \n4       Tahu Gejrot & Rujak Buah   \n..                           ...   \n196             Nasi Goreng Jaya   \n197                   BarBarRibs   \n198                    K-Kitchen   \n199       Nock Nock Cafe & Resto   \n200                  Hanna Bakes   \n\n                                       Additional Info  \\\n0                                 [No Additional Info]   \n1                                 [No Additional Info]   \n2    [Bawa Pulang Tersedia, Di dalam ruangan, Area ...   \n3    [Bawa Pulang Tersedia, Hanya Bir, Tempat duduk...   \n4    [Bawa Pulang Tersedia, Tempat duduk di luar, A...   \n..                                                 ...   \n196  [Hanya Bir, Wifi Tersedia, Reservasi meja dire...   \n197  [Pesan Antar, Bawa Pulang Tersedia, Alkohol Te...   \n198  [, , , , , , , Sarapan, Pesan Antar, Bawa Pula...   \n199  [Bawa Pulang Tersedia, Alkohol Tersedia, Di da...   \n200  [, , , , Pesan Antar, Bawa Pulang Tersedia, Di...   \n\n                                               Website  \\\n0    https://www.zomato.com/id/jakarta/tenterem-caf...   \n1    https://www.zomato.com/id/jakarta/indah-seafoo...   \n2    https://www.zomato.com/id/jakarta/mama-do-1-pu...   \n3    https://www.zomato.com/id/jakarta/déjà-vu-rest...   \n4    https://www.zomato.com/id/jakarta/tahu-gejrot-...   \n..                                                 ...   \n196  https://www.zomato.com/id/jakarta/nasi-goreng-...   \n197  https://www.zomato.com/id/jakarta/barbarribs-k...   \n198  https://www.zomato.com/id/jakarta/k-kitchen-se...   \n199  https://www.zomato.com/id/jakarta/nock-nock-ca...   \n200  https://www.zomato.com/id/jakarta/hanna-bakes-...   \n\n                                    Restaurant Address  \\\n0    Taman Mini Indonesia Indah, Jl. Taman Prasasti...   \n1    Gading Festival, Jl. Pegangsaan, Blok S No. 17...   \n2    Taman Kuliner Kayuputih, Jl. Kayu Putih Tengah...   \n3    Delua Hotel, Jl. Mangga Besar Raya No. 82, Man...   \n4    Mall Artha Gading, Lantai 2, West Food Court,J...   \n..                                                 ...   \n196        Jl. H. Ten Raya No. 27, Pulogadung, Jakarta   \n197  Mahaka Square, Lantai Ground, Jl. Kelapa Nias ...   \n198  Senayan City, Lantai 5, Delicaé, Jl. Asia Afri...   \n199  Mall of Indonesia, Rukan Resort City Home, Blo...   \n200  Jl. Pegangsaan Indah Bar. No.7, RT.2/RW.16, Pe...   \n\n                                          Price for 2  \n0                  Rp70.000 untuk 2 orang (perkiraan)  \n1                 Rp150.000 untuk 2 orang (perkiraan)  \n2                  Rp70.000 untuk 2 orang (perkiraan)  \n3                 Rp200.000 untuk 2 orang (perkiraan)  \n4                  Rp50.000 untuk 2 orang (perkiraan)  \n..                                                ...  \n196                Rp80.000 untuk 2 orang (perkiraan)  \n197  Rp250.000 untuk 2 orang (perkiraan)Tanpa alkohol  \n198               Rp150.000 untuk 2 orang (perkiraan)  \n199               Rp120.000 untuk 2 orang (perkiraan)  \n200                               No Price Data Found  \n\n[201 rows x 5 columns]",
      "text/html": "<div>\n<style scoped>\n    .dataframe tbody tr th:only-of-type {\n        vertical-align: middle;\n    }\n\n    .dataframe tbody tr th {\n        vertical-align: top;\n    }\n\n    .dataframe thead th {\n        text-align: right;\n    }\n</style>\n<table border=\"1\" class=\"dataframe\">\n  <thead>\n    <tr style=\"text-align: right;\">\n      <th></th>\n      <th>Restaurant Name</th>\n      <th>Additional Info</th>\n      <th>Website</th>\n      <th>Restaurant Address</th>\n      <th>Price for 2</th>\n    </tr>\n  </thead>\n  <tbody>\n    <tr>\n      <th>0</th>\n      <td>Tenterem Cafe</td>\n      <td>[No Additional Info]</td>\n      <td>https://www.zomato.com/id/jakarta/tenterem-caf...</td>\n      <td>Taman Mini Indonesia Indah, Jl. Taman Prasasti...</td>\n      <td>Rp70.000 untuk 2 orang (perkiraan)</td>\n    </tr>\n    <tr>\n      <th>1</th>\n      <td>Indah Seafood 94</td>\n      <td>[No Additional Info]</td>\n      <td>https://www.zomato.com/id/jakarta/indah-seafoo...</td>\n      <td>Gading Festival, Jl. Pegangsaan, Blok S No. 17...</td>\n      <td>Rp150.000 untuk 2 orang (perkiraan)</td>\n    </tr>\n    <tr>\n      <th>2</th>\n      <td>Mama-Do</td>\n      <td>[Bawa Pulang Tersedia, Di dalam ruangan, Area ...</td>\n      <td>https://www.zomato.com/id/jakarta/mama-do-1-pu...</td>\n      <td>Taman Kuliner Kayuputih, Jl. Kayu Putih Tengah...</td>\n      <td>Rp70.000 untuk 2 orang (perkiraan)</td>\n    </tr>\n    <tr>\n      <th>3</th>\n      <td>DÉJÀ VU Resto - Delua Hotel</td>\n      <td>[Bawa Pulang Tersedia, Hanya Bir, Tempat duduk...</td>\n      <td>https://www.zomato.com/id/jakarta/déjà-vu-rest...</td>\n      <td>Delua Hotel, Jl. Mangga Besar Raya No. 82, Man...</td>\n      <td>Rp200.000 untuk 2 orang (perkiraan)</td>\n    </tr>\n    <tr>\n      <th>4</th>\n      <td>Tahu Gejrot &amp; Rujak Buah</td>\n      <td>[Bawa Pulang Tersedia, Tempat duduk di luar, A...</td>\n      <td>https://www.zomato.com/id/jakarta/tahu-gejrot-...</td>\n      <td>Mall Artha Gading, Lantai 2, West Food Court,J...</td>\n      <td>Rp50.000 untuk 2 orang (perkiraan)</td>\n    </tr>\n    <tr>\n      <th>...</th>\n      <td>...</td>\n      <td>...</td>\n      <td>...</td>\n      <td>...</td>\n      <td>...</td>\n    </tr>\n    <tr>\n      <th>196</th>\n      <td>Nasi Goreng Jaya</td>\n      <td>[Hanya Bir, Wifi Tersedia, Reservasi meja dire...</td>\n      <td>https://www.zomato.com/id/jakarta/nasi-goreng-...</td>\n      <td>Jl. H. Ten Raya No. 27, Pulogadung, Jakarta</td>\n      <td>Rp80.000 untuk 2 orang (perkiraan)</td>\n    </tr>\n    <tr>\n      <th>197</th>\n      <td>BarBarRibs</td>\n      <td>[Pesan Antar, Bawa Pulang Tersedia, Alkohol Te...</td>\n      <td>https://www.zomato.com/id/jakarta/barbarribs-k...</td>\n      <td>Mahaka Square, Lantai Ground, Jl. Kelapa Nias ...</td>\n      <td>Rp250.000 untuk 2 orang (perkiraan)Tanpa alkohol</td>\n    </tr>\n    <tr>\n      <th>198</th>\n      <td>K-Kitchen</td>\n      <td>[, , , , , , , Sarapan, Pesan Antar, Bawa Pula...</td>\n      <td>https://www.zomato.com/id/jakarta/k-kitchen-se...</td>\n      <td>Senayan City, Lantai 5, Delicaé, Jl. Asia Afri...</td>\n      <td>Rp150.000 untuk 2 orang (perkiraan)</td>\n    </tr>\n    <tr>\n      <th>199</th>\n      <td>Nock Nock Cafe &amp; Resto</td>\n      <td>[Bawa Pulang Tersedia, Alkohol Tersedia, Di da...</td>\n      <td>https://www.zomato.com/id/jakarta/nock-nock-ca...</td>\n      <td>Mall of Indonesia, Rukan Resort City Home, Blo...</td>\n      <td>Rp120.000 untuk 2 orang (perkiraan)</td>\n    </tr>\n    <tr>\n      <th>200</th>\n      <td>Hanna Bakes</td>\n      <td>[, , , , Pesan Antar, Bawa Pulang Tersedia, Di...</td>\n      <td>https://www.zomato.com/id/jakarta/hanna-bakes-...</td>\n      <td>Jl. Pegangsaan Indah Bar. No.7, RT.2/RW.16, Pe...</td>\n      <td>No Price Data Found</td>\n    </tr>\n  </tbody>\n</table>\n<p>201 rows × 5 columns</p>\n</div>"
     },
     "metadata": {},
     "execution_count": 271
    }
   ],
   "source": [
    "rdfs_full2"
   ]
  },
  {
   "cell_type": "code",
   "execution_count": 306,
   "metadata": {},
   "outputs": [
    {
     "output_type": "execute_result",
     "data": {
      "text/plain": "Empty DataFrame\nColumns: [Restaurant Name, Additional Info, Website, Restaurant Address, Price for 2]\nIndex: []",
      "text/html": "<div>\n<style scoped>\n    .dataframe tbody tr th:only-of-type {\n        vertical-align: middle;\n    }\n\n    .dataframe tbody tr th {\n        vertical-align: top;\n    }\n\n    .dataframe thead th {\n        text-align: right;\n    }\n</style>\n<table border=\"1\" class=\"dataframe\">\n  <thead>\n    <tr style=\"text-align: right;\">\n      <th></th>\n      <th>Restaurant Name</th>\n      <th>Additional Info</th>\n      <th>Website</th>\n      <th>Restaurant Address</th>\n      <th>Price for 2</th>\n    </tr>\n  </thead>\n  <tbody>\n  </tbody>\n</table>\n</div>"
     },
     "metadata": {},
     "execution_count": 306
    }
   ],
   "source": [
    "rdfs_full2[rdfs_full2['Restaurant Address'] == 0]"
   ]
  },
  {
   "cell_type": "code",
   "execution_count": 312,
   "metadata": {},
   "outputs": [],
   "source": [
    "rdfs_full2.to_csv('Restaurant DataFrame Incomplete Scrape.csv', index=False)\n",
    "rdfs_full2.drop(['Website'], axis=1).to_csv('Restaurant DataFrame Incomplete Scrape without Web.csv', index=False)"
   ]
  },
  {
   "cell_type": "markdown",
   "metadata": {},
   "source": [
    "# STEP 4 - Ch. 2"
   ]
  },
  {
   "cell_type": "code",
   "execution_count": 100,
   "metadata": {},
   "outputs": [],
   "source": [
    "rdfscrape3.to_csv('Additional Info Missing.csv', index=False)\n",
    "rdfscrape3.drop(['Website'], axis=1).to_csv('Additional Info Missing without Web.csv', index=False)"
   ]
  },
  {
   "cell_type": "code",
   "execution_count": 117,
   "metadata": {},
   "outputs": [
    {
     "output_type": "execute_result",
     "data": {
      "text/plain": "                   Restaurant Name  \\\n0    Siomay Batagor Satya Tenggiri   \n1                Sop & Bakmi Paton   \n2                        Mee_Oowfè   \n3          Turn On Coffee & Eatery   \n4       One More Shot Coffee House   \n..                             ...   \n339                    Hanna Bakes   \n340                  Kedai Kopi GG   \n341       Paladin Coffee + Kitchen   \n342               Hokkaido Izakaya   \n343                Sepiring Padang   \n\n                                       Additional Info  \\\n0                               ['No Additional Info']   \n1                               ['No Additional Info']   \n2    ['', '', '', 'Bawa Pulang Tersedia', 'Di dalam...   \n3    ['Bawa Pulang Tersedia', 'Hanya Bir', 'Tempat ...   \n4    ['Bawa Pulang Tersedia', 'Tempat duduk di luar...   \n..                                                 ...   \n339                               [No Additional Info]   \n340  [Bawa Pulang Tersedia, Di dalam ruangan, Wifi ...   \n341  [, , , , , , , , Sarapan, Bawa Pulang Tersedia...   \n342  [Pesan Antar, Bawa Pulang Tersedia, Hanya Wine...   \n343  [Pesan Antar, Bawa Pulang Tersedia, Wifi Terse...   \n\n                                               Website  \\\n0    https://www.zomato.com/id/jakarta/siomay-batag...   \n1    https://www.zomato.com/id/jakarta/sop-bakmi-pa...   \n2    https://www.zomato.com/id/jakarta/mee-oowfè-2-...   \n3    https://www.zomato.com/id/jakarta/turn-on-coff...   \n4    https://www.zomato.com/id/jakarta/one-more-sho...   \n..                                                 ...   \n339  https://www.zomato.com/id/jakarta/hanna-bakes-...   \n340  https://www.zomato.com/id/jakarta/kedai-kopi-g...   \n341  https://www.zomato.com/id/jakarta/paladin-coff...   \n342  https://www.zomato.com/id/jakarta/hokkaido-iza...   \n343  https://www.zomato.com/id/jakarta/sepiring-pad...   \n\n                                    Restaurant Address  \n0                                                  NaN  \n1                                                  NaN  \n2                                                  NaN  \n3                                                  NaN  \n4                                                  NaN  \n..                                                 ...  \n339  Jl. Pegangsaan Indah Bar. No.7, RT.2/RW.16, Pe...  \n340  Foresta Business Loft 5, Jl. BSD Boulevard Uta...  \n341                                                     \n342  Pavilion Retail Arcade, Lantai Dasar, Jl. K.H....  \n343  Jl. Boulevard Raya, Blok QF 1 No. 1, Kelapa Ga...  \n\n[344 rows x 4 columns]",
      "text/html": "<div>\n<style scoped>\n    .dataframe tbody tr th:only-of-type {\n        vertical-align: middle;\n    }\n\n    .dataframe tbody tr th {\n        vertical-align: top;\n    }\n\n    .dataframe thead th {\n        text-align: right;\n    }\n</style>\n<table border=\"1\" class=\"dataframe\">\n  <thead>\n    <tr style=\"text-align: right;\">\n      <th></th>\n      <th>Restaurant Name</th>\n      <th>Additional Info</th>\n      <th>Website</th>\n      <th>Restaurant Address</th>\n    </tr>\n  </thead>\n  <tbody>\n    <tr>\n      <th>0</th>\n      <td>Siomay Batagor Satya Tenggiri</td>\n      <td>['No Additional Info']</td>\n      <td>https://www.zomato.com/id/jakarta/siomay-batag...</td>\n      <td>NaN</td>\n    </tr>\n    <tr>\n      <th>1</th>\n      <td>Sop &amp; Bakmi Paton</td>\n      <td>['No Additional Info']</td>\n      <td>https://www.zomato.com/id/jakarta/sop-bakmi-pa...</td>\n      <td>NaN</td>\n    </tr>\n    <tr>\n      <th>2</th>\n      <td>Mee_Oowfè</td>\n      <td>['', '', '', 'Bawa Pulang Tersedia', 'Di dalam...</td>\n      <td>https://www.zomato.com/id/jakarta/mee-oowfè-2-...</td>\n      <td>NaN</td>\n    </tr>\n    <tr>\n      <th>3</th>\n      <td>Turn On Coffee &amp; Eatery</td>\n      <td>['Bawa Pulang Tersedia', 'Hanya Bir', 'Tempat ...</td>\n      <td>https://www.zomato.com/id/jakarta/turn-on-coff...</td>\n      <td>NaN</td>\n    </tr>\n    <tr>\n      <th>4</th>\n      <td>One More Shot Coffee House</td>\n      <td>['Bawa Pulang Tersedia', 'Tempat duduk di luar...</td>\n      <td>https://www.zomato.com/id/jakarta/one-more-sho...</td>\n      <td>NaN</td>\n    </tr>\n    <tr>\n      <th>...</th>\n      <td>...</td>\n      <td>...</td>\n      <td>...</td>\n      <td>...</td>\n    </tr>\n    <tr>\n      <th>339</th>\n      <td>Hanna Bakes</td>\n      <td>[No Additional Info]</td>\n      <td>https://www.zomato.com/id/jakarta/hanna-bakes-...</td>\n      <td>Jl. Pegangsaan Indah Bar. No.7, RT.2/RW.16, Pe...</td>\n    </tr>\n    <tr>\n      <th>340</th>\n      <td>Kedai Kopi GG</td>\n      <td>[Bawa Pulang Tersedia, Di dalam ruangan, Wifi ...</td>\n      <td>https://www.zomato.com/id/jakarta/kedai-kopi-g...</td>\n      <td>Foresta Business Loft 5, Jl. BSD Boulevard Uta...</td>\n    </tr>\n    <tr>\n      <th>341</th>\n      <td>Paladin Coffee + Kitchen</td>\n      <td>[, , , , , , , , Sarapan, Bawa Pulang Tersedia...</td>\n      <td>https://www.zomato.com/id/jakarta/paladin-coff...</td>\n      <td></td>\n    </tr>\n    <tr>\n      <th>342</th>\n      <td>Hokkaido Izakaya</td>\n      <td>[Pesan Antar, Bawa Pulang Tersedia, Hanya Wine...</td>\n      <td>https://www.zomato.com/id/jakarta/hokkaido-iza...</td>\n      <td>Pavilion Retail Arcade, Lantai Dasar, Jl. K.H....</td>\n    </tr>\n    <tr>\n      <th>343</th>\n      <td>Sepiring Padang</td>\n      <td>[Pesan Antar, Bawa Pulang Tersedia, Wifi Terse...</td>\n      <td>https://www.zomato.com/id/jakarta/sepiring-pad...</td>\n      <td>Jl. Boulevard Raya, Blok QF 1 No. 1, Kelapa Ga...</td>\n    </tr>\n  </tbody>\n</table>\n<p>344 rows × 4 columns</p>\n</div>"
     },
     "metadata": {},
     "execution_count": 117
    }
   ],
   "source": [
    "rdfscrape3"
   ]
  },
  {
   "cell_type": "code",
   "execution_count": 5,
   "metadata": {},
   "outputs": [
    {
     "output_type": "execute_result",
     "data": {
      "text/plain": "                   Restaurant Name  \\\n0    Siomay Batagor Satya Tenggiri   \n1                Sop & Bakmi Paton   \n2                        Mee_Oowfè   \n3          Turn On Coffee & Eatery   \n4       One More Shot Coffee House   \n..                             ...   \n339                    Tiga Wonton   \n340                    Tiga Wonton   \n341                    Tiga Wonton   \n342                      Pagi Sore   \n343                    Hanna Bakes   \n\n                                       Additional Info  \\\n0                               ['No Additional Info']   \n1                               ['No Additional Info']   \n2    ['', '', '', 'Bawa Pulang Tersedia', 'Di dalam...   \n3    ['Bawa Pulang Tersedia', 'Hanya Bir', 'Tempat ...   \n4    ['Bawa Pulang Tersedia', 'Tempat duduk di luar...   \n..                                                 ...   \n339                             ['No Additional Info']   \n340                             ['No Additional Info']   \n341                             ['No Additional Info']   \n342                             ['No Additional Info']   \n343                             ['No Additional Info']   \n\n                                               Website  \n0    https://www.zomato.com/id/jakarta/siomay-batag...  \n1    https://www.zomato.com/id/jakarta/sop-bakmi-pa...  \n2    https://www.zomato.com/id/jakarta/mee-oowfè-2-...  \n3    https://www.zomato.com/id/jakarta/turn-on-coff...  \n4    https://www.zomato.com/id/jakarta/one-more-sho...  \n..                                                 ...  \n339  https://www.zomato.com/id/jakarta/tiga-wonton-...  \n340  https://www.zomato.com/id/jakarta/tiga-wonton-...  \n341  https://www.zomato.com/id/jakarta/tiga-wonton-...  \n342  https://www.zomato.com/id/jakarta/pagi-sore-ke...  \n343  https://www.zomato.com/id/jakarta/hanna-bakes-...  \n\n[344 rows x 3 columns]",
      "text/html": "<div>\n<style scoped>\n    .dataframe tbody tr th:only-of-type {\n        vertical-align: middle;\n    }\n\n    .dataframe tbody tr th {\n        vertical-align: top;\n    }\n\n    .dataframe thead th {\n        text-align: right;\n    }\n</style>\n<table border=\"1\" class=\"dataframe\">\n  <thead>\n    <tr style=\"text-align: right;\">\n      <th></th>\n      <th>Restaurant Name</th>\n      <th>Additional Info</th>\n      <th>Website</th>\n    </tr>\n  </thead>\n  <tbody>\n    <tr>\n      <th>0</th>\n      <td>Siomay Batagor Satya Tenggiri</td>\n      <td>['No Additional Info']</td>\n      <td>https://www.zomato.com/id/jakarta/siomay-batag...</td>\n    </tr>\n    <tr>\n      <th>1</th>\n      <td>Sop &amp; Bakmi Paton</td>\n      <td>['No Additional Info']</td>\n      <td>https://www.zomato.com/id/jakarta/sop-bakmi-pa...</td>\n    </tr>\n    <tr>\n      <th>2</th>\n      <td>Mee_Oowfè</td>\n      <td>['', '', '', 'Bawa Pulang Tersedia', 'Di dalam...</td>\n      <td>https://www.zomato.com/id/jakarta/mee-oowfè-2-...</td>\n    </tr>\n    <tr>\n      <th>3</th>\n      <td>Turn On Coffee &amp; Eatery</td>\n      <td>['Bawa Pulang Tersedia', 'Hanya Bir', 'Tempat ...</td>\n      <td>https://www.zomato.com/id/jakarta/turn-on-coff...</td>\n    </tr>\n    <tr>\n      <th>4</th>\n      <td>One More Shot Coffee House</td>\n      <td>['Bawa Pulang Tersedia', 'Tempat duduk di luar...</td>\n      <td>https://www.zomato.com/id/jakarta/one-more-sho...</td>\n    </tr>\n    <tr>\n      <th>...</th>\n      <td>...</td>\n      <td>...</td>\n      <td>...</td>\n    </tr>\n    <tr>\n      <th>339</th>\n      <td>Tiga Wonton</td>\n      <td>['No Additional Info']</td>\n      <td>https://www.zomato.com/id/jakarta/tiga-wonton-...</td>\n    </tr>\n    <tr>\n      <th>340</th>\n      <td>Tiga Wonton</td>\n      <td>['No Additional Info']</td>\n      <td>https://www.zomato.com/id/jakarta/tiga-wonton-...</td>\n    </tr>\n    <tr>\n      <th>341</th>\n      <td>Tiga Wonton</td>\n      <td>['No Additional Info']</td>\n      <td>https://www.zomato.com/id/jakarta/tiga-wonton-...</td>\n    </tr>\n    <tr>\n      <th>342</th>\n      <td>Pagi Sore</td>\n      <td>['No Additional Info']</td>\n      <td>https://www.zomato.com/id/jakarta/pagi-sore-ke...</td>\n    </tr>\n    <tr>\n      <th>343</th>\n      <td>Hanna Bakes</td>\n      <td>['No Additional Info']</td>\n      <td>https://www.zomato.com/id/jakarta/hanna-bakes-...</td>\n    </tr>\n  </tbody>\n</table>\n<p>344 rows × 3 columns</p>\n</div>"
     },
     "metadata": {},
     "execution_count": 5
    }
   ],
   "source": [
    "rdfscrape2 = pd.read_csv('Additional Info Missing.csv')\n",
    "rdfscrape2"
   ]
  },
  {
   "cell_type": "code",
   "execution_count": 13,
   "metadata": {},
   "outputs": [
    {
     "output_type": "execute_result",
     "data": {
      "text/plain": "                   Restaurant Name         Additional Info  \\\n54      LilSpago Cafe & Game House  ['No Additional Info']   \n95                        Spumante  ['No Additional Info']   \n98   Blue Terrace - AYANA Midplaza  ['No Additional Info']   \n111   Hideaway - JW Marriott Hotel  ['No Additional Info']   \n123                        Kenjiro  ['No Additional Info']   \n..                             ...                     ...   \n272                    Koun Eatery  ['No Additional Info']   \n298                Bakul Nusantara  ['No Additional Info']   \n329                   Bebek Mercon  ['No Additional Info']   \n342                      Pagi Sore  ['No Additional Info']   \n343                    Hanna Bakes  ['No Additional Info']   \n\n                                               Website  \n54   https://www.zomato.com/id/jakarta/lilspago-caf...  \n95   https://www.zomato.com/id/jakarta/spumante-men...  \n98   https://www.zomato.com/id/jakarta/blue-terrace...  \n111  https://www.zomato.com/id/jakarta/hideaway-jw-...  \n123  https://www.zomato.com/id/jakarta/kenjiro-seno...  \n..                                                 ...  \n272  https://www.zomato.com/id/jakarta/koun-eatery-...  \n298  https://www.zomato.com/id/jakarta/bakul-nusant...  \n329  https://www.zomato.com/id/jakarta/bebek-mercon...  \n342  https://www.zomato.com/id/jakarta/pagi-sore-ke...  \n343  https://www.zomato.com/id/jakarta/hanna-bakes-...  \n\n[32 rows x 3 columns]",
      "text/html": "<div>\n<style scoped>\n    .dataframe tbody tr th:only-of-type {\n        vertical-align: middle;\n    }\n\n    .dataframe tbody tr th {\n        vertical-align: top;\n    }\n\n    .dataframe thead th {\n        text-align: right;\n    }\n</style>\n<table border=\"1\" class=\"dataframe\">\n  <thead>\n    <tr style=\"text-align: right;\">\n      <th></th>\n      <th>Restaurant Name</th>\n      <th>Additional Info</th>\n      <th>Website</th>\n    </tr>\n  </thead>\n  <tbody>\n    <tr>\n      <th>54</th>\n      <td>LilSpago Cafe &amp; Game House</td>\n      <td>['No Additional Info']</td>\n      <td>https://www.zomato.com/id/jakarta/lilspago-caf...</td>\n    </tr>\n    <tr>\n      <th>95</th>\n      <td>Spumante</td>\n      <td>['No Additional Info']</td>\n      <td>https://www.zomato.com/id/jakarta/spumante-men...</td>\n    </tr>\n    <tr>\n      <th>98</th>\n      <td>Blue Terrace - AYANA Midplaza</td>\n      <td>['No Additional Info']</td>\n      <td>https://www.zomato.com/id/jakarta/blue-terrace...</td>\n    </tr>\n    <tr>\n      <th>111</th>\n      <td>Hideaway - JW Marriott Hotel</td>\n      <td>['No Additional Info']</td>\n      <td>https://www.zomato.com/id/jakarta/hideaway-jw-...</td>\n    </tr>\n    <tr>\n      <th>123</th>\n      <td>Kenjiro</td>\n      <td>['No Additional Info']</td>\n      <td>https://www.zomato.com/id/jakarta/kenjiro-seno...</td>\n    </tr>\n    <tr>\n      <th>...</th>\n      <td>...</td>\n      <td>...</td>\n      <td>...</td>\n    </tr>\n    <tr>\n      <th>272</th>\n      <td>Koun Eatery</td>\n      <td>['No Additional Info']</td>\n      <td>https://www.zomato.com/id/jakarta/koun-eatery-...</td>\n    </tr>\n    <tr>\n      <th>298</th>\n      <td>Bakul Nusantara</td>\n      <td>['No Additional Info']</td>\n      <td>https://www.zomato.com/id/jakarta/bakul-nusant...</td>\n    </tr>\n    <tr>\n      <th>329</th>\n      <td>Bebek Mercon</td>\n      <td>['No Additional Info']</td>\n      <td>https://www.zomato.com/id/jakarta/bebek-mercon...</td>\n    </tr>\n    <tr>\n      <th>342</th>\n      <td>Pagi Sore</td>\n      <td>['No Additional Info']</td>\n      <td>https://www.zomato.com/id/jakarta/pagi-sore-ke...</td>\n    </tr>\n    <tr>\n      <th>343</th>\n      <td>Hanna Bakes</td>\n      <td>['No Additional Info']</td>\n      <td>https://www.zomato.com/id/jakarta/hanna-bakes-...</td>\n    </tr>\n  </tbody>\n</table>\n<p>32 rows × 3 columns</p>\n</div>"
     },
     "metadata": {},
     "execution_count": 13
    }
   ],
   "source": [
    "rdfscrape2.iloc[[54,95,98,111,123,124,126,131,132,133,134,139,146,147,149,158,163,184,190,191,223,225,226,230,231,242,243,272,298,329,342,343]]"
   ]
  },
  {
   "cell_type": "code",
   "execution_count": 15,
   "metadata": {},
   "outputs": [],
   "source": [
    "rdfscrape3 = rdfscrape2.iloc[[54,95,98,111,123,124,126,131,132,133,134,139,146,147,149,158,163,184,190,191,223,225,226,230,231,242,243,272,298,329,342,343]]"
   ]
  },
  {
   "cell_type": "code",
   "execution_count": 27,
   "metadata": {},
   "outputs": [
    {
     "output_type": "execute_result",
     "data": {
      "text/plain": "54     https://www.zomato.com/id/jakarta/lilspago-caf...\n95     https://www.zomato.com/id/jakarta/spumante-men...\n98     https://www.zomato.com/id/jakarta/blue-terrace...\n111    https://www.zomato.com/id/jakarta/hideaway-jw-...\n123    https://www.zomato.com/id/jakarta/kenjiro-seno...\n                             ...                        \n272    https://www.zomato.com/id/jakarta/koun-eatery-...\n298    https://www.zomato.com/id/jakarta/bakul-nusant...\n329    https://www.zomato.com/id/jakarta/bebek-mercon...\n342    https://www.zomato.com/id/jakarta/pagi-sore-ke...\n343    https://www.zomato.com/id/jakarta/hanna-bakes-...\nName: Website, Length: 32, dtype: object"
     },
     "metadata": {},
     "execution_count": 27
    }
   ],
   "source": [
    "rescrape = rdfscrape3['Website']\n",
    "rescrape"
   ]
  },
  {
   "cell_type": "code",
   "execution_count": 43,
   "metadata": {},
   "outputs": [
    {
     "output_type": "execute_result",
     "data": {
      "text/plain": "                   Restaurant Name  \\\n0    Siomay Batagor Satya Tenggiri   \n1                Sop & Bakmi Paton   \n2                        Mee_Oowfè   \n3          Turn On Coffee & Eatery   \n4       One More Shot Coffee House   \n..                             ...   \n337                    Tiga Wonton   \n338                    Tiga Wonton   \n339                    Tiga Wonton   \n340                    Tiga Wonton   \n341                    Tiga Wonton   \n\n                                       Additional Info  \\\n0                               ['No Additional Info']   \n1                               ['No Additional Info']   \n2    ['', '', '', 'Bawa Pulang Tersedia', 'Di dalam...   \n3    ['Bawa Pulang Tersedia', 'Hanya Bir', 'Tempat ...   \n4    ['Bawa Pulang Tersedia', 'Tempat duduk di luar...   \n..                                                 ...   \n337                             ['No Additional Info']   \n338                             ['No Additional Info']   \n339                             ['No Additional Info']   \n340                             ['No Additional Info']   \n341                             ['No Additional Info']   \n\n                                               Website  \n0    https://www.zomato.com/id/jakarta/siomay-batag...  \n1    https://www.zomato.com/id/jakarta/sop-bakmi-pa...  \n2    https://www.zomato.com/id/jakarta/mee-oowfè-2-...  \n3    https://www.zomato.com/id/jakarta/turn-on-coff...  \n4    https://www.zomato.com/id/jakarta/one-more-sho...  \n..                                                 ...  \n337  https://www.zomato.com/id/jakarta/tiga-wonton-...  \n338  https://www.zomato.com/id/jakarta/tiga-wonton-...  \n339  https://www.zomato.com/id/jakarta/tiga-wonton-...  \n340  https://www.zomato.com/id/jakarta/tiga-wonton-...  \n341  https://www.zomato.com/id/jakarta/tiga-wonton-...  \n\n[312 rows x 3 columns]",
      "text/html": "<div>\n<style scoped>\n    .dataframe tbody tr th:only-of-type {\n        vertical-align: middle;\n    }\n\n    .dataframe tbody tr th {\n        vertical-align: top;\n    }\n\n    .dataframe thead th {\n        text-align: right;\n    }\n</style>\n<table border=\"1\" class=\"dataframe\">\n  <thead>\n    <tr style=\"text-align: right;\">\n      <th></th>\n      <th>Restaurant Name</th>\n      <th>Additional Info</th>\n      <th>Website</th>\n    </tr>\n  </thead>\n  <tbody>\n    <tr>\n      <th>0</th>\n      <td>Siomay Batagor Satya Tenggiri</td>\n      <td>['No Additional Info']</td>\n      <td>https://www.zomato.com/id/jakarta/siomay-batag...</td>\n    </tr>\n    <tr>\n      <th>1</th>\n      <td>Sop &amp; Bakmi Paton</td>\n      <td>['No Additional Info']</td>\n      <td>https://www.zomato.com/id/jakarta/sop-bakmi-pa...</td>\n    </tr>\n    <tr>\n      <th>2</th>\n      <td>Mee_Oowfè</td>\n      <td>['', '', '', 'Bawa Pulang Tersedia', 'Di dalam...</td>\n      <td>https://www.zomato.com/id/jakarta/mee-oowfè-2-...</td>\n    </tr>\n    <tr>\n      <th>3</th>\n      <td>Turn On Coffee &amp; Eatery</td>\n      <td>['Bawa Pulang Tersedia', 'Hanya Bir', 'Tempat ...</td>\n      <td>https://www.zomato.com/id/jakarta/turn-on-coff...</td>\n    </tr>\n    <tr>\n      <th>4</th>\n      <td>One More Shot Coffee House</td>\n      <td>['Bawa Pulang Tersedia', 'Tempat duduk di luar...</td>\n      <td>https://www.zomato.com/id/jakarta/one-more-sho...</td>\n    </tr>\n    <tr>\n      <th>...</th>\n      <td>...</td>\n      <td>...</td>\n      <td>...</td>\n    </tr>\n    <tr>\n      <th>337</th>\n      <td>Tiga Wonton</td>\n      <td>['No Additional Info']</td>\n      <td>https://www.zomato.com/id/jakarta/tiga-wonton-...</td>\n    </tr>\n    <tr>\n      <th>338</th>\n      <td>Tiga Wonton</td>\n      <td>['No Additional Info']</td>\n      <td>https://www.zomato.com/id/jakarta/tiga-wonton-...</td>\n    </tr>\n    <tr>\n      <th>339</th>\n      <td>Tiga Wonton</td>\n      <td>['No Additional Info']</td>\n      <td>https://www.zomato.com/id/jakarta/tiga-wonton-...</td>\n    </tr>\n    <tr>\n      <th>340</th>\n      <td>Tiga Wonton</td>\n      <td>['No Additional Info']</td>\n      <td>https://www.zomato.com/id/jakarta/tiga-wonton-...</td>\n    </tr>\n    <tr>\n      <th>341</th>\n      <td>Tiga Wonton</td>\n      <td>['No Additional Info']</td>\n      <td>https://www.zomato.com/id/jakarta/tiga-wonton-...</td>\n    </tr>\n  </tbody>\n</table>\n<p>312 rows × 3 columns</p>\n</div>"
     },
     "metadata": {},
     "execution_count": 43
    }
   ],
   "source": [
    "rdfscrape2"
   ]
  },
  {
   "cell_type": "code",
   "execution_count": 96,
   "metadata": {},
   "outputs": [],
   "source": [
    "rdfscrape3 = pd.concat((rdfscrape2, rdfscrape)).reset_index()"
   ]
  },
  {
   "cell_type": "code",
   "execution_count": 71,
   "metadata": {},
   "outputs": [
    {
     "output_type": "execute_result",
     "data": {
      "text/plain": "    Restaurant Name                                    Additional Info  \\\n329   Kedai Kopi GG                               [No Additional Info]   \n344   Kedai Kopi GG  [Bawa Pulang Tersedia, Di dalam ruangan, Wifi ...   \n\n                                               Website  \\\n329  https://www.zomato.com/id/jakarta/kedai-kopi-g...   \n344  https://www.zomato.com/id/jakarta/kedai-kopi-g...   \n\n                                    Restaurant Address  \n329  Foresta Business Loft 5, Jl. BSD Boulevard Uta...  \n344  Foresta Business Loft 5, Jl. BSD Boulevard Uta...  ",
      "text/html": "<div>\n<style scoped>\n    .dataframe tbody tr th:only-of-type {\n        vertical-align: middle;\n    }\n\n    .dataframe tbody tr th {\n        vertical-align: top;\n    }\n\n    .dataframe thead th {\n        text-align: right;\n    }\n</style>\n<table border=\"1\" class=\"dataframe\">\n  <thead>\n    <tr style=\"text-align: right;\">\n      <th></th>\n      <th>Restaurant Name</th>\n      <th>Additional Info</th>\n      <th>Website</th>\n      <th>Restaurant Address</th>\n    </tr>\n  </thead>\n  <tbody>\n    <tr>\n      <th>329</th>\n      <td>Kedai Kopi GG</td>\n      <td>[No Additional Info]</td>\n      <td>https://www.zomato.com/id/jakarta/kedai-kopi-g...</td>\n      <td>Foresta Business Loft 5, Jl. BSD Boulevard Uta...</td>\n    </tr>\n    <tr>\n      <th>344</th>\n      <td>Kedai Kopi GG</td>\n      <td>[Bawa Pulang Tersedia, Di dalam ruangan, Wifi ...</td>\n      <td>https://www.zomato.com/id/jakarta/kedai-kopi-g...</td>\n      <td>Foresta Business Loft 5, Jl. BSD Boulevard Uta...</td>\n    </tr>\n  </tbody>\n</table>\n</div>"
     },
     "metadata": {},
     "execution_count": 71
    }
   ],
   "source": [
    "rdfscrape2[rdfscrape2['Restaurant Name'] == 'Kedai Kopi GG']"
   ]
  },
  {
   "cell_type": "code",
   "execution_count": 81,
   "metadata": {},
   "outputs": [],
   "source": [
    "rescrape = rdfscrape2.loc[[93,119,205]]['Website']"
   ]
  },
  {
   "cell_type": "code",
   "execution_count": 93,
   "metadata": {},
   "outputs": [],
   "source": [
    "rdfscrape2.drop(rdfscrape2.index[[93,119,205]], axis=0,inplace=True)"
   ]
  },
  {
   "cell_type": "code",
   "execution_count": 95,
   "metadata": {},
   "outputs": [
    {
     "output_type": "execute_result",
     "data": {
      "text/plain": "     index                Restaurant Name  \\\n0        0  Siomay Batagor Satya Tenggiri   \n1        1              Sop & Bakmi Paton   \n2        2                      Mee_Oowfè   \n3        3        Turn On Coffee & Eatery   \n4        4     One More Shot Coffee House   \n..     ...                            ...   \n336    340                Bakul Nusantara   \n337    341                   Bebek Mercon   \n338    342                      Pagi Sore   \n339    343                    Hanna Bakes   \n340    344                  Kedai Kopi GG   \n\n                                       Additional Info  \\\n0                               ['No Additional Info']   \n1                               ['No Additional Info']   \n2    ['', '', '', 'Bawa Pulang Tersedia', 'Di dalam...   \n3    ['Bawa Pulang Tersedia', 'Hanya Bir', 'Tempat ...   \n4    ['Bawa Pulang Tersedia', 'Tempat duduk di luar...   \n..                                                 ...   \n336  [Pesan Antar, Bawa Pulang Tersedia, Di dalam r...   \n337                               [No Additional Info]   \n338                               [No Additional Info]   \n339                               [No Additional Info]   \n340  [Bawa Pulang Tersedia, Di dalam ruangan, Wifi ...   \n\n                                               Website  \\\n0    https://www.zomato.com/id/jakarta/siomay-batag...   \n1    https://www.zomato.com/id/jakarta/sop-bakmi-pa...   \n2    https://www.zomato.com/id/jakarta/mee-oowfè-2-...   \n3    https://www.zomato.com/id/jakarta/turn-on-coff...   \n4    https://www.zomato.com/id/jakarta/one-more-sho...   \n..                                                 ...   \n336  https://www.zomato.com/id/jakarta/bakul-nusant...   \n337  https://www.zomato.com/id/jakarta/bebek-mercon...   \n338  https://www.zomato.com/id/jakarta/pagi-sore-ke...   \n339  https://www.zomato.com/id/jakarta/hanna-bakes-...   \n340  https://www.zomato.com/id/jakarta/kedai-kopi-g...   \n\n                                    Restaurant Address  \n0                                                  NaN  \n1                                                  NaN  \n2                                                  NaN  \n3                                                  NaN  \n4                                                  NaN  \n..                                                 ...  \n336  Ruko Citra Garden 6, Jl. Citra Garden 6 Blok H...  \n337                     Jl. Raya KSU, Sukmajaya, Depok  \n338                   Jl. Kemang Raya, Kemang, Jakarta  \n339  Jl. Pegangsaan Indah Bar. No.7, RT.2/RW.16, Pe...  \n340  Foresta Business Loft 5, Jl. BSD Boulevard Uta...  \n\n[341 rows x 5 columns]",
      "text/html": "<div>\n<style scoped>\n    .dataframe tbody tr th:only-of-type {\n        vertical-align: middle;\n    }\n\n    .dataframe tbody tr th {\n        vertical-align: top;\n    }\n\n    .dataframe thead th {\n        text-align: right;\n    }\n</style>\n<table border=\"1\" class=\"dataframe\">\n  <thead>\n    <tr style=\"text-align: right;\">\n      <th></th>\n      <th>index</th>\n      <th>Restaurant Name</th>\n      <th>Additional Info</th>\n      <th>Website</th>\n      <th>Restaurant Address</th>\n    </tr>\n  </thead>\n  <tbody>\n    <tr>\n      <th>0</th>\n      <td>0</td>\n      <td>Siomay Batagor Satya Tenggiri</td>\n      <td>['No Additional Info']</td>\n      <td>https://www.zomato.com/id/jakarta/siomay-batag...</td>\n      <td>NaN</td>\n    </tr>\n    <tr>\n      <th>1</th>\n      <td>1</td>\n      <td>Sop &amp; Bakmi Paton</td>\n      <td>['No Additional Info']</td>\n      <td>https://www.zomato.com/id/jakarta/sop-bakmi-pa...</td>\n      <td>NaN</td>\n    </tr>\n    <tr>\n      <th>2</th>\n      <td>2</td>\n      <td>Mee_Oowfè</td>\n      <td>['', '', '', 'Bawa Pulang Tersedia', 'Di dalam...</td>\n      <td>https://www.zomato.com/id/jakarta/mee-oowfè-2-...</td>\n      <td>NaN</td>\n    </tr>\n    <tr>\n      <th>3</th>\n      <td>3</td>\n      <td>Turn On Coffee &amp; Eatery</td>\n      <td>['Bawa Pulang Tersedia', 'Hanya Bir', 'Tempat ...</td>\n      <td>https://www.zomato.com/id/jakarta/turn-on-coff...</td>\n      <td>NaN</td>\n    </tr>\n    <tr>\n      <th>4</th>\n      <td>4</td>\n      <td>One More Shot Coffee House</td>\n      <td>['Bawa Pulang Tersedia', 'Tempat duduk di luar...</td>\n      <td>https://www.zomato.com/id/jakarta/one-more-sho...</td>\n      <td>NaN</td>\n    </tr>\n    <tr>\n      <th>...</th>\n      <td>...</td>\n      <td>...</td>\n      <td>...</td>\n      <td>...</td>\n      <td>...</td>\n    </tr>\n    <tr>\n      <th>336</th>\n      <td>340</td>\n      <td>Bakul Nusantara</td>\n      <td>[Pesan Antar, Bawa Pulang Tersedia, Di dalam r...</td>\n      <td>https://www.zomato.com/id/jakarta/bakul-nusant...</td>\n      <td>Ruko Citra Garden 6, Jl. Citra Garden 6 Blok H...</td>\n    </tr>\n    <tr>\n      <th>337</th>\n      <td>341</td>\n      <td>Bebek Mercon</td>\n      <td>[No Additional Info]</td>\n      <td>https://www.zomato.com/id/jakarta/bebek-mercon...</td>\n      <td>Jl. Raya KSU, Sukmajaya, Depok</td>\n    </tr>\n    <tr>\n      <th>338</th>\n      <td>342</td>\n      <td>Pagi Sore</td>\n      <td>[No Additional Info]</td>\n      <td>https://www.zomato.com/id/jakarta/pagi-sore-ke...</td>\n      <td>Jl. Kemang Raya, Kemang, Jakarta</td>\n    </tr>\n    <tr>\n      <th>339</th>\n      <td>343</td>\n      <td>Hanna Bakes</td>\n      <td>[No Additional Info]</td>\n      <td>https://www.zomato.com/id/jakarta/hanna-bakes-...</td>\n      <td>Jl. Pegangsaan Indah Bar. No.7, RT.2/RW.16, Pe...</td>\n    </tr>\n    <tr>\n      <th>340</th>\n      <td>344</td>\n      <td>Kedai Kopi GG</td>\n      <td>[Bawa Pulang Tersedia, Di dalam ruangan, Wifi ...</td>\n      <td>https://www.zomato.com/id/jakarta/kedai-kopi-g...</td>\n      <td>Foresta Business Loft 5, Jl. BSD Boulevard Uta...</td>\n    </tr>\n  </tbody>\n</table>\n<p>341 rows × 5 columns</p>\n</div>"
     },
     "metadata": {},
     "execution_count": 95
    }
   ],
   "source": [
    "rdfscrape2.reset_index()"
   ]
  },
  {
   "cell_type": "code",
   "execution_count": 99,
   "metadata": {},
   "outputs": [],
   "source": [
    "rdfscrape3.drop(['index'], axis=1, inplace=True)"
   ]
  },
  {
   "cell_type": "code",
   "execution_count": 115,
   "metadata": {},
   "outputs": [
    {
     "output_type": "execute_result",
     "data": {
      "text/plain": "                   Restaurant Name  \\\n0    Siomay Batagor Satya Tenggiri   \n1                Sop & Bakmi Paton   \n2                        Mee_Oowfè   \n3          Turn On Coffee & Eatery   \n4       One More Shot Coffee House   \n..                             ...   \n340                Bakul Nusantara   \n341                   Bebek Mercon   \n342                      Pagi Sore   \n343                    Hanna Bakes   \n344                  Kedai Kopi GG   \n\n                                       Additional Info  \\\n0                               ['No Additional Info']   \n1                               ['No Additional Info']   \n2    ['', '', '', 'Bawa Pulang Tersedia', 'Di dalam...   \n3    ['Bawa Pulang Tersedia', 'Hanya Bir', 'Tempat ...   \n4    ['Bawa Pulang Tersedia', 'Tempat duduk di luar...   \n..                                                 ...   \n340  [Pesan Antar, Bawa Pulang Tersedia, Di dalam r...   \n341                               [No Additional Info]   \n342                               [No Additional Info]   \n343                               [No Additional Info]   \n344  [Bawa Pulang Tersedia, Di dalam ruangan, Wifi ...   \n\n                                               Website  \\\n0    https://www.zomato.com/id/jakarta/siomay-batag...   \n1    https://www.zomato.com/id/jakarta/sop-bakmi-pa...   \n2    https://www.zomato.com/id/jakarta/mee-oowfè-2-...   \n3    https://www.zomato.com/id/jakarta/turn-on-coff...   \n4    https://www.zomato.com/id/jakarta/one-more-sho...   \n..                                                 ...   \n340  https://www.zomato.com/id/jakarta/bakul-nusant...   \n341  https://www.zomato.com/id/jakarta/bebek-mercon...   \n342  https://www.zomato.com/id/jakarta/pagi-sore-ke...   \n343  https://www.zomato.com/id/jakarta/hanna-bakes-...   \n344  https://www.zomato.com/id/jakarta/kedai-kopi-g...   \n\n                                    Restaurant Address  \n0                                                  NaN  \n1                                                  NaN  \n2                                                  NaN  \n3                                                  NaN  \n4                                                  NaN  \n..                                                 ...  \n340  Ruko Citra Garden 6, Jl. Citra Garden 6 Blok H...  \n341                     Jl. Raya KSU, Sukmajaya, Depok  \n342                   Jl. Kemang Raya, Kemang, Jakarta  \n343  Jl. Pegangsaan Indah Bar. No.7, RT.2/RW.16, Pe...  \n344  Foresta Business Loft 5, Jl. BSD Boulevard Uta...  \n\n[341 rows x 4 columns]",
      "text/html": "<div>\n<style scoped>\n    .dataframe tbody tr th:only-of-type {\n        vertical-align: middle;\n    }\n\n    .dataframe tbody tr th {\n        vertical-align: top;\n    }\n\n    .dataframe thead th {\n        text-align: right;\n    }\n</style>\n<table border=\"1\" class=\"dataframe\">\n  <thead>\n    <tr style=\"text-align: right;\">\n      <th></th>\n      <th>Restaurant Name</th>\n      <th>Additional Info</th>\n      <th>Website</th>\n      <th>Restaurant Address</th>\n    </tr>\n  </thead>\n  <tbody>\n    <tr>\n      <th>0</th>\n      <td>Siomay Batagor Satya Tenggiri</td>\n      <td>['No Additional Info']</td>\n      <td>https://www.zomato.com/id/jakarta/siomay-batag...</td>\n      <td>NaN</td>\n    </tr>\n    <tr>\n      <th>1</th>\n      <td>Sop &amp; Bakmi Paton</td>\n      <td>['No Additional Info']</td>\n      <td>https://www.zomato.com/id/jakarta/sop-bakmi-pa...</td>\n      <td>NaN</td>\n    </tr>\n    <tr>\n      <th>2</th>\n      <td>Mee_Oowfè</td>\n      <td>['', '', '', 'Bawa Pulang Tersedia', 'Di dalam...</td>\n      <td>https://www.zomato.com/id/jakarta/mee-oowfè-2-...</td>\n      <td>NaN</td>\n    </tr>\n    <tr>\n      <th>3</th>\n      <td>Turn On Coffee &amp; Eatery</td>\n      <td>['Bawa Pulang Tersedia', 'Hanya Bir', 'Tempat ...</td>\n      <td>https://www.zomato.com/id/jakarta/turn-on-coff...</td>\n      <td>NaN</td>\n    </tr>\n    <tr>\n      <th>4</th>\n      <td>One More Shot Coffee House</td>\n      <td>['Bawa Pulang Tersedia', 'Tempat duduk di luar...</td>\n      <td>https://www.zomato.com/id/jakarta/one-more-sho...</td>\n      <td>NaN</td>\n    </tr>\n    <tr>\n      <th>...</th>\n      <td>...</td>\n      <td>...</td>\n      <td>...</td>\n      <td>...</td>\n    </tr>\n    <tr>\n      <th>340</th>\n      <td>Bakul Nusantara</td>\n      <td>[Pesan Antar, Bawa Pulang Tersedia, Di dalam r...</td>\n      <td>https://www.zomato.com/id/jakarta/bakul-nusant...</td>\n      <td>Ruko Citra Garden 6, Jl. Citra Garden 6 Blok H...</td>\n    </tr>\n    <tr>\n      <th>341</th>\n      <td>Bebek Mercon</td>\n      <td>[No Additional Info]</td>\n      <td>https://www.zomato.com/id/jakarta/bebek-mercon...</td>\n      <td>Jl. Raya KSU, Sukmajaya, Depok</td>\n    </tr>\n    <tr>\n      <th>342</th>\n      <td>Pagi Sore</td>\n      <td>[No Additional Info]</td>\n      <td>https://www.zomato.com/id/jakarta/pagi-sore-ke...</td>\n      <td>Jl. Kemang Raya, Kemang, Jakarta</td>\n    </tr>\n    <tr>\n      <th>343</th>\n      <td>Hanna Bakes</td>\n      <td>[No Additional Info]</td>\n      <td>https://www.zomato.com/id/jakarta/hanna-bakes-...</td>\n      <td>Jl. Pegangsaan Indah Bar. No.7, RT.2/RW.16, Pe...</td>\n    </tr>\n    <tr>\n      <th>344</th>\n      <td>Kedai Kopi GG</td>\n      <td>[Bawa Pulang Tersedia, Di dalam ruangan, Wifi ...</td>\n      <td>https://www.zomato.com/id/jakarta/kedai-kopi-g...</td>\n      <td>Foresta Business Loft 5, Jl. BSD Boulevard Uta...</td>\n    </tr>\n  </tbody>\n</table>\n<p>341 rows × 4 columns</p>\n</div>"
     },
     "metadata": {},
     "execution_count": 115
    }
   ],
   "source": [
    "rdfscrape2"
   ]
  },
  {
   "cell_type": "markdown",
   "metadata": {},
   "source": [
    "# STEP 4 - Ch. 3\n",
    "## Combine the whole data"
   ]
  },
  {
   "cell_type": "code",
   "execution_count": null,
   "metadata": {},
   "outputs": [],
   "source": [
    "rdf_fullnd = pd.read_csv('Zomato Restaurants DataFrame - No Duplicate.csv')\n",
    "rdfscrape3 = pd.read_csv('Additional Info Missing.csv')\n",
    "rdfs_full2 = pd.read_csv('Restaurant DataFrame Incomplete Scrape.csv')"
   ]
  },
  {
   "cell_type": "code",
   "execution_count": 222,
   "metadata": {},
   "outputs": [
    {
     "output_type": "execute_result",
     "data": {
      "text/plain": "     Restaurant Name Restaurant Type              Cuisine Type  \\\n0        Holy Smokes   Casual Dining  ['Grill House', 'Steak']   \n1     Pempek Megaria     Quick Bites             ['Palembang']   \n2      Tjikinii Lima   Casual Dining    ['Barat', 'Indonesia']   \n3  Gado-Gado Bon-Bin     Quick Bites                  ['Jawa']   \n4      Koffie Fictie            Kafe                  ['Kopi']   \n\n  Restaurant Area                                 Restaurant Address  \\\n0        Senopati    Jl. Wolter Monginsidi No. 27, Senopati, Jakarta   \n1          Cikini  Metropole 21, Jl. Pegangsaan Timur No. 21, Cik...   \n2          Cikini          Jl. Cikini I No. 5, Cikini, Jakarta 10330   \n3          Cikini                Jl. Cikini 4 No. 5, Cikini, Jakarta   \n4  Bekasi Selatan  Grand Galaxy Park, Ruko RSOD No. 026, Jl. Lotu...   \n\n  Restaurant Rating       Review Counts  \\\n0               4.4        1,437 Ulasan   \n1               4.3          461 Ulasan   \n2               4.0          391 Ulasan   \n3               4.0          177 Ulasan   \n4     Not Rated Yet  TIdak cukup Ulasan   \n\n                                        Price for 2  \\\n0  Rp500.000 untuk 2 orang (perkiraan)Tanpa alkohol   \n1                Rp70.000 untuk 2 orang (perkiraan)   \n2               Rp300.000 untuk 2 orang (perkiraan)   \n3                Rp90.000 untuk 2 orang (perkiraan)   \n4               Rp100.000 untuk 2 orang (perkiraan)   \n\n                                     Additional Info       Latitude  \\\n0  ['Hanya Wine dan Bir', 'Di dalam ruangan', 'Wi...  -6.2391432684   \n1       ['Bawa Pulang Tersedia', 'Di dalam ruangan']  -6.1999000000   \n2  ['Bawa Pulang Tersedia', 'Area Merokok', 'Temp...  -6.1898019937   \n3       ['Bawa Pulang Tersedia', 'Di dalam ruangan']  -6.1929590000   \n4       ['Bawa Pulang Tersedia', 'Di dalam ruangan']  -6.2720590000   \n\n       Longitude                                            Website  \n0  106.807954162  https://www.zomato.com/id/jakarta/holy-smokes-...  \n1  106.843739000  https://www.zomato.com/id/jakarta/pempek-megar...  \n2  106.837150007  https://www.zomato.com/id/jakarta/tjikinii-lim...  \n3  106.838377000  https://www.zomato.com/id/jakarta/gado-gado-bo...  \n4  106.970932000  https://www.zomato.com/id/jakarta/koffie-ficti...  ",
      "text/html": "<div>\n<style scoped>\n    .dataframe tbody tr th:only-of-type {\n        vertical-align: middle;\n    }\n\n    .dataframe tbody tr th {\n        vertical-align: top;\n    }\n\n    .dataframe thead th {\n        text-align: right;\n    }\n</style>\n<table border=\"1\" class=\"dataframe\">\n  <thead>\n    <tr style=\"text-align: right;\">\n      <th></th>\n      <th>Restaurant Name</th>\n      <th>Restaurant Type</th>\n      <th>Cuisine Type</th>\n      <th>Restaurant Area</th>\n      <th>Restaurant Address</th>\n      <th>Restaurant Rating</th>\n      <th>Review Counts</th>\n      <th>Price for 2</th>\n      <th>Additional Info</th>\n      <th>Latitude</th>\n      <th>Longitude</th>\n      <th>Website</th>\n    </tr>\n  </thead>\n  <tbody>\n    <tr>\n      <th>0</th>\n      <td>Holy Smokes</td>\n      <td>Casual Dining</td>\n      <td>['Grill House', 'Steak']</td>\n      <td>Senopati</td>\n      <td>Jl. Wolter Monginsidi No. 27, Senopati, Jakarta</td>\n      <td>4.4</td>\n      <td>1,437 Ulasan</td>\n      <td>Rp500.000 untuk 2 orang (perkiraan)Tanpa alkohol</td>\n      <td>['Hanya Wine dan Bir', 'Di dalam ruangan', 'Wi...</td>\n      <td>-6.2391432684</td>\n      <td>106.807954162</td>\n      <td>https://www.zomato.com/id/jakarta/holy-smokes-...</td>\n    </tr>\n    <tr>\n      <th>1</th>\n      <td>Pempek Megaria</td>\n      <td>Quick Bites</td>\n      <td>['Palembang']</td>\n      <td>Cikini</td>\n      <td>Metropole 21, Jl. Pegangsaan Timur No. 21, Cik...</td>\n      <td>4.3</td>\n      <td>461 Ulasan</td>\n      <td>Rp70.000 untuk 2 orang (perkiraan)</td>\n      <td>['Bawa Pulang Tersedia', 'Di dalam ruangan']</td>\n      <td>-6.1999000000</td>\n      <td>106.843739000</td>\n      <td>https://www.zomato.com/id/jakarta/pempek-megar...</td>\n    </tr>\n    <tr>\n      <th>2</th>\n      <td>Tjikinii Lima</td>\n      <td>Casual Dining</td>\n      <td>['Barat', 'Indonesia']</td>\n      <td>Cikini</td>\n      <td>Jl. Cikini I No. 5, Cikini, Jakarta 10330</td>\n      <td>4.0</td>\n      <td>391 Ulasan</td>\n      <td>Rp300.000 untuk 2 orang (perkiraan)</td>\n      <td>['Bawa Pulang Tersedia', 'Area Merokok', 'Temp...</td>\n      <td>-6.1898019937</td>\n      <td>106.837150007</td>\n      <td>https://www.zomato.com/id/jakarta/tjikinii-lim...</td>\n    </tr>\n    <tr>\n      <th>3</th>\n      <td>Gado-Gado Bon-Bin</td>\n      <td>Quick Bites</td>\n      <td>['Jawa']</td>\n      <td>Cikini</td>\n      <td>Jl. Cikini 4 No. 5, Cikini, Jakarta</td>\n      <td>4.0</td>\n      <td>177 Ulasan</td>\n      <td>Rp90.000 untuk 2 orang (perkiraan)</td>\n      <td>['Bawa Pulang Tersedia', 'Di dalam ruangan']</td>\n      <td>-6.1929590000</td>\n      <td>106.838377000</td>\n      <td>https://www.zomato.com/id/jakarta/gado-gado-bo...</td>\n    </tr>\n    <tr>\n      <th>4</th>\n      <td>Koffie Fictie</td>\n      <td>Kafe</td>\n      <td>['Kopi']</td>\n      <td>Bekasi Selatan</td>\n      <td>Grand Galaxy Park, Ruko RSOD No. 026, Jl. Lotu...</td>\n      <td>Not Rated Yet</td>\n      <td>TIdak cukup Ulasan</td>\n      <td>Rp100.000 untuk 2 orang (perkiraan)</td>\n      <td>['Bawa Pulang Tersedia', 'Di dalam ruangan']</td>\n      <td>-6.2720590000</td>\n      <td>106.970932000</td>\n      <td>https://www.zomato.com/id/jakarta/koffie-ficti...</td>\n    </tr>\n  </tbody>\n</table>\n</div>"
     },
     "metadata": {},
     "execution_count": 222
    }
   ],
   "source": [
    "rdf_fullnd.head()"
   ]
  },
  {
   "cell_type": "code",
   "execution_count": 121,
   "metadata": {},
   "outputs": [
    {
     "output_type": "execute_result",
     "data": {
      "text/plain": "                   Restaurant Name  \\\n0    Siomay Batagor Satya Tenggiri   \n1                Sop & Bakmi Paton   \n2                        Mee_Oowfè   \n3          Turn On Coffee & Eatery   \n4       One More Shot Coffee House   \n..                             ...   \n339                    Hanna Bakes   \n340                  Kedai Kopi GG   \n341       Paladin Coffee + Kitchen   \n342               Hokkaido Izakaya   \n343                Sepiring Padang   \n\n                                       Additional Info  \\\n0                               ['No Additional Info']   \n1                               ['No Additional Info']   \n2    ['', '', '', 'Bawa Pulang Tersedia', 'Di dalam...   \n3    ['Bawa Pulang Tersedia', 'Hanya Bir', 'Tempat ...   \n4    ['Bawa Pulang Tersedia', 'Tempat duduk di luar...   \n..                                                 ...   \n339                               [No Additional Info]   \n340  [Bawa Pulang Tersedia, Di dalam ruangan, Wifi ...   \n341  [, , , , , , , , Sarapan, Bawa Pulang Tersedia...   \n342  [Pesan Antar, Bawa Pulang Tersedia, Hanya Wine...   \n343  [Pesan Antar, Bawa Pulang Tersedia, Wifi Terse...   \n\n                                               Website  \\\n0    https://www.zomato.com/id/jakarta/siomay-batag...   \n1    https://www.zomato.com/id/jakarta/sop-bakmi-pa...   \n2    https://www.zomato.com/id/jakarta/mee-oowfè-2-...   \n3    https://www.zomato.com/id/jakarta/turn-on-coff...   \n4    https://www.zomato.com/id/jakarta/one-more-sho...   \n..                                                 ...   \n339  https://www.zomato.com/id/jakarta/hanna-bakes-...   \n340  https://www.zomato.com/id/jakarta/kedai-kopi-g...   \n341  https://www.zomato.com/id/jakarta/paladin-coff...   \n342  https://www.zomato.com/id/jakarta/hokkaido-iza...   \n343  https://www.zomato.com/id/jakarta/sepiring-pad...   \n\n                                    Restaurant Address  \n0                                                  NaN  \n1                                                  NaN  \n2                                                  NaN  \n3                                                  NaN  \n4                                                  NaN  \n..                                                 ...  \n339  Jl. Pegangsaan Indah Bar. No.7, RT.2/RW.16, Pe...  \n340  Foresta Business Loft 5, Jl. BSD Boulevard Uta...  \n341                                                     \n342  Pavilion Retail Arcade, Lantai Dasar, Jl. K.H....  \n343  Jl. Boulevard Raya, Blok QF 1 No. 1, Kelapa Ga...  \n\n[344 rows x 4 columns]",
      "text/html": "<div>\n<style scoped>\n    .dataframe tbody tr th:only-of-type {\n        vertical-align: middle;\n    }\n\n    .dataframe tbody tr th {\n        vertical-align: top;\n    }\n\n    .dataframe thead th {\n        text-align: right;\n    }\n</style>\n<table border=\"1\" class=\"dataframe\">\n  <thead>\n    <tr style=\"text-align: right;\">\n      <th></th>\n      <th>Restaurant Name</th>\n      <th>Additional Info</th>\n      <th>Website</th>\n      <th>Restaurant Address</th>\n    </tr>\n  </thead>\n  <tbody>\n    <tr>\n      <th>0</th>\n      <td>Siomay Batagor Satya Tenggiri</td>\n      <td>['No Additional Info']</td>\n      <td>https://www.zomato.com/id/jakarta/siomay-batag...</td>\n      <td>NaN</td>\n    </tr>\n    <tr>\n      <th>1</th>\n      <td>Sop &amp; Bakmi Paton</td>\n      <td>['No Additional Info']</td>\n      <td>https://www.zomato.com/id/jakarta/sop-bakmi-pa...</td>\n      <td>NaN</td>\n    </tr>\n    <tr>\n      <th>2</th>\n      <td>Mee_Oowfè</td>\n      <td>['', '', '', 'Bawa Pulang Tersedia', 'Di dalam...</td>\n      <td>https://www.zomato.com/id/jakarta/mee-oowfè-2-...</td>\n      <td>NaN</td>\n    </tr>\n    <tr>\n      <th>3</th>\n      <td>Turn On Coffee &amp; Eatery</td>\n      <td>['Bawa Pulang Tersedia', 'Hanya Bir', 'Tempat ...</td>\n      <td>https://www.zomato.com/id/jakarta/turn-on-coff...</td>\n      <td>NaN</td>\n    </tr>\n    <tr>\n      <th>4</th>\n      <td>One More Shot Coffee House</td>\n      <td>['Bawa Pulang Tersedia', 'Tempat duduk di luar...</td>\n      <td>https://www.zomato.com/id/jakarta/one-more-sho...</td>\n      <td>NaN</td>\n    </tr>\n    <tr>\n      <th>...</th>\n      <td>...</td>\n      <td>...</td>\n      <td>...</td>\n      <td>...</td>\n    </tr>\n    <tr>\n      <th>339</th>\n      <td>Hanna Bakes</td>\n      <td>[No Additional Info]</td>\n      <td>https://www.zomato.com/id/jakarta/hanna-bakes-...</td>\n      <td>Jl. Pegangsaan Indah Bar. No.7, RT.2/RW.16, Pe...</td>\n    </tr>\n    <tr>\n      <th>340</th>\n      <td>Kedai Kopi GG</td>\n      <td>[Bawa Pulang Tersedia, Di dalam ruangan, Wifi ...</td>\n      <td>https://www.zomato.com/id/jakarta/kedai-kopi-g...</td>\n      <td>Foresta Business Loft 5, Jl. BSD Boulevard Uta...</td>\n    </tr>\n    <tr>\n      <th>341</th>\n      <td>Paladin Coffee + Kitchen</td>\n      <td>[, , , , , , , , Sarapan, Bawa Pulang Tersedia...</td>\n      <td>https://www.zomato.com/id/jakarta/paladin-coff...</td>\n      <td></td>\n    </tr>\n    <tr>\n      <th>342</th>\n      <td>Hokkaido Izakaya</td>\n      <td>[Pesan Antar, Bawa Pulang Tersedia, Hanya Wine...</td>\n      <td>https://www.zomato.com/id/jakarta/hokkaido-iza...</td>\n      <td>Pavilion Retail Arcade, Lantai Dasar, Jl. K.H....</td>\n    </tr>\n    <tr>\n      <th>343</th>\n      <td>Sepiring Padang</td>\n      <td>[Pesan Antar, Bawa Pulang Tersedia, Wifi Terse...</td>\n      <td>https://www.zomato.com/id/jakarta/sepiring-pad...</td>\n      <td>Jl. Boulevard Raya, Blok QF 1 No. 1, Kelapa Ga...</td>\n    </tr>\n  </tbody>\n</table>\n<p>344 rows × 4 columns</p>\n</div>"
     },
     "metadata": {},
     "execution_count": 121
    }
   ],
   "source": [
    "rdfscrape3"
   ]
  },
  {
   "cell_type": "code",
   "execution_count": 122,
   "metadata": {},
   "outputs": [
    {
     "output_type": "execute_result",
     "data": {
      "text/plain": "                 Restaurant Name  \\\n0                  Tenterem Cafe   \n1               Indah Seafood 94   \n2                        Mama-Do   \n3    DÉJÀ VU Resto - Delua Hotel   \n4       Tahu Gejrot & Rujak Buah   \n..                           ...   \n196             Nasi Goreng Jaya   \n197                   BarBarRibs   \n198                    K-Kitchen   \n199       Nock Nock Cafe & Resto   \n200                  Hanna Bakes   \n\n                                       Additional Info  \\\n0                               ['No Additional Info']   \n1                               ['No Additional Info']   \n2    ['Bawa Pulang Tersedia', 'Di dalam ruangan', '...   \n3    ['Bawa Pulang Tersedia', 'Hanya Bir', 'Tempat ...   \n4    ['Bawa Pulang Tersedia', 'Tempat duduk di luar...   \n..                                                 ...   \n196  ['Hanya Bir', 'Wifi Tersedia', 'Reservasi meja...   \n197  ['Pesan Antar', 'Bawa Pulang Tersedia', 'Alkoh...   \n198  ['', '', '', '', '', '', '', 'Sarapan', 'Pesan...   \n199  ['Bawa Pulang Tersedia', 'Alkohol Tersedia', '...   \n200  ['', '', '', '', 'Pesan Antar', 'Bawa Pulang T...   \n\n                                               Website  \\\n0    https://www.zomato.com/id/jakarta/tenterem-caf...   \n1    https://www.zomato.com/id/jakarta/indah-seafoo...   \n2    https://www.zomato.com/id/jakarta/mama-do-1-pu...   \n3    https://www.zomato.com/id/jakarta/déjà-vu-rest...   \n4    https://www.zomato.com/id/jakarta/tahu-gejrot-...   \n..                                                 ...   \n196  https://www.zomato.com/id/jakarta/nasi-goreng-...   \n197  https://www.zomato.com/id/jakarta/barbarribs-k...   \n198  https://www.zomato.com/id/jakarta/k-kitchen-se...   \n199  https://www.zomato.com/id/jakarta/nock-nock-ca...   \n200  https://www.zomato.com/id/jakarta/hanna-bakes-...   \n\n                                    Restaurant Address  \\\n0    Taman Mini Indonesia Indah, Jl. Taman Prasasti...   \n1    Gading Festival, Jl. Pegangsaan, Blok S No. 17...   \n2    Taman Kuliner Kayuputih, Jl. Kayu Putih Tengah...   \n3    Delua Hotel, Jl. Mangga Besar Raya No. 82, Man...   \n4    Mall Artha Gading, Lantai 2, West Food Court,J...   \n..                                                 ...   \n196        Jl. H. Ten Raya No. 27, Pulogadung, Jakarta   \n197  Mahaka Square, Lantai Ground, Jl. Kelapa Nias ...   \n198  Senayan City, Lantai 5, Delicaé, Jl. Asia Afri...   \n199  Mall of Indonesia, Rukan Resort City Home, Blo...   \n200  Jl. Pegangsaan Indah Bar. No.7, RT.2/RW.16, Pe...   \n\n                                          Price for 2  \n0                  Rp70.000 untuk 2 orang (perkiraan)  \n1                 Rp150.000 untuk 2 orang (perkiraan)  \n2                  Rp70.000 untuk 2 orang (perkiraan)  \n3                 Rp200.000 untuk 2 orang (perkiraan)  \n4                  Rp50.000 untuk 2 orang (perkiraan)  \n..                                                ...  \n196                Rp80.000 untuk 2 orang (perkiraan)  \n197  Rp250.000 untuk 2 orang (perkiraan)Tanpa alkohol  \n198               Rp150.000 untuk 2 orang (perkiraan)  \n199               Rp120.000 untuk 2 orang (perkiraan)  \n200                               No Price Data Found  \n\n[201 rows x 5 columns]",
      "text/html": "<div>\n<style scoped>\n    .dataframe tbody tr th:only-of-type {\n        vertical-align: middle;\n    }\n\n    .dataframe tbody tr th {\n        vertical-align: top;\n    }\n\n    .dataframe thead th {\n        text-align: right;\n    }\n</style>\n<table border=\"1\" class=\"dataframe\">\n  <thead>\n    <tr style=\"text-align: right;\">\n      <th></th>\n      <th>Restaurant Name</th>\n      <th>Additional Info</th>\n      <th>Website</th>\n      <th>Restaurant Address</th>\n      <th>Price for 2</th>\n    </tr>\n  </thead>\n  <tbody>\n    <tr>\n      <th>0</th>\n      <td>Tenterem Cafe</td>\n      <td>['No Additional Info']</td>\n      <td>https://www.zomato.com/id/jakarta/tenterem-caf...</td>\n      <td>Taman Mini Indonesia Indah, Jl. Taman Prasasti...</td>\n      <td>Rp70.000 untuk 2 orang (perkiraan)</td>\n    </tr>\n    <tr>\n      <th>1</th>\n      <td>Indah Seafood 94</td>\n      <td>['No Additional Info']</td>\n      <td>https://www.zomato.com/id/jakarta/indah-seafoo...</td>\n      <td>Gading Festival, Jl. Pegangsaan, Blok S No. 17...</td>\n      <td>Rp150.000 untuk 2 orang (perkiraan)</td>\n    </tr>\n    <tr>\n      <th>2</th>\n      <td>Mama-Do</td>\n      <td>['Bawa Pulang Tersedia', 'Di dalam ruangan', '...</td>\n      <td>https://www.zomato.com/id/jakarta/mama-do-1-pu...</td>\n      <td>Taman Kuliner Kayuputih, Jl. Kayu Putih Tengah...</td>\n      <td>Rp70.000 untuk 2 orang (perkiraan)</td>\n    </tr>\n    <tr>\n      <th>3</th>\n      <td>DÉJÀ VU Resto - Delua Hotel</td>\n      <td>['Bawa Pulang Tersedia', 'Hanya Bir', 'Tempat ...</td>\n      <td>https://www.zomato.com/id/jakarta/déjà-vu-rest...</td>\n      <td>Delua Hotel, Jl. Mangga Besar Raya No. 82, Man...</td>\n      <td>Rp200.000 untuk 2 orang (perkiraan)</td>\n    </tr>\n    <tr>\n      <th>4</th>\n      <td>Tahu Gejrot &amp; Rujak Buah</td>\n      <td>['Bawa Pulang Tersedia', 'Tempat duduk di luar...</td>\n      <td>https://www.zomato.com/id/jakarta/tahu-gejrot-...</td>\n      <td>Mall Artha Gading, Lantai 2, West Food Court,J...</td>\n      <td>Rp50.000 untuk 2 orang (perkiraan)</td>\n    </tr>\n    <tr>\n      <th>...</th>\n      <td>...</td>\n      <td>...</td>\n      <td>...</td>\n      <td>...</td>\n      <td>...</td>\n    </tr>\n    <tr>\n      <th>196</th>\n      <td>Nasi Goreng Jaya</td>\n      <td>['Hanya Bir', 'Wifi Tersedia', 'Reservasi meja...</td>\n      <td>https://www.zomato.com/id/jakarta/nasi-goreng-...</td>\n      <td>Jl. H. Ten Raya No. 27, Pulogadung, Jakarta</td>\n      <td>Rp80.000 untuk 2 orang (perkiraan)</td>\n    </tr>\n    <tr>\n      <th>197</th>\n      <td>BarBarRibs</td>\n      <td>['Pesan Antar', 'Bawa Pulang Tersedia', 'Alkoh...</td>\n      <td>https://www.zomato.com/id/jakarta/barbarribs-k...</td>\n      <td>Mahaka Square, Lantai Ground, Jl. Kelapa Nias ...</td>\n      <td>Rp250.000 untuk 2 orang (perkiraan)Tanpa alkohol</td>\n    </tr>\n    <tr>\n      <th>198</th>\n      <td>K-Kitchen</td>\n      <td>['', '', '', '', '', '', '', 'Sarapan', 'Pesan...</td>\n      <td>https://www.zomato.com/id/jakarta/k-kitchen-se...</td>\n      <td>Senayan City, Lantai 5, Delicaé, Jl. Asia Afri...</td>\n      <td>Rp150.000 untuk 2 orang (perkiraan)</td>\n    </tr>\n    <tr>\n      <th>199</th>\n      <td>Nock Nock Cafe &amp; Resto</td>\n      <td>['Bawa Pulang Tersedia', 'Alkohol Tersedia', '...</td>\n      <td>https://www.zomato.com/id/jakarta/nock-nock-ca...</td>\n      <td>Mall of Indonesia, Rukan Resort City Home, Blo...</td>\n      <td>Rp120.000 untuk 2 orang (perkiraan)</td>\n    </tr>\n    <tr>\n      <th>200</th>\n      <td>Hanna Bakes</td>\n      <td>['', '', '', '', 'Pesan Antar', 'Bawa Pulang T...</td>\n      <td>https://www.zomato.com/id/jakarta/hanna-bakes-...</td>\n      <td>Jl. Pegangsaan Indah Bar. No.7, RT.2/RW.16, Pe...</td>\n      <td>No Price Data Found</td>\n    </tr>\n  </tbody>\n</table>\n<p>201 rows × 5 columns</p>\n</div>"
     },
     "metadata": {},
     "execution_count": 122
    }
   ],
   "source": [
    "rdfs_full2"
   ]
  },
  {
   "cell_type": "code",
   "execution_count": 123,
   "metadata": {},
   "outputs": [],
   "source": [
    "condition_1 = rdf_fullnd['Restaurant Address'].isna()"
   ]
  },
  {
   "cell_type": "code",
   "execution_count": 124,
   "metadata": {},
   "outputs": [
    {
     "output_type": "execute_result",
     "data": {
      "text/plain": "                      Restaurant Name Restaurant Type  \\\n1201                 Indah Seafood 94      Food Court   \n1219                          Mama-Do      Food Court   \n1240      DÉJÀ VU Resto - Delua Hotel   Casual Dining   \n1556         Tahu Gejrot & Rujak Buah      Food Court   \n1599   Republik Nasi Lemak Khas Medan      Food Court   \n...                               ...             ...   \n11109                 Tasty Ala Untar     Quick Bites   \n11116                Nasi Goreng Jaya     Quick Bites   \n11124                      BarBarRibs   Casual Dining   \n11128                       K-Kitchen      Food Court   \n11183          Nock Nock Cafe & Resto     Quick Bites   \n\n                           Cuisine Type Restaurant Area Restaurant Address  \\\n1201                        ['Seafood']   Kelapa Gading                NaN   \n1219                         ['Manado']     Pulo Gadung                NaN   \n1240             ['Indonesia', 'Barat']    Mangga Besar                NaN   \n1556   ['Makanan Jalanan', 'Indonesia']   Kelapa Gading                NaN   \n1599                      ['Indonesia']            SCBD                NaN   \n...                                 ...             ...                ...   \n11109                       ['Chinese']   Serpong Utara                NaN   \n11116                       ['Chinese']     Pulo Gadung                NaN   \n11124                         ['Steak']   Kelapa Gading                NaN   \n11128                         ['Korea']         Senayan                NaN   \n11183                     ['Indonesia']   Kelapa Gading                NaN   \n\n      Restaurant Rating       Review Counts Price for 2       Additional Info  \\\n1201      Not Rated Yet  TIdak cukup Ulasan         NaN              ['', '']   \n1219      Not Rated Yet  TIdak cukup Ulasan         NaN              ['', '']   \n1240      Not Rated Yet  TIdak cukup Ulasan         NaN          ['', '', '']   \n1556      Not Rated Yet  TIdak cukup Ulasan         NaN          ['', '', '']   \n1599      Not Rated Yet  TIdak cukup Ulasan         NaN              ['', '']   \n...                 ...                 ...         ...                   ...   \n11109     Not Rated Yet  TIdak cukup Ulasan         NaN              ['', '']   \n11116     Not Rated Yet  TIdak cukup Ulasan         NaN              ['', '']   \n11124               3.7           41 Ulasan         NaN  ['', '', '', '', '']   \n11128               3.8          265 Ulasan         NaN              ['', '']   \n11183               2.3           13 Ulasan         NaN          ['', '', '']   \n\n            Latitude      Longitude  \\\n1201   -6.1701543248  106.924605108   \n1219   -6.1830380000  106.891640000   \n1240   -6.1488740000  106.825881000   \n1556   -6.1464234204  106.891523748   \n1599   -6.2267587224  106.811620071   \n...              ...            ...   \n11109  -6.2381040000  106.629841000   \n11116  -6.1894180071  106.877879016   \n11124  -6.1494060000  106.903117000   \n11128  -6.2269760327  106.796928606   \n11183  -6.1517729750  106.891749724   \n\n                                                 Website  \n1201   https://www.zomato.com/id/jakarta/indah-seafoo...  \n1219   https://www.zomato.com/id/jakarta/mama-do-1-pu...  \n1240   https://www.zomato.com/id/jakarta/déjà-vu-rest...  \n1556   https://www.zomato.com/id/jakarta/tahu-gejrot-...  \n1599   https://www.zomato.com/id/jakarta/republik-nas...  \n...                                                  ...  \n11109  https://www.zomato.com/id/jakarta/tasty-ala-un...  \n11116  https://www.zomato.com/id/jakarta/nasi-goreng-...  \n11124  https://www.zomato.com/id/jakarta/barbarribs-k...  \n11128  https://www.zomato.com/id/jakarta/k-kitchen-se...  \n11183  https://www.zomato.com/id/jakarta/nock-nock-ca...  \n\n[83 rows x 12 columns]",
      "text/html": "<div>\n<style scoped>\n    .dataframe tbody tr th:only-of-type {\n        vertical-align: middle;\n    }\n\n    .dataframe tbody tr th {\n        vertical-align: top;\n    }\n\n    .dataframe thead th {\n        text-align: right;\n    }\n</style>\n<table border=\"1\" class=\"dataframe\">\n  <thead>\n    <tr style=\"text-align: right;\">\n      <th></th>\n      <th>Restaurant Name</th>\n      <th>Restaurant Type</th>\n      <th>Cuisine Type</th>\n      <th>Restaurant Area</th>\n      <th>Restaurant Address</th>\n      <th>Restaurant Rating</th>\n      <th>Review Counts</th>\n      <th>Price for 2</th>\n      <th>Additional Info</th>\n      <th>Latitude</th>\n      <th>Longitude</th>\n      <th>Website</th>\n    </tr>\n  </thead>\n  <tbody>\n    <tr>\n      <th>1201</th>\n      <td>Indah Seafood 94</td>\n      <td>Food Court</td>\n      <td>['Seafood']</td>\n      <td>Kelapa Gading</td>\n      <td>NaN</td>\n      <td>Not Rated Yet</td>\n      <td>TIdak cukup Ulasan</td>\n      <td>NaN</td>\n      <td>['', '']</td>\n      <td>-6.1701543248</td>\n      <td>106.924605108</td>\n      <td>https://www.zomato.com/id/jakarta/indah-seafoo...</td>\n    </tr>\n    <tr>\n      <th>1219</th>\n      <td>Mama-Do</td>\n      <td>Food Court</td>\n      <td>['Manado']</td>\n      <td>Pulo Gadung</td>\n      <td>NaN</td>\n      <td>Not Rated Yet</td>\n      <td>TIdak cukup Ulasan</td>\n      <td>NaN</td>\n      <td>['', '']</td>\n      <td>-6.1830380000</td>\n      <td>106.891640000</td>\n      <td>https://www.zomato.com/id/jakarta/mama-do-1-pu...</td>\n    </tr>\n    <tr>\n      <th>1240</th>\n      <td>DÉJÀ VU Resto - Delua Hotel</td>\n      <td>Casual Dining</td>\n      <td>['Indonesia', 'Barat']</td>\n      <td>Mangga Besar</td>\n      <td>NaN</td>\n      <td>Not Rated Yet</td>\n      <td>TIdak cukup Ulasan</td>\n      <td>NaN</td>\n      <td>['', '', '']</td>\n      <td>-6.1488740000</td>\n      <td>106.825881000</td>\n      <td>https://www.zomato.com/id/jakarta/déjà-vu-rest...</td>\n    </tr>\n    <tr>\n      <th>1556</th>\n      <td>Tahu Gejrot &amp; Rujak Buah</td>\n      <td>Food Court</td>\n      <td>['Makanan Jalanan', 'Indonesia']</td>\n      <td>Kelapa Gading</td>\n      <td>NaN</td>\n      <td>Not Rated Yet</td>\n      <td>TIdak cukup Ulasan</td>\n      <td>NaN</td>\n      <td>['', '', '']</td>\n      <td>-6.1464234204</td>\n      <td>106.891523748</td>\n      <td>https://www.zomato.com/id/jakarta/tahu-gejrot-...</td>\n    </tr>\n    <tr>\n      <th>1599</th>\n      <td>Republik Nasi Lemak Khas Medan</td>\n      <td>Food Court</td>\n      <td>['Indonesia']</td>\n      <td>SCBD</td>\n      <td>NaN</td>\n      <td>Not Rated Yet</td>\n      <td>TIdak cukup Ulasan</td>\n      <td>NaN</td>\n      <td>['', '']</td>\n      <td>-6.2267587224</td>\n      <td>106.811620071</td>\n      <td>https://www.zomato.com/id/jakarta/republik-nas...</td>\n    </tr>\n    <tr>\n      <th>...</th>\n      <td>...</td>\n      <td>...</td>\n      <td>...</td>\n      <td>...</td>\n      <td>...</td>\n      <td>...</td>\n      <td>...</td>\n      <td>...</td>\n      <td>...</td>\n      <td>...</td>\n      <td>...</td>\n      <td>...</td>\n    </tr>\n    <tr>\n      <th>11109</th>\n      <td>Tasty Ala Untar</td>\n      <td>Quick Bites</td>\n      <td>['Chinese']</td>\n      <td>Serpong Utara</td>\n      <td>NaN</td>\n      <td>Not Rated Yet</td>\n      <td>TIdak cukup Ulasan</td>\n      <td>NaN</td>\n      <td>['', '']</td>\n      <td>-6.2381040000</td>\n      <td>106.629841000</td>\n      <td>https://www.zomato.com/id/jakarta/tasty-ala-un...</td>\n    </tr>\n    <tr>\n      <th>11116</th>\n      <td>Nasi Goreng Jaya</td>\n      <td>Quick Bites</td>\n      <td>['Chinese']</td>\n      <td>Pulo Gadung</td>\n      <td>NaN</td>\n      <td>Not Rated Yet</td>\n      <td>TIdak cukup Ulasan</td>\n      <td>NaN</td>\n      <td>['', '']</td>\n      <td>-6.1894180071</td>\n      <td>106.877879016</td>\n      <td>https://www.zomato.com/id/jakarta/nasi-goreng-...</td>\n    </tr>\n    <tr>\n      <th>11124</th>\n      <td>BarBarRibs</td>\n      <td>Casual Dining</td>\n      <td>['Steak']</td>\n      <td>Kelapa Gading</td>\n      <td>NaN</td>\n      <td>3.7</td>\n      <td>41 Ulasan</td>\n      <td>NaN</td>\n      <td>['', '', '', '', '']</td>\n      <td>-6.1494060000</td>\n      <td>106.903117000</td>\n      <td>https://www.zomato.com/id/jakarta/barbarribs-k...</td>\n    </tr>\n    <tr>\n      <th>11128</th>\n      <td>K-Kitchen</td>\n      <td>Food Court</td>\n      <td>['Korea']</td>\n      <td>Senayan</td>\n      <td>NaN</td>\n      <td>3.8</td>\n      <td>265 Ulasan</td>\n      <td>NaN</td>\n      <td>['', '']</td>\n      <td>-6.2269760327</td>\n      <td>106.796928606</td>\n      <td>https://www.zomato.com/id/jakarta/k-kitchen-se...</td>\n    </tr>\n    <tr>\n      <th>11183</th>\n      <td>Nock Nock Cafe &amp; Resto</td>\n      <td>Quick Bites</td>\n      <td>['Indonesia']</td>\n      <td>Kelapa Gading</td>\n      <td>NaN</td>\n      <td>2.3</td>\n      <td>13 Ulasan</td>\n      <td>NaN</td>\n      <td>['', '', '']</td>\n      <td>-6.1517729750</td>\n      <td>106.891749724</td>\n      <td>https://www.zomato.com/id/jakarta/nock-nock-ca...</td>\n    </tr>\n  </tbody>\n</table>\n<p>83 rows × 12 columns</p>\n</div>"
     },
     "metadata": {},
     "execution_count": 124
    }
   ],
   "source": [
    "rdf_fullnd[condition_1]"
   ]
  },
  {
   "cell_type": "code",
   "execution_count": 125,
   "metadata": {},
   "outputs": [
    {
     "output_type": "execute_result",
     "data": {
      "text/plain": "0        Rp\n1        Rp\n2        Rp\n3        Rp\n4        Rp\n         ..\n11262    Rp\n11263    Rp\n11264    Rp\n11265    Rp\n11266    Rp\nName: Price for 2, Length: 11267, dtype: object"
     },
     "metadata": {},
     "execution_count": 125
    }
   ],
   "source": [
    "price_for_2_check = rdf_fullnd['Price for 2'].str.slice(0,2)\n",
    "price_for_2_check"
   ]
  },
  {
   "cell_type": "code",
   "execution_count": 126,
   "metadata": {},
   "outputs": [
    {
     "output_type": "execute_result",
     "data": {
      "text/plain": "201"
     },
     "metadata": {},
     "execution_count": 126
    }
   ],
   "source": [
    "sum(~((price_for_2_check == 'Rp') | (price_for_2_check == 'No')))"
   ]
  },
  {
   "cell_type": "code",
   "execution_count": 127,
   "metadata": {},
   "outputs": [],
   "source": [
    "condition_2 = ~((price_for_2_check == 'Rp') | (price_for_2_check == 'No'))"
   ]
  },
  {
   "cell_type": "code",
   "execution_count": 140,
   "metadata": {},
   "outputs": [
    {
     "output_type": "execute_result",
     "data": {
      "text/plain": "                   Restaurant Name  Restaurant Type  \\\n968                  Tenterem Cafe      Quick Bites   \n1201              Indah Seafood 94       Food Court   \n1219                       Mama-Do       Food Court   \n1240   DÉJÀ VU Resto - Delua Hotel    Casual Dining   \n1556      Tahu Gejrot & Rujak Buah       Food Court   \n...                            ...              ...   \n11116             Nasi Goreng Jaya      Quick Bites   \n11124                   BarBarRibs    Casual Dining   \n11128                    K-Kitchen       Food Court   \n11183       Nock Nock Cafe & Resto      Quick Bites   \n11215                  Hanna Bakes  Toko Kue & Roti   \n\n                           Cuisine Type Restaurant Area  \\\n968                       ['Indonesia']      Taman Mini   \n1201                        ['Seafood']   Kelapa Gading   \n1219                         ['Manado']     Pulo Gadung   \n1240             ['Indonesia', 'Barat']    Mangga Besar   \n1556   ['Makanan Jalanan', 'Indonesia']   Kelapa Gading   \n...                                 ...             ...   \n11116                       ['Chinese']     Pulo Gadung   \n11124                         ['Steak']   Kelapa Gading   \n11128                         ['Korea']         Senayan   \n11183                     ['Indonesia']   Kelapa Gading   \n11215        ['Kue & Roti', 'Desserts']   Kelapa Gading   \n\n                                      Restaurant Address Restaurant Rating  \\\n968    Taman Mini Indonesia Indah, Jl. Taman Prasasti...     Not Rated Yet   \n1201                                                 NaN     Not Rated Yet   \n1219                                                 NaN     Not Rated Yet   \n1240                                                 NaN     Not Rated Yet   \n1556                                                 NaN     Not Rated Yet   \n...                                                  ...               ...   \n11116                                                NaN     Not Rated Yet   \n11124                                                NaN               3.7   \n11128                                                NaN               3.8   \n11183                                                NaN               2.3   \n11215  Jl. Pegangsaan Indah Bar. No.7, RT.2/RW.16, Pe...     Not Rated Yet   \n\n            Review Counts                                        Price for 2  \\\n968    TIdak cukup Ulasan  Cafe, photography studio and salon nearby Tama...   \n1201   TIdak cukup Ulasan                                                NaN   \n1219   TIdak cukup Ulasan                                                NaN   \n1240   TIdak cukup Ulasan                                                NaN   \n1556   TIdak cukup Ulasan                                                NaN   \n...                   ...                                                ...   \n11116  TIdak cukup Ulasan                                                NaN   \n11124           41 Ulasan                                                NaN   \n11128          265 Ulasan                                                NaN   \n11183           13 Ulasan                                                NaN   \n11215    Not Reviewed Yet                              Need to rerun browser   \n\n                                         Additional Info       Latitude  \\\n968    ['Bawa Pulang Tersedia', 'Di dalam ruangan', '...  -6.3001420000   \n1201                                            ['', '']  -6.1701543248   \n1219                                            ['', '']  -6.1830380000   \n1240                                        ['', '', '']  -6.1488740000   \n1556                                        ['', '', '']  -6.1464234204   \n...                                                  ...            ...   \n11116                                           ['', '']  -6.1894180071   \n11124                               ['', '', '', '', '']  -6.1494060000   \n11128                                           ['', '']  -6.2269760327   \n11183                                       ['', '', '']  -6.1517729750   \n11215                                                 []  -6.1685020000   \n\n           Longitude                                            Website  \n968    106.890422000  https://www.zomato.com/id/jakarta/tenterem-caf...  \n1201   106.924605108  https://www.zomato.com/id/jakarta/indah-seafoo...  \n1219   106.891640000  https://www.zomato.com/id/jakarta/mama-do-1-pu...  \n1240   106.825881000  https://www.zomato.com/id/jakarta/déjà-vu-rest...  \n1556   106.891523748  https://www.zomato.com/id/jakarta/tahu-gejrot-...  \n...              ...                                                ...  \n11116  106.877879016  https://www.zomato.com/id/jakarta/nasi-goreng-...  \n11124  106.903117000  https://www.zomato.com/id/jakarta/barbarribs-k...  \n11128  106.796928606  https://www.zomato.com/id/jakarta/k-kitchen-se...  \n11183  106.891749724  https://www.zomato.com/id/jakarta/nock-nock-ca...  \n11215  106.915511000  https://www.zomato.com/id/jakarta/hanna-bakes-...  \n\n[201 rows x 12 columns]",
      "text/html": "<div>\n<style scoped>\n    .dataframe tbody tr th:only-of-type {\n        vertical-align: middle;\n    }\n\n    .dataframe tbody tr th {\n        vertical-align: top;\n    }\n\n    .dataframe thead th {\n        text-align: right;\n    }\n</style>\n<table border=\"1\" class=\"dataframe\">\n  <thead>\n    <tr style=\"text-align: right;\">\n      <th></th>\n      <th>Restaurant Name</th>\n      <th>Restaurant Type</th>\n      <th>Cuisine Type</th>\n      <th>Restaurant Area</th>\n      <th>Restaurant Address</th>\n      <th>Restaurant Rating</th>\n      <th>Review Counts</th>\n      <th>Price for 2</th>\n      <th>Additional Info</th>\n      <th>Latitude</th>\n      <th>Longitude</th>\n      <th>Website</th>\n    </tr>\n  </thead>\n  <tbody>\n    <tr>\n      <th>968</th>\n      <td>Tenterem Cafe</td>\n      <td>Quick Bites</td>\n      <td>['Indonesia']</td>\n      <td>Taman Mini</td>\n      <td>Taman Mini Indonesia Indah, Jl. Taman Prasasti...</td>\n      <td>Not Rated Yet</td>\n      <td>TIdak cukup Ulasan</td>\n      <td>Cafe, photography studio and salon nearby Tama...</td>\n      <td>['Bawa Pulang Tersedia', 'Di dalam ruangan', '...</td>\n      <td>-6.3001420000</td>\n      <td>106.890422000</td>\n      <td>https://www.zomato.com/id/jakarta/tenterem-caf...</td>\n    </tr>\n    <tr>\n      <th>1201</th>\n      <td>Indah Seafood 94</td>\n      <td>Food Court</td>\n      <td>['Seafood']</td>\n      <td>Kelapa Gading</td>\n      <td>NaN</td>\n      <td>Not Rated Yet</td>\n      <td>TIdak cukup Ulasan</td>\n      <td>NaN</td>\n      <td>['', '']</td>\n      <td>-6.1701543248</td>\n      <td>106.924605108</td>\n      <td>https://www.zomato.com/id/jakarta/indah-seafoo...</td>\n    </tr>\n    <tr>\n      <th>1219</th>\n      <td>Mama-Do</td>\n      <td>Food Court</td>\n      <td>['Manado']</td>\n      <td>Pulo Gadung</td>\n      <td>NaN</td>\n      <td>Not Rated Yet</td>\n      <td>TIdak cukup Ulasan</td>\n      <td>NaN</td>\n      <td>['', '']</td>\n      <td>-6.1830380000</td>\n      <td>106.891640000</td>\n      <td>https://www.zomato.com/id/jakarta/mama-do-1-pu...</td>\n    </tr>\n    <tr>\n      <th>1240</th>\n      <td>DÉJÀ VU Resto - Delua Hotel</td>\n      <td>Casual Dining</td>\n      <td>['Indonesia', 'Barat']</td>\n      <td>Mangga Besar</td>\n      <td>NaN</td>\n      <td>Not Rated Yet</td>\n      <td>TIdak cukup Ulasan</td>\n      <td>NaN</td>\n      <td>['', '', '']</td>\n      <td>-6.1488740000</td>\n      <td>106.825881000</td>\n      <td>https://www.zomato.com/id/jakarta/déjà-vu-rest...</td>\n    </tr>\n    <tr>\n      <th>1556</th>\n      <td>Tahu Gejrot &amp; Rujak Buah</td>\n      <td>Food Court</td>\n      <td>['Makanan Jalanan', 'Indonesia']</td>\n      <td>Kelapa Gading</td>\n      <td>NaN</td>\n      <td>Not Rated Yet</td>\n      <td>TIdak cukup Ulasan</td>\n      <td>NaN</td>\n      <td>['', '', '']</td>\n      <td>-6.1464234204</td>\n      <td>106.891523748</td>\n      <td>https://www.zomato.com/id/jakarta/tahu-gejrot-...</td>\n    </tr>\n    <tr>\n      <th>...</th>\n      <td>...</td>\n      <td>...</td>\n      <td>...</td>\n      <td>...</td>\n      <td>...</td>\n      <td>...</td>\n      <td>...</td>\n      <td>...</td>\n      <td>...</td>\n      <td>...</td>\n      <td>...</td>\n      <td>...</td>\n    </tr>\n    <tr>\n      <th>11116</th>\n      <td>Nasi Goreng Jaya</td>\n      <td>Quick Bites</td>\n      <td>['Chinese']</td>\n      <td>Pulo Gadung</td>\n      <td>NaN</td>\n      <td>Not Rated Yet</td>\n      <td>TIdak cukup Ulasan</td>\n      <td>NaN</td>\n      <td>['', '']</td>\n      <td>-6.1894180071</td>\n      <td>106.877879016</td>\n      <td>https://www.zomato.com/id/jakarta/nasi-goreng-...</td>\n    </tr>\n    <tr>\n      <th>11124</th>\n      <td>BarBarRibs</td>\n      <td>Casual Dining</td>\n      <td>['Steak']</td>\n      <td>Kelapa Gading</td>\n      <td>NaN</td>\n      <td>3.7</td>\n      <td>41 Ulasan</td>\n      <td>NaN</td>\n      <td>['', '', '', '', '']</td>\n      <td>-6.1494060000</td>\n      <td>106.903117000</td>\n      <td>https://www.zomato.com/id/jakarta/barbarribs-k...</td>\n    </tr>\n    <tr>\n      <th>11128</th>\n      <td>K-Kitchen</td>\n      <td>Food Court</td>\n      <td>['Korea']</td>\n      <td>Senayan</td>\n      <td>NaN</td>\n      <td>3.8</td>\n      <td>265 Ulasan</td>\n      <td>NaN</td>\n      <td>['', '']</td>\n      <td>-6.2269760327</td>\n      <td>106.796928606</td>\n      <td>https://www.zomato.com/id/jakarta/k-kitchen-se...</td>\n    </tr>\n    <tr>\n      <th>11183</th>\n      <td>Nock Nock Cafe &amp; Resto</td>\n      <td>Quick Bites</td>\n      <td>['Indonesia']</td>\n      <td>Kelapa Gading</td>\n      <td>NaN</td>\n      <td>2.3</td>\n      <td>13 Ulasan</td>\n      <td>NaN</td>\n      <td>['', '', '']</td>\n      <td>-6.1517729750</td>\n      <td>106.891749724</td>\n      <td>https://www.zomato.com/id/jakarta/nock-nock-ca...</td>\n    </tr>\n    <tr>\n      <th>11215</th>\n      <td>Hanna Bakes</td>\n      <td>Toko Kue &amp; Roti</td>\n      <td>['Kue &amp; Roti', 'Desserts']</td>\n      <td>Kelapa Gading</td>\n      <td>Jl. Pegangsaan Indah Bar. No.7, RT.2/RW.16, Pe...</td>\n      <td>Not Rated Yet</td>\n      <td>Not Reviewed Yet</td>\n      <td>Need to rerun browser</td>\n      <td>[]</td>\n      <td>-6.1685020000</td>\n      <td>106.915511000</td>\n      <td>https://www.zomato.com/id/jakarta/hanna-bakes-...</td>\n    </tr>\n  </tbody>\n</table>\n<p>201 rows × 12 columns</p>\n</div>"
     },
     "metadata": {},
     "execution_count": 140
    }
   ],
   "source": [
    "rdf_fullnd[condition_2]"
   ]
  },
  {
   "cell_type": "code",
   "execution_count": 142,
   "metadata": {},
   "outputs": [],
   "source": [
    "rdfs_full2.drop(['Additional Info'], axis=1, inplace=True)"
   ]
  },
  {
   "cell_type": "code",
   "execution_count": 143,
   "metadata": {},
   "outputs": [
    {
     "output_type": "execute_result",
     "data": {
      "text/plain": "                 Restaurant Name  \\\n0                  Tenterem Cafe   \n1               Indah Seafood 94   \n2                        Mama-Do   \n3    DÉJÀ VU Resto - Delua Hotel   \n4       Tahu Gejrot & Rujak Buah   \n..                           ...   \n196             Nasi Goreng Jaya   \n197                   BarBarRibs   \n198                    K-Kitchen   \n199       Nock Nock Cafe & Resto   \n200                  Hanna Bakes   \n\n                                               Website  \\\n0    https://www.zomato.com/id/jakarta/tenterem-caf...   \n1    https://www.zomato.com/id/jakarta/indah-seafoo...   \n2    https://www.zomato.com/id/jakarta/mama-do-1-pu...   \n3    https://www.zomato.com/id/jakarta/déjà-vu-rest...   \n4    https://www.zomato.com/id/jakarta/tahu-gejrot-...   \n..                                                 ...   \n196  https://www.zomato.com/id/jakarta/nasi-goreng-...   \n197  https://www.zomato.com/id/jakarta/barbarribs-k...   \n198  https://www.zomato.com/id/jakarta/k-kitchen-se...   \n199  https://www.zomato.com/id/jakarta/nock-nock-ca...   \n200  https://www.zomato.com/id/jakarta/hanna-bakes-...   \n\n                                    Restaurant Address  \\\n0    Taman Mini Indonesia Indah, Jl. Taman Prasasti...   \n1    Gading Festival, Jl. Pegangsaan, Blok S No. 17...   \n2    Taman Kuliner Kayuputih, Jl. Kayu Putih Tengah...   \n3    Delua Hotel, Jl. Mangga Besar Raya No. 82, Man...   \n4    Mall Artha Gading, Lantai 2, West Food Court,J...   \n..                                                 ...   \n196        Jl. H. Ten Raya No. 27, Pulogadung, Jakarta   \n197  Mahaka Square, Lantai Ground, Jl. Kelapa Nias ...   \n198  Senayan City, Lantai 5, Delicaé, Jl. Asia Afri...   \n199  Mall of Indonesia, Rukan Resort City Home, Blo...   \n200  Jl. Pegangsaan Indah Bar. No.7, RT.2/RW.16, Pe...   \n\n                                          Price for 2  \n0                  Rp70.000 untuk 2 orang (perkiraan)  \n1                 Rp150.000 untuk 2 orang (perkiraan)  \n2                  Rp70.000 untuk 2 orang (perkiraan)  \n3                 Rp200.000 untuk 2 orang (perkiraan)  \n4                  Rp50.000 untuk 2 orang (perkiraan)  \n..                                                ...  \n196                Rp80.000 untuk 2 orang (perkiraan)  \n197  Rp250.000 untuk 2 orang (perkiraan)Tanpa alkohol  \n198               Rp150.000 untuk 2 orang (perkiraan)  \n199               Rp120.000 untuk 2 orang (perkiraan)  \n200                               No Price Data Found  \n\n[201 rows x 4 columns]",
      "text/html": "<div>\n<style scoped>\n    .dataframe tbody tr th:only-of-type {\n        vertical-align: middle;\n    }\n\n    .dataframe tbody tr th {\n        vertical-align: top;\n    }\n\n    .dataframe thead th {\n        text-align: right;\n    }\n</style>\n<table border=\"1\" class=\"dataframe\">\n  <thead>\n    <tr style=\"text-align: right;\">\n      <th></th>\n      <th>Restaurant Name</th>\n      <th>Website</th>\n      <th>Restaurant Address</th>\n      <th>Price for 2</th>\n    </tr>\n  </thead>\n  <tbody>\n    <tr>\n      <th>0</th>\n      <td>Tenterem Cafe</td>\n      <td>https://www.zomato.com/id/jakarta/tenterem-caf...</td>\n      <td>Taman Mini Indonesia Indah, Jl. Taman Prasasti...</td>\n      <td>Rp70.000 untuk 2 orang (perkiraan)</td>\n    </tr>\n    <tr>\n      <th>1</th>\n      <td>Indah Seafood 94</td>\n      <td>https://www.zomato.com/id/jakarta/indah-seafoo...</td>\n      <td>Gading Festival, Jl. Pegangsaan, Blok S No. 17...</td>\n      <td>Rp150.000 untuk 2 orang (perkiraan)</td>\n    </tr>\n    <tr>\n      <th>2</th>\n      <td>Mama-Do</td>\n      <td>https://www.zomato.com/id/jakarta/mama-do-1-pu...</td>\n      <td>Taman Kuliner Kayuputih, Jl. Kayu Putih Tengah...</td>\n      <td>Rp70.000 untuk 2 orang (perkiraan)</td>\n    </tr>\n    <tr>\n      <th>3</th>\n      <td>DÉJÀ VU Resto - Delua Hotel</td>\n      <td>https://www.zomato.com/id/jakarta/déjà-vu-rest...</td>\n      <td>Delua Hotel, Jl. Mangga Besar Raya No. 82, Man...</td>\n      <td>Rp200.000 untuk 2 orang (perkiraan)</td>\n    </tr>\n    <tr>\n      <th>4</th>\n      <td>Tahu Gejrot &amp; Rujak Buah</td>\n      <td>https://www.zomato.com/id/jakarta/tahu-gejrot-...</td>\n      <td>Mall Artha Gading, Lantai 2, West Food Court,J...</td>\n      <td>Rp50.000 untuk 2 orang (perkiraan)</td>\n    </tr>\n    <tr>\n      <th>...</th>\n      <td>...</td>\n      <td>...</td>\n      <td>...</td>\n      <td>...</td>\n    </tr>\n    <tr>\n      <th>196</th>\n      <td>Nasi Goreng Jaya</td>\n      <td>https://www.zomato.com/id/jakarta/nasi-goreng-...</td>\n      <td>Jl. H. Ten Raya No. 27, Pulogadung, Jakarta</td>\n      <td>Rp80.000 untuk 2 orang (perkiraan)</td>\n    </tr>\n    <tr>\n      <th>197</th>\n      <td>BarBarRibs</td>\n      <td>https://www.zomato.com/id/jakarta/barbarribs-k...</td>\n      <td>Mahaka Square, Lantai Ground, Jl. Kelapa Nias ...</td>\n      <td>Rp250.000 untuk 2 orang (perkiraan)Tanpa alkohol</td>\n    </tr>\n    <tr>\n      <th>198</th>\n      <td>K-Kitchen</td>\n      <td>https://www.zomato.com/id/jakarta/k-kitchen-se...</td>\n      <td>Senayan City, Lantai 5, Delicaé, Jl. Asia Afri...</td>\n      <td>Rp150.000 untuk 2 orang (perkiraan)</td>\n    </tr>\n    <tr>\n      <th>199</th>\n      <td>Nock Nock Cafe &amp; Resto</td>\n      <td>https://www.zomato.com/id/jakarta/nock-nock-ca...</td>\n      <td>Mall of Indonesia, Rukan Resort City Home, Blo...</td>\n      <td>Rp120.000 untuk 2 orang (perkiraan)</td>\n    </tr>\n    <tr>\n      <th>200</th>\n      <td>Hanna Bakes</td>\n      <td>https://www.zomato.com/id/jakarta/hanna-bakes-...</td>\n      <td>Jl. Pegangsaan Indah Bar. No.7, RT.2/RW.16, Pe...</td>\n      <td>No Price Data Found</td>\n    </tr>\n  </tbody>\n</table>\n<p>201 rows × 4 columns</p>\n</div>"
     },
     "metadata": {},
     "execution_count": 143
    }
   ],
   "source": [
    "rdfs_full2"
   ]
  },
  {
   "cell_type": "code",
   "execution_count": 146,
   "metadata": {},
   "outputs": [],
   "source": [
    "rdf_comb_nd = pd.merge(left=rdf_fullnd, right=rdfs_full2, how='left' ,left_on=['Restaurant Name','Website'], right_on=['Restaurant Name', 'Website'], suffixes=('_a','_b'))"
   ]
  },
  {
   "cell_type": "code",
   "execution_count": 221,
   "metadata": {},
   "outputs": [
    {
     "output_type": "execute_result",
     "data": {
      "text/plain": "     Restaurant Name Restaurant Type              Cuisine Type  \\\n0        Holy Smokes   Casual Dining  ['Grill House', 'Steak']   \n1     Pempek Megaria     Quick Bites             ['Palembang']   \n2      Tjikinii Lima   Casual Dining    ['Barat', 'Indonesia']   \n3  Gado-Gado Bon-Bin     Quick Bites                  ['Jawa']   \n4      Koffie Fictie            Kafe                  ['Kopi']   \n\n  Restaurant Area                               Restaurant Address_a  \\\n0        Senopati    Jl. Wolter Monginsidi No. 27, Senopati, Jakarta   \n1          Cikini  Metropole 21, Jl. Pegangsaan Timur No. 21, Cik...   \n2          Cikini          Jl. Cikini I No. 5, Cikini, Jakarta 10330   \n3          Cikini                Jl. Cikini 4 No. 5, Cikini, Jakarta   \n4  Bekasi Selatan  Grand Galaxy Park, Ruko RSOD No. 026, Jl. Lotu...   \n\n  Restaurant Rating       Review Counts  \\\n0               4.4        1,437 Ulasan   \n1               4.3          461 Ulasan   \n2               4.0          391 Ulasan   \n3               4.0          177 Ulasan   \n4     Not Rated Yet  TIdak cukup Ulasan   \n\n                                      Price for 2_a  \\\n0  Rp500.000 untuk 2 orang (perkiraan)Tanpa alkohol   \n1                Rp70.000 untuk 2 orang (perkiraan)   \n2               Rp300.000 untuk 2 orang (perkiraan)   \n3                Rp90.000 untuk 2 orang (perkiraan)   \n4               Rp100.000 untuk 2 orang (perkiraan)   \n\n                                     Additional Info       Latitude  \\\n0  ['Hanya Wine dan Bir', 'Di dalam ruangan', 'Wi...  -6.2391432684   \n1       ['Bawa Pulang Tersedia', 'Di dalam ruangan']  -6.1999000000   \n2  ['Bawa Pulang Tersedia', 'Area Merokok', 'Temp...  -6.1898019937   \n3       ['Bawa Pulang Tersedia', 'Di dalam ruangan']  -6.1929590000   \n4       ['Bawa Pulang Tersedia', 'Di dalam ruangan']  -6.2720590000   \n\n       Longitude                                            Website  \\\n0  106.807954162  https://www.zomato.com/id/jakarta/holy-smokes-...   \n1  106.843739000  https://www.zomato.com/id/jakarta/pempek-megar...   \n2  106.837150007  https://www.zomato.com/id/jakarta/tjikinii-lim...   \n3  106.838377000  https://www.zomato.com/id/jakarta/gado-gado-bo...   \n4  106.970932000  https://www.zomato.com/id/jakarta/koffie-ficti...   \n\n  Restaurant Address_b Price for 2_b  \\\n0                  NaN           NaN   \n1                  NaN           NaN   \n2                  NaN           NaN   \n3                  NaN           NaN   \n4                  NaN           NaN   \n\n                                  Restaurant Address  \\\n0    Jl. Wolter Monginsidi No. 27, Senopati, Jakarta   \n1  Metropole 21, Jl. Pegangsaan Timur No. 21, Cik...   \n2          Jl. Cikini I No. 5, Cikini, Jakarta 10330   \n3                Jl. Cikini 4 No. 5, Cikini, Jakarta   \n4  Grand Galaxy Park, Ruko RSOD No. 026, Jl. Lotu...   \n\n                                        Price for 2  \n0  Rp500.000 untuk 2 orang (perkiraan)Tanpa alkohol  \n1                Rp70.000 untuk 2 orang (perkiraan)  \n2               Rp300.000 untuk 2 orang (perkiraan)  \n3                Rp90.000 untuk 2 orang (perkiraan)  \n4               Rp100.000 untuk 2 orang (perkiraan)  ",
      "text/html": "<div>\n<style scoped>\n    .dataframe tbody tr th:only-of-type {\n        vertical-align: middle;\n    }\n\n    .dataframe tbody tr th {\n        vertical-align: top;\n    }\n\n    .dataframe thead th {\n        text-align: right;\n    }\n</style>\n<table border=\"1\" class=\"dataframe\">\n  <thead>\n    <tr style=\"text-align: right;\">\n      <th></th>\n      <th>Restaurant Name</th>\n      <th>Restaurant Type</th>\n      <th>Cuisine Type</th>\n      <th>Restaurant Area</th>\n      <th>Restaurant Address_a</th>\n      <th>Restaurant Rating</th>\n      <th>Review Counts</th>\n      <th>Price for 2_a</th>\n      <th>Additional Info</th>\n      <th>Latitude</th>\n      <th>Longitude</th>\n      <th>Website</th>\n      <th>Restaurant Address_b</th>\n      <th>Price for 2_b</th>\n      <th>Restaurant Address</th>\n      <th>Price for 2</th>\n    </tr>\n  </thead>\n  <tbody>\n    <tr>\n      <th>0</th>\n      <td>Holy Smokes</td>\n      <td>Casual Dining</td>\n      <td>['Grill House', 'Steak']</td>\n      <td>Senopati</td>\n      <td>Jl. Wolter Monginsidi No. 27, Senopati, Jakarta</td>\n      <td>4.4</td>\n      <td>1,437 Ulasan</td>\n      <td>Rp500.000 untuk 2 orang (perkiraan)Tanpa alkohol</td>\n      <td>['Hanya Wine dan Bir', 'Di dalam ruangan', 'Wi...</td>\n      <td>-6.2391432684</td>\n      <td>106.807954162</td>\n      <td>https://www.zomato.com/id/jakarta/holy-smokes-...</td>\n      <td>NaN</td>\n      <td>NaN</td>\n      <td>Jl. Wolter Monginsidi No. 27, Senopati, Jakarta</td>\n      <td>Rp500.000 untuk 2 orang (perkiraan)Tanpa alkohol</td>\n    </tr>\n    <tr>\n      <th>1</th>\n      <td>Pempek Megaria</td>\n      <td>Quick Bites</td>\n      <td>['Palembang']</td>\n      <td>Cikini</td>\n      <td>Metropole 21, Jl. Pegangsaan Timur No. 21, Cik...</td>\n      <td>4.3</td>\n      <td>461 Ulasan</td>\n      <td>Rp70.000 untuk 2 orang (perkiraan)</td>\n      <td>['Bawa Pulang Tersedia', 'Di dalam ruangan']</td>\n      <td>-6.1999000000</td>\n      <td>106.843739000</td>\n      <td>https://www.zomato.com/id/jakarta/pempek-megar...</td>\n      <td>NaN</td>\n      <td>NaN</td>\n      <td>Metropole 21, Jl. Pegangsaan Timur No. 21, Cik...</td>\n      <td>Rp70.000 untuk 2 orang (perkiraan)</td>\n    </tr>\n    <tr>\n      <th>2</th>\n      <td>Tjikinii Lima</td>\n      <td>Casual Dining</td>\n      <td>['Barat', 'Indonesia']</td>\n      <td>Cikini</td>\n      <td>Jl. Cikini I No. 5, Cikini, Jakarta 10330</td>\n      <td>4.0</td>\n      <td>391 Ulasan</td>\n      <td>Rp300.000 untuk 2 orang (perkiraan)</td>\n      <td>['Bawa Pulang Tersedia', 'Area Merokok', 'Temp...</td>\n      <td>-6.1898019937</td>\n      <td>106.837150007</td>\n      <td>https://www.zomato.com/id/jakarta/tjikinii-lim...</td>\n      <td>NaN</td>\n      <td>NaN</td>\n      <td>Jl. Cikini I No. 5, Cikini, Jakarta 10330</td>\n      <td>Rp300.000 untuk 2 orang (perkiraan)</td>\n    </tr>\n    <tr>\n      <th>3</th>\n      <td>Gado-Gado Bon-Bin</td>\n      <td>Quick Bites</td>\n      <td>['Jawa']</td>\n      <td>Cikini</td>\n      <td>Jl. Cikini 4 No. 5, Cikini, Jakarta</td>\n      <td>4.0</td>\n      <td>177 Ulasan</td>\n      <td>Rp90.000 untuk 2 orang (perkiraan)</td>\n      <td>['Bawa Pulang Tersedia', 'Di dalam ruangan']</td>\n      <td>-6.1929590000</td>\n      <td>106.838377000</td>\n      <td>https://www.zomato.com/id/jakarta/gado-gado-bo...</td>\n      <td>NaN</td>\n      <td>NaN</td>\n      <td>Jl. Cikini 4 No. 5, Cikini, Jakarta</td>\n      <td>Rp90.000 untuk 2 orang (perkiraan)</td>\n    </tr>\n    <tr>\n      <th>4</th>\n      <td>Koffie Fictie</td>\n      <td>Kafe</td>\n      <td>['Kopi']</td>\n      <td>Bekasi Selatan</td>\n      <td>Grand Galaxy Park, Ruko RSOD No. 026, Jl. Lotu...</td>\n      <td>Not Rated Yet</td>\n      <td>TIdak cukup Ulasan</td>\n      <td>Rp100.000 untuk 2 orang (perkiraan)</td>\n      <td>['Bawa Pulang Tersedia', 'Di dalam ruangan']</td>\n      <td>-6.2720590000</td>\n      <td>106.970932000</td>\n      <td>https://www.zomato.com/id/jakarta/koffie-ficti...</td>\n      <td>NaN</td>\n      <td>NaN</td>\n      <td>Grand Galaxy Park, Ruko RSOD No. 026, Jl. Lotu...</td>\n      <td>Rp100.000 untuk 2 orang (perkiraan)</td>\n    </tr>\n  </tbody>\n</table>\n</div>"
     },
     "metadata": {},
     "execution_count": 221
    }
   ],
   "source": [
    "rdf_comb_nd.head()"
   ]
  },
  {
   "cell_type": "code",
   "execution_count": 157,
   "metadata": {},
   "outputs": [
    {
     "output_type": "execute_result",
     "data": {
      "text/plain": "0        Rp\n1        Rp\n2        Rp\n3        Rp\n         ..\n11263    Rp\n11264    Rp\n11265    Rp\n11266    Rp\nName: Price for 2_a, Length: 11267, dtype: object"
     },
     "metadata": {},
     "execution_count": 157
    }
   ],
   "source": [
    "price_for_2_check2 = rdf_comb_nd['Price for 2_a'].str.slice(0,2)\n",
    "price_for_2_check2"
   ]
  },
  {
   "cell_type": "code",
   "execution_count": 158,
   "metadata": {},
   "outputs": [],
   "source": [
    "condition_2 = ~((price_for_2_check == 'Rp') | (price_for_2_check == 'No'))\n",
    "condition_1 = rdf_comb_nd['Restaurant Address_a'].isna()"
   ]
  },
  {
   "cell_type": "code",
   "execution_count": 214,
   "metadata": {},
   "outputs": [],
   "source": [
    "def res_address2(row):\n",
    "    string = str(row['Price for 2_a'])\n",
    "    if (string[0:2] != 'Rp') and (string[0:2] != 'No') :\n",
    "        return row['Restaurant Address_b']\n",
    "    else:\n",
    "        return row['Restaurant Address_a']\n",
    "\n",
    "def res_price2(row):\n",
    "    string = str(row['Price for 2_a'])\n",
    "    if (string[0:2] != 'Rp') and (string[0:2] != 'No'):\n",
    "        return row['Price for 2_b']\n",
    "    else:\n",
    "        return row['Price for 2_a']"
   ]
  },
  {
   "cell_type": "code",
   "execution_count": 215,
   "metadata": {
    "tags": []
   },
   "outputs": [],
   "source": [
    "rdf_comb_nd['Restaurant Address'] = rdf_comb_nd.apply(lambda row: res_address2(row), axis=1)\n",
    "rdf_comb_nd['Price for 2'] = rdf_comb_nd.apply(lambda row: res_price2(row), axis=1)"
   ]
  },
  {
   "cell_type": "code",
   "execution_count": 216,
   "metadata": {},
   "outputs": [
    {
     "output_type": "execute_result",
     "data": {
      "text/plain": "     Restaurant Name Restaurant Type              Cuisine Type  \\\n0        Holy Smokes   Casual Dining  ['Grill House', 'Steak']   \n1     Pempek Megaria     Quick Bites             ['Palembang']   \n2      Tjikinii Lima   Casual Dining    ['Barat', 'Indonesia']   \n3  Gado-Gado Bon-Bin     Quick Bites                  ['Jawa']   \n4      Koffie Fictie            Kafe                  ['Kopi']   \n\n  Restaurant Area                               Restaurant Address_a  \\\n0        Senopati    Jl. Wolter Monginsidi No. 27, Senopati, Jakarta   \n1          Cikini  Metropole 21, Jl. Pegangsaan Timur No. 21, Cik...   \n2          Cikini          Jl. Cikini I No. 5, Cikini, Jakarta 10330   \n3          Cikini                Jl. Cikini 4 No. 5, Cikini, Jakarta   \n4  Bekasi Selatan  Grand Galaxy Park, Ruko RSOD No. 026, Jl. Lotu...   \n\n  Restaurant Rating       Review Counts  \\\n0               4.4        1,437 Ulasan   \n1               4.3          461 Ulasan   \n2               4.0          391 Ulasan   \n3               4.0          177 Ulasan   \n4     Not Rated Yet  TIdak cukup Ulasan   \n\n                                      Price for 2_a  \\\n0  Rp500.000 untuk 2 orang (perkiraan)Tanpa alkohol   \n1                Rp70.000 untuk 2 orang (perkiraan)   \n2               Rp300.000 untuk 2 orang (perkiraan)   \n3                Rp90.000 untuk 2 orang (perkiraan)   \n4               Rp100.000 untuk 2 orang (perkiraan)   \n\n                                     Additional Info       Latitude  \\\n0  ['Hanya Wine dan Bir', 'Di dalam ruangan', 'Wi...  -6.2391432684   \n1       ['Bawa Pulang Tersedia', 'Di dalam ruangan']  -6.1999000000   \n2  ['Bawa Pulang Tersedia', 'Area Merokok', 'Temp...  -6.1898019937   \n3       ['Bawa Pulang Tersedia', 'Di dalam ruangan']  -6.1929590000   \n4       ['Bawa Pulang Tersedia', 'Di dalam ruangan']  -6.2720590000   \n\n       Longitude                                            Website  \\\n0  106.807954162  https://www.zomato.com/id/jakarta/holy-smokes-...   \n1  106.843739000  https://www.zomato.com/id/jakarta/pempek-megar...   \n2  106.837150007  https://www.zomato.com/id/jakarta/tjikinii-lim...   \n3  106.838377000  https://www.zomato.com/id/jakarta/gado-gado-bo...   \n4  106.970932000  https://www.zomato.com/id/jakarta/koffie-ficti...   \n\n  Restaurant Address_b Price for 2_b  \\\n0                  NaN           NaN   \n1                  NaN           NaN   \n2                  NaN           NaN   \n3                  NaN           NaN   \n4                  NaN           NaN   \n\n                                  Restaurant Address  \\\n0    Jl. Wolter Monginsidi No. 27, Senopati, Jakarta   \n1  Metropole 21, Jl. Pegangsaan Timur No. 21, Cik...   \n2          Jl. Cikini I No. 5, Cikini, Jakarta 10330   \n3                Jl. Cikini 4 No. 5, Cikini, Jakarta   \n4  Grand Galaxy Park, Ruko RSOD No. 026, Jl. Lotu...   \n\n                                        Price for 2  \n0  Rp500.000 untuk 2 orang (perkiraan)Tanpa alkohol  \n1                Rp70.000 untuk 2 orang (perkiraan)  \n2               Rp300.000 untuk 2 orang (perkiraan)  \n3                Rp90.000 untuk 2 orang (perkiraan)  \n4               Rp100.000 untuk 2 orang (perkiraan)  ",
      "text/html": "<div>\n<style scoped>\n    .dataframe tbody tr th:only-of-type {\n        vertical-align: middle;\n    }\n\n    .dataframe tbody tr th {\n        vertical-align: top;\n    }\n\n    .dataframe thead th {\n        text-align: right;\n    }\n</style>\n<table border=\"1\" class=\"dataframe\">\n  <thead>\n    <tr style=\"text-align: right;\">\n      <th></th>\n      <th>Restaurant Name</th>\n      <th>Restaurant Type</th>\n      <th>Cuisine Type</th>\n      <th>Restaurant Area</th>\n      <th>Restaurant Address_a</th>\n      <th>Restaurant Rating</th>\n      <th>Review Counts</th>\n      <th>Price for 2_a</th>\n      <th>Additional Info</th>\n      <th>Latitude</th>\n      <th>Longitude</th>\n      <th>Website</th>\n      <th>Restaurant Address_b</th>\n      <th>Price for 2_b</th>\n      <th>Restaurant Address</th>\n      <th>Price for 2</th>\n    </tr>\n  </thead>\n  <tbody>\n    <tr>\n      <th>0</th>\n      <td>Holy Smokes</td>\n      <td>Casual Dining</td>\n      <td>['Grill House', 'Steak']</td>\n      <td>Senopati</td>\n      <td>Jl. Wolter Monginsidi No. 27, Senopati, Jakarta</td>\n      <td>4.4</td>\n      <td>1,437 Ulasan</td>\n      <td>Rp500.000 untuk 2 orang (perkiraan)Tanpa alkohol</td>\n      <td>['Hanya Wine dan Bir', 'Di dalam ruangan', 'Wi...</td>\n      <td>-6.2391432684</td>\n      <td>106.807954162</td>\n      <td>https://www.zomato.com/id/jakarta/holy-smokes-...</td>\n      <td>NaN</td>\n      <td>NaN</td>\n      <td>Jl. Wolter Monginsidi No. 27, Senopati, Jakarta</td>\n      <td>Rp500.000 untuk 2 orang (perkiraan)Tanpa alkohol</td>\n    </tr>\n    <tr>\n      <th>1</th>\n      <td>Pempek Megaria</td>\n      <td>Quick Bites</td>\n      <td>['Palembang']</td>\n      <td>Cikini</td>\n      <td>Metropole 21, Jl. Pegangsaan Timur No. 21, Cik...</td>\n      <td>4.3</td>\n      <td>461 Ulasan</td>\n      <td>Rp70.000 untuk 2 orang (perkiraan)</td>\n      <td>['Bawa Pulang Tersedia', 'Di dalam ruangan']</td>\n      <td>-6.1999000000</td>\n      <td>106.843739000</td>\n      <td>https://www.zomato.com/id/jakarta/pempek-megar...</td>\n      <td>NaN</td>\n      <td>NaN</td>\n      <td>Metropole 21, Jl. Pegangsaan Timur No. 21, Cik...</td>\n      <td>Rp70.000 untuk 2 orang (perkiraan)</td>\n    </tr>\n    <tr>\n      <th>2</th>\n      <td>Tjikinii Lima</td>\n      <td>Casual Dining</td>\n      <td>['Barat', 'Indonesia']</td>\n      <td>Cikini</td>\n      <td>Jl. Cikini I No. 5, Cikini, Jakarta 10330</td>\n      <td>4.0</td>\n      <td>391 Ulasan</td>\n      <td>Rp300.000 untuk 2 orang (perkiraan)</td>\n      <td>['Bawa Pulang Tersedia', 'Area Merokok', 'Temp...</td>\n      <td>-6.1898019937</td>\n      <td>106.837150007</td>\n      <td>https://www.zomato.com/id/jakarta/tjikinii-lim...</td>\n      <td>NaN</td>\n      <td>NaN</td>\n      <td>Jl. Cikini I No. 5, Cikini, Jakarta 10330</td>\n      <td>Rp300.000 untuk 2 orang (perkiraan)</td>\n    </tr>\n    <tr>\n      <th>3</th>\n      <td>Gado-Gado Bon-Bin</td>\n      <td>Quick Bites</td>\n      <td>['Jawa']</td>\n      <td>Cikini</td>\n      <td>Jl. Cikini 4 No. 5, Cikini, Jakarta</td>\n      <td>4.0</td>\n      <td>177 Ulasan</td>\n      <td>Rp90.000 untuk 2 orang (perkiraan)</td>\n      <td>['Bawa Pulang Tersedia', 'Di dalam ruangan']</td>\n      <td>-6.1929590000</td>\n      <td>106.838377000</td>\n      <td>https://www.zomato.com/id/jakarta/gado-gado-bo...</td>\n      <td>NaN</td>\n      <td>NaN</td>\n      <td>Jl. Cikini 4 No. 5, Cikini, Jakarta</td>\n      <td>Rp90.000 untuk 2 orang (perkiraan)</td>\n    </tr>\n    <tr>\n      <th>4</th>\n      <td>Koffie Fictie</td>\n      <td>Kafe</td>\n      <td>['Kopi']</td>\n      <td>Bekasi Selatan</td>\n      <td>Grand Galaxy Park, Ruko RSOD No. 026, Jl. Lotu...</td>\n      <td>Not Rated Yet</td>\n      <td>TIdak cukup Ulasan</td>\n      <td>Rp100.000 untuk 2 orang (perkiraan)</td>\n      <td>['Bawa Pulang Tersedia', 'Di dalam ruangan']</td>\n      <td>-6.2720590000</td>\n      <td>106.970932000</td>\n      <td>https://www.zomato.com/id/jakarta/koffie-ficti...</td>\n      <td>NaN</td>\n      <td>NaN</td>\n      <td>Grand Galaxy Park, Ruko RSOD No. 026, Jl. Lotu...</td>\n      <td>Rp100.000 untuk 2 orang (perkiraan)</td>\n    </tr>\n  </tbody>\n</table>\n</div>"
     },
     "metadata": {},
     "execution_count": 216
    }
   ],
   "source": [
    "rdf_comb_nd.head()"
   ]
  },
  {
   "cell_type": "code",
   "execution_count": 223,
   "metadata": {},
   "outputs": [],
   "source": [
    "rdf_comb_nd.drop(['Restaurant Address_a', 'Restaurant Address_b', 'Price for 2_a', 'Price for 2_b'], axis=1,inplace=True)"
   ]
  },
  {
   "cell_type": "code",
   "execution_count": 241,
   "metadata": {},
   "outputs": [],
   "source": [
    "condition_1 = rdf_comb_nd['Restaurant Address'].isna()\n",
    "\n",
    "price_for_2_check3 = rdf_comb_nd['Price for 2'].str.slice(0,2)\n",
    "condition_2 = ~((price_for_2_check3 == 'Rp') | (price_for_2_check3 == 'No'))\n"
   ]
  },
  {
   "cell_type": "code",
   "execution_count": 226,
   "metadata": {},
   "outputs": [
    {
     "output_type": "execute_result",
     "data": {
      "text/plain": "              Restaurant Name Restaurant Type               Cuisine Type  \\\n6126  Hokkaido Ice Cream Puff  Dessert Parlor  ['Desserts', 'Ice Cream']   \n9207            Pempek Kenari     Quick Bites              ['Palembang']   \n9923      Kupat Tahu Magelang     Quick Bites                   ['Jawa']   \n\n     Restaurant Area Restaurant Rating Review Counts Additional Info  \\\n6126   Serpong Utara               3.3     21 Ulasan    ['', '', '']   \n9207  Kec. Tangerang               3.7     13 Ulasan              []   \n9923     Lebak Bulus               3.4     27 Ulasan              []   \n\n           Latitude      Longitude  \\\n6126  -6.2408890000  106.628398000   \n9207  -6.1964420000  106.637898000   \n9923  -6.2975630000  106.781898000   \n\n                                                Website Restaurant Address  \\\n6126  https://www.zomato.com/id/jakarta/hokkaido-ice...                NaN   \n9207  https://www.zomato.com/id/jakarta/pempek-kenar...                NaN   \n9923  https://www.zomato.com/id/jakarta/kupat-tahu-m...                NaN   \n\n     Price for 2  \n6126         NaN  \n9207         NaN  \n9923         NaN  ",
      "text/html": "<div>\n<style scoped>\n    .dataframe tbody tr th:only-of-type {\n        vertical-align: middle;\n    }\n\n    .dataframe tbody tr th {\n        vertical-align: top;\n    }\n\n    .dataframe thead th {\n        text-align: right;\n    }\n</style>\n<table border=\"1\" class=\"dataframe\">\n  <thead>\n    <tr style=\"text-align: right;\">\n      <th></th>\n      <th>Restaurant Name</th>\n      <th>Restaurant Type</th>\n      <th>Cuisine Type</th>\n      <th>Restaurant Area</th>\n      <th>Restaurant Rating</th>\n      <th>Review Counts</th>\n      <th>Additional Info</th>\n      <th>Latitude</th>\n      <th>Longitude</th>\n      <th>Website</th>\n      <th>Restaurant Address</th>\n      <th>Price for 2</th>\n    </tr>\n  </thead>\n  <tbody>\n    <tr>\n      <th>6126</th>\n      <td>Hokkaido Ice Cream Puff</td>\n      <td>Dessert Parlor</td>\n      <td>['Desserts', 'Ice Cream']</td>\n      <td>Serpong Utara</td>\n      <td>3.3</td>\n      <td>21 Ulasan</td>\n      <td>['', '', '']</td>\n      <td>-6.2408890000</td>\n      <td>106.628398000</td>\n      <td>https://www.zomato.com/id/jakarta/hokkaido-ice...</td>\n      <td>NaN</td>\n      <td>NaN</td>\n    </tr>\n    <tr>\n      <th>9207</th>\n      <td>Pempek Kenari</td>\n      <td>Quick Bites</td>\n      <td>['Palembang']</td>\n      <td>Kec. Tangerang</td>\n      <td>3.7</td>\n      <td>13 Ulasan</td>\n      <td>[]</td>\n      <td>-6.1964420000</td>\n      <td>106.637898000</td>\n      <td>https://www.zomato.com/id/jakarta/pempek-kenar...</td>\n      <td>NaN</td>\n      <td>NaN</td>\n    </tr>\n    <tr>\n      <th>9923</th>\n      <td>Kupat Tahu Magelang</td>\n      <td>Quick Bites</td>\n      <td>['Jawa']</td>\n      <td>Lebak Bulus</td>\n      <td>3.4</td>\n      <td>27 Ulasan</td>\n      <td>[]</td>\n      <td>-6.2975630000</td>\n      <td>106.781898000</td>\n      <td>https://www.zomato.com/id/jakarta/kupat-tahu-m...</td>\n      <td>NaN</td>\n      <td>NaN</td>\n    </tr>\n  </tbody>\n</table>\n</div>"
     },
     "metadata": {},
     "execution_count": 226
    }
   ],
   "source": [
    "rdf_comb_nd[condition_1]"
   ]
  },
  {
   "cell_type": "code",
   "execution_count": 227,
   "metadata": {},
   "outputs": [
    {
     "output_type": "execute_result",
     "data": {
      "text/plain": "              Restaurant Name Restaurant Type               Cuisine Type  \\\n6126  Hokkaido Ice Cream Puff  Dessert Parlor  ['Desserts', 'Ice Cream']   \n9207            Pempek Kenari     Quick Bites              ['Palembang']   \n9923      Kupat Tahu Magelang     Quick Bites                   ['Jawa']   \n\n     Restaurant Area Restaurant Rating Review Counts Additional Info  \\\n6126   Serpong Utara               3.3     21 Ulasan    ['', '', '']   \n9207  Kec. Tangerang               3.7     13 Ulasan              []   \n9923     Lebak Bulus               3.4     27 Ulasan              []   \n\n           Latitude      Longitude  \\\n6126  -6.2408890000  106.628398000   \n9207  -6.1964420000  106.637898000   \n9923  -6.2975630000  106.781898000   \n\n                                                Website Restaurant Address  \\\n6126  https://www.zomato.com/id/jakarta/hokkaido-ice...                NaN   \n9207  https://www.zomato.com/id/jakarta/pempek-kenar...                NaN   \n9923  https://www.zomato.com/id/jakarta/kupat-tahu-m...                NaN   \n\n     Price for 2  \n6126         NaN  \n9207         NaN  \n9923         NaN  ",
      "text/html": "<div>\n<style scoped>\n    .dataframe tbody tr th:only-of-type {\n        vertical-align: middle;\n    }\n\n    .dataframe tbody tr th {\n        vertical-align: top;\n    }\n\n    .dataframe thead th {\n        text-align: right;\n    }\n</style>\n<table border=\"1\" class=\"dataframe\">\n  <thead>\n    <tr style=\"text-align: right;\">\n      <th></th>\n      <th>Restaurant Name</th>\n      <th>Restaurant Type</th>\n      <th>Cuisine Type</th>\n      <th>Restaurant Area</th>\n      <th>Restaurant Rating</th>\n      <th>Review Counts</th>\n      <th>Additional Info</th>\n      <th>Latitude</th>\n      <th>Longitude</th>\n      <th>Website</th>\n      <th>Restaurant Address</th>\n      <th>Price for 2</th>\n    </tr>\n  </thead>\n  <tbody>\n    <tr>\n      <th>6126</th>\n      <td>Hokkaido Ice Cream Puff</td>\n      <td>Dessert Parlor</td>\n      <td>['Desserts', 'Ice Cream']</td>\n      <td>Serpong Utara</td>\n      <td>3.3</td>\n      <td>21 Ulasan</td>\n      <td>['', '', '']</td>\n      <td>-6.2408890000</td>\n      <td>106.628398000</td>\n      <td>https://www.zomato.com/id/jakarta/hokkaido-ice...</td>\n      <td>NaN</td>\n      <td>NaN</td>\n    </tr>\n    <tr>\n      <th>9207</th>\n      <td>Pempek Kenari</td>\n      <td>Quick Bites</td>\n      <td>['Palembang']</td>\n      <td>Kec. Tangerang</td>\n      <td>3.7</td>\n      <td>13 Ulasan</td>\n      <td>[]</td>\n      <td>-6.1964420000</td>\n      <td>106.637898000</td>\n      <td>https://www.zomato.com/id/jakarta/pempek-kenar...</td>\n      <td>NaN</td>\n      <td>NaN</td>\n    </tr>\n    <tr>\n      <th>9923</th>\n      <td>Kupat Tahu Magelang</td>\n      <td>Quick Bites</td>\n      <td>['Jawa']</td>\n      <td>Lebak Bulus</td>\n      <td>3.4</td>\n      <td>27 Ulasan</td>\n      <td>[]</td>\n      <td>-6.2975630000</td>\n      <td>106.781898000</td>\n      <td>https://www.zomato.com/id/jakarta/kupat-tahu-m...</td>\n      <td>NaN</td>\n      <td>NaN</td>\n    </tr>\n  </tbody>\n</table>\n</div>"
     },
     "metadata": {},
     "execution_count": 227
    }
   ],
   "source": [
    "rdf_comb_nd[condition_2]"
   ]
  },
  {
   "cell_type": "code",
   "execution_count": 235,
   "metadata": {},
   "outputs": [
    {
     "output_type": "execute_result",
     "data": {
      "text/plain": "           Restaurant Name                                 Restaurant Address  \\\n0  Hokkaido Ice Cream Puff  Summarecon Mall Serpong, Lantai 2, Jl. Bouleva...   \n1            Pempek Kenari  Ruko Modernland Metro, Blok B No. 19, Jl. Hart...   \n2      Kupat Tahu Magelang     Jl. Lebak Bulus 1 No. 18, Lebak Bulus, Jakarta   \n\n                           Price for 2  \\\n0   Rp80.000 untuk 2 orang (perkiraan)   \n1  Rp100.000 untuk 2 orang (perkiraan)   \n2   Rp60.000 untuk 2 orang (perkiraan)   \n\n                                             Website  \n0  https://www.zomato.com/id/jakarta/hokkaido-ice...  \n1  https://www.zomato.com/id/jakarta/pempek-kenar...  \n2  https://www.zomato.com/id/jakarta/kupat-tahu-m...  ",
      "text/html": "<div>\n<style scoped>\n    .dataframe tbody tr th:only-of-type {\n        vertical-align: middle;\n    }\n\n    .dataframe tbody tr th {\n        vertical-align: top;\n    }\n\n    .dataframe thead th {\n        text-align: right;\n    }\n</style>\n<table border=\"1\" class=\"dataframe\">\n  <thead>\n    <tr style=\"text-align: right;\">\n      <th></th>\n      <th>Restaurant Name</th>\n      <th>Restaurant Address</th>\n      <th>Price for 2</th>\n      <th>Website</th>\n    </tr>\n  </thead>\n  <tbody>\n    <tr>\n      <th>0</th>\n      <td>Hokkaido Ice Cream Puff</td>\n      <td>Summarecon Mall Serpong, Lantai 2, Jl. Bouleva...</td>\n      <td>Rp80.000 untuk 2 orang (perkiraan)</td>\n      <td>https://www.zomato.com/id/jakarta/hokkaido-ice...</td>\n    </tr>\n    <tr>\n      <th>1</th>\n      <td>Pempek Kenari</td>\n      <td>Ruko Modernland Metro, Blok B No. 19, Jl. Hart...</td>\n      <td>Rp100.000 untuk 2 orang (perkiraan)</td>\n      <td>https://www.zomato.com/id/jakarta/pempek-kenar...</td>\n    </tr>\n    <tr>\n      <th>2</th>\n      <td>Kupat Tahu Magelang</td>\n      <td>Jl. Lebak Bulus 1 No. 18, Lebak Bulus, Jakarta</td>\n      <td>Rp60.000 untuk 2 orang (perkiraan)</td>\n      <td>https://www.zomato.com/id/jakarta/kupat-tahu-m...</td>\n    </tr>\n  </tbody>\n</table>\n</div>"
     },
     "metadata": {},
     "execution_count": 235
    }
   ],
   "source": [
    "rdfscrape"
   ]
  },
  {
   "cell_type": "code",
   "execution_count": 236,
   "metadata": {},
   "outputs": [],
   "source": [
    "rdf_comb_nd = pd.merge(left=rdf_comb_nd, right=rdfscrape, how='left' ,left_on=['Restaurant Name','Website'], right_on=['Restaurant Name', 'Website'], suffixes=('_a','_b'))"
   ]
  },
  {
   "cell_type": "code",
   "execution_count": 237,
   "metadata": {},
   "outputs": [
    {
     "output_type": "execute_result",
     "data": {
      "text/plain": "         Restaurant Name Restaurant Type              Cuisine Type  \\\n0            Holy Smokes   Casual Dining  ['Grill House', 'Steak']   \n1         Pempek Megaria     Quick Bites             ['Palembang']   \n2          Tjikinii Lima   Casual Dining    ['Barat', 'Indonesia']   \n3      Gado-Gado Bon-Bin     Quick Bites                  ['Jawa']   \n...                  ...             ...                       ...   \n11263        Senja Toast     Quick Bites            ['Kue & Roti']   \n11264      Express Juice    Toko Minuman                   ['Jus']   \n11265     Ayam Selebriti     Quick Bites             ['Indonesia']   \n11266      Langit Coffee    Toko Minuman                  ['Kopi']   \n\n      Restaurant Area Restaurant Rating     Review Counts  \\\n0            Senopati               4.4      1,437 Ulasan   \n1              Cikini               4.3        461 Ulasan   \n2              Cikini               4.0        391 Ulasan   \n3              Cikini               4.0        177 Ulasan   \n...               ...               ...               ...   \n11263       Jagakarsa     Not Rated Yet  Not Reviewed Yet   \n11264      Bojongsari     Not Rated Yet  Not Reviewed Yet   \n11265          Meruya     Not Rated Yet  Not Reviewed Yet   \n11266  Kampung Melayu     Not Rated Yet  Not Reviewed Yet   \n\n                                         Additional Info       Latitude  \\\n0      ['Hanya Wine dan Bir', 'Di dalam ruangan', 'Wi...  -6.2391432684   \n1           ['Bawa Pulang Tersedia', 'Di dalam ruangan']  -6.1999000000   \n2      ['Bawa Pulang Tersedia', 'Area Merokok', 'Temp...  -6.1898019937   \n3           ['Bawa Pulang Tersedia', 'Di dalam ruangan']  -6.1929590000   \n...                                                  ...            ...   \n11263  ['Sarapan', 'Bawa Pulang Tersedia', 'Di dalam ...  -6.3443890000   \n11264       ['Bawa Pulang Tersedia', 'Di dalam ruangan']  -6.3611110000   \n11265  ['Bawa Pulang Tersedia', 'Area Merokok', 'Temp...  -6.2109790000   \n11266  ['Bawa Pulang Tersedia', 'Di dalam ruangan', '...  -6.2305090000   \n\n           Longitude                                            Website  \\\n0      106.807954162  https://www.zomato.com/id/jakarta/holy-smokes-...   \n1      106.843739000  https://www.zomato.com/id/jakarta/pempek-megar...   \n2      106.837150007  https://www.zomato.com/id/jakarta/tjikinii-lim...   \n3      106.838377000  https://www.zomato.com/id/jakarta/gado-gado-bo...   \n...              ...                                                ...   \n11263  106.832833000  https://www.zomato.com/id/jakarta/senja-toast-...   \n11264  106.747747000  https://www.zomato.com/id/jakarta/express-juic...   \n11265  106.737538000  https://www.zomato.com/id/jakarta/ayam-selebri...   \n11266  106.866974000  https://www.zomato.com/id/jakarta/langit-coffe...   \n\n                                    Restaurant Address_a  \\\n0        Jl. Wolter Monginsidi No. 27, Senopati, Jakarta   \n1      Metropole 21, Jl. Pegangsaan Timur No. 21, Cik...   \n2              Jl. Cikini I No. 5, Cikini, Jakarta 10330   \n3                    Jl. Cikini 4 No. 5, Cikini, Jakarta   \n...                                                  ...   \n11263         Jl. Raya Lenteng Agung, Jagakarsa, Jakarta   \n11264   Jl. Raya Ciputat Parung no 60, Bojongsari, Depok   \n11265          Jl. Meruya Selatan No.21, Meruya, Jakarta   \n11266   Jl. Otista Raya No. 60A, Kampung Melayu, Jakarta   \n\n                                          Price for 2_a Restaurant Address_b  \\\n0      Rp500.000 untuk 2 orang (perkiraan)Tanpa alkohol                  NaN   \n1                    Rp70.000 untuk 2 orang (perkiraan)                  NaN   \n2                   Rp300.000 untuk 2 orang (perkiraan)                  NaN   \n3                    Rp90.000 untuk 2 orang (perkiraan)                  NaN   \n...                                                 ...                  ...   \n11263                Rp60.000 untuk 2 orang (perkiraan)                  NaN   \n11264                Rp50.000 untuk 2 orang (perkiraan)                  NaN   \n11265                Rp50.000 untuk 2 orang (perkiraan)                  NaN   \n11266                Rp50.000 untuk 2 orang (perkiraan)                  NaN   \n\n      Price for 2_b  \n0               NaN  \n1               NaN  \n2               NaN  \n3               NaN  \n...             ...  \n11263           NaN  \n11264           NaN  \n11265           NaN  \n11266           NaN  \n\n[11267 rows x 14 columns]",
      "text/html": "<div>\n<style scoped>\n    .dataframe tbody tr th:only-of-type {\n        vertical-align: middle;\n    }\n\n    .dataframe tbody tr th {\n        vertical-align: top;\n    }\n\n    .dataframe thead th {\n        text-align: right;\n    }\n</style>\n<table border=\"1\" class=\"dataframe\">\n  <thead>\n    <tr style=\"text-align: right;\">\n      <th></th>\n      <th>Restaurant Name</th>\n      <th>Restaurant Type</th>\n      <th>Cuisine Type</th>\n      <th>Restaurant Area</th>\n      <th>Restaurant Rating</th>\n      <th>Review Counts</th>\n      <th>Additional Info</th>\n      <th>Latitude</th>\n      <th>Longitude</th>\n      <th>Website</th>\n      <th>Restaurant Address_a</th>\n      <th>Price for 2_a</th>\n      <th>Restaurant Address_b</th>\n      <th>Price for 2_b</th>\n    </tr>\n  </thead>\n  <tbody>\n    <tr>\n      <th>0</th>\n      <td>Holy Smokes</td>\n      <td>Casual Dining</td>\n      <td>['Grill House', 'Steak']</td>\n      <td>Senopati</td>\n      <td>4.4</td>\n      <td>1,437 Ulasan</td>\n      <td>['Hanya Wine dan Bir', 'Di dalam ruangan', 'Wi...</td>\n      <td>-6.2391432684</td>\n      <td>106.807954162</td>\n      <td>https://www.zomato.com/id/jakarta/holy-smokes-...</td>\n      <td>Jl. Wolter Monginsidi No. 27, Senopati, Jakarta</td>\n      <td>Rp500.000 untuk 2 orang (perkiraan)Tanpa alkohol</td>\n      <td>NaN</td>\n      <td>NaN</td>\n    </tr>\n    <tr>\n      <th>1</th>\n      <td>Pempek Megaria</td>\n      <td>Quick Bites</td>\n      <td>['Palembang']</td>\n      <td>Cikini</td>\n      <td>4.3</td>\n      <td>461 Ulasan</td>\n      <td>['Bawa Pulang Tersedia', 'Di dalam ruangan']</td>\n      <td>-6.1999000000</td>\n      <td>106.843739000</td>\n      <td>https://www.zomato.com/id/jakarta/pempek-megar...</td>\n      <td>Metropole 21, Jl. Pegangsaan Timur No. 21, Cik...</td>\n      <td>Rp70.000 untuk 2 orang (perkiraan)</td>\n      <td>NaN</td>\n      <td>NaN</td>\n    </tr>\n    <tr>\n      <th>2</th>\n      <td>Tjikinii Lima</td>\n      <td>Casual Dining</td>\n      <td>['Barat', 'Indonesia']</td>\n      <td>Cikini</td>\n      <td>4.0</td>\n      <td>391 Ulasan</td>\n      <td>['Bawa Pulang Tersedia', 'Area Merokok', 'Temp...</td>\n      <td>-6.1898019937</td>\n      <td>106.837150007</td>\n      <td>https://www.zomato.com/id/jakarta/tjikinii-lim...</td>\n      <td>Jl. Cikini I No. 5, Cikini, Jakarta 10330</td>\n      <td>Rp300.000 untuk 2 orang (perkiraan)</td>\n      <td>NaN</td>\n      <td>NaN</td>\n    </tr>\n    <tr>\n      <th>3</th>\n      <td>Gado-Gado Bon-Bin</td>\n      <td>Quick Bites</td>\n      <td>['Jawa']</td>\n      <td>Cikini</td>\n      <td>4.0</td>\n      <td>177 Ulasan</td>\n      <td>['Bawa Pulang Tersedia', 'Di dalam ruangan']</td>\n      <td>-6.1929590000</td>\n      <td>106.838377000</td>\n      <td>https://www.zomato.com/id/jakarta/gado-gado-bo...</td>\n      <td>Jl. Cikini 4 No. 5, Cikini, Jakarta</td>\n      <td>Rp90.000 untuk 2 orang (perkiraan)</td>\n      <td>NaN</td>\n      <td>NaN</td>\n    </tr>\n    <tr>\n      <th>...</th>\n      <td>...</td>\n      <td>...</td>\n      <td>...</td>\n      <td>...</td>\n      <td>...</td>\n      <td>...</td>\n      <td>...</td>\n      <td>...</td>\n      <td>...</td>\n      <td>...</td>\n      <td>...</td>\n      <td>...</td>\n      <td>...</td>\n      <td>...</td>\n    </tr>\n    <tr>\n      <th>11263</th>\n      <td>Senja Toast</td>\n      <td>Quick Bites</td>\n      <td>['Kue &amp; Roti']</td>\n      <td>Jagakarsa</td>\n      <td>Not Rated Yet</td>\n      <td>Not Reviewed Yet</td>\n      <td>['Sarapan', 'Bawa Pulang Tersedia', 'Di dalam ...</td>\n      <td>-6.3443890000</td>\n      <td>106.832833000</td>\n      <td>https://www.zomato.com/id/jakarta/senja-toast-...</td>\n      <td>Jl. Raya Lenteng Agung, Jagakarsa, Jakarta</td>\n      <td>Rp60.000 untuk 2 orang (perkiraan)</td>\n      <td>NaN</td>\n      <td>NaN</td>\n    </tr>\n    <tr>\n      <th>11264</th>\n      <td>Express Juice</td>\n      <td>Toko Minuman</td>\n      <td>['Jus']</td>\n      <td>Bojongsari</td>\n      <td>Not Rated Yet</td>\n      <td>Not Reviewed Yet</td>\n      <td>['Bawa Pulang Tersedia', 'Di dalam ruangan']</td>\n      <td>-6.3611110000</td>\n      <td>106.747747000</td>\n      <td>https://www.zomato.com/id/jakarta/express-juic...</td>\n      <td>Jl. Raya Ciputat Parung no 60, Bojongsari, Depok</td>\n      <td>Rp50.000 untuk 2 orang (perkiraan)</td>\n      <td>NaN</td>\n      <td>NaN</td>\n    </tr>\n    <tr>\n      <th>11265</th>\n      <td>Ayam Selebriti</td>\n      <td>Quick Bites</td>\n      <td>['Indonesia']</td>\n      <td>Meruya</td>\n      <td>Not Rated Yet</td>\n      <td>Not Reviewed Yet</td>\n      <td>['Bawa Pulang Tersedia', 'Area Merokok', 'Temp...</td>\n      <td>-6.2109790000</td>\n      <td>106.737538000</td>\n      <td>https://www.zomato.com/id/jakarta/ayam-selebri...</td>\n      <td>Jl. Meruya Selatan No.21, Meruya, Jakarta</td>\n      <td>Rp50.000 untuk 2 orang (perkiraan)</td>\n      <td>NaN</td>\n      <td>NaN</td>\n    </tr>\n    <tr>\n      <th>11266</th>\n      <td>Langit Coffee</td>\n      <td>Toko Minuman</td>\n      <td>['Kopi']</td>\n      <td>Kampung Melayu</td>\n      <td>Not Rated Yet</td>\n      <td>Not Reviewed Yet</td>\n      <td>['Bawa Pulang Tersedia', 'Di dalam ruangan', '...</td>\n      <td>-6.2305090000</td>\n      <td>106.866974000</td>\n      <td>https://www.zomato.com/id/jakarta/langit-coffe...</td>\n      <td>Jl. Otista Raya No. 60A, Kampung Melayu, Jakarta</td>\n      <td>Rp50.000 untuk 2 orang (perkiraan)</td>\n      <td>NaN</td>\n      <td>NaN</td>\n    </tr>\n  </tbody>\n</table>\n<p>11267 rows × 14 columns</p>\n</div>"
     },
     "metadata": {},
     "execution_count": 237
    }
   ],
   "source": [
    "rdf_comb_nd"
   ]
  },
  {
   "cell_type": "code",
   "execution_count": 238,
   "metadata": {},
   "outputs": [],
   "source": [
    "rdf_comb_nd['Restaurant Address'] = rdf_comb_nd.apply(lambda row: res_address2(row), axis=1)\n",
    "rdf_comb_nd['Price for 2'] = rdf_comb_nd.apply(lambda row: res_price2(row), axis=1)"
   ]
  },
  {
   "cell_type": "code",
   "execution_count": 239,
   "metadata": {},
   "outputs": [],
   "source": [
    "rdf_comb_nd.drop(['Restaurant Address_a', 'Restaurant Address_b', 'Price for 2_a', 'Price for 2_b'], axis=1,inplace=True)"
   ]
  },
  {
   "cell_type": "code",
   "execution_count": null,
   "metadata": {},
   "outputs": [],
   "source": [
    "(rdf_comb_nd['Additional Info'].str[0:2] == \"[]\") "
   ]
  },
  {
   "cell_type": "code",
   "execution_count": 265,
   "metadata": {},
   "outputs": [],
   "source": [
    "condition_3 = (rdf_comb_nd['Additional Info'].str[0:3] == \"[''\") | (rdf_comb_nd['Additional Info'].str[0:2] == \"[]\") "
   ]
  },
  {
   "cell_type": "code",
   "execution_count": 266,
   "metadata": {},
   "outputs": [
    {
     "output_type": "execute_result",
     "data": {
      "text/plain": "                     Restaurant Name  Restaurant Type  \\\n22     Siomay Batagor Satya Tenggiri        Kaki Lima   \n305                Sop & Bakmi Paton       Food Court   \n452                        Mee_Oowfè      Quick Bites   \n453          Turn On Coffee & Eatery      Quick Bites   \n...                              ...              ...   \n11201                    Tiga Wonton      Quick Bites   \n11202                    Tiga Wonton      Quick Bites   \n11204                      Pagi Sore    Casual Dining   \n11215                    Hanna Bakes  Toko Kue & Roti   \n\n                         Cuisine Type Restaurant Area Restaurant Rating  \\\n22                      ['Indonesia']          Sunter     Not Rated Yet   \n305                         ['Bakmi']     Bogor Barat     Not Rated Yet   \n452             ['Indonesia', 'Kopi']     Bogor Utara     Not Rated Yet   \n453    ['Indonesia', 'Barat', 'Kopi']     Kebon Jeruk     Not Rated Yet   \n...                               ...             ...               ...   \n11201                     ['Chinese']   Gatot Subroto     Not Rated Yet   \n11202                     ['Chinese']   Serpong Utara     Not Rated Yet   \n11204                      ['Padang']          Kemang     Not Rated Yet   \n11215      ['Kue & Roti', 'Desserts']   Kelapa Gading     Not Rated Yet   \n\n            Review Counts Additional Info       Latitude      Longitude  \\\n22     TIdak cukup Ulasan              []  -6.1387440000  106.861207000   \n305    TIdak cukup Ulasan              []  -6.5477290000  106.760553000   \n452    TIdak cukup Ulasan              []  -6.5820490000  106.814839000   \n453    TIdak cukup Ulasan              []  -6.1972550000  106.764359000   \n...                   ...             ...            ...            ...   \n11201    Not Reviewed Yet              []  -6.2360723229  106.823362782   \n11202    Not Reviewed Yet              []  -6.2418638889  106.657019444   \n11204    Not Reviewed Yet              []  -6.2611180000  106.815419000   \n11215    Not Reviewed Yet              []  -6.1685020000  106.915511000   \n\n                                                 Website  \\\n22     https://www.zomato.com/id/jakarta/siomay-batag...   \n305    https://www.zomato.com/id/jakarta/sop-bakmi-pa...   \n452    https://www.zomato.com/id/jakarta/mee-oowfè-2-...   \n453    https://www.zomato.com/id/jakarta/turn-on-coff...   \n...                                                  ...   \n11201  https://www.zomato.com/id/jakarta/tiga-wonton-...   \n11202  https://www.zomato.com/id/jakarta/tiga-wonton-...   \n11204  https://www.zomato.com/id/jakarta/pagi-sore-ke...   \n11215  https://www.zomato.com/id/jakarta/hanna-bakes-...   \n\n                                      Restaurant Address  \\\n22            Jl. Agung Utara 24 No. 23, Sunter, Jakarta   \n305    Food Court Pulen Kitchens, Jl. Raya Semplak No...   \n452    Ruko 2C, Jl. Achmad Sobana No. 28, Bogor Utara...   \n453    Harvia Suites Building, Jl. Raya Perjuangan No...   \n...                                                  ...   \n11201  Wisma Mulia City Plaza, Lantai Lower Ground, J...   \n11202  Living World, Lantai Ground, Jl. Alam Sutera B...   \n11204                   Jl. Kemang Raya, Kemang, Jakarta   \n11215  Jl. Pegangsaan Indah Bar. No.7, RT.2/RW.16, Pe...   \n\n                               Price for 2  \n22      Rp50.000 untuk 2 orang (perkiraan)  \n305     Rp50.000 untuk 2 orang (perkiraan)  \n452                    No Price Data Found  \n453                    No Price Data Found  \n...                                    ...  \n11201  Rp120.000 untuk 2 orang (perkiraan)  \n11202  Rp120.000 untuk 2 orang (perkiraan)  \n11204  Rp150.000 untuk 2 orang (perkiraan)  \n11215                  No Price Data Found  \n\n[287 rows x 12 columns]",
      "text/html": "<div>\n<style scoped>\n    .dataframe tbody tr th:only-of-type {\n        vertical-align: middle;\n    }\n\n    .dataframe tbody tr th {\n        vertical-align: top;\n    }\n\n    .dataframe thead th {\n        text-align: right;\n    }\n</style>\n<table border=\"1\" class=\"dataframe\">\n  <thead>\n    <tr style=\"text-align: right;\">\n      <th></th>\n      <th>Restaurant Name</th>\n      <th>Restaurant Type</th>\n      <th>Cuisine Type</th>\n      <th>Restaurant Area</th>\n      <th>Restaurant Rating</th>\n      <th>Review Counts</th>\n      <th>Additional Info</th>\n      <th>Latitude</th>\n      <th>Longitude</th>\n      <th>Website</th>\n      <th>Restaurant Address</th>\n      <th>Price for 2</th>\n    </tr>\n  </thead>\n  <tbody>\n    <tr>\n      <th>22</th>\n      <td>Siomay Batagor Satya Tenggiri</td>\n      <td>Kaki Lima</td>\n      <td>['Indonesia']</td>\n      <td>Sunter</td>\n      <td>Not Rated Yet</td>\n      <td>TIdak cukup Ulasan</td>\n      <td>[]</td>\n      <td>-6.1387440000</td>\n      <td>106.861207000</td>\n      <td>https://www.zomato.com/id/jakarta/siomay-batag...</td>\n      <td>Jl. Agung Utara 24 No. 23, Sunter, Jakarta</td>\n      <td>Rp50.000 untuk 2 orang (perkiraan)</td>\n    </tr>\n    <tr>\n      <th>305</th>\n      <td>Sop &amp; Bakmi Paton</td>\n      <td>Food Court</td>\n      <td>['Bakmi']</td>\n      <td>Bogor Barat</td>\n      <td>Not Rated Yet</td>\n      <td>TIdak cukup Ulasan</td>\n      <td>[]</td>\n      <td>-6.5477290000</td>\n      <td>106.760553000</td>\n      <td>https://www.zomato.com/id/jakarta/sop-bakmi-pa...</td>\n      <td>Food Court Pulen Kitchens, Jl. Raya Semplak No...</td>\n      <td>Rp50.000 untuk 2 orang (perkiraan)</td>\n    </tr>\n    <tr>\n      <th>452</th>\n      <td>Mee_Oowfè</td>\n      <td>Quick Bites</td>\n      <td>['Indonesia', 'Kopi']</td>\n      <td>Bogor Utara</td>\n      <td>Not Rated Yet</td>\n      <td>TIdak cukup Ulasan</td>\n      <td>[]</td>\n      <td>-6.5820490000</td>\n      <td>106.814839000</td>\n      <td>https://www.zomato.com/id/jakarta/mee-oowfè-2-...</td>\n      <td>Ruko 2C, Jl. Achmad Sobana No. 28, Bogor Utara...</td>\n      <td>No Price Data Found</td>\n    </tr>\n    <tr>\n      <th>453</th>\n      <td>Turn On Coffee &amp; Eatery</td>\n      <td>Quick Bites</td>\n      <td>['Indonesia', 'Barat', 'Kopi']</td>\n      <td>Kebon Jeruk</td>\n      <td>Not Rated Yet</td>\n      <td>TIdak cukup Ulasan</td>\n      <td>[]</td>\n      <td>-6.1972550000</td>\n      <td>106.764359000</td>\n      <td>https://www.zomato.com/id/jakarta/turn-on-coff...</td>\n      <td>Harvia Suites Building, Jl. Raya Perjuangan No...</td>\n      <td>No Price Data Found</td>\n    </tr>\n    <tr>\n      <th>...</th>\n      <td>...</td>\n      <td>...</td>\n      <td>...</td>\n      <td>...</td>\n      <td>...</td>\n      <td>...</td>\n      <td>...</td>\n      <td>...</td>\n      <td>...</td>\n      <td>...</td>\n      <td>...</td>\n      <td>...</td>\n    </tr>\n    <tr>\n      <th>11201</th>\n      <td>Tiga Wonton</td>\n      <td>Quick Bites</td>\n      <td>['Chinese']</td>\n      <td>Gatot Subroto</td>\n      <td>Not Rated Yet</td>\n      <td>Not Reviewed Yet</td>\n      <td>[]</td>\n      <td>-6.2360723229</td>\n      <td>106.823362782</td>\n      <td>https://www.zomato.com/id/jakarta/tiga-wonton-...</td>\n      <td>Wisma Mulia City Plaza, Lantai Lower Ground, J...</td>\n      <td>Rp120.000 untuk 2 orang (perkiraan)</td>\n    </tr>\n    <tr>\n      <th>11202</th>\n      <td>Tiga Wonton</td>\n      <td>Quick Bites</td>\n      <td>['Chinese']</td>\n      <td>Serpong Utara</td>\n      <td>Not Rated Yet</td>\n      <td>Not Reviewed Yet</td>\n      <td>[]</td>\n      <td>-6.2418638889</td>\n      <td>106.657019444</td>\n      <td>https://www.zomato.com/id/jakarta/tiga-wonton-...</td>\n      <td>Living World, Lantai Ground, Jl. Alam Sutera B...</td>\n      <td>Rp120.000 untuk 2 orang (perkiraan)</td>\n    </tr>\n    <tr>\n      <th>11204</th>\n      <td>Pagi Sore</td>\n      <td>Casual Dining</td>\n      <td>['Padang']</td>\n      <td>Kemang</td>\n      <td>Not Rated Yet</td>\n      <td>Not Reviewed Yet</td>\n      <td>[]</td>\n      <td>-6.2611180000</td>\n      <td>106.815419000</td>\n      <td>https://www.zomato.com/id/jakarta/pagi-sore-ke...</td>\n      <td>Jl. Kemang Raya, Kemang, Jakarta</td>\n      <td>Rp150.000 untuk 2 orang (perkiraan)</td>\n    </tr>\n    <tr>\n      <th>11215</th>\n      <td>Hanna Bakes</td>\n      <td>Toko Kue &amp; Roti</td>\n      <td>['Kue &amp; Roti', 'Desserts']</td>\n      <td>Kelapa Gading</td>\n      <td>Not Rated Yet</td>\n      <td>Not Reviewed Yet</td>\n      <td>[]</td>\n      <td>-6.1685020000</td>\n      <td>106.915511000</td>\n      <td>https://www.zomato.com/id/jakarta/hanna-bakes-...</td>\n      <td>Jl. Pegangsaan Indah Bar. No.7, RT.2/RW.16, Pe...</td>\n      <td>No Price Data Found</td>\n    </tr>\n  </tbody>\n</table>\n<p>287 rows × 12 columns</p>\n</div>"
     },
     "metadata": {},
     "execution_count": 266
    }
   ],
   "source": [
    "rdf_comb_nd[condition_3]"
   ]
  },
  {
   "cell_type": "code",
   "execution_count": 276,
   "metadata": {},
   "outputs": [
    {
     "output_type": "execute_result",
     "data": {
      "text/plain": "                 Restaurant Name  \\\n0  Siomay Batagor Satya Tenggiri   \n1              Sop & Bakmi Paton   \n2                      Mee_Oowfè   \n3        Turn On Coffee & Eatery   \n4     One More Shot Coffee House   \n\n                                     Additional Info  \\\n0                             ['No Additional Info']   \n1                             ['No Additional Info']   \n2  ['', '', '', 'Bawa Pulang Tersedia', 'Di dalam...   \n3  ['Bawa Pulang Tersedia', 'Hanya Bir', 'Tempat ...   \n4  ['Bawa Pulang Tersedia', 'Tempat duduk di luar...   \n\n                                             Website  \n0  https://www.zomato.com/id/jakarta/siomay-batag...  \n1  https://www.zomato.com/id/jakarta/sop-bakmi-pa...  \n2  https://www.zomato.com/id/jakarta/mee-oowfè-2-...  \n3  https://www.zomato.com/id/jakarta/turn-on-coff...  \n4  https://www.zomato.com/id/jakarta/one-more-sho...  ",
      "text/html": "<div>\n<style scoped>\n    .dataframe tbody tr th:only-of-type {\n        vertical-align: middle;\n    }\n\n    .dataframe tbody tr th {\n        vertical-align: top;\n    }\n\n    .dataframe thead th {\n        text-align: right;\n    }\n</style>\n<table border=\"1\" class=\"dataframe\">\n  <thead>\n    <tr style=\"text-align: right;\">\n      <th></th>\n      <th>Restaurant Name</th>\n      <th>Additional Info</th>\n      <th>Website</th>\n    </tr>\n  </thead>\n  <tbody>\n    <tr>\n      <th>0</th>\n      <td>Siomay Batagor Satya Tenggiri</td>\n      <td>['No Additional Info']</td>\n      <td>https://www.zomato.com/id/jakarta/siomay-batag...</td>\n    </tr>\n    <tr>\n      <th>1</th>\n      <td>Sop &amp; Bakmi Paton</td>\n      <td>['No Additional Info']</td>\n      <td>https://www.zomato.com/id/jakarta/sop-bakmi-pa...</td>\n    </tr>\n    <tr>\n      <th>2</th>\n      <td>Mee_Oowfè</td>\n      <td>['', '', '', 'Bawa Pulang Tersedia', 'Di dalam...</td>\n      <td>https://www.zomato.com/id/jakarta/mee-oowfè-2-...</td>\n    </tr>\n    <tr>\n      <th>3</th>\n      <td>Turn On Coffee &amp; Eatery</td>\n      <td>['Bawa Pulang Tersedia', 'Hanya Bir', 'Tempat ...</td>\n      <td>https://www.zomato.com/id/jakarta/turn-on-coff...</td>\n    </tr>\n    <tr>\n      <th>4</th>\n      <td>One More Shot Coffee House</td>\n      <td>['Bawa Pulang Tersedia', 'Tempat duduk di luar...</td>\n      <td>https://www.zomato.com/id/jakarta/one-more-sho...</td>\n    </tr>\n  </tbody>\n</table>\n</div>"
     },
     "metadata": {},
     "execution_count": 276
    }
   ],
   "source": [
    "rdfscrape3.head()"
   ]
  },
  {
   "cell_type": "code",
   "execution_count": 311,
   "metadata": {},
   "outputs": [],
   "source": [
    "rdf_comb_nd2 = pd.merge(left=rdf_comb_nd, right=rdfscrape4, how='left' ,left_on=['Restaurant Name','Website'], right_on=['Restaurant Name', 'Website'], suffixes=('_a','_b'))"
   ]
  },
  {
   "cell_type": "code",
   "execution_count": 312,
   "metadata": {},
   "outputs": [],
   "source": [
    "def add_info(row):\n",
    "    string = str(row['Additional Info_a'])\n",
    "    if (string[0:3] == \"[''\") or (string[0:2] == \"[]\") :\n",
    "        return row['Additional Info_b']\n",
    "    else:\n",
    "        return row['Additional Info_a']\n"
   ]
  },
  {
   "cell_type": "code",
   "execution_count": 313,
   "metadata": {},
   "outputs": [],
   "source": [
    "rdf_comb_nd2['Additional Info'] = rdf_comb_nd2.apply(lambda row: add_info(row), axis=1)"
   ]
  },
  {
   "cell_type": "code",
   "execution_count": 314,
   "metadata": {},
   "outputs": [
    {
     "output_type": "execute_result",
     "data": {
      "text/plain": "                     Restaurant Name  Restaurant Type  \\\n22     Siomay Batagor Satya Tenggiri        Kaki Lima   \n305                Sop & Bakmi Paton       Food Court   \n452                        Mee_Oowfè      Quick Bites   \n...                              ...              ...   \n11202                    Tiga Wonton      Quick Bites   \n11204                      Pagi Sore    Casual Dining   \n11215                    Hanna Bakes  Toko Kue & Roti   \n\n                     Cuisine Type Restaurant Area Restaurant Rating  \\\n22                  ['Indonesia']          Sunter     Not Rated Yet   \n305                     ['Bakmi']     Bogor Barat     Not Rated Yet   \n452         ['Indonesia', 'Kopi']     Bogor Utara     Not Rated Yet   \n...                           ...             ...               ...   \n11202                 ['Chinese']   Serpong Utara     Not Rated Yet   \n11204                  ['Padang']          Kemang     Not Rated Yet   \n11215  ['Kue & Roti', 'Desserts']   Kelapa Gading     Not Rated Yet   \n\n            Review Counts Additional Info_a       Latitude      Longitude  \\\n22     TIdak cukup Ulasan                []  -6.1387440000  106.861207000   \n305    TIdak cukup Ulasan                []  -6.5477290000  106.760553000   \n452    TIdak cukup Ulasan                []  -6.5820490000  106.814839000   \n...                   ...               ...            ...            ...   \n11202    Not Reviewed Yet                []  -6.2418638889  106.657019444   \n11204    Not Reviewed Yet                []  -6.2611180000  106.815419000   \n11215    Not Reviewed Yet                []  -6.1685020000  106.915511000   \n\n                                                 Website  \\\n22     https://www.zomato.com/id/jakarta/siomay-batag...   \n305    https://www.zomato.com/id/jakarta/sop-bakmi-pa...   \n452    https://www.zomato.com/id/jakarta/mee-oowfè-2-...   \n...                                                  ...   \n11202  https://www.zomato.com/id/jakarta/tiga-wonton-...   \n11204  https://www.zomato.com/id/jakarta/pagi-sore-ke...   \n11215  https://www.zomato.com/id/jakarta/hanna-bakes-...   \n\n                                      Restaurant Address  \\\n22            Jl. Agung Utara 24 No. 23, Sunter, Jakarta   \n305    Food Court Pulen Kitchens, Jl. Raya Semplak No...   \n452    Ruko 2C, Jl. Achmad Sobana No. 28, Bogor Utara...   \n...                                                  ...   \n11202  Living World, Lantai Ground, Jl. Alam Sutera B...   \n11204                   Jl. Kemang Raya, Kemang, Jakarta   \n11215  Jl. Pegangsaan Indah Bar. No.7, RT.2/RW.16, Pe...   \n\n                               Price for 2  \\\n22      Rp50.000 untuk 2 orang (perkiraan)   \n305     Rp50.000 untuk 2 orang (perkiraan)   \n452                    No Price Data Found   \n...                                    ...   \n11202  Rp120.000 untuk 2 orang (perkiraan)   \n11204  Rp150.000 untuk 2 orang (perkiraan)   \n11215                  No Price Data Found   \n\n                                       Additional Info_b  \\\n22                                ['No Additional Info']   \n305                               ['No Additional Info']   \n452    ['', '', '', 'Bawa Pulang Tersedia', 'Di dalam...   \n...                                                  ...   \n11202                             ['No Additional Info']   \n11204                               [No Additional Info]   \n11215                               [No Additional Info]   \n\n                                         Additional Info  \n22                                ['No Additional Info']  \n305                               ['No Additional Info']  \n452    ['', '', '', 'Bawa Pulang Tersedia', 'Di dalam...  \n...                                                  ...  \n11202                             ['No Additional Info']  \n11204                               [No Additional Info]  \n11215                               [No Additional Info]  \n\n[287 rows x 14 columns]",
      "text/html": "<div>\n<style scoped>\n    .dataframe tbody tr th:only-of-type {\n        vertical-align: middle;\n    }\n\n    .dataframe tbody tr th {\n        vertical-align: top;\n    }\n\n    .dataframe thead th {\n        text-align: right;\n    }\n</style>\n<table border=\"1\" class=\"dataframe\">\n  <thead>\n    <tr style=\"text-align: right;\">\n      <th></th>\n      <th>Restaurant Name</th>\n      <th>Restaurant Type</th>\n      <th>Cuisine Type</th>\n      <th>Restaurant Area</th>\n      <th>Restaurant Rating</th>\n      <th>Review Counts</th>\n      <th>Additional Info_a</th>\n      <th>Latitude</th>\n      <th>Longitude</th>\n      <th>Website</th>\n      <th>Restaurant Address</th>\n      <th>Price for 2</th>\n      <th>Additional Info_b</th>\n      <th>Additional Info</th>\n    </tr>\n  </thead>\n  <tbody>\n    <tr>\n      <th>22</th>\n      <td>Siomay Batagor Satya Tenggiri</td>\n      <td>Kaki Lima</td>\n      <td>['Indonesia']</td>\n      <td>Sunter</td>\n      <td>Not Rated Yet</td>\n      <td>TIdak cukup Ulasan</td>\n      <td>[]</td>\n      <td>-6.1387440000</td>\n      <td>106.861207000</td>\n      <td>https://www.zomato.com/id/jakarta/siomay-batag...</td>\n      <td>Jl. Agung Utara 24 No. 23, Sunter, Jakarta</td>\n      <td>Rp50.000 untuk 2 orang (perkiraan)</td>\n      <td>['No Additional Info']</td>\n      <td>['No Additional Info']</td>\n    </tr>\n    <tr>\n      <th>305</th>\n      <td>Sop &amp; Bakmi Paton</td>\n      <td>Food Court</td>\n      <td>['Bakmi']</td>\n      <td>Bogor Barat</td>\n      <td>Not Rated Yet</td>\n      <td>TIdak cukup Ulasan</td>\n      <td>[]</td>\n      <td>-6.5477290000</td>\n      <td>106.760553000</td>\n      <td>https://www.zomato.com/id/jakarta/sop-bakmi-pa...</td>\n      <td>Food Court Pulen Kitchens, Jl. Raya Semplak No...</td>\n      <td>Rp50.000 untuk 2 orang (perkiraan)</td>\n      <td>['No Additional Info']</td>\n      <td>['No Additional Info']</td>\n    </tr>\n    <tr>\n      <th>452</th>\n      <td>Mee_Oowfè</td>\n      <td>Quick Bites</td>\n      <td>['Indonesia', 'Kopi']</td>\n      <td>Bogor Utara</td>\n      <td>Not Rated Yet</td>\n      <td>TIdak cukup Ulasan</td>\n      <td>[]</td>\n      <td>-6.5820490000</td>\n      <td>106.814839000</td>\n      <td>https://www.zomato.com/id/jakarta/mee-oowfè-2-...</td>\n      <td>Ruko 2C, Jl. Achmad Sobana No. 28, Bogor Utara...</td>\n      <td>No Price Data Found</td>\n      <td>['', '', '', 'Bawa Pulang Tersedia', 'Di dalam...</td>\n      <td>['', '', '', 'Bawa Pulang Tersedia', 'Di dalam...</td>\n    </tr>\n    <tr>\n      <th>...</th>\n      <td>...</td>\n      <td>...</td>\n      <td>...</td>\n      <td>...</td>\n      <td>...</td>\n      <td>...</td>\n      <td>...</td>\n      <td>...</td>\n      <td>...</td>\n      <td>...</td>\n      <td>...</td>\n      <td>...</td>\n      <td>...</td>\n      <td>...</td>\n    </tr>\n    <tr>\n      <th>11202</th>\n      <td>Tiga Wonton</td>\n      <td>Quick Bites</td>\n      <td>['Chinese']</td>\n      <td>Serpong Utara</td>\n      <td>Not Rated Yet</td>\n      <td>Not Reviewed Yet</td>\n      <td>[]</td>\n      <td>-6.2418638889</td>\n      <td>106.657019444</td>\n      <td>https://www.zomato.com/id/jakarta/tiga-wonton-...</td>\n      <td>Living World, Lantai Ground, Jl. Alam Sutera B...</td>\n      <td>Rp120.000 untuk 2 orang (perkiraan)</td>\n      <td>['No Additional Info']</td>\n      <td>['No Additional Info']</td>\n    </tr>\n    <tr>\n      <th>11204</th>\n      <td>Pagi Sore</td>\n      <td>Casual Dining</td>\n      <td>['Padang']</td>\n      <td>Kemang</td>\n      <td>Not Rated Yet</td>\n      <td>Not Reviewed Yet</td>\n      <td>[]</td>\n      <td>-6.2611180000</td>\n      <td>106.815419000</td>\n      <td>https://www.zomato.com/id/jakarta/pagi-sore-ke...</td>\n      <td>Jl. Kemang Raya, Kemang, Jakarta</td>\n      <td>Rp150.000 untuk 2 orang (perkiraan)</td>\n      <td>[No Additional Info]</td>\n      <td>[No Additional Info]</td>\n    </tr>\n    <tr>\n      <th>11215</th>\n      <td>Hanna Bakes</td>\n      <td>Toko Kue &amp; Roti</td>\n      <td>['Kue &amp; Roti', 'Desserts']</td>\n      <td>Kelapa Gading</td>\n      <td>Not Rated Yet</td>\n      <td>Not Reviewed Yet</td>\n      <td>[]</td>\n      <td>-6.1685020000</td>\n      <td>106.915511000</td>\n      <td>https://www.zomato.com/id/jakarta/hanna-bakes-...</td>\n      <td>Jl. Pegangsaan Indah Bar. No.7, RT.2/RW.16, Pe...</td>\n      <td>No Price Data Found</td>\n      <td>[No Additional Info]</td>\n      <td>[No Additional Info]</td>\n    </tr>\n  </tbody>\n</table>\n<p>287 rows × 14 columns</p>\n</div>"
     },
     "metadata": {},
     "execution_count": 314
    }
   ],
   "source": [
    "rdf_comb_nd2[condition_3]"
   ]
  },
  {
   "cell_type": "code",
   "execution_count": 315,
   "metadata": {},
   "outputs": [
    {
     "output_type": "execute_result",
     "data": {
      "text/plain": "      Restaurant Name Restaurant Type              Cuisine Type  \\\n0         Holy Smokes   Casual Dining  ['Grill House', 'Steak']   \n1      Pempek Megaria     Quick Bites             ['Palembang']   \n2       Tjikinii Lima   Casual Dining    ['Barat', 'Indonesia']   \n...               ...             ...                       ...   \n11264   Express Juice    Toko Minuman                   ['Jus']   \n11265  Ayam Selebriti     Quick Bites             ['Indonesia']   \n11266   Langit Coffee    Toko Minuman                  ['Kopi']   \n\n      Restaurant Area Restaurant Rating     Review Counts  \\\n0            Senopati               4.4      1,437 Ulasan   \n1              Cikini               4.3        461 Ulasan   \n2              Cikini               4.0        391 Ulasan   \n...               ...               ...               ...   \n11264      Bojongsari     Not Rated Yet  Not Reviewed Yet   \n11265          Meruya     Not Rated Yet  Not Reviewed Yet   \n11266  Kampung Melayu     Not Rated Yet  Not Reviewed Yet   \n\n                                       Additional Info_a       Latitude  \\\n0      ['Hanya Wine dan Bir', 'Di dalam ruangan', 'Wi...  -6.2391432684   \n1           ['Bawa Pulang Tersedia', 'Di dalam ruangan']  -6.1999000000   \n2      ['Bawa Pulang Tersedia', 'Area Merokok', 'Temp...  -6.1898019937   \n...                                                  ...            ...   \n11264       ['Bawa Pulang Tersedia', 'Di dalam ruangan']  -6.3611110000   \n11265  ['Bawa Pulang Tersedia', 'Area Merokok', 'Temp...  -6.2109790000   \n11266  ['Bawa Pulang Tersedia', 'Di dalam ruangan', '...  -6.2305090000   \n\n           Longitude                                            Website  \\\n0      106.807954162  https://www.zomato.com/id/jakarta/holy-smokes-...   \n1      106.843739000  https://www.zomato.com/id/jakarta/pempek-megar...   \n2      106.837150007  https://www.zomato.com/id/jakarta/tjikinii-lim...   \n...              ...                                                ...   \n11264  106.747747000  https://www.zomato.com/id/jakarta/express-juic...   \n11265  106.737538000  https://www.zomato.com/id/jakarta/ayam-selebri...   \n11266  106.866974000  https://www.zomato.com/id/jakarta/langit-coffe...   \n\n                                      Restaurant Address  \\\n0        Jl. Wolter Monginsidi No. 27, Senopati, Jakarta   \n1      Metropole 21, Jl. Pegangsaan Timur No. 21, Cik...   \n2              Jl. Cikini I No. 5, Cikini, Jakarta 10330   \n...                                                  ...   \n11264   Jl. Raya Ciputat Parung no 60, Bojongsari, Depok   \n11265          Jl. Meruya Selatan No.21, Meruya, Jakarta   \n11266   Jl. Otista Raya No. 60A, Kampung Melayu, Jakarta   \n\n                                            Price for 2 Additional Info_b  \\\n0      Rp500.000 untuk 2 orang (perkiraan)Tanpa alkohol               NaN   \n1                    Rp70.000 untuk 2 orang (perkiraan)               NaN   \n2                   Rp300.000 untuk 2 orang (perkiraan)               NaN   \n...                                                 ...               ...   \n11264                Rp50.000 untuk 2 orang (perkiraan)               NaN   \n11265                Rp50.000 untuk 2 orang (perkiraan)               NaN   \n11266                Rp50.000 untuk 2 orang (perkiraan)               NaN   \n\n                                         Additional Info  \n0      ['Hanya Wine dan Bir', 'Di dalam ruangan', 'Wi...  \n1           ['Bawa Pulang Tersedia', 'Di dalam ruangan']  \n2      ['Bawa Pulang Tersedia', 'Area Merokok', 'Temp...  \n...                                                  ...  \n11264       ['Bawa Pulang Tersedia', 'Di dalam ruangan']  \n11265  ['Bawa Pulang Tersedia', 'Area Merokok', 'Temp...  \n11266  ['Bawa Pulang Tersedia', 'Di dalam ruangan', '...  \n\n[11267 rows x 14 columns]",
      "text/html": "<div>\n<style scoped>\n    .dataframe tbody tr th:only-of-type {\n        vertical-align: middle;\n    }\n\n    .dataframe tbody tr th {\n        vertical-align: top;\n    }\n\n    .dataframe thead th {\n        text-align: right;\n    }\n</style>\n<table border=\"1\" class=\"dataframe\">\n  <thead>\n    <tr style=\"text-align: right;\">\n      <th></th>\n      <th>Restaurant Name</th>\n      <th>Restaurant Type</th>\n      <th>Cuisine Type</th>\n      <th>Restaurant Area</th>\n      <th>Restaurant Rating</th>\n      <th>Review Counts</th>\n      <th>Additional Info_a</th>\n      <th>Latitude</th>\n      <th>Longitude</th>\n      <th>Website</th>\n      <th>Restaurant Address</th>\n      <th>Price for 2</th>\n      <th>Additional Info_b</th>\n      <th>Additional Info</th>\n    </tr>\n  </thead>\n  <tbody>\n    <tr>\n      <th>0</th>\n      <td>Holy Smokes</td>\n      <td>Casual Dining</td>\n      <td>['Grill House', 'Steak']</td>\n      <td>Senopati</td>\n      <td>4.4</td>\n      <td>1,437 Ulasan</td>\n      <td>['Hanya Wine dan Bir', 'Di dalam ruangan', 'Wi...</td>\n      <td>-6.2391432684</td>\n      <td>106.807954162</td>\n      <td>https://www.zomato.com/id/jakarta/holy-smokes-...</td>\n      <td>Jl. Wolter Monginsidi No. 27, Senopati, Jakarta</td>\n      <td>Rp500.000 untuk 2 orang (perkiraan)Tanpa alkohol</td>\n      <td>NaN</td>\n      <td>['Hanya Wine dan Bir', 'Di dalam ruangan', 'Wi...</td>\n    </tr>\n    <tr>\n      <th>1</th>\n      <td>Pempek Megaria</td>\n      <td>Quick Bites</td>\n      <td>['Palembang']</td>\n      <td>Cikini</td>\n      <td>4.3</td>\n      <td>461 Ulasan</td>\n      <td>['Bawa Pulang Tersedia', 'Di dalam ruangan']</td>\n      <td>-6.1999000000</td>\n      <td>106.843739000</td>\n      <td>https://www.zomato.com/id/jakarta/pempek-megar...</td>\n      <td>Metropole 21, Jl. Pegangsaan Timur No. 21, Cik...</td>\n      <td>Rp70.000 untuk 2 orang (perkiraan)</td>\n      <td>NaN</td>\n      <td>['Bawa Pulang Tersedia', 'Di dalam ruangan']</td>\n    </tr>\n    <tr>\n      <th>2</th>\n      <td>Tjikinii Lima</td>\n      <td>Casual Dining</td>\n      <td>['Barat', 'Indonesia']</td>\n      <td>Cikini</td>\n      <td>4.0</td>\n      <td>391 Ulasan</td>\n      <td>['Bawa Pulang Tersedia', 'Area Merokok', 'Temp...</td>\n      <td>-6.1898019937</td>\n      <td>106.837150007</td>\n      <td>https://www.zomato.com/id/jakarta/tjikinii-lim...</td>\n      <td>Jl. Cikini I No. 5, Cikini, Jakarta 10330</td>\n      <td>Rp300.000 untuk 2 orang (perkiraan)</td>\n      <td>NaN</td>\n      <td>['Bawa Pulang Tersedia', 'Area Merokok', 'Temp...</td>\n    </tr>\n    <tr>\n      <th>...</th>\n      <td>...</td>\n      <td>...</td>\n      <td>...</td>\n      <td>...</td>\n      <td>...</td>\n      <td>...</td>\n      <td>...</td>\n      <td>...</td>\n      <td>...</td>\n      <td>...</td>\n      <td>...</td>\n      <td>...</td>\n      <td>...</td>\n      <td>...</td>\n    </tr>\n    <tr>\n      <th>11264</th>\n      <td>Express Juice</td>\n      <td>Toko Minuman</td>\n      <td>['Jus']</td>\n      <td>Bojongsari</td>\n      <td>Not Rated Yet</td>\n      <td>Not Reviewed Yet</td>\n      <td>['Bawa Pulang Tersedia', 'Di dalam ruangan']</td>\n      <td>-6.3611110000</td>\n      <td>106.747747000</td>\n      <td>https://www.zomato.com/id/jakarta/express-juic...</td>\n      <td>Jl. Raya Ciputat Parung no 60, Bojongsari, Depok</td>\n      <td>Rp50.000 untuk 2 orang (perkiraan)</td>\n      <td>NaN</td>\n      <td>['Bawa Pulang Tersedia', 'Di dalam ruangan']</td>\n    </tr>\n    <tr>\n      <th>11265</th>\n      <td>Ayam Selebriti</td>\n      <td>Quick Bites</td>\n      <td>['Indonesia']</td>\n      <td>Meruya</td>\n      <td>Not Rated Yet</td>\n      <td>Not Reviewed Yet</td>\n      <td>['Bawa Pulang Tersedia', 'Area Merokok', 'Temp...</td>\n      <td>-6.2109790000</td>\n      <td>106.737538000</td>\n      <td>https://www.zomato.com/id/jakarta/ayam-selebri...</td>\n      <td>Jl. Meruya Selatan No.21, Meruya, Jakarta</td>\n      <td>Rp50.000 untuk 2 orang (perkiraan)</td>\n      <td>NaN</td>\n      <td>['Bawa Pulang Tersedia', 'Area Merokok', 'Temp...</td>\n    </tr>\n    <tr>\n      <th>11266</th>\n      <td>Langit Coffee</td>\n      <td>Toko Minuman</td>\n      <td>['Kopi']</td>\n      <td>Kampung Melayu</td>\n      <td>Not Rated Yet</td>\n      <td>Not Reviewed Yet</td>\n      <td>['Bawa Pulang Tersedia', 'Di dalam ruangan', '...</td>\n      <td>-6.2305090000</td>\n      <td>106.866974000</td>\n      <td>https://www.zomato.com/id/jakarta/langit-coffe...</td>\n      <td>Jl. Otista Raya No. 60A, Kampung Melayu, Jakarta</td>\n      <td>Rp50.000 untuk 2 orang (perkiraan)</td>\n      <td>NaN</td>\n      <td>['Bawa Pulang Tersedia', 'Di dalam ruangan', '...</td>\n    </tr>\n  </tbody>\n</table>\n<p>11267 rows × 14 columns</p>\n</div>"
     },
     "metadata": {},
     "execution_count": 315
    }
   ],
   "source": [
    "rdf_comb_nd2"
   ]
  },
  {
   "cell_type": "code",
   "execution_count": 382,
   "metadata": {},
   "outputs": [],
   "source": [
    "rdf_comb_nd2.drop(['Additional Info_a', 'Additional Info_b'], axis=1, inplace=True)"
   ]
  },
  {
   "cell_type": "code",
   "execution_count": 317,
   "metadata": {},
   "outputs": [],
   "source": [
    "rdf_comb_nd2.to_csv(\"Zomato Restaurants DataFrame - No Duplicate - Final.csv\", index=False)\n",
    "rdf_comb_nd2.drop(['Website'], axis=1).to_csv(\"Zomato Restaurants DataFrame - No Duplicate - Final Without Website.csv\", index=False)"
   ]
  },
  {
   "cell_type": "code",
   "execution_count": 320,
   "metadata": {},
   "outputs": [],
   "source": [
    "prefixes = [\"['1\" , \"['2\"  , \"['3\"  , \"['4\"  , \"['5\"  , \"['6\"  , \"['7\"  , \"['8\"  , \"['9\"  ,]\n",
    "\n",
    "def info_test(row) :\n",
    "    if str(row['Additional Info']).startswith(tuple(prefixes)):\n",
    "        return True\n",
    "    else:\n",
    "        return False"
   ]
  },
  {
   "cell_type": "code",
   "execution_count": 321,
   "metadata": {},
   "outputs": [],
   "source": [
    "rdf_comb_nd2['Additional Info Check'] = rdf_comb_nd2.apply(lambda row: info_test(row), axis=1)"
   ]
  },
  {
   "cell_type": "code",
   "execution_count": 326,
   "metadata": {},
   "outputs": [
    {
     "output_type": "execute_result",
     "data": {
      "text/plain": "                                        Restaurant Name Restaurant Type  \\\n2339                                       Street Kings     Quick Bites   \n2748                              Semusim Coffee Garden            Kafe   \n2982                                  The Neighbourhood     Fine Dining   \n3010                                       Cutt & Grill   Casual Dining   \n3013     Tucano's Churrascaria - Brazilian BBQ & Buffet   Casual Dining   \n3076                            B'Steak Grill & Pancake   Casual Dining   \n3162                      Sailendra - JW Marriott Hotel   Casual Dining   \n3200                                            Liberta   Casual Dining   \n3361  The Chinese National - Swissôtel Jakarta PIK A...   Casual Dining   \n3364                                BASQUE Bar de Tapas   Casual Dining   \n3603  Lobo Italian Bistro - The Ritz-Carlton Jakarta...   Casual Dining   \n3834                                           Egghotel   Casual Dining   \n3868                                       Moven Coffee            Kafe   \n4519  Ozone Bar & Karaoke - The Ritz-Carlton Jakarta...          Lounge   \n7087                                    Gado Gado Boplo   Casual Dining   \n7687                    Blu Martini - JW Marriott Hotel          Lounge   \n8480                             Bianco Sapori D'Italia   Casual Dining   \n\n                                           Cuisine Type     Restaurant Area  \\\n2339                                 ['Kebab', 'Barat']               Karet   \n2748                       ['Kopi', 'Tea', 'Indonesia']             Bintaro   \n2982                                      ['Indonesia']        Dharmawangsa   \n3010        ['Grill House', 'Burger', 'Steak', 'Kebab']            Senopati   \n3013  ['Steak', 'Grill House', 'Barbekyu', 'Amerika ...            Sudirman   \n3076                           ['Steak', 'Grill House']         Green Ville   \n3162  ['Indonesia', 'Jepang', 'India', 'Barat', 'Asia']            Kuningan   \n3200                                          ['Itali']            Sudirman   \n3361                                  ['Asia', 'Barat']  Pantai Indah Kapuk   \n3364                                 ['Bar', 'Spanyol']            Kuningan   \n3603                                          ['Itali']            Kuningan   \n3834            ['Asia', 'Australian', 'Barat', 'Kafe']           Setiabudi   \n3868                               ['Kopi', 'Desserts']         Sawah Besar   \n4519                                        ['Cemilan']            Kuningan   \n7087                ['Betawi', 'Jawa', 'Sunda', 'Soto']              Cikini   \n7687                                   ['Bar', 'Barat']            Kuningan   \n8480                                          ['Itali']       Serpong Utara   \n\n     Restaurant Rating       Review Counts       Latitude      Longitude  \\\n2339               4.0           89 Ulasan  -6.2240620000  106.823137000   \n2748               4.0          120 Ulasan  -6.2726420000  106.762113000   \n2982               4.4          747 Ulasan  -6.2395528820  106.814613081   \n3010               4.1           93 Ulasan  -6.2358306860  106.813607253   \n3013               4.7          758 Ulasan  -6.2079620378  106.817726790   \n3076               4.5          497 Ulasan  -6.1694380000  106.771378000   \n3162               4.1          941 Ulasan  -6.2276599597  106.827097758   \n3200               3.9           66 Ulasan  -6.2075190686  106.817686893   \n3361               3.1           34 Ulasan  -6.1079215775  106.740075834   \n3364               4.5          787 Ulasan  -6.2282180000  106.825387000   \n3603               4.0           59 Ulasan  -6.2296170000  106.827613000   \n3834               4.0          112 Ulasan  -6.2207696540  106.823500581   \n3868               3.9           26 Ulasan  -6.1495325556  106.826536841   \n4519     Not Rated Yet  TIdak cukup Ulasan  -6.2285520000  106.827163000   \n7087               3.5           17 Ulasan  -6.1958520000  106.840396000   \n7687               3.5           21 Ulasan  -6.2272470000  106.827323000   \n8480               3.3           17 Ulasan  -6.2438840000  106.626895000   \n\n                                                Website  \\\n2339  https://www.zomato.com/id/jakarta/street-kings...   \n2748  https://www.zomato.com/id/jakarta/semusim-coff...   \n2982  https://www.zomato.com/id/jakarta/the-neighbou...   \n3010  https://www.zomato.com/id/jakarta/cutt-grill-s...   \n3013  https://www.zomato.com/id/jakarta/tucanos-chur...   \n3076  https://www.zomato.com/id/jakarta/b-steak-gril...   \n3162  https://www.zomato.com/id/jakarta/sailendra-jw...   \n3200  https://www.zomato.com/id/jakarta/liberta-sudi...   \n3361  https://www.zomato.com/id/jakarta/the-chinese-...   \n3364  https://www.zomato.com/id/jakarta/basque-bar-d...   \n3603  https://www.zomato.com/id/jakarta/lobo-italian...   \n3834  https://www.zomato.com/id/jakarta/egghotel-1-s...   \n3868  https://www.zomato.com/id/jakarta/moven-coffee...   \n4519  https://www.zomato.com/id/jakarta/ozone-bar-ka...   \n7087  https://www.zomato.com/id/jakarta/gado-gado-bo...   \n7687  https://www.zomato.com/id/jakarta/blu-martini-...   \n8480  https://www.zomato.com/id/jakarta/bianco-sapor...   \n\n                                     Restaurant Address  \\\n2339  Ciputra World, Lotte Shopping Avenue, Lantai L...   \n2748     Jl. Kesehatan V No. 39, Bintaro, Jakarta 12330   \n2982   Jl. Cipaku I No. 85, Dharmawangsa, Jakarta 12170   \n3010          Jl. Suryo No. 34, Senopati, Jakarta 12180   \n3013  Pavilion Retail Arcade, Lantai Dasar, Jl. K.H ...   \n3076  Jl. Green Ville AS No. 32, Green Ville, Jakart...   \n3162  JW Marriott Hotel Jakarta, Kawasan Mega Kuning...   \n3200  Apartemen Pavilion, Jl. KH. Mas Mansyur, Sudir...   \n3361  Swissôtel Jakarta PIK Avenue, Jl. Pantai Indah...   \n3364  Noble House Building, Lantai 8, Jl. Mega Kunin...   \n3603  The Ritz-Carlton Jakarta, Kawasan Mega Kuninga...   \n3834  Suites at Seven, Lantai 3, Jl H. Sidik No. 7, ...   \n3868  Jl. Taman Sari Raya No. 89, RT013/RW001 Taman ...   \n4519  The Ritz-Carlton Jakarta, Kawasan Mega Kuninga...   \n7087     Jl. Cikini Raya No. 111, Cikini, Jakarta 10330   \n7687  JW Marriott Hotel Jakarta, Kawasan Mega Kuning...   \n8480  Atria Residences, CBD Gading Serpong, Jl. Boul...   \n\n                                            Price for 2  \\\n2339                Rp160.000 untuk 2 orang (perkiraan)   \n2748                Rp150.000 untuk 2 orang (perkiraan)   \n2982   Rp500.000 untuk 2 orang (perkiraan)Tanpa alkohol   \n3010   Rp350.000 untuk 2 orang (perkiraan)Tanpa alkohol   \n3013   Rp500.000 untuk 2 orang (perkiraan)Tanpa alkohol   \n3076   Rp300.000 untuk 2 orang (perkiraan)Tanpa alkohol   \n3162   Rp600.000 untuk 2 orang (perkiraan)Tanpa alkohol   \n3200   Rp200.000 untuk 2 orang (perkiraan)Tanpa alkohol   \n3361   Rp300.000 untuk 2 orang (perkiraan)Tanpa alkohol   \n3364   Rp750.000 untuk 2 orang (perkiraan)Tanpa alkohol   \n3603   Rp600.000 untuk 2 orang (perkiraan)Tanpa alkohol   \n3834   Rp200.000 untuk 2 orang (perkiraan)Tanpa alkohol   \n3868                 Rp70.000 untuk 2 orang (perkiraan)   \n4519  Rp300.000 untuk 2 orang (perkiraan)dengan alkohol   \n7087                Rp150.000 untuk 2 orang (perkiraan)   \n7687  Rp600.000 untuk 2 orang (perkiraan)dengan alkohol   \n8480                Rp450.000 untuk 2 orang (perkiraan)   \n\n                                        Additional Info  Additional Info Check  \n2339  ['19th Dec, Thu - 31st Dec, Thu | 09:00 am - 1...                   True  \n2748  ['3rd Dec, Tue - 3rd Dec, Thu | 12:00 am - 12:...                   True  \n2982  ['6th Aug, Thu - 31st Oct, Sat | 07:00 pm - 08...                   True  \n3010  ['3rd Aug, Mon - 29th Sep, Tue | 11:00 am - 12...                   True  \n3013  ['3rd Aug, Mon - 30th Sep, Wed | 11:00 am - 10...                   True  \n3076  ['5th Sep, Sat - 30th Sep, Wed | 11:00 am - 08...                   True  \n3162  ['3rd Aug, Mon - 31st Dec, Thu | 07:00 am - 11...                   True  \n3200  ['1st Sep, Tue - 30th Sep, Wed | 11:30 am - 08...                   True  \n3361  ['21st Feb, Fri - 18th Dec, Fri | 06:00 pm - 0...                   True  \n3364  ['3rd Sep, Thu - 31st Oct, Sat | 06:00 pm - 11...                   True  \n3603  ['3rd Aug, Mon - 31st Dec, Thu | 11:00 am - 12...                   True  \n3834  ['31st Dec, Tue - 1st Dec, Tue | 09:00 pm - 11...                   True  \n3868  ['2nd Jan, Thu - 1st Jan, Fri | 08:00 am - 10:...                   True  \n4519  ['3rd Mar, Tue - 31st Dec, Thu | 06:00 pm - 09...                   True  \n7087  ['30th Jan, Thu - 31st Dec, Thu | 08:00 am - 1...                   True  \n7687  ['31st Jan, Fri - 18th Dec, Fri | 06:00 pm - 1...                   True  \n8480  ['8th Jun, Mon - 30th Sep, Wed | 06:00 am - 11...                   True  ",
      "text/html": "<div>\n<style scoped>\n    .dataframe tbody tr th:only-of-type {\n        vertical-align: middle;\n    }\n\n    .dataframe tbody tr th {\n        vertical-align: top;\n    }\n\n    .dataframe thead th {\n        text-align: right;\n    }\n</style>\n<table border=\"1\" class=\"dataframe\">\n  <thead>\n    <tr style=\"text-align: right;\">\n      <th></th>\n      <th>Restaurant Name</th>\n      <th>Restaurant Type</th>\n      <th>Cuisine Type</th>\n      <th>Restaurant Area</th>\n      <th>Restaurant Rating</th>\n      <th>Review Counts</th>\n      <th>Latitude</th>\n      <th>Longitude</th>\n      <th>Website</th>\n      <th>Restaurant Address</th>\n      <th>Price for 2</th>\n      <th>Additional Info</th>\n      <th>Additional Info Check</th>\n    </tr>\n  </thead>\n  <tbody>\n    <tr>\n      <th>2339</th>\n      <td>Street Kings</td>\n      <td>Quick Bites</td>\n      <td>['Kebab', 'Barat']</td>\n      <td>Karet</td>\n      <td>4.0</td>\n      <td>89 Ulasan</td>\n      <td>-6.2240620000</td>\n      <td>106.823137000</td>\n      <td>https://www.zomato.com/id/jakarta/street-kings...</td>\n      <td>Ciputra World, Lotte Shopping Avenue, Lantai L...</td>\n      <td>Rp160.000 untuk 2 orang (perkiraan)</td>\n      <td>['19th Dec, Thu - 31st Dec, Thu | 09:00 am - 1...</td>\n      <td>True</td>\n    </tr>\n    <tr>\n      <th>2748</th>\n      <td>Semusim Coffee Garden</td>\n      <td>Kafe</td>\n      <td>['Kopi', 'Tea', 'Indonesia']</td>\n      <td>Bintaro</td>\n      <td>4.0</td>\n      <td>120 Ulasan</td>\n      <td>-6.2726420000</td>\n      <td>106.762113000</td>\n      <td>https://www.zomato.com/id/jakarta/semusim-coff...</td>\n      <td>Jl. Kesehatan V No. 39, Bintaro, Jakarta 12330</td>\n      <td>Rp150.000 untuk 2 orang (perkiraan)</td>\n      <td>['3rd Dec, Tue - 3rd Dec, Thu | 12:00 am - 12:...</td>\n      <td>True</td>\n    </tr>\n    <tr>\n      <th>2982</th>\n      <td>The Neighbourhood</td>\n      <td>Fine Dining</td>\n      <td>['Indonesia']</td>\n      <td>Dharmawangsa</td>\n      <td>4.4</td>\n      <td>747 Ulasan</td>\n      <td>-6.2395528820</td>\n      <td>106.814613081</td>\n      <td>https://www.zomato.com/id/jakarta/the-neighbou...</td>\n      <td>Jl. Cipaku I No. 85, Dharmawangsa, Jakarta 12170</td>\n      <td>Rp500.000 untuk 2 orang (perkiraan)Tanpa alkohol</td>\n      <td>['6th Aug, Thu - 31st Oct, Sat | 07:00 pm - 08...</td>\n      <td>True</td>\n    </tr>\n    <tr>\n      <th>3010</th>\n      <td>Cutt &amp; Grill</td>\n      <td>Casual Dining</td>\n      <td>['Grill House', 'Burger', 'Steak', 'Kebab']</td>\n      <td>Senopati</td>\n      <td>4.1</td>\n      <td>93 Ulasan</td>\n      <td>-6.2358306860</td>\n      <td>106.813607253</td>\n      <td>https://www.zomato.com/id/jakarta/cutt-grill-s...</td>\n      <td>Jl. Suryo No. 34, Senopati, Jakarta 12180</td>\n      <td>Rp350.000 untuk 2 orang (perkiraan)Tanpa alkohol</td>\n      <td>['3rd Aug, Mon - 29th Sep, Tue | 11:00 am - 12...</td>\n      <td>True</td>\n    </tr>\n    <tr>\n      <th>3013</th>\n      <td>Tucano's Churrascaria - Brazilian BBQ &amp; Buffet</td>\n      <td>Casual Dining</td>\n      <td>['Steak', 'Grill House', 'Barbekyu', 'Amerika ...</td>\n      <td>Sudirman</td>\n      <td>4.7</td>\n      <td>758 Ulasan</td>\n      <td>-6.2079620378</td>\n      <td>106.817726790</td>\n      <td>https://www.zomato.com/id/jakarta/tucanos-chur...</td>\n      <td>Pavilion Retail Arcade, Lantai Dasar, Jl. K.H ...</td>\n      <td>Rp500.000 untuk 2 orang (perkiraan)Tanpa alkohol</td>\n      <td>['3rd Aug, Mon - 30th Sep, Wed | 11:00 am - 10...</td>\n      <td>True</td>\n    </tr>\n    <tr>\n      <th>3076</th>\n      <td>B'Steak Grill &amp; Pancake</td>\n      <td>Casual Dining</td>\n      <td>['Steak', 'Grill House']</td>\n      <td>Green Ville</td>\n      <td>4.5</td>\n      <td>497 Ulasan</td>\n      <td>-6.1694380000</td>\n      <td>106.771378000</td>\n      <td>https://www.zomato.com/id/jakarta/b-steak-gril...</td>\n      <td>Jl. Green Ville AS No. 32, Green Ville, Jakart...</td>\n      <td>Rp300.000 untuk 2 orang (perkiraan)Tanpa alkohol</td>\n      <td>['5th Sep, Sat - 30th Sep, Wed | 11:00 am - 08...</td>\n      <td>True</td>\n    </tr>\n    <tr>\n      <th>3162</th>\n      <td>Sailendra - JW Marriott Hotel</td>\n      <td>Casual Dining</td>\n      <td>['Indonesia', 'Jepang', 'India', 'Barat', 'Asia']</td>\n      <td>Kuningan</td>\n      <td>4.1</td>\n      <td>941 Ulasan</td>\n      <td>-6.2276599597</td>\n      <td>106.827097758</td>\n      <td>https://www.zomato.com/id/jakarta/sailendra-jw...</td>\n      <td>JW Marriott Hotel Jakarta, Kawasan Mega Kuning...</td>\n      <td>Rp600.000 untuk 2 orang (perkiraan)Tanpa alkohol</td>\n      <td>['3rd Aug, Mon - 31st Dec, Thu | 07:00 am - 11...</td>\n      <td>True</td>\n    </tr>\n    <tr>\n      <th>3200</th>\n      <td>Liberta</td>\n      <td>Casual Dining</td>\n      <td>['Itali']</td>\n      <td>Sudirman</td>\n      <td>3.9</td>\n      <td>66 Ulasan</td>\n      <td>-6.2075190686</td>\n      <td>106.817686893</td>\n      <td>https://www.zomato.com/id/jakarta/liberta-sudi...</td>\n      <td>Apartemen Pavilion, Jl. KH. Mas Mansyur, Sudir...</td>\n      <td>Rp200.000 untuk 2 orang (perkiraan)Tanpa alkohol</td>\n      <td>['1st Sep, Tue - 30th Sep, Wed | 11:30 am - 08...</td>\n      <td>True</td>\n    </tr>\n    <tr>\n      <th>3361</th>\n      <td>The Chinese National - Swissôtel Jakarta PIK A...</td>\n      <td>Casual Dining</td>\n      <td>['Asia', 'Barat']</td>\n      <td>Pantai Indah Kapuk</td>\n      <td>3.1</td>\n      <td>34 Ulasan</td>\n      <td>-6.1079215775</td>\n      <td>106.740075834</td>\n      <td>https://www.zomato.com/id/jakarta/the-chinese-...</td>\n      <td>Swissôtel Jakarta PIK Avenue, Jl. Pantai Indah...</td>\n      <td>Rp300.000 untuk 2 orang (perkiraan)Tanpa alkohol</td>\n      <td>['21st Feb, Fri - 18th Dec, Fri | 06:00 pm - 0...</td>\n      <td>True</td>\n    </tr>\n    <tr>\n      <th>3364</th>\n      <td>BASQUE Bar de Tapas</td>\n      <td>Casual Dining</td>\n      <td>['Bar', 'Spanyol']</td>\n      <td>Kuningan</td>\n      <td>4.5</td>\n      <td>787 Ulasan</td>\n      <td>-6.2282180000</td>\n      <td>106.825387000</td>\n      <td>https://www.zomato.com/id/jakarta/basque-bar-d...</td>\n      <td>Noble House Building, Lantai 8, Jl. Mega Kunin...</td>\n      <td>Rp750.000 untuk 2 orang (perkiraan)Tanpa alkohol</td>\n      <td>['3rd Sep, Thu - 31st Oct, Sat | 06:00 pm - 11...</td>\n      <td>True</td>\n    </tr>\n    <tr>\n      <th>3603</th>\n      <td>Lobo Italian Bistro - The Ritz-Carlton Jakarta...</td>\n      <td>Casual Dining</td>\n      <td>['Itali']</td>\n      <td>Kuningan</td>\n      <td>4.0</td>\n      <td>59 Ulasan</td>\n      <td>-6.2296170000</td>\n      <td>106.827613000</td>\n      <td>https://www.zomato.com/id/jakarta/lobo-italian...</td>\n      <td>The Ritz-Carlton Jakarta, Kawasan Mega Kuninga...</td>\n      <td>Rp600.000 untuk 2 orang (perkiraan)Tanpa alkohol</td>\n      <td>['3rd Aug, Mon - 31st Dec, Thu | 11:00 am - 12...</td>\n      <td>True</td>\n    </tr>\n    <tr>\n      <th>3834</th>\n      <td>Egghotel</td>\n      <td>Casual Dining</td>\n      <td>['Asia', 'Australian', 'Barat', 'Kafe']</td>\n      <td>Setiabudi</td>\n      <td>4.0</td>\n      <td>112 Ulasan</td>\n      <td>-6.2207696540</td>\n      <td>106.823500581</td>\n      <td>https://www.zomato.com/id/jakarta/egghotel-1-s...</td>\n      <td>Suites at Seven, Lantai 3, Jl H. Sidik No. 7, ...</td>\n      <td>Rp200.000 untuk 2 orang (perkiraan)Tanpa alkohol</td>\n      <td>['31st Dec, Tue - 1st Dec, Tue | 09:00 pm - 11...</td>\n      <td>True</td>\n    </tr>\n    <tr>\n      <th>3868</th>\n      <td>Moven Coffee</td>\n      <td>Kafe</td>\n      <td>['Kopi', 'Desserts']</td>\n      <td>Sawah Besar</td>\n      <td>3.9</td>\n      <td>26 Ulasan</td>\n      <td>-6.1495325556</td>\n      <td>106.826536841</td>\n      <td>https://www.zomato.com/id/jakarta/moven-coffee...</td>\n      <td>Jl. Taman Sari Raya No. 89, RT013/RW001 Taman ...</td>\n      <td>Rp70.000 untuk 2 orang (perkiraan)</td>\n      <td>['2nd Jan, Thu - 1st Jan, Fri | 08:00 am - 10:...</td>\n      <td>True</td>\n    </tr>\n    <tr>\n      <th>4519</th>\n      <td>Ozone Bar &amp; Karaoke - The Ritz-Carlton Jakarta...</td>\n      <td>Lounge</td>\n      <td>['Cemilan']</td>\n      <td>Kuningan</td>\n      <td>Not Rated Yet</td>\n      <td>TIdak cukup Ulasan</td>\n      <td>-6.2285520000</td>\n      <td>106.827163000</td>\n      <td>https://www.zomato.com/id/jakarta/ozone-bar-ka...</td>\n      <td>The Ritz-Carlton Jakarta, Kawasan Mega Kuninga...</td>\n      <td>Rp300.000 untuk 2 orang (perkiraan)dengan alkohol</td>\n      <td>['3rd Mar, Tue - 31st Dec, Thu | 06:00 pm - 09...</td>\n      <td>True</td>\n    </tr>\n    <tr>\n      <th>7087</th>\n      <td>Gado Gado Boplo</td>\n      <td>Casual Dining</td>\n      <td>['Betawi', 'Jawa', 'Sunda', 'Soto']</td>\n      <td>Cikini</td>\n      <td>3.5</td>\n      <td>17 Ulasan</td>\n      <td>-6.1958520000</td>\n      <td>106.840396000</td>\n      <td>https://www.zomato.com/id/jakarta/gado-gado-bo...</td>\n      <td>Jl. Cikini Raya No. 111, Cikini, Jakarta 10330</td>\n      <td>Rp150.000 untuk 2 orang (perkiraan)</td>\n      <td>['30th Jan, Thu - 31st Dec, Thu | 08:00 am - 1...</td>\n      <td>True</td>\n    </tr>\n    <tr>\n      <th>7687</th>\n      <td>Blu Martini - JW Marriott Hotel</td>\n      <td>Lounge</td>\n      <td>['Bar', 'Barat']</td>\n      <td>Kuningan</td>\n      <td>3.5</td>\n      <td>21 Ulasan</td>\n      <td>-6.2272470000</td>\n      <td>106.827323000</td>\n      <td>https://www.zomato.com/id/jakarta/blu-martini-...</td>\n      <td>JW Marriott Hotel Jakarta, Kawasan Mega Kuning...</td>\n      <td>Rp600.000 untuk 2 orang (perkiraan)dengan alkohol</td>\n      <td>['31st Jan, Fri - 18th Dec, Fri | 06:00 pm - 1...</td>\n      <td>True</td>\n    </tr>\n    <tr>\n      <th>8480</th>\n      <td>Bianco Sapori D'Italia</td>\n      <td>Casual Dining</td>\n      <td>['Itali']</td>\n      <td>Serpong Utara</td>\n      <td>3.3</td>\n      <td>17 Ulasan</td>\n      <td>-6.2438840000</td>\n      <td>106.626895000</td>\n      <td>https://www.zomato.com/id/jakarta/bianco-sapor...</td>\n      <td>Atria Residences, CBD Gading Serpong, Jl. Boul...</td>\n      <td>Rp450.000 untuk 2 orang (perkiraan)</td>\n      <td>['8th Jun, Mon - 30th Sep, Wed | 06:00 am - 11...</td>\n      <td>True</td>\n    </tr>\n  </tbody>\n</table>\n</div>"
     },
     "metadata": {},
     "execution_count": 326
    }
   ],
   "source": [
    "rdf_comb_nd2[rdf_comb_nd2['Additional Info Check'] == True]"
   ]
  },
  {
   "cell_type": "code",
   "execution_count": 329,
   "metadata": {},
   "outputs": [],
   "source": [
    "rescrape = rdf_comb_nd2[rdf_comb_nd2['Additional Info Check'] == True]['Website']"
   ]
  },
  {
   "cell_type": "code",
   "execution_count": 336,
   "metadata": {},
   "outputs": [
    {
     "output_type": "execute_result",
     "data": {
      "text/plain": "                                  Restaurant Name  \\\n0                                    Street Kings   \n1                           Semusim Coffee Garden   \n2                               The Neighbourhood   \n3                                    Cutt & Grill   \n4  Tucano's Churrascaria - Brazilian BBQ & Buffet   \n\n                                     Additional Info  \\\n0  [Bawa Pulang Tersedia, Ramah untuk Anak, Di da...   \n1  [Sarapan, Bawa Pulang Tersedia, Tempat duduk d...   \n2  [Bawa Pulang Tersedia, Alkohol Tersedia, Ruang...   \n3  [Pesan Antar, Bawa Pulang Tersedia, Hanya Bir,...   \n4  [Pesan Antar, Bawa Pulang Tersedia, Hanya Wine...   \n\n                                             Website  \n0  https://www.zomato.com/id/jakarta/street-kings...  \n1  https://www.zomato.com/id/jakarta/semusim-coff...  \n2  https://www.zomato.com/id/jakarta/the-neighbou...  \n3  https://www.zomato.com/id/jakarta/cutt-grill-s...  \n4  https://www.zomato.com/id/jakarta/tucanos-chur...  ",
      "text/html": "<div>\n<style scoped>\n    .dataframe tbody tr th:only-of-type {\n        vertical-align: middle;\n    }\n\n    .dataframe tbody tr th {\n        vertical-align: top;\n    }\n\n    .dataframe thead th {\n        text-align: right;\n    }\n</style>\n<table border=\"1\" class=\"dataframe\">\n  <thead>\n    <tr style=\"text-align: right;\">\n      <th></th>\n      <th>Restaurant Name</th>\n      <th>Additional Info</th>\n      <th>Website</th>\n    </tr>\n  </thead>\n  <tbody>\n    <tr>\n      <th>0</th>\n      <td>Street Kings</td>\n      <td>[Bawa Pulang Tersedia, Ramah untuk Anak, Di da...</td>\n      <td>https://www.zomato.com/id/jakarta/street-kings...</td>\n    </tr>\n    <tr>\n      <th>1</th>\n      <td>Semusim Coffee Garden</td>\n      <td>[Sarapan, Bawa Pulang Tersedia, Tempat duduk d...</td>\n      <td>https://www.zomato.com/id/jakarta/semusim-coff...</td>\n    </tr>\n    <tr>\n      <th>2</th>\n      <td>The Neighbourhood</td>\n      <td>[Bawa Pulang Tersedia, Alkohol Tersedia, Ruang...</td>\n      <td>https://www.zomato.com/id/jakarta/the-neighbou...</td>\n    </tr>\n    <tr>\n      <th>3</th>\n      <td>Cutt &amp; Grill</td>\n      <td>[Pesan Antar, Bawa Pulang Tersedia, Hanya Bir,...</td>\n      <td>https://www.zomato.com/id/jakarta/cutt-grill-s...</td>\n    </tr>\n    <tr>\n      <th>4</th>\n      <td>Tucano's Churrascaria - Brazilian BBQ &amp; Buffet</td>\n      <td>[Pesan Antar, Bawa Pulang Tersedia, Hanya Wine...</td>\n      <td>https://www.zomato.com/id/jakarta/tucanos-chur...</td>\n    </tr>\n  </tbody>\n</table>\n</div>"
     },
     "metadata": {},
     "execution_count": 336
    }
   ],
   "source": [
    "rdfscrape.head()"
   ]
  },
  {
   "cell_type": "code",
   "execution_count": 337,
   "metadata": {},
   "outputs": [],
   "source": [
    "rdf_comb_nd2 = pd.merge(left=rdf_comb_nd2, right=rdfscrape, how='left' ,left_on=['Restaurant Name','Website'], right_on=['Restaurant Name', 'Website'], suffixes=('_a','_b'))"
   ]
  },
  {
   "cell_type": "code",
   "execution_count": 340,
   "metadata": {},
   "outputs": [],
   "source": [
    "def info_test2(row) :\n",
    "    if row['Additional Info Check'] == True:\n",
    "        return row['Additional Info_b']\n",
    "    else:\n",
    "        return row['Additional Info_a']\n"
   ]
  },
  {
   "cell_type": "code",
   "execution_count": 341,
   "metadata": {},
   "outputs": [],
   "source": [
    "rdf_comb_nd2['Additional Info'] = rdf_comb_nd2.apply(lambda row: info_test2(row), axis=1)\n"
   ]
  },
  {
   "cell_type": "code",
   "execution_count": 344,
   "metadata": {},
   "outputs": [
    {
     "output_type": "execute_result",
     "data": {
      "text/plain": "         Restaurant Name Restaurant Type              Cuisine Type  \\\n0            Holy Smokes   Casual Dining  ['Grill House', 'Steak']   \n1         Pempek Megaria     Quick Bites             ['Palembang']   \n2          Tjikinii Lima   Casual Dining    ['Barat', 'Indonesia']   \n3      Gado-Gado Bon-Bin     Quick Bites                  ['Jawa']   \n4          Koffie Fictie            Kafe                  ['Kopi']   \n...                  ...             ...                       ...   \n11262     Essence Coffee    Toko Minuman        ['Kopi', 'Snacks']   \n11263        Senja Toast     Quick Bites            ['Kue & Roti']   \n11264      Express Juice    Toko Minuman                   ['Jus']   \n11265     Ayam Selebriti     Quick Bites             ['Indonesia']   \n11266      Langit Coffee    Toko Minuman                  ['Kopi']   \n\n      Restaurant Area Restaurant Rating       Review Counts       Latitude  \\\n0            Senopati               4.4        1,437 Ulasan  -6.2391432684   \n1              Cikini               4.3          461 Ulasan  -6.1999000000   \n2              Cikini               4.0          391 Ulasan  -6.1898019937   \n3              Cikini               4.0          177 Ulasan  -6.1929590000   \n4      Bekasi Selatan     Not Rated Yet  TIdak cukup Ulasan  -6.2720590000   \n...               ...               ...                 ...            ...   \n11262    Pondok Bambu     Not Rated Yet    Not Reviewed Yet  -6.2376240000   \n11263       Jagakarsa     Not Rated Yet    Not Reviewed Yet  -6.3443890000   \n11264      Bojongsari     Not Rated Yet    Not Reviewed Yet  -6.3611110000   \n11265          Meruya     Not Rated Yet    Not Reviewed Yet  -6.2109790000   \n11266  Kampung Melayu     Not Rated Yet    Not Reviewed Yet  -6.2305090000   \n\n           Longitude                                            Website  \\\n0      106.807954162  https://www.zomato.com/id/jakarta/holy-smokes-...   \n1      106.843739000  https://www.zomato.com/id/jakarta/pempek-megar...   \n2      106.837150007  https://www.zomato.com/id/jakarta/tjikinii-lim...   \n3      106.838377000  https://www.zomato.com/id/jakarta/gado-gado-bo...   \n4      106.970932000  https://www.zomato.com/id/jakarta/koffie-ficti...   \n...              ...                                                ...   \n11262  106.907457000  https://www.zomato.com/id/jakarta/essence-coff...   \n11263  106.832833000  https://www.zomato.com/id/jakarta/senja-toast-...   \n11264  106.747747000  https://www.zomato.com/id/jakarta/express-juic...   \n11265  106.737538000  https://www.zomato.com/id/jakarta/ayam-selebri...   \n11266  106.866974000  https://www.zomato.com/id/jakarta/langit-coffe...   \n\n                                      Restaurant Address  \\\n0        Jl. Wolter Monginsidi No. 27, Senopati, Jakarta   \n1      Metropole 21, Jl. Pegangsaan Timur No. 21, Cik...   \n2              Jl. Cikini I No. 5, Cikini, Jakarta 10330   \n3                    Jl. Cikini 4 No. 5, Cikini, Jakarta   \n4      Grand Galaxy Park, Ruko RSOD No. 026, Jl. Lotu...   \n...                                                  ...   \n11262          Jl. Bambu Ori Raya, Pondok Bambu, Jakarta   \n11263         Jl. Raya Lenteng Agung, Jagakarsa, Jakarta   \n11264   Jl. Raya Ciputat Parung no 60, Bojongsari, Depok   \n11265          Jl. Meruya Selatan No.21, Meruya, Jakarta   \n11266   Jl. Otista Raya No. 60A, Kampung Melayu, Jakarta   \n\n                                            Price for 2  \\\n0      Rp500.000 untuk 2 orang (perkiraan)Tanpa alkohol   \n1                    Rp70.000 untuk 2 orang (perkiraan)   \n2                   Rp300.000 untuk 2 orang (perkiraan)   \n3                    Rp90.000 untuk 2 orang (perkiraan)   \n4                   Rp100.000 untuk 2 orang (perkiraan)   \n...                                                 ...   \n11262                Rp80.000 untuk 2 orang (perkiraan)   \n11263                Rp60.000 untuk 2 orang (perkiraan)   \n11264                Rp50.000 untuk 2 orang (perkiraan)   \n11265                Rp50.000 untuk 2 orang (perkiraan)   \n11266                Rp50.000 untuk 2 orang (perkiraan)   \n\n                                       Additional Info_a  \\\n0      ['Hanya Wine dan Bir', 'Di dalam ruangan', 'Wi...   \n1           ['Bawa Pulang Tersedia', 'Di dalam ruangan']   \n2      ['Bawa Pulang Tersedia', 'Area Merokok', 'Temp...   \n3           ['Bawa Pulang Tersedia', 'Di dalam ruangan']   \n4           ['Bawa Pulang Tersedia', 'Di dalam ruangan']   \n...                                                  ...   \n11262  ['Bawa Pulang Tersedia', 'Tempat duduk di luar...   \n11263  ['Sarapan', 'Bawa Pulang Tersedia', 'Di dalam ...   \n11264       ['Bawa Pulang Tersedia', 'Di dalam ruangan']   \n11265  ['Bawa Pulang Tersedia', 'Area Merokok', 'Temp...   \n11266  ['Bawa Pulang Tersedia', 'Di dalam ruangan', '...   \n\n       Additional Info Check Additional Info_b  \\\n0                      False               NaN   \n1                      False               NaN   \n2                      False               NaN   \n3                      False               NaN   \n4                      False               NaN   \n...                      ...               ...   \n11262                  False               NaN   \n11263                  False               NaN   \n11264                  False               NaN   \n11265                  False               NaN   \n11266                  False               NaN   \n\n                                         Additional Info  \n0      ['Hanya Wine dan Bir', 'Di dalam ruangan', 'Wi...  \n1           ['Bawa Pulang Tersedia', 'Di dalam ruangan']  \n2      ['Bawa Pulang Tersedia', 'Area Merokok', 'Temp...  \n3           ['Bawa Pulang Tersedia', 'Di dalam ruangan']  \n4           ['Bawa Pulang Tersedia', 'Di dalam ruangan']  \n...                                                  ...  \n11262  ['Bawa Pulang Tersedia', 'Tempat duduk di luar...  \n11263  ['Sarapan', 'Bawa Pulang Tersedia', 'Di dalam ...  \n11264       ['Bawa Pulang Tersedia', 'Di dalam ruangan']  \n11265  ['Bawa Pulang Tersedia', 'Area Merokok', 'Temp...  \n11266  ['Bawa Pulang Tersedia', 'Di dalam ruangan', '...  \n\n[11250 rows x 15 columns]",
      "text/html": "<div>\n<style scoped>\n    .dataframe tbody tr th:only-of-type {\n        vertical-align: middle;\n    }\n\n    .dataframe tbody tr th {\n        vertical-align: top;\n    }\n\n    .dataframe thead th {\n        text-align: right;\n    }\n</style>\n<table border=\"1\" class=\"dataframe\">\n  <thead>\n    <tr style=\"text-align: right;\">\n      <th></th>\n      <th>Restaurant Name</th>\n      <th>Restaurant Type</th>\n      <th>Cuisine Type</th>\n      <th>Restaurant Area</th>\n      <th>Restaurant Rating</th>\n      <th>Review Counts</th>\n      <th>Latitude</th>\n      <th>Longitude</th>\n      <th>Website</th>\n      <th>Restaurant Address</th>\n      <th>Price for 2</th>\n      <th>Additional Info_a</th>\n      <th>Additional Info Check</th>\n      <th>Additional Info_b</th>\n      <th>Additional Info</th>\n    </tr>\n  </thead>\n  <tbody>\n    <tr>\n      <th>0</th>\n      <td>Holy Smokes</td>\n      <td>Casual Dining</td>\n      <td>['Grill House', 'Steak']</td>\n      <td>Senopati</td>\n      <td>4.4</td>\n      <td>1,437 Ulasan</td>\n      <td>-6.2391432684</td>\n      <td>106.807954162</td>\n      <td>https://www.zomato.com/id/jakarta/holy-smokes-...</td>\n      <td>Jl. Wolter Monginsidi No. 27, Senopati, Jakarta</td>\n      <td>Rp500.000 untuk 2 orang (perkiraan)Tanpa alkohol</td>\n      <td>['Hanya Wine dan Bir', 'Di dalam ruangan', 'Wi...</td>\n      <td>False</td>\n      <td>NaN</td>\n      <td>['Hanya Wine dan Bir', 'Di dalam ruangan', 'Wi...</td>\n    </tr>\n    <tr>\n      <th>1</th>\n      <td>Pempek Megaria</td>\n      <td>Quick Bites</td>\n      <td>['Palembang']</td>\n      <td>Cikini</td>\n      <td>4.3</td>\n      <td>461 Ulasan</td>\n      <td>-6.1999000000</td>\n      <td>106.843739000</td>\n      <td>https://www.zomato.com/id/jakarta/pempek-megar...</td>\n      <td>Metropole 21, Jl. Pegangsaan Timur No. 21, Cik...</td>\n      <td>Rp70.000 untuk 2 orang (perkiraan)</td>\n      <td>['Bawa Pulang Tersedia', 'Di dalam ruangan']</td>\n      <td>False</td>\n      <td>NaN</td>\n      <td>['Bawa Pulang Tersedia', 'Di dalam ruangan']</td>\n    </tr>\n    <tr>\n      <th>2</th>\n      <td>Tjikinii Lima</td>\n      <td>Casual Dining</td>\n      <td>['Barat', 'Indonesia']</td>\n      <td>Cikini</td>\n      <td>4.0</td>\n      <td>391 Ulasan</td>\n      <td>-6.1898019937</td>\n      <td>106.837150007</td>\n      <td>https://www.zomato.com/id/jakarta/tjikinii-lim...</td>\n      <td>Jl. Cikini I No. 5, Cikini, Jakarta 10330</td>\n      <td>Rp300.000 untuk 2 orang (perkiraan)</td>\n      <td>['Bawa Pulang Tersedia', 'Area Merokok', 'Temp...</td>\n      <td>False</td>\n      <td>NaN</td>\n      <td>['Bawa Pulang Tersedia', 'Area Merokok', 'Temp...</td>\n    </tr>\n    <tr>\n      <th>3</th>\n      <td>Gado-Gado Bon-Bin</td>\n      <td>Quick Bites</td>\n      <td>['Jawa']</td>\n      <td>Cikini</td>\n      <td>4.0</td>\n      <td>177 Ulasan</td>\n      <td>-6.1929590000</td>\n      <td>106.838377000</td>\n      <td>https://www.zomato.com/id/jakarta/gado-gado-bo...</td>\n      <td>Jl. Cikini 4 No. 5, Cikini, Jakarta</td>\n      <td>Rp90.000 untuk 2 orang (perkiraan)</td>\n      <td>['Bawa Pulang Tersedia', 'Di dalam ruangan']</td>\n      <td>False</td>\n      <td>NaN</td>\n      <td>['Bawa Pulang Tersedia', 'Di dalam ruangan']</td>\n    </tr>\n    <tr>\n      <th>4</th>\n      <td>Koffie Fictie</td>\n      <td>Kafe</td>\n      <td>['Kopi']</td>\n      <td>Bekasi Selatan</td>\n      <td>Not Rated Yet</td>\n      <td>TIdak cukup Ulasan</td>\n      <td>-6.2720590000</td>\n      <td>106.970932000</td>\n      <td>https://www.zomato.com/id/jakarta/koffie-ficti...</td>\n      <td>Grand Galaxy Park, Ruko RSOD No. 026, Jl. Lotu...</td>\n      <td>Rp100.000 untuk 2 orang (perkiraan)</td>\n      <td>['Bawa Pulang Tersedia', 'Di dalam ruangan']</td>\n      <td>False</td>\n      <td>NaN</td>\n      <td>['Bawa Pulang Tersedia', 'Di dalam ruangan']</td>\n    </tr>\n    <tr>\n      <th>...</th>\n      <td>...</td>\n      <td>...</td>\n      <td>...</td>\n      <td>...</td>\n      <td>...</td>\n      <td>...</td>\n      <td>...</td>\n      <td>...</td>\n      <td>...</td>\n      <td>...</td>\n      <td>...</td>\n      <td>...</td>\n      <td>...</td>\n      <td>...</td>\n      <td>...</td>\n    </tr>\n    <tr>\n      <th>11262</th>\n      <td>Essence Coffee</td>\n      <td>Toko Minuman</td>\n      <td>['Kopi', 'Snacks']</td>\n      <td>Pondok Bambu</td>\n      <td>Not Rated Yet</td>\n      <td>Not Reviewed Yet</td>\n      <td>-6.2376240000</td>\n      <td>106.907457000</td>\n      <td>https://www.zomato.com/id/jakarta/essence-coff...</td>\n      <td>Jl. Bambu Ori Raya, Pondok Bambu, Jakarta</td>\n      <td>Rp80.000 untuk 2 orang (perkiraan)</td>\n      <td>['Bawa Pulang Tersedia', 'Tempat duduk di luar...</td>\n      <td>False</td>\n      <td>NaN</td>\n      <td>['Bawa Pulang Tersedia', 'Tempat duduk di luar...</td>\n    </tr>\n    <tr>\n      <th>11263</th>\n      <td>Senja Toast</td>\n      <td>Quick Bites</td>\n      <td>['Kue &amp; Roti']</td>\n      <td>Jagakarsa</td>\n      <td>Not Rated Yet</td>\n      <td>Not Reviewed Yet</td>\n      <td>-6.3443890000</td>\n      <td>106.832833000</td>\n      <td>https://www.zomato.com/id/jakarta/senja-toast-...</td>\n      <td>Jl. Raya Lenteng Agung, Jagakarsa, Jakarta</td>\n      <td>Rp60.000 untuk 2 orang (perkiraan)</td>\n      <td>['Sarapan', 'Bawa Pulang Tersedia', 'Di dalam ...</td>\n      <td>False</td>\n      <td>NaN</td>\n      <td>['Sarapan', 'Bawa Pulang Tersedia', 'Di dalam ...</td>\n    </tr>\n    <tr>\n      <th>11264</th>\n      <td>Express Juice</td>\n      <td>Toko Minuman</td>\n      <td>['Jus']</td>\n      <td>Bojongsari</td>\n      <td>Not Rated Yet</td>\n      <td>Not Reviewed Yet</td>\n      <td>-6.3611110000</td>\n      <td>106.747747000</td>\n      <td>https://www.zomato.com/id/jakarta/express-juic...</td>\n      <td>Jl. Raya Ciputat Parung no 60, Bojongsari, Depok</td>\n      <td>Rp50.000 untuk 2 orang (perkiraan)</td>\n      <td>['Bawa Pulang Tersedia', 'Di dalam ruangan']</td>\n      <td>False</td>\n      <td>NaN</td>\n      <td>['Bawa Pulang Tersedia', 'Di dalam ruangan']</td>\n    </tr>\n    <tr>\n      <th>11265</th>\n      <td>Ayam Selebriti</td>\n      <td>Quick Bites</td>\n      <td>['Indonesia']</td>\n      <td>Meruya</td>\n      <td>Not Rated Yet</td>\n      <td>Not Reviewed Yet</td>\n      <td>-6.2109790000</td>\n      <td>106.737538000</td>\n      <td>https://www.zomato.com/id/jakarta/ayam-selebri...</td>\n      <td>Jl. Meruya Selatan No.21, Meruya, Jakarta</td>\n      <td>Rp50.000 untuk 2 orang (perkiraan)</td>\n      <td>['Bawa Pulang Tersedia', 'Area Merokok', 'Temp...</td>\n      <td>False</td>\n      <td>NaN</td>\n      <td>['Bawa Pulang Tersedia', 'Area Merokok', 'Temp...</td>\n    </tr>\n    <tr>\n      <th>11266</th>\n      <td>Langit Coffee</td>\n      <td>Toko Minuman</td>\n      <td>['Kopi']</td>\n      <td>Kampung Melayu</td>\n      <td>Not Rated Yet</td>\n      <td>Not Reviewed Yet</td>\n      <td>-6.2305090000</td>\n      <td>106.866974000</td>\n      <td>https://www.zomato.com/id/jakarta/langit-coffe...</td>\n      <td>Jl. Otista Raya No. 60A, Kampung Melayu, Jakarta</td>\n      <td>Rp50.000 untuk 2 orang (perkiraan)</td>\n      <td>['Bawa Pulang Tersedia', 'Di dalam ruangan', '...</td>\n      <td>False</td>\n      <td>NaN</td>\n      <td>['Bawa Pulang Tersedia', 'Di dalam ruangan', '...</td>\n    </tr>\n  </tbody>\n</table>\n<p>11250 rows × 15 columns</p>\n</div>"
     },
     "metadata": {},
     "execution_count": 344
    }
   ],
   "source": [
    "rdf_comb_nd2[rdf_comb_nd2['Additional Info Check'] == False]"
   ]
  },
  {
   "cell_type": "code",
   "execution_count": 347,
   "metadata": {},
   "outputs": [],
   "source": [
    "rdf_comb_nd2.drop(['Additional Info Check'], axis=1, inplace=True)"
   ]
  },
  {
   "cell_type": "code",
   "execution_count": 388,
   "metadata": {},
   "outputs": [],
   "source": [
    "rdf_comb_nd2.to_csv(\"Zomato Restaurants DataFrame - No Duplicate - Final.csv\", index=False)\n",
    "rdf_comb_nd2.drop(['Website'], axis=1).to_csv(\"Zomato Restaurants DataFrame - No Duplicate - Final Without Website.csv\", index=False)"
   ]
  },
  {
   "cell_type": "code",
   "execution_count": 361,
   "metadata": {},
   "outputs": [],
   "source": [
    "rescrape = rdf_comb_nd2[rdf_comb_nd2['Additional Info'].isna()]['Website']"
   ]
  },
  {
   "cell_type": "code",
   "execution_count": 370,
   "metadata": {},
   "outputs": [],
   "source": [
    "rdf_comb_nd2 = pd.merge(left=rdf_comb_nd2, right=rdfscrape, how='left' ,left_on=['Restaurant Name','Website'], right_on=['Restaurant Name', 'Website'], suffixes=('_a','_b'))"
   ]
  },
  {
   "cell_type": "code",
   "execution_count": 375,
   "metadata": {},
   "outputs": [],
   "source": [
    "rdf_comb_nd2['Additional Info_a'].replace(np.nan,'No', inplace=True)"
   ]
  },
  {
   "cell_type": "code",
   "execution_count": 376,
   "metadata": {
    "tags": []
   },
   "outputs": [
    {
     "output_type": "stream",
     "name": "stdout",
     "text": "<class 'pandas.core.frame.DataFrame'>\nInt64Index: 11267 entries, 0 to 11266\nData columns (total 13 columns):\n #   Column              Non-Null Count  Dtype \n---  ------              --------------  ----- \n 0   Restaurant Name     11267 non-null  object\n 1   Restaurant Type     11267 non-null  object\n 2   Cuisine Type        11267 non-null  object\n 3   Restaurant Area     11267 non-null  object\n 4   Restaurant Rating   11267 non-null  object\n 5   Review Counts       11267 non-null  object\n 6   Latitude            11267 non-null  object\n 7   Longitude           11267 non-null  object\n 8   Website             11267 non-null  object\n 9   Restaurant Address  11267 non-null  object\n 10  Price for 2         11267 non-null  object\n 11  Additional Info_a   11267 non-null  object\n 12  Additional Info_b   1 non-null      object\ndtypes: object(13)\nmemory usage: 1.5+ MB\n"
    }
   ],
   "source": [
    "rdf_comb_nd2.info()"
   ]
  },
  {
   "cell_type": "code",
   "execution_count": 378,
   "metadata": {},
   "outputs": [],
   "source": [
    "def info_test2(row) :\n",
    "    if row['Additional Info_a'] == 'No':\n",
    "        return row['Additional Info_b']\n",
    "    else:\n",
    "        return row['Additional Info_a']"
   ]
  },
  {
   "cell_type": "code",
   "execution_count": 379,
   "metadata": {},
   "outputs": [],
   "source": [
    "rdf_comb_nd2['Additional Info'] = rdf_comb_nd2.apply(lambda row: info_test2(row), axis=1)"
   ]
  }
 ]
}